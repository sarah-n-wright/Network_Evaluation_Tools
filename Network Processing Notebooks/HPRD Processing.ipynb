{
 "cells": [
  {
   "cell_type": "code",
   "execution_count": 2,
   "metadata": {
    "ExecuteTime": {
     "end_time": "2022-01-17T23:28:00.982028Z",
     "start_time": "2022-01-17T23:27:52.999750Z"
    }
   },
   "outputs": [],
   "source": [
    "from network_evaluation_tools import gene_conversion_tools as gct\n",
    "from network_evaluation_tools import data_import_tools as dit\n",
    "import pandas as pd"
   ]
  },
  {
   "cell_type": "code",
   "execution_count": 1,
   "metadata": {
    "ExecuteTime": {
     "end_time": "2022-01-17T23:27:52.982516Z",
     "start_time": "2022-01-17T23:27:52.977164Z"
    }
   },
   "outputs": [],
   "source": [
    "wd = '/cellar/users/snwright/Data/Network_Analysis/'"
   ]
  },
  {
   "cell_type": "markdown",
   "metadata": {},
   "source": [
    "## Load HPRD Raw Data\n",
    "#### Source: http://www.hprd.org/download\n",
    "#### The file requires registration with the database. Download the file: HPRD_Release9_041310.tar.gz\n",
    "Downloaded: August 12, 2016  \n",
    "Last Updated: June 29, 2010  \n",
    "The following files are manipulated after unzipping the .tar.gz file"
   ]
  },
  {
   "cell_type": "code",
   "execution_count": 13,
   "metadata": {
    "ExecuteTime": {
     "end_time": "2022-01-17T23:38:25.442345Z",
     "start_time": "2022-01-17T23:38:25.390224Z"
    }
   },
   "outputs": [
    {
     "data": {
      "text/html": [
       "<div>\n",
       "<style scoped>\n",
       "    .dataframe tbody tr th:only-of-type {\n",
       "        vertical-align: middle;\n",
       "    }\n",
       "\n",
       "    .dataframe tbody tr th {\n",
       "        vertical-align: top;\n",
       "    }\n",
       "\n",
       "    .dataframe thead th {\n",
       "        text-align: right;\n",
       "    }\n",
       "</style>\n",
       "<table border=\"1\" class=\"dataframe\">\n",
       "  <thead>\n",
       "    <tr style=\"text-align: right;\">\n",
       "      <th></th>\n",
       "      <th>0</th>\n",
       "      <th>1</th>\n",
       "      <th>2</th>\n",
       "      <th>3</th>\n",
       "      <th>4</th>\n",
       "      <th>5</th>\n",
       "      <th>6</th>\n",
       "      <th>7</th>\n",
       "    </tr>\n",
       "  </thead>\n",
       "  <tbody>\n",
       "    <tr>\n",
       "      <th>0</th>\n",
       "      <td>ALDH1A1</td>\n",
       "      <td>1</td>\n",
       "      <td>NP_000680.2</td>\n",
       "      <td>ALDH1A1</td>\n",
       "      <td>1</td>\n",
       "      <td>NP_000680.2</td>\n",
       "      <td>in vivo;yeast 2-hybrid</td>\n",
       "      <td>12081471,16189514</td>\n",
       "    </tr>\n",
       "    <tr>\n",
       "      <th>1</th>\n",
       "      <td>ITGA7</td>\n",
       "      <td>2761</td>\n",
       "      <td>NP_001138468.1</td>\n",
       "      <td>CHRNA1</td>\n",
       "      <td>7</td>\n",
       "      <td>NP_001034612.1</td>\n",
       "      <td>in vivo</td>\n",
       "      <td>10910772</td>\n",
       "    </tr>\n",
       "    <tr>\n",
       "      <th>2</th>\n",
       "      <td>PPP1R9A</td>\n",
       "      <td>16000</td>\n",
       "      <td>NP_060120.2</td>\n",
       "      <td>ACTG1</td>\n",
       "      <td>17</td>\n",
       "      <td>NP_001605.1</td>\n",
       "      <td>in vitro;in vivo</td>\n",
       "      <td>9362513,12052877</td>\n",
       "    </tr>\n",
       "    <tr>\n",
       "      <th>3</th>\n",
       "      <td>SRGN</td>\n",
       "      <td>1513</td>\n",
       "      <td>NP_002718.2</td>\n",
       "      <td>CD44</td>\n",
       "      <td>115</td>\n",
       "      <td>NP_000601.3</td>\n",
       "      <td>in vivo</td>\n",
       "      <td>9334256</td>\n",
       "    </tr>\n",
       "    <tr>\n",
       "      <th>4</th>\n",
       "      <td>GRB7</td>\n",
       "      <td>3311</td>\n",
       "      <td>NP_005301.2</td>\n",
       "      <td>ERBB2</td>\n",
       "      <td>1281</td>\n",
       "      <td>NP_004439.2</td>\n",
       "      <td>in vitro;in vivo</td>\n",
       "      <td>9079677</td>\n",
       "    </tr>\n",
       "  </tbody>\n",
       "</table>\n",
       "</div>"
      ],
      "text/plain": [
       "         0      1               2        3     4               5  \\\n",
       "0  ALDH1A1      1     NP_000680.2  ALDH1A1     1     NP_000680.2   \n",
       "1    ITGA7   2761  NP_001138468.1   CHRNA1     7  NP_001034612.1   \n",
       "2  PPP1R9A  16000     NP_060120.2    ACTG1    17     NP_001605.1   \n",
       "3     SRGN   1513     NP_002718.2     CD44   115     NP_000601.3   \n",
       "4     GRB7   3311     NP_005301.2    ERBB2  1281     NP_004439.2   \n",
       "\n",
       "                        6                  7  \n",
       "0  in vivo;yeast 2-hybrid  12081471,16189514  \n",
       "1                 in vivo           10910772  \n",
       "2        in vitro;in vivo   9362513,12052877  \n",
       "3                 in vivo            9334256  \n",
       "4        in vitro;in vivo            9079677  "
      ]
     },
     "execution_count": 13,
     "metadata": {},
     "output_type": "execute_result"
    }
   ],
   "source": [
    "HPRD_Raw = pd.read_csv(wd+'Network_Data_Raw/HPRD_cleaned.txt',sep='\\t',header=None)"
   ]
  },
  {
   "cell_type": "code",
   "execution_count": 9,
   "metadata": {
    "ExecuteTime": {
     "end_time": "2022-01-17T23:37:38.096806Z",
     "start_time": "2022-01-17T23:37:38.095101Z"
    }
   },
   "outputs": [],
   "source": [
    "# Assign column names from README file from archive\n",
    "HPRD_Raw.columns = ['Interactor 1 Gene Symbol', 'Interactor 1 HPRD ID', 'Interactor 1 RefSeq ID',\n",
    "                    'Interactor 2 Gene Symbol', 'Interactor 2 HPRD ID', 'Interactor 2 RefSeq ID',\n",
    "                    'Experiment Type', 'PubMed ID']"
   ]
  },
  {
   "cell_type": "code",
   "execution_count": 10,
   "metadata": {
    "ExecuteTime": {
     "end_time": "2022-01-17T23:37:44.016929Z",
     "start_time": "2022-01-17T23:37:43.959598Z"
    }
   },
   "outputs": [
    {
     "name": "stdout",
     "output_type": "stream",
     "text": [
      "Edges in HPRD: 39240\n"
     ]
    }
   ],
   "source": [
    "# Convert table of interactions to edgelist (no scores given)\n",
    "# Also no gene symbol conversion necessary because network is given in symbol format already\n",
    "HPRD_edgelist = HPRD_Raw[['Interactor 1 Gene Symbol', 'Interactor 2 Gene Symbol']].values.tolist()\n",
    "print('Edges in HPRD:', len(HPRD_edgelist))"
   ]
  },
  {
   "cell_type": "code",
   "execution_count": 11,
   "metadata": {
    "ExecuteTime": {
     "end_time": "2022-01-17T23:37:47.289814Z",
     "start_time": "2022-01-17T23:37:47.279069Z"
    }
   },
   "outputs": [],
   "source": [
    "# Sort each edge representation for filtering\n",
    "HPRD_edgelist_sorted = [sorted(edge) for edge in HPRD_edgelist]"
   ]
  },
  {
   "cell_type": "code",
   "execution_count": 14,
   "metadata": {
    "ExecuteTime": {
     "end_time": "2022-01-17T23:39:21.825961Z",
     "start_time": "2022-01-17T23:39:21.782573Z"
    }
   },
   "outputs": [
    {
     "name": "stdout",
     "output_type": "stream",
     "text": [
      "39240 input edges\n",
      "2160 self-edges removed\n",
      "0 edges with un-mapped genes removed\n",
      "41 duplicate edges removed\n",
      "Edge list filtered: 0.04 seconds\n",
      "37039 Edges remaining\n"
     ]
    }
   ],
   "source": [
    "# Original\n",
    "# 39240 input edges\n",
    "# 2160 self-edges removed\n",
    "# 0 edges with un-mapped genes removed\n",
    "# 41 duplicate edges removed\n",
    "# Edge list filtered: 0.05 seconds\n",
    "# 37039 Edges remaining\n",
    "# Filter edgelist for duplicate nodes and for self-edges\n",
    "HPRD_edgelist_filt = gct.filter_converted_edgelist(pd.DataFrame(HPRD_edgelist_sorted, columns=[\"symbol_n1\", \"symbol_n2\"]))"
   ]
  },
  {
   "cell_type": "code",
   "execution_count": 15,
   "metadata": {
    "ExecuteTime": {
     "end_time": "2022-01-17T23:40:28.050100Z",
     "start_time": "2022-01-17T23:40:27.962019Z"
    }
   },
   "outputs": [
    {
     "name": "stdout",
     "output_type": "stream",
     "text": [
      "Edge list saved: 0.09 seconds\n"
     ]
    }
   ],
   "source": [
    "# Save genelist to file\n",
    "gct.write_edgelist(HPRD_edgelist_filt, wd+'Processed_Data/Network_SIFs_Symbol/HPRD_Symbol_2010.sif')"
   ]
  }
 ],
 "metadata": {
  "kernelspec": {
   "display_name": "Python [conda env:pcnet_py3]",
   "language": "python",
   "name": "conda-env-pcnet_py3-py"
  },
  "language_info": {
   "codemirror_mode": {
    "name": "ipython",
    "version": 3
   },
   "file_extension": ".py",
   "mimetype": "text/x-python",
   "name": "python",
   "nbconvert_exporter": "python",
   "pygments_lexer": "ipython3",
   "version": "3.10.0"
  },
  "toc": {
   "base_numbering": 1,
   "nav_menu": {},
   "number_sections": true,
   "sideBar": true,
   "skip_h1_title": false,
   "title_cell": "Table of Contents",
   "title_sidebar": "Contents",
   "toc_cell": false,
   "toc_position": {},
   "toc_section_display": true,
   "toc_window_display": false
  },
  "varInspector": {
   "cols": {
    "lenName": 16,
    "lenType": 16,
    "lenVar": 40
   },
   "kernels_config": {
    "python": {
     "delete_cmd_postfix": "",
     "delete_cmd_prefix": "del ",
     "library": "var_list.py",
     "varRefreshCmd": "print(var_dic_list())"
    },
    "r": {
     "delete_cmd_postfix": ") ",
     "delete_cmd_prefix": "rm(",
     "library": "var_list.r",
     "varRefreshCmd": "cat(var_dic_list()) "
    }
   },
   "types_to_exclude": [
    "module",
    "function",
    "builtin_function_or_method",
    "instance",
    "_Feature"
   ],
   "window_display": false
  }
 },
 "nbformat": 4,
 "nbformat_minor": 1
}
