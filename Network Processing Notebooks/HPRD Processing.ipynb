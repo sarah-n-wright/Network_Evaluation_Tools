{
 "cells": [
  {
   "cell_type": "code",
   "execution_count": 1,
   "metadata": {
    "ExecuteTime": {
     "end_time": "2022-04-18T19:26:10.569892Z",
     "start_time": "2022-04-18T19:25:46.804281Z"
    }
   },
   "outputs": [],
   "source": [
    "from network_evaluation_tools import gene_conversion_tools as gct\n",
    "from network_evaluation_tools import data_import_tools as dit\n",
    "import pandas as pd"
   ]
  },
  {
   "cell_type": "code",
   "execution_count": 2,
   "metadata": {
    "ExecuteTime": {
     "end_time": "2022-04-18T19:26:10.574197Z",
     "start_time": "2022-04-18T19:26:10.570922Z"
    }
   },
   "outputs": [],
   "source": [
    "wd = '/cellar/users/snwright/Data/Network_Analysis/'"
   ]
  },
  {
   "cell_type": "markdown",
   "metadata": {},
   "source": [
    "## Version 1\n",
    "**Source: http://www.hprd.org/download**  \n",
    "**The file requires registration with the database. Download the file: HPRD_Release9_041310.tar.gz**  \n",
    "Downloaded: August 12, 2016  \n",
    "Last Updated: June 29, 2010  \n",
    "The following files are manipulated after unzipping the .tar.gz file"
   ]
  },
  {
   "cell_type": "markdown",
   "metadata": {},
   "source": [
    "## Import data"
   ]
  },
  {
   "cell_type": "code",
   "execution_count": 3,
   "metadata": {
    "ExecuteTime": {
     "end_time": "2022-04-18T19:26:10.834899Z",
     "start_time": "2022-04-18T19:26:10.574876Z"
    }
   },
   "outputs": [],
   "source": [
    "input_raw = pd.read_csv(wd+'Network_Data_Raw/HPRD_cleaned.txt',sep='\\t',header=None)"
   ]
  },
  {
   "cell_type": "code",
   "execution_count": 4,
   "metadata": {
    "ExecuteTime": {
     "end_time": "2022-04-18T19:26:10.838962Z",
     "start_time": "2022-04-18T19:26:10.835669Z"
    }
   },
   "outputs": [],
   "source": [
    "# Assign column names from README file from archive\n",
    "input_raw.columns = ['Interactor 1 Gene Symbol', 'Interactor 1 HPRD ID', 'Interactor 1 RefSeq ID',\n",
    "                    'Interactor 2 Gene Symbol', 'Interactor 2 HPRD ID', 'Interactor 2 RefSeq ID',\n",
    "                    'Experiment Type', 'PubMed ID']"
   ]
  },
  {
   "cell_type": "code",
   "execution_count": 5,
   "metadata": {
    "ExecuteTime": {
     "end_time": "2022-04-18T19:26:10.877861Z",
     "start_time": "2022-04-18T19:26:10.840249Z"
    }
   },
   "outputs": [
    {
     "name": "stdout",
     "output_type": "stream",
     "text": [
      "Edges in HPRD: 39240\n"
     ]
    }
   ],
   "source": [
    "# Convert table of interactions to edgelist (no scores given)\n",
    "# Also no gene symbol conversion necessary because network is given in symbol format already\n",
    "edgelist = input_raw.loc[:, ['Interactor 1 Gene Symbol', 'Interactor 2 Gene Symbol']]\n",
    "print('Edges in HPRD:', len(edgelist))"
   ]
  },
  {
   "cell_type": "code",
   "execution_count": 6,
   "metadata": {
    "ExecuteTime": {
     "end_time": "2022-04-18T19:26:10.893345Z",
     "start_time": "2022-04-18T19:26:10.878678Z"
    }
   },
   "outputs": [],
   "source": [
    "edgelist_sorted = gct.sort_node_pairs(edgelist)"
   ]
  },
  {
   "cell_type": "code",
   "execution_count": 7,
   "metadata": {
    "ExecuteTime": {
     "end_time": "2022-04-18T19:26:10.959929Z",
     "start_time": "2022-04-18T19:26:10.894003Z"
    }
   },
   "outputs": [],
   "source": [
    "edgelist_sorted['Interactor 1 Gene Symbol'] = edgelist_sorted['Interactor 1 Gene Symbol'].apply(lambda x: \"\".join(x.split(\"$\")))\n",
    "edgelist_sorted['Interactor 2 Gene Symbol'] = edgelist_sorted['Interactor 2 Gene Symbol'].apply(lambda x: \"\".join(x.split(\"$\")))"
   ]
  },
  {
   "cell_type": "markdown",
   "metadata": {},
   "source": [
    "## Update gene symbols"
   ]
  },
  {
   "cell_type": "code",
   "execution_count": 8,
   "metadata": {
    "ExecuteTime": {
     "end_time": "2022-04-18T19:26:11.513024Z",
     "start_time": "2022-04-18T19:26:10.960676Z"
    }
   },
   "outputs": [],
   "source": [
    "# check that symbols are up to data\n",
    "check_names = list(set(edgelist_sorted.iloc[:, 0]).union(set(edgelist_sorted.iloc[:, 1])))\n",
    "mapped, unmapped = gct.query_against_dataset(\"~/Data/Network_Analysis/Reference_Data/HGNC_download_2022.txt\",\n",
    "                              check_names, return_as_dict=False)"
   ]
  },
  {
   "cell_type": "code",
   "execution_count": 9,
   "metadata": {
    "ExecuteTime": {
     "end_time": "2022-04-18T19:26:11.517050Z",
     "start_time": "2022-04-18T19:26:11.513964Z"
    }
   },
   "outputs": [],
   "source": [
    "mapped.columns = [\"query\", \"symbol\", \"entrezgene\"]\n",
    "mapped = mapped.assign(_score=0)"
   ]
  },
  {
   "cell_type": "code",
   "execution_count": 10,
   "metadata": {
    "ExecuteTime": {
     "end_time": "2022-04-18T19:26:11.619952Z",
     "start_time": "2022-04-18T19:26:11.517742Z"
    }
   },
   "outputs": [
    {
     "name": "stdout",
     "output_type": "stream",
     "text": [
      "Number of genes with multiple matches: 3\n",
      "Number of unmatched genes: 0\n",
      "Number of fully matched genes: 9536\n",
      "Number of partially matched genes: 77\n"
     ]
    }
   ],
   "source": [
    "match_table_trim, query_to_symbol, query_to_entrez = gct.construct_query_map_table(mapped, check_names)"
   ]
  },
  {
   "cell_type": "code",
   "execution_count": 11,
   "metadata": {
    "ExecuteTime": {
     "end_time": "2022-04-18T19:26:11.638377Z",
     "start_time": "2022-04-18T19:26:11.620703Z"
    }
   },
   "outputs": [],
   "source": [
    "edgelist_updated = gct.convert_edgelist(edgelist_sorted, query_to_symbol)"
   ]
  },
  {
   "cell_type": "code",
   "execution_count": 12,
   "metadata": {
    "ExecuteTime": {
     "end_time": "2022-04-18T19:26:11.660956Z",
     "start_time": "2022-04-18T19:26:11.639182Z"
    }
   },
   "outputs": [
    {
     "name": "stdout",
     "output_type": "stream",
     "text": [
      "39240 input edges\n",
      "2154 self-edges removed\n",
      "204 edges with un-mapped genes removed\n",
      "24 duplicate edges removed\n",
      "Edge list filtered: 0.02 seconds\n",
      "36858 Edges remaining\n"
     ]
    }
   ],
   "source": [
    "# Original\n",
    "# 39240 input edges\n",
    "# 2160 self-edges removed\n",
    "# 0 edges with un-mapped genes removed\n",
    "# 41 duplicate edges removed\n",
    "# Edge list filtered: 0.05 seconds\n",
    "# 37039 Edges remaining\n",
    "# Filter edgelist for duplicate nodes and for self-edges\n",
    "edgelist_filt = gct.filter_converted_edgelist(edgelist_updated)"
   ]
  },
  {
   "cell_type": "markdown",
   "metadata": {},
   "source": [
    "## Save network"
   ]
  },
  {
   "cell_type": "code",
   "execution_count": 13,
   "metadata": {
    "ExecuteTime": {
     "end_time": "2022-04-18T19:26:11.761631Z",
     "start_time": "2022-04-18T19:26:11.661775Z"
    }
   },
   "outputs": [
    {
     "name": "stdout",
     "output_type": "stream",
     "text": [
      "Edge list saved: 0.1 seconds\n"
     ]
    }
   ],
   "source": [
    "# Save genelist to file\n",
    "gct.write_edgelist(edgelist_filt, wd+'Processed_Data/Network_SIFs_Symbol/HPRD_Symbol_2010.sif')"
   ]
  },
  {
   "cell_type": "code",
   "execution_count": 16,
   "metadata": {
    "ExecuteTime": {
     "end_time": "2022-04-18T19:27:07.817739Z",
     "start_time": "2022-04-18T19:27:07.794023Z"
    }
   },
   "outputs": [
    {
     "data": {
      "text/html": [
       "<div>\n",
       "<style scoped>\n",
       "    .dataframe tbody tr th:only-of-type {\n",
       "        vertical-align: middle;\n",
       "    }\n",
       "\n",
       "    .dataframe tbody tr th {\n",
       "        vertical-align: top;\n",
       "    }\n",
       "\n",
       "    .dataframe thead th {\n",
       "        text-align: right;\n",
       "    }\n",
       "</style>\n",
       "<table border=\"1\" class=\"dataframe\">\n",
       "  <thead>\n",
       "    <tr style=\"text-align: right;\">\n",
       "      <th></th>\n",
       "      <th>Symbol</th>\n",
       "      <th>Score</th>\n",
       "      <th>EntrezID</th>\n",
       "    </tr>\n",
       "    <tr>\n",
       "      <th>Query</th>\n",
       "      <th></th>\n",
       "      <th></th>\n",
       "      <th></th>\n",
       "    </tr>\n",
       "  </thead>\n",
       "  <tbody>\n",
       "    <tr>\n",
       "      <th>A1BG</th>\n",
       "      <td>A1BG</td>\n",
       "      <td>0</td>\n",
       "      <td>1</td>\n",
       "    </tr>\n",
       "    <tr>\n",
       "      <th>NAT2</th>\n",
       "      <td>NAT2</td>\n",
       "      <td>0</td>\n",
       "      <td>10</td>\n",
       "    </tr>\n",
       "    <tr>\n",
       "      <th>ADA</th>\n",
       "      <td>ADA</td>\n",
       "      <td>0</td>\n",
       "      <td>100</td>\n",
       "    </tr>\n",
       "    <tr>\n",
       "      <th>CDH2</th>\n",
       "      <td>CDH2</td>\n",
       "      <td>0</td>\n",
       "      <td>1000</td>\n",
       "    </tr>\n",
       "    <tr>\n",
       "      <th>AKT3</th>\n",
       "      <td>AKT3</td>\n",
       "      <td>0</td>\n",
       "      <td>10000</td>\n",
       "    </tr>\n",
       "  </tbody>\n",
       "</table>\n",
       "</div>"
      ],
      "text/plain": [
       "      Symbol  Score EntrezID\n",
       "Query                       \n",
       "A1BG    A1BG      0        1\n",
       "NAT2    NAT2      0       10\n",
       "ADA      ADA      0      100\n",
       "CDH2    CDH2      0     1000\n",
       "AKT3    AKT3      0    10000"
      ]
     },
     "execution_count": 16,
     "metadata": {},
     "output_type": "execute_result"
    }
   ],
   "source": [
    "match_table_trim.drop"
   ]
  }
 ],
 "metadata": {
  "kernelspec": {
   "display_name": "Python [conda env:pcnet_py3]",
   "language": "python",
   "name": "conda-env-pcnet_py3-py"
  },
  "language_info": {
   "codemirror_mode": {
    "name": "ipython",
    "version": 3
   },
   "file_extension": ".py",
   "mimetype": "text/x-python",
   "name": "python",
   "nbconvert_exporter": "python",
   "pygments_lexer": "ipython3",
   "version": "3.10.0"
  },
  "toc": {
   "base_numbering": 1,
   "nav_menu": {},
   "number_sections": true,
   "sideBar": true,
   "skip_h1_title": false,
   "title_cell": "Table of Contents",
   "title_sidebar": "Contents",
   "toc_cell": false,
   "toc_position": {},
   "toc_section_display": true,
   "toc_window_display": true
  },
  "varInspector": {
   "cols": {
    "lenName": 16,
    "lenType": 16,
    "lenVar": 40
   },
   "kernels_config": {
    "python": {
     "delete_cmd_postfix": "",
     "delete_cmd_prefix": "del ",
     "library": "var_list.py",
     "varRefreshCmd": "print(var_dic_list())"
    },
    "r": {
     "delete_cmd_postfix": ") ",
     "delete_cmd_prefix": "rm(",
     "library": "var_list.r",
     "varRefreshCmd": "cat(var_dic_list()) "
    }
   },
   "types_to_exclude": [
    "module",
    "function",
    "builtin_function_or_method",
    "instance",
    "_Feature"
   ],
   "window_display": false
  }
 },
 "nbformat": 4,
 "nbformat_minor": 1
}
