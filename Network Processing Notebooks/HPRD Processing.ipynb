{
 "cells": [
  {
   "cell_type": "code",
   "execution_count": 1,
   "metadata": {
    "ExecuteTime": {
     "end_time": "2022-02-01T22:05:57.668215Z",
     "start_time": "2022-02-01T22:05:54.418044Z"
    }
   },
   "outputs": [],
   "source": [
    "from network_evaluation_tools import gene_conversion_tools as gct\n",
    "from network_evaluation_tools import data_import_tools as dit\n",
    "import pandas as pd"
   ]
  },
  {
   "cell_type": "code",
   "execution_count": 2,
   "metadata": {
    "ExecuteTime": {
     "end_time": "2022-02-01T22:05:57.675720Z",
     "start_time": "2022-02-01T22:05:57.674170Z"
    }
   },
   "outputs": [],
   "source": [
    "wd = '/cellar/users/snwright/Data/Network_Analysis/'"
   ]
  },
  {
   "cell_type": "markdown",
   "metadata": {},
   "source": [
    "## Version 1\n",
    "**Source: http://www.hprd.org/download**  \n",
    "**The file requires registration with the database. Download the file: HPRD_Release9_041310.tar.gz**  \n",
    "Downloaded: August 12, 2016  \n",
    "Last Updated: June 29, 2010  \n",
    "The following files are manipulated after unzipping the .tar.gz file"
   ]
  },
  {
   "cell_type": "markdown",
   "metadata": {},
   "source": [
    "## Import data"
   ]
  },
  {
   "cell_type": "code",
   "execution_count": 3,
   "metadata": {
    "ExecuteTime": {
     "end_time": "2022-02-01T22:06:22.240332Z",
     "start_time": "2022-02-01T22:06:22.002763Z"
    }
   },
   "outputs": [],
   "source": [
    "input_raw = pd.read_csv(wd+'Network_Data_Raw/HPRD_cleaned.txt',sep='\\t',header=None)"
   ]
  },
  {
   "cell_type": "code",
   "execution_count": 4,
   "metadata": {
    "ExecuteTime": {
     "end_time": "2022-02-01T22:06:28.277447Z",
     "start_time": "2022-02-01T22:06:28.275100Z"
    }
   },
   "outputs": [],
   "source": [
    "# Assign column names from README file from archive\n",
    "input_raw.columns = ['Interactor 1 Gene Symbol', 'Interactor 1 HPRD ID', 'Interactor 1 RefSeq ID',\n",
    "                    'Interactor 2 Gene Symbol', 'Interactor 2 HPRD ID', 'Interactor 2 RefSeq ID',\n",
    "                    'Experiment Type', 'PubMed ID']"
   ]
  },
  {
   "cell_type": "code",
   "execution_count": 5,
   "metadata": {
    "ExecuteTime": {
     "end_time": "2022-02-01T22:06:54.540993Z",
     "start_time": "2022-02-01T22:06:54.535646Z"
    }
   },
   "outputs": [
    {
     "name": "stdout",
     "output_type": "stream",
     "text": [
      "Edges in HPRD: 39240\n"
     ]
    }
   ],
   "source": [
    "# Convert table of interactions to edgelist (no scores given)\n",
    "# Also no gene symbol conversion necessary because network is given in symbol format already\n",
    "edgelist = input_raw.loc[:, ['Interactor 1 Gene Symbol', 'Interactor 2 Gene Symbol']]\n",
    "print('Edges in HPRD:', len(edgelist))"
   ]
  },
  {
   "cell_type": "code",
   "execution_count": 6,
   "metadata": {
    "ExecuteTime": {
     "end_time": "2022-02-01T22:07:24.104080Z",
     "start_time": "2022-02-01T22:07:24.094506Z"
    }
   },
   "outputs": [],
   "source": [
    "edgelist_sorted = gct.sort_node_pairs(edgelist)"
   ]
  },
  {
   "cell_type": "code",
   "execution_count": 24,
   "metadata": {
    "ExecuteTime": {
     "end_time": "2022-02-01T22:19:48.714896Z",
     "start_time": "2022-02-01T22:19:48.696856Z"
    }
   },
   "outputs": [],
   "source": [
    "edgelist_sorted['Interactor 1 Gene Symbol'] = edgelist_sorted['Interactor 1 Gene Symbol'].apply(lambda x: \"\".join(x.split(\"$\")))\n",
    "edgelist_sorted['Interactor 2 Gene Symbol'] = edgelist_sorted['Interactor 2 Gene Symbol'].apply(lambda x: \"\".join(x.split(\"$\")))"
   ]
  },
  {
   "cell_type": "markdown",
   "metadata": {},
   "source": [
    "## Update gene symbols"
   ]
  },
  {
   "cell_type": "code",
   "execution_count": 25,
   "metadata": {
    "ExecuteTime": {
     "end_time": "2022-02-01T22:19:51.017259Z",
     "start_time": "2022-02-01T22:19:50.792616Z"
    }
   },
   "outputs": [],
   "source": [
    "# check that symbols are up to data\n",
    "check_names = list(set(edgelist_sorted.iloc[:, 0]).union(set(edgelist_sorted.iloc[:, 1])))\n",
    "mapped, unmapped = gct.query_against_dataset(\"~/Data/Network_Analysis/Reference_Data/HGNC_download_2022.txt\",\n",
    "                              check_names, return_as_dict=False)"
   ]
  },
  {
   "cell_type": "code",
   "execution_count": 26,
   "metadata": {
    "ExecuteTime": {
     "end_time": "2022-02-01T22:19:52.100153Z",
     "start_time": "2022-02-01T22:19:52.097445Z"
    }
   },
   "outputs": [],
   "source": [
    "mapped.columns = [\"query\", \"symbol\", \"entrezgene\"]\n",
    "mapped = mapped.assign(_score=0)"
   ]
  },
  {
   "cell_type": "code",
   "execution_count": 27,
   "metadata": {
    "ExecuteTime": {
     "end_time": "2022-02-01T22:19:52.870431Z",
     "start_time": "2022-02-01T22:19:52.826512Z"
    }
   },
   "outputs": [
    {
     "name": "stdout",
     "output_type": "stream",
     "text": [
      "Number of genes with multiple matches: 3\n",
      "Number of unmatched genes: 0\n",
      "Number of fully matched genes: 9536\n",
      "Number of partially matched genes: 77\n"
     ]
    }
   ],
   "source": [
    "match_table_trim, query_to_symbol, query_to_entrez = gct.construct_query_map_table(mapped, check_names)"
   ]
  },
  {
   "cell_type": "code",
   "execution_count": 28,
   "metadata": {
    "ExecuteTime": {
     "end_time": "2022-02-01T22:19:54.362525Z",
     "start_time": "2022-02-01T22:19:54.337094Z"
    }
   },
   "outputs": [],
   "source": [
    "edgelist_updated = gct.convert_edgelist(edgelist_sorted, query_to_symbol)"
   ]
  },
  {
   "cell_type": "code",
   "execution_count": 30,
   "metadata": {
    "ExecuteTime": {
     "end_time": "2022-02-01T22:20:10.268645Z",
     "start_time": "2022-02-01T22:20:10.243232Z"
    }
   },
   "outputs": [
    {
     "name": "stdout",
     "output_type": "stream",
     "text": [
      "39240 input edges\n",
      "2154 self-edges removed\n",
      "204 edges with un-mapped genes removed\n",
      "24 duplicate edges removed\n",
      "Edge list filtered: 0.02 seconds\n",
      "36858 Edges remaining\n"
     ]
    }
   ],
   "source": [
    "# Original\n",
    "# 39240 input edges\n",
    "# 2160 self-edges removed\n",
    "# 0 edges with un-mapped genes removed\n",
    "# 41 duplicate edges removed\n",
    "# Edge list filtered: 0.05 seconds\n",
    "# 37039 Edges remaining\n",
    "# Filter edgelist for duplicate nodes and for self-edges\n",
    "edgelist_filt = gct.filter_converted_edgelist(edgelist_updated)"
   ]
  },
  {
   "cell_type": "markdown",
   "metadata": {},
   "source": [
    "## Save network"
   ]
  },
  {
   "cell_type": "code",
   "execution_count": 31,
   "metadata": {
    "ExecuteTime": {
     "end_time": "2022-02-01T22:20:17.261549Z",
     "start_time": "2022-02-01T22:20:17.181014Z"
    }
   },
   "outputs": [
    {
     "name": "stdout",
     "output_type": "stream",
     "text": [
      "Edge list saved: 0.08 seconds\n"
     ]
    }
   ],
   "source": [
    "# Save genelist to file\n",
    "gct.write_edgelist(edgelist_filt, wd+'Processed_Data/Network_SIFs_Symbol/HPRD_Symbol_2010.sif')"
   ]
  }
 ],
 "metadata": {
  "kernelspec": {
   "display_name": "Python [conda env:pcnet_py3]",
   "language": "python",
   "name": "conda-env-pcnet_py3-py"
  },
  "language_info": {
   "codemirror_mode": {
    "name": "ipython",
    "version": 3
   },
   "file_extension": ".py",
   "mimetype": "text/x-python",
   "name": "python",
   "nbconvert_exporter": "python",
   "pygments_lexer": "ipython3",
   "version": "3.10.0"
  },
  "toc": {
   "base_numbering": 1,
   "nav_menu": {},
   "number_sections": true,
   "sideBar": true,
   "skip_h1_title": false,
   "title_cell": "Table of Contents",
   "title_sidebar": "Contents",
   "toc_cell": false,
   "toc_position": {},
   "toc_section_display": true,
   "toc_window_display": true
  },
  "varInspector": {
   "cols": {
    "lenName": 16,
    "lenType": 16,
    "lenVar": 40
   },
   "kernels_config": {
    "python": {
     "delete_cmd_postfix": "",
     "delete_cmd_prefix": "del ",
     "library": "var_list.py",
     "varRefreshCmd": "print(var_dic_list())"
    },
    "r": {
     "delete_cmd_postfix": ") ",
     "delete_cmd_prefix": "rm(",
     "library": "var_list.r",
     "varRefreshCmd": "cat(var_dic_list()) "
    }
   },
   "types_to_exclude": [
    "module",
    "function",
    "builtin_function_or_method",
    "instance",
    "_Feature"
   ],
   "window_display": false
  }
 },
 "nbformat": 4,
 "nbformat_minor": 1
}
