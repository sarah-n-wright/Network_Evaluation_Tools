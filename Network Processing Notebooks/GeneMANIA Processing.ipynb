{
 "cells": [
  {
   "cell_type": "code",
   "execution_count": 1,
   "metadata": {
    "ExecuteTime": {
     "end_time": "2022-04-18T22:26:27.625985Z",
     "start_time": "2022-04-18T22:26:10.947219Z"
    }
   },
   "outputs": [],
   "source": [
    "from network_evaluation_tools import gene_conversion_tools as gct\n",
    "from network_evaluation_tools import data_import_tools as dit\n",
    "import pandas as pd\n",
    "import time\n",
    "import matplotlib.pyplot as plt"
   ]
  },
  {
   "cell_type": "code",
   "execution_count": 2,
   "metadata": {
    "ExecuteTime": {
     "end_time": "2022-04-18T22:26:27.633224Z",
     "start_time": "2022-04-18T22:26:27.631700Z"
    }
   },
   "outputs": [],
   "source": [
    "wd = '/cellar/users/snwright/Data/Network_Analysis/'"
   ]
  },
  {
   "cell_type": "markdown",
   "metadata": {},
   "source": [
    "# Version 2.0\n"
   ]
  },
  {
   "cell_type": "markdown",
   "metadata": {},
   "source": [
    "## Load GeneMANIA Raw Data\n",
    "**Source: http://genemania.org/data/archive/2021-04-19/Homo_sapiens.COMBINED/COMBINED.DEFAULT_NETWORKS.BP_COMBINING.txt**   \n",
    "Downloaded: November, 2021  \n",
    "Last Updated: April 19, 2021"
   ]
  },
  {
   "cell_type": "code",
   "execution_count": 3,
   "metadata": {
    "ExecuteTime": {
     "end_time": "2022-04-18T22:26:30.731390Z",
     "start_time": "2022-04-18T22:26:27.634593Z"
    }
   },
   "outputs": [],
   "source": [
    "input_raw_v2 = pd.read_csv(wd+'/Network_Data_Raw/GeneMania_2021_COMBINED.DEFAULT_NETWORKS.BP_COMBINING.txt',sep='\\t')"
   ]
  },
  {
   "cell_type": "code",
   "execution_count": 4,
   "metadata": {
    "ExecuteTime": {
     "end_time": "2022-04-18T22:26:32.279175Z",
     "start_time": "2022-04-18T22:26:30.732497Z"
    }
   },
   "outputs": [],
   "source": [
    "genes_v2 = list(set(input_raw_v2['Gene_A']).union(set(input_raw_v2['Gene_B'])))"
   ]
  },
  {
   "cell_type": "code",
   "execution_count": 5,
   "metadata": {
    "ExecuteTime": {
     "end_time": "2022-04-18T22:26:37.953738Z",
     "start_time": "2022-04-18T22:26:32.280121Z"
    }
   },
   "outputs": [
    {
     "name": "stdout",
     "output_type": "stream",
     "text": [
      "11749785 Total GeneMANIA Edges\n"
     ]
    }
   ],
   "source": [
    "# Get Edgelist of network\n",
    "edgelist_v2 = input_raw_v2[['Gene_A','Gene_B', 'Weight']].values.tolist()\n",
    "print(len(edgelist_v2), \"Total GeneMANIA Edges\")"
   ]
  },
  {
   "cell_type": "markdown",
   "metadata": {},
   "source": [
    "## Convert Genes (from uniprot to gene symbol)"
   ]
  },
  {
   "cell_type": "code",
   "execution_count": 6,
   "metadata": {
    "ExecuteTime": {
     "end_time": "2022-04-18T22:26:37.991289Z",
     "start_time": "2022-04-18T22:26:37.954779Z"
    }
   },
   "outputs": [
    {
     "name": "stdout",
     "output_type": "stream",
     "text": [
      "19680 Valid Query Genes\n",
      "0 Invalid Query Genes\n"
     ]
    }
   ],
   "source": [
    "query_string_v2, valid_genes_v2, invalid_genes_v2 = gct.query_constructor(genes_v2)"
   ]
  },
  {
   "cell_type": "code",
   "execution_count": 7,
   "metadata": {
    "ExecuteTime": {
     "end_time": "2022-04-18T22:26:37.998519Z",
     "start_time": "2022-04-18T22:26:37.991983Z"
    }
   },
   "outputs": [],
   "source": [
    "ensembl_genes = [gene for gene in valid_genes_v2 if \"ENSG\" in gene]"
   ]
  },
  {
   "cell_type": "code",
   "execution_count": 8,
   "metadata": {
    "ExecuteTime": {
     "end_time": "2022-04-18T22:26:38.011117Z",
     "start_time": "2022-04-18T22:26:37.999241Z"
    }
   },
   "outputs": [],
   "source": [
    "# Set scopes (gene naming systems to search)\n",
    "scopes = \"uniprot,ensemblgene\"\n",
    "\n",
    "# Set fields (systems from which to return gene names from)\n",
    "fields = \"symbol,entrezgene\""
   ]
  },
  {
   "cell_type": "code",
   "execution_count": 9,
   "metadata": {
    "ExecuteTime": {
     "end_time": "2022-04-18T22:26:53.673056Z",
     "start_time": "2022-04-18T22:26:38.011757Z"
    }
   },
   "outputs": [
    {
     "name": "stderr",
     "output_type": "stream",
     "text": [
      "100%|██████████| 20/20 [00:15<00:00,  1.30it/s]"
     ]
    },
    {
     "name": "stdout",
     "output_type": "stream",
     "text": [
      "19859 Matched query results\n",
      "Batch query complete: 15.65 seconds\n"
     ]
    },
    {
     "name": "stderr",
     "output_type": "stream",
     "text": [
      "\n"
     ]
    }
   ],
   "source": [
    "# Query MyGene.Info\n",
    "match_list_v2 = gct.query_batch(query_string_v2, scopes=scopes, fields=fields)"
   ]
  },
  {
   "cell_type": "code",
   "execution_count": 10,
   "metadata": {
    "ExecuteTime": {
     "end_time": "2022-04-18T22:26:53.690668Z",
     "start_time": "2022-04-18T22:26:53.673880Z"
    }
   },
   "outputs": [],
   "source": [
    "match_list_v2 = pd.DataFrame.from_dict(match_list_v2)"
   ]
  },
  {
   "cell_type": "code",
   "execution_count": 11,
   "metadata": {
    "ExecuteTime": {
     "end_time": "2022-04-18T22:26:53.697657Z",
     "start_time": "2022-04-18T22:26:53.691558Z"
    }
   },
   "outputs": [],
   "source": [
    "# Get unmapped values, query against uniprot\n",
    "missing = match_list_v2[match_list_v2.notfound==True][\"query\"].tolist()\n",
    "missing_ensg = [gene for gene in missing if \"ENSG\" in gene]\n",
    "missing_uni = [gene for gene in missing if \"ENSG\" not in gene]"
   ]
  },
  {
   "cell_type": "code",
   "execution_count": 12,
   "metadata": {
    "ExecuteTime": {
     "end_time": "2022-04-18T22:26:57.650305Z",
     "start_time": "2022-04-18T22:26:53.699502Z"
    }
   },
   "outputs": [],
   "source": [
    "uniprot_ids, _ = gct.query_uniprot(missing_uni, return_as_dict=False, source_fmt=\"ACC+ID\", target_fmt=\"ACC\")\n",
    "ensg_ids, _ = gct.query_uniprot(missing_ensg, return_as_dict=False, source_fmt=\"ENSEMBL_ID\", target_fmt=\"ACC\")"
   ]
  },
  {
   "cell_type": "code",
   "execution_count": 13,
   "metadata": {
    "ExecuteTime": {
     "end_time": "2022-04-18T22:26:57.654368Z",
     "start_time": "2022-04-18T22:26:57.651064Z"
    }
   },
   "outputs": [],
   "source": [
    "missing_ACC = pd.concat([uniprot_ids, ensg_ids])"
   ]
  },
  {
   "cell_type": "code",
   "execution_count": 14,
   "metadata": {
    "ExecuteTime": {
     "end_time": "2022-04-18T22:27:04.667185Z",
     "start_time": "2022-04-18T22:26:57.655017Z"
    }
   },
   "outputs": [],
   "source": [
    "missing_names, _ = gct.query_uniprot(missing_ACC.ACC.tolist(), return_as_dict=False, source_fmt=\"ACC+ID\", target_fmt=[\"GENENAME\", \"P_ENTREZGENEID\"])"
   ]
  },
  {
   "cell_type": "code",
   "execution_count": 15,
   "metadata": {
    "ExecuteTime": {
     "end_time": "2022-04-18T22:27:04.673124Z",
     "start_time": "2022-04-18T22:27:04.668060Z"
    }
   },
   "outputs": [],
   "source": [
    "missing_names = missing_names.merge(missing_ACC, left_on=[\"query\", \"_score\"], right_on=[\"ACC\", \"_score\"], how=\"outer\")"
   ]
  },
  {
   "cell_type": "code",
   "execution_count": 16,
   "metadata": {
    "ExecuteTime": {
     "end_time": "2022-04-18T22:27:04.687087Z",
     "start_time": "2022-04-18T22:27:04.673765Z"
    }
   },
   "outputs": [],
   "source": [
    "missing_names = missing_names.loc[:, (\"query_y\", \"entrezgene\", \"symbol\", \"_score\")].drop_duplicates()\n",
    "missing_names.columns = [\"query\", \"entrezgene\", \"symbol\", \"_score\"]"
   ]
  },
  {
   "cell_type": "code",
   "execution_count": 17,
   "metadata": {
    "ExecuteTime": {
     "end_time": "2022-04-18T22:27:04.703512Z",
     "start_time": "2022-04-18T22:27:04.687763Z"
    }
   },
   "outputs": [],
   "source": [
    "final_mapping = pd.concat([match_list_v2.loc[~match_list_v2[\"query\"].isin(missing_names[\"query\"]), \n",
    "                                             (\"query\", \"entrezgene\", \"symbol\", \"_score\")], \n",
    "                           missing_names])"
   ]
  },
  {
   "cell_type": "code",
   "execution_count": 18,
   "metadata": {
    "ExecuteTime": {
     "end_time": "2022-04-18T22:27:05.182822Z",
     "start_time": "2022-04-18T22:27:04.704232Z"
    }
   },
   "outputs": [],
   "source": [
    "check_names_v2 = final_mapping.symbol.values\n",
    "mapped_v2, unmapped_v2 = gct.query_against_dataset(\"~/Data/Network_Analysis/Reference_Data/HGNC_download_2022.txt\",\n",
    "                              check_names_v2, return_as_dict=False)"
   ]
  },
  {
   "cell_type": "code",
   "execution_count": 19,
   "metadata": {
    "ExecuteTime": {
     "end_time": "2022-04-18T22:27:05.196502Z",
     "start_time": "2022-04-18T22:27:05.183673Z"
    }
   },
   "outputs": [],
   "source": [
    "# Get final gene mapping\n",
    "final_symbols = final_mapping.merge(mapped_v2,left_on=[\"symbol\"], right_on=[\"Query\"], how='outer', \n",
    "                                    suffixes=[\"\", \"-y\"]).loc[:, (\"query\", \"Approved symbol\", \"NCBI Gene ID\", \"_score\")]\n",
    "final_symbols.columns = [\"query\", \"symbol\", \"entrezgene\", \"_score\"]"
   ]
  },
  {
   "cell_type": "code",
   "execution_count": 20,
   "metadata": {
    "ExecuteTime": {
     "end_time": "2022-04-18T22:27:05.294656Z",
     "start_time": "2022-04-18T22:27:05.197354Z"
    }
   },
   "outputs": [
    {
     "name": "stdout",
     "output_type": "stream",
     "text": [
      "Number of genes with multiple matches: 192\n",
      "Number of unmatched genes: 381\n",
      "Number of fully matched genes: 19195\n",
      "Number of partially matched genes: 485\n"
     ]
    }
   ],
   "source": [
    "match_table_trim_v2, query_to_symbol_v2, query_to_entrez_v2 = gct.construct_query_map_table(final_symbols, valid_genes_v2,\n",
    "                                                                                display_unmatched_queries=False)"
   ]
  },
  {
   "cell_type": "markdown",
   "metadata": {},
   "source": [
    "## Construct Converted Network"
   ]
  },
  {
   "cell_type": "code",
   "execution_count": 22,
   "metadata": {
    "ExecuteTime": {
     "end_time": "2022-04-18T22:28:41.609299Z",
     "start_time": "2022-04-18T22:28:41.596395Z"
    }
   },
   "outputs": [
    {
     "ename": "AttributeError",
     "evalue": "'list' object has no attribute 'head'",
     "output_type": "error",
     "traceback": [
      "\u001b[0;31m---------------------------------------------------------------------------\u001b[0m",
      "\u001b[0;31mAttributeError\u001b[0m                            Traceback (most recent call last)",
      "\u001b[0;32m/tmp/ipykernel_120546/88385239.py\u001b[0m in \u001b[0;36m<module>\u001b[0;34m\u001b[0m\n\u001b[0;32m----> 1\u001b[0;31m \u001b[0medgelist_v2\u001b[0m\u001b[0;34m.\u001b[0m\u001b[0mhead\u001b[0m\u001b[0;34m(\u001b[0m\u001b[0;34m)\u001b[0m\u001b[0;34m\u001b[0m\u001b[0;34m\u001b[0m\u001b[0m\n\u001b[0m",
      "\u001b[0;31mAttributeError\u001b[0m: 'list' object has no attribute 'head'"
     ]
    }
   ],
   "source": []
  },
  {
   "cell_type": "code",
   "execution_count": 23,
   "metadata": {
    "ExecuteTime": {
     "end_time": "2022-04-18T22:29:02.345448Z",
     "start_time": "2022-04-18T22:28:57.231190Z"
    }
   },
   "outputs": [],
   "source": [
    "edgelist_updated_v2 = gct.convert_edgelist(edgelist_v2, query_to_symbol_v2)"
   ]
  },
  {
   "cell_type": "code",
   "execution_count": 25,
   "metadata": {
    "ExecuteTime": {
     "end_time": "2022-04-18T22:30:21.359875Z",
     "start_time": "2022-04-18T22:30:21.346490Z"
    }
   },
   "outputs": [
    {
     "data": {
      "text/html": [
       "<div>\n",
       "<style scoped>\n",
       "    .dataframe tbody tr th:only-of-type {\n",
       "        vertical-align: middle;\n",
       "    }\n",
       "\n",
       "    .dataframe tbody tr th {\n",
       "        vertical-align: top;\n",
       "    }\n",
       "\n",
       "    .dataframe thead th {\n",
       "        text-align: right;\n",
       "    }\n",
       "</style>\n",
       "<table border=\"1\" class=\"dataframe\">\n",
       "  <thead>\n",
       "    <tr style=\"text-align: right;\">\n",
       "      <th></th>\n",
       "      <th>symbol_n1</th>\n",
       "      <th>symbol_n2</th>\n",
       "      <th>2</th>\n",
       "    </tr>\n",
       "  </thead>\n",
       "  <tbody>\n",
       "    <tr>\n",
       "      <th>0</th>\n",
       "      <td>DPM1</td>\n",
       "      <td>GCLC</td>\n",
       "      <td>2.700000e-05</td>\n",
       "    </tr>\n",
       "    <tr>\n",
       "      <th>1</th>\n",
       "      <td>SCYL3</td>\n",
       "      <td>GCLC</td>\n",
       "      <td>6.800000e-08</td>\n",
       "    </tr>\n",
       "    <tr>\n",
       "      <th>2</th>\n",
       "      <td>C1orf112</td>\n",
       "      <td>GCLC</td>\n",
       "      <td>1.100000e-07</td>\n",
       "    </tr>\n",
       "    <tr>\n",
       "      <th>3</th>\n",
       "      <td>FGR</td>\n",
       "      <td>GCLC</td>\n",
       "      <td>1.000000e-07</td>\n",
       "    </tr>\n",
       "    <tr>\n",
       "      <th>4</th>\n",
       "      <td>C1orf112</td>\n",
       "      <td>NFYA</td>\n",
       "      <td>9.100000e-05</td>\n",
       "    </tr>\n",
       "  </tbody>\n",
       "</table>\n",
       "</div>"
      ],
      "text/plain": [
       "  symbol_n1 symbol_n2             2\n",
       "0      DPM1      GCLC  2.700000e-05\n",
       "1     SCYL3      GCLC  6.800000e-08\n",
       "2  C1orf112      GCLC  1.100000e-07\n",
       "3       FGR      GCLC  1.000000e-07\n",
       "4  C1orf112      NFYA  9.100000e-05"
      ]
     },
     "execution_count": 25,
     "metadata": {},
     "output_type": "execute_result"
    }
   ],
   "source": [
    "edgelist_updated_v2.head()"
   ]
  },
  {
   "cell_type": "code",
   "execution_count": 26,
   "metadata": {
    "ExecuteTime": {
     "end_time": "2022-04-18T22:30:46.897227Z",
     "start_time": "2022-04-18T22:30:37.024157Z"
    }
   },
   "outputs": [
    {
     "name": "stdout",
     "output_type": "stream",
     "text": [
      "11749785 input edges\n",
      "407 self-edges removed\n",
      "41690 edges with un-mapped genes removed\n",
      "11848 duplicate edges removed\n",
      "Edge list filtered: 9.76 seconds\n",
      "11695840 Edges remaining\n"
     ]
    }
   ],
   "source": [
    "# Filter converted edge list\n",
    "edgelist_filt_v2 = gct.filter_converted_edgelist(edgelist_updated_v2, weight_col=2)"
   ]
  },
  {
   "cell_type": "code",
   "execution_count": null,
   "metadata": {
    "ExecuteTime": {
     "end_time": "2022-04-18T22:27:10.985035Z",
     "start_time": "2022-04-18T22:27:10.985027Z"
    }
   },
   "outputs": [],
   "source": [
    "# Write network to file\n",
    "gct.write_edgelist(edgelist_filt_v2, wd+'Processed_Data/Network_SIFs_Symbol/GeneMANIA_Symbol_2021.sif', binary=False)"
   ]
  },
  {
   "cell_type": "code",
   "execution_count": 27,
   "metadata": {
    "ExecuteTime": {
     "end_time": "2022-04-18T22:31:14.012005Z",
     "start_time": "2022-04-18T22:31:02.354201Z"
    }
   },
   "outputs": [
    {
     "name": "stdout",
     "output_type": "stream",
     "text": [
      "90.0% score: 9.5e-05\n",
      "1164500 / 11699528 edges retained\n"
     ]
    }
   ],
   "source": [
    "# Create filtered network\n",
    "edgelist_90_v2 = dit.filter_weighted_network_sif(wd+'Processed_Data/Network_SIFs_Symbol/GeneMANIA_Symbol_2021.sif', nodeA_col=0, nodeB_col=1, score_col=2, \n",
    "                                                       q=0.9, delimiter='\\t', verbose=True, save_path=wd+'Processed_Data/Network_SIFs_Symbol/GeneMANIA90_Symbol_2021.sif')"
   ]
  },
  {
   "cell_type": "markdown",
   "metadata": {},
   "source": [
    "# Version 1.0 (original)"
   ]
  },
  {
   "cell_type": "markdown",
   "metadata": {},
   "source": [
    "## Load GeneMANIA Raw Data\n",
    "**Source: http://genemania.org/data/current/Homo_sapiens.COMBINED/COMBINED.DEFAULT_NETWORKS.BP_COMBINING.txt**  \n",
    "Downloaded: July 28, 2016  \n",
    "Last Updated: October 15, 2014\t\n",
    "\n",
    "2021 Note: There are minor differences in processing when re-running on the original dataset due to changes in ensembl database"
   ]
  },
  {
   "cell_type": "code",
   "execution_count": 28,
   "metadata": {
    "ExecuteTime": {
     "end_time": "2022-04-18T22:31:32.350012Z",
     "start_time": "2022-04-18T22:31:29.765742Z"
    }
   },
   "outputs": [],
   "source": [
    "input_raw = pd.read_csv(wd+'/Network_Data_Raw/GeneMANIA_2014_10_15.txt',sep='\\t')"
   ]
  },
  {
   "cell_type": "code",
   "execution_count": 29,
   "metadata": {
    "ExecuteTime": {
     "end_time": "2022-04-18T22:31:49.194703Z",
     "start_time": "2022-04-18T22:31:48.230243Z"
    }
   },
   "outputs": [],
   "source": [
    "genes = list(set(input_raw['Gene_A']).union(set(input_raw['Gene_B'])))"
   ]
  },
  {
   "cell_type": "code",
   "execution_count": 30,
   "metadata": {
    "ExecuteTime": {
     "end_time": "2022-04-18T22:32:08.945561Z",
     "start_time": "2022-04-18T22:32:04.886185Z"
    }
   },
   "outputs": [
    {
     "name": "stdout",
     "output_type": "stream",
     "text": [
      "7290094 Total GeneMANIA Edges\n"
     ]
    }
   ],
   "source": [
    "# Get Edgelist of network\n",
    "edgelist = input_raw[['Gene_A','Gene_B', 'Weight']].values.tolist()\n",
    "print(len(edgelist), \"Total GeneMANIA Edges\")"
   ]
  },
  {
   "cell_type": "markdown",
   "metadata": {},
   "source": [
    "## Convert Genes (from ensembl gene to gene symbol)"
   ]
  },
  {
   "cell_type": "code",
   "execution_count": 31,
   "metadata": {
    "ExecuteTime": {
     "end_time": "2022-04-18T22:32:33.823435Z",
     "start_time": "2022-04-18T22:32:33.781083Z"
    }
   },
   "outputs": [
    {
     "name": "stdout",
     "output_type": "stream",
     "text": [
      "19264 Valid Query Genes\n",
      "0 Invalid Query Genes\n"
     ]
    }
   ],
   "source": [
    "query_string, valid_genes, invalid_genes = gct.query_constructor(genes)\n"
   ]
  },
  {
   "cell_type": "code",
   "execution_count": 32,
   "metadata": {
    "ExecuteTime": {
     "end_time": "2022-04-18T22:32:58.512667Z",
     "start_time": "2022-04-18T22:32:58.510979Z"
    }
   },
   "outputs": [],
   "source": [
    "# Set scopes (gene naming systems to search)\n",
    "scopes = \"ensemblgene\"\n",
    "\n",
    "# Set fields (systems from which to return gene names from)\n",
    "fields = \"symbol,entrezgene\""
   ]
  },
  {
   "cell_type": "code",
   "execution_count": 33,
   "metadata": {
    "ExecuteTime": {
     "end_time": "2022-04-18T22:33:39.213414Z",
     "start_time": "2022-04-18T22:33:23.169675Z"
    }
   },
   "outputs": [
    {
     "name": "stderr",
     "output_type": "stream",
     "text": [
      "100%|██████████| 20/20 [00:16<00:00,  1.25it/s]"
     ]
    },
    {
     "name": "stdout",
     "output_type": "stream",
     "text": [
      "19264 Matched query results\n",
      "Batch query complete: 16.04 seconds\n",
      "19264 Matched query results\n"
     ]
    },
    {
     "name": "stderr",
     "output_type": "stream",
     "text": [
      "\n"
     ]
    }
   ],
   "source": [
    "# Query MyGene.Info\n",
    "match_list = gct.query_batch(query_string, scopes=scopes, fields=fields)\n",
    "print(len(match_list), 'Matched query results')"
   ]
  },
  {
   "cell_type": "code",
   "execution_count": 34,
   "metadata": {
    "ExecuteTime": {
     "end_time": "2022-04-18T22:34:04.879944Z",
     "start_time": "2022-04-18T22:34:04.860345Z"
    }
   },
   "outputs": [],
   "source": [
    "match_list = pd.DataFrame.from_dict(match_list)"
   ]
  },
  {
   "cell_type": "code",
   "execution_count": 35,
   "metadata": {
    "ExecuteTime": {
     "end_time": "2022-04-18T22:34:30.014560Z",
     "start_time": "2022-04-18T22:34:30.012916Z"
    }
   },
   "outputs": [],
   "source": [
    "check_names = match_list[\"symbol\"].values"
   ]
  },
  {
   "cell_type": "code",
   "execution_count": 36,
   "metadata": {
    "ExecuteTime": {
     "end_time": "2022-04-18T22:34:55.139459Z",
     "start_time": "2022-04-18T22:34:54.934220Z"
    }
   },
   "outputs": [],
   "source": [
    "mapped, unmapped = gct.query_against_dataset(\"~/Data/Network_Analysis/Reference_Data/HGNC_download_2022.txt\",\n",
    "                              check_names, return_as_dict=False)"
   ]
  },
  {
   "cell_type": "code",
   "execution_count": 37,
   "metadata": {
    "ExecuteTime": {
     "end_time": "2022-04-18T22:35:20.157375Z",
     "start_time": "2022-04-18T22:35:20.139046Z"
    }
   },
   "outputs": [],
   "source": [
    "final_mapping = match_list.merge(mapped, left_on=[\"symbol\"], right_on=[\"Query\"], \n",
    "                                 how=\"outer\").loc[:, (\"query\", \"entrezgene\", \"_score\", \"Approved symbol\")]\n",
    "final_mapping.columns = [\"query\", \"entrezgene\", \"_score\", \"symbol\"]"
   ]
  },
  {
   "cell_type": "code",
   "execution_count": 38,
   "metadata": {
    "ExecuteTime": {
     "end_time": "2022-04-18T22:35:45.328999Z",
     "start_time": "2022-04-18T22:35:45.246812Z"
    }
   },
   "outputs": [
    {
     "name": "stdout",
     "output_type": "stream",
     "text": [
      "Number of genes with multiple matches: 3\n",
      "Number of unmatched genes: 1405\n",
      "Number of fully matched genes: 17735\n",
      "Number of partially matched genes: 1529\n"
     ]
    }
   ],
   "source": [
    "match_table_trim, query_to_symbol, query_to_entrez = gct.construct_query_map_table(final_mapping, valid_genes)"
   ]
  },
  {
   "cell_type": "markdown",
   "metadata": {},
   "source": [
    "## Construct Converted Network"
   ]
  },
  {
   "cell_type": "code",
   "execution_count": 39,
   "metadata": {
    "ExecuteTime": {
     "end_time": "2022-04-18T22:36:13.903488Z",
     "start_time": "2022-04-18T22:36:10.594152Z"
    }
   },
   "outputs": [],
   "source": [
    "edgelist_updated = gct.convert_edgelist(edgelist, query_to_symbol)"
   ]
  },
  {
   "cell_type": "code",
   "execution_count": 40,
   "metadata": {
    "ExecuteTime": {
     "end_time": "2022-04-18T22:36:44.589138Z",
     "start_time": "2022-04-18T22:36:38.978965Z"
    }
   },
   "outputs": [
    {
     "name": "stdout",
     "output_type": "stream",
     "text": [
      "7290094 input edges\n",
      "9 self-edges removed\n",
      "754761 edges with un-mapped genes removed\n",
      "423 duplicate edges removed\n",
      "Edge list filtered: 5.54 seconds\n",
      "6534901 Edges remaining\n"
     ]
    }
   ],
   "source": [
    "# Filter converted edge list\n",
    "edgelist_filt = gct.filter_converted_edgelist(edgelist_updated, weight_col=2)"
   ]
  },
  {
   "cell_type": "code",
   "execution_count": null,
   "metadata": {
    "ExecuteTime": {
     "end_time": "2022-04-18T22:27:10.993323Z",
     "start_time": "2022-04-18T22:27:10.993315Z"
    }
   },
   "outputs": [],
   "source": [
    "# Write network to file\n",
    "gct.write_edgelist(edgelist_filt, wd+'Processed_Data/Network_SIFs_Symbol/GeneMANIA_Symbol_2014.sif', binary=False)"
   ]
  },
  {
   "cell_type": "code",
   "execution_count": 41,
   "metadata": {
    "ExecuteTime": {
     "end_time": "2022-04-18T22:37:17.623276Z",
     "start_time": "2022-04-18T22:37:09.741258Z"
    }
   },
   "outputs": [
    {
     "name": "stdout",
     "output_type": "stream",
     "text": [
      "90.0% score: 0.00023\n",
      "613344 / 6535914 edges retained\n"
     ]
    }
   ],
   "source": [
    "# Create filtered network\n",
    "edgelist_90 = dit.filter_weighted_network_sif(wd+'Processed_Data/Network_SIFs_Symbol/GeneMANIA_Symbol_2014.sif', nodeA_col=0, nodeB_col=1, score_col=2, \n",
    "                                                       q=0.9, delimiter='\\t', verbose=True, save_path=wd+'Processed_Data/Network_SIFs_Symbol/GeneMANIA90_Symbol_2014.sif')"
   ]
  },
  {
   "cell_type": "markdown",
   "metadata": {},
   "source": [
    "# Changes\n",
    "\n",
    "**Gene Identifiers** : Now given as UniProt IDs rather than ensembl gene ids"
   ]
  },
  {
   "cell_type": "code",
   "execution_count": 42,
   "metadata": {
    "ExecuteTime": {
     "end_time": "2022-04-18T22:37:44.094973Z",
     "start_time": "2022-04-18T22:37:42.385502Z"
    }
   },
   "outputs": [
    {
     "name": "stdout",
     "output_type": "stream",
     "text": [
      "No human filtering done\n"
     ]
    },
    {
     "data": {
      "image/png": "[encoded data removed]",
      "text/plain": [
       "<Figure size 1080x360 with 2 Axes>"
      ]
     },
     "metadata": {
      "needs_background": "light"
     },
     "output_type": "display_data"
    }
   ],
   "source": [
    "dit.plot_changes_to_dataset(input_raw, input_raw_v2, edgelist_filt, edgelist_filt_v2)"
   ]
  },
  {
   "cell_type": "code",
   "execution_count": 45,
   "metadata": {
    "ExecuteTime": {
     "end_time": "2022-04-18T22:39:20.027563Z",
     "start_time": "2022-04-18T22:39:19.948002Z"
    }
   },
   "outputs": [
    {
     "ename": "KeyError",
     "evalue": "'symbol_n1'",
     "output_type": "error",
     "traceback": [
      "\u001b[0;31m---------------------------------------------------------------------------\u001b[0m",
      "\u001b[0;31mKeyError\u001b[0m                                  Traceback (most recent call last)",
      "\u001b[0;32m~/anaconda3/envs/pcnet_py3/lib/python3.10/site-packages/pandas/core/indexes/base.py\u001b[0m in \u001b[0;36mget_loc\u001b[0;34m(self, key, method, tolerance)\u001b[0m\n\u001b[1;32m   3360\u001b[0m             \u001b[0;32mtry\u001b[0m\u001b[0;34m:\u001b[0m\u001b[0;34m\u001b[0m\u001b[0;34m\u001b[0m\u001b[0m\n\u001b[0;32m-> 3361\u001b[0;31m                 \u001b[0;32mreturn\u001b[0m \u001b[0mself\u001b[0m\u001b[0;34m.\u001b[0m\u001b[0m_engine\u001b[0m\u001b[0;34m.\u001b[0m\u001b[0mget_loc\u001b[0m\u001b[0;34m(\u001b[0m\u001b[0mcasted_key\u001b[0m\u001b[0;34m)\u001b[0m\u001b[0;34m\u001b[0m\u001b[0;34m\u001b[0m\u001b[0m\n\u001b[0m\u001b[1;32m   3362\u001b[0m             \u001b[0;32mexcept\u001b[0m \u001b[0mKeyError\u001b[0m \u001b[0;32mas\u001b[0m \u001b[0merr\u001b[0m\u001b[0;34m:\u001b[0m\u001b[0;34m\u001b[0m\u001b[0;34m\u001b[0m\u001b[0m\n",
      "\u001b[0;32m~/anaconda3/envs/pcnet_py3/lib/python3.10/site-packages/pandas/_libs/index.pyx\u001b[0m in \u001b[0;36mpandas._libs.index.IndexEngine.get_loc\u001b[0;34m()\u001b[0m\n",
      "\u001b[0;32m~/anaconda3/envs/pcnet_py3/lib/python3.10/site-packages/pandas/_libs/index.pyx\u001b[0m in \u001b[0;36mpandas._libs.index.IndexEngine.get_loc\u001b[0;34m()\u001b[0m\n",
      "\u001b[0;32mpandas/_libs/hashtable_class_helper.pxi\u001b[0m in \u001b[0;36mpandas._libs.hashtable.PyObjectHashTable.get_item\u001b[0;34m()\u001b[0m\n",
      "\u001b[0;32mpandas/_libs/hashtable_class_helper.pxi\u001b[0m in \u001b[0;36mpandas._libs.hashtable.PyObjectHashTable.get_item\u001b[0;34m()\u001b[0m\n",
      "\u001b[0;31mKeyError\u001b[0m: 'symbol_n1'",
      "\nThe above exception was the direct cause of the following exception:\n",
      "\u001b[0;31mKeyError\u001b[0m                                  Traceback (most recent call last)",
      "\u001b[0;32m/tmp/ipykernel_120546/3579001760.py\u001b[0m in \u001b[0;36m<module>\u001b[0;34m\u001b[0m\n\u001b[0;32m----> 1\u001b[0;31m \u001b[0mlen\u001b[0m\u001b[0;34m(\u001b[0m\u001b[0mset\u001b[0m\u001b[0;34m(\u001b[0m\u001b[0medgelist_90\u001b[0m\u001b[0;34m[\u001b[0m\u001b[0;34m\"symbol_n1\"\u001b[0m\u001b[0;34m]\u001b[0m\u001b[0;34m)\u001b[0m\u001b[0;34m.\u001b[0m\u001b[0munion\u001b[0m\u001b[0;34m(\u001b[0m\u001b[0mset\u001b[0m\u001b[0;34m(\u001b[0m\u001b[0medgelist_90\u001b[0m\u001b[0;34m[\u001b[0m\u001b[0;34m\"symbol_n2\"\u001b[0m\u001b[0;34m]\u001b[0m\u001b[0;34m)\u001b[0m\u001b[0;34m)\u001b[0m\u001b[0;34m)\u001b[0m\u001b[0;34m\u001b[0m\u001b[0;34m\u001b[0m\u001b[0m\n\u001b[0m",
      "\u001b[0;32m~/anaconda3/envs/pcnet_py3/lib/python3.10/site-packages/pandas/core/frame.py\u001b[0m in \u001b[0;36m__getitem__\u001b[0;34m(self, key)\u001b[0m\n\u001b[1;32m   3456\u001b[0m             \u001b[0;32mif\u001b[0m \u001b[0mself\u001b[0m\u001b[0;34m.\u001b[0m\u001b[0mcolumns\u001b[0m\u001b[0;34m.\u001b[0m\u001b[0mnlevels\u001b[0m \u001b[0;34m>\u001b[0m \u001b[0;36m1\u001b[0m\u001b[0;34m:\u001b[0m\u001b[0;34m\u001b[0m\u001b[0;34m\u001b[0m\u001b[0m\n\u001b[1;32m   3457\u001b[0m                 \u001b[0;32mreturn\u001b[0m \u001b[0mself\u001b[0m\u001b[0;34m.\u001b[0m\u001b[0m_getitem_multilevel\u001b[0m\u001b[0;34m(\u001b[0m\u001b[0mkey\u001b[0m\u001b[0;34m)\u001b[0m\u001b[0;34m\u001b[0m\u001b[0;34m\u001b[0m\u001b[0m\n\u001b[0;32m-> 3458\u001b[0;31m             \u001b[0mindexer\u001b[0m \u001b[0;34m=\u001b[0m \u001b[0mself\u001b[0m\u001b[0;34m.\u001b[0m\u001b[0mcolumns\u001b[0m\u001b[0;34m.\u001b[0m\u001b[0mget_loc\u001b[0m\u001b[0;34m(\u001b[0m\u001b[0mkey\u001b[0m\u001b[0;34m)\u001b[0m\u001b[0;34m\u001b[0m\u001b[0;34m\u001b[0m\u001b[0m\n\u001b[0m\u001b[1;32m   3459\u001b[0m             \u001b[0;32mif\u001b[0m \u001b[0mis_integer\u001b[0m\u001b[0;34m(\u001b[0m\u001b[0mindexer\u001b[0m\u001b[0;34m)\u001b[0m\u001b[0;34m:\u001b[0m\u001b[0;34m\u001b[0m\u001b[0;34m\u001b[0m\u001b[0m\n\u001b[1;32m   3460\u001b[0m                 \u001b[0mindexer\u001b[0m \u001b[0;34m=\u001b[0m \u001b[0;34m[\u001b[0m\u001b[0mindexer\u001b[0m\u001b[0;34m]\u001b[0m\u001b[0;34m\u001b[0m\u001b[0;34m\u001b[0m\u001b[0m\n",
      "\u001b[0;32m~/anaconda3/envs/pcnet_py3/lib/python3.10/site-packages/pandas/core/indexes/base.py\u001b[0m in \u001b[0;36mget_loc\u001b[0;34m(self, key, method, tolerance)\u001b[0m\n\u001b[1;32m   3361\u001b[0m                 \u001b[0;32mreturn\u001b[0m \u001b[0mself\u001b[0m\u001b[0;34m.\u001b[0m\u001b[0m_engine\u001b[0m\u001b[0;34m.\u001b[0m\u001b[0mget_loc\u001b[0m\u001b[0;34m(\u001b[0m\u001b[0mcasted_key\u001b[0m\u001b[0;34m)\u001b[0m\u001b[0;34m\u001b[0m\u001b[0;34m\u001b[0m\u001b[0m\n\u001b[1;32m   3362\u001b[0m             \u001b[0;32mexcept\u001b[0m \u001b[0mKeyError\u001b[0m \u001b[0;32mas\u001b[0m \u001b[0merr\u001b[0m\u001b[0;34m:\u001b[0m\u001b[0;34m\u001b[0m\u001b[0;34m\u001b[0m\u001b[0m\n\u001b[0;32m-> 3363\u001b[0;31m                 \u001b[0;32mraise\u001b[0m \u001b[0mKeyError\u001b[0m\u001b[0;34m(\u001b[0m\u001b[0mkey\u001b[0m\u001b[0;34m)\u001b[0m \u001b[0;32mfrom\u001b[0m \u001b[0merr\u001b[0m\u001b[0;34m\u001b[0m\u001b[0;34m\u001b[0m\u001b[0m\n\u001b[0m\u001b[1;32m   3364\u001b[0m \u001b[0;34m\u001b[0m\u001b[0m\n\u001b[1;32m   3365\u001b[0m         \u001b[0;32mif\u001b[0m \u001b[0mis_scalar\u001b[0m\u001b[0;34m(\u001b[0m\u001b[0mkey\u001b[0m\u001b[0;34m)\u001b[0m \u001b[0;32mand\u001b[0m \u001b[0misna\u001b[0m\u001b[0;34m(\u001b[0m\u001b[0mkey\u001b[0m\u001b[0;34m)\u001b[0m \u001b[0;32mand\u001b[0m \u001b[0;32mnot\u001b[0m \u001b[0mself\u001b[0m\u001b[0;34m.\u001b[0m\u001b[0mhasnans\u001b[0m\u001b[0;34m:\u001b[0m\u001b[0;34m\u001b[0m\u001b[0;34m\u001b[0m\u001b[0m\n",
      "\u001b[0;31mKeyError\u001b[0m: 'symbol_n1'"
     ]
    }
   ],
   "source": [
    "len(set(edgelist_90[\"symbol_n1\"]).union(set(edgelist_90[\"symbol_n2\"])))"
   ]
  },
  {
   "cell_type": "code",
   "execution_count": null,
   "metadata": {},
   "outputs": [],
   "source": []
  },
  {
   "cell_type": "code",
   "execution_count": 46,
   "metadata": {
    "ExecuteTime": {
     "end_time": "2022-04-18T22:39:21.125297Z",
     "start_time": "2022-04-18T22:39:21.093785Z"
    }
   },
   "outputs": [
    {
     "ename": "KeyError",
     "evalue": "'symbol_n1'",
     "output_type": "error",
     "traceback": [
      "\u001b[0;31m---------------------------------------------------------------------------\u001b[0m",
      "\u001b[0;31mKeyError\u001b[0m                                  Traceback (most recent call last)",
      "\u001b[0;32m~/anaconda3/envs/pcnet_py3/lib/python3.10/site-packages/pandas/core/indexes/base.py\u001b[0m in \u001b[0;36mget_loc\u001b[0;34m(self, key, method, tolerance)\u001b[0m\n\u001b[1;32m   3360\u001b[0m             \u001b[0;32mtry\u001b[0m\u001b[0;34m:\u001b[0m\u001b[0;34m\u001b[0m\u001b[0;34m\u001b[0m\u001b[0m\n\u001b[0;32m-> 3361\u001b[0;31m                 \u001b[0;32mreturn\u001b[0m \u001b[0mself\u001b[0m\u001b[0;34m.\u001b[0m\u001b[0m_engine\u001b[0m\u001b[0;34m.\u001b[0m\u001b[0mget_loc\u001b[0m\u001b[0;34m(\u001b[0m\u001b[0mcasted_key\u001b[0m\u001b[0;34m)\u001b[0m\u001b[0;34m\u001b[0m\u001b[0;34m\u001b[0m\u001b[0m\n\u001b[0m\u001b[1;32m   3362\u001b[0m             \u001b[0;32mexcept\u001b[0m \u001b[0mKeyError\u001b[0m \u001b[0;32mas\u001b[0m \u001b[0merr\u001b[0m\u001b[0;34m:\u001b[0m\u001b[0;34m\u001b[0m\u001b[0;34m\u001b[0m\u001b[0m\n",
      "\u001b[0;32m~/anaconda3/envs/pcnet_py3/lib/python3.10/site-packages/pandas/_libs/index.pyx\u001b[0m in \u001b[0;36mpandas._libs.index.IndexEngine.get_loc\u001b[0;34m()\u001b[0m\n",
      "\u001b[0;32m~/anaconda3/envs/pcnet_py3/lib/python3.10/site-packages/pandas/_libs/index.pyx\u001b[0m in \u001b[0;36mpandas._libs.index.IndexEngine.get_loc\u001b[0;34m()\u001b[0m\n",
      "\u001b[0;32mpandas/_libs/hashtable_class_helper.pxi\u001b[0m in \u001b[0;36mpandas._libs.hashtable.PyObjectHashTable.get_item\u001b[0;34m()\u001b[0m\n",
      "\u001b[0;32mpandas/_libs/hashtable_class_helper.pxi\u001b[0m in \u001b[0;36mpandas._libs.hashtable.PyObjectHashTable.get_item\u001b[0;34m()\u001b[0m\n",
      "\u001b[0;31mKeyError\u001b[0m: 'symbol_n1'",
      "\nThe above exception was the direct cause of the following exception:\n",
      "\u001b[0;31mKeyError\u001b[0m                                  Traceback (most recent call last)",
      "\u001b[0;32m/tmp/ipykernel_120546/3329545739.py\u001b[0m in \u001b[0;36m<module>\u001b[0;34m\u001b[0m\n\u001b[0;32m----> 1\u001b[0;31m \u001b[0mlen\u001b[0m\u001b[0;34m(\u001b[0m\u001b[0mset\u001b[0m\u001b[0;34m(\u001b[0m\u001b[0medgelist_90_v2\u001b[0m\u001b[0;34m[\u001b[0m\u001b[0;34m\"symbol_n1\"\u001b[0m\u001b[0;34m]\u001b[0m\u001b[0;34m)\u001b[0m\u001b[0;34m.\u001b[0m\u001b[0munion\u001b[0m\u001b[0;34m(\u001b[0m\u001b[0mset\u001b[0m\u001b[0;34m(\u001b[0m\u001b[0medgelist_90_v2\u001b[0m\u001b[0;34m[\u001b[0m\u001b[0;34m\"symbol_n2\"\u001b[0m\u001b[0;34m]\u001b[0m\u001b[0;34m)\u001b[0m\u001b[0;34m)\u001b[0m\u001b[0;34m)\u001b[0m\u001b[0;34m\u001b[0m\u001b[0;34m\u001b[0m\u001b[0m\n\u001b[0m",
      "\u001b[0;32m~/anaconda3/envs/pcnet_py3/lib/python3.10/site-packages/pandas/core/frame.py\u001b[0m in \u001b[0;36m__getitem__\u001b[0;34m(self, key)\u001b[0m\n\u001b[1;32m   3456\u001b[0m             \u001b[0;32mif\u001b[0m \u001b[0mself\u001b[0m\u001b[0;34m.\u001b[0m\u001b[0mcolumns\u001b[0m\u001b[0;34m.\u001b[0m\u001b[0mnlevels\u001b[0m \u001b[0;34m>\u001b[0m \u001b[0;36m1\u001b[0m\u001b[0;34m:\u001b[0m\u001b[0;34m\u001b[0m\u001b[0;34m\u001b[0m\u001b[0m\n\u001b[1;32m   3457\u001b[0m                 \u001b[0;32mreturn\u001b[0m \u001b[0mself\u001b[0m\u001b[0;34m.\u001b[0m\u001b[0m_getitem_multilevel\u001b[0m\u001b[0;34m(\u001b[0m\u001b[0mkey\u001b[0m\u001b[0;34m)\u001b[0m\u001b[0;34m\u001b[0m\u001b[0;34m\u001b[0m\u001b[0m\n\u001b[0;32m-> 3458\u001b[0;31m             \u001b[0mindexer\u001b[0m \u001b[0;34m=\u001b[0m \u001b[0mself\u001b[0m\u001b[0;34m.\u001b[0m\u001b[0mcolumns\u001b[0m\u001b[0;34m.\u001b[0m\u001b[0mget_loc\u001b[0m\u001b[0;34m(\u001b[0m\u001b[0mkey\u001b[0m\u001b[0;34m)\u001b[0m\u001b[0;34m\u001b[0m\u001b[0;34m\u001b[0m\u001b[0m\n\u001b[0m\u001b[1;32m   3459\u001b[0m             \u001b[0;32mif\u001b[0m \u001b[0mis_integer\u001b[0m\u001b[0;34m(\u001b[0m\u001b[0mindexer\u001b[0m\u001b[0;34m)\u001b[0m\u001b[0;34m:\u001b[0m\u001b[0;34m\u001b[0m\u001b[0;34m\u001b[0m\u001b[0m\n\u001b[1;32m   3460\u001b[0m                 \u001b[0mindexer\u001b[0m \u001b[0;34m=\u001b[0m \u001b[0;34m[\u001b[0m\u001b[0mindexer\u001b[0m\u001b[0;34m]\u001b[0m\u001b[0;34m\u001b[0m\u001b[0;34m\u001b[0m\u001b[0m\n",
      "\u001b[0;32m~/anaconda3/envs/pcnet_py3/lib/python3.10/site-packages/pandas/core/indexes/base.py\u001b[0m in \u001b[0;36mget_loc\u001b[0;34m(self, key, method, tolerance)\u001b[0m\n\u001b[1;32m   3361\u001b[0m                 \u001b[0;32mreturn\u001b[0m \u001b[0mself\u001b[0m\u001b[0;34m.\u001b[0m\u001b[0m_engine\u001b[0m\u001b[0;34m.\u001b[0m\u001b[0mget_loc\u001b[0m\u001b[0;34m(\u001b[0m\u001b[0mcasted_key\u001b[0m\u001b[0;34m)\u001b[0m\u001b[0;34m\u001b[0m\u001b[0;34m\u001b[0m\u001b[0m\n\u001b[1;32m   3362\u001b[0m             \u001b[0;32mexcept\u001b[0m \u001b[0mKeyError\u001b[0m \u001b[0;32mas\u001b[0m \u001b[0merr\u001b[0m\u001b[0;34m:\u001b[0m\u001b[0;34m\u001b[0m\u001b[0;34m\u001b[0m\u001b[0m\n\u001b[0;32m-> 3363\u001b[0;31m                 \u001b[0;32mraise\u001b[0m \u001b[0mKeyError\u001b[0m\u001b[0;34m(\u001b[0m\u001b[0mkey\u001b[0m\u001b[0;34m)\u001b[0m \u001b[0;32mfrom\u001b[0m \u001b[0merr\u001b[0m\u001b[0;34m\u001b[0m\u001b[0;34m\u001b[0m\u001b[0m\n\u001b[0m\u001b[1;32m   3364\u001b[0m \u001b[0;34m\u001b[0m\u001b[0m\n\u001b[1;32m   3365\u001b[0m         \u001b[0;32mif\u001b[0m \u001b[0mis_scalar\u001b[0m\u001b[0;34m(\u001b[0m\u001b[0mkey\u001b[0m\u001b[0;34m)\u001b[0m \u001b[0;32mand\u001b[0m \u001b[0misna\u001b[0m\u001b[0;34m(\u001b[0m\u001b[0mkey\u001b[0m\u001b[0;34m)\u001b[0m \u001b[0;32mand\u001b[0m \u001b[0;32mnot\u001b[0m \u001b[0mself\u001b[0m\u001b[0;34m.\u001b[0m\u001b[0mhasnans\u001b[0m\u001b[0;34m:\u001b[0m\u001b[0;34m\u001b[0m\u001b[0;34m\u001b[0m\u001b[0m\n",
      "\u001b[0;31mKeyError\u001b[0m: 'symbol_n1'"
     ]
    }
   ],
   "source": [
    "len(set(edgelist_90_v2[\"symbol_n1\"]).union(set(edgelist_90_v2[\"symbol_n2\"])))"
   ]
  }
 ],
 "metadata": {
  "kernelspec": {
   "display_name": "Python [conda env:pcnet_py3]",
   "language": "python",
   "name": "conda-env-pcnet_py3-py"
  },
  "language_info": {
   "codemirror_mode": {
    "name": "ipython",
    "version": 3
   },
   "file_extension": ".py",
   "mimetype": "text/x-python",
   "name": "python",
   "nbconvert_exporter": "python",
   "pygments_lexer": "ipython3",
   "version": "3.10.0"
  },
  "toc": {
   "base_numbering": 1,
   "nav_menu": {},
   "number_sections": true,
   "sideBar": true,
   "skip_h1_title": false,
   "title_cell": "Table of Contents",
   "title_sidebar": "Contents",
   "toc_cell": false,
   "toc_position": {
    "height": "calc(100% - 180px)",
    "left": "10px",
    "top": "150px",
    "width": "341.458px"
   },
   "toc_section_display": true,
   "toc_window_display": true
  },
  "varInspector": {
   "cols": {
    "lenName": 16,
    "lenType": 16,
    "lenVar": 40
   },
   "kernels_config": {
    "python": {
     "delete_cmd_postfix": "",
     "delete_cmd_prefix": "del ",
     "library": "var_list.py",
     "varRefreshCmd": "print(var_dic_list())"
    },
    "r": {
     "delete_cmd_postfix": ") ",
     "delete_cmd_prefix": "rm(",
     "library": "var_list.r",
     "varRefreshCmd": "cat(var_dic_list()) "
    }
   },
   "position": {
    "height": "428.844px",
    "left": "1337.33px",
    "right": "20px",
    "top": "120px",
    "width": "350px"
   },
   "types_to_exclude": [
    "module",
    "function",
    "builtin_function_or_method",
    "instance",
    "_Feature"
   ],
   "window_display": false
  }
 },
 "nbformat": 4,
 "nbformat_minor": 1
}
