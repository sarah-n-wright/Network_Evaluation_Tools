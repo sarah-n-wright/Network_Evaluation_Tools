{
 "cells": [
  {
   "cell_type": "code",
   "execution_count": 42,
   "metadata": {
    "ExecuteTime": {
     "end_time": "2022-02-01T17:07:59.197392Z",
     "start_time": "2022-02-01T17:07:59.195477Z"
    }
   },
   "outputs": [],
   "source": [
    "from network_evaluation_tools import gene_conversion_tools as gct\n",
    "from network_evaluation_tools import data_import_tools as dit\n",
    "import pandas as pd\n",
    "import time\n",
    "import matplotlib.pyplot as plt"
   ]
  },
  {
   "cell_type": "code",
   "execution_count": 43,
   "metadata": {
    "ExecuteTime": {
     "end_time": "2022-02-01T17:08:24.635100Z",
     "start_time": "2022-02-01T17:08:24.633579Z"
    }
   },
   "outputs": [],
   "source": [
    "wd = '/cellar/users/snwright/Data/Network_Analysis/'"
   ]
  },
  {
   "cell_type": "markdown",
   "metadata": {},
   "source": [
    "# Version 2.0\n"
   ]
  },
  {
   "cell_type": "markdown",
   "metadata": {},
   "source": [
    "## Load GeneMANIA Raw Data\n",
    "**Source: http://genemania.org/data/archive/2021-04-19/Homo_sapiens.COMBINED/COMBINED.DEFAULT_NETWORKS.BP_COMBINING.txt**   \n",
    "Downloaded: November, 2021  \n",
    "Last Updated: April 19, 2021"
   ]
  },
  {
   "cell_type": "code",
   "execution_count": 44,
   "metadata": {
    "ExecuteTime": {
     "end_time": "2022-02-01T17:08:53.095974Z",
     "start_time": "2022-02-01T17:08:50.139751Z"
    }
   },
   "outputs": [],
   "source": [
    "input_raw_v2 = pd.read_csv(wd+'/Network_Data_Raw/GeneMania_2021_COMBINED.DEFAULT_NETWORKS.BP_COMBINING.txt',sep='\\t')"
   ]
  },
  {
   "cell_type": "code",
   "execution_count": 45,
   "metadata": {
    "ExecuteTime": {
     "end_time": "2022-02-01T17:09:20.162683Z",
     "start_time": "2022-02-01T17:09:18.553956Z"
    }
   },
   "outputs": [],
   "source": [
    "genes_v2 = list(set(input_raw_v2['Gene_A']).union(set(input_raw_v2['Gene_B'])))"
   ]
  },
  {
   "cell_type": "code",
   "execution_count": 46,
   "metadata": {
    "ExecuteTime": {
     "end_time": "2022-02-01T17:09:50.897594Z",
     "start_time": "2022-02-01T17:09:46.015588Z"
    }
   },
   "outputs": [
    {
     "name": "stdout",
     "output_type": "stream",
     "text": [
      "11749785 Total GeneMANIA Edges\n"
     ]
    }
   ],
   "source": [
    "# Get Edgelist of network\n",
    "edgelist_v2 = input_raw_v2[['Gene_A','Gene_B', 'Weight']].values.tolist()\n",
    "print(len(edgelist_v2), \"Total GeneMANIA Edges\")"
   ]
  },
  {
   "cell_type": "markdown",
   "metadata": {},
   "source": [
    "## Convert Genes (from uniprot to gene symbol)"
   ]
  },
  {
   "cell_type": "code",
   "execution_count": 47,
   "metadata": {
    "ExecuteTime": {
     "end_time": "2022-02-01T17:10:17.141225Z",
     "start_time": "2022-02-01T17:10:17.103068Z"
    }
   },
   "outputs": [
    {
     "name": "stdout",
     "output_type": "stream",
     "text": [
      "19680 Valid Query Genes\n",
      "0 Invalid Query Genes\n"
     ]
    }
   ],
   "source": [
    "query_string_v2, valid_genes_v2, invalid_genes_v2 = gct.query_constructor(genes_v2)"
   ]
  },
  {
   "cell_type": "code",
   "execution_count": 48,
   "metadata": {
    "ExecuteTime": {
     "end_time": "2022-02-01T17:10:42.833842Z",
     "start_time": "2022-02-01T17:10:42.831099Z"
    }
   },
   "outputs": [],
   "source": [
    "ensembl_genes = [gene for gene in valid_genes_v2 if \"ENSG\" in gene]"
   ]
  },
  {
   "cell_type": "code",
   "execution_count": 49,
   "metadata": {
    "ExecuteTime": {
     "end_time": "2022-02-01T17:11:08.578362Z",
     "start_time": "2022-02-01T17:11:08.576837Z"
    }
   },
   "outputs": [],
   "source": [
    "# Set scopes (gene naming systems to search)\n",
    "scopes = \"uniprot,ensemblgene\"\n",
    "\n",
    "# Set fields (systems from which to return gene names from)\n",
    "fields = \"symbol,entrezgene\""
   ]
  },
  {
   "cell_type": "code",
   "execution_count": 50,
   "metadata": {
    "ExecuteTime": {
     "end_time": "2022-02-01T17:11:54.629973Z",
     "start_time": "2022-02-01T17:11:39.048882Z"
    }
   },
   "outputs": [
    {
     "name": "stderr",
     "output_type": "stream",
     "text": [
      "100%|██████████| 20/20 [00:15<00:00,  1.28it/s]"
     ]
    },
    {
     "name": "stdout",
     "output_type": "stream",
     "text": [
      "19859 Matched query results\n",
      "Batch query complete: 15.58 seconds\n"
     ]
    },
    {
     "name": "stderr",
     "output_type": "stream",
     "text": [
      "\n"
     ]
    }
   ],
   "source": [
    "# Query MyGene.Info\n",
    "match_list_v2 = gct.query_batch(query_string_v2, scopes=scopes, fields=fields)"
   ]
  },
  {
   "cell_type": "code",
   "execution_count": 52,
   "metadata": {
    "ExecuteTime": {
     "end_time": "2022-02-01T17:12:50.154149Z",
     "start_time": "2022-02-01T17:12:50.136581Z"
    }
   },
   "outputs": [],
   "source": [
    "match_list_v2 = pd.DataFrame.from_dict(match_list_v2)"
   ]
  },
  {
   "cell_type": "code",
   "execution_count": 99,
   "metadata": {
    "ExecuteTime": {
     "end_time": "2022-02-01T17:46:28.927104Z",
     "start_time": "2022-02-01T17:46:28.924125Z"
    }
   },
   "outputs": [],
   "source": [
    "# Get unmapped values, query against uniprot\n",
    "missing = match_list_v2[match_list_v2.notfound==True][\"query\"].tolist()\n",
    "missing_ensg = [gene for gene in missing if \"ENSG\" in gene]\n",
    "missing_uni = [gene for gene in missing if \"ENSG\" not in gene]"
   ]
  },
  {
   "cell_type": "code",
   "execution_count": 102,
   "metadata": {
    "ExecuteTime": {
     "end_time": "2022-02-01T17:47:52.277312Z",
     "start_time": "2022-02-01T17:47:48.668746Z"
    }
   },
   "outputs": [],
   "source": [
    "uniprot_ids, _ = gct.query_uniprot(missing_uni, return_as_dict=False, source_fmt=\"ACC+ID\", target_fmt=\"ACC\")\n",
    "ensg_ids, _ = gct.query_uniprot(missing_ensg, return_as_dict=False, source_fmt=\"ENSEMBL_ID\", target_fmt=\"ACC\")"
   ]
  },
  {
   "cell_type": "code",
   "execution_count": 103,
   "metadata": {
    "ExecuteTime": {
     "end_time": "2022-02-01T17:48:17.774034Z",
     "start_time": "2022-02-01T17:48:17.771998Z"
    }
   },
   "outputs": [],
   "source": [
    "missing_ACC = pd.concat([uniprot_ids, ensg_ids])"
   ]
  },
  {
   "cell_type": "code",
   "execution_count": 118,
   "metadata": {
    "ExecuteTime": {
     "end_time": "2022-02-01T17:57:58.610805Z",
     "start_time": "2022-02-01T17:57:47.440507Z"
    }
   },
   "outputs": [],
   "source": [
    "missing_names, _ = gct.query_uniprot(missing_ACC.ACC.tolist(), return_as_dict=False, source_fmt=\"ACC+ID\", target_fmt=[\"GENENAME\", \"P_ENTREZGENEID\"])"
   ]
  },
  {
   "cell_type": "code",
   "execution_count": 120,
   "metadata": {
    "ExecuteTime": {
     "end_time": "2022-02-01T17:58:49.360222Z",
     "start_time": "2022-02-01T17:58:49.356018Z"
    }
   },
   "outputs": [],
   "source": [
    "missing_names = missing_names.merge(missing_ACC, left_on=[\"query\", \"_score\"], right_on=[\"ACC\", \"_score\"], how=\"outer\")"
   ]
  },
  {
   "cell_type": "code",
   "execution_count": 123,
   "metadata": {
    "ExecuteTime": {
     "end_time": "2022-02-01T17:59:51.412222Z",
     "start_time": "2022-02-01T17:59:51.407710Z"
    }
   },
   "outputs": [],
   "source": [
    "missing_names = missing_names.loc[:, (\"query_y\", \"entrezgene\", \"symbol\", \"_score\")].drop_duplicates()\n",
    "missing_names.columns = [\"query\", \"entrezgene\", \"symbol\", \"_score\"]"
   ]
  },
  {
   "cell_type": "code",
   "execution_count": 124,
   "metadata": {
    "ExecuteTime": {
     "end_time": "2022-02-01T18:00:16.891998Z",
     "start_time": "2022-02-01T18:00:16.882098Z"
    }
   },
   "outputs": [
    {
     "data": {
      "text/html": [
       "<div>\n",
       "<style scoped>\n",
       "    .dataframe tbody tr th:only-of-type {\n",
       "        vertical-align: middle;\n",
       "    }\n",
       "\n",
       "    .dataframe tbody tr th {\n",
       "        vertical-align: top;\n",
       "    }\n",
       "\n",
       "    .dataframe thead th {\n",
       "        text-align: right;\n",
       "    }\n",
       "</style>\n",
       "<table border=\"1\" class=\"dataframe\">\n",
       "  <thead>\n",
       "    <tr style=\"text-align: right;\">\n",
       "      <th></th>\n",
       "      <th>query</th>\n",
       "      <th>entrezgene</th>\n",
       "      <th>symbol</th>\n",
       "      <th>_score</th>\n",
       "    </tr>\n",
       "  </thead>\n",
       "  <tbody>\n",
       "    <tr>\n",
       "      <th>0</th>\n",
       "      <td>Q6ZUT3</td>\n",
       "      <td>90167</td>\n",
       "      <td>FRMD7</td>\n",
       "      <td>19.670908</td>\n",
       "    </tr>\n",
       "    <tr>\n",
       "      <th>1</th>\n",
       "      <td>P58511</td>\n",
       "      <td>54065</td>\n",
       "      <td>SMIM11</td>\n",
       "      <td>18.816320</td>\n",
       "    </tr>\n",
       "    <tr>\n",
       "      <th>2</th>\n",
       "      <td>P58511</td>\n",
       "      <td>102723553</td>\n",
       "      <td>LOC102723553</td>\n",
       "      <td>18.816320</td>\n",
       "    </tr>\n",
       "    <tr>\n",
       "      <th>3</th>\n",
       "      <td>Q9BY66</td>\n",
       "      <td>8284</td>\n",
       "      <td>KDM5D</td>\n",
       "      <td>18.814915</td>\n",
       "    </tr>\n",
       "    <tr>\n",
       "      <th>4</th>\n",
       "      <td>Q8NH56</td>\n",
       "      <td>390075</td>\n",
       "      <td>OR52N5</td>\n",
       "      <td>19.657969</td>\n",
       "    </tr>\n",
       "  </tbody>\n",
       "</table>\n",
       "</div>"
      ],
      "text/plain": [
       "    query entrezgene        symbol     _score\n",
       "0  Q6ZUT3      90167         FRMD7  19.670908\n",
       "1  P58511      54065        SMIM11  18.816320\n",
       "2  P58511  102723553  LOC102723553  18.816320\n",
       "3  Q9BY66       8284         KDM5D  18.814915\n",
       "4  Q8NH56     390075        OR52N5  19.657969"
      ]
     },
     "execution_count": 124,
     "metadata": {},
     "output_type": "execute_result"
    }
   ],
   "source": [
    "final_mapping = pd.concat([match_list_v2.loc[~match_list_v2[\"query\"].isin(missing_names[\"query\"]), \n",
    "                                             (\"query\", \"entrezgene\", \"symbol\", \"_score\")], \n",
    "                           missing_names])"
   ]
  },
  {
   "cell_type": "code",
   "execution_count": 127,
   "metadata": {
    "ExecuteTime": {
     "end_time": "2022-02-01T18:02:52.525215Z",
     "start_time": "2022-02-01T18:02:52.000531Z"
    }
   },
   "outputs": [],
   "source": [
    "check_names_v2 = final_mapping.symbol.values\n",
    "mapped_v2, unmapped_v2 = gct.query_against_dataset(\"~/Data/Network_Analysis/Reference_Data/HGNC_download_2022.txt\",\n",
    "                              check_names_v2, return_as_dict=False)"
   ]
  },
  {
   "cell_type": "code",
   "execution_count": 129,
   "metadata": {
    "ExecuteTime": {
     "end_time": "2022-02-01T18:05:23.292471Z",
     "start_time": "2022-02-01T18:05:23.280487Z"
    }
   },
   "outputs": [],
   "source": [
    "# Get final gene mapping\n",
    "final_symbols = final_mapping.merge(mapped_v2,left_on=[\"symbol\"], right_on=[\"Query\"], how='outer', \n",
    "                                    suffixes=[\"\", \"-y\"]).loc[:, (\"query\", \"Approved symbol\", \"NCBI Gene ID\", \"_score\")]\n",
    "final_symbols.columns = [\"query\", \"symbol\", \"entrezgene\", \"_score\"]"
   ]
  },
  {
   "cell_type": "code",
   "execution_count": 135,
   "metadata": {
    "ExecuteTime": {
     "end_time": "2022-02-01T18:08:30.725410Z",
     "start_time": "2022-02-01T18:08:30.642184Z"
    }
   },
   "outputs": [
    {
     "name": "stdout",
     "output_type": "stream",
     "text": [
      "Number of genes with multiple matches: 192\n",
      "Number of unmatched genes: 375\n",
      "Number of fully matched genes: 19201\n",
      "Number of partially matched genes: 479\n"
     ]
    }
   ],
   "source": [
    "match_table_trim_v2, query_to_symbol_v2, query_to_entrez_v2 = gct.construct_query_map_table(final_symbols, valid_genes_v2,\n",
    "                                                                                display_unmatched_queries=False)"
   ]
  },
  {
   "cell_type": "markdown",
   "metadata": {},
   "source": [
    "## Construct Converted Network"
   ]
  },
  {
   "cell_type": "code",
   "execution_count": 136,
   "metadata": {
    "ExecuteTime": {
     "end_time": "2022-02-01T18:09:35.364931Z",
     "start_time": "2022-02-01T18:09:31.258178Z"
    }
   },
   "outputs": [],
   "source": [
    "edgelist_updated_v2 = gct.convert_edgelist(edgelist_v2, query_to_symbol_v2, weighted=True)"
   ]
  },
  {
   "cell_type": "code",
   "execution_count": 138,
   "metadata": {
    "ExecuteTime": {
     "end_time": "2022-02-01T18:11:25.680290Z",
     "start_time": "2022-02-01T18:10:32.264333Z"
    }
   },
   "outputs": [
    {
     "name": "stdout",
     "output_type": "stream",
     "text": [
      "11749785 input edges\n",
      "406 self-edges removed\n",
      "38012 edges with un-mapped genes removed\n",
      "11839 duplicate edges removed\n",
      "Edge list filtered: 53.23 seconds\n",
      "11699528 Edges remaining\n"
     ]
    }
   ],
   "source": [
    "# Filter converted edge list\n",
    "edgelist_filt_v2 = gct.filter_converted_edgelist(edgelist_updated_v2, weighted=True)"
   ]
  },
  {
   "cell_type": "code",
   "execution_count": 139,
   "metadata": {
    "ExecuteTime": {
     "end_time": "2022-02-01T18:12:25.119741Z",
     "start_time": "2022-02-01T18:12:04.226708Z"
    }
   },
   "outputs": [
    {
     "name": "stdout",
     "output_type": "stream",
     "text": [
      "Edge list saved: 20.89 seconds\n"
     ]
    }
   ],
   "source": [
    "# Write network to file\n",
    "gct.write_edgelist(edgelist_filt_v2, wd+'Processed_Data/Network_SIFs_Symbol/GeneMANIA_Symbol_2021.sif', binary=False)"
   ]
  },
  {
   "cell_type": "code",
   "execution_count": 140,
   "metadata": {
    "ExecuteTime": {
     "end_time": "2022-02-01T18:13:15.115488Z",
     "start_time": "2022-02-01T18:13:03.650843Z"
    }
   },
   "outputs": [
    {
     "name": "stdout",
     "output_type": "stream",
     "text": [
      "90.0% score: 9.5e-05\n",
      "1164500 / 11699528 edges retained\n"
     ]
    }
   ],
   "source": [
    "# Create filtered network\n",
    "edgelist_90_v2 = dit.filter_weighted_network_sif(wd+'Processed_Data/Network_SIFs_Symbol/GeneMANIA_Symbol_2021.sif', nodeA_col=0, nodeB_col=1, score_col=2, \n",
    "                                                       q=0.9, delimiter='\\t', verbose=True, save_path=wd+'Processed_Data/Network_SIFs_Symbol/GeneMANIA90_Symbol_2021.sif')"
   ]
  },
  {
   "cell_type": "markdown",
   "metadata": {},
   "source": [
    "# Version 1.0 (original)"
   ]
  },
  {
   "cell_type": "markdown",
   "metadata": {},
   "source": [
    "## Load GeneMANIA Raw Data\n",
    "**Source: http://genemania.org/data/current/Homo_sapiens.COMBINED/COMBINED.DEFAULT_NETWORKS.BP_COMBINING.txt**  \n",
    "Downloaded: July 28, 2016  \n",
    "Last Updated: October 15, 2014\t\n",
    "\n",
    "2021 Note: There are minor differences in processing when re-running on the original dataset due to changes in ensembl database"
   ]
  },
  {
   "cell_type": "code",
   "execution_count": 5,
   "metadata": {
    "ExecuteTime": {
     "end_time": "2022-02-01T01:45:22.114658Z",
     "start_time": "2022-02-01T01:45:17.105712Z"
    }
   },
   "outputs": [],
   "source": [
    "input_raw = pd.read_csv(wd+'/Network_Data_Raw/GeneMANIA_2014_10_15.txt',sep='\\t')"
   ]
  },
  {
   "cell_type": "code",
   "execution_count": 6,
   "metadata": {
    "ExecuteTime": {
     "end_time": "2022-02-01T01:45:23.356441Z",
     "start_time": "2022-02-01T01:45:22.279571Z"
    }
   },
   "outputs": [],
   "source": [
    "genes = list(set(input_raw['Gene_A']).union(set(input_raw['Gene_B'])))"
   ]
  },
  {
   "cell_type": "code",
   "execution_count": 7,
   "metadata": {
    "ExecuteTime": {
     "end_time": "2022-02-01T01:45:36.432176Z",
     "start_time": "2022-02-01T01:45:32.026720Z"
    }
   },
   "outputs": [
    {
     "name": "stdout",
     "output_type": "stream",
     "text": [
      "7290094 Total GeneMANIA Edges\n"
     ]
    }
   ],
   "source": [
    "# Get Edgelist of network\n",
    "edgelist = input_raw[['Gene_A','Gene_B', 'Weight']].values.tolist()\n",
    "print(len(edgelist), \"Total GeneMANIA Edges\")"
   ]
  },
  {
   "cell_type": "markdown",
   "metadata": {},
   "source": [
    "## Convert Genes (from ensembl gene to gene symbol)"
   ]
  },
  {
   "cell_type": "code",
   "execution_count": 9,
   "metadata": {
    "ExecuteTime": {
     "end_time": "2022-02-01T01:45:47.088839Z",
     "start_time": "2022-02-01T01:45:47.035987Z"
    }
   },
   "outputs": [
    {
     "name": "stdout",
     "output_type": "stream",
     "text": [
      "19264 Valid Query Genes\n",
      "0 Invalid Query Genes\n"
     ]
    }
   ],
   "source": [
    "query_string, valid_genes, invalid_genes = gct.query_constructor(genes)\n"
   ]
  },
  {
   "cell_type": "code",
   "execution_count": 10,
   "metadata": {
    "ExecuteTime": {
     "end_time": "2022-02-01T01:45:51.881851Z",
     "start_time": "2022-02-01T01:45:51.879896Z"
    }
   },
   "outputs": [],
   "source": [
    "# Set scopes (gene naming systems to search)\n",
    "scopes = \"ensemblgene\"\n",
    "\n",
    "# Set fields (systems from which to return gene names from)\n",
    "fields = \"symbol,entrezgene\""
   ]
  },
  {
   "cell_type": "code",
   "execution_count": 11,
   "metadata": {
    "ExecuteTime": {
     "end_time": "2022-02-01T01:46:16.440175Z",
     "start_time": "2022-02-01T01:45:58.863118Z"
    }
   },
   "outputs": [
    {
     "name": "stderr",
     "output_type": "stream",
     "text": [
      "100%|██████████| 20/20 [00:17<00:00,  1.14it/s]"
     ]
    },
    {
     "name": "stdout",
     "output_type": "stream",
     "text": [
      "19264 Matched query results\n",
      "Batch query complete: 17.57 seconds\n",
      "19264 Matched query results\n"
     ]
    },
    {
     "name": "stderr",
     "output_type": "stream",
     "text": [
      "\n"
     ]
    }
   ],
   "source": [
    "# Query MyGene.Info\n",
    "match_list = gct.query_batch(query_string, scopes=scopes, fields=fields)\n",
    "print(len(match_list), 'Matched query results')"
   ]
  },
  {
   "cell_type": "code",
   "execution_count": 13,
   "metadata": {
    "ExecuteTime": {
     "end_time": "2022-02-01T01:46:56.266701Z",
     "start_time": "2022-02-01T01:46:56.239955Z"
    }
   },
   "outputs": [],
   "source": [
    "match_list = pd.DataFrame.from_dict(match_list)"
   ]
  },
  {
   "cell_type": "code",
   "execution_count": 14,
   "metadata": {
    "ExecuteTime": {
     "end_time": "2022-02-01T01:47:13.519760Z",
     "start_time": "2022-02-01T01:47:13.517092Z"
    }
   },
   "outputs": [],
   "source": [
    "check_names = match_list[\"symbol\"].values"
   ]
  },
  {
   "cell_type": "code",
   "execution_count": 15,
   "metadata": {
    "ExecuteTime": {
     "end_time": "2022-02-01T01:47:40.019594Z",
     "start_time": "2022-02-01T01:47:39.700108Z"
    }
   },
   "outputs": [],
   "source": [
    "mapped, unmapped = gct.query_against_dataset(\"~/Data/Network_Analysis/Reference_Data/HGNC_download_2022.txt\",\n",
    "                              check_names, return_as_dict=False)"
   ]
  },
  {
   "cell_type": "code",
   "execution_count": 22,
   "metadata": {
    "ExecuteTime": {
     "end_time": "2022-02-01T01:50:50.646481Z",
     "start_time": "2022-02-01T01:50:50.597037Z"
    }
   },
   "outputs": [],
   "source": [
    "final_mapping = match_list.merge(mapped, left_on=[\"symbol\"], right_on=[\"Query\"], \n",
    "                                 how=\"outer\").loc[:, (\"query\", \"entrezgene\", \"_score\", \"Approved symbol\")]\n",
    "final_mapping.columns = [\"query\", \"entrezgene\", \"_score\", \"symbol\"]"
   ]
  },
  {
   "cell_type": "code",
   "execution_count": 23,
   "metadata": {
    "ExecuteTime": {
     "end_time": "2022-02-01T01:51:00.435260Z",
     "start_time": "2022-02-01T01:51:00.042521Z"
    }
   },
   "outputs": [
    {
     "name": "stdout",
     "output_type": "stream",
     "text": [
      "Number of genes with multiple matches: 3\n",
      "Number of unmatched genes: 1405\n",
      "Number of fully matched genes: 17739\n",
      "Number of partially matched genes: 1525\n"
     ]
    }
   ],
   "source": [
    "match_table_trim, query_to_symbol, query_to_entrez = gct.construct_query_map_table(final_mapping, valid_genes)"
   ]
  },
  {
   "cell_type": "markdown",
   "metadata": {},
   "source": [
    "## Construct Converted Network"
   ]
  },
  {
   "cell_type": "code",
   "execution_count": 24,
   "metadata": {
    "ExecuteTime": {
     "end_time": "2022-02-01T01:52:18.578599Z",
     "start_time": "2022-02-01T01:52:14.801545Z"
    }
   },
   "outputs": [],
   "source": [
    "edgelist_updated = gct.convert_edgelist(edgelist, query_to_symbol, weighted=True)"
   ]
  },
  {
   "cell_type": "code",
   "execution_count": 25,
   "metadata": {
    "ExecuteTime": {
     "end_time": "2022-02-01T01:53:24.116666Z",
     "start_time": "2022-02-01T01:52:35.006389Z"
    }
   },
   "outputs": [
    {
     "name": "stdout",
     "output_type": "stream",
     "text": [
      "7290094 input edges\n",
      "9 self-edges removed\n",
      "753748 edges with un-mapped genes removed\n",
      "423 duplicate edges removed\n",
      "Edge list filtered: 48.98 seconds\n",
      "6535914 Edges remaining\n"
     ]
    }
   ],
   "source": [
    "# Filter converted edge list\n",
    "edgelist_filt = gct.filter_converted_edgelist(edgelist_updated, weighted=True)"
   ]
  },
  {
   "cell_type": "code",
   "execution_count": 26,
   "metadata": {
    "ExecuteTime": {
     "end_time": "2022-02-01T01:53:48.058526Z",
     "start_time": "2022-02-01T01:53:32.228025Z"
    }
   },
   "outputs": [
    {
     "name": "stdout",
     "output_type": "stream",
     "text": [
      "Edge list saved: 15.83 seconds\n"
     ]
    }
   ],
   "source": [
    "# Write network to file\n",
    "gct.write_edgelist(edgelist_filt, wd+'Processed_Data/Network_SIFs_Symbol/GeneMANIA_Symbol_2014.sif', binary=False)"
   ]
  },
  {
   "cell_type": "code",
   "execution_count": 27,
   "metadata": {
    "ExecuteTime": {
     "end_time": "2022-02-01T01:54:07.537426Z",
     "start_time": "2022-02-01T01:53:57.765549Z"
    }
   },
   "outputs": [
    {
     "name": "stdout",
     "output_type": "stream",
     "text": [
      "90.0% score: 0.00023\n",
      "613344 / 6535914 edges retained\n"
     ]
    }
   ],
   "source": [
    "# Create filtered network\n",
    "edgelist_90 = dit.filter_weighted_network_sif(wd+'Processed_Data/Network_SIFs_Symbol/GeneMANIA_Symbol_2014.sif', nodeA_col=0, nodeB_col=1, score_col=2, \n",
    "                                                       q=0.9, delimiter='\\t', verbose=True, save_path=wd+'Processed_Data/Network_SIFs_Symbol/GeneMANIA90_Symbol_2014.sif')"
   ]
  },
  {
   "cell_type": "markdown",
   "metadata": {},
   "source": [
    "# Changes\n",
    "\n",
    "**Gene Identifiers** : Now given as UniProt IDs rather than ensembl gene ids"
   ]
  },
  {
   "cell_type": "code",
   "execution_count": 141,
   "metadata": {
    "ExecuteTime": {
     "end_time": "2022-02-01T18:17:10.499439Z",
     "start_time": "2022-02-01T18:17:07.763923Z"
    }
   },
   "outputs": [
    {
     "name": "stdout",
     "output_type": "stream",
     "text": [
      "No human filtering done\n"
     ]
    },
    {
     "data": {
      "image/png": "[encoded data removed]",
      "text/plain": [
       "<Figure size 1080x360 with 2 Axes>"
      ]
     },
     "metadata": {
      "needs_background": "light"
     },
     "output_type": "display_data"
    }
   ],
   "source": [
    "dit.plot_changes_to_dataset(input_raw, input_raw_v2, edgelist_filt, edgelist_filt_v2)"
   ]
  }
 ],
 "metadata": {
  "kernelspec": {
   "display_name": "Python [conda env:pcnet_py3]",
   "language": "python",
   "name": "conda-env-pcnet_py3-py"
  },
  "language_info": {
   "codemirror_mode": {
    "name": "ipython",
    "version": 3
   },
   "file_extension": ".py",
   "mimetype": "text/x-python",
   "name": "python",
   "nbconvert_exporter": "python",
   "pygments_lexer": "ipython3",
   "version": "3.10.0"
  },
  "toc": {
   "base_numbering": 1,
   "nav_menu": {},
   "number_sections": true,
   "sideBar": true,
   "skip_h1_title": false,
   "title_cell": "Table of Contents",
   "title_sidebar": "Contents",
   "toc_cell": false,
   "toc_position": {
    "height": "calc(100% - 180px)",
    "left": "10px",
    "top": "150px",
    "width": "341.458px"
   },
   "toc_section_display": true,
   "toc_window_display": true
  },
  "varInspector": {
   "cols": {
    "lenName": 16,
    "lenType": 16,
    "lenVar": 40
   },
   "kernels_config": {
    "python": {
     "delete_cmd_postfix": "",
     "delete_cmd_prefix": "del ",
     "library": "var_list.py",
     "varRefreshCmd": "print(var_dic_list())"
    },
    "r": {
     "delete_cmd_postfix": ") ",
     "delete_cmd_prefix": "rm(",
     "library": "var_list.r",
     "varRefreshCmd": "cat(var_dic_list()) "
    }
   },
   "position": {
    "height": "428.844px",
    "left": "1337.33px",
    "right": "20px",
    "top": "120px",
    "width": "350px"
   },
   "types_to_exclude": [
    "module",
    "function",
    "builtin_function_or_method",
    "instance",
    "_Feature"
   ],
   "window_display": false
  }
 },
 "nbformat": 4,
 "nbformat_minor": 1
}
