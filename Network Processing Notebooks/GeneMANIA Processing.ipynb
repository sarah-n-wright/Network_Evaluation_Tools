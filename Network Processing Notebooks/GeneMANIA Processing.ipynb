{
 "cells": [
  {
   "cell_type": "code",
   "execution_count": 47,
   "metadata": {
    "ExecuteTime": {
     "end_time": "2021-11-18T22:44:55.550331Z",
     "start_time": "2021-11-18T22:44:55.548422Z"
    }
   },
   "outputs": [],
   "source": [
    "from network_evaluation_tools import gene_conversion_tools as gct\n",
    "from network_evaluation_tools import data_import_tools as dit\n",
    "import pandas as pd\n",
    "import time\n",
    "import matplotlib.pyplot as plt"
   ]
  },
  {
   "cell_type": "code",
   "execution_count": 2,
   "metadata": {
    "ExecuteTime": {
     "end_time": "2021-11-18T22:21:29.336150Z",
     "start_time": "2021-11-18T22:21:29.334763Z"
    }
   },
   "outputs": [],
   "source": [
    "wd = '/cellar/users/snwright/Data/Network_Analysis/'"
   ]
  },
  {
   "cell_type": "markdown",
   "metadata": {},
   "source": [
    "# Version 2.0\n"
   ]
  },
  {
   "cell_type": "markdown",
   "metadata": {},
   "source": [
    "## Load GeneMANIA Raw Data\n",
    "#### Source: http://genemania.org/data/archive/2021-04-19/Homo_sapiens.COMBINED/COMBINED.DEFAULT_NETWORKS.BP_COMBINING.txt \n",
    "Downloaded: November, 2021  \n",
    "Last Updated: October 15, 2014\t"
   ]
  },
  {
   "cell_type": "code",
   "execution_count": 3,
   "metadata": {
    "ExecuteTime": {
     "end_time": "2021-11-18T22:21:37.201944Z",
     "start_time": "2021-11-18T22:21:34.491400Z"
    }
   },
   "outputs": [],
   "source": [
    "GeneMANIA_Raw_v2 = pd.read_csv(wd+'/Network_Data_Raw/GeneMania_2021_COMBINED.DEFAULT_NETWORKS.BP_COMBINING.txt',sep='\\t')"
   ]
  },
  {
   "cell_type": "code",
   "execution_count": 12,
   "metadata": {
    "ExecuteTime": {
     "end_time": "2021-11-18T22:23:57.897925Z",
     "start_time": "2021-11-18T22:23:57.888815Z"
    }
   },
   "outputs": [
    {
     "data": {
      "text/html": [
       "<div>\n",
       "<style scoped>\n",
       "    .dataframe tbody tr th:only-of-type {\n",
       "        vertical-align: middle;\n",
       "    }\n",
       "\n",
       "    .dataframe tbody tr th {\n",
       "        vertical-align: top;\n",
       "    }\n",
       "\n",
       "    .dataframe thead th {\n",
       "        text-align: right;\n",
       "    }\n",
       "</style>\n",
       "<table border=\"1\" class=\"dataframe\">\n",
       "  <thead>\n",
       "    <tr style=\"text-align: right;\">\n",
       "      <th></th>\n",
       "      <th>Gene_A</th>\n",
       "      <th>Gene_B</th>\n",
       "      <th>Weight</th>\n",
       "    </tr>\n",
       "  </thead>\n",
       "  <tbody>\n",
       "    <tr>\n",
       "      <th>0</th>\n",
       "      <td>O60762</td>\n",
       "      <td>P48506</td>\n",
       "      <td>2.700000e-05</td>\n",
       "    </tr>\n",
       "    <tr>\n",
       "      <th>1</th>\n",
       "      <td>Q8IZE3</td>\n",
       "      <td>P48506</td>\n",
       "      <td>6.800000e-08</td>\n",
       "    </tr>\n",
       "    <tr>\n",
       "      <th>2</th>\n",
       "      <td>Q9NSG2</td>\n",
       "      <td>P48506</td>\n",
       "      <td>1.100000e-07</td>\n",
       "    </tr>\n",
       "    <tr>\n",
       "      <th>3</th>\n",
       "      <td>P09769</td>\n",
       "      <td>P48506</td>\n",
       "      <td>1.000000e-07</td>\n",
       "    </tr>\n",
       "    <tr>\n",
       "      <th>4</th>\n",
       "      <td>Q9NSG2</td>\n",
       "      <td>P23511</td>\n",
       "      <td>9.100000e-05</td>\n",
       "    </tr>\n",
       "  </tbody>\n",
       "</table>\n",
       "</div>"
      ],
      "text/plain": [
       "   Gene_A  Gene_B        Weight\n",
       "0  O60762  P48506  2.700000e-05\n",
       "1  Q8IZE3  P48506  6.800000e-08\n",
       "2  Q9NSG2  P48506  1.100000e-07\n",
       "3  P09769  P48506  1.000000e-07\n",
       "4  Q9NSG2  P23511  9.100000e-05"
      ]
     },
     "execution_count": 12,
     "metadata": {},
     "output_type": "execute_result"
    }
   ],
   "source": [
    "GeneMANIA_Raw_v2.head()"
   ]
  },
  {
   "cell_type": "code",
   "execution_count": 4,
   "metadata": {
    "ExecuteTime": {
     "end_time": "2021-11-18T22:21:41.702673Z",
     "start_time": "2021-11-18T22:21:40.082540Z"
    }
   },
   "outputs": [],
   "source": [
    "GeneMANIA_Raw_Genes_v2 = list(set(GeneMANIA_Raw_v2['Gene_A']).union(set(GeneMANIA_Raw_v2['Gene_B'])))"
   ]
  },
  {
   "cell_type": "code",
   "execution_count": 5,
   "metadata": {
    "ExecuteTime": {
     "end_time": "2021-11-18T22:21:47.470332Z",
     "start_time": "2021-11-18T22:21:41.710692Z"
    }
   },
   "outputs": [
    {
     "name": "stdout",
     "output_type": "stream",
     "text": [
      "11749785 Total GeneMANIA Edges\n"
     ]
    }
   ],
   "source": [
    "# Get Edgelist of network\n",
    "query_edgelist_v2 = GeneMANIA_Raw_v2[['Gene_A','Gene_B', 'Weight']].values.tolist()\n",
    "print(len(query_edgelist_v2), \"Total GeneMANIA Edges\")"
   ]
  },
  {
   "cell_type": "markdown",
   "metadata": {},
   "source": [
    "## Convert Genes (from ensembl gene to gene symbol)"
   ]
  },
  {
   "cell_type": "code",
   "execution_count": 6,
   "metadata": {
    "ExecuteTime": {
     "end_time": "2021-11-18T22:21:55.438883Z",
     "start_time": "2021-11-18T22:21:55.401635Z"
    }
   },
   "outputs": [
    {
     "name": "stdout",
     "output_type": "stream",
     "text": [
      "19680 Valid Query Genes\n",
      "0 Invalid Query Genes\n"
     ]
    }
   ],
   "source": [
    "query_string_v2, valid_genes_v2, invalid_genes_v2 = gct.query_constructor(GeneMANIA_Raw_Genes_v2)"
   ]
  },
  {
   "cell_type": "code",
   "execution_count": 13,
   "metadata": {
    "ExecuteTime": {
     "end_time": "2021-11-18T22:25:58.302658Z",
     "start_time": "2021-11-18T22:25:58.300724Z"
    }
   },
   "outputs": [],
   "source": [
    "# Set scopes (gene naming systems to search)\n",
    "scopes = \"uniprot\"\n",
    "\n",
    "# Set fields (systems from which to return gene names from)\n",
    "fields = \"symbol,entrezgene\""
   ]
  },
  {
   "cell_type": "code",
   "execution_count": 14,
   "metadata": {
    "ExecuteTime": {
     "end_time": "2021-11-18T22:26:23.957451Z",
     "start_time": "2021-11-18T22:26:10.220639Z"
    }
   },
   "outputs": [
    {
     "name": "stdout",
     "output_type": "stream",
     "text": [
      "19863 Matched query results\n",
      "Batch query complete: 13.73 seconds\n"
     ]
    }
   ],
   "source": [
    "# Query MyGene.Info\n",
    "match_list_v2 = gct.query_batch(query_string_v2, scopes=scopes, fields=fields)"
   ]
  },
  {
   "cell_type": "code",
   "execution_count": 17,
   "metadata": {
    "ExecuteTime": {
     "end_time": "2021-11-18T22:27:43.788300Z",
     "start_time": "2021-11-18T22:27:34.169128Z"
    }
   },
   "outputs": [
    {
     "name": "stdout",
     "output_type": "stream",
     "text": [
      "Queries without full matching results found: 1115\n",
      "\n",
      "144 Queries with mutliple matches found\n",
      "\n",
      "Query mapping table/dictionary construction complete: 9.62 seconds\n"
     ]
    }
   ],
   "source": [
    "match_table_trim_v2, query_to_symbol_v2, query_to_entrez_v2 = gct.construct_query_map_table(match_list_v2, valid_genes_v2)"
   ]
  },
  {
   "cell_type": "markdown",
   "metadata": {},
   "source": [
    "## Construct Converted Network"
   ]
  },
  {
   "cell_type": "code",
   "execution_count": 18,
   "metadata": {
    "ExecuteTime": {
     "end_time": "2021-11-18T22:28:03.226806Z",
     "start_time": "2021-11-18T22:27:58.891685Z"
    }
   },
   "outputs": [],
   "source": [
    "GeneMANIA_edgelist_symbol_v2 = gct.convert_edgelist(query_edgelist_v2, query_to_symbol_v2, weighted=True)"
   ]
  },
  {
   "cell_type": "code",
   "execution_count": 19,
   "metadata": {
    "ExecuteTime": {
     "end_time": "2021-11-18T22:28:19.030995Z",
     "start_time": "2021-11-18T22:28:11.263608Z"
    }
   },
   "outputs": [
    {
     "name": "stdout",
     "output_type": "stream",
     "text": [
      "11749785 input edges\n",
      "60 self-edges removed\n",
      "281566 edges with un-mapped genes removed\n",
      "2481 duplicate edges removed\n",
      "Edge list filtered: 7.69 seconds\n",
      "11465678 Edges remaining\n"
     ]
    }
   ],
   "source": [
    "# Filter converted edge list\n",
    "GeneMANIA_edgelist_symbol_filt_v2 = gct.filter_converted_edgelist(GeneMANIA_edgelist_symbol_v2, weighted=True)"
   ]
  },
  {
   "cell_type": "code",
   "execution_count": 20,
   "metadata": {
    "ExecuteTime": {
     "end_time": "2021-11-18T22:29:08.677045Z",
     "start_time": "2021-11-18T22:28:52.954091Z"
    }
   },
   "outputs": [
    {
     "name": "stdout",
     "output_type": "stream",
     "text": [
      "Edge list saved: 15.72 seconds\n"
     ]
    }
   ],
   "source": [
    "# Write network to file\n",
    "gct.write_edgelist(GeneMANIA_edgelist_symbol_filt_v2, wd+'Processed_Data/Network_SIFs_Symbol/GeneMANIA_Symbol_2021.sif', binary=False)"
   ]
  },
  {
   "cell_type": "code",
   "execution_count": 21,
   "metadata": {
    "ExecuteTime": {
     "end_time": "2021-11-18T22:30:52.831576Z",
     "start_time": "2021-11-18T22:30:48.077688Z"
    }
   },
   "outputs": [
    {
     "name": "stdout",
     "output_type": "stream",
     "text": [
      "90.0% score: 9.5e-05\n",
      "1140879 / 11465678 edges retained\n"
     ]
    }
   ],
   "source": [
    "# Create filtered network\n",
    "GeneMANIA90_edgelist_v2 = dit.filter_weighted_network_sif(wd+'Processed_Data/Network_SIFs_Symbol/GeneMANIA_Symbol_2021.sif', nodeA_col=0, nodeB_col=1, score_col=2, \n",
    "                                                       q=0.9, delimiter='\\t', verbose=True, save_path=wd+'Processed_Data/Network_SIFs_Symbol/GeneMANIA90_Symbol_2021.sif')"
   ]
  },
  {
   "cell_type": "markdown",
   "metadata": {},
   "source": [
    "# Version 1.0 (original)"
   ]
  },
  {
   "cell_type": "markdown",
   "metadata": {},
   "source": [
    "## Load GeneMANIA Raw Data\n",
    "#### Source: http://genemania.org/data/current/Homo_sapiens.COMBINED/COMBINED.DEFAULT_NETWORKS.BP_COMBINING.txt\n",
    "Downloaded: July 28, 2016  \n",
    "Last Updated: October 15, 2014\t\n",
    "\n",
    "2021 Note: There are minor differences in processing when re-running on the original dataset due to changes in ensembl database"
   ]
  },
  {
   "cell_type": "code",
   "execution_count": 27,
   "metadata": {
    "ExecuteTime": {
     "end_time": "2021-11-18T22:35:08.082082Z",
     "start_time": "2021-11-18T22:35:05.736708Z"
    }
   },
   "outputs": [],
   "source": [
    "GeneMANIA_Raw = pd.read_csv(wd+'/Network_Data_Raw/GeneMANIA_2014_10_15.txt',sep='\\t')"
   ]
  },
  {
   "cell_type": "code",
   "execution_count": 28,
   "metadata": {
    "ExecuteTime": {
     "end_time": "2021-11-18T22:35:17.736346Z",
     "start_time": "2021-11-18T22:35:16.700227Z"
    }
   },
   "outputs": [],
   "source": [
    "GeneMANIA_Raw_Genes = list(set(GeneMANIA_Raw['Gene_A']).union(set(GeneMANIA_Raw['Gene_B'])))"
   ]
  },
  {
   "cell_type": "code",
   "execution_count": 29,
   "metadata": {
    "ExecuteTime": {
     "end_time": "2021-11-18T22:35:29.114959Z",
     "start_time": "2021-11-18T22:35:26.148599Z"
    }
   },
   "outputs": [
    {
     "name": "stdout",
     "output_type": "stream",
     "text": [
      "7290094 Total GeneMANIA Edges\n"
     ]
    }
   ],
   "source": [
    "# Get Edgelist of network\n",
    "query_edgelist = GeneMANIA_Raw[['Gene_A','Gene_B', 'Weight']].values.tolist()\n",
    "print(len(query_edgelist), \"Total GeneMANIA Edges\")"
   ]
  },
  {
   "cell_type": "markdown",
   "metadata": {},
   "source": [
    "## Convert Genes (from ensembl gene to gene symbol)"
   ]
  },
  {
   "cell_type": "code",
   "execution_count": 30,
   "metadata": {
    "ExecuteTime": {
     "end_time": "2021-11-18T22:35:41.966747Z",
     "start_time": "2021-11-18T22:35:41.923079Z"
    }
   },
   "outputs": [
    {
     "name": "stdout",
     "output_type": "stream",
     "text": [
      "19264 Valid Query Genes\n",
      "0 Invalid Query Genes\n"
     ]
    }
   ],
   "source": [
    "query_string, valid_genes, invalid_genes = gct.query_constructor(GeneMANIA_Raw_Genes)\n"
   ]
  },
  {
   "cell_type": "code",
   "execution_count": 31,
   "metadata": {
    "ExecuteTime": {
     "end_time": "2021-11-18T22:35:55.263753Z",
     "start_time": "2021-11-18T22:35:55.260714Z"
    }
   },
   "outputs": [],
   "source": [
    "# Set scopes (gene naming systems to search)\n",
    "scopes = \"ensemblgene\"\n",
    "\n",
    "# Set fields (systems from which to return gene names from)\n",
    "fields = \"symbol,entrezgene\""
   ]
  },
  {
   "cell_type": "code",
   "execution_count": 32,
   "metadata": {
    "ExecuteTime": {
     "end_time": "2021-11-18T22:36:22.153477Z",
     "start_time": "2021-11-18T22:36:08.296581Z"
    }
   },
   "outputs": [
    {
     "name": "stdout",
     "output_type": "stream",
     "text": [
      "19264 Matched query results\n",
      "Batch query complete: 13.85 seconds\n",
      "19264 Matched query results\n"
     ]
    }
   ],
   "source": [
    "# Query MyGene.Info\n",
    "match_list = gct.query_batch(query_string, scopes=scopes, fields=fields)\n",
    "print(len(match_list), 'Matched query results')"
   ]
  },
  {
   "cell_type": "code",
   "execution_count": 33,
   "metadata": {
    "ExecuteTime": {
     "end_time": "2021-11-18T22:36:39.248007Z",
     "start_time": "2021-11-18T22:36:35.120465Z"
    }
   },
   "outputs": [
    {
     "name": "stdout",
     "output_type": "stream",
     "text": [
      "Queries without full matching results found: 1515\n",
      "\n",
      "0 Queries with mutliple matches found\n",
      "\n",
      "Query mapping table/dictionary construction complete: 4.12 seconds\n"
     ]
    }
   ],
   "source": [
    "match_table_trim, query_to_symbol, query_to_entrez = gct.construct_query_map_table(match_list, valid_genes)"
   ]
  },
  {
   "cell_type": "markdown",
   "metadata": {},
   "source": [
    "## Construct Converted Network"
   ]
  },
  {
   "cell_type": "code",
   "execution_count": 34,
   "metadata": {
    "ExecuteTime": {
     "end_time": "2021-11-18T22:36:54.995243Z",
     "start_time": "2021-11-18T22:36:52.347580Z"
    }
   },
   "outputs": [],
   "source": [
    "GeneMANIA_edgelist_symbol = gct.convert_edgelist(query_edgelist, query_to_symbol, weighted=True)"
   ]
  },
  {
   "cell_type": "code",
   "execution_count": 35,
   "metadata": {
    "ExecuteTime": {
     "end_time": "2021-11-18T22:37:12.608273Z",
     "start_time": "2021-11-18T22:37:07.953445Z"
    }
   },
   "outputs": [
    {
     "name": "stdout",
     "output_type": "stream",
     "text": [
      "7290094 input edges\n",
      "9 self-edges removed\n",
      "752256 edges with un-mapped genes removed\n",
      "309 duplicate edges removed\n",
      "Edge list filtered: 4.61 seconds\n",
      "6537520 Edges remaining\n"
     ]
    }
   ],
   "source": [
    "# Filter converted edge list\n",
    "GeneMANIA_edgelist_symbol_filt = gct.filter_converted_edgelist(GeneMANIA_edgelist_symbol, weighted=True)"
   ]
  },
  {
   "cell_type": "code",
   "execution_count": 36,
   "metadata": {
    "ExecuteTime": {
     "end_time": "2021-11-18T22:37:34.941191Z",
     "start_time": "2021-11-18T22:37:25.930434Z"
    }
   },
   "outputs": [
    {
     "name": "stdout",
     "output_type": "stream",
     "text": [
      "Edge list saved: 9.01 seconds\n"
     ]
    }
   ],
   "source": [
    "# Write network to file\n",
    "gct.write_edgelist(GeneMANIA_edgelist_symbol_filt, wd+'Processed_Data/Network_SIFs_Symbol/GeneMANIA_Symbol.sif', binary=False)"
   ]
  },
  {
   "cell_type": "code",
   "execution_count": 37,
   "metadata": {
    "ExecuteTime": {
     "end_time": "2021-11-18T22:37:50.691785Z",
     "start_time": "2021-11-18T22:37:48.065400Z"
    }
   },
   "outputs": [
    {
     "name": "stdout",
     "output_type": "stream",
     "text": [
      "90.0% score: 0.00023\n",
      "613500 / 6537520 edges retained\n"
     ]
    }
   ],
   "source": [
    "# Create filtered network\n",
    "GeneMANIA90_edgelist = dit.filter_weighted_network_sif(wd+'Processed_Data/Network_SIFs_Symbol/GeneMANIA_Symbol.sif', nodeA_col=0, nodeB_col=1, score_col=2, \n",
    "                                                       q=0.9, delimiter='\\t', verbose=True, save_path=wd+'Processed_Data/Network_SIFs_Symbol/GeneMANIA90_Symbol.sif')"
   ]
  },
  {
   "cell_type": "markdown",
   "metadata": {},
   "source": [
    "# Changes\n",
    "\n",
    "**Gene Identifiers** : Now given as UniProt IDs rather than ensembl gene ids"
   ]
  },
  {
   "cell_type": "code",
   "execution_count": 22,
   "metadata": {
    "ExecuteTime": {
     "end_time": "2021-11-18T22:33:16.927234Z",
     "start_time": "2021-11-18T22:33:16.924587Z"
    }
   },
   "outputs": [],
   "source": [
    "stats = pd.DataFrame({\"v1\":[7290094, 6537520, 613500, 0.00023], \n",
    "                           \"v2\":[11749785, 11465678, 1140879, 9.5e-5]},\n",
    "                           index=[\"input\", \"filtered\", \"90th percentile\", \"90% score\"])"
   ]
  },
  {
   "cell_type": "code",
   "execution_count": 45,
   "metadata": {
    "ExecuteTime": {
     "end_time": "2021-11-18T22:40:22.749532Z",
     "start_time": "2021-11-18T22:40:21.951012Z"
    }
   },
   "outputs": [
    {
     "name": "stdout",
     "output_type": "stream",
     "text": [
      "17610\n",
      "18382\n",
      "772\n",
      "1264\n",
      "492\n"
     ]
    }
   ],
   "source": [
    "nodes_v1 = set(GeneMANIA_edgelist_symbol_filt[\"symbol_n1\"].values).union(set(GeneMANIA_edgelist_symbol_filt[\"symbol_n2\"].values))\n",
    "nodes_v2 = set(GeneMANIA_edgelist_symbol_filt_v2[\"symbol_n1\"].values).union(set(GeneMANIA_edgelist_symbol_filt_v2[\"symbol_n2\"].values))"
   ]
  },
  {
   "cell_type": "code",
   "execution_count": 51,
   "metadata": {
    "ExecuteTime": {
     "end_time": "2021-11-18T22:46:38.507186Z",
     "start_time": "2021-11-18T22:46:37.766367Z"
    }
   },
   "outputs": [
    {
     "data": {
      "text/plain": [
       "Text(0, 0.5, 'Number of nodes')"
      ]
     },
     "execution_count": 51,
     "metadata": {},
     "output_type": "execute_result"
    },
    {
     "data": {
      "image/png": "[encoded data removed]",
      "text/plain": [
       "<Figure size 432x288 with 1 Axes>"
      ]
     },
     "metadata": {
      "needs_background": "light"
     },
     "output_type": "display_data"
    },
    {
     "data": {
      "image/png": "[encoded data removed]",
      "text/plain": [
       "<Figure size 432x288 with 1 Axes>"
      ]
     },
     "metadata": {
      "needs_background": "light"
     },
     "output_type": "display_data"
    },
    {
     "data": {
      "image/png": "[encoded data removed]",
      "text/plain": [
       "<Figure size 432x288 with 1 Axes>"
      ]
     },
     "metadata": {
      "needs_background": "light"
     },
     "output_type": "display_data"
    }
   ],
   "source": [
    "stats.loc[[\"input\",\"filtered\", \"90th percentile\"]].plot.bar(ylabel=\"Number of edges\")\n",
    "stats.loc[[\"90% score\"]].plot.bar(ylabel=\"Number of edges\")\n",
    "plt.figure()\n",
    "plt.bar([\"v1\", \"v2\", \"intersect\", \"new V2\", \"removed V2\"], [len(nodes_v1), len(nodes_v2), len(nodes_v2)-len(nodes_v1),\n",
    "                                                           len(nodes_v2.difference(nodes_v1)), len(nodes_v1.difference(nodes_v2))])\n",
    "plt.ylabel(\"Number of nodes\")"
   ]
  }
 ],
 "metadata": {
  "kernelspec": {
   "display_name": "Python [conda env:pcnet_py3]",
   "language": "python",
   "name": "conda-env-pcnet_py3-py"
  },
  "language_info": {
   "codemirror_mode": {
    "name": "ipython",
    "version": 3
   },
   "file_extension": ".py",
   "mimetype": "text/x-python",
   "name": "python",
   "nbconvert_exporter": "python",
   "pygments_lexer": "ipython3",
   "version": "3.10.0"
  },
  "toc": {
   "base_numbering": 1,
   "nav_menu": {},
   "number_sections": true,
   "sideBar": true,
   "skip_h1_title": false,
   "title_cell": "Table of Contents",
   "title_sidebar": "Contents",
   "toc_cell": false,
   "toc_position": {},
   "toc_section_display": true,
   "toc_window_display": false
  },
  "varInspector": {
   "cols": {
    "lenName": 16,
    "lenType": 16,
    "lenVar": 40
   },
   "kernels_config": {
    "python": {
     "delete_cmd_postfix": "",
     "delete_cmd_prefix": "del ",
     "library": "var_list.py",
     "varRefreshCmd": "print(var_dic_list())"
    },
    "r": {
     "delete_cmd_postfix": ") ",
     "delete_cmd_prefix": "rm(",
     "library": "var_list.r",
     "varRefreshCmd": "cat(var_dic_list()) "
    }
   },
   "position": {
    "height": "428.844px",
    "left": "1337.33px",
    "right": "20px",
    "top": "120px",
    "width": "350px"
   },
   "types_to_exclude": [
    "module",
    "function",
    "builtin_function_or_method",
    "instance",
    "_Feature"
   ],
   "window_display": false
  }
 },
 "nbformat": 4,
 "nbformat_minor": 1
}
