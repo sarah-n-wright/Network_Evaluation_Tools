{
 "cells": [
  {
   "cell_type": "code",
   "execution_count": 1,
   "metadata": {
    "ExecuteTime": {
     "end_time": "2022-04-18T22:33:22.351687Z",
     "start_time": "2022-04-18T22:33:19.531727Z"
    }
   },
   "outputs": [],
   "source": [
    "from network_evaluation_tools import gene_conversion_tools as gct\n",
    "from network_evaluation_tools import data_import_tools as dit\n",
    "import pandas as pd\n",
    "import time"
   ]
  },
  {
   "cell_type": "code",
   "execution_count": 2,
   "metadata": {
    "ExecuteTime": {
     "end_time": "2022-04-18T22:33:22.357165Z",
     "start_time": "2022-04-18T22:33:22.355003Z"
    }
   },
   "outputs": [],
   "source": [
    "wd = '/cellar/users/snwright/Data/Network_Analysis/'"
   ]
  },
  {
   "cell_type": "markdown",
   "metadata": {},
   "source": [
    "# Version 2.0\n",
    "## Load GIANT/HumanBase Raw Data"
   ]
  },
  {
   "cell_type": "markdown",
   "metadata": {},
   "source": [
    "GIANT has moved to HumanBase (https://hb.flatironinstitute.org/). HumanBase does not provide an `all_tissues` network, so the original source is maintained. We check two version of a tissue specific network to identify changes:\n",
    "* http://giant.princeton.edu/static//networks/adipose_tissue_top.gz\n",
    "* https://s3-us-west-2.amazonaws.com/humanbase/networks/adipose_tissue_top.gz\n",
    "\n",
    "**Source: http://giant.princeton.edu/static//networks/all_tissues_top.gz**  \n",
    "Downloaded: Dec 8, 2021   \n",
    "Last Updated: N/A, but paper published in 2015  \n",
    "Note about processing: This network (even if it is already the top 10% of all edges) is extremely large. Therefore, we will further filter this 'top' functional network further to the top 10% which should yield about 4 million edges. We will then take the top 10% of this filtered network (about 400k edges) to use as the 'filtered' version of this network.\n",
    "\n"
   ]
  },
  {
   "cell_type": "markdown",
   "metadata": {},
   "source": [
    "## Check a tissue specific network for changes\n",
    "Appears to be unchanged"
   ]
  },
  {
   "cell_type": "code",
   "execution_count": 3,
   "metadata": {
    "ExecuteTime": {
     "end_time": "2022-04-18T22:33:45.620448Z",
     "start_time": "2022-04-18T22:33:22.359864Z"
    }
   },
   "outputs": [
    {
     "data": {
      "text/html": [
       "<div>\n",
       "<style scoped>\n",
       "    .dataframe tbody tr th:only-of-type {\n",
       "        vertical-align: middle;\n",
       "    }\n",
       "\n",
       "    .dataframe tbody tr th {\n",
       "        vertical-align: top;\n",
       "    }\n",
       "\n",
       "    .dataframe thead th {\n",
       "        text-align: right;\n",
       "    }\n",
       "</style>\n",
       "<table border=\"1\" class=\"dataframe\">\n",
       "  <thead>\n",
       "    <tr style=\"text-align: right;\">\n",
       "      <th></th>\n",
       "      <th>0</th>\n",
       "      <th>1</th>\n",
       "      <th>2</th>\n",
       "    </tr>\n",
       "  </thead>\n",
       "  <tbody>\n",
       "    <tr>\n",
       "      <th>0</th>\n",
       "      <td>1</td>\n",
       "      <td>100008586</td>\n",
       "      <td>0.127018</td>\n",
       "    </tr>\n",
       "    <tr>\n",
       "      <th>1</th>\n",
       "      <td>1</td>\n",
       "      <td>100008588</td>\n",
       "      <td>0.100027</td>\n",
       "    </tr>\n",
       "    <tr>\n",
       "      <th>2</th>\n",
       "      <td>1</td>\n",
       "      <td>100009606</td>\n",
       "      <td>0.100027</td>\n",
       "    </tr>\n",
       "    <tr>\n",
       "      <th>3</th>\n",
       "      <td>1</td>\n",
       "      <td>100009613</td>\n",
       "      <td>0.102824</td>\n",
       "    </tr>\n",
       "    <tr>\n",
       "      <th>4</th>\n",
       "      <td>1</td>\n",
       "      <td>100009665</td>\n",
       "      <td>0.100027</td>\n",
       "    </tr>\n",
       "  </tbody>\n",
       "</table>\n",
       "</div>"
      ],
      "text/plain": [
       "   0          1         2\n",
       "0  1  100008586  0.127018\n",
       "1  1  100008588  0.100027\n",
       "2  1  100009606  0.100027\n",
       "3  1  100009613  0.102824\n",
       "4  1  100009665  0.100027"
      ]
     },
     "execution_count": 3,
     "metadata": {},
     "output_type": "execute_result"
    }
   ],
   "source": [
    "adi_original = pd.read_csv(wd + 'Network_Data_Raw/GIANT_HumanBase/GIANT_adipose_tissue_top.gz', sep=\"\\t\", header=None, low_memory=False)\n",
    "adi_original.head()"
   ]
  },
  {
   "cell_type": "code",
   "execution_count": 4,
   "metadata": {
    "ExecuteTime": {
     "end_time": "2022-04-18T22:33:52.054105Z",
     "start_time": "2022-04-18T22:33:45.622793Z"
    }
   },
   "outputs": [
    {
     "data": {
      "text/html": [
       "<div>\n",
       "<style scoped>\n",
       "    .dataframe tbody tr th:only-of-type {\n",
       "        vertical-align: middle;\n",
       "    }\n",
       "\n",
       "    .dataframe tbody tr th {\n",
       "        vertical-align: top;\n",
       "    }\n",
       "\n",
       "    .dataframe thead th {\n",
       "        text-align: right;\n",
       "    }\n",
       "</style>\n",
       "<table border=\"1\" class=\"dataframe\">\n",
       "  <thead>\n",
       "    <tr style=\"text-align: right;\">\n",
       "      <th></th>\n",
       "      <th>0</th>\n",
       "      <th>1</th>\n",
       "      <th>2</th>\n",
       "    </tr>\n",
       "  </thead>\n",
       "  <tbody>\n",
       "    <tr>\n",
       "      <th>count</th>\n",
       "      <td>9.805274e+07</td>\n",
       "      <td>9.805274e+07</td>\n",
       "      <td>9.805274e+07</td>\n",
       "    </tr>\n",
       "    <tr>\n",
       "      <th>mean</th>\n",
       "      <td>2.607087e+07</td>\n",
       "      <td>1.872766e+06</td>\n",
       "      <td>1.228789e-01</td>\n",
       "    </tr>\n",
       "    <tr>\n",
       "      <th>std</th>\n",
       "      <td>4.381568e+07</td>\n",
       "      <td>1.274554e+07</td>\n",
       "      <td>5.336775e-02</td>\n",
       "    </tr>\n",
       "    <tr>\n",
       "      <th>min</th>\n",
       "      <td>1.000000e+00</td>\n",
       "      <td>2.000000e+00</td>\n",
       "      <td>1.000020e-01</td>\n",
       "    </tr>\n",
       "    <tr>\n",
       "      <th>25%</th>\n",
       "      <td>2.711500e+04</td>\n",
       "      <td>9.632000e+03</td>\n",
       "      <td>1.000270e-01</td>\n",
       "    </tr>\n",
       "    <tr>\n",
       "      <th>50%</th>\n",
       "      <td>2.220700e+05</td>\n",
       "      <td>8.394000e+04</td>\n",
       "      <td>1.040630e-01</td>\n",
       "    </tr>\n",
       "    <tr>\n",
       "      <th>75%</th>\n",
       "      <td>1.001011e+08</td>\n",
       "      <td>4.012850e+05</td>\n",
       "      <td>1.198710e-01</td>\n",
       "    </tr>\n",
       "    <tr>\n",
       "      <th>max</th>\n",
       "      <td>1.005346e+08</td>\n",
       "      <td>1.005346e+08</td>\n",
       "      <td>9.997760e-01</td>\n",
       "    </tr>\n",
       "  </tbody>\n",
       "</table>\n",
       "</div>"
      ],
      "text/plain": [
       "                  0             1             2\n",
       "count  9.805274e+07  9.805274e+07  9.805274e+07\n",
       "mean   2.607087e+07  1.872766e+06  1.228789e-01\n",
       "std    4.381568e+07  1.274554e+07  5.336775e-02\n",
       "min    1.000000e+00  2.000000e+00  1.000020e-01\n",
       "25%    2.711500e+04  9.632000e+03  1.000270e-01\n",
       "50%    2.220700e+05  8.394000e+04  1.040630e-01\n",
       "75%    1.001011e+08  4.012850e+05  1.198710e-01\n",
       "max    1.005346e+08  1.005346e+08  9.997760e-01"
      ]
     },
     "execution_count": 4,
     "metadata": {},
     "output_type": "execute_result"
    }
   ],
   "source": [
    "adi_original.describe()"
   ]
  },
  {
   "cell_type": "code",
   "execution_count": 5,
   "metadata": {
    "ExecuteTime": {
     "end_time": "2022-04-18T22:34:15.385927Z",
     "start_time": "2022-04-18T22:33:52.056872Z"
    }
   },
   "outputs": [
    {
     "data": {
      "text/html": [
       "<div>\n",
       "<style scoped>\n",
       "    .dataframe tbody tr th:only-of-type {\n",
       "        vertical-align: middle;\n",
       "    }\n",
       "\n",
       "    .dataframe tbody tr th {\n",
       "        vertical-align: top;\n",
       "    }\n",
       "\n",
       "    .dataframe thead th {\n",
       "        text-align: right;\n",
       "    }\n",
       "</style>\n",
       "<table border=\"1\" class=\"dataframe\">\n",
       "  <thead>\n",
       "    <tr style=\"text-align: right;\">\n",
       "      <th></th>\n",
       "      <th>0</th>\n",
       "      <th>1</th>\n",
       "      <th>2</th>\n",
       "    </tr>\n",
       "  </thead>\n",
       "  <tbody>\n",
       "    <tr>\n",
       "      <th>0</th>\n",
       "      <td>1</td>\n",
       "      <td>100008586</td>\n",
       "      <td>0.127018</td>\n",
       "    </tr>\n",
       "    <tr>\n",
       "      <th>1</th>\n",
       "      <td>1</td>\n",
       "      <td>100008588</td>\n",
       "      <td>0.100027</td>\n",
       "    </tr>\n",
       "    <tr>\n",
       "      <th>2</th>\n",
       "      <td>1</td>\n",
       "      <td>100009606</td>\n",
       "      <td>0.100027</td>\n",
       "    </tr>\n",
       "    <tr>\n",
       "      <th>3</th>\n",
       "      <td>1</td>\n",
       "      <td>100009613</td>\n",
       "      <td>0.102824</td>\n",
       "    </tr>\n",
       "    <tr>\n",
       "      <th>4</th>\n",
       "      <td>1</td>\n",
       "      <td>100009665</td>\n",
       "      <td>0.100027</td>\n",
       "    </tr>\n",
       "  </tbody>\n",
       "</table>\n",
       "</div>"
      ],
      "text/plain": [
       "   0          1         2\n",
       "0  1  100008586  0.127018\n",
       "1  1  100008588  0.100027\n",
       "2  1  100009606  0.100027\n",
       "3  1  100009613  0.102824\n",
       "4  1  100009665  0.100027"
      ]
     },
     "execution_count": 5,
     "metadata": {},
     "output_type": "execute_result"
    }
   ],
   "source": [
    "adi_humanbase = pd.read_csv(wd + 'Network_Data_Raw/GIANT_HumanBase/HumanBase_adipose_tissue_top.gz', sep=\"\\t\", header=None, low_memory=False)\n",
    "adi_humanbase.head()"
   ]
  },
  {
   "cell_type": "code",
   "execution_count": 6,
   "metadata": {
    "ExecuteTime": {
     "end_time": "2022-04-18T22:34:21.763259Z",
     "start_time": "2022-04-18T22:34:15.389024Z"
    }
   },
   "outputs": [
    {
     "data": {
      "text/html": [
       "<div>\n",
       "<style scoped>\n",
       "    .dataframe tbody tr th:only-of-type {\n",
       "        vertical-align: middle;\n",
       "    }\n",
       "\n",
       "    .dataframe tbody tr th {\n",
       "        vertical-align: top;\n",
       "    }\n",
       "\n",
       "    .dataframe thead th {\n",
       "        text-align: right;\n",
       "    }\n",
       "</style>\n",
       "<table border=\"1\" class=\"dataframe\">\n",
       "  <thead>\n",
       "    <tr style=\"text-align: right;\">\n",
       "      <th></th>\n",
       "      <th>0</th>\n",
       "      <th>1</th>\n",
       "      <th>2</th>\n",
       "    </tr>\n",
       "  </thead>\n",
       "  <tbody>\n",
       "    <tr>\n",
       "      <th>count</th>\n",
       "      <td>9.805274e+07</td>\n",
       "      <td>9.805274e+07</td>\n",
       "      <td>9.805274e+07</td>\n",
       "    </tr>\n",
       "    <tr>\n",
       "      <th>mean</th>\n",
       "      <td>2.607087e+07</td>\n",
       "      <td>1.872766e+06</td>\n",
       "      <td>1.228789e-01</td>\n",
       "    </tr>\n",
       "    <tr>\n",
       "      <th>std</th>\n",
       "      <td>4.381568e+07</td>\n",
       "      <td>1.274554e+07</td>\n",
       "      <td>5.336775e-02</td>\n",
       "    </tr>\n",
       "    <tr>\n",
       "      <th>min</th>\n",
       "      <td>1.000000e+00</td>\n",
       "      <td>2.000000e+00</td>\n",
       "      <td>1.000020e-01</td>\n",
       "    </tr>\n",
       "    <tr>\n",
       "      <th>25%</th>\n",
       "      <td>2.711500e+04</td>\n",
       "      <td>9.632000e+03</td>\n",
       "      <td>1.000270e-01</td>\n",
       "    </tr>\n",
       "    <tr>\n",
       "      <th>50%</th>\n",
       "      <td>2.220700e+05</td>\n",
       "      <td>8.394000e+04</td>\n",
       "      <td>1.040630e-01</td>\n",
       "    </tr>\n",
       "    <tr>\n",
       "      <th>75%</th>\n",
       "      <td>1.001011e+08</td>\n",
       "      <td>4.012850e+05</td>\n",
       "      <td>1.198710e-01</td>\n",
       "    </tr>\n",
       "    <tr>\n",
       "      <th>max</th>\n",
       "      <td>1.005346e+08</td>\n",
       "      <td>1.005346e+08</td>\n",
       "      <td>9.997760e-01</td>\n",
       "    </tr>\n",
       "  </tbody>\n",
       "</table>\n",
       "</div>"
      ],
      "text/plain": [
       "                  0             1             2\n",
       "count  9.805274e+07  9.805274e+07  9.805274e+07\n",
       "mean   2.607087e+07  1.872766e+06  1.228789e-01\n",
       "std    4.381568e+07  1.274554e+07  5.336775e-02\n",
       "min    1.000000e+00  2.000000e+00  1.000020e-01\n",
       "25%    2.711500e+04  9.632000e+03  1.000270e-01\n",
       "50%    2.220700e+05  8.394000e+04  1.040630e-01\n",
       "75%    1.001011e+08  4.012850e+05  1.198710e-01\n",
       "max    1.005346e+08  1.005346e+08  9.997760e-01"
      ]
     },
     "execution_count": 6,
     "metadata": {},
     "output_type": "execute_result"
    }
   ],
   "source": [
    "adi_humanbase.describe()"
   ]
  },
  {
   "cell_type": "markdown",
   "metadata": {},
   "source": [
    "# Version 1.0 (Original)\n",
    "## Load GIANT Raw Data\n",
    "#### Source: http://giant.princeton.edu/static//networks/all_tissues_top.gz\n",
    "Downloaded: June 15, 2017  \n",
    "Last Updated: N/A, but paper published in 2015  \n",
    "Note about processing: This network (even if it is already the top 10% of all edges) is extremely large. Therefore, we will further filter this 'top' functional network further to the top 10% which should yield about 4 million edges. We will then take the top 10% of this filtered network (about 400k edges) to use as the 'filtered' version of this network."
   ]
  },
  {
   "cell_type": "code",
   "execution_count": 7,
   "metadata": {
    "ExecuteTime": {
     "end_time": "2022-04-18T22:34:31.946548Z",
     "start_time": "2022-04-18T22:34:21.765991Z"
    }
   },
   "outputs": [
    {
     "name": "stdout",
     "output_type": "stream",
     "text": [
      "GIANT All Tissues (Top) Interactions: 38903547\n"
     ]
    }
   ],
   "source": [
    "\n",
    "input_raw = pd.read_csv(wd+'Network_Data_Raw/GIANT_HumanBase/all_tissues_top.gz', sep='\\t', header=None, low_memory=False)\n",
    "input_raw.columns = ['NodeA', 'NodeB', 'Prob']\n",
    "print('GIANT All Tissues (Top) Interactions:', input_raw.shape[0])"
   ]
  },
  {
   "cell_type": "code",
   "execution_count": 8,
   "metadata": {
    "ExecuteTime": {
     "end_time": "2022-04-18T22:34:38.046282Z",
     "start_time": "2022-04-18T22:34:31.949202Z"
    },
    "scrolled": true
   },
   "outputs": [
    {
     "name": "stdout",
     "output_type": "stream",
     "text": [
      "The history saving thread hit an unexpected error (OperationalError('database is locked')).History will not be written to the database.\n"
     ]
    }
   ],
   "source": [
    "# Get all genes to convert from GeneMANIA\n",
    "genes = list(set(input_raw['NodeA']).union(input_raw['NodeB']))\n",
    "# Convert all entrezIDs to string forst\n",
    "genes = [str(entrezID) for entrezID in genes]"
   ]
  },
  {
   "cell_type": "markdown",
   "metadata": {},
   "source": [
    "##  Convert genes from Entrez ID to HUGO Symbol"
   ]
  },
  {
   "cell_type": "code",
   "execution_count": 9,
   "metadata": {
    "ExecuteTime": {
     "end_time": "2022-04-18T22:34:38.094662Z",
     "start_time": "2022-04-18T22:34:38.048997Z"
    }
   },
   "outputs": [
    {
     "name": "stdout",
     "output_type": "stream",
     "text": [
      "25689 Valid Query Genes\n",
      "0 Invalid Query Genes\n"
     ]
    }
   ],
   "source": [
    "query_string, valid_genes, invalid_genes = gct.query_constructor(genes)"
   ]
  },
  {
   "cell_type": "code",
   "execution_count": 10,
   "metadata": {
    "ExecuteTime": {
     "end_time": "2022-04-18T22:35:07.895148Z",
     "start_time": "2022-04-18T22:34:38.098102Z"
    }
   },
   "outputs": [
    {
     "name": "stderr",
     "output_type": "stream",
     "text": [
      "100%|██████████| 26/26 [00:29<00:00,  1.14s/it]"
     ]
    },
    {
     "name": "stdout",
     "output_type": "stream",
     "text": [
      "26039 Matched query results\n",
      "Batch query complete: 29.79 seconds\n",
      "26039 Matched query results\n"
     ]
    },
    {
     "name": "stderr",
     "output_type": "stream",
     "text": [
      "\n"
     ]
    }
   ],
   "source": [
    "# Set scopes (gene naming systems to search)\n",
    "scopes = \"entrezgene, retired, alias\"\n",
    "\n",
    "# Set fields (systems from which to return gene names from)\n",
    "fields = \"symbol, entrezgene\"\n",
    "\n",
    "# Query MyGene.Info\n",
    "match_list = gct.query_batch(query_string, scopes=scopes, fields=fields)\n",
    "print(len(match_list), 'Matched query results')"
   ]
  },
  {
   "cell_type": "code",
   "execution_count": 11,
   "metadata": {
    "ExecuteTime": {
     "end_time": "2022-04-18T22:35:08.035785Z",
     "start_time": "2022-04-18T22:35:07.895879Z"
    }
   },
   "outputs": [
    {
     "name": "stdout",
     "output_type": "stream",
     "text": [
      "Number of genes with multiple matches: 350\n",
      "Number of unmatched genes: 1078\n",
      "Number of fully matched genes: 24611\n",
      "Number of partially matched genes: 1078\n"
     ]
    }
   ],
   "source": [
    "match_table_trim, query_to_symbol, query_to_entrez = gct.construct_query_map_table(match_list, valid_genes,\n",
    "                                                                                  display_unmatched_queries=False)"
   ]
  },
  {
   "cell_type": "markdown",
   "metadata": {},
   "source": [
    "## Construct converted network and filter edges"
   ]
  },
  {
   "cell_type": "code",
   "execution_count": 12,
   "metadata": {
    "ExecuteTime": {
     "end_time": "2022-04-18T22:36:05.844812Z",
     "start_time": "2022-04-18T22:35:08.037707Z"
    }
   },
   "outputs": [
    {
     "name": "stdout",
     "output_type": "stream",
     "text": [
      "CPU times: user 55.3 s, sys: 2.42 s, total: 57.7 s\n",
      "Wall time: 57.8 s\n"
     ]
    }
   ],
   "source": [
    "%%time\n",
    "edgelist_symbol = gct.convert_edgelist(input_raw, query_to_symbol)"
   ]
  },
  {
   "cell_type": "code",
   "execution_count": 14,
   "metadata": {
    "ExecuteTime": {
     "end_time": "2022-04-18T22:36:29.234941Z",
     "start_time": "2022-04-18T22:36:29.227728Z"
    }
   },
   "outputs": [
    {
     "data": {
      "text/html": [
       "<div>\n",
       "<style scoped>\n",
       "    .dataframe tbody tr th:only-of-type {\n",
       "        vertical-align: middle;\n",
       "    }\n",
       "\n",
       "    .dataframe tbody tr th {\n",
       "        vertical-align: top;\n",
       "    }\n",
       "\n",
       "    .dataframe thead th {\n",
       "        text-align: right;\n",
       "    }\n",
       "</style>\n",
       "<table border=\"1\" class=\"dataframe\">\n",
       "  <thead>\n",
       "    <tr style=\"text-align: right;\">\n",
       "      <th></th>\n",
       "      <th>symbol_n1</th>\n",
       "      <th>symbol_n2</th>\n",
       "      <th>Prob</th>\n",
       "    </tr>\n",
       "  </thead>\n",
       "  <tbody>\n",
       "    <tr>\n",
       "      <th>0</th>\n",
       "      <td>RFPL1</td>\n",
       "      <td>DUOX1</td>\n",
       "      <td>0.137373</td>\n",
       "    </tr>\n",
       "    <tr>\n",
       "      <th>1</th>\n",
       "      <td>RFPL1</td>\n",
       "      <td>SPATA31E1</td>\n",
       "      <td>0.116511</td>\n",
       "    </tr>\n",
       "    <tr>\n",
       "      <th>2</th>\n",
       "      <td>RFPL1</td>\n",
       "      <td>AMY1B</td>\n",
       "      <td>0.104127</td>\n",
       "    </tr>\n",
       "    <tr>\n",
       "      <th>3</th>\n",
       "      <td>RFPL1</td>\n",
       "      <td>CCDC184</td>\n",
       "      <td>0.114427</td>\n",
       "    </tr>\n",
       "    <tr>\n",
       "      <th>4</th>\n",
       "      <td>RFPL1</td>\n",
       "      <td>ZNF616</td>\n",
       "      <td>0.115751</td>\n",
       "    </tr>\n",
       "  </tbody>\n",
       "</table>\n",
       "</div>"
      ],
      "text/plain": [
       "  symbol_n1  symbol_n2      Prob\n",
       "0     RFPL1      DUOX1  0.137373\n",
       "1     RFPL1  SPATA31E1  0.116511\n",
       "2     RFPL1      AMY1B  0.104127\n",
       "3     RFPL1    CCDC184  0.114427\n",
       "4     RFPL1     ZNF616  0.115751"
      ]
     },
     "execution_count": 14,
     "metadata": {},
     "output_type": "execute_result"
    }
   ],
   "source": [
    "edgelist_symbol.head()"
   ]
  },
  {
   "cell_type": "code",
   "execution_count": null,
   "metadata": {
    "ExecuteTime": {
     "start_time": "2022-04-18T22:36:44.746Z"
    }
   },
   "outputs": [
    {
     "name": "stdout",
     "output_type": "stream",
     "text": [
      "38903547 input edges\n",
      "125 self-edges removed\n",
      "3330248 edges with un-mapped genes removed\n"
     ]
    }
   ],
   "source": [
    "# Filter GIANT network edgelist\n",
    "edgelist_filt = gct.filter_converted_edgelist(edgelist_symbol, remove_self_edges=True, \n",
    "                                          node_cols=[\"symbol_n1\", \"symbol_n2\"], weight_col=\"Prob\")"
   ]
  },
  {
   "cell_type": "code",
   "execution_count": null,
   "metadata": {
    "ExecuteTime": {
     "end_time": "2022-04-18T22:36:10.206616Z",
     "start_time": "2022-04-18T22:36:10.206604Z"
    }
   },
   "outputs": [],
   "source": [
    "edgelist_filt.head()"
   ]
  },
  {
   "cell_type": "markdown",
   "metadata": {},
   "source": [
    "## Filter to top 10% of edges by weight/score"
   ]
  },
  {
   "cell_type": "code",
   "execution_count": null,
   "metadata": {
    "ExecuteTime": {
     "start_time": "2022-04-18T22:36:50.571Z"
    }
   },
   "outputs": [],
   "source": [
    "# Filter edges by score quantile\n",
    "q_score = edgelist_filt['Prob'].quantile(0.9)\n",
    "print('90% score:', q_score)\n",
    "top_edgelist = edgelist_filt[edgelist_filt['Prob']>q_score]"
   ]
  },
  {
   "cell_type": "code",
   "execution_count": null,
   "metadata": {
    "ExecuteTime": {
     "end_time": "2022-04-18T22:36:10.211277Z",
     "start_time": "2022-04-18T22:36:10.211265Z"
    }
   },
   "outputs": [],
   "source": [
    "# Save weighted network for GIANT filtered to top 10% of downloaded edges to file\n",
    "top_edgelist.to_csv(wd+'/Processed_Data/Network_SIFs_Symbol/GIANT_Symbol_2022.sif', sep='\\t', header=False, index=False)"
   ]
  },
  {
   "cell_type": "code",
   "execution_count": null,
   "metadata": {
    "ExecuteTime": {
     "start_time": "2022-04-18T22:36:51.557Z"
    }
   },
   "outputs": [],
   "source": [
    "# Create filtered network for GIANT\n",
    "edgelist_90 = dit.filter_weighted_network_sif(wd+'/Processed_Data/Network_SIFs_Symbol/GIANT_Symbol_2022.sif', nodeA_col=0, nodeB_col=1, score_col=2, \n",
    "                                                   q=0.9, delimiter='\\t', verbose=True, save_path=wd+'/Processed_Data/Network_SIFs_Symbol/GIANT90_Symbol_2022.sif')"
   ]
  },
  {
   "cell_type": "code",
   "execution_count": null,
   "metadata": {
    "ExecuteTime": {
     "start_time": "2022-04-18T22:37:08.811Z"
    }
   },
   "outputs": [],
   "source": [
    "len(set(edgelist_filt[\"symbol_n1\"]).union(set(edgelist_filt[\"symbol_n2\"])))"
   ]
  }
 ],
 "metadata": {
  "kernelspec": {
   "display_name": "Python [conda env:pcnet_py3]",
   "language": "python",
   "name": "conda-env-pcnet_py3-py"
  },
  "language_info": {
   "codemirror_mode": {
    "name": "ipython",
    "version": 3
   },
   "file_extension": ".py",
   "mimetype": "text/x-python",
   "name": "python",
   "nbconvert_exporter": "python",
   "pygments_lexer": "ipython3",
   "version": "3.10.0"
  },
  "toc": {
   "base_numbering": 1,
   "nav_menu": {},
   "number_sections": true,
   "sideBar": true,
   "skip_h1_title": false,
   "title_cell": "Table of Contents",
   "title_sidebar": "Contents",
   "toc_cell": false,
   "toc_position": {},
   "toc_section_display": true,
   "toc_window_display": true
  },
  "varInspector": {
   "cols": {
    "lenName": 16,
    "lenType": 16,
    "lenVar": 40
   },
   "kernels_config": {
    "python": {
     "delete_cmd_postfix": "",
     "delete_cmd_prefix": "del ",
     "library": "var_list.py",
     "varRefreshCmd": "print(var_dic_list())"
    },
    "r": {
     "delete_cmd_postfix": ") ",
     "delete_cmd_prefix": "rm(",
     "library": "var_list.r",
     "varRefreshCmd": "cat(var_dic_list()) "
    }
   },
   "types_to_exclude": [
    "module",
    "function",
    "builtin_function_or_method",
    "instance",
    "_Feature"
   ],
   "window_display": false
  }
 },
 "nbformat": 4,
 "nbformat_minor": 1
}
