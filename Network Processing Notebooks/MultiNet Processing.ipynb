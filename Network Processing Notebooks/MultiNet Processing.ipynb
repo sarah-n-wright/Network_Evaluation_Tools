{
 "cells": [
  {
   "cell_type": "code",
   "execution_count": 1,
   "metadata": {
    "ExecuteTime": {
     "end_time": "2022-01-17T23:53:34.842958Z",
     "start_time": "2022-01-17T23:53:31.518639Z"
    }
   },
   "outputs": [],
   "source": [
    "from network_evaluation_tools import gene_conversion_tools as gct\n",
    "from network_evaluation_tools import data_import_tools as dit\n",
    "import pandas as pd\n",
    "import itertools"
   ]
  },
  {
   "cell_type": "code",
   "execution_count": 2,
   "metadata": {
    "ExecuteTime": {
     "end_time": "2022-01-17T23:53:34.846130Z",
     "start_time": "2022-01-17T23:53:34.844409Z"
    }
   },
   "outputs": [],
   "source": [
    "wd = '/cellar/users/snwright/Data/Network_Analysis/'"
   ]
  },
  {
   "cell_type": "markdown",
   "metadata": {},
   "source": [
    "## Load MultiNet Raw Data\n",
    "#### Source: http://homes.gersteinlab.org/Khurana-PLoSCompBio-2013/\n",
    "Downloaded: August 12, 2016  \n",
    "Last Updated: March 17, 2013  \n",
    "Processing Notes: MultiNet has labels which interactions are noted as PPI and which are not. In the initial case, we will be examining all interaction information for MultiNet. However, in this case it is simple enough to parse the PPI only information from the data, and can be done in future work if necessary."
   ]
  },
  {
   "cell_type": "code",
   "execution_count": 3,
   "metadata": {
    "ExecuteTime": {
     "end_time": "2022-01-17T23:54:57.635568Z",
     "start_time": "2022-01-17T23:54:57.556214Z"
    }
   },
   "outputs": [
    {
     "name": "stdout",
     "output_type": "stream",
     "text": [
      "Raw edge count in MultiNet: 109598\n"
     ]
    }
   ],
   "source": [
    "MultiNet_Raw = pd.read_csv(wd+'Network_Data_Raw/Multinet.interactions.network_presence_2013_03_17.txt',sep='\\t')\n",
    "print('Raw edge count in MultiNet:', MultiNet_Raw.shape[0])"
   ]
  },
  {
   "cell_type": "code",
   "execution_count": 4,
   "metadata": {
    "ExecuteTime": {
     "end_time": "2022-01-17T23:56:50.257389Z",
     "start_time": "2022-01-17T23:56:50.183347Z"
    }
   },
   "outputs": [],
   "source": [
    "# Build edge list from interaction column. The two parts of the interaction name on either side of '_' are gene symbols\n",
    "MultiNet_edgelist = [interaction.split('_') for interaction in MultiNet_Raw['INTERACTION_NAME']]"
   ]
  },
  {
   "cell_type": "code",
   "execution_count": 5,
   "metadata": {
    "ExecuteTime": {
     "end_time": "2022-01-17T23:56:51.880696Z",
     "start_time": "2022-01-17T23:56:51.804287Z"
    }
   },
   "outputs": [],
   "source": [
    "# Sort each edge representation for filtering\n",
    "MultiNet_edgelist_sorted = [sorted(edge) for edge in MultiNet_edgelist]"
   ]
  },
  {
   "cell_type": "code",
   "execution_count": 7,
   "metadata": {
    "ExecuteTime": {
     "end_time": "2022-01-17T23:57:58.861054Z",
     "start_time": "2022-01-17T23:57:58.719413Z"
    }
   },
   "outputs": [
    {
     "name": "stdout",
     "output_type": "stream",
     "text": [
      "109598 input edges\n",
      "0 self-edges removed\n",
      "0 edges with un-mapped genes removed\n",
      "0 duplicate edges removed\n",
      "Edge list filtered: 0.12 seconds\n",
      "109598 Edges remaining\n"
     ]
    }
   ],
   "source": [
    "# Original\n",
    "# 109598 input edges\n",
    "# 0 self-edges removed\n",
    "# 0 edges with un-mapped genes removed\n",
    "# 0 duplicate edges removed\n",
    "# Edge list filtered: 0.31 seconds\n",
    "# 109598 Edges remaining\n",
    "# Filter edgelist for duplicate nodes and for self-edges\n",
    "MultiNet_edgelist_filt = gct.filter_converted_edgelist(pd.DataFrame(MultiNet_edgelist_sorted, columns=[\"symbol_n1\", \"symbol_n2\"]))"
   ]
  },
  {
   "cell_type": "code",
   "execution_count": 13,
   "metadata": {},
   "outputs": [
    {
     "name": "stdout",
     "output_type": "stream",
     "text": [
      "Edge list saved: 0.11 seconds\n"
     ]
    }
   ],
   "source": [
    "# Save genelist to file\n",
    "outdir = '/cellar/users/jkhuang/Data/Projects/Network_Analysis/Data/Network_SIFs_Symbol/'\n",
    "gct.write_edgelist(MultiNet_edgelist_filt, outdir+'MultiNet_Symbol.sif')"
   ]
  }
 ],
 "metadata": {
  "kernelspec": {
   "display_name": "Python [conda env:pcnet_py3]",
   "language": "python",
   "name": "conda-env-pcnet_py3-py"
  },
  "language_info": {
   "codemirror_mode": {
    "name": "ipython",
    "version": 3
   },
   "file_extension": ".py",
   "mimetype": "text/x-python",
   "name": "python",
   "nbconvert_exporter": "python",
   "pygments_lexer": "ipython3",
   "version": "3.10.0"
  },
  "toc": {
   "base_numbering": 1,
   "nav_menu": {},
   "number_sections": true,
   "sideBar": true,
   "skip_h1_title": false,
   "title_cell": "Table of Contents",
   "title_sidebar": "Contents",
   "toc_cell": false,
   "toc_position": {},
   "toc_section_display": true,
   "toc_window_display": false
  },
  "varInspector": {
   "cols": {
    "lenName": 16,
    "lenType": 16,
    "lenVar": 40
   },
   "kernels_config": {
    "python": {
     "delete_cmd_postfix": "",
     "delete_cmd_prefix": "del ",
     "library": "var_list.py",
     "varRefreshCmd": "print(var_dic_list())"
    },
    "r": {
     "delete_cmd_postfix": ") ",
     "delete_cmd_prefix": "rm(",
     "library": "var_list.r",
     "varRefreshCmd": "cat(var_dic_list()) "
    }
   },
   "types_to_exclude": [
    "module",
    "function",
    "builtin_function_or_method",
    "instance",
    "_Feature"
   ],
   "window_display": false
  }
 },
 "nbformat": 4,
 "nbformat_minor": 1
}
