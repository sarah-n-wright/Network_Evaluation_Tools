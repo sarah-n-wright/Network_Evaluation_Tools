{
 "cells": [
  {
   "cell_type": "code",
   "execution_count": 1,
   "metadata": {
    "ExecuteTime": {
     "end_time": "2022-02-01T22:32:57.507248Z",
     "start_time": "2022-02-01T22:32:53.645506Z"
    }
   },
   "outputs": [],
   "source": [
    "from network_evaluation_tools import gene_conversion_tools as gct\n",
    "from network_evaluation_tools import data_import_tools as dit\n",
    "import pandas as pd\n",
    "import time\n",
    "import matplotlib.pyplot as plt"
   ]
  },
  {
   "cell_type": "code",
   "execution_count": 2,
   "metadata": {
    "ExecuteTime": {
     "end_time": "2022-02-01T22:32:57.511294Z",
     "start_time": "2022-02-01T22:32:57.508391Z"
    }
   },
   "outputs": [],
   "source": [
    "wd = '/cellar/users/snwright/Data/Network_Analysis/'"
   ]
  },
  {
   "cell_type": "markdown",
   "metadata": {},
   "source": [
    "# Version 2\n",
    "## Load HumanNet Raw Data\n",
    "**Source:  https://www.inetbio.org/humannet/networks/HumanNet-FN.tsv & https://www.inetbio.org/humannet/networks/HumanNet-XC.tsv**  \n",
    "\n",
    "Downloaded: November 16, 2021  \n",
    "Last updated: 2021, published Jan 2022   \n",
    "  \n",
    "**Note**: There are multiple networks available, we have chosen to use the composite Functional Network(FN) which contains data from co-expression (CX), pathway databases (DB), domain profile associations (DP), genetic interactions (GI), gene neighborhood (GN), phylogenetic profile associations (PG) and protein-protein interaction networks (PI). Data is also extracted from the XC network which contains all of FN with additional co-citation links\n",
    "\n",
    "<u>HumanNet Citations</u>:  \n",
    "**V1**: Insuk Lee, U. Martin Blom, Peggy I. Wang, Jung Eun Shin, and Edward M. Marcotte\n",
    "Genome Research 21(7):1109-21 (2011)  \n",
    "**V2**: Hwang S, Kim CY, Yang S, Kim E, Hart T, Marcotte EM, Lee I. HumanNet v2: human gene networks for disease research. Nucleic Acids Research 2019 Jan 8;47(D1):D573–D580  \n",
    "**V3**:Kim, Chan Yeong, Seungbyn Baek, Junha Cha, Sunmo Yang, Eiru Kim, Edward M. Marcotte, Traver Hart, and Insuk Lee. 2022. “HumanNet v3: An Improved Database of Human Gene Networks for Disease Research.” Nucleic Acids Research 50 (D1): D632–39.  \n"
   ]
  },
  {
   "cell_type": "code",
   "execution_count": 3,
   "metadata": {
    "ExecuteTime": {
     "end_time": "2022-02-01T22:32:58.076142Z",
     "start_time": "2022-02-01T22:32:57.511996Z"
    }
   },
   "outputs": [],
   "source": [
    "input_raw_XC = pd.read_csv(wd+'Network_Data_Raw/HumanNet_v3/HumanNet-XC.tsv',sep='\\t',header=None)\n",
    "input_raw_XC.columns = [\"Gene 1\", \"Gene 2\", \"IntNet\"]\n",
    "input_raw_FN = pd.read_csv(wd+'Network_Data_Raw/HumanNet_v3/HumanNet-FN.tsv',sep='\\t',header=None)\n",
    "input_raw_FN.columns = [\"Gene 1\", \"Gene 2\", \"IntNet\"]"
   ]
  },
  {
   "cell_type": "code",
   "execution_count": 4,
   "metadata": {
    "ExecuteTime": {
     "end_time": "2022-02-01T22:32:58.101820Z",
     "start_time": "2022-02-01T22:32:58.077299Z"
    }
   },
   "outputs": [
    {
     "data": {
      "text/html": [
       "<div>\n",
       "<style scoped>\n",
       "    .dataframe tbody tr th:only-of-type {\n",
       "        vertical-align: middle;\n",
       "    }\n",
       "\n",
       "    .dataframe tbody tr th {\n",
       "        vertical-align: top;\n",
       "    }\n",
       "\n",
       "    .dataframe thead th {\n",
       "        text-align: right;\n",
       "    }\n",
       "</style>\n",
       "<table border=\"1\" class=\"dataframe\">\n",
       "  <thead>\n",
       "    <tr style=\"text-align: right;\">\n",
       "      <th></th>\n",
       "      <th>Gene 1</th>\n",
       "      <th>Gene 2</th>\n",
       "      <th>IntNet</th>\n",
       "    </tr>\n",
       "  </thead>\n",
       "  <tbody>\n",
       "    <tr>\n",
       "      <th>0</th>\n",
       "      <td>7046</td>\n",
       "      <td>7048</td>\n",
       "      <td>6.044828</td>\n",
       "    </tr>\n",
       "    <tr>\n",
       "      <th>1</th>\n",
       "      <td>5211</td>\n",
       "      <td>5213</td>\n",
       "      <td>5.942313</td>\n",
       "    </tr>\n",
       "    <tr>\n",
       "      <th>2</th>\n",
       "      <td>10641</td>\n",
       "      <td>9681</td>\n",
       "      <td>5.899878</td>\n",
       "    </tr>\n",
       "    <tr>\n",
       "      <th>3</th>\n",
       "      <td>5213</td>\n",
       "      <td>5214</td>\n",
       "      <td>5.898546</td>\n",
       "    </tr>\n",
       "    <tr>\n",
       "      <th>4</th>\n",
       "      <td>5211</td>\n",
       "      <td>5214</td>\n",
       "      <td>5.898122</td>\n",
       "    </tr>\n",
       "  </tbody>\n",
       "</table>\n",
       "</div>"
      ],
      "text/plain": [
       "   Gene 1  Gene 2    IntNet\n",
       "0    7046    7048  6.044828\n",
       "1    5211    5213  5.942313\n",
       "2   10641    9681  5.899878\n",
       "3    5213    5214  5.898546\n",
       "4    5211    5214  5.898122"
      ]
     },
     "execution_count": 4,
     "metadata": {},
     "output_type": "execute_result"
    }
   ],
   "source": [
    "input_raw_XC.head()"
   ]
  },
  {
   "cell_type": "code",
   "execution_count": 5,
   "metadata": {
    "ExecuteTime": {
     "end_time": "2022-02-01T22:32:58.319635Z",
     "start_time": "2022-02-01T22:32:58.102498Z"
    }
   },
   "outputs": [],
   "source": [
    "# Extract gene list\n",
    "genes_XC = set(input_raw_XC['Gene 1']).union(set(input_raw_XC['Gene 2']))"
   ]
  },
  {
   "cell_type": "code",
   "execution_count": 6,
   "metadata": {
    "ExecuteTime": {
     "end_time": "2022-02-01T22:32:58.492125Z",
     "start_time": "2022-02-01T22:32:58.320489Z"
    }
   },
   "outputs": [],
   "source": [
    "# Extract gene list\n",
    "genes_FN = set(input_raw_FN['Gene 1']).union(set(input_raw_FN['Gene 2']))\n"
   ]
  },
  {
   "cell_type": "code",
   "execution_count": 7,
   "metadata": {
    "ExecuteTime": {
     "end_time": "2022-02-01T22:32:58.509973Z",
     "start_time": "2022-02-01T22:32:58.493021Z"
    }
   },
   "outputs": [],
   "source": [
    "genes_v2 = list(genes_XC.union(genes_FN))\n",
    "genes_v2 = [str(gene) for gene in genes_v2]"
   ]
  },
  {
   "cell_type": "markdown",
   "metadata": {},
   "source": [
    "##  Convert genes from Entrez ID to HUGO Symbol"
   ]
  },
  {
   "cell_type": "code",
   "execution_count": 8,
   "metadata": {
    "ExecuteTime": {
     "end_time": "2022-02-01T22:32:58.555707Z",
     "start_time": "2022-02-01T22:32:58.510647Z"
    }
   },
   "outputs": [
    {
     "name": "stdout",
     "output_type": "stream",
     "text": [
      "18595 Valid Query Genes\n",
      "0 Invalid Query Genes\n"
     ]
    }
   ],
   "source": [
    "query_string_v2, valid_genes_v2, invalid_genes_v2 = gct.query_constructor(genes_v2)"
   ]
  },
  {
   "cell_type": "code",
   "execution_count": 9,
   "metadata": {
    "ExecuteTime": {
     "end_time": "2022-02-01T22:33:16.566073Z",
     "start_time": "2022-02-01T22:32:58.556495Z"
    }
   },
   "outputs": [
    {
     "name": "stderr",
     "output_type": "stream",
     "text": [
      "100%|██████████| 19/19 [00:17<00:00,  1.06it/s]"
     ]
    },
    {
     "name": "stdout",
     "output_type": "stream",
     "text": [
      "18595 Matched query results\n",
      "Batch query complete: 18.0 seconds\n"
     ]
    },
    {
     "name": "stderr",
     "output_type": "stream",
     "text": [
      "\n"
     ]
    }
   ],
   "source": [
    "# Set scopes (gene naming systems to search)\n",
    "scopes = \"entrezgene, retired\"\n",
    "\n",
    "# Set fields (systems from which to return gene names from)\n",
    "fields = \"symbol, entrezgene\"\n",
    "\n",
    "# Query MyGene.Info\n",
    "match_list_v2 = gct.query_batch(query_string_v2, scopes=scopes, fields=fields)"
   ]
  },
  {
   "cell_type": "code",
   "execution_count": 10,
   "metadata": {
    "ExecuteTime": {
     "end_time": "2022-02-01T22:33:16.583829Z",
     "start_time": "2022-02-01T22:33:16.567678Z"
    }
   },
   "outputs": [],
   "source": [
    "match_list_v2 = pd.DataFrame.from_dict(match_list_v2)"
   ]
  },
  {
   "cell_type": "code",
   "execution_count": 11,
   "metadata": {
    "ExecuteTime": {
     "end_time": "2022-02-01T22:33:22.668551Z",
     "start_time": "2022-02-01T22:33:22.611590Z"
    }
   },
   "outputs": [
    {
     "name": "stdout",
     "output_type": "stream",
     "text": [
      "Number of genes with multiple matches: 0\n",
      "Number of unmatched genes: 0\n",
      "Number of fully matched genes: 18595\n",
      "Number of partially matched genes: 0\n"
     ]
    }
   ],
   "source": [
    "match_table_trim_v2, query_to_symbol_v2, query_to_entrez_v2 = gct.construct_query_map_table(match_list_v2, valid_genes_v2)"
   ]
  },
  {
   "cell_type": "markdown",
   "metadata": {},
   "source": [
    "## Construct Converted Network"
   ]
  },
  {
   "cell_type": "code",
   "execution_count": 12,
   "metadata": {
    "ExecuteTime": {
     "end_time": "2022-02-01T22:34:19.762358Z",
     "start_time": "2022-02-01T22:34:17.971930Z"
    }
   },
   "outputs": [
    {
     "name": "stdout",
     "output_type": "stream",
     "text": [
      "CPU times: user 1.71 s, sys: 64.2 ms, total: 1.78 s\n",
      "Wall time: 1.79 s\n"
     ]
    }
   ],
   "source": [
    "# Convert weighted edge list\n",
    "edgelist_symbol_XC = gct.convert_edgelist(input_raw_XC, query_to_symbol_v2)"
   ]
  },
  {
   "cell_type": "code",
   "execution_count": 13,
   "metadata": {
    "ExecuteTime": {
     "end_time": "2022-02-01T22:34:52.237495Z",
     "start_time": "2022-02-01T22:34:50.707795Z"
    }
   },
   "outputs": [
    {
     "name": "stdout",
     "output_type": "stream",
     "text": [
      "CPU times: user 1.49 s, sys: 37.9 ms, total: 1.52 s\n",
      "Wall time: 1.53 s\n"
     ]
    }
   ],
   "source": [
    "# Convert weighted edge list\n",
    "edgelist_symbol_FN = gct.convert_edgelist(input_raw_FN, query_to_symbol_v2)"
   ]
  },
  {
   "cell_type": "code",
   "execution_count": 17,
   "metadata": {
    "ExecuteTime": {
     "end_time": "2022-02-01T22:35:46.706177Z",
     "start_time": "2022-02-01T22:35:45.988261Z"
    }
   },
   "outputs": [
    {
     "name": "stdout",
     "output_type": "stream",
     "text": [
      "1125494 input edges\n",
      "1 self-edges removed\n",
      "0 edges with un-mapped genes removed\n",
      "1 duplicate edges removed\n",
      "Edge list filtered: 0.7 seconds\n",
      "1125493 Edges remaining\n"
     ]
    }
   ],
   "source": [
    "# Filter converted edge list\n",
    "edgelist_filt_XC = gct.filter_converted_edgelist(edgelist_symbol_XC, weight_col='IntNet')"
   ]
  },
  {
   "cell_type": "code",
   "execution_count": 19,
   "metadata": {
    "ExecuteTime": {
     "end_time": "2022-02-01T22:36:22.864281Z",
     "start_time": "2022-02-01T22:36:22.245638Z"
    }
   },
   "outputs": [
    {
     "name": "stdout",
     "output_type": "stream",
     "text": [
      "977495 input edges\n",
      "1 self-edges removed\n",
      "0 edges with un-mapped genes removed\n",
      "1 duplicate edges removed\n",
      "Edge list filtered: 0.61 seconds\n",
      "977494 Edges remaining\n"
     ]
    }
   ],
   "source": [
    "# Filter converted edge list\n",
    "edgelist_filt_FN = gct.filter_converted_edgelist(edgelist_symbol_FN, weight_col='IntNet')"
   ]
  },
  {
   "cell_type": "code",
   "execution_count": 20,
   "metadata": {
    "ExecuteTime": {
     "end_time": "2022-02-01T22:36:45.511604Z",
     "start_time": "2022-02-01T22:36:43.420658Z"
    }
   },
   "outputs": [
    {
     "name": "stdout",
     "output_type": "stream",
     "text": [
      "Edge list saved: 2.09 seconds\n"
     ]
    }
   ],
   "source": [
    "# Write network to file\n",
    "gct.write_edgelist(edgelist_filt_XC, wd+'Processed_Data/Network_SIFs_Symbol/HumanNet-XC_Symbol_v3.sif', binary=False)"
   ]
  },
  {
   "cell_type": "code",
   "execution_count": 21,
   "metadata": {
    "ExecuteTime": {
     "end_time": "2022-02-01T22:36:56.575836Z",
     "start_time": "2022-02-01T22:36:54.733773Z"
    }
   },
   "outputs": [
    {
     "name": "stdout",
     "output_type": "stream",
     "text": [
      "Edge list saved: 1.84 seconds\n"
     ]
    }
   ],
   "source": [
    "# Write network to file\n",
    "gct.write_edgelist(edgelist_filt_FN, wd+'Processed_Data/Network_SIFs_Symbol/HumanNet-FN_Symbol_v3.sif', binary=False)"
   ]
  },
  {
   "cell_type": "code",
   "execution_count": 22,
   "metadata": {
    "ExecuteTime": {
     "end_time": "2022-02-01T22:37:13.415119Z",
     "start_time": "2022-02-01T22:37:12.741915Z"
    }
   },
   "outputs": [
    {
     "name": "stdout",
     "output_type": "stream",
     "text": [
      "90.0% score: 3.4110431775494323\n",
      "112550 / 1125493 edges retained\n"
     ]
    }
   ],
   "source": [
    "# Create filtered network\n",
    "edgelist_XC_90 = dit.filter_weighted_network_sif(wd+'Processed_Data/Network_SIFs_Symbol/HumanNet-XC_Symbol_v3.sif', nodeA_col=0, nodeB_col=1, score_col=2, \n",
    "                                                      q=0.9, delimiter='\\t', verbose=True, save_path=wd+'Processed_Data/Network_SIFs_Symbol/HumanNet-XC90_Symbol_v3.sif')"
   ]
  },
  {
   "cell_type": "code",
   "execution_count": 23,
   "metadata": {
    "ExecuteTime": {
     "end_time": "2022-02-01T22:37:23.842374Z",
     "start_time": "2022-02-01T22:37:23.253232Z"
    }
   },
   "outputs": [
    {
     "name": "stdout",
     "output_type": "stream",
     "text": [
      "90.0% score: 3.2593202710699\n",
      "97736 / 977494 edges retained\n"
     ]
    }
   ],
   "source": [
    "# Create filtered network\n",
    "edgelist_FN_90 = dit.filter_weighted_network_sif(wd+'Processed_Data/Network_SIFs_Symbol/HumanNet-FN_Symbol_v3.sif', nodeA_col=0, nodeB_col=1, score_col=2, \n",
    "                                                      q=0.9, delimiter='\\t', verbose=True, save_path=wd+'Processed_Data/Network_SIFs_Symbol/HumanNet-FN90_Symbol_v3.sif')"
   ]
  },
  {
   "cell_type": "markdown",
   "metadata": {},
   "source": [
    "# Version 1\n",
    "## Load HumanNet Raw Data\n",
    "**Source: http://www.functionalnet.org/humannet/HumanNet.v1.benchmark.txt**  \n",
    "Downloaded: August 12, 2016  \n",
    "No latest version date posted (last updated likely around 2011).  \n",
    "Citation: Insuk Lee, U. Martin Blom, Peggy I. Wang, Jung Eun Shin, and Edward M. Marcotte\n",
    "Genome Research 21(7):1109-21 (2011)"
   ]
  },
  {
   "cell_type": "code",
   "execution_count": 24,
   "metadata": {
    "ExecuteTime": {
     "end_time": "2022-02-01T22:37:33.293267Z",
     "start_time": "2022-02-01T22:37:32.684876Z"
    }
   },
   "outputs": [],
   "source": [
    "input_raw= pd.read_csv(wd+'Network_Data_Raw/HumanNet.v1.join.txt',sep='\\t',header=None)"
   ]
  },
  {
   "cell_type": "code",
   "execution_count": 25,
   "metadata": {
    "ExecuteTime": {
     "end_time": "2022-02-01T22:37:40.304010Z",
     "start_time": "2022-02-01T22:37:40.283252Z"
    }
   },
   "outputs": [],
   "source": [
    "f = open(wd+'Network_Data_Raw/HumanNet.v1.evidence_code.txt')\n",
    "HumanNet_headers = ['Gene 1', 'Gene 2']+[name.split(' = ')[0] for name in f.read().splitlines()[1:-1]]\n",
    "input_raw.columns = HumanNet_headers"
   ]
  },
  {
   "cell_type": "code",
   "execution_count": 26,
   "metadata": {
    "ExecuteTime": {
     "end_time": "2022-02-01T22:37:56.264020Z",
     "start_time": "2022-02-01T22:37:56.252295Z"
    }
   },
   "outputs": [
    {
     "data": {
      "text/html": [
       "<div>\n",
       "<style scoped>\n",
       "    .dataframe tbody tr th:only-of-type {\n",
       "        vertical-align: middle;\n",
       "    }\n",
       "\n",
       "    .dataframe tbody tr th {\n",
       "        vertical-align: top;\n",
       "    }\n",
       "\n",
       "    .dataframe thead th {\n",
       "        text-align: right;\n",
       "    }\n",
       "</style>\n",
       "<table border=\"1\" class=\"dataframe\">\n",
       "  <thead>\n",
       "    <tr style=\"text-align: right;\">\n",
       "      <th></th>\n",
       "      <th>Gene 1</th>\n",
       "      <th>Gene 2</th>\n",
       "      <th>CE-CC</th>\n",
       "      <th>CE-CX</th>\n",
       "      <th>CE-GT</th>\n",
       "      <th>CE-LC</th>\n",
       "      <th>CE-YH</th>\n",
       "      <th>DM-PI</th>\n",
       "      <th>HS-CC</th>\n",
       "      <th>HS-CX</th>\n",
       "      <th>...</th>\n",
       "      <th>HS-PG</th>\n",
       "      <th>HS-YH</th>\n",
       "      <th>SC-CC</th>\n",
       "      <th>SC-CX</th>\n",
       "      <th>SC-GT</th>\n",
       "      <th>SC-LC</th>\n",
       "      <th>SC-MS</th>\n",
       "      <th>SC-TS</th>\n",
       "      <th>SC-YH</th>\n",
       "      <th>IntNet</th>\n",
       "    </tr>\n",
       "  </thead>\n",
       "  <tbody>\n",
       "    <tr>\n",
       "      <th>0</th>\n",
       "      <td>1743</td>\n",
       "      <td>4967</td>\n",
       "      <td>NaN</td>\n",
       "      <td>0.490660</td>\n",
       "      <td>NaN</td>\n",
       "      <td>NaN</td>\n",
       "      <td>NaN</td>\n",
       "      <td>NaN</td>\n",
       "      <td>3.645185</td>\n",
       "      <td>NaN</td>\n",
       "      <td>...</td>\n",
       "      <td>NaN</td>\n",
       "      <td>NaN</td>\n",
       "      <td>2.338262</td>\n",
       "      <td>NaN</td>\n",
       "      <td>NaN</td>\n",
       "      <td>3.000132</td>\n",
       "      <td>3.243989</td>\n",
       "      <td>NaN</td>\n",
       "      <td>NaN</td>\n",
       "      <td>4.256856</td>\n",
       "    </tr>\n",
       "    <tr>\n",
       "      <th>1</th>\n",
       "      <td>4171</td>\n",
       "      <td>4172</td>\n",
       "      <td>NaN</td>\n",
       "      <td>2.304166</td>\n",
       "      <td>NaN</td>\n",
       "      <td>NaN</td>\n",
       "      <td>NaN</td>\n",
       "      <td>2.122390</td>\n",
       "      <td>NaN</td>\n",
       "      <td>2.016765</td>\n",
       "      <td>...</td>\n",
       "      <td>NaN</td>\n",
       "      <td>NaN</td>\n",
       "      <td>3.217315</td>\n",
       "      <td>1.729727</td>\n",
       "      <td>2.370826</td>\n",
       "      <td>3.141053</td>\n",
       "      <td>1.762031</td>\n",
       "      <td>2.380625</td>\n",
       "      <td>NaN</td>\n",
       "      <td>4.254664</td>\n",
       "    </tr>\n",
       "    <tr>\n",
       "      <th>2</th>\n",
       "      <td>2237</td>\n",
       "      <td>5111</td>\n",
       "      <td>NaN</td>\n",
       "      <td>NaN</td>\n",
       "      <td>NaN</td>\n",
       "      <td>NaN</td>\n",
       "      <td>NaN</td>\n",
       "      <td>NaN</td>\n",
       "      <td>2.942468</td>\n",
       "      <td>1.933299</td>\n",
       "      <td>...</td>\n",
       "      <td>NaN</td>\n",
       "      <td>NaN</td>\n",
       "      <td>2.712615</td>\n",
       "      <td>3.652874</td>\n",
       "      <td>NaN</td>\n",
       "      <td>3.066321</td>\n",
       "      <td>2.870491</td>\n",
       "      <td>NaN</td>\n",
       "      <td>NaN</td>\n",
       "      <td>4.242339</td>\n",
       "    </tr>\n",
       "    <tr>\n",
       "      <th>3</th>\n",
       "      <td>1974</td>\n",
       "      <td>1981</td>\n",
       "      <td>NaN</td>\n",
       "      <td>NaN</td>\n",
       "      <td>NaN</td>\n",
       "      <td>NaN</td>\n",
       "      <td>NaN</td>\n",
       "      <td>1.498094</td>\n",
       "      <td>NaN</td>\n",
       "      <td>NaN</td>\n",
       "      <td>...</td>\n",
       "      <td>NaN</td>\n",
       "      <td>NaN</td>\n",
       "      <td>NaN</td>\n",
       "      <td>NaN</td>\n",
       "      <td>2.329113</td>\n",
       "      <td>1.545048</td>\n",
       "      <td>3.263899</td>\n",
       "      <td>NaN</td>\n",
       "      <td>NaN</td>\n",
       "      <td>4.239118</td>\n",
       "    </tr>\n",
       "    <tr>\n",
       "      <th>4</th>\n",
       "      <td>506</td>\n",
       "      <td>509</td>\n",
       "      <td>NaN</td>\n",
       "      <td>NaN</td>\n",
       "      <td>NaN</td>\n",
       "      <td>NaN</td>\n",
       "      <td>NaN</td>\n",
       "      <td>NaN</td>\n",
       "      <td>NaN</td>\n",
       "      <td>2.439170</td>\n",
       "      <td>...</td>\n",
       "      <td>NaN</td>\n",
       "      <td>NaN</td>\n",
       "      <td>2.797204</td>\n",
       "      <td>NaN</td>\n",
       "      <td>NaN</td>\n",
       "      <td>2.973234</td>\n",
       "      <td>0.126722</td>\n",
       "      <td>2.534857</td>\n",
       "      <td>NaN</td>\n",
       "      <td>4.235136</td>\n",
       "    </tr>\n",
       "  </tbody>\n",
       "</table>\n",
       "<p>5 rows × 24 columns</p>\n",
       "</div>"
      ],
      "text/plain": [
       "   Gene 1  Gene 2  CE-CC     CE-CX  CE-GT  CE-LC  CE-YH     DM-PI     HS-CC  \\\n",
       "0    1743    4967    NaN  0.490660    NaN    NaN    NaN       NaN  3.645185   \n",
       "1    4171    4172    NaN  2.304166    NaN    NaN    NaN  2.122390       NaN   \n",
       "2    2237    5111    NaN       NaN    NaN    NaN    NaN       NaN  2.942468   \n",
       "3    1974    1981    NaN       NaN    NaN    NaN    NaN  1.498094       NaN   \n",
       "4     506     509    NaN       NaN    NaN    NaN    NaN       NaN       NaN   \n",
       "\n",
       "      HS-CX  ...  HS-PG  HS-YH     SC-CC     SC-CX     SC-GT     SC-LC  \\\n",
       "0       NaN  ...    NaN    NaN  2.338262       NaN       NaN  3.000132   \n",
       "1  2.016765  ...    NaN    NaN  3.217315  1.729727  2.370826  3.141053   \n",
       "2  1.933299  ...    NaN    NaN  2.712615  3.652874       NaN  3.066321   \n",
       "3       NaN  ...    NaN    NaN       NaN       NaN  2.329113  1.545048   \n",
       "4  2.439170  ...    NaN    NaN  2.797204       NaN       NaN  2.973234   \n",
       "\n",
       "      SC-MS     SC-TS  SC-YH    IntNet  \n",
       "0  3.243989       NaN    NaN  4.256856  \n",
       "1  1.762031  2.380625    NaN  4.254664  \n",
       "2  2.870491       NaN    NaN  4.242339  \n",
       "3  3.263899       NaN    NaN  4.239118  \n",
       "4  0.126722  2.534857    NaN  4.235136  \n",
       "\n",
       "[5 rows x 24 columns]"
      ]
     },
     "execution_count": 26,
     "metadata": {},
     "output_type": "execute_result"
    }
   ],
   "source": [
    "input_raw.head()"
   ]
  },
  {
   "cell_type": "code",
   "execution_count": 28,
   "metadata": {
    "ExecuteTime": {
     "end_time": "2022-02-01T22:38:30.030875Z",
     "start_time": "2022-02-01T22:38:29.949748Z"
    }
   },
   "outputs": [],
   "source": [
    "# Extract gene list\n",
    "genes = list(set(input_raw['Gene 1']).union(set(input_raw['Gene 2'])))\n",
    "genes = [str(gene) for gene in genes]"
   ]
  },
  {
   "cell_type": "code",
   "execution_count": 29,
   "metadata": {
    "ExecuteTime": {
     "end_time": "2022-02-01T22:38:51.042135Z",
     "start_time": "2022-02-01T22:38:51.036912Z"
    }
   },
   "outputs": [],
   "source": [
    "edgelist = input_raw.loc[:, (\"Gene 1\", \"Gene 2\", \"IntNet\")]"
   ]
  },
  {
   "cell_type": "markdown",
   "metadata": {},
   "source": [
    "##  Convert genes from Entrez ID to HUGO Symbol"
   ]
  },
  {
   "cell_type": "code",
   "execution_count": 30,
   "metadata": {
    "ExecuteTime": {
     "end_time": "2022-02-01T22:39:00.914469Z",
     "start_time": "2022-02-01T22:39:00.884972Z"
    }
   },
   "outputs": [
    {
     "name": "stdout",
     "output_type": "stream",
     "text": [
      "16243 Valid Query Genes\n",
      "0 Invalid Query Genes\n"
     ]
    }
   ],
   "source": [
    "query_string, valid_genes, invalid_genes = gct.query_constructor(genes)"
   ]
  },
  {
   "cell_type": "code",
   "execution_count": 31,
   "metadata": {
    "ExecuteTime": {
     "end_time": "2022-02-01T22:39:19.812874Z",
     "start_time": "2022-02-01T22:39:04.827495Z"
    }
   },
   "outputs": [
    {
     "name": "stderr",
     "output_type": "stream",
     "text": [
      "100%|██████████| 17/17 [00:14<00:00,  1.13it/s]"
     ]
    },
    {
     "name": "stdout",
     "output_type": "stream",
     "text": [
      "16243 Matched query results\n",
      "Batch query complete: 14.98 seconds\n",
      "16243 Matched query results\n"
     ]
    },
    {
     "name": "stderr",
     "output_type": "stream",
     "text": [
      "\n"
     ]
    }
   ],
   "source": [
    "# Set scopes (gene naming systems to search)\n",
    "scopes = \"entrezgene, retired\"\n",
    "\n",
    "# Set fields (systems from which to return gene names from)\n",
    "fields = \"symbol, entrezgene\"\n",
    "\n",
    "# Query MyGene.Info\n",
    "match_list = gct.query_batch(query_string, scopes=scopes, fields=fields)\n",
    "print(len(match_list), 'Matched query results')"
   ]
  },
  {
   "cell_type": "code",
   "execution_count": 32,
   "metadata": {
    "ExecuteTime": {
     "end_time": "2022-02-01T22:39:32.902496Z",
     "start_time": "2022-02-01T22:39:32.887977Z"
    }
   },
   "outputs": [],
   "source": [
    "match_list = pd.DataFrame.from_dict(match_list)"
   ]
  },
  {
   "cell_type": "code",
   "execution_count": 35,
   "metadata": {
    "ExecuteTime": {
     "end_time": "2022-02-01T22:40:58.871639Z",
     "start_time": "2022-02-01T22:40:58.828591Z"
    }
   },
   "outputs": [
    {
     "name": "stdout",
     "output_type": "stream",
     "text": [
      "Number of genes with multiple matches: 0\n",
      "Number of unmatched genes: 14\n",
      "Number of fully matched genes: 16229\n",
      "Number of partially matched genes: 14\n"
     ]
    }
   ],
   "source": [
    "match_table_trim, query_to_symbol, query_to_entrez = gct.construct_query_map_table(match_list, valid_genes)"
   ]
  },
  {
   "cell_type": "markdown",
   "metadata": {},
   "source": [
    "## Construct Converted Network"
   ]
  },
  {
   "cell_type": "code",
   "execution_count": 36,
   "metadata": {
    "ExecuteTime": {
     "end_time": "2022-02-01T22:41:21.991441Z",
     "start_time": "2022-02-01T22:41:21.254545Z"
    }
   },
   "outputs": [
    {
     "name": "stdout",
     "output_type": "stream",
     "text": [
      "CPU times: user 721 ms, sys: 12.5 ms, total: 733 ms\n",
      "Wall time: 734 ms\n"
     ]
    }
   ],
   "source": [
    "%%time\n",
    "# Convert weighted edge list\n",
    "edgelist_symbol = gct.convert_edgelist(edgelist, query_to_symbol)"
   ]
  },
  {
   "cell_type": "code",
   "execution_count": 37,
   "metadata": {
    "ExecuteTime": {
     "end_time": "2022-02-01T22:41:40.352164Z",
     "start_time": "2022-02-01T22:41:40.063459Z"
    }
   },
   "outputs": [
    {
     "name": "stdout",
     "output_type": "stream",
     "text": [
      "476399 input edges\n",
      "8 self-edges removed\n",
      "315 edges with un-mapped genes removed\n",
      "531 duplicate edges removed\n",
      "Edge list filtered: 0.28 seconds\n",
      "475868 Edges remaining\n"
     ]
    }
   ],
   "source": [
    "# Filter converted edge list\n",
    "edgelist_filt = gct.filter_converted_edgelist(edgelist_symbol, weight_col='IntNet')"
   ]
  },
  {
   "cell_type": "code",
   "execution_count": 38,
   "metadata": {
    "ExecuteTime": {
     "end_time": "2022-02-01T22:41:50.610205Z",
     "start_time": "2022-02-01T22:41:49.685394Z"
    }
   },
   "outputs": [
    {
     "name": "stdout",
     "output_type": "stream",
     "text": [
      "Edge list saved: 0.92 seconds\n"
     ]
    }
   ],
   "source": [
    "# Write network to file\n",
    "gct.write_edgelist(edgelist_filt, wd+'Processed_Data/Network_SIFs_Symbol/HumanNet_Symbol_v1.sif', binary=False)"
   ]
  },
  {
   "cell_type": "code",
   "execution_count": 39,
   "metadata": {
    "ExecuteTime": {
     "end_time": "2022-02-01T22:41:59.812655Z",
     "start_time": "2022-02-01T22:41:59.517261Z"
    }
   },
   "outputs": [
    {
     "name": "stdout",
     "output_type": "stream",
     "text": [
      "90.0% score: 2.171025927214523\n",
      "47555 / 475868 edges retained\n"
     ]
    }
   ],
   "source": [
    "# Create filtered network\n",
    "edgelist_90 = dit.filter_weighted_network_sif(wd+'Processed_Data/Network_SIFs_Symbol/HumanNet_Symbol_v1.sif', nodeA_col=0, nodeB_col=1, score_col=2, \n",
    "                                                      q=0.9, delimiter='\\t', verbose=True, save_path=wd+'Processed_Data/Network_SIFs_Symbol/HumanNet90_Symbol_v1.sif')"
   ]
  },
  {
   "cell_type": "markdown",
   "metadata": {},
   "source": [
    "# Changes\n",
    "\n",
    "Changes to data structure:\n",
    "* Initial version supplied edges with a matrix of evidence codes and score corresponding to each code (or NaN), plus a summary score\n",
    "* New release provides independent networks for each of the classes of evidence, as well as combined networks of all functionally supported edges, and all functionally supported edges + co citation supported edges. The combined network does not come with annotations as to the source of the edge, but this information can be gleaned from the individual component networks. It appears the bulk of the data is supported by Human data."
   ]
  },
  {
   "cell_type": "code",
   "execution_count": 41,
   "metadata": {
    "ExecuteTime": {
     "end_time": "2022-02-01T22:42:32.205371Z",
     "start_time": "2022-02-01T22:42:31.476434Z"
    }
   },
   "outputs": [
    {
     "name": "stdout",
     "output_type": "stream",
     "text": [
      "No human filtering done\n"
     ]
    },
    {
     "data": {
      "image/png": "[encoded data removed]",
      "text/plain": [
       "<Figure size 1080x360 with 2 Axes>"
      ]
     },
     "metadata": {
      "needs_background": "light"
     },
     "output_type": "display_data"
    }
   ],
   "source": [
    "# Compare original to XC\n",
    "dit.plot_changes_to_dataset(input_raw, input_raw_XC, edgelist_filt, edgelist_filt_XC)"
   ]
  },
  {
   "cell_type": "code",
   "execution_count": 42,
   "metadata": {
    "ExecuteTime": {
     "end_time": "2022-02-01T22:42:42.232305Z",
     "start_time": "2022-02-01T22:42:41.687342Z"
    }
   },
   "outputs": [
    {
     "name": "stdout",
     "output_type": "stream",
     "text": [
      "No human filtering done\n"
     ]
    },
    {
     "data": {
      "image/png": "[encoded data removed]",
      "text/plain": [
       "<Figure size 1080x360 with 2 Axes>"
      ]
     },
     "metadata": {
      "needs_background": "light"
     },
     "output_type": "display_data"
    }
   ],
   "source": [
    "# Compare original to FN\n",
    "dit.plot_changes_to_dataset(input_raw, input_raw_FN, edgelist_filt, edgelist_filt_FN)"
   ]
  },
  {
   "cell_type": "code",
   "execution_count": 44,
   "metadata": {
    "ExecuteTime": {
     "end_time": "2022-02-01T22:43:02.942720Z",
     "start_time": "2022-02-01T22:43:02.332209Z"
    }
   },
   "outputs": [
    {
     "name": "stdout",
     "output_type": "stream",
     "text": [
      "No human filtering done\n"
     ]
    },
    {
     "data": {
      "image/png": "[encoded data removed]",
      "text/plain": [
       "<Figure size 1080x360 with 2 Axes>"
      ]
     },
     "metadata": {
      "needs_background": "light"
     },
     "output_type": "display_data"
    }
   ],
   "source": [
    "# Compare original to XC to FN\n",
    "dit.plot_changes_to_dataset(input_raw_XC, input_raw_FN, edgelist_filt_XC, edgelist_filt_FN)"
   ]
  }
 ],
 "metadata": {
  "kernelspec": {
   "display_name": "Python [conda env:pcnet_py3]",
   "language": "python",
   "name": "conda-env-pcnet_py3-py"
  },
  "language_info": {
   "codemirror_mode": {
    "name": "ipython",
    "version": 3
   },
   "file_extension": ".py",
   "mimetype": "text/x-python",
   "name": "python",
   "nbconvert_exporter": "python",
   "pygments_lexer": "ipython3",
   "version": "3.10.0"
  },
  "toc": {
   "base_numbering": 1,
   "nav_menu": {},
   "number_sections": true,
   "sideBar": true,
   "skip_h1_title": false,
   "title_cell": "Table of Contents",
   "title_sidebar": "Contents",
   "toc_cell": false,
   "toc_position": {
    "height": "calc(100% - 180px)",
    "left": "10px",
    "top": "150px",
    "width": "341.448px"
   },
   "toc_section_display": true,
   "toc_window_display": true
  },
  "varInspector": {
   "cols": {
    "lenName": 16,
    "lenType": 16,
    "lenVar": 40
   },
   "kernels_config": {
    "python": {
     "delete_cmd_postfix": "",
     "delete_cmd_prefix": "del ",
     "library": "var_list.py",
     "varRefreshCmd": "print(var_dic_list())"
    },
    "r": {
     "delete_cmd_postfix": ") ",
     "delete_cmd_prefix": "rm(",
     "library": "var_list.r",
     "varRefreshCmd": "cat(var_dic_list()) "
    }
   },
   "types_to_exclude": [
    "module",
    "function",
    "builtin_function_or_method",
    "instance",
    "_Feature"
   ],
   "window_display": false
  }
 },
 "nbformat": 4,
 "nbformat_minor": 1
}
