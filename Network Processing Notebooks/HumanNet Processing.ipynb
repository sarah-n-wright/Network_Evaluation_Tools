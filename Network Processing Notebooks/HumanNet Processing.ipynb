{
 "cells": [
  {
   "cell_type": "code",
   "execution_count": 1,
   "metadata": {
    "ExecuteTime": {
     "end_time": "2022-01-10T18:59:23.703341Z",
     "start_time": "2022-01-10T18:59:20.256374Z"
    }
   },
   "outputs": [],
   "source": [
    "from network_evaluation_tools import gene_conversion_tools as gct\n",
    "from network_evaluation_tools import data_import_tools as dit\n",
    "import pandas as pd\n",
    "import time\n",
    "import matplotlib.pyplot as plt"
   ]
  },
  {
   "cell_type": "code",
   "execution_count": 2,
   "metadata": {
    "ExecuteTime": {
     "end_time": "2022-01-10T18:59:23.706246Z",
     "start_time": "2022-01-10T18:59:23.704296Z"
    }
   },
   "outputs": [],
   "source": [
    "wd = '/cellar/users/snwright/Data/Network_Analysis/'"
   ]
  },
  {
   "cell_type": "markdown",
   "metadata": {},
   "source": [
    "# Version 2\n",
    "## Load HumanNet Raw Data\n",
    "#### Source:  https://www.inetbio.org/humannet/networks/HumanNet-FN.tsv & https://www.inetbio.org/humannet/networks/HumanNet-XC.tsv\n",
    "\n",
    "Downloaded: November 16, 2021  \n",
    "Last updated: 2021, published Jan 2022   \n",
    "  \n",
    "**Note**: There are multiple networks available, we have chosen to use the composite Functional Network(FN) which contains data from co-expression (CX), pathway databases (DB), domain profile associations (DP), genetic interactions (GI), gene neighborhood (GN), phylogenetic profile associations (PG) and protein-protein interaction networks (PI). Data is also extracted from the XC network which contains all of FN with additional co-citation links\n",
    "\n",
    "<u>HumanNet Citations</u>:  \n",
    "**V1**: Insuk Lee, U. Martin Blom, Peggy I. Wang, Jung Eun Shin, and Edward M. Marcotte\n",
    "Genome Research 21(7):1109-21 (2011)  \n",
    "**V2**: Hwang S, Kim CY, Yang S, Kim E, Hart T, Marcotte EM, Lee I. HumanNet v2: human gene networks for disease research. Nucleic Acids Research 2019 Jan 8;47(D1):D573–D580  \n",
    "**V3**:Kim, Chan Yeong, Seungbyn Baek, Junha Cha, Sunmo Yang, Eiru Kim, Edward M. Marcotte, Traver Hart, and Insuk Lee. 2022. “HumanNet v3: An Improved Database of Human Gene Networks for Disease Research.” Nucleic Acids Research 50 (D1): D632–39.  \n"
   ]
  },
  {
   "cell_type": "code",
   "execution_count": 3,
   "metadata": {
    "ExecuteTime": {
     "end_time": "2022-01-10T18:59:24.242686Z",
     "start_time": "2022-01-10T18:59:23.707479Z"
    }
   },
   "outputs": [],
   "source": [
    "HumanNet_Raw_XC = pd.read_csv(wd+'Network_Data_Raw/HumanNet_v3/HumanNet-XC.tsv',sep='\\t',header=None)\n",
    "HumanNet_Raw_XC.columns = [\"Gene 1\", \"Gene 2\", \"IntNet\"]\n",
    "HumanNet_Raw_FN = pd.read_csv(wd+'Network_Data_Raw/HumanNet_v3/HumanNet-FN.tsv',sep='\\t',header=None)\n",
    "HumanNet_Raw_FN.columns = [\"Gene 1\", \"Gene 2\", \"IntNet\"]"
   ]
  },
  {
   "cell_type": "code",
   "execution_count": 4,
   "metadata": {
    "ExecuteTime": {
     "end_time": "2022-01-10T18:59:24.265376Z",
     "start_time": "2022-01-10T18:59:24.244858Z"
    }
   },
   "outputs": [
    {
     "data": {
      "text/html": [
       "<div>\n",
       "<style scoped>\n",
       "    .dataframe tbody tr th:only-of-type {\n",
       "        vertical-align: middle;\n",
       "    }\n",
       "\n",
       "    .dataframe tbody tr th {\n",
       "        vertical-align: top;\n",
       "    }\n",
       "\n",
       "    .dataframe thead th {\n",
       "        text-align: right;\n",
       "    }\n",
       "</style>\n",
       "<table border=\"1\" class=\"dataframe\">\n",
       "  <thead>\n",
       "    <tr style=\"text-align: right;\">\n",
       "      <th></th>\n",
       "      <th>Gene 1</th>\n",
       "      <th>Gene 2</th>\n",
       "      <th>IntNet</th>\n",
       "    </tr>\n",
       "  </thead>\n",
       "  <tbody>\n",
       "    <tr>\n",
       "      <th>0</th>\n",
       "      <td>7046</td>\n",
       "      <td>7048</td>\n",
       "      <td>6.044828</td>\n",
       "    </tr>\n",
       "    <tr>\n",
       "      <th>1</th>\n",
       "      <td>5211</td>\n",
       "      <td>5213</td>\n",
       "      <td>5.942313</td>\n",
       "    </tr>\n",
       "    <tr>\n",
       "      <th>2</th>\n",
       "      <td>10641</td>\n",
       "      <td>9681</td>\n",
       "      <td>5.899878</td>\n",
       "    </tr>\n",
       "    <tr>\n",
       "      <th>3</th>\n",
       "      <td>5213</td>\n",
       "      <td>5214</td>\n",
       "      <td>5.898546</td>\n",
       "    </tr>\n",
       "    <tr>\n",
       "      <th>4</th>\n",
       "      <td>5211</td>\n",
       "      <td>5214</td>\n",
       "      <td>5.898122</td>\n",
       "    </tr>\n",
       "  </tbody>\n",
       "</table>\n",
       "</div>"
      ],
      "text/plain": [
       "   Gene 1  Gene 2    IntNet\n",
       "0    7046    7048  6.044828\n",
       "1    5211    5213  5.942313\n",
       "2   10641    9681  5.899878\n",
       "3    5213    5214  5.898546\n",
       "4    5211    5214  5.898122"
      ]
     },
     "execution_count": 4,
     "metadata": {},
     "output_type": "execute_result"
    }
   ],
   "source": [
    "HumanNet_Raw_XC.head()"
   ]
  },
  {
   "cell_type": "code",
   "execution_count": 5,
   "metadata": {
    "ExecuteTime": {
     "end_time": "2022-01-10T18:59:24.460511Z",
     "start_time": "2022-01-10T18:59:24.267185Z"
    }
   },
   "outputs": [],
   "source": [
    "# Extract gene list\n",
    "HumanNet_Raw_Genes_XC = list(set(HumanNet_Raw_XC['Gene 1']).union(set(HumanNet_Raw_XC['Gene 2'])))\n",
    "HumanNet_Raw_Genes_XC = [str(gene) for gene in HumanNet_Raw_Genes_XC]"
   ]
  },
  {
   "cell_type": "code",
   "execution_count": 6,
   "metadata": {
    "ExecuteTime": {
     "end_time": "2022-01-10T18:59:24.624086Z",
     "start_time": "2022-01-10T18:59:24.462545Z"
    }
   },
   "outputs": [],
   "source": [
    "# Extract gene list\n",
    "HumanNet_Raw_Genes_FN = list(set(HumanNet_Raw_FN['Gene 1']).union(set(HumanNet_Raw_FN['Gene 2'])))\n",
    "HumanNet_Raw_Genes_FN = [str(gene) for gene in HumanNet_Raw_Genes_FN]"
   ]
  },
  {
   "cell_type": "code",
   "execution_count": 7,
   "metadata": {
    "ExecuteTime": {
     "end_time": "2022-01-10T18:59:26.781417Z",
     "start_time": "2022-01-10T18:59:24.626344Z"
    }
   },
   "outputs": [
    {
     "name": "stdout",
     "output_type": "stream",
     "text": [
      "1125494 HumanNet Edges\n"
     ]
    }
   ],
   "source": [
    "# Get edge list of network\n",
    "query_edgelist_XC = HumanNet_Raw_XC[['Gene 1','Gene 2']].astype(str)\n",
    "query_edgelist_XC = pd.concat([query_edgelist_XC, HumanNet_Raw_XC['IntNet']], axis=1).values.tolist()\n",
    "print(len(query_edgelist_XC), \"HumanNet Edges\")"
   ]
  },
  {
   "cell_type": "code",
   "execution_count": 8,
   "metadata": {
    "ExecuteTime": {
     "end_time": "2022-01-10T18:59:28.607683Z",
     "start_time": "2022-01-10T18:59:26.782615Z"
    }
   },
   "outputs": [
    {
     "name": "stdout",
     "output_type": "stream",
     "text": [
      "977495 HumanNet Edges\n"
     ]
    }
   ],
   "source": [
    "# Get edge list of network\n",
    "query_edgelist_FN = HumanNet_Raw_FN[['Gene 1','Gene 2']].astype(str)\n",
    "query_edgelist_FN = pd.concat([query_edgelist_FN, HumanNet_Raw_FN['IntNet']], axis=1).values.tolist()\n",
    "print(len(query_edgelist_FN), \"HumanNet Edges\")"
   ]
  },
  {
   "cell_type": "markdown",
   "metadata": {},
   "source": [
    "##  Convert genes from Entrez ID to HUGO Symbol"
   ]
  },
  {
   "cell_type": "code",
   "execution_count": 9,
   "metadata": {
    "ExecuteTime": {
     "end_time": "2022-01-10T18:59:28.640881Z",
     "start_time": "2022-01-10T18:59:28.608576Z"
    }
   },
   "outputs": [
    {
     "name": "stdout",
     "output_type": "stream",
     "text": [
      "18593 Valid Query Genes\n",
      "0 Invalid Query Genes\n"
     ]
    }
   ],
   "source": [
    "query_string_XC, valid_genes_XC, invalid_genes_XC = gct.query_constructor(HumanNet_Raw_Genes_XC)"
   ]
  },
  {
   "cell_type": "code",
   "execution_count": 10,
   "metadata": {
    "ExecuteTime": {
     "end_time": "2022-01-10T18:59:28.678000Z",
     "start_time": "2022-01-10T18:59:28.642431Z"
    }
   },
   "outputs": [
    {
     "name": "stdout",
     "output_type": "stream",
     "text": [
      "18459 Valid Query Genes\n",
      "0 Invalid Query Genes\n"
     ]
    }
   ],
   "source": [
    "query_string_FN, valid_genes_FN, invalid_genes_FN = gct.query_constructor(HumanNet_Raw_Genes_FN)"
   ]
  },
  {
   "cell_type": "code",
   "execution_count": 11,
   "metadata": {
    "ExecuteTime": {
     "end_time": "2022-01-10T18:59:46.767709Z",
     "start_time": "2022-01-10T18:59:28.678642Z"
    }
   },
   "outputs": [
    {
     "name": "stderr",
     "output_type": "stream",
     "text": [
      "100%|██████████| 19/19 [00:18<00:00,  1.05it/s]"
     ]
    },
    {
     "name": "stdout",
     "output_type": "stream",
     "text": [
      "18593 Matched query results\n",
      "Batch query complete: 18.08 seconds\n",
      "18593 Matched query results\n"
     ]
    },
    {
     "name": "stderr",
     "output_type": "stream",
     "text": [
      "\n"
     ]
    }
   ],
   "source": [
    "# Set scopes (gene naming systems to search)\n",
    "scopes = \"entrezgene, retired\"\n",
    "\n",
    "# Set fields (systems from which to return gene names from)\n",
    "fields = \"symbol, entrezgene\"\n",
    "\n",
    "# Query MyGene.Info\n",
    "match_list_XC = gct.query_batch(query_string_XC, scopes=scopes, fields=fields)\n",
    "print(len(match_list_XC), 'Matched query results')"
   ]
  },
  {
   "cell_type": "code",
   "execution_count": 12,
   "metadata": {
    "ExecuteTime": {
     "end_time": "2022-01-10T18:59:49.737215Z",
     "start_time": "2022-01-10T18:59:46.768585Z"
    }
   },
   "outputs": [
    {
     "name": "stdout",
     "output_type": "stream",
     "text": [
      "Queries without full matching results found: 0\n",
      "\n",
      "0 Queries with mutliple matches found\n",
      "\n",
      "Query mapping table/dictionary construction complete: 2.97 seconds\n"
     ]
    }
   ],
   "source": [
    "match_table_trim_XC, query_to_symbol_XC, query_to_entrez_XC = gct.construct_query_map_table(match_list_XC, valid_genes_XC)"
   ]
  },
  {
   "cell_type": "code",
   "execution_count": 13,
   "metadata": {
    "ExecuteTime": {
     "end_time": "2022-01-10T19:00:12.812263Z",
     "start_time": "2022-01-10T18:59:49.737972Z"
    }
   },
   "outputs": [
    {
     "name": "stderr",
     "output_type": "stream",
     "text": [
      "100%|██████████| 19/19 [00:23<00:00,  1.21s/it]"
     ]
    },
    {
     "name": "stdout",
     "output_type": "stream",
     "text": [
      "18459 Matched query results\n",
      "Batch query complete: 23.07 seconds\n",
      "18459 Matched query results\n"
     ]
    },
    {
     "name": "stderr",
     "output_type": "stream",
     "text": [
      "\n"
     ]
    }
   ],
   "source": [
    "# Set scopes (gene naming systems to search)\n",
    "scopes = \"entrezgene, retired\"\n",
    "\n",
    "# Set fields (systems from which to return gene names from)\n",
    "fields = \"symbol, entrezgene\"\n",
    "\n",
    "# Query MyGene.Info\n",
    "match_list_FN = gct.query_batch(query_string_FN, scopes=scopes, fields=fields)\n",
    "print(len(match_list_FN), 'Matched query results')"
   ]
  },
  {
   "cell_type": "code",
   "execution_count": 14,
   "metadata": {
    "ExecuteTime": {
     "end_time": "2022-01-10T19:00:15.760173Z",
     "start_time": "2022-01-10T19:00:12.813179Z"
    }
   },
   "outputs": [
    {
     "name": "stdout",
     "output_type": "stream",
     "text": [
      "Queries without full matching results found: 0\n",
      "\n",
      "0 Queries with mutliple matches found\n",
      "\n",
      "Query mapping table/dictionary construction complete: 2.94 seconds\n"
     ]
    }
   ],
   "source": [
    "match_table_trim_FN, query_to_symbol_FN, query_to_entrez_FN = gct.construct_query_map_table(match_list_FN, valid_genes_FN)"
   ]
  },
  {
   "cell_type": "markdown",
   "metadata": {},
   "source": [
    "## Construct Converted Network"
   ]
  },
  {
   "cell_type": "code",
   "execution_count": 15,
   "metadata": {
    "ExecuteTime": {
     "end_time": "2022-01-10T19:00:16.408568Z",
     "start_time": "2022-01-10T19:00:15.761280Z"
    }
   },
   "outputs": [
    {
     "name": "stdout",
     "output_type": "stream",
     "text": [
      "CPU times: user 597 ms, sys: 37.8 ms, total: 635 ms\n",
      "Wall time: 645 ms\n"
     ]
    }
   ],
   "source": [
    "%%time\n",
    "# Convert weighted edge list\n",
    "HumanNet_edgelist_symbol_XC = gct.convert_edgelist(query_edgelist_XC, query_to_symbol_XC, weighted=True)"
   ]
  },
  {
   "cell_type": "code",
   "execution_count": 16,
   "metadata": {
    "ExecuteTime": {
     "end_time": "2022-01-10T19:00:16.963676Z",
     "start_time": "2022-01-10T19:00:16.409522Z"
    }
   },
   "outputs": [
    {
     "name": "stdout",
     "output_type": "stream",
     "text": [
      "CPU times: user 511 ms, sys: 38.8 ms, total: 550 ms\n",
      "Wall time: 551 ms\n"
     ]
    }
   ],
   "source": [
    "%%time\n",
    "# Convert weighted edge list\n",
    "HumanNet_edgelist_symbol_FN = gct.convert_edgelist(query_edgelist_FN, query_to_symbol_FN, weighted=True)"
   ]
  },
  {
   "cell_type": "code",
   "execution_count": 17,
   "metadata": {
    "ExecuteTime": {
     "end_time": "2022-01-10T19:00:20.716477Z",
     "start_time": "2022-01-10T19:00:16.964487Z"
    }
   },
   "outputs": [
    {
     "name": "stdout",
     "output_type": "stream",
     "text": [
      "1125494 input edges\n",
      "1 self-edges removed\n",
      "0 edges with un-mapped genes removed\n",
      "1 duplicate edges removed\n",
      "Edge list filtered: 3.73 seconds\n",
      "1125492 Edges remaining\n"
     ]
    }
   ],
   "source": [
    "# Filter converted edge list\n",
    "HumanNet_edgelist_symbol_filt_XC = gct.filter_converted_edgelist(HumanNet_edgelist_symbol_XC, weighted=True)"
   ]
  },
  {
   "cell_type": "code",
   "execution_count": 18,
   "metadata": {
    "ExecuteTime": {
     "end_time": "2022-01-10T19:00:23.872687Z",
     "start_time": "2022-01-10T19:00:20.717591Z"
    }
   },
   "outputs": [
    {
     "name": "stdout",
     "output_type": "stream",
     "text": [
      "977495 input edges\n",
      "1 self-edges removed\n",
      "0 edges with un-mapped genes removed\n",
      "0 duplicate edges removed\n",
      "Edge list filtered: 3.14 seconds\n",
      "977494 Edges remaining\n"
     ]
    }
   ],
   "source": [
    "# Filter converted edge list\n",
    "HumanNet_edgelist_symbol_filt_FN = gct.filter_converted_edgelist(HumanNet_edgelist_symbol_FN, weighted=True)"
   ]
  },
  {
   "cell_type": "code",
   "execution_count": 19,
   "metadata": {
    "ExecuteTime": {
     "end_time": "2022-01-10T19:00:26.277615Z",
     "start_time": "2022-01-10T19:00:23.873538Z"
    }
   },
   "outputs": [
    {
     "name": "stdout",
     "output_type": "stream",
     "text": [
      "Edge list saved: 2.4 seconds\n"
     ]
    }
   ],
   "source": [
    "# Write network to file\n",
    "gct.write_edgelist(HumanNet_edgelist_symbol_filt_XC, wd+'Processed_Data/Network_SIFs_Symbol/HumanNet-XC_Symbol_v3.sif', binary=False)"
   ]
  },
  {
   "cell_type": "code",
   "execution_count": 20,
   "metadata": {
    "ExecuteTime": {
     "end_time": "2022-01-10T19:00:28.313721Z",
     "start_time": "2022-01-10T19:00:26.278495Z"
    }
   },
   "outputs": [
    {
     "name": "stdout",
     "output_type": "stream",
     "text": [
      "Edge list saved: 2.03 seconds\n"
     ]
    }
   ],
   "source": [
    "# Write network to file\n",
    "gct.write_edgelist(HumanNet_edgelist_symbol_filt_FN, wd+'Processed_Data/Network_SIFs_Symbol/HumanNet-FN_Symbol_v3.sif', binary=False)"
   ]
  },
  {
   "cell_type": "code",
   "execution_count": 21,
   "metadata": {
    "ExecuteTime": {
     "end_time": "2022-01-10T19:00:29.419799Z",
     "start_time": "2022-01-10T19:00:28.314798Z"
    }
   },
   "outputs": [
    {
     "name": "stdout",
     "output_type": "stream",
     "text": [
      "90.0% score: 3.4110431775494323\n",
      "112550 / 1125492 edges retained\n"
     ]
    }
   ],
   "source": [
    "# Create filtered network\n",
    "HumanNet90_edgelist_XC = dit.filter_weighted_network_sif(wd+'Processed_Data/Network_SIFs_Symbol/HumanNet-XC_Symbol_v3.sif', nodeA_col=0, nodeB_col=1, score_col=2, \n",
    "                                                      q=0.9, delimiter='\\t', verbose=True, save_path=wd+'Processed_Data/Network_SIFs_Symbol/HumanNet-XC90_Symbol_v3.sif')"
   ]
  },
  {
   "cell_type": "code",
   "execution_count": 22,
   "metadata": {
    "ExecuteTime": {
     "end_time": "2022-01-10T19:00:30.413178Z",
     "start_time": "2022-01-10T19:00:29.420741Z"
    }
   },
   "outputs": [
    {
     "name": "stdout",
     "output_type": "stream",
     "text": [
      "90.0% score: 3.2593202710699\n",
      "97736 / 977494 edges retained\n"
     ]
    }
   ],
   "source": [
    "# Create filtered network\n",
    "HumanNet90_edgelist_FN = dit.filter_weighted_network_sif(wd+'Processed_Data/Network_SIFs_Symbol/HumanNet-FN_Symbol_v3.sif', nodeA_col=0, nodeB_col=1, score_col=2, \n",
    "                                                      q=0.9, delimiter='\\t', verbose=True, save_path=wd+'Processed_Data/Network_SIFs_Symbol/HumanNet-FN90_Symbol_v3.sif')"
   ]
  },
  {
   "cell_type": "markdown",
   "metadata": {},
   "source": [
    "# Version 1\n",
    "## Load HumanNet Raw Data\n",
    "#### Source: http://www.functionalnet.org/humannet/HumanNet.v1.benchmark.txt\n",
    "Downloaded: August 12, 2016  \n",
    "No latest version date posted (last updated likely around 2011).  \n",
    "Citation: Insuk Lee, U. Martin Blom, Peggy I. Wang, Jung Eun Shin, and Edward M. Marcotte\n",
    "Genome Research 21(7):1109-21 (2011)"
   ]
  },
  {
   "cell_type": "code",
   "execution_count": 23,
   "metadata": {
    "ExecuteTime": {
     "end_time": "2022-01-10T19:00:30.864229Z",
     "start_time": "2022-01-10T19:00:30.414006Z"
    }
   },
   "outputs": [],
   "source": [
    "HumanNet_Raw = pd.read_csv(wd+'Network_Data_Raw/HumanNet.v1.join.txt',sep='\\t',header=None)"
   ]
  },
  {
   "cell_type": "code",
   "execution_count": 24,
   "metadata": {
    "ExecuteTime": {
     "end_time": "2022-01-10T19:00:30.869046Z",
     "start_time": "2022-01-10T19:00:30.865142Z"
    }
   },
   "outputs": [],
   "source": [
    "f = open(wd+'Network_Data_Raw/HumanNet.v1.evidence_code.txt')\n",
    "HumanNet_headers = ['Gene 1', 'Gene 2']+[name.split(' = ')[0] for name in f.read().splitlines()[1:-1]]\n",
    "HumanNet_Raw.columns = HumanNet_headers"
   ]
  },
  {
   "cell_type": "code",
   "execution_count": 25,
   "metadata": {
    "ExecuteTime": {
     "end_time": "2022-01-10T19:00:30.887537Z",
     "start_time": "2022-01-10T19:00:30.869770Z"
    }
   },
   "outputs": [
    {
     "data": {
      "text/html": [
       "<div>\n",
       "<style scoped>\n",
       "    .dataframe tbody tr th:only-of-type {\n",
       "        vertical-align: middle;\n",
       "    }\n",
       "\n",
       "    .dataframe tbody tr th {\n",
       "        vertical-align: top;\n",
       "    }\n",
       "\n",
       "    .dataframe thead th {\n",
       "        text-align: right;\n",
       "    }\n",
       "</style>\n",
       "<table border=\"1\" class=\"dataframe\">\n",
       "  <thead>\n",
       "    <tr style=\"text-align: right;\">\n",
       "      <th></th>\n",
       "      <th>Gene 1</th>\n",
       "      <th>Gene 2</th>\n",
       "      <th>CE-CC</th>\n",
       "      <th>CE-CX</th>\n",
       "      <th>CE-GT</th>\n",
       "      <th>CE-LC</th>\n",
       "      <th>CE-YH</th>\n",
       "      <th>DM-PI</th>\n",
       "      <th>HS-CC</th>\n",
       "      <th>HS-CX</th>\n",
       "      <th>...</th>\n",
       "      <th>HS-PG</th>\n",
       "      <th>HS-YH</th>\n",
       "      <th>SC-CC</th>\n",
       "      <th>SC-CX</th>\n",
       "      <th>SC-GT</th>\n",
       "      <th>SC-LC</th>\n",
       "      <th>SC-MS</th>\n",
       "      <th>SC-TS</th>\n",
       "      <th>SC-YH</th>\n",
       "      <th>IntNet</th>\n",
       "    </tr>\n",
       "  </thead>\n",
       "  <tbody>\n",
       "    <tr>\n",
       "      <th>0</th>\n",
       "      <td>1743</td>\n",
       "      <td>4967</td>\n",
       "      <td>NaN</td>\n",
       "      <td>0.490660</td>\n",
       "      <td>NaN</td>\n",
       "      <td>NaN</td>\n",
       "      <td>NaN</td>\n",
       "      <td>NaN</td>\n",
       "      <td>3.645185</td>\n",
       "      <td>NaN</td>\n",
       "      <td>...</td>\n",
       "      <td>NaN</td>\n",
       "      <td>NaN</td>\n",
       "      <td>2.338262</td>\n",
       "      <td>NaN</td>\n",
       "      <td>NaN</td>\n",
       "      <td>3.000132</td>\n",
       "      <td>3.243989</td>\n",
       "      <td>NaN</td>\n",
       "      <td>NaN</td>\n",
       "      <td>4.256856</td>\n",
       "    </tr>\n",
       "    <tr>\n",
       "      <th>1</th>\n",
       "      <td>4171</td>\n",
       "      <td>4172</td>\n",
       "      <td>NaN</td>\n",
       "      <td>2.304166</td>\n",
       "      <td>NaN</td>\n",
       "      <td>NaN</td>\n",
       "      <td>NaN</td>\n",
       "      <td>2.122390</td>\n",
       "      <td>NaN</td>\n",
       "      <td>2.016765</td>\n",
       "      <td>...</td>\n",
       "      <td>NaN</td>\n",
       "      <td>NaN</td>\n",
       "      <td>3.217315</td>\n",
       "      <td>1.729727</td>\n",
       "      <td>2.370826</td>\n",
       "      <td>3.141053</td>\n",
       "      <td>1.762031</td>\n",
       "      <td>2.380625</td>\n",
       "      <td>NaN</td>\n",
       "      <td>4.254664</td>\n",
       "    </tr>\n",
       "    <tr>\n",
       "      <th>2</th>\n",
       "      <td>2237</td>\n",
       "      <td>5111</td>\n",
       "      <td>NaN</td>\n",
       "      <td>NaN</td>\n",
       "      <td>NaN</td>\n",
       "      <td>NaN</td>\n",
       "      <td>NaN</td>\n",
       "      <td>NaN</td>\n",
       "      <td>2.942468</td>\n",
       "      <td>1.933299</td>\n",
       "      <td>...</td>\n",
       "      <td>NaN</td>\n",
       "      <td>NaN</td>\n",
       "      <td>2.712615</td>\n",
       "      <td>3.652874</td>\n",
       "      <td>NaN</td>\n",
       "      <td>3.066321</td>\n",
       "      <td>2.870491</td>\n",
       "      <td>NaN</td>\n",
       "      <td>NaN</td>\n",
       "      <td>4.242339</td>\n",
       "    </tr>\n",
       "    <tr>\n",
       "      <th>3</th>\n",
       "      <td>1974</td>\n",
       "      <td>1981</td>\n",
       "      <td>NaN</td>\n",
       "      <td>NaN</td>\n",
       "      <td>NaN</td>\n",
       "      <td>NaN</td>\n",
       "      <td>NaN</td>\n",
       "      <td>1.498094</td>\n",
       "      <td>NaN</td>\n",
       "      <td>NaN</td>\n",
       "      <td>...</td>\n",
       "      <td>NaN</td>\n",
       "      <td>NaN</td>\n",
       "      <td>NaN</td>\n",
       "      <td>NaN</td>\n",
       "      <td>2.329113</td>\n",
       "      <td>1.545048</td>\n",
       "      <td>3.263899</td>\n",
       "      <td>NaN</td>\n",
       "      <td>NaN</td>\n",
       "      <td>4.239118</td>\n",
       "    </tr>\n",
       "    <tr>\n",
       "      <th>4</th>\n",
       "      <td>506</td>\n",
       "      <td>509</td>\n",
       "      <td>NaN</td>\n",
       "      <td>NaN</td>\n",
       "      <td>NaN</td>\n",
       "      <td>NaN</td>\n",
       "      <td>NaN</td>\n",
       "      <td>NaN</td>\n",
       "      <td>NaN</td>\n",
       "      <td>2.439170</td>\n",
       "      <td>...</td>\n",
       "      <td>NaN</td>\n",
       "      <td>NaN</td>\n",
       "      <td>2.797204</td>\n",
       "      <td>NaN</td>\n",
       "      <td>NaN</td>\n",
       "      <td>2.973234</td>\n",
       "      <td>0.126722</td>\n",
       "      <td>2.534857</td>\n",
       "      <td>NaN</td>\n",
       "      <td>4.235136</td>\n",
       "    </tr>\n",
       "  </tbody>\n",
       "</table>\n",
       "<p>5 rows × 24 columns</p>\n",
       "</div>"
      ],
      "text/plain": [
       "   Gene 1  Gene 2  CE-CC     CE-CX  CE-GT  CE-LC  CE-YH     DM-PI     HS-CC  \\\n",
       "0    1743    4967    NaN  0.490660    NaN    NaN    NaN       NaN  3.645185   \n",
       "1    4171    4172    NaN  2.304166    NaN    NaN    NaN  2.122390       NaN   \n",
       "2    2237    5111    NaN       NaN    NaN    NaN    NaN       NaN  2.942468   \n",
       "3    1974    1981    NaN       NaN    NaN    NaN    NaN  1.498094       NaN   \n",
       "4     506     509    NaN       NaN    NaN    NaN    NaN       NaN       NaN   \n",
       "\n",
       "      HS-CX  ...  HS-PG  HS-YH     SC-CC     SC-CX     SC-GT     SC-LC  \\\n",
       "0       NaN  ...    NaN    NaN  2.338262       NaN       NaN  3.000132   \n",
       "1  2.016765  ...    NaN    NaN  3.217315  1.729727  2.370826  3.141053   \n",
       "2  1.933299  ...    NaN    NaN  2.712615  3.652874       NaN  3.066321   \n",
       "3       NaN  ...    NaN    NaN       NaN       NaN  2.329113  1.545048   \n",
       "4  2.439170  ...    NaN    NaN  2.797204       NaN       NaN  2.973234   \n",
       "\n",
       "      SC-MS     SC-TS  SC-YH    IntNet  \n",
       "0  3.243989       NaN    NaN  4.256856  \n",
       "1  1.762031  2.380625    NaN  4.254664  \n",
       "2  2.870491       NaN    NaN  4.242339  \n",
       "3  3.263899       NaN    NaN  4.239118  \n",
       "4  0.126722  2.534857    NaN  4.235136  \n",
       "\n",
       "[5 rows x 24 columns]"
      ]
     },
     "execution_count": 25,
     "metadata": {},
     "output_type": "execute_result"
    }
   ],
   "source": [
    "HumanNet_Raw.head()"
   ]
  },
  {
   "cell_type": "code",
   "execution_count": 26,
   "metadata": {
    "ExecuteTime": {
     "end_time": "2022-01-10T19:00:30.976646Z",
     "start_time": "2022-01-10T19:00:30.888350Z"
    }
   },
   "outputs": [],
   "source": [
    "# Extract gene list\n",
    "HumanNet_Raw_Genes = list(set(HumanNet_Raw['Gene 1']).union(set(HumanNet_Raw['Gene 2'])))\n",
    "HumanNet_Raw_Genes = [str(gene) for gene in HumanNet_Raw_Genes]"
   ]
  },
  {
   "cell_type": "code",
   "execution_count": 27,
   "metadata": {
    "ExecuteTime": {
     "end_time": "2022-01-10T19:00:31.939085Z",
     "start_time": "2022-01-10T19:00:30.977583Z"
    }
   },
   "outputs": [
    {
     "name": "stdout",
     "output_type": "stream",
     "text": [
      "476399 HumanNet Edges\n"
     ]
    }
   ],
   "source": [
    "# Get edge list of network\n",
    "query_edgelist = HumanNet_Raw[['Gene 1','Gene 2']].astype(str)\n",
    "query_edgelist = pd.concat([query_edgelist, HumanNet_Raw['IntNet']], axis=1).values.tolist()\n",
    "print(len(query_edgelist), \"HumanNet Edges\")"
   ]
  },
  {
   "cell_type": "markdown",
   "metadata": {},
   "source": [
    "##  Convert genes from Entrez ID to HUGO Symbol"
   ]
  },
  {
   "cell_type": "code",
   "execution_count": 28,
   "metadata": {
    "ExecuteTime": {
     "end_time": "2022-01-10T19:00:31.971273Z",
     "start_time": "2022-01-10T19:00:31.942020Z"
    }
   },
   "outputs": [
    {
     "name": "stdout",
     "output_type": "stream",
     "text": [
      "16243 Valid Query Genes\n",
      "0 Invalid Query Genes\n"
     ]
    }
   ],
   "source": [
    "query_string, valid_genes, invalid_genes = gct.query_constructor(HumanNet_Raw_Genes)"
   ]
  },
  {
   "cell_type": "code",
   "execution_count": 29,
   "metadata": {
    "ExecuteTime": {
     "end_time": "2022-01-10T19:00:46.918460Z",
     "start_time": "2022-01-10T19:00:31.972010Z"
    }
   },
   "outputs": [
    {
     "name": "stderr",
     "output_type": "stream",
     "text": [
      "100%|██████████| 17/17 [00:14<00:00,  1.14it/s]"
     ]
    },
    {
     "name": "stdout",
     "output_type": "stream",
     "text": [
      "16243 Matched query results\n",
      "Batch query complete: 14.94 seconds\n",
      "16243 Matched query results\n"
     ]
    },
    {
     "name": "stderr",
     "output_type": "stream",
     "text": [
      "\n"
     ]
    }
   ],
   "source": [
    "# Set scopes (gene naming systems to search)\n",
    "scopes = \"entrezgene, retired\"\n",
    "\n",
    "# Set fields (systems from which to return gene names from)\n",
    "fields = \"symbol, entrezgene\"\n",
    "\n",
    "# Query MyGene.Info\n",
    "match_list = gct.query_batch(query_string, scopes=scopes, fields=fields)\n",
    "print(len(match_list), 'Matched query results')"
   ]
  },
  {
   "cell_type": "code",
   "execution_count": 30,
   "metadata": {
    "ExecuteTime": {
     "end_time": "2022-01-10T19:00:49.347846Z",
     "start_time": "2022-01-10T19:00:46.919342Z"
    }
   },
   "outputs": [
    {
     "name": "stdout",
     "output_type": "stream",
     "text": [
      "Queries without full matching results found: 14\n",
      "\n",
      "0 Queries with mutliple matches found\n",
      "\n",
      "Query mapping table/dictionary construction complete: 2.43 seconds\n"
     ]
    }
   ],
   "source": [
    "match_table_trim, query_to_symbol, query_to_entrez = gct.construct_query_map_table(match_list, valid_genes)"
   ]
  },
  {
   "cell_type": "markdown",
   "metadata": {},
   "source": [
    "## Construct Converted Network"
   ]
  },
  {
   "cell_type": "code",
   "execution_count": 31,
   "metadata": {
    "ExecuteTime": {
     "end_time": "2022-01-10T19:00:49.600084Z",
     "start_time": "2022-01-10T19:00:49.348712Z"
    }
   },
   "outputs": [
    {
     "name": "stdout",
     "output_type": "stream",
     "text": [
      "CPU times: user 248 ms, sys: 941 µs, total: 249 ms\n",
      "Wall time: 249 ms\n"
     ]
    }
   ],
   "source": [
    "%%time\n",
    "# Convert weighted edge list\n",
    "HumanNet_edgelist_symbol = gct.convert_edgelist(query_edgelist, query_to_symbol, weighted=True)"
   ]
  },
  {
   "cell_type": "code",
   "execution_count": 32,
   "metadata": {
    "ExecuteTime": {
     "end_time": "2022-01-10T19:00:50.959642Z",
     "start_time": "2022-01-10T19:00:49.600903Z"
    }
   },
   "outputs": [
    {
     "name": "stdout",
     "output_type": "stream",
     "text": [
      "476399 input edges\n",
      "8 self-edges removed\n",
      "315 edges with un-mapped genes removed\n",
      "208 duplicate edges removed\n",
      "Edge list filtered: 1.35 seconds\n",
      "475868 Edges remaining\n"
     ]
    }
   ],
   "source": [
    "# Filter converted edge list\n",
    "HumanNet_edgelist_symbol_filt = gct.filter_converted_edgelist(HumanNet_edgelist_symbol, weighted=True)"
   ]
  },
  {
   "cell_type": "code",
   "execution_count": 33,
   "metadata": {
    "ExecuteTime": {
     "end_time": "2022-01-10T19:00:52.022998Z",
     "start_time": "2022-01-10T19:00:50.960429Z"
    }
   },
   "outputs": [
    {
     "name": "stdout",
     "output_type": "stream",
     "text": [
      "Edge list saved: 1.06 seconds\n"
     ]
    }
   ],
   "source": [
    "# Write network to file\n",
    "gct.write_edgelist(HumanNet_edgelist_symbol_filt, wd+'Processed_Data/Network_SIFs_Symbol/HumanNet_Symbol_v1.sif', binary=False)"
   ]
  },
  {
   "cell_type": "code",
   "execution_count": 34,
   "metadata": {
    "ExecuteTime": {
     "end_time": "2022-01-10T19:00:52.581726Z",
     "start_time": "2022-01-10T19:00:52.023843Z"
    }
   },
   "outputs": [
    {
     "name": "stdout",
     "output_type": "stream",
     "text": [
      "90.0% score: 2.17061940648491\n",
      "47587 / 475868 edges retained\n"
     ]
    }
   ],
   "source": [
    "# Create filtered network\n",
    "HumanNet90_edgelist = dit.filter_weighted_network_sif(wd+'Processed_Data/Network_SIFs_Symbol/HumanNet_Symbol_v1.sif', nodeA_col=0, nodeB_col=1, score_col=2, \n",
    "                                                      q=0.9, delimiter='\\t', verbose=True, save_path=wd+'Processed_Data/Network_SIFs_Symbol/HumanNet90_Symbol_v1.sif')"
   ]
  },
  {
   "cell_type": "markdown",
   "metadata": {},
   "source": [
    "# Changes\n",
    "\n",
    "Changes to data structure:\n",
    "* Initial version supplied edges with a matrix of evidence codes and score corresponding to each code (or NaN), plus a summary score\n",
    "* New release provides independent networks for each of the classes of evidence, as well as combined networks of all functionally supported edges, and all functionally supported edges + co citation supported edges. The combined network does not come with annotations as to the source of the edge, but this information can be gleaned from the individual component networks. It appears the bulk of the data is supported by Human data."
   ]
  },
  {
   "cell_type": "code",
   "execution_count": 43,
   "metadata": {
    "ExecuteTime": {
     "end_time": "2022-01-10T19:08:20.318656Z",
     "start_time": "2022-01-10T19:08:20.313762Z"
    },
    "code_folding": [
     0
    ]
   },
   "outputs": [],
   "source": [
    "def summarize_changes(net_name, v1_suff, v2_suff, stat_types=[\"_Raw\", \"_edgelist_symbol_filt\"], \n",
    "                      stat_names=[\"Raw\", \"Filtered\"]):\n",
    "    edge_statistics_v1 = {}\n",
    "    edge_statistics_v2 = {}\n",
    "    # extract the desired statistics (number of edges) from the available data \n",
    "    for i, stat in enumerate(stat_types):\n",
    "        prefix = stat_names[i]\n",
    "        exec(f\"{prefix}= len({net_name}_Raw{v1_suff})\", globals(), edge_statistics_v1)\n",
    "        exec(f\"{prefix}= len({net_name}_Raw{v2_suff})\", globals(), edge_statistics_v2)\n",
    "        \n",
    "    stats_results = pd.DataFrame.from_dict({\"v1\":edge_statistics_v1, \"v2\":edge_statistics_v2})\n",
    "    # extract the number of nodes and the overlap between them\n",
    "    node_statistics = {}\n",
    "    exec(f\"v1_nodes=set(np.array({net_name}_edgelist_symbol_filt{v1_suff})[:, 0]).union(set(np.array({net_name}_edgelist_symbol_filt{v1_suff})[:, 1]))\", globals(), node_statistics)\n",
    "    exec(f\"v2_nodes=set(np.array({net_name}_edgelist_symbol_filt{v2_suff})[:, 0]).union(set(np.array({net_name}_edgelist_symbol_filt{v2_suff})[:, 1]))\", globals(), node_statistics)\n",
    "    nodes_v1 = node_statistics[\"v1_nodes\"]\n",
    "    nodes_v2 = node_statistics[\"v2_nodes\"]\n",
    "    node_results = [len(nodes_v1), len(nodes_v2), len(nodes_v2)-len(nodes_v1), len(nodes_v2.difference(nodes_v1)), \n",
    "                    -1* len(nodes_v1.difference(nodes_v2))]\n",
    "    # plot the results\n",
    "    fig, axes = plt.subplots(nrows=1, ncols=2, figsize=(14,5), tight_layout=True)\n",
    "    stats_results.plot.bar(ax=axes[0])\n",
    "    axes[1].bar([\"v1\", \"v2\", \"total difference\", \"new V2\", \"removed V2\"], node_results)\n",
    "    axes[1].set_ylabel(\"Number of nodes\", fontsize=14)\n",
    "    axes[0].set_ylabel(\"Number of edges\", fontsize=14)\n",
    "    return fig, axes\n",
    "    "
   ]
  },
  {
   "cell_type": "code",
   "execution_count": 44,
   "metadata": {
    "ExecuteTime": {
     "end_time": "2022-01-10T19:08:27.187394Z",
     "start_time": "2022-01-10T19:08:26.195814Z"
    }
   },
   "outputs": [
    {
     "data": {
      "image/png": "[encoded data removed]",
      "text/plain": [
       "<Figure size 1008x360 with 2 Axes>"
      ]
     },
     "metadata": {
      "needs_background": "light"
     },
     "output_type": "display_data"
    }
   ],
   "source": [
    "fig, axes = summarize_changes(\"HumanNet\", \"\",\"_XC\")"
   ]
  },
  {
   "cell_type": "code",
   "execution_count": 45,
   "metadata": {
    "ExecuteTime": {
     "end_time": "2022-01-10T19:09:06.322245Z",
     "start_time": "2022-01-10T19:09:05.367343Z"
    }
   },
   "outputs": [
    {
     "data": {
      "image/png": "[encoded data removed]",
      "text/plain": [
       "<Figure size 1008x360 with 2 Axes>"
      ]
     },
     "metadata": {
      "needs_background": "light"
     },
     "output_type": "display_data"
    }
   ],
   "source": [
    "fig, axes = summarize_changes(\"HumanNet\", \"\",\"_FN\")"
   ]
  },
  {
   "cell_type": "code",
   "execution_count": 48,
   "metadata": {
    "ExecuteTime": {
     "end_time": "2022-01-10T19:10:24.536301Z",
     "start_time": "2022-01-10T19:10:23.429223Z"
    }
   },
   "outputs": [
    {
     "data": {
      "image/png": "[encoded data removed]",
      "text/plain": [
       "<Figure size 1008x360 with 2 Axes>"
      ]
     },
     "metadata": {
      "needs_background": "light"
     },
     "output_type": "display_data"
    }
   ],
   "source": [
    "# The XC network contains ~ 10% more edges, and a few new nodes\n",
    "fig, axes = summarize_changes(\"HumanNet\", \"_FN\",\"_XC\")"
   ]
  }
 ],
 "metadata": {
  "kernelspec": {
   "display_name": "Python [conda env:pcnet_py3]",
   "language": "python",
   "name": "conda-env-pcnet_py3-py"
  },
  "language_info": {
   "codemirror_mode": {
    "name": "ipython",
    "version": 3
   },
   "file_extension": ".py",
   "mimetype": "text/x-python",
   "name": "python",
   "nbconvert_exporter": "python",
   "pygments_lexer": "ipython3",
   "version": "3.10.0"
  },
  "toc": {
   "base_numbering": 1,
   "nav_menu": {},
   "number_sections": true,
   "sideBar": true,
   "skip_h1_title": false,
   "title_cell": "Table of Contents",
   "title_sidebar": "Contents",
   "toc_cell": false,
   "toc_position": {
    "height": "calc(100% - 180px)",
    "left": "10px",
    "top": "150px",
    "width": "341.458px"
   },
   "toc_section_display": true,
   "toc_window_display": true
  },
  "varInspector": {
   "cols": {
    "lenName": 16,
    "lenType": 16,
    "lenVar": 40
   },
   "kernels_config": {
    "python": {
     "delete_cmd_postfix": "",
     "delete_cmd_prefix": "del ",
     "library": "var_list.py",
     "varRefreshCmd": "print(var_dic_list())"
    },
    "r": {
     "delete_cmd_postfix": ") ",
     "delete_cmd_prefix": "rm(",
     "library": "var_list.r",
     "varRefreshCmd": "cat(var_dic_list()) "
    }
   },
   "types_to_exclude": [
    "module",
    "function",
    "builtin_function_or_method",
    "instance",
    "_Feature"
   ],
   "window_display": false
  }
 },
 "nbformat": 4,
 "nbformat_minor": 1
}
