{
 "cells": [
  {
   "cell_type": "code",
   "execution_count": 1,
   "metadata": {
    "ExecuteTime": {
     "end_time": "2022-01-31T23:44:07.207408Z",
     "start_time": "2022-01-31T23:44:03.091807Z"
    }
   },
   "outputs": [],
   "source": [
    "from network_evaluation_tools import gene_conversion_tools as gct\n",
    "from network_evaluation_tools import data_import_tools as dit\n",
    "import re\n",
    "import pandas as pd\n",
    "import itertools\n",
    "import time\n",
    "import matplotlib.pyplot as plt"
   ]
  },
  {
   "cell_type": "code",
   "execution_count": 2,
   "metadata": {
    "ExecuteTime": {
     "end_time": "2022-01-31T23:44:07.209919Z",
     "start_time": "2022-01-31T23:44:07.208465Z"
    }
   },
   "outputs": [],
   "source": [
    "wd = '/cellar/users/snwright/Data/Network_Analysis/'"
   ]
  },
  {
   "cell_type": "markdown",
   "metadata": {},
   "source": [
    "# Version 2.0"
   ]
  },
  {
   "cell_type": "markdown",
   "metadata": {},
   "source": [
    "## Load ConsensusPathDB Raw Data\n",
    "**Source: http://cpdb.molgen.mpg.de/download/ConsensusPathDB_human_PPI.gz**  \n",
    "Downloaded: November 16, 2021  \n",
    "Last Updated: June 19, 2021\n",
    "We only downloaded the protein interaction part of this database.  \n",
    "  \n",
    "**From the website:**    \n",
    "\"The protein interaction part of the integrated network is available for download. Due to several licensing issues, we are not allowed to release the complete integrated network (including signaling, metabolism and gene regulation).\n",
    "Rows with one protein only describe self-interactions, and rows with more than two proteins describe complex interactions. In cases when proteins are annotated only with genomic identifiers but no protein identifiers in the according source databases, and if the genomic identifiers map to more than one UniProt entry, the according UniProt entry names are concatenated (e.g. RL40_HUMAN.RS27A_HUMAN.UBIQ_HUMAN) as it is unclear which of the gene products interact.\"  \n",
    "  \n",
    "**Note about processing gene names:**  \n",
    "The gene names here are all listed as UniProtKB-IDs, however, MyGene.Info does not map these ID names. Therefore, we will use the UniProtKB mapping table (https://ftp.uniprot.org/pub/databases/uniprot/current_release/knowledgebase/idmapping/by_organism/HUMAN_9606_idmapping.dat.gz) to convert from the UniProtKB-IDs to the gene name. We will only be using the human mappings. UniProtKB-IDs with Gene Names mapped to the same UniProt Accession number in the first column will be mapped together. Updated version of mapping downloaded November 18, 2021\n",
    "  \n",
    "**Note about 'interaction confidence'**\n",
    "This column could potentially be used to filter interactions, but since we include the co-complex interactions in the list of interactors and these do not have an interaction confidence, we do not consider this scoring for a filtering of ConsensusPathDB"
   ]
  },
  {
   "cell_type": "code",
   "execution_count": 3,
   "metadata": {
    "ExecuteTime": {
     "end_time": "2022-01-31T23:44:07.688664Z",
     "start_time": "2022-01-31T23:44:07.211928Z"
    }
   },
   "outputs": [
    {
     "name": "stdout",
     "output_type": "stream",
     "text": [
      "554471 raw interactions in ConsensusPathDB\n"
     ]
    }
   ],
   "source": [
    "input_raw_v2 = pd.read_csv(wd+'Network_Data_Raw/ConsensusPathDB_human_PPI_v35.tsv',sep='\\t',skiprows=1)\n",
    "print(input_raw_v2.shape[0], 'raw interactions in ConsensusPathDB')"
   ]
  },
  {
   "cell_type": "code",
   "execution_count": 4,
   "metadata": {
    "ExecuteTime": {
     "end_time": "2022-01-31T23:44:07.726987Z",
     "start_time": "2022-01-31T23:44:07.689807Z"
    }
   },
   "outputs": [],
   "source": [
    "# Get all interaction from CPDB\n",
    "input_raw_interactions_v2 = list(input_raw_v2['interaction_participants'])"
   ]
  },
  {
   "cell_type": "code",
   "execution_count": 5,
   "metadata": {
    "ExecuteTime": {
     "end_time": "2022-01-31T23:44:08.832745Z",
     "start_time": "2022-01-31T23:44:07.727922Z"
    }
   },
   "outputs": [],
   "source": [
    "# Remove self-edges from CPDB interactions\n",
    "interactions_filt_v2 = []\n",
    "for interaction in input_raw_interactions_v2:\n",
    "    interaction_split = re.split(',|\\.', interaction)\n",
    "    if len(interaction_split) > 1:\n",
    "        interactions_filt_v2.append(interaction_split)"
   ]
  },
  {
   "cell_type": "code",
   "execution_count": 7,
   "metadata": {
    "ExecuteTime": {
     "end_time": "2022-01-31T23:44:24.600898Z",
     "start_time": "2022-01-31T23:44:22.358495Z"
    }
   },
   "outputs": [
    {
     "name": "stdout",
     "output_type": "stream",
     "text": [
      "Binary, non-self interactions in ConsensusPathDB v35: 10625935\n"
     ]
    }
   ],
   "source": [
    "# Extract Binary interactions from lists of interactors (multi-protein complex interactions form cliques)\n",
    "binary_interactions_v2 = [list(itertools.combinations(gene_list, 2)) for gene_list in interactions_filt_v2]\n",
    "edgelist_v2 = list(itertools.chain(*binary_interactions_v2))\n",
    "print('Binary, non-self interactions in ConsensusPathDB v35:', len(edgelist_v2))"
   ]
  },
  {
   "cell_type": "code",
   "execution_count": 8,
   "metadata": {
    "ExecuteTime": {
     "end_time": "2022-01-31T23:45:02.727051Z",
     "start_time": "2022-01-31T23:44:52.252970Z"
    }
   },
   "outputs": [],
   "source": [
    "edgelist_sorted_v2 = [sorted(edge) for edge in edgelist_v2]\n",
    "edgelist_sorted_v2 = pd.DataFrame(edgelist_sorted_v2, columns=[\"symbol_n1\", \"symbol_n2\"])"
   ]
  },
  {
   "cell_type": "markdown",
   "metadata": {},
   "source": [
    "## Gene symbol conversion"
   ]
  },
  {
   "cell_type": "code",
   "execution_count": 9,
   "metadata": {
    "ExecuteTime": {
     "end_time": "2022-01-31T23:45:31.971596Z",
     "start_time": "2022-01-31T23:45:30.495310Z"
    }
   },
   "outputs": [
    {
     "name": "stdout",
     "output_type": "stream",
     "text": [
      "20739 Valid Query Genes\n",
      "0 Invalid Query Genes\n"
     ]
    }
   ],
   "source": [
    "genes_v2 = (list(set(edgelist_sorted_v2[\"symbol_n1\"]).union(set(edgelist_sorted_v2[\"symbol_n2\"]))))\n",
    "query_string_v2, valid_genes_v2, invalid_genes_v2 = gct.query_constructor(genes_v2)"
   ]
  },
  {
   "cell_type": "code",
   "execution_count": 10,
   "metadata": {
    "ExecuteTime": {
     "end_time": "2022-01-31T23:46:18.486663Z",
     "start_time": "2022-01-31T23:45:59.272917Z"
    }
   },
   "outputs": [],
   "source": [
    "# Convert uniprot IDs to Uniprot Accession\n",
    "uniprot_ids_v2, missing_v2 = gct.query_uniprot(valid_genes_v2, return_as_dict=False, target_fmt=\"ACC\")"
   ]
  },
  {
   "cell_type": "code",
   "execution_count": 11,
   "metadata": {
    "ExecuteTime": {
     "end_time": "2022-01-31T23:47:54.095421Z",
     "start_time": "2022-01-31T23:46:45.544908Z"
    }
   },
   "outputs": [],
   "source": [
    "# Convert Accessions to symbols\n",
    "intermediate_genes_v2 = list(uniprot_ids_v2[\"ACC\"].values)\n",
    "uniprot_mapping_v2, missing_v2 = gct.query_uniprot(intermediate_genes_v2, return_as_dict=False, target_fmt=\"GENENAME\")"
   ]
  },
  {
   "cell_type": "code",
   "execution_count": 12,
   "metadata": {
    "ExecuteTime": {
     "end_time": "2022-01-31T23:48:21.528834Z",
     "start_time": "2022-01-31T23:48:21.499544Z"
    }
   },
   "outputs": [],
   "source": [
    "uniprot_final_v2 = uniprot_ids_v2.merge(uniprot_mapping_v2, left_on=['ACC', \"_score\"], right_on=[\"query\", \"_score\"], how=\"left\",\n",
    "                                 suffixes=[\"\", \"-y\"]).loc[:,(\"query\", \"symbol\", \"_score\")]"
   ]
  },
  {
   "cell_type": "code",
   "execution_count": 14,
   "metadata": {
    "ExecuteTime": {
     "end_time": "2022-01-31T23:49:04.311043Z",
     "start_time": "2022-01-31T23:49:04.095827Z"
    }
   },
   "outputs": [],
   "source": [
    "# Make ure symbols are updated to latest uniprot\n",
    "check_names_v2 = uniprot_final_v2.symbol.values\n",
    "mapped_v2, unmapped_v2 = gct.query_against_dataset(\"~/Data/Network_Analysis/Reference_Data/HGNC_download_2022.txt\",\n",
    "                              check_names_v2, return_as_dict=False)"
   ]
  },
  {
   "cell_type": "code",
   "execution_count": 15,
   "metadata": {
    "ExecuteTime": {
     "end_time": "2022-01-31T23:49:31.620696Z",
     "start_time": "2022-01-31T23:49:31.607299Z"
    }
   },
   "outputs": [],
   "source": [
    "# Get final gene mapping\n",
    "final_mapping_v2 = uniprot_final_v2.merge(mapped_v2,left_on=[\"symbol\"], right_on=[\"Query\"], how='outer', \n",
    "                                    suffixes=[\"\", \"-y\"]).loc[:, (\"query\", \"Approved symbol\", \"NCBI Gene ID\", \"_score\")]\n",
    "final_mapping_v2.columns = [\"query\", \"symbol\", \"entrezgene\", \"_score\"]"
   ]
  },
  {
   "cell_type": "code",
   "execution_count": 16,
   "metadata": {
    "ExecuteTime": {
     "end_time": "2022-01-31T23:49:58.878923Z",
     "start_time": "2022-01-31T23:49:58.750130Z"
    }
   },
   "outputs": [
    {
     "name": "stdout",
     "output_type": "stream",
     "text": [
      "Number of genes with multiple matches: 132\n",
      "Number of unmatched genes: 688\n",
      "Number of fully matched genes: 19936\n",
      "Number of partially matched genes: 803\n"
     ]
    }
   ],
   "source": [
    "match_table_trim_v2, query_to_symbol_v2, query_to_entrez_v2 = gct.construct_query_map_table(final_mapping_v2, valid_genes_v2)"
   ]
  },
  {
   "cell_type": "code",
   "execution_count": 17,
   "metadata": {
    "ExecuteTime": {
     "end_time": "2022-01-31T23:50:40.854313Z",
     "start_time": "2022-01-31T23:50:27.546348Z"
    }
   },
   "outputs": [
    {
     "name": "stdout",
     "output_type": "stream",
     "text": [
      "10625935 input edges\n",
      "4582 self-edges removed\n",
      "42649 edges with un-mapped genes removed\n",
      "5271449 duplicate edges removed\n",
      "Edge list filtered: 10.78 seconds\n",
      "5307255 Edges remaining\n"
     ]
    }
   ],
   "source": [
    "edgelist_updated_v2 = gct.convert_edgelist(edgelist_sorted_v2, query_to_symbol_v2)\n",
    "# Filter edgelist for duplicate nodes and for self-edges\n",
    "edgelist_filt_v2 = gct.filter_converted_edgelist(edgelist_updated_v2)"
   ]
  },
  {
   "cell_type": "code",
   "execution_count": 18,
   "metadata": {
    "ExecuteTime": {
     "end_time": "2022-01-31T23:53:16.115249Z",
     "start_time": "2022-01-31T23:53:11.200672Z"
    }
   },
   "outputs": [
    {
     "name": "stdout",
     "output_type": "stream",
     "text": [
      "Edge list saved: 4.91 seconds\n"
     ]
    }
   ],
   "source": [
    "# Save CPDB as gene symbol network\n",
    "gct.write_edgelist(edgelist_filt_v2, wd+'Processed_Data/Network_SIFs_Symbol/ConsensusPathDB_Symbol_v35.sif')"
   ]
  },
  {
   "cell_type": "markdown",
   "metadata": {},
   "source": [
    "# Version 1 (original)"
   ]
  },
  {
   "cell_type": "markdown",
   "metadata": {},
   "source": [
    "## Load ConsensusPathDB Raw Data\n",
    "**Source: http://cpdb.molgen.mpg.de/download/ConsensusPathDB_human_PPI.gz**  \n",
    "Downloaded: June 15, 2017  \n",
    "Last Updated: January 11, 2017  \n",
    "We only downloaded the protein interaction part of this database.  \n",
    "  \n",
    "**From the website:**  \n",
    "\"The protein interaction part of the integrated network is available for download. Due to several licensing issues, we are not allowed to release the complete integrated network (including signaling, metabolism and gene regulation).\n",
    "Rows with one protein only describe self-interactions, and rows with more than two proteins describe complex interactions. In cases when proteins are annotated only with genomic identifiers but no protein identifiers in the according source databases, and if the genomic identifiers map to more than one UniProt entry, the according UniProt entry names are concatenated (e.g. RL40_HUMAN.RS27A_HUMAN.UBIQ_HUMAN) as it is unclear which of the gene products interact.\"  \n",
    "  \n",
    "**Note about processing gene names:**  \n",
    "The gene names here are all listed as UniProtKB-IDs, however, MyGene.Info does not map these ID names. Therefore, we will use the UniProtKB mapping table (ftp://ftp.uniprot.org/pub/databases/uniprot/current_release/knowledgebase/idmapping/by_organism/HUMAN_9606_idmapping.dat.gz) to convert from the UniProtKB-IDs to the gene name. We will only be using the human mappings. UniProtKB-IDs with Gene Names mapped to the same UniProt Accession number in the first column will be mapped together. \n",
    "\n",
    "**Note about 'interaction confidence'**\n",
    "This column could potentially be used to filter interactions, but since we include the co-complex interactions in the list of interactors and these do not have an interaction confidence, we do not consider this scoring for a filtering of ConsensusPathDB\n",
    "  \n",
    "**Note about 2021 update**  \n",
    "There are slight differences when re-running this processing pipeline (despite identical input data), most likely due to changes in gene/protein identifiers in the mygene.info database"
   ]
  },
  {
   "cell_type": "code",
   "execution_count": 19,
   "metadata": {
    "ExecuteTime": {
     "end_time": "2022-01-31T23:53:43.952726Z",
     "start_time": "2022-01-31T23:53:43.709280Z"
    }
   },
   "outputs": [
    {
     "name": "stdout",
     "output_type": "stream",
     "text": [
      "291415 raw interactions in ConsensusPathDB\n"
     ]
    }
   ],
   "source": [
    "input_raw = pd.read_csv(wd+'Network_Data_Raw/ConsensusPathDB_human_PPI_v32',sep='\\t',skiprows=1)\n",
    "print(input_raw.shape[0], 'raw interactions in ConsensusPathDB')"
   ]
  },
  {
   "cell_type": "code",
   "execution_count": 20,
   "metadata": {
    "ExecuteTime": {
     "end_time": "2022-01-31T23:54:11.915830Z",
     "start_time": "2022-01-31T23:54:11.895523Z"
    }
   },
   "outputs": [],
   "source": [
    "# Get all interaction from CPDB\n",
    "input_raw_interactions = list(input_raw['interaction_participants'])"
   ]
  },
  {
   "cell_type": "code",
   "execution_count": 21,
   "metadata": {
    "ExecuteTime": {
     "end_time": "2022-01-31T23:54:40.123323Z",
     "start_time": "2022-01-31T23:54:39.769701Z"
    }
   },
   "outputs": [],
   "source": [
    "# Remove self-edges from CPDB interactions\n",
    "input_raw_filt = []\n",
    "for interaction in input_raw_interactions:\n",
    "    interaction_split = re.split(',|\\.', interaction)\n",
    "    if len(interaction_split) > 1:\n",
    "        input_raw_filt.append(interaction_split)"
   ]
  },
  {
   "cell_type": "code",
   "execution_count": 22,
   "metadata": {
    "ExecuteTime": {
     "end_time": "2022-01-31T23:55:08.253022Z",
     "start_time": "2022-01-31T23:55:07.935375Z"
    }
   },
   "outputs": [
    {
     "name": "stdout",
     "output_type": "stream",
     "text": [
      "Binary, non-self interactions in ConsensusPathDB v32: 2523991\n"
     ]
    }
   ],
   "source": [
    "# Extract Binary interactions from lists of interactors (multi-protein complex interactions form cliques)\n",
    "binary_interactions = [list(itertools.combinations(gene_list, 2)) for gene_list in input_raw_filt]\n",
    "edgelist = list(itertools.chain(*binary_interactions))\n",
    "print('Binary, non-self interactions in ConsensusPathDB v32:', len(edgelist))"
   ]
  },
  {
   "cell_type": "code",
   "execution_count": 23,
   "metadata": {
    "ExecuteTime": {
     "end_time": "2022-01-31T23:55:45.743172Z",
     "start_time": "2022-01-31T23:55:43.043701Z"
    }
   },
   "outputs": [],
   "source": [
    "edgelist_sorted = [sorted(edge) for edge in edgelist]\n",
    "edgelist_sorted = pd.DataFrame(edgelist_sorted, columns=[\"symbol_n1\", \"symbol_n2\"])"
   ]
  },
  {
   "cell_type": "markdown",
   "metadata": {},
   "source": [
    "## Gene symbol conversion"
   ]
  },
  {
   "cell_type": "code",
   "execution_count": 24,
   "metadata": {
    "ExecuteTime": {
     "end_time": "2022-01-31T23:56:20.923447Z",
     "start_time": "2022-01-31T23:56:20.495952Z"
    }
   },
   "outputs": [
    {
     "name": "stdout",
     "output_type": "stream",
     "text": [
      "18838 Valid Query Genes\n",
      "0 Invalid Query Genes\n"
     ]
    }
   ],
   "source": [
    "genes = (list(set(edgelist_sorted[\"symbol_n1\"]).union(set(edgelist_sorted[\"symbol_n2\"]))))\n",
    "query_string, valid_genes, invalid_genes = gct.query_constructor(genes)"
   ]
  },
  {
   "cell_type": "code",
   "execution_count": 25,
   "metadata": {
    "ExecuteTime": {
     "end_time": "2022-01-31T23:57:11.932890Z",
     "start_time": "2022-01-31T23:56:55.369632Z"
    }
   },
   "outputs": [],
   "source": [
    "# Convert uniprot IDs to Uniprot Accession\n",
    "uniprot_ids, missing = gct.query_uniprot(valid_genes, return_as_dict=False, target_fmt=\"ACC\")"
   ]
  },
  {
   "cell_type": "code",
   "execution_count": 26,
   "metadata": {
    "ExecuteTime": {
     "end_time": "2022-01-31T23:58:37.270955Z",
     "start_time": "2022-01-31T23:57:46.507950Z"
    }
   },
   "outputs": [],
   "source": [
    "# Convert Accessions to symbols\n",
    "intermediate_genes = list(uniprot_ids[\"ACC\"].values)\n",
    "uniprot_mapping, missing = gct.query_uniprot(intermediate_genes, return_as_dict=False, target_fmt=\"GENENAME\")"
   ]
  },
  {
   "cell_type": "code",
   "execution_count": 27,
   "metadata": {
    "ExecuteTime": {
     "end_time": "2022-01-31T23:59:11.626466Z",
     "start_time": "2022-01-31T23:59:11.610763Z"
    }
   },
   "outputs": [],
   "source": [
    "uniprot_final = uniprot_ids.merge(uniprot_mapping, left_on=['ACC', \"_score\"], right_on=[\"query\", \"_score\"], how=\"left\",\n",
    "                                 suffixes=[\"\", \"-y\"]).loc[:,(\"query\", \"symbol\", \"_score\")]"
   ]
  },
  {
   "cell_type": "code",
   "execution_count": 28,
   "metadata": {
    "ExecuteTime": {
     "end_time": "2022-01-31T23:59:46.526165Z",
     "start_time": "2022-01-31T23:59:46.286954Z"
    }
   },
   "outputs": [],
   "source": [
    "# Make ure symbols are updated to latest uniprot\n",
    "check_names = uniprot_final.symbol.values\n",
    "mapped, unmapped = gct.query_against_dataset(\"~/Data/Network_Analysis/Reference_Data/HGNC_download_2022.txt\",\n",
    "                              check_names, return_as_dict=False)"
   ]
  },
  {
   "cell_type": "code",
   "execution_count": 29,
   "metadata": {
    "ExecuteTime": {
     "end_time": "2022-02-01T00:00:20.661869Z",
     "start_time": "2022-02-01T00:00:20.651276Z"
    }
   },
   "outputs": [],
   "source": [
    "# Get final gene mapping\n",
    "final_mapping = uniprot_final.merge(mapped,left_on=[\"symbol\"], right_on=[\"Query\"], how='outer', \n",
    "                                    suffixes=[\"\", \"-y\"]).loc[:, (\"query\", \"Approved symbol\", \"NCBI Gene ID\", \"_score\")]\n",
    "final_mapping.columns = [\"query\", \"symbol\", \"entrezgene\", \"_score\"]"
   ]
  },
  {
   "cell_type": "code",
   "execution_count": 30,
   "metadata": {
    "ExecuteTime": {
     "end_time": "2022-02-01T00:00:54.788513Z",
     "start_time": "2022-02-01T00:00:54.706839Z"
    }
   },
   "outputs": [
    {
     "name": "stdout",
     "output_type": "stream",
     "text": [
      "Number of genes with multiple matches: 152\n",
      "Number of unmatched genes: 685\n",
      "Number of fully matched genes: 18051\n",
      "Number of partially matched genes: 787\n"
     ]
    }
   ],
   "source": [
    "match_table_trim, query_to_symbol, query_to_entrez = gct.construct_query_map_table(final_mapping, valid_genes)"
   ]
  },
  {
   "cell_type": "code",
   "execution_count": 31,
   "metadata": {
    "ExecuteTime": {
     "end_time": "2022-02-01T00:01:32.475960Z",
     "start_time": "2022-02-01T00:01:29.199378Z"
    }
   },
   "outputs": [
    {
     "name": "stdout",
     "output_type": "stream",
     "text": [
      "2523991 input edges\n",
      "3180 self-edges removed\n",
      "15741 edges with un-mapped genes removed\n",
      "821785 duplicate edges removed\n",
      "Edge list filtered: 2.61 seconds\n",
      "1683285 Edges remaining\n"
     ]
    }
   ],
   "source": [
    "edgelist_updated = gct.convert_edgelist(edgelist_sorted, query_to_symbol)\n",
    "# Filter edgelist for duplicate nodes and for self-edges\n",
    "edgelist_filt = gct.filter_converted_edgelist(edgelist_updated)"
   ]
  },
  {
   "cell_type": "code",
   "execution_count": 32,
   "metadata": {
    "ExecuteTime": {
     "end_time": "2022-02-01T00:02:08.255624Z",
     "start_time": "2022-02-01T00:02:06.715976Z"
    }
   },
   "outputs": [
    {
     "name": "stdout",
     "output_type": "stream",
     "text": [
      "Edge list saved: 1.54 seconds\n"
     ]
    }
   ],
   "source": [
    "# Save CPDB as gene symbol network\n",
    "gct.write_edgelist(edgelist_filt, wd+'Processed_Data/Network_SIFs_Symbol/ConsensusPathDB_Symbol_v32.sif')"
   ]
  },
  {
   "cell_type": "markdown",
   "metadata": {
    "collapsed": true,
    "jupyter": {
     "outputs_hidden": true
    }
   },
   "source": [
    "# Changes"
   ]
  },
  {
   "cell_type": "code",
   "execution_count": 35,
   "metadata": {
    "ExecuteTime": {
     "end_time": "2022-02-01T00:10:09.260940Z",
     "start_time": "2022-02-01T00:10:08.558299Z"
    }
   },
   "outputs": [
    {
     "name": "stdout",
     "output_type": "stream",
     "text": [
      "No human filtering done\n"
     ]
    },
    {
     "data": {
      "image/png": "[encoded data removed]",
      "text/plain": [
       "<Figure size 1080x360 with 2 Axes>"
      ]
     },
     "metadata": {
      "needs_background": "light"
     },
     "output_type": "display_data"
    }
   ],
   "source": [
    "dit.plot_changes_to_dataset(edgelist, edgelist_v2, edgelist_filt, edgelist_filt_v2)"
   ]
  }
 ],
 "metadata": {
  "kernelspec": {
   "display_name": "Python [conda env:pcnet_py3]",
   "language": "python",
   "name": "conda-env-pcnet_py3-py"
  },
  "language_info": {
   "codemirror_mode": {
    "name": "ipython",
    "version": 3
   },
   "file_extension": ".py",
   "mimetype": "text/x-python",
   "name": "python",
   "nbconvert_exporter": "python",
   "pygments_lexer": "ipython3",
   "version": "3.10.0"
  },
  "toc": {
   "base_numbering": 1,
   "nav_menu": {},
   "number_sections": true,
   "sideBar": true,
   "skip_h1_title": false,
   "title_cell": "Table of Contents",
   "title_sidebar": "Contents",
   "toc_cell": false,
   "toc_position": {
    "height": "calc(100% - 180px)",
    "left": "10px",
    "top": "150px",
    "width": "196.448px"
   },
   "toc_section_display": true,
   "toc_window_display": true
  },
  "varInspector": {
   "cols": {
    "lenName": 16,
    "lenType": 16,
    "lenVar": 40
   },
   "kernels_config": {
    "python": {
     "delete_cmd_postfix": "",
     "delete_cmd_prefix": "del ",
     "library": "var_list.py",
     "varRefreshCmd": "print(var_dic_list())"
    },
    "r": {
     "delete_cmd_postfix": ") ",
     "delete_cmd_prefix": "rm(",
     "library": "var_list.r",
     "varRefreshCmd": "cat(var_dic_list()) "
    }
   },
   "types_to_exclude": [
    "module",
    "function",
    "builtin_function_or_method",
    "instance",
    "_Feature"
   ],
   "window_display": false
  }
 },
 "nbformat": 4,
 "nbformat_minor": 4
}
