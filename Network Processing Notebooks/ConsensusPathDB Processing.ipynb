{
 "cells": [
  {
   "cell_type": "code",
   "execution_count": 53,
   "metadata": {
    "ExecuteTime": {
     "end_time": "2021-11-19T00:56:31.516375Z",
     "start_time": "2021-11-19T00:56:31.514460Z"
    }
   },
   "outputs": [],
   "source": [
    "from network_evaluation_tools import gene_conversion_tools as gct\n",
    "import re\n",
    "import pandas as pd\n",
    "import itertools\n",
    "import time\n",
    "import matplotlib.pyplot as plt"
   ]
  },
  {
   "cell_type": "code",
   "execution_count": 17,
   "metadata": {
    "ExecuteTime": {
     "end_time": "2021-11-19T00:47:48.170636Z",
     "start_time": "2021-11-19T00:47:48.159068Z"
    }
   },
   "outputs": [],
   "source": [
    "wd = '/cellar/users/snwright/Data/Network_Analysis/'"
   ]
  },
  {
   "cell_type": "markdown",
   "metadata": {},
   "source": [
    "# Version 2.0"
   ]
  },
  {
   "cell_type": "markdown",
   "metadata": {},
   "source": [
    "## Load ConsensusPathDB Raw Data\n",
    "#### Source: http://cpdb.molgen.mpg.de/download/ConsensusPathDB_human_PPI.gz\n",
    "Downloaded: November 16, 2021  \n",
    "Last Updated: June 19, 2021\n",
    "We only downloaded the protein interaction part of this database.  \n",
    "#### From the website:  \n",
    "\"The protein interaction part of the integrated network is available for download. Due to several licensing issues, we are not allowed to release the complete integrated network (including signaling, metabolism and gene regulation).\n",
    "Rows with one protein only describe self-interactions, and rows with more than two proteins describe complex interactions. In cases when proteins are annotated only with genomic identifiers but no protein identifiers in the according source databases, and if the genomic identifiers map to more than one UniProt entry, the according UniProt entry names are concatenated (e.g. RL40_HUMAN.RS27A_HUMAN.UBIQ_HUMAN) as it is unclear which of the gene products interact.\"  \n",
    "#### Note about processing gene names:\n",
    "The gene names here are all listed as UniProtKB-IDs, however, MyGene.Info does not map these ID names. Therefore, we will use the UniProtKB mapping table (https://ftp.uniprot.org/pub/databases/uniprot/current_release/knowledgebase/idmapping/by_organism/HUMAN_9606_idmapping.dat.gz) to convert from the UniProtKB-IDs to the gene name. We will only be using the human mappings. UniProtKB-IDs with Gene Names mapped to the same UniProt Accession number in the first column will be mapped together. Updated version of mapping downloaded November 18, 2021\n",
    "#### Note about 'interaction confidence'\n",
    "This column could potentially be used to filter interactions, but since we include the co-complex interactions in the list of interactors and these do not have an interaction confidence, we do not consider this scoring for a filtering of ConsensusPathDB"
   ]
  },
  {
   "cell_type": "code",
   "execution_count": 18,
   "metadata": {
    "ExecuteTime": {
     "end_time": "2021-11-19T00:47:48.701577Z",
     "start_time": "2021-11-19T00:47:48.259982Z"
    }
   },
   "outputs": [
    {
     "name": "stdout",
     "output_type": "stream",
     "text": [
      "554471 raw interactions in ConsensusPathDB\n"
     ]
    }
   ],
   "source": [
    "CPDB_Raw_v2 = pd.read_csv(wd+'Network_Data_Raw/ConsensusPathDB_human_PPI_v35.tsv',sep='\\t',skiprows=1)\n",
    "print(CPDB_Raw_v2.shape[0], 'raw interactions in ConsensusPathDB')"
   ]
  },
  {
   "cell_type": "code",
   "execution_count": 19,
   "metadata": {
    "ExecuteTime": {
     "end_time": "2021-11-19T00:47:48.741412Z",
     "start_time": "2021-11-19T00:47:48.702538Z"
    }
   },
   "outputs": [],
   "source": [
    "# Get all interaction from CPDB\n",
    "CPDB_Raw_Interactions_v2 = list(CPDB_Raw_v2['interaction_participants'])"
   ]
  },
  {
   "cell_type": "code",
   "execution_count": 20,
   "metadata": {
    "ExecuteTime": {
     "end_time": "2021-11-19T00:47:49.387279Z",
     "start_time": "2021-11-19T00:47:48.742295Z"
    }
   },
   "outputs": [],
   "source": [
    "# Remove self-edges from CPDB interactions\n",
    "CPDB_Raw_Interactions_filt_v2 = []\n",
    "for interaction in CPDB_Raw_Interactions_v2:\n",
    "    interaction_split = re.split(',|\\.', interaction)\n",
    "    if len(interaction_split) > 1:\n",
    "        CPDB_Raw_Interactions_filt_v2.append(interaction_split)"
   ]
  },
  {
   "cell_type": "code",
   "execution_count": 21,
   "metadata": {
    "ExecuteTime": {
     "end_time": "2021-11-19T00:47:50.508147Z",
     "start_time": "2021-11-19T00:47:49.388555Z"
    }
   },
   "outputs": [
    {
     "name": "stdout",
     "output_type": "stream",
     "text": [
      "Binary, non-self interactions in ConsensusPathDB v35: 10625935\n"
     ]
    }
   ],
   "source": [
    "# Extract Binary interactions from lists of interactors (multi-protein complex interactions form cliques)\n",
    "CPDB_binary_interactions_v2 = [list(itertools.combinations(gene_list, 2)) for gene_list in CPDB_Raw_Interactions_filt_v2]\n",
    "full_CPDB_interaction_list_v2 = list(itertools.chain(*CPDB_binary_interactions_v2))\n",
    "print('Binary, non-self interactions in ConsensusPathDB v35:', len(full_CPDB_interaction_list_v2))"
   ]
  },
  {
   "cell_type": "markdown",
   "metadata": {},
   "source": [
    "## Processing UniProtKB ID mapping files"
   ]
  },
  {
   "cell_type": "code",
   "execution_count": 22,
   "metadata": {
    "ExecuteTime": {
     "end_time": "2021-11-19T00:47:53.783338Z",
     "start_time": "2021-11-19T00:47:50.508912Z"
    }
   },
   "outputs": [],
   "source": [
    "# Load UniProt idmapping File\n",
    "UniProt_ID_map_v2 = pd.read_csv(wd+ 'Network_Data_Raw/HUMAN_9606_idmapping.dat.gz', sep='\\t', header=None)"
   ]
  },
  {
   "cell_type": "code",
   "execution_count": 23,
   "metadata": {
    "ExecuteTime": {
     "end_time": "2021-11-19T00:47:54.299310Z",
     "start_time": "2021-11-19T00:47:53.784184Z"
    }
   },
   "outputs": [],
   "source": [
    "# Construct UniProtKB to UniProt Accession\n",
    "UniProt_ID_map_filt_v2 = UniProt_ID_map_v2[(UniProt_ID_map_v2[1]=='UniProtKB-ID')]\n",
    "UniProt_ID_map_filt_v2 = UniProt_ID_map_filt_v2.set_index(2)\n",
    "UniProtKB_ID_map_v2 = UniProt_ID_map_filt_v2[0].to_dict()"
   ]
  },
  {
   "cell_type": "code",
   "execution_count": 24,
   "metadata": {
    "ExecuteTime": {
     "end_time": "2021-11-19T00:48:08.353095Z",
     "start_time": "2021-11-19T00:47:54.300195Z"
    }
   },
   "outputs": [
    {
     "name": "stdout",
     "output_type": "stream",
     "text": [
      "10592662 interactions converted to UniProt Accession IDs\n"
     ]
    }
   ],
   "source": [
    "# Convert CPDB interaction list to UniProt Accessions (if any interactions do not convert, do not keep the interaction)\n",
    "CPDB_UniProtID_edgelist_v2 = []\n",
    "for edge in full_CPDB_interaction_list_v2:\n",
    "    if (edge[0] in UniProtKB_ID_map_v2) & (edge[1] in UniProtKB_ID_map_v2):\n",
    "        converted_edge = sorted([UniProtKB_ID_map_v2[edge[0]], UniProtKB_ID_map_v2[edge[1]]])\n",
    "        CPDB_UniProtID_edgelist_v2.append(converted_edge)\n",
    "print(len(CPDB_UniProtID_edgelist_v2), 'interactions converted to UniProt Accession IDs')"
   ]
  },
  {
   "cell_type": "code",
   "execution_count": 25,
   "metadata": {
    "ExecuteTime": {
     "end_time": "2021-11-19T00:48:09.445880Z",
     "start_time": "2021-11-19T00:48:08.353983Z"
    }
   },
   "outputs": [],
   "source": [
    "CPDB_UniProtID_edgelist_v2 = pd.DataFrame(CPDB_UniProtID_edgelist_v2, columns=[\"n1\", \"n2\"])"
   ]
  },
  {
   "cell_type": "code",
   "execution_count": 26,
   "metadata": {
    "ExecuteTime": {
     "end_time": "2021-11-19T00:48:13.170814Z",
     "start_time": "2021-11-19T00:48:09.446800Z"
    }
   },
   "outputs": [
    {
     "name": "stdout",
     "output_type": "stream",
     "text": [
      "10592662 input edges\n",
      "116 self-edges removed\n",
      "0 edges with un-mapped genes removed\n",
      "5198949 duplicate edges removed\n",
      "Edge list filtered: 3.65 seconds\n",
      "5393597 Edges remaining\n"
     ]
    }
   ],
   "source": [
    "# Remove self-edges and duplicate edges after conversion\n",
    "CPDB_UniProtID_edgelist_filt_v2 = gct.filter_converted_edgelist(CPDB_UniProtID_edgelist_v2, node_cols=[\"n1\", \"n2\"])"
   ]
  },
  {
   "cell_type": "code",
   "execution_count": 27,
   "metadata": {
    "ExecuteTime": {
     "end_time": "2021-11-19T00:48:13.683668Z",
     "start_time": "2021-11-19T00:48:13.172534Z"
    }
   },
   "outputs": [],
   "source": [
    "CPDB_Converted_Genes_v2 = list(set(list(CPDB_UniProtID_edgelist_v2.n1.values) + list(CPDB_UniProtID_edgelist_v2.n2.values)))"
   ]
  },
  {
   "cell_type": "markdown",
   "metadata": {},
   "source": [
    "## Convert Uniprot Accession IDs to HUGO Gene Symbol / Entrez ID"
   ]
  },
  {
   "cell_type": "code",
   "execution_count": 28,
   "metadata": {
    "ExecuteTime": {
     "end_time": "2021-11-19T00:48:13.731072Z",
     "start_time": "2021-11-19T00:48:13.684588Z"
    }
   },
   "outputs": [
    {
     "name": "stdout",
     "output_type": "stream",
     "text": [
      "20683 Valid Query Genes\n",
      "0 Invalid Query Genes\n"
     ]
    }
   ],
   "source": [
    "query_string_v2, valid_genes_v2, invalid_genes_v2 = gct.query_constructor(CPDB_Converted_Genes_v2)"
   ]
  },
  {
   "cell_type": "code",
   "execution_count": 29,
   "metadata": {
    "ExecuteTime": {
     "end_time": "2021-11-19T00:48:28.240162Z",
     "start_time": "2021-11-19T00:48:13.731895Z"
    }
   },
   "outputs": [
    {
     "name": "stderr",
     "output_type": "stream",
     "text": [
      "100%|██████████| 21/21 [00:14<00:00,  1.45it/s]"
     ]
    },
    {
     "name": "stdout",
     "output_type": "stream",
     "text": [
      "21054 Matched query results\n",
      "Batch query complete: 14.5 seconds\n",
      "21054 Matched query results\n"
     ]
    },
    {
     "name": "stderr",
     "output_type": "stream",
     "text": [
      "\n"
     ]
    }
   ],
   "source": [
    "# Set scopes (gene naming systems to search)\n",
    "scopes = \"uniprot\"\n",
    "# Set fields (systems from which to return gene names from)\n",
    "fields = \"symbol, entrezgene\"\n",
    "# Query MyGene.Info\n",
    "match_list_v2 = gct.query_batch(query_string_v2, scopes=scopes, fields=fields)\n",
    "print(len(match_list_v2), 'Matched query results')"
   ]
  },
  {
   "cell_type": "code",
   "execution_count": 30,
   "metadata": {
    "ExecuteTime": {
     "end_time": "2021-11-19T00:48:39.629240Z",
     "start_time": "2021-11-19T00:48:28.241110Z"
    }
   },
   "outputs": [
    {
     "name": "stdout",
     "output_type": "stream",
     "text": [
      "Queries without full matching results found: 1727\n",
      "\n",
      "262 Queries with mutliple matches found\n",
      "\n",
      "Query mapping table/dictionary construction complete: 11.38 seconds\n"
     ]
    }
   ],
   "source": [
    "match_table_trim_v2, query_to_symbol_v2, query_to_entrez_v2 = gct.construct_query_map_table(match_list_v2, valid_genes_v2)"
   ]
  },
  {
   "cell_type": "code",
   "execution_count": 31,
   "metadata": {
    "ExecuteTime": {
     "end_time": "2021-11-19T00:48:42.657816Z",
     "start_time": "2021-11-19T00:48:39.630175Z"
    }
   },
   "outputs": [
    {
     "name": "stdout",
     "output_type": "stream",
     "text": [
      "5393597 input edges\n",
      "228 self-edges removed\n",
      "120217 edges with un-mapped genes removed\n",
      "55257 duplicate edges removed\n",
      "Edge list filtered: 1.86 seconds\n",
      "5217895 Edges remaining\n"
     ]
    }
   ],
   "source": [
    "# Convert UniProt Accession ID CPDB edgelist to gene symbols\n",
    "CPDB_edgelist_symbol_v2 = gct.convert_edgelist(CPDB_UniProtID_edgelist_filt_v2, query_to_symbol_v2)\n",
    "CPDB_edgelist_symbol_filt_v2 = gct.filter_converted_edgelist(CPDB_edgelist_symbol_v2)"
   ]
  },
  {
   "cell_type": "code",
   "execution_count": 32,
   "metadata": {
    "ExecuteTime": {
     "end_time": "2021-11-19T00:48:47.291627Z",
     "start_time": "2021-11-19T00:48:42.658670Z"
    }
   },
   "outputs": [
    {
     "name": "stdout",
     "output_type": "stream",
     "text": [
      "Edge list saved: 4.63 seconds\n"
     ]
    }
   ],
   "source": [
    "# Save CPDB as gene symbol network\n",
    "gct.write_edgelist(CPDB_edgelist_symbol_filt_v2, wd+'/Processed_Data/Network_SIFs_Symbol/ConsensusPathDB_Symbol_v35.sif')"
   ]
  },
  {
   "cell_type": "markdown",
   "metadata": {},
   "source": [
    "# Version 1 (original)"
   ]
  },
  {
   "cell_type": "markdown",
   "metadata": {},
   "source": [
    "## Load ConsensusPathDB Raw Data\n",
    "#### Source: http://cpdb.molgen.mpg.de/download/ConsensusPathDB_human_PPI.gz\n",
    "Downloaded: June 15, 2017  \n",
    "Last Updated: January 11, 2017  \n",
    "We only downloaded the protein interaction part of this database.  \n",
    "#### From the website:  \n",
    "\"The protein interaction part of the integrated network is available for download. Due to several licensing issues, we are not allowed to release the complete integrated network (including signaling, metabolism and gene regulation).\n",
    "Rows with one protein only describe self-interactions, and rows with more than two proteins describe complex interactions. In cases when proteins are annotated only with genomic identifiers but no protein identifiers in the according source databases, and if the genomic identifiers map to more than one UniProt entry, the according UniProt entry names are concatenated (e.g. RL40_HUMAN.RS27A_HUMAN.UBIQ_HUMAN) as it is unclear which of the gene products interact.\"  \n",
    "#### Note about processing gene names:\n",
    "The gene names here are all listed as UniProtKB-IDs, however, MyGene.Info does not map these ID names. Therefore, we will use the UniProtKB mapping table (ftp://ftp.uniprot.org/pub/databases/uniprot/current_release/knowledgebase/idmapping/by_organism/HUMAN_9606_idmapping.dat.gz) to convert from the UniProtKB-IDs to the gene name. We will only be using the human mappings. UniProtKB-IDs with Gene Names mapped to the same UniProt Accession number in the first column will be mapped together. \n",
    "#### Note about 'interaction confidence'\n",
    "This column could potentially be used to filter interactions, but since we include the co-complex interactions in the list of interactors and these do not have an interaction confidence, we do not consider this scoring for a filtering of ConsensusPathDB\n",
    "#### Note about 2021 update\n",
    "There are slight differences when re-running this processing pipeline (despite identical input data), most likely due to changes in gene/protein identifiers in the mygene.info database"
   ]
  },
  {
   "cell_type": "code",
   "execution_count": 33,
   "metadata": {
    "ExecuteTime": {
     "end_time": "2021-11-19T00:48:47.530800Z",
     "start_time": "2021-11-19T00:48:47.292462Z"
    }
   },
   "outputs": [
    {
     "name": "stdout",
     "output_type": "stream",
     "text": [
      "291415 raw interactions in ConsensusPathDB\n"
     ]
    }
   ],
   "source": [
    "CPDB_Raw = pd.read_csv(wd+'Network_Data_Raw/ConsensusPathDB_human_PPI_v32',sep='\\t',skiprows=1)\n",
    "print(CPDB_Raw.shape[0], 'raw interactions in ConsensusPathDB')"
   ]
  },
  {
   "cell_type": "code",
   "execution_count": 34,
   "metadata": {
    "ExecuteTime": {
     "end_time": "2021-11-19T00:48:47.548954Z",
     "start_time": "2021-11-19T00:48:47.531646Z"
    }
   },
   "outputs": [],
   "source": [
    "# Get all interaction from CPDB\n",
    "CPDB_Raw_Interactions = list(CPDB_Raw['interaction_participants'])"
   ]
  },
  {
   "cell_type": "code",
   "execution_count": 35,
   "metadata": {
    "ExecuteTime": {
     "end_time": "2021-11-19T00:48:47.887780Z",
     "start_time": "2021-11-19T00:48:47.549825Z"
    }
   },
   "outputs": [],
   "source": [
    "# Remove self-edges from CPDB interactions\n",
    "CPDB_Raw_Interactions_filt = []\n",
    "for interaction in CPDB_Raw_Interactions:\n",
    "    interaction_split = re.split(',|\\.', interaction)\n",
    "    if len(interaction_split) > 1:\n",
    "        CPDB_Raw_Interactions_filt.append(interaction_split)"
   ]
  },
  {
   "cell_type": "code",
   "execution_count": 36,
   "metadata": {
    "ExecuteTime": {
     "end_time": "2021-11-19T00:48:48.162974Z",
     "start_time": "2021-11-19T00:48:47.888810Z"
    }
   },
   "outputs": [
    {
     "name": "stdout",
     "output_type": "stream",
     "text": [
      "Binary, non-self interactions in ConsensusPathDB v32: 2523991\n"
     ]
    }
   ],
   "source": [
    "# Extract Binary interactions from lists of interactors (multi-protein complex interactions form cliques)\n",
    "CPDB_binary_interactions = [list(itertools.combinations(gene_list, 2)) for gene_list in CPDB_Raw_Interactions_filt]\n",
    "full_CPDB_interaction_list = list(itertools.chain(*CPDB_binary_interactions))\n",
    "print('Binary, non-self interactions in ConsensusPathDB v32:', len(full_CPDB_interaction_list))"
   ]
  },
  {
   "cell_type": "markdown",
   "metadata": {},
   "source": [
    "## Processing UniProtKB ID mapping files"
   ]
  },
  {
   "cell_type": "code",
   "execution_count": 37,
   "metadata": {
    "ExecuteTime": {
     "end_time": "2021-11-19T00:48:50.450202Z",
     "start_time": "2021-11-19T00:48:48.163804Z"
    }
   },
   "outputs": [],
   "source": [
    "# Load UniProt idmapping File\n",
    "UniProt_ID_map = pd.read_csv(wd+ 'Network_Data_Raw/HUMAN_9606_idmapping_original.dat', sep='\\t', header=None)"
   ]
  },
  {
   "cell_type": "code",
   "execution_count": 38,
   "metadata": {
    "ExecuteTime": {
     "end_time": "2021-11-19T00:48:50.858499Z",
     "start_time": "2021-11-19T00:48:50.451040Z"
    }
   },
   "outputs": [],
   "source": [
    "# Construct UniProtKB to UniProt Accession\n",
    "UniProt_ID_map_filt = UniProt_ID_map[(UniProt_ID_map[1]=='UniProtKB-ID')]\n",
    "UniProt_ID_map_filt = UniProt_ID_map_filt.set_index(2)\n",
    "UniProtKB_ID_map = UniProt_ID_map_filt[0].to_dict()"
   ]
  },
  {
   "cell_type": "code",
   "execution_count": 39,
   "metadata": {
    "ExecuteTime": {
     "end_time": "2021-11-19T00:48:53.219049Z",
     "start_time": "2021-11-19T00:48:50.859497Z"
    }
   },
   "outputs": [
    {
     "name": "stdout",
     "output_type": "stream",
     "text": [
      "2501019 interactions converted to UniProt Accession IDs\n"
     ]
    }
   ],
   "source": [
    "# Convert CPDB interaction list to UniProt Accessions (if any interactions do not convert, do not keep the interaction)\n",
    "CPDB_UniProtID_edgelist = []\n",
    "for edge in full_CPDB_interaction_list:\n",
    "    if (edge[0] in UniProtKB_ID_map) & (edge[1] in UniProtKB_ID_map):\n",
    "        converted_edge = sorted([UniProtKB_ID_map[edge[0]], UniProtKB_ID_map[edge[1]]])\n",
    "        CPDB_UniProtID_edgelist.append(converted_edge)\n",
    "print(len(CPDB_UniProtID_edgelist), 'interactions converted to UniProt Accession IDs')"
   ]
  },
  {
   "cell_type": "code",
   "execution_count": 40,
   "metadata": {
    "ExecuteTime": {
     "end_time": "2021-11-19T00:48:53.483402Z",
     "start_time": "2021-11-19T00:48:53.219936Z"
    }
   },
   "outputs": [],
   "source": [
    "CPDB_UniProtID_edgelist = pd.DataFrame(CPDB_UniProtID_edgelist, columns=[\"n1\", \"n2\"])"
   ]
  },
  {
   "cell_type": "code",
   "execution_count": 41,
   "metadata": {
    "ExecuteTime": {
     "end_time": "2021-11-19T00:48:54.373918Z",
     "start_time": "2021-11-19T00:48:53.484389Z"
    }
   },
   "outputs": [
    {
     "name": "stdout",
     "output_type": "stream",
     "text": [
      "2501019 input edges\n",
      "26 self-edges removed\n",
      "0 edges with un-mapped genes removed\n",
      "788438 duplicate edges removed\n",
      "Edge list filtered: 0.87 seconds\n",
      "1712555 Edges remaining\n"
     ]
    }
   ],
   "source": [
    "# Remove self-edges and duplicate edges after conversion\n",
    "CPDB_UniProtID_edgelist_filt = gct.filter_converted_edgelist(CPDB_UniProtID_edgelist, node_cols=[\"n1\", \"n2\"])"
   ]
  },
  {
   "cell_type": "code",
   "execution_count": 42,
   "metadata": {
    "ExecuteTime": {
     "end_time": "2021-11-19T00:48:54.496827Z",
     "start_time": "2021-11-19T00:48:54.374773Z"
    }
   },
   "outputs": [],
   "source": [
    "CPDB_Converted_Genes = list(set(list(CPDB_UniProtID_edgelist.n1.values) + list(CPDB_UniProtID_edgelist.n2.values)))"
   ]
  },
  {
   "cell_type": "markdown",
   "metadata": {},
   "source": [
    "## Convert Uniprot Accession IDs to HUGO Gene Symbol / Entrez ID"
   ]
  },
  {
   "cell_type": "code",
   "execution_count": 43,
   "metadata": {
    "ExecuteTime": {
     "end_time": "2021-11-19T00:48:54.568488Z",
     "start_time": "2021-11-19T00:48:54.497715Z"
    }
   },
   "outputs": [
    {
     "name": "stdout",
     "output_type": "stream",
     "text": [
      "18642 Valid Query Genes\n",
      "0 Invalid Query Genes\n"
     ]
    }
   ],
   "source": [
    "query_string, valid_genes, invalid_genes = gct.query_constructor(CPDB_Converted_Genes)"
   ]
  },
  {
   "cell_type": "code",
   "execution_count": 44,
   "metadata": {
    "ExecuteTime": {
     "end_time": "2021-11-19T00:49:08.485556Z",
     "start_time": "2021-11-19T00:48:54.569229Z"
    }
   },
   "outputs": [
    {
     "name": "stderr",
     "output_type": "stream",
     "text": [
      "100%|██████████| 19/19 [00:13<00:00,  1.37it/s]"
     ]
    },
    {
     "name": "stdout",
     "output_type": "stream",
     "text": [
      "18927 Matched query results\n",
      "Batch query complete: 13.91 seconds\n",
      "18927 Matched query results\n"
     ]
    },
    {
     "name": "stderr",
     "output_type": "stream",
     "text": [
      "\n"
     ]
    }
   ],
   "source": [
    "# Set scopes (gene naming systems to search)\n",
    "scopes = \"uniprot\"\n",
    "# Set fields (systems from which to return gene names from)\n",
    "fields = \"symbol, entrezgene\"\n",
    "# Query MyGene.Info\n",
    "match_list = gct.query_batch(query_string, scopes=scopes, fields=fields)\n",
    "print(len(match_list), 'Matched query results')"
   ]
  },
  {
   "cell_type": "code",
   "execution_count": 45,
   "metadata": {
    "ExecuteTime": {
     "end_time": "2021-11-19T00:49:17.644696Z",
     "start_time": "2021-11-19T00:49:08.488818Z"
    }
   },
   "outputs": [
    {
     "name": "stdout",
     "output_type": "stream",
     "text": [
      "Queries without full matching results found: 1432\n",
      "\n",
      "203 Queries with mutliple matches found\n",
      "\n",
      "Query mapping table/dictionary construction complete: 9.15 seconds\n"
     ]
    }
   ],
   "source": [
    "match_table_trim, query_to_symbol, query_to_entrez = gct.construct_query_map_table(match_list, valid_genes)"
   ]
  },
  {
   "cell_type": "code",
   "execution_count": 47,
   "metadata": {
    "ExecuteTime": {
     "end_time": "2021-11-19T00:49:28.289192Z",
     "start_time": "2021-11-19T00:49:27.339764Z"
    }
   },
   "outputs": [
    {
     "name": "stdout",
     "output_type": "stream",
     "text": [
      "1712555 input edges\n",
      "147 self-edges removed\n",
      "42286 edges with un-mapped genes removed\n",
      "16367 duplicate edges removed\n",
      "Edge list filtered: 0.59 seconds\n",
      "1653755 Edges remaining\n"
     ]
    }
   ],
   "source": [
    "# Convert UniProt Accession ID CPDB edgelist to gene symbols\n",
    "CPDB_edgelist_symbol = gct.convert_edgelist(CPDB_UniProtID_edgelist_filt, query_to_symbol)\n",
    "CPDB_edgelist_symbol_filt = gct.filter_converted_edgelist(CPDB_edgelist_symbol)"
   ]
  },
  {
   "cell_type": "code",
   "execution_count": 48,
   "metadata": {
    "ExecuteTime": {
     "end_time": "2021-11-19T00:49:29.753053Z",
     "start_time": "2021-11-19T00:49:28.290067Z"
    }
   },
   "outputs": [
    {
     "name": "stdout",
     "output_type": "stream",
     "text": [
      "Edge list saved: 1.46 seconds\n"
     ]
    }
   ],
   "source": [
    "# Save CPDB as gene symbol network\n",
    "gct.write_edgelist(CPDB_edgelist_symbol_filt, wd+'Processed_Data/Network_SIFs_Symbol/ConsensusPathDB_Symbol_v32.sif')"
   ]
  },
  {
   "cell_type": "markdown",
   "metadata": {
    "collapsed": true,
    "jupyter": {
     "outputs_hidden": true
    }
   },
   "source": [
    "# Changes"
   ]
  },
  {
   "cell_type": "code",
   "execution_count": 49,
   "metadata": {
    "ExecuteTime": {
     "end_time": "2021-11-19T00:53:25.599573Z",
     "start_time": "2021-11-19T00:53:25.596983Z"
    }
   },
   "outputs": [],
   "source": [
    "stats = pd.DataFrame({\"v1\":[291415, 2523991, 2501019, 1712555, 1653755],\n",
    "                     \"v2\":[554471, 10625935, 10592662, 5393597, 5217895]},\n",
    "                     index=[\"input\", \"binary\", \"uniprot\", \"filtered1\", \"filtered2\"])"
   ]
  },
  {
   "cell_type": "code",
   "execution_count": 54,
   "metadata": {
    "ExecuteTime": {
     "end_time": "2021-11-19T00:57:25.776866Z",
     "start_time": "2021-11-19T00:57:25.541919Z"
    }
   },
   "outputs": [],
   "source": [
    "nodes_v1 = set(CPDB_edgelist_symbol_filt[\"symbol_n1\"].values).union(set(CPDB_edgelist_symbol_filt[\"symbol_n2\"].values))\n",
    "nodes_v2 = set(CPDB_edgelist_symbol_filt_v2[\"symbol_n1\"].values).union(set(CPDB_edgelist_symbol_filt_v2[\"symbol_n2\"].values))"
   ]
  },
  {
   "cell_type": "code",
   "execution_count": 56,
   "metadata": {
    "ExecuteTime": {
     "end_time": "2021-11-19T00:58:25.316554Z",
     "start_time": "2021-11-19T00:58:24.747216Z"
    }
   },
   "outputs": [
    {
     "data": {
      "text/plain": [
       "Text(0, 0.5, 'Number of nodes')"
      ]
     },
     "execution_count": 56,
     "metadata": {},
     "output_type": "execute_result"
    },
    {
     "data": {
      "image/png": "[encoded data removed]",
      "text/plain": [
       "<Figure size 432x288 with 1 Axes>"
      ]
     },
     "metadata": {
      "needs_background": "light"
     },
     "output_type": "display_data"
    },
    {
     "data": {
      "image/png": "[encoded data removed]",
      "text/plain": [
       "<Figure size 432x288 with 1 Axes>"
      ]
     },
     "metadata": {
      "needs_background": "light"
     },
     "output_type": "display_data"
    }
   ],
   "source": [
    "stats.plot.bar(ylabel=\"Number of edges\")\n",
    "plt.figure()\n",
    "plt.bar([\"v1\", \"v2\", \"total difference\", \"new V2\", \"removed V2\"], [len(nodes_v1), len(nodes_v2), len(nodes_v2)-len(nodes_v1),\n",
    "                                                           len(nodes_v2.difference(nodes_v1)), len(nodes_v1.difference(nodes_v2))])\n",
    "plt.ylabel(\"Number of nodes\")"
   ]
  },
  {
   "cell_type": "code",
   "execution_count": null,
   "metadata": {},
   "outputs": [],
   "source": []
  }
 ],
 "metadata": {
  "kernelspec": {
   "display_name": "Python [conda env:pcnet_py3]",
   "language": "python",
   "name": "conda-env-pcnet_py3-py"
  },
  "language_info": {
   "codemirror_mode": {
    "name": "ipython",
    "version": 3
   },
   "file_extension": ".py",
   "mimetype": "text/x-python",
   "name": "python",
   "nbconvert_exporter": "python",
   "pygments_lexer": "ipython3",
   "version": "3.10.0"
  },
  "toc": {
   "base_numbering": 1,
   "nav_menu": {},
   "number_sections": true,
   "sideBar": true,
   "skip_h1_title": false,
   "title_cell": "Table of Contents",
   "title_sidebar": "Contents",
   "toc_cell": false,
   "toc_position": {},
   "toc_section_display": true,
   "toc_window_display": false
  },
  "varInspector": {
   "cols": {
    "lenName": 16,
    "lenType": 16,
    "lenVar": 40
   },
   "kernels_config": {
    "python": {
     "delete_cmd_postfix": "",
     "delete_cmd_prefix": "del ",
     "library": "var_list.py",
     "varRefreshCmd": "print(var_dic_list())"
    },
    "r": {
     "delete_cmd_postfix": ") ",
     "delete_cmd_prefix": "rm(",
     "library": "var_list.r",
     "varRefreshCmd": "cat(var_dic_list()) "
    }
   },
   "types_to_exclude": [
    "module",
    "function",
    "builtin_function_or_method",
    "instance",
    "_Feature"
   ],
   "window_display": false
  }
 },
 "nbformat": 4,
 "nbformat_minor": 4
}
