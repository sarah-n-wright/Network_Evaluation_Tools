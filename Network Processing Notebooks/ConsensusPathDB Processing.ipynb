{
 "cells": [
  {
   "cell_type": "code",
   "execution_count": 1,
   "metadata": {
    "ExecuteTime": {
     "end_time": "2022-04-18T19:49:07.414254Z",
     "start_time": "2022-04-18T19:49:04.131545Z"
    }
   },
   "outputs": [],
   "source": [
    "from network_evaluation_tools import gene_conversion_tools as gct\n",
    "from network_evaluation_tools import data_import_tools as dit\n",
    "import re\n",
    "import pandas as pd\n",
    "import itertools\n",
    "import time\n",
    "import matplotlib.pyplot as plt"
   ]
  },
  {
   "cell_type": "code",
   "execution_count": 2,
   "metadata": {
    "ExecuteTime": {
     "end_time": "2022-04-18T19:49:07.417080Z",
     "start_time": "2022-04-18T19:49:07.415202Z"
    }
   },
   "outputs": [],
   "source": [
    "wd = '/cellar/users/snwright/Data/Network_Analysis/'"
   ]
  },
  {
   "cell_type": "markdown",
   "metadata": {},
   "source": [
    "# Version 2.0"
   ]
  },
  {
   "cell_type": "markdown",
   "metadata": {},
   "source": [
    "## Load ConsensusPathDB Raw Data\n",
    "**Source: http://cpdb.molgen.mpg.de/download/ConsensusPathDB_human_PPI.gz**  \n",
    "Downloaded: November 16, 2021  \n",
    "Last Updated: June 19, 2021\n",
    "We only downloaded the protein interaction part of this database.  \n",
    "  \n",
    "**From the website:**    \n",
    "\"The protein interaction part of the integrated network is available for download. Due to several licensing issues, we are not allowed to release the complete integrated network (including signaling, metabolism and gene regulation).\n",
    "Rows with one protein only describe self-interactions, and rows with more than two proteins describe complex interactions. In cases when proteins are annotated only with genomic identifiers but no protein identifiers in the according source databases, and if the genomic identifiers map to more than one UniProt entry, the according UniProt entry names are concatenated (e.g. RL40_HUMAN.RS27A_HUMAN.UBIQ_HUMAN) as it is unclear which of the gene products interact.\"  \n",
    "  \n",
    "**Note about processing gene names:**  \n",
    "The gene names here are all listed as UniProtKB-IDs, however, MyGene.Info does not map these ID names. Therefore, we will use the UniProtKB mapping table (https://ftp.uniprot.org/pub/databases/uniprot/current_release/knowledgebase/idmapping/by_organism/HUMAN_9606_idmapping.dat.gz) to convert from the UniProtKB-IDs to the gene name. We will only be using the human mappings. UniProtKB-IDs with Gene Names mapped to the same UniProt Accession number in the first column will be mapped together. Updated version of mapping downloaded November 18, 2021\n",
    "  \n",
    "**Note about 'interaction confidence'**\n",
    "This column could potentially be used to filter interactions, but since we include the co-complex interactions in the list of interactors and these do not have an interaction confidence, we do not consider this scoring for a filtering of ConsensusPathDB"
   ]
  },
  {
   "cell_type": "code",
   "execution_count": 3,
   "metadata": {
    "ExecuteTime": {
     "end_time": "2022-04-18T19:49:08.022748Z",
     "start_time": "2022-04-18T19:49:07.417745Z"
    }
   },
   "outputs": [
    {
     "name": "stdout",
     "output_type": "stream",
     "text": [
      "554471 raw interactions in ConsensusPathDB\n"
     ]
    }
   ],
   "source": [
    "input_raw_v2 = pd.read_csv(wd+'Network_Data_Raw/ConsensusPathDB_human_PPI_v35.tsv',sep='\\t',skiprows=1)\n",
    "print(input_raw_v2.shape[0], 'raw interactions in ConsensusPathDB')"
   ]
  },
  {
   "cell_type": "code",
   "execution_count": 4,
   "metadata": {
    "ExecuteTime": {
     "end_time": "2022-04-18T19:49:08.057951Z",
     "start_time": "2022-04-18T19:49:08.024002Z"
    }
   },
   "outputs": [],
   "source": [
    "# Get all interaction from CPDB\n",
    "input_raw_interactions_v2 = list(input_raw_v2['interaction_participants'])"
   ]
  },
  {
   "cell_type": "code",
   "execution_count": 5,
   "metadata": {
    "ExecuteTime": {
     "end_time": "2022-04-18T19:49:09.154906Z",
     "start_time": "2022-04-18T19:49:08.058773Z"
    }
   },
   "outputs": [],
   "source": [
    "# Remove self-edges from CPDB interactions\n",
    "interactions_filt_v2 = []\n",
    "for interaction in input_raw_interactions_v2:\n",
    "    interaction_split = re.split(',|\\.', interaction)\n",
    "    if len(interaction_split) > 1:\n",
    "        interactions_filt_v2.append(interaction_split)"
   ]
  },
  {
   "cell_type": "code",
   "execution_count": 6,
   "metadata": {
    "ExecuteTime": {
     "end_time": "2022-04-18T19:49:10.509856Z",
     "start_time": "2022-04-18T19:49:09.155704Z"
    }
   },
   "outputs": [
    {
     "name": "stdout",
     "output_type": "stream",
     "text": [
      "Binary, non-self interactions in ConsensusPathDB v35: 10625935\n"
     ]
    }
   ],
   "source": [
    "# Extract Binary interactions from lists of interactors (multi-protein complex interactions form cliques)\n",
    "binary_interactions_v2 = [list(itertools.combinations(gene_list, 2)) for gene_list in interactions_filt_v2]\n",
    "edgelist_v2 = list(itertools.chain(*binary_interactions_v2))\n",
    "print('Binary, non-self interactions in ConsensusPathDB v35:', len(edgelist_v2))"
   ]
  },
  {
   "cell_type": "code",
   "execution_count": 7,
   "metadata": {
    "ExecuteTime": {
     "end_time": "2022-04-18T19:49:20.200880Z",
     "start_time": "2022-04-18T19:49:10.510599Z"
    }
   },
   "outputs": [],
   "source": [
    "edgelist_sorted_v2 = [sorted(edge) for edge in edgelist_v2]\n",
    "edgelist_sorted_v2 = pd.DataFrame(edgelist_sorted_v2, columns=[\"symbol_n1\", \"symbol_n2\"])"
   ]
  },
  {
   "cell_type": "markdown",
   "metadata": {},
   "source": [
    "## Gene symbol conversion"
   ]
  },
  {
   "cell_type": "code",
   "execution_count": 8,
   "metadata": {
    "ExecuteTime": {
     "end_time": "2022-04-18T19:49:21.677219Z",
     "start_time": "2022-04-18T19:49:20.201868Z"
    }
   },
   "outputs": [
    {
     "name": "stdout",
     "output_type": "stream",
     "text": [
      "20739 Valid Query Genes\n",
      "0 Invalid Query Genes\n"
     ]
    }
   ],
   "source": [
    "genes_v2 = (list(set(edgelist_sorted_v2[\"symbol_n1\"]).union(set(edgelist_sorted_v2[\"symbol_n2\"]))))\n",
    "query_string_v2, valid_genes_v2, invalid_genes_v2 = gct.query_constructor(genes_v2)"
   ]
  },
  {
   "cell_type": "code",
   "execution_count": 9,
   "metadata": {
    "ExecuteTime": {
     "end_time": "2022-04-18T19:49:49.245440Z",
     "start_time": "2022-04-18T19:49:21.677957Z"
    }
   },
   "outputs": [],
   "source": [
    "# Convert uniprot IDs to Uniprot Accession\n",
    "uniprot_ids_v2, missing_v2 = gct.query_uniprot(valid_genes_v2, return_as_dict=False, target_fmt=\"ACC\")"
   ]
  },
  {
   "cell_type": "code",
   "execution_count": 10,
   "metadata": {
    "ExecuteTime": {
     "end_time": "2022-04-18T19:51:52.555700Z",
     "start_time": "2022-04-18T19:49:49.251988Z"
    }
   },
   "outputs": [],
   "source": [
    "# Convert Accessions to symbols\n",
    "intermediate_genes_v2 = list(uniprot_ids_v2[\"ACC\"].values)\n",
    "uniprot_mapping_v2, missing_v2 = gct.query_uniprot(intermediate_genes_v2, return_as_dict=False, target_fmt=\"GENENAME\")"
   ]
  },
  {
   "cell_type": "code",
   "execution_count": 11,
   "metadata": {
    "ExecuteTime": {
     "end_time": "2022-04-18T19:51:52.572472Z",
     "start_time": "2022-04-18T19:51:52.556499Z"
    }
   },
   "outputs": [],
   "source": [
    "uniprot_final_v2 = uniprot_ids_v2.merge(uniprot_mapping_v2, left_on=['ACC', \"_score\"], right_on=[\"query\", \"_score\"], how=\"left\",\n",
    "                                 suffixes=[\"\", \"-y\"]).loc[:,(\"query\", \"symbol\", \"_score\")]"
   ]
  },
  {
   "cell_type": "code",
   "execution_count": 12,
   "metadata": {
    "ExecuteTime": {
     "end_time": "2022-04-18T19:51:52.776408Z",
     "start_time": "2022-04-18T19:51:52.573247Z"
    }
   },
   "outputs": [],
   "source": [
    "# Make ure symbols are updated to latest uniprot\n",
    "check_names_v2 = uniprot_final_v2.symbol.values\n",
    "mapped_v2, unmapped_v2 = gct.query_against_dataset(\"~/Data/Network_Analysis/Reference_Data/HGNC_download_2022.txt\",\n",
    "                              check_names_v2, return_as_dict=False)"
   ]
  },
  {
   "cell_type": "code",
   "execution_count": 13,
   "metadata": {
    "ExecuteTime": {
     "end_time": "2022-04-18T19:51:52.800738Z",
     "start_time": "2022-04-18T19:51:52.777209Z"
    }
   },
   "outputs": [],
   "source": [
    "# Get final gene mapping\n",
    "final_mapping_v2 = uniprot_final_v2.merge(mapped_v2,left_on=[\"symbol\"], right_on=[\"Query\"], how='outer', \n",
    "                                    suffixes=[\"\", \"-y\"]).loc[:, (\"query\", \"Approved symbol\", \"NCBI Gene ID\", \"_score\")]\n",
    "final_mapping_v2.columns = [\"query\", \"symbol\", \"entrezgene\", \"_score\"]"
   ]
  },
  {
   "cell_type": "code",
   "execution_count": 14,
   "metadata": {
    "ExecuteTime": {
     "end_time": "2022-04-18T19:51:52.882689Z",
     "start_time": "2022-04-18T19:51:52.801512Z"
    }
   },
   "outputs": [
    {
     "name": "stdout",
     "output_type": "stream",
     "text": [
      "Number of genes with multiple matches: 133\n",
      "Number of unmatched genes: 688\n",
      "Number of fully matched genes: 19935\n",
      "Number of partially matched genes: 804\n"
     ]
    }
   ],
   "source": [
    "match_table_trim_v2, query_to_symbol_v2, query_to_entrez_v2 = gct.construct_query_map_table(final_mapping_v2, valid_genes_v2)"
   ]
  },
  {
   "cell_type": "code",
   "execution_count": 15,
   "metadata": {
    "ExecuteTime": {
     "end_time": "2022-04-18T19:52:00.939548Z",
     "start_time": "2022-04-18T19:51:52.883575Z"
    }
   },
   "outputs": [
    {
     "name": "stdout",
     "output_type": "stream",
     "text": [
      "10625935 input edges\n",
      "4591 self-edges removed\n",
      "42339 edges with un-mapped genes removed\n",
      "5271662 duplicate edges removed\n",
      "Edge list filtered: 4.89 seconds\n",
      "5307343 Edges remaining\n"
     ]
    }
   ],
   "source": [
    "edgelist_updated_v2 = gct.convert_edgelist(edgelist_sorted_v2, query_to_symbol_v2)\n",
    "# Filter edgelist for duplicate nodes and for self-edges\n",
    "edgelist_filt_v2 = gct.filter_converted_edgelist(edgelist_updated_v2)"
   ]
  },
  {
   "cell_type": "code",
   "execution_count": 16,
   "metadata": {
    "ExecuteTime": {
     "end_time": "2022-04-18T19:52:05.774253Z",
     "start_time": "2022-04-18T19:52:00.940613Z"
    }
   },
   "outputs": [
    {
     "name": "stdout",
     "output_type": "stream",
     "text": [
      "Edge list saved: 4.83 seconds\n"
     ]
    }
   ],
   "source": [
    "# Save CPDB as gene symbol network\n",
    "gct.write_edgelist(edgelist_filt_v2, wd+'Processed_Data/Network_SIFs_Symbol/ConsensusPathDB_Symbol_v35.sif')"
   ]
  },
  {
   "cell_type": "markdown",
   "metadata": {},
   "source": [
    "# Version 1 (original)"
   ]
  },
  {
   "cell_type": "markdown",
   "metadata": {},
   "source": [
    "## Load ConsensusPathDB Raw Data\n",
    "**Source: http://cpdb.molgen.mpg.de/download/ConsensusPathDB_human_PPI.gz**  \n",
    "Downloaded: June 15, 2017  \n",
    "Last Updated: January 11, 2017  \n",
    "We only downloaded the protein interaction part of this database.  \n",
    "  \n",
    "**From the website:**  \n",
    "\"The protein interaction part of the integrated network is available for download. Due to several licensing issues, we are not allowed to release the complete integrated network (including signaling, metabolism and gene regulation).\n",
    "Rows with one protein only describe self-interactions, and rows with more than two proteins describe complex interactions. In cases when proteins are annotated only with genomic identifiers but no protein identifiers in the according source databases, and if the genomic identifiers map to more than one UniProt entry, the according UniProt entry names are concatenated (e.g. RL40_HUMAN.RS27A_HUMAN.UBIQ_HUMAN) as it is unclear which of the gene products interact.\"  \n",
    "  \n",
    "**Note about processing gene names:**  \n",
    "The gene names here are all listed as UniProtKB-IDs, however, MyGene.Info does not map these ID names. Therefore, we will use the UniProtKB mapping table (ftp://ftp.uniprot.org/pub/databases/uniprot/current_release/knowledgebase/idmapping/by_organism/HUMAN_9606_idmapping.dat.gz) to convert from the UniProtKB-IDs to the gene name. We will only be using the human mappings. UniProtKB-IDs with Gene Names mapped to the same UniProt Accession number in the first column will be mapped together. \n",
    "\n",
    "**Note about 'interaction confidence'**\n",
    "This column could potentially be used to filter interactions, but since we include the co-complex interactions in the list of interactors and these do not have an interaction confidence, we do not consider this scoring for a filtering of ConsensusPathDB\n",
    "  \n",
    "**Note about 2021 update**  \n",
    "There are slight differences when re-running this processing pipeline (despite identical input data), most likely due to changes in gene/protein identifiers in the mygene.info database"
   ]
  },
  {
   "cell_type": "code",
   "execution_count": 17,
   "metadata": {
    "ExecuteTime": {
     "end_time": "2022-04-18T19:52:06.202306Z",
     "start_time": "2022-04-18T19:52:05.775086Z"
    }
   },
   "outputs": [
    {
     "name": "stdout",
     "output_type": "stream",
     "text": [
      "291415 raw interactions in ConsensusPathDB\n"
     ]
    }
   ],
   "source": [
    "input_raw = pd.read_csv(wd+'Network_Data_Raw/ConsensusPathDB_human_PPI_v32',sep='\\t',skiprows=1)\n",
    "print(input_raw.shape[0], 'raw interactions in ConsensusPathDB')"
   ]
  },
  {
   "cell_type": "code",
   "execution_count": 18,
   "metadata": {
    "ExecuteTime": {
     "end_time": "2022-04-18T19:52:06.221042Z",
     "start_time": "2022-04-18T19:52:06.203178Z"
    }
   },
   "outputs": [],
   "source": [
    "# Get all interaction from CPDB\n",
    "input_raw_interactions = list(input_raw['interaction_participants'])"
   ]
  },
  {
   "cell_type": "code",
   "execution_count": 19,
   "metadata": {
    "ExecuteTime": {
     "end_time": "2022-04-18T19:52:07.082425Z",
     "start_time": "2022-04-18T19:52:06.221921Z"
    }
   },
   "outputs": [],
   "source": [
    "# Remove self-edges from CPDB interactions\n",
    "input_raw_filt = []\n",
    "for interaction in input_raw_interactions:\n",
    "    interaction_split = re.split(',|\\.', interaction)\n",
    "    if len(interaction_split) > 1:\n",
    "        input_raw_filt.append(interaction_split)"
   ]
  },
  {
   "cell_type": "code",
   "execution_count": 20,
   "metadata": {
    "ExecuteTime": {
     "end_time": "2022-04-18T19:52:07.848124Z",
     "start_time": "2022-04-18T19:52:07.083294Z"
    }
   },
   "outputs": [
    {
     "name": "stdout",
     "output_type": "stream",
     "text": [
      "Binary, non-self interactions in ConsensusPathDB v32: 2523991\n"
     ]
    }
   ],
   "source": [
    "# Extract Binary interactions from lists of interactors (multi-protein complex interactions form cliques)\n",
    "binary_interactions = [list(itertools.combinations(gene_list, 2)) for gene_list in input_raw_filt]\n",
    "edgelist = list(itertools.chain(*binary_interactions))\n",
    "print('Binary, non-self interactions in ConsensusPathDB v32:', len(edgelist))"
   ]
  },
  {
   "cell_type": "code",
   "execution_count": 21,
   "metadata": {
    "ExecuteTime": {
     "end_time": "2022-04-18T19:52:10.438672Z",
     "start_time": "2022-04-18T19:52:07.849070Z"
    }
   },
   "outputs": [],
   "source": [
    "edgelist_sorted = [sorted(edge) for edge in edgelist]\n",
    "edgelist_sorted = pd.DataFrame(edgelist_sorted, columns=[\"symbol_n1\", \"symbol_n2\"])"
   ]
  },
  {
   "cell_type": "markdown",
   "metadata": {},
   "source": [
    "## Gene symbol conversion"
   ]
  },
  {
   "cell_type": "code",
   "execution_count": 22,
   "metadata": {
    "ExecuteTime": {
     "end_time": "2022-04-18T19:52:10.833159Z",
     "start_time": "2022-04-18T19:52:10.439583Z"
    }
   },
   "outputs": [
    {
     "name": "stdout",
     "output_type": "stream",
     "text": [
      "18838 Valid Query Genes\n",
      "0 Invalid Query Genes\n"
     ]
    }
   ],
   "source": [
    "genes = (list(set(edgelist_sorted[\"symbol_n1\"]).union(set(edgelist_sorted[\"symbol_n2\"]))))\n",
    "query_string, valid_genes, invalid_genes = gct.query_constructor(genes)"
   ]
  },
  {
   "cell_type": "code",
   "execution_count": 23,
   "metadata": {
    "ExecuteTime": {
     "end_time": "2022-04-18T19:53:04.981019Z",
     "start_time": "2022-04-18T19:52:10.833882Z"
    }
   },
   "outputs": [],
   "source": [
    "# Convert uniprot IDs to Uniprot Accession\n",
    "uniprot_ids, missing = gct.query_uniprot(valid_genes, return_as_dict=False, target_fmt=\"ACC\")"
   ]
  },
  {
   "cell_type": "code",
   "execution_count": 24,
   "metadata": {
    "ExecuteTime": {
     "end_time": "2022-04-18T19:54:02.153264Z",
     "start_time": "2022-04-18T19:53:04.982072Z"
    }
   },
   "outputs": [],
   "source": [
    "# Convert Accessions to symbols\n",
    "intermediate_genes = list(uniprot_ids[\"ACC\"].values)\n",
    "uniprot_mapping, missing = gct.query_uniprot(intermediate_genes, return_as_dict=False, target_fmt=\"GENENAME\")"
   ]
  },
  {
   "cell_type": "code",
   "execution_count": 25,
   "metadata": {
    "ExecuteTime": {
     "end_time": "2022-04-18T19:54:02.165599Z",
     "start_time": "2022-04-18T19:54:02.154064Z"
    }
   },
   "outputs": [],
   "source": [
    "uniprot_final = uniprot_ids.merge(uniprot_mapping, left_on=['ACC', \"_score\"], right_on=[\"query\", \"_score\"], how=\"left\",\n",
    "                                 suffixes=[\"\", \"-y\"]).loc[:,(\"query\", \"symbol\", \"_score\")]"
   ]
  },
  {
   "cell_type": "code",
   "execution_count": 26,
   "metadata": {
    "ExecuteTime": {
     "end_time": "2022-04-18T19:54:02.373043Z",
     "start_time": "2022-04-18T19:54:02.166398Z"
    }
   },
   "outputs": [],
   "source": [
    "# Make ure symbols are updated to latest uniprot\n",
    "check_names = uniprot_final.symbol.values\n",
    "mapped, unmapped = gct.query_against_dataset(\"~/Data/Network_Analysis/Reference_Data/HGNC_download_2022.txt\",\n",
    "                              check_names, return_as_dict=False)"
   ]
  },
  {
   "cell_type": "code",
   "execution_count": 27,
   "metadata": {
    "ExecuteTime": {
     "end_time": "2022-04-18T19:54:02.383915Z",
     "start_time": "2022-04-18T19:54:02.374002Z"
    }
   },
   "outputs": [],
   "source": [
    "# Get final gene mapping\n",
    "final_mapping = uniprot_final.merge(mapped,left_on=[\"symbol\"], right_on=[\"Query\"], how='outer', \n",
    "                                    suffixes=[\"\", \"-y\"]).loc[:, (\"query\", \"Approved symbol\", \"NCBI Gene ID\", \"_score\")]\n",
    "final_mapping.columns = [\"query\", \"symbol\", \"entrezgene\", \"_score\"]"
   ]
  },
  {
   "cell_type": "code",
   "execution_count": 28,
   "metadata": {
    "ExecuteTime": {
     "end_time": "2022-04-18T19:54:02.469393Z",
     "start_time": "2022-04-18T19:54:02.386997Z"
    }
   },
   "outputs": [
    {
     "name": "stdout",
     "output_type": "stream",
     "text": [
      "Number of genes with multiple matches: 152\n",
      "Number of unmatched genes: 684\n",
      "Number of fully matched genes: 18051\n",
      "Number of partially matched genes: 787\n"
     ]
    }
   ],
   "source": [
    "match_table_trim, query_to_symbol, query_to_entrez = gct.construct_query_map_table(final_mapping, valid_genes)"
   ]
  },
  {
   "cell_type": "code",
   "execution_count": 29,
   "metadata": {
    "ExecuteTime": {
     "end_time": "2022-04-18T19:54:04.409189Z",
     "start_time": "2022-04-18T19:54:02.470133Z"
    }
   },
   "outputs": [
    {
     "name": "stdout",
     "output_type": "stream",
     "text": [
      "2523991 input edges\n",
      "3188 self-edges removed\n",
      "15694 edges with un-mapped genes removed\n",
      "821794 duplicate edges removed\n",
      "Edge list filtered: 1.13 seconds\n",
      "1683315 Edges remaining\n"
     ]
    }
   ],
   "source": [
    "edgelist_updated = gct.convert_edgelist(edgelist_sorted, query_to_symbol)\n",
    "# Filter edgelist for duplicate nodes and for self-edges\n",
    "edgelist_filt = gct.filter_converted_edgelist(edgelist_updated)"
   ]
  },
  {
   "cell_type": "code",
   "execution_count": 30,
   "metadata": {
    "ExecuteTime": {
     "end_time": "2022-04-18T19:54:05.965300Z",
     "start_time": "2022-04-18T19:54:04.410078Z"
    }
   },
   "outputs": [
    {
     "name": "stdout",
     "output_type": "stream",
     "text": [
      "Edge list saved: 1.55 seconds\n"
     ]
    }
   ],
   "source": [
    "# Save CPDB as gene symbol network\n",
    "gct.write_edgelist(edgelist_filt, wd+'Processed_Data/Network_SIFs_Symbol/ConsensusPathDB_Symbol_v32.sif')"
   ]
  },
  {
   "cell_type": "markdown",
   "metadata": {
    "collapsed": true,
    "jupyter": {
     "outputs_hidden": true
    }
   },
   "source": [
    "# Changes"
   ]
  },
  {
   "cell_type": "markdown",
   "metadata": {
    "ExecuteTime": {
     "end_time": "2022-04-18T19:54:07.383491Z",
     "start_time": "2022-04-18T19:54:05.966124Z"
    }
   },
   "source": [
    "# dit.plot_changes_to_dataset(edgelist, edgelist_v2, edgelist_filt, edgelist_filt_v2)"
   ]
  }
 ],
 "metadata": {
  "kernelspec": {
   "display_name": "Python [conda env:pcnet_py3]",
   "language": "python",
   "name": "conda-env-pcnet_py3-py"
  },
  "language_info": {
   "codemirror_mode": {
    "name": "ipython",
    "version": 3
   },
   "file_extension": ".py",
   "mimetype": "text/x-python",
   "name": "python",
   "nbconvert_exporter": "python",
   "pygments_lexer": "ipython3",
   "version": "3.10.0"
  },
  "toc": {
   "base_numbering": 1,
   "nav_menu": {},
   "number_sections": true,
   "sideBar": true,
   "skip_h1_title": false,
   "title_cell": "Table of Contents",
   "title_sidebar": "Contents",
   "toc_cell": false,
   "toc_position": {
    "height": "calc(100% - 180px)",
    "left": "10px",
    "top": "150px",
    "width": "196.448px"
   },
   "toc_section_display": true,
   "toc_window_display": true
  },
  "varInspector": {
   "cols": {
    "lenName": 16,
    "lenType": 16,
    "lenVar": 40
   },
   "kernels_config": {
    "python": {
     "delete_cmd_postfix": "",
     "delete_cmd_prefix": "del ",
     "library": "var_list.py",
     "varRefreshCmd": "print(var_dic_list())"
    },
    "r": {
     "delete_cmd_postfix": ") ",
     "delete_cmd_prefix": "rm(",
     "library": "var_list.r",
     "varRefreshCmd": "cat(var_dic_list()) "
    }
   },
   "types_to_exclude": [
    "module",
    "function",
    "builtin_function_or_method",
    "instance",
    "_Feature"
   ],
   "window_display": false
  }
 },
 "nbformat": 4,
 "nbformat_minor": 4
}
