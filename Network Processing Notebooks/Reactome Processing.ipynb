{
 "cells": [
  {
   "cell_type": "code",
   "execution_count": 1,
   "metadata": {
    "ExecuteTime": {
     "end_time": "2021-12-22T22:03:05.188149Z",
     "start_time": "2021-12-22T22:02:49.265150Z"
    }
   },
   "outputs": [],
   "source": [
    "from network_evaluation_tools import gene_conversion_tools as gct\n",
    "from network_evaluation_tools import data_import_tools as dit\n",
    "import pandas as pd\n",
    "import itertools\n",
    "import time\n",
    "import matplotlib.pyplot as plt"
   ]
  },
  {
   "cell_type": "code",
   "execution_count": 2,
   "metadata": {
    "ExecuteTime": {
     "end_time": "2021-12-22T22:03:05.194048Z",
     "start_time": "2021-12-22T22:03:05.192120Z"
    }
   },
   "outputs": [],
   "source": [
    "wd = '/cellar/users/snwright/Data/Network_Analysis/'"
   ]
  },
  {
   "cell_type": "markdown",
   "metadata": {},
   "source": [
    "## TBD\n",
    "\n",
    "There seem to be many changes in the data and I need to figure out the best source. It is difficult to access past version of Reactome. Need to figure out which is most appropriate for this task. \n",
    "\n",
    "From PathwayCommons:\n",
    "* v12: v69\n",
    "* v11: v67\n",
    "* v9: v61\n",
    "* v8: v56\n",
    "Maybe see how closely v61 matches original data?\n",
    "\n",
    "Reactome.org is currently at v78"
   ]
  },
  {
   "cell_type": "markdown",
   "metadata": {},
   "source": [
    "# Version 2.0\n",
    "## Load Reactome Raw Data\n",
    "#### Source: http://www.reactome.org/download/current/homo_sapiens.interactions.txt.gz\n",
    "#### File to download: The link labelled \"Human protein-protein interaction pairs in tab-delimited format\" seems to have many more interactions than the MITAB file format. This is the file that we will use for this network.\n",
    "Downloaded: Nov 16, 2021   \n",
    "Last Updated: Oct 10, 2021"
   ]
  },
  {
   "cell_type": "code",
   "execution_count": 60,
   "metadata": {
    "ExecuteTime": {
     "end_time": "2021-12-22T23:04:45.039447Z",
     "start_time": "2021-12-22T23:04:43.161256Z"
    }
   },
   "outputs": [
    {
     "name": "stdout",
     "output_type": "stream",
     "text": [
      "Raw Edges in Reactome v69: 365961\n"
     ]
    }
   ],
   "source": [
    "\n",
    "Reactome_Raw_v3 = pd.read_csv(wd+'Network_Data_Raw/Reactome/PathwayCommons12.reactome.hgnc.txt.gz',sep='\\t',skiprows=1, header=None, low_memory=False)\n",
    "print('Raw Edges in Reactome v69:', len(Reactome_Raw_v3))"
   ]
  },
  {
   "cell_type": "code",
   "execution_count": 61,
   "metadata": {
    "ExecuteTime": {
     "end_time": "2021-12-22T23:04:48.128456Z",
     "start_time": "2021-12-22T23:04:48.120230Z"
    }
   },
   "outputs": [
    {
     "data": {
      "text/html": [
       "<div>\n",
       "<style scoped>\n",
       "    .dataframe tbody tr th:only-of-type {\n",
       "        vertical-align: middle;\n",
       "    }\n",
       "\n",
       "    .dataframe tbody tr th {\n",
       "        vertical-align: top;\n",
       "    }\n",
       "\n",
       "    .dataframe thead th {\n",
       "        text-align: right;\n",
       "    }\n",
       "</style>\n",
       "<table border=\"1\" class=\"dataframe\">\n",
       "  <thead>\n",
       "    <tr style=\"text-align: right;\">\n",
       "      <th></th>\n",
       "      <th>0</th>\n",
       "      <th>1</th>\n",
       "      <th>2</th>\n",
       "      <th>3</th>\n",
       "      <th>4</th>\n",
       "      <th>5</th>\n",
       "      <th>6</th>\n",
       "    </tr>\n",
       "  </thead>\n",
       "  <tbody>\n",
       "    <tr>\n",
       "      <th>0</th>\n",
       "      <td>A1CF</td>\n",
       "      <td>in-complex-with</td>\n",
       "      <td>APOBEC1</td>\n",
       "      <td>Reactome</td>\n",
       "      <td>NaN</td>\n",
       "      <td>Formation of the Editosome;mRNA Editing: C to ...</td>\n",
       "      <td>http://pathwaycommons.org/pc12/Complex_5987964...</td>\n",
       "    </tr>\n",
       "    <tr>\n",
       "      <th>1</th>\n",
       "      <td>A1CF</td>\n",
       "      <td>in-complex-with</td>\n",
       "      <td>APOBEC2</td>\n",
       "      <td>Reactome</td>\n",
       "      <td>NaN</td>\n",
       "      <td>Formation of the Editosome;mRNA Editing: C to ...</td>\n",
       "      <td>http://pathwaycommons.org/pc12/Complex_5987964...</td>\n",
       "    </tr>\n",
       "    <tr>\n",
       "      <th>2</th>\n",
       "      <td>A1CF</td>\n",
       "      <td>in-complex-with</td>\n",
       "      <td>APOBEC3A</td>\n",
       "      <td>Reactome</td>\n",
       "      <td>NaN</td>\n",
       "      <td>Formation of the Editosome;mRNA Editing: C to ...</td>\n",
       "      <td>http://pathwaycommons.org/pc12/Complex_5987964...</td>\n",
       "    </tr>\n",
       "    <tr>\n",
       "      <th>3</th>\n",
       "      <td>A1CF</td>\n",
       "      <td>in-complex-with</td>\n",
       "      <td>APOBEC3B</td>\n",
       "      <td>Reactome</td>\n",
       "      <td>NaN</td>\n",
       "      <td>Formation of the Editosome;mRNA Editing: C to ...</td>\n",
       "      <td>http://pathwaycommons.org/pc12/Complex_5987964...</td>\n",
       "    </tr>\n",
       "    <tr>\n",
       "      <th>4</th>\n",
       "      <td>A1CF</td>\n",
       "      <td>in-complex-with</td>\n",
       "      <td>APOBEC3C</td>\n",
       "      <td>Reactome</td>\n",
       "      <td>NaN</td>\n",
       "      <td>Formation of the Editosome;mRNA Editing: C to ...</td>\n",
       "      <td>http://pathwaycommons.org/pc12/Complex_5987964...</td>\n",
       "    </tr>\n",
       "  </tbody>\n",
       "</table>\n",
       "</div>"
      ],
      "text/plain": [
       "      0                1         2         3    4  \\\n",
       "0  A1CF  in-complex-with   APOBEC1  Reactome  NaN   \n",
       "1  A1CF  in-complex-with   APOBEC2  Reactome  NaN   \n",
       "2  A1CF  in-complex-with  APOBEC3A  Reactome  NaN   \n",
       "3  A1CF  in-complex-with  APOBEC3B  Reactome  NaN   \n",
       "4  A1CF  in-complex-with  APOBEC3C  Reactome  NaN   \n",
       "\n",
       "                                                   5  \\\n",
       "0  Formation of the Editosome;mRNA Editing: C to ...   \n",
       "1  Formation of the Editosome;mRNA Editing: C to ...   \n",
       "2  Formation of the Editosome;mRNA Editing: C to ...   \n",
       "3  Formation of the Editosome;mRNA Editing: C to ...   \n",
       "4  Formation of the Editosome;mRNA Editing: C to ...   \n",
       "\n",
       "                                                   6  \n",
       "0  http://pathwaycommons.org/pc12/Complex_5987964...  \n",
       "1  http://pathwaycommons.org/pc12/Complex_5987964...  \n",
       "2  http://pathwaycommons.org/pc12/Complex_5987964...  \n",
       "3  http://pathwaycommons.org/pc12/Complex_5987964...  \n",
       "4  http://pathwaycommons.org/pc12/Complex_5987964...  "
      ]
     },
     "execution_count": 61,
     "metadata": {},
     "output_type": "execute_result"
    }
   ],
   "source": [
    "Reactome_Raw_v3.head()"
   ]
  },
  {
   "cell_type": "code",
   "execution_count": 63,
   "metadata": {
    "ExecuteTime": {
     "end_time": "2021-12-22T23:05:09.848975Z",
     "start_time": "2021-12-22T23:05:09.832704Z"
    }
   },
   "outputs": [
    {
     "data": {
      "text/plain": [
       "in-complex-with                               141797\n",
       "controls-state-change-of                      116870\n",
       "catalysis-precedes                             52989\n",
       "chemical-affects                               13072\n",
       "ProteinReference                                9858\n",
       "controls-production-of                          5343\n",
       "controls-transport-of                           5325\n",
       "consumption-controlled-by                       5173\n",
       "controls-expression-of                          3757\n",
       "controls-phosphorylation-of                     3415\n",
       "used-to-produce                                 3369\n",
       "SmallMoleculeReference                          1957\n",
       "controls-transport-of-chemical                  1927\n",
       "reacts-with                                      599\n",
       "DnaReference;ProteinReference                    435\n",
       "DnaReference                                      33\n",
       "DnaReference;ProteinReference;RnaReference        22\n",
       "ProteinReference;RnaReference                     15\n",
       "DnaReference;RnaReference                          3\n",
       "PARTICIPANT_TYPE                                   1\n",
       "RnaReference                                       1\n",
       "Name: 1, dtype: int64"
      ]
     },
     "execution_count": 63,
     "metadata": {},
     "output_type": "execute_result"
    }
   ],
   "source": [
    "Reactome_Raw_v3[1].value_counts()"
   ]
  },
  {
   "cell_type": "code",
   "execution_count": 52,
   "metadata": {
    "ExecuteTime": {
     "end_time": "2021-12-22T23:01:48.972677Z",
     "start_time": "2021-12-22T23:01:48.665566Z"
    }
   },
   "outputs": [
    {
     "name": "stdout",
     "output_type": "stream",
     "text": [
      "Raw Edges in Reactome v78: 101646\n"
     ]
    }
   ],
   "source": [
    "\n",
    "Reactome_Raw_v2 = pd.read_csv(wd+'Network_Data_Raw/Reactome/Reactome_v78_interactions.txt',sep='\\t',skiprows=1, header=None, low_memory=False)\n",
    "print('Raw Edges in Reactome v78:', len(Reactome_Raw_v2))"
   ]
  },
  {
   "cell_type": "code",
   "execution_count": 53,
   "metadata": {
    "ExecuteTime": {
     "end_time": "2021-12-22T23:01:51.334896Z",
     "start_time": "2021-12-22T23:01:51.325569Z"
    }
   },
   "outputs": [
    {
     "data": {
      "text/html": [
       "<div>\n",
       "<style scoped>\n",
       "    .dataframe tbody tr th:only-of-type {\n",
       "        vertical-align: middle;\n",
       "    }\n",
       "\n",
       "    .dataframe tbody tr th {\n",
       "        vertical-align: top;\n",
       "    }\n",
       "\n",
       "    .dataframe thead th {\n",
       "        text-align: right;\n",
       "    }\n",
       "</style>\n",
       "<table border=\"1\" class=\"dataframe\">\n",
       "  <thead>\n",
       "    <tr style=\"text-align: right;\">\n",
       "      <th></th>\n",
       "      <th>0</th>\n",
       "      <th>1</th>\n",
       "      <th>2</th>\n",
       "      <th>3</th>\n",
       "      <th>4</th>\n",
       "      <th>5</th>\n",
       "      <th>6</th>\n",
       "      <th>7</th>\n",
       "      <th>8</th>\n",
       "    </tr>\n",
       "  </thead>\n",
       "  <tbody>\n",
       "    <tr>\n",
       "      <th>0</th>\n",
       "      <td>uniprotkb:Q9Y287</td>\n",
       "      <td>ENSEMBL:ENST00000378549|ENSEMBL:ENSP0000049722...</td>\n",
       "      <td>-</td>\n",
       "      <td>uniprotkb:Q9Y287</td>\n",
       "      <td>ENSEMBL:ENST00000378549|ENSEMBL:ENSP0000049722...</td>\n",
       "      <td>-</td>\n",
       "      <td>physical association</td>\n",
       "      <td>reactome:R-HSA-976871</td>\n",
       "      <td>14690516|10391242</td>\n",
       "    </tr>\n",
       "    <tr>\n",
       "      <th>1</th>\n",
       "      <td>uniprotkb:P37840</td>\n",
       "      <td>ENSEMBL:ENST00000506244|ENSEMBL:ENST0000039499...</td>\n",
       "      <td>-</td>\n",
       "      <td>uniprotkb:P37840</td>\n",
       "      <td>ENSEMBL:ENST00000506244|ENSEMBL:ENST0000039499...</td>\n",
       "      <td>-</td>\n",
       "      <td>physical association</td>\n",
       "      <td>reactome:R-HSA-1247852</td>\n",
       "      <td>24243840</td>\n",
       "    </tr>\n",
       "    <tr>\n",
       "      <th>2</th>\n",
       "      <td>uniprotkb:P0DJI8</td>\n",
       "      <td>ENSEMBL:ENST00000356524|ENSEMBL:ENSG0000017343...</td>\n",
       "      <td>-</td>\n",
       "      <td>uniprotkb:P0DJI8</td>\n",
       "      <td>ENSEMBL:ENST00000356524|ENSEMBL:ENSG0000017343...</td>\n",
       "      <td>-</td>\n",
       "      <td>physical association</td>\n",
       "      <td>reactome:R-HSA-976898</td>\n",
       "      <td>19393650|103558</td>\n",
       "    </tr>\n",
       "    <tr>\n",
       "      <th>3</th>\n",
       "      <td>uniprotkb:P06727</td>\n",
       "      <td>ENSEMBL:ENST00000357780|ENSEMBL:ENSG0000011024...</td>\n",
       "      <td>-</td>\n",
       "      <td>uniprotkb:P06727</td>\n",
       "      <td>ENSEMBL:ENST00000357780|ENSEMBL:ENSG0000011024...</td>\n",
       "      <td>-</td>\n",
       "      <td>physical association</td>\n",
       "      <td>reactome:R-HSA-976889</td>\n",
       "      <td>15146166</td>\n",
       "    </tr>\n",
       "    <tr>\n",
       "      <th>4</th>\n",
       "      <td>uniprotkb:P01160</td>\n",
       "      <td>ENSEMBL:ENST00000376480|ENSEMBL:ENSP0000036566...</td>\n",
       "      <td>-</td>\n",
       "      <td>uniprotkb:P01160</td>\n",
       "      <td>ENSEMBL:ENST00000376480|ENSEMBL:ENSP0000036566...</td>\n",
       "      <td>-</td>\n",
       "      <td>physical association</td>\n",
       "      <td>reactome:R-HSA-976987</td>\n",
       "      <td>2142465|2945573</td>\n",
       "    </tr>\n",
       "  </tbody>\n",
       "</table>\n",
       "</div>"
      ],
      "text/plain": [
       "                  0                                                  1  2  \\\n",
       "0  uniprotkb:Q9Y287  ENSEMBL:ENST00000378549|ENSEMBL:ENSP0000049722...  -   \n",
       "1  uniprotkb:P37840  ENSEMBL:ENST00000506244|ENSEMBL:ENST0000039499...  -   \n",
       "2  uniprotkb:P0DJI8  ENSEMBL:ENST00000356524|ENSEMBL:ENSG0000017343...  -   \n",
       "3  uniprotkb:P06727  ENSEMBL:ENST00000357780|ENSEMBL:ENSG0000011024...  -   \n",
       "4  uniprotkb:P01160  ENSEMBL:ENST00000376480|ENSEMBL:ENSP0000036566...  -   \n",
       "\n",
       "                  3                                                  4  5  \\\n",
       "0  uniprotkb:Q9Y287  ENSEMBL:ENST00000378549|ENSEMBL:ENSP0000049722...  -   \n",
       "1  uniprotkb:P37840  ENSEMBL:ENST00000506244|ENSEMBL:ENST0000039499...  -   \n",
       "2  uniprotkb:P0DJI8  ENSEMBL:ENST00000356524|ENSEMBL:ENSG0000017343...  -   \n",
       "3  uniprotkb:P06727  ENSEMBL:ENST00000357780|ENSEMBL:ENSG0000011024...  -   \n",
       "4  uniprotkb:P01160  ENSEMBL:ENST00000376480|ENSEMBL:ENSP0000036566...  -   \n",
       "\n",
       "                      6                       7                  8  \n",
       "0  physical association   reactome:R-HSA-976871  14690516|10391242  \n",
       "1  physical association  reactome:R-HSA-1247852           24243840  \n",
       "2  physical association   reactome:R-HSA-976898    19393650|103558  \n",
       "3  physical association   reactome:R-HSA-976889           15146166  \n",
       "4  physical association   reactome:R-HSA-976987    2142465|2945573  "
      ]
     },
     "execution_count": 53,
     "metadata": {},
     "output_type": "execute_result"
    }
   ],
   "source": [
    "Reactome_Raw_v2.head()"
   ]
  },
  {
   "cell_type": "code",
   "execution_count": 57,
   "metadata": {
    "ExecuteTime": {
     "end_time": "2021-12-22T23:02:21.391856Z",
     "start_time": "2021-12-22T23:02:21.384010Z"
    }
   },
   "outputs": [
    {
     "data": {
      "text/plain": [
       "physical association                                  91275\n",
       "enzymatic reaction                                     7285\n",
       "cleavage reaction                                      1437\n",
       "dephosphorylation reaction                              603\n",
       "oxidoreductase activity electron transfer reaction      398\n",
       "phospholipase reaction                                  142\n",
       "glycosylation reaction                                   96\n",
       "acetylation reaction                                     94\n",
       "isomerase reaction                                       86\n",
       "nucleoside triphosphatase reaction                       52\n",
       "gtpase reaction                                          48\n",
       "deubiquitination reaction                                24\n",
       "demethylation reaction                                   20\n",
       "decarboxylation reaction                                 19\n",
       "deacetylation reaction                                   18\n",
       "carboxylation reaction                                   16\n",
       "amidation reaction                                        9\n",
       "deneddylation reaction                                    8\n",
       "atpase reaction                                           6\n",
       "sulfurtransfer reaction                                   5\n",
       "tyrosinylation                                            2\n",
       "ubiquitination                                            1\n",
       "de-ADP-ribosylation reaction                              1\n",
       "phosphopantetheinylation                                  1\n",
       "Name: 6, dtype: int64"
      ]
     },
     "execution_count": 57,
     "metadata": {},
     "output_type": "execute_result"
    }
   ],
   "source": [
    "Reactome_Raw_v2[6].value_counts()"
   ]
  },
  {
   "cell_type": "code",
   "execution_count": 55,
   "metadata": {
    "ExecuteTime": {
     "end_time": "2021-12-22T23:02:08.635655Z",
     "start_time": "2021-12-22T23:02:08.584883Z"
    }
   },
   "outputs": [
    {
     "name": "stdout",
     "output_type": "stream",
     "text": [
      "40772 Raw Reactome Edges after removing duplicate edges\n",
      "40772 Raw Reactome Edges after removing duplicate and self-edges\n"
     ]
    }
   ],
   "source": [
    "# Get edge list of network (filter for duplicate edges and self-edges)\n",
    "query_edgelist_filt_v2 = Reactome_Raw_v2.drop_duplicates(subset = [0, 3])\n",
    "print(len(query_edgelist_filt_v2), \"Raw Reactome Edges after removing duplicate edges\")\n",
    "query_edgelist_filt2_v2 = query_edgelist_filt_v2[query_edgelist_filt_v2[0]!=query_edgelist_filt_v2[2]]\n",
    "print(len(query_edgelist_filt2_v2), \"Raw Reactome Edges after removing duplicate and self-edges\")\n",
    "query_edgelist_v2 = query_edgelist_filt2_v2.values.tolist()"
   ]
  },
  {
   "cell_type": "code",
   "execution_count": 49,
   "metadata": {
    "ExecuteTime": {
     "end_time": "2021-12-22T23:00:32.351864Z",
     "start_time": "2021-12-22T23:00:32.311760Z"
    }
   },
   "outputs": [],
   "source": [
    "# Extract gene list\n",
    "Reactome_Raw_Genes_v2 = list(set(query_edgelist_filt2_v2[0]).union(set(query_edgelist_filt2_v2[3])))"
   ]
  },
  {
   "cell_type": "markdown",
   "metadata": {},
   "source": [
    "## Convert Genes from UniProtKB to Symbol"
   ]
  },
  {
   "cell_type": "code",
   "execution_count": 50,
   "metadata": {
    "ExecuteTime": {
     "end_time": "2021-12-22T23:00:35.335384Z",
     "start_time": "2021-12-22T23:00:35.280338Z"
    }
   },
   "outputs": [
    {
     "name": "stdout",
     "output_type": "stream",
     "text": [
      "14279 Valid Query Genes\n",
      "10259 Invalid Query Genes\n"
     ]
    },
    {
     "ename": "TypeError",
     "evalue": "sequence item 18: expected str instance, NoneType found",
     "output_type": "error",
     "traceback": [
      "\u001b[0;31m---------------------------------------------------------------------------\u001b[0m",
      "\u001b[0;31mTypeError\u001b[0m                                 Traceback (most recent call last)",
      "\u001b[0;32m/tmp/ipykernel_2075794/707547966.py\u001b[0m in \u001b[0;36m<module>\u001b[0;34m\u001b[0m\n\u001b[0;32m----> 1\u001b[0;31m \u001b[0mquery_string_v2\u001b[0m\u001b[0;34m,\u001b[0m \u001b[0mvalid_genes_v2\u001b[0m\u001b[0;34m,\u001b[0m \u001b[0minvalid_genes_v2\u001b[0m \u001b[0;34m=\u001b[0m \u001b[0mgct\u001b[0m\u001b[0;34m.\u001b[0m\u001b[0mquery_constructor\u001b[0m\u001b[0;34m(\u001b[0m\u001b[0mReactome_Raw_Genes_v2\u001b[0m\u001b[0;34m)\u001b[0m\u001b[0;34m\u001b[0m\u001b[0;34m\u001b[0m\u001b[0m\n\u001b[0m",
      "\u001b[0;32m~/anaconda3/envs/pcnet_py3/lib/python3.10/site-packages/network_evaluation_tools-1.0.2.py3-py3.10.egg/network_evaluation_tools/gene_conversion_tools.py\u001b[0m in \u001b[0;36mquery_constructor\u001b[0;34m(gene_list, exclude_prefixes, print_invalid_genes)\u001b[0m\n\u001b[1;32m     43\u001b[0m         \u001b[0;32melse\u001b[0m\u001b[0;34m:\u001b[0m\u001b[0;34m\u001b[0m\u001b[0;34m\u001b[0m\u001b[0m\n\u001b[1;32m     44\u001b[0m                 \u001b[0mprint\u001b[0m\u001b[0;34m(\u001b[0m\u001b[0mlen\u001b[0m\u001b[0;34m(\u001b[0m\u001b[0minvalid_query_genes\u001b[0m\u001b[0;34m)\u001b[0m\u001b[0;34m,\u001b[0m \u001b[0;34m\"Invalid Query Genes\"\u001b[0m\u001b[0;34m)\u001b[0m\u001b[0;34m\u001b[0m\u001b[0;34m\u001b[0m\u001b[0m\n\u001b[0;32m---> 45\u001b[0;31m         \u001b[0mquery_string\u001b[0m \u001b[0;34m=\u001b[0m \u001b[0;34m' '\u001b[0m\u001b[0;34m.\u001b[0m\u001b[0mjoin\u001b[0m\u001b[0;34m(\u001b[0m\u001b[0mvalid_query_genes\u001b[0m\u001b[0;34m)\u001b[0m \u001b[0;31m# Build string of names to input into MyGene.Info\u001b[0m\u001b[0;34m\u001b[0m\u001b[0;34m\u001b[0m\u001b[0m\n\u001b[0m\u001b[1;32m     46\u001b[0m         \u001b[0;32mreturn\u001b[0m \u001b[0mquery_string\u001b[0m\u001b[0;34m,\u001b[0m \u001b[0mvalid_query_genes\u001b[0m\u001b[0;34m,\u001b[0m \u001b[0minvalid_query_genes\u001b[0m\u001b[0;34m\u001b[0m\u001b[0;34m\u001b[0m\u001b[0m\n\u001b[1;32m     47\u001b[0m \u001b[0;34m\u001b[0m\u001b[0m\n",
      "\u001b[0;31mTypeError\u001b[0m: sequence item 18: expected str instance, NoneType found"
     ]
    }
   ],
   "source": [
    "query_string_v2, valid_genes_v2, invalid_genes_v2 = gct.query_constructor(Reactome_Raw_Genes_v2)"
   ]
  },
  {
   "cell_type": "code",
   "execution_count": 33,
   "metadata": {
    "ExecuteTime": {
     "end_time": "2021-12-22T22:26:47.389590Z",
     "start_time": "2021-12-22T22:26:40.604687Z"
    }
   },
   "outputs": [
    {
     "name": "stderr",
     "output_type": "stream",
     "text": [
      "100%|██████████| 9/9 [00:06<00:00,  1.33it/s]"
     ]
    },
    {
     "name": "stdout",
     "output_type": "stream",
     "text": [
      "8375 Matched query results\n",
      "Batch query complete: 6.78 seconds\n"
     ]
    },
    {
     "name": "stderr",
     "output_type": "stream",
     "text": [
      "\n"
     ]
    }
   ],
   "source": [
    "# Set scopes (gene naming systems to search)\n",
    "scopes = \"uniprot\"\n",
    "\n",
    "# Set fields (systems from which to return gene names from)\n",
    "fields = \"symbol, entrezgene\"\n",
    "\n",
    "# Query MyGene.Info\n",
    "match_list_v2 = gct.query_batch(query_string_v2, scopes=scopes, fields=fields)\n"
   ]
  },
  {
   "cell_type": "code",
   "execution_count": 34,
   "metadata": {
    "ExecuteTime": {
     "end_time": "2021-12-22T22:28:29.870736Z",
     "start_time": "2021-12-22T22:28:27.722452Z"
    }
   },
   "outputs": [
    {
     "name": "stdout",
     "output_type": "stream",
     "text": [
      "Queries without full matching results found: 2187\n",
      "\n",
      "86 Queries with mutliple matches found\n",
      "\n",
      "Query mapping table/dictionary construction complete: 2.15 seconds\n"
     ]
    }
   ],
   "source": [
    "# Original 371 without full matching results, 102 with multiple matches\n",
    "match_table_trim_v2, query_to_symbol_v2, query_to_entrez_v2 = gct.construct_query_map_table(match_list_v2, valid_genes_v2)"
   ]
  },
  {
   "cell_type": "markdown",
   "metadata": {},
   "source": [
    "## Construct Converted Network"
   ]
  },
  {
   "cell_type": "code",
   "execution_count": 35,
   "metadata": {
    "ExecuteTime": {
     "end_time": "2021-12-22T22:29:40.506932Z",
     "start_time": "2021-12-22T22:29:40.474874Z"
    }
   },
   "outputs": [],
   "source": [
    "# Format edge list by removing prefixes from all interactors\n",
    "query_edgelist_fmt_v2 = [[gct.get_identifier_without_prefix(edge[0]), gct.get_identifier_without_prefix(edge[1])] for edge in query_edgelist_v2]"
   ]
  },
  {
   "cell_type": "code",
   "execution_count": 36,
   "metadata": {
    "ExecuteTime": {
     "end_time": "2021-12-22T22:29:56.137599Z",
     "start_time": "2021-12-22T22:29:56.115127Z"
    }
   },
   "outputs": [],
   "source": [
    "# Convert network edge list to symbol\n",
    "Reactome_edgelist_symbol_v2 = gct.convert_edgelist(query_edgelist_fmt_v2, query_to_symbol_v2, weighted=False)"
   ]
  },
  {
   "cell_type": "code",
   "execution_count": 37,
   "metadata": {
    "ExecuteTime": {
     "end_time": "2021-12-22T22:30:14.905681Z",
     "start_time": "2021-12-22T22:30:14.891044Z"
    }
   },
   "outputs": [
    {
     "name": "stdout",
     "output_type": "stream",
     "text": [
      "38812 input edges\n",
      "3 self-edges removed\n",
      "15351 edges with un-mapped genes removed\n",
      "87 duplicate edges removed\n",
      "Edge list filtered: 0.01 seconds\n",
      "23371 Edges remaining\n"
     ]
    }
   ],
   "source": [
    "\n",
    "Reactome_edgelist_symbol_filt_v2 = gct.filter_converted_edgelist(Reactome_edgelist_symbol_v2, weighted=False)"
   ]
  },
  {
   "cell_type": "code",
   "execution_count": 38,
   "metadata": {
    "ExecuteTime": {
     "end_time": "2021-12-22T22:30:35.140534Z",
     "start_time": "2021-12-22T22:30:35.098567Z"
    }
   },
   "outputs": [
    {
     "name": "stdout",
     "output_type": "stream",
     "text": [
      "Edge list saved: 0.04 seconds\n"
     ]
    }
   ],
   "source": [
    "# Save filtered, converted edge list to file\n",
    "gct.write_edgelist(Reactome_edgelist_symbol_filt_v2, wd+'Processed_Data/Network_SIFs_Symbol/Reactome_Symbol_v78.sif', binary=True)"
   ]
  },
  {
   "cell_type": "markdown",
   "metadata": {},
   "source": [
    "# Version 1.0 (original)\n",
    "## Load Reactome Raw Data\n",
    "#### Source: http://www.reactome.org/download/current/homo_sapiens.interactions.txt.gz\n",
    "#### File to download: The link labelled \"Human protein-protein interaction pairs in tab-delimited format\" seems to have many more interactions than the MITAB file format. This is the file that we will use for this network.\n",
    "Downloaded: June 15, 2017    \n",
    "Last Updated: April 20, 2017  "
   ]
  },
  {
   "cell_type": "code",
   "execution_count": 21,
   "metadata": {
    "ExecuteTime": {
     "end_time": "2021-12-22T22:13:59.447854Z",
     "start_time": "2021-12-22T22:13:56.839934Z"
    }
   },
   "outputs": [
    {
     "name": "stdout",
     "output_type": "stream",
     "text": [
      "Raw Edges in Reactome v60: 2523567\n"
     ]
    }
   ],
   "source": [
    "\n",
    "Reactome_Raw = pd.read_csv(wd+'Network_Data_Raw/Reactome/Reactome_v60.interactions.txt',sep='\\t',skiprows=1, header=None, low_memory=False)\n",
    "print('Raw Edges in Reactome v60:', len(Reactome_Raw))"
   ]
  },
  {
   "cell_type": "code",
   "execution_count": 58,
   "metadata": {
    "ExecuteTime": {
     "end_time": "2021-12-22T23:03:36.759486Z",
     "start_time": "2021-12-22T23:03:36.752636Z"
    }
   },
   "outputs": [
    {
     "data": {
      "text/html": [
       "<div>\n",
       "<style scoped>\n",
       "    .dataframe tbody tr th:only-of-type {\n",
       "        vertical-align: middle;\n",
       "    }\n",
       "\n",
       "    .dataframe tbody tr th {\n",
       "        vertical-align: top;\n",
       "    }\n",
       "\n",
       "    .dataframe thead th {\n",
       "        text-align: right;\n",
       "    }\n",
       "</style>\n",
       "<table border=\"1\" class=\"dataframe\">\n",
       "  <thead>\n",
       "    <tr style=\"text-align: right;\">\n",
       "      <th></th>\n",
       "      <th>0</th>\n",
       "      <th>1</th>\n",
       "      <th>2</th>\n",
       "      <th>3</th>\n",
       "      <th>4</th>\n",
       "      <th>5</th>\n",
       "      <th>6</th>\n",
       "      <th>7</th>\n",
       "      <th>8</th>\n",
       "    </tr>\n",
       "  </thead>\n",
       "  <tbody>\n",
       "    <tr>\n",
       "      <th>0</th>\n",
       "      <td>UniProt:A0A075B6P5</td>\n",
       "      <td>NaN</td>\n",
       "      <td>NaN</td>\n",
       "      <td>UniProt:A0A075B6P5</td>\n",
       "      <td>NaN</td>\n",
       "      <td>NaN</td>\n",
       "      <td>neighbouring_reaction</td>\n",
       "      <td>R-HSA-166753.2&lt;-&gt;R-HSA-173631.3</td>\n",
       "      <td>NaN</td>\n",
       "    </tr>\n",
       "    <tr>\n",
       "      <th>1</th>\n",
       "      <td>UniProt:A0A075B6P5</td>\n",
       "      <td>NaN</td>\n",
       "      <td>NaN</td>\n",
       "      <td>UniProt:A0A075B6P5</td>\n",
       "      <td>NaN</td>\n",
       "      <td>NaN</td>\n",
       "      <td>neighbouring_reaction</td>\n",
       "      <td>R-HSA-173626.4&lt;-&gt;R-HSA-173631.3</td>\n",
       "      <td>NaN</td>\n",
       "    </tr>\n",
       "    <tr>\n",
       "      <th>2</th>\n",
       "      <td>UniProt:A0A075B6P5</td>\n",
       "      <td>NaN</td>\n",
       "      <td>NaN</td>\n",
       "      <td>UniProt:A0A075B6P5</td>\n",
       "      <td>NaN</td>\n",
       "      <td>NaN</td>\n",
       "      <td>neighbouring_reaction</td>\n",
       "      <td>R-HSA-173631.3&lt;-&gt;R-HSA-166753.2</td>\n",
       "      <td>NaN</td>\n",
       "    </tr>\n",
       "    <tr>\n",
       "      <th>3</th>\n",
       "      <td>UniProt:A0A075B6P5</td>\n",
       "      <td>NaN</td>\n",
       "      <td>NaN</td>\n",
       "      <td>UniProt:A0A075B6P5</td>\n",
       "      <td>NaN</td>\n",
       "      <td>NaN</td>\n",
       "      <td>neighbouring_reaction</td>\n",
       "      <td>R-HSA-173631.3&lt;-&gt;R-HSA-173626.4</td>\n",
       "      <td>NaN</td>\n",
       "    </tr>\n",
       "    <tr>\n",
       "      <th>4</th>\n",
       "      <td>UniProt:A0A075B6P5</td>\n",
       "      <td>NaN</td>\n",
       "      <td>NaN</td>\n",
       "      <td>UniProt:A0A075B6P5</td>\n",
       "      <td>NaN</td>\n",
       "      <td>NaN</td>\n",
       "      <td>neighbouring_reaction</td>\n",
       "      <td>R-HSA-173631.3&lt;-&gt;R-HSA-8852266.1</td>\n",
       "      <td>NaN</td>\n",
       "    </tr>\n",
       "  </tbody>\n",
       "</table>\n",
       "</div>"
      ],
      "text/plain": [
       "                    0    1   2                   3    4   5  \\\n",
       "0  UniProt:A0A075B6P5  NaN NaN  UniProt:A0A075B6P5  NaN NaN   \n",
       "1  UniProt:A0A075B6P5  NaN NaN  UniProt:A0A075B6P5  NaN NaN   \n",
       "2  UniProt:A0A075B6P5  NaN NaN  UniProt:A0A075B6P5  NaN NaN   \n",
       "3  UniProt:A0A075B6P5  NaN NaN  UniProt:A0A075B6P5  NaN NaN   \n",
       "4  UniProt:A0A075B6P5  NaN NaN  UniProt:A0A075B6P5  NaN NaN   \n",
       "\n",
       "                       6                                 7    8  \n",
       "0  neighbouring_reaction   R-HSA-166753.2<->R-HSA-173631.3  NaN  \n",
       "1  neighbouring_reaction   R-HSA-173626.4<->R-HSA-173631.3  NaN  \n",
       "2  neighbouring_reaction   R-HSA-173631.3<->R-HSA-166753.2  NaN  \n",
       "3  neighbouring_reaction   R-HSA-173631.3<->R-HSA-173626.4  NaN  \n",
       "4  neighbouring_reaction  R-HSA-173631.3<->R-HSA-8852266.1  NaN  "
      ]
     },
     "execution_count": 58,
     "metadata": {},
     "output_type": "execute_result"
    }
   ],
   "source": [
    "Reactome_Raw.head()"
   ]
  },
  {
   "cell_type": "code",
   "execution_count": 59,
   "metadata": {
    "ExecuteTime": {
     "end_time": "2021-12-22T23:03:52.344806Z",
     "start_time": "2021-12-22T23:03:52.247995Z"
    }
   },
   "outputs": [
    {
     "data": {
      "text/plain": [
       "neighbouring_reaction    1878645\n",
       "reaction                  348127\n",
       "indirect_complex          245850\n",
       "direct_complex             50945\n",
       "Name: 6, dtype: int64"
      ]
     },
     "execution_count": 59,
     "metadata": {},
     "output_type": "execute_result"
    }
   ],
   "source": [
    "Reactome_Raw[6].value_counts()"
   ]
  },
  {
   "cell_type": "code",
   "execution_count": 4,
   "metadata": {
    "ExecuteTime": {
     "end_time": "2021-12-22T22:05:25.295708Z",
     "start_time": "2021-12-22T22:05:24.718031Z"
    }
   },
   "outputs": [
    {
     "name": "stdout",
     "output_type": "stream",
     "text": [
      "214432 Raw Reactome Edges after removing duplicate edges\n",
      "210066 Raw Reactome Edges after removing duplicate and self-edges\n"
     ]
    }
   ],
   "source": [
    "# Get edge list of network (filter for duplicate edges and self-edges)\n",
    "query_edgelist_filt = Reactome_Raw[[0,3]].drop_duplicates()\n",
    "print(len(query_edgelist_filt), \"Raw Reactome Edges after removing duplicate edges\")\n",
    "query_edgelist_filt2 = query_edgelist_filt[query_edgelist_filt[0]!=query_edgelist_filt[3]]\n",
    "print(len(query_edgelist_filt2), \"Raw Reactome Edges after removing duplicate and self-edges\")\n",
    "query_edgelist = query_edgelist_filt2.values.tolist()"
   ]
  },
  {
   "cell_type": "code",
   "execution_count": 6,
   "metadata": {
    "ExecuteTime": {
     "end_time": "2021-12-22T22:05:42.938106Z",
     "start_time": "2021-12-22T22:05:42.912209Z"
    }
   },
   "outputs": [],
   "source": [
    "# Extract gene list\n",
    "Reactome_Raw_Genes = list(set(query_edgelist_filt2[0]).union(set(query_edgelist_filt2[3])))"
   ]
  },
  {
   "cell_type": "markdown",
   "metadata": {},
   "source": [
    "## Convert Genes from UniProtKB to Symbol"
   ]
  },
  {
   "cell_type": "code",
   "execution_count": 7,
   "metadata": {
    "ExecuteTime": {
     "end_time": "2021-12-22T22:05:45.258105Z",
     "start_time": "2021-12-22T22:05:45.238247Z"
    }
   },
   "outputs": [
    {
     "name": "stdout",
     "output_type": "stream",
     "text": [
      "8387 Valid Query Genes\n",
      "0 Invalid Query Genes\n"
     ]
    }
   ],
   "source": [
    "query_string, valid_genes, invalid_genes = gct.query_constructor(Reactome_Raw_Genes)"
   ]
  },
  {
   "cell_type": "code",
   "execution_count": 8,
   "metadata": {
    "ExecuteTime": {
     "end_time": "2021-12-22T22:06:07.806344Z",
     "start_time": "2021-12-22T22:05:57.985156Z"
    }
   },
   "outputs": [
    {
     "name": "stderr",
     "output_type": "stream",
     "text": [
      "100%|██████████| 9/9 [00:09<00:00,  1.06s/it]"
     ]
    },
    {
     "name": "stdout",
     "output_type": "stream",
     "text": [
      "8539 Matched query results\n",
      "Batch query complete: 9.82 seconds\n"
     ]
    },
    {
     "name": "stderr",
     "output_type": "stream",
     "text": [
      "\n"
     ]
    }
   ],
   "source": [
    "# Set scopes (gene naming systems to search)\n",
    "scopes = \"uniprot\"\n",
    "\n",
    "# Set fields (systems from which to return gene names from)\n",
    "fields = \"symbol, entrezgene\"\n",
    "\n",
    "# Query MyGene.Info\n",
    "match_list = gct.query_batch(query_string, scopes=scopes, fields=fields)\n"
   ]
  },
  {
   "cell_type": "code",
   "execution_count": 9,
   "metadata": {
    "ExecuteTime": {
     "end_time": "2021-12-22T22:07:01.084738Z",
     "start_time": "2021-12-22T22:06:58.806832Z"
    }
   },
   "outputs": [
    {
     "name": "stdout",
     "output_type": "stream",
     "text": [
      "Queries without full matching results found: 371\n",
      "\n",
      "99 Queries with mutliple matches found\n",
      "\n",
      "Query mapping table/dictionary construction complete: 2.27 seconds\n"
     ]
    }
   ],
   "source": [
    "# Original 371 without full matching results, 102 with multiple matches\n",
    "match_table_trim, query_to_symbol, query_to_entrez = gct.construct_query_map_table(match_list, valid_genes)"
   ]
  },
  {
   "cell_type": "markdown",
   "metadata": {},
   "source": [
    "## Construct Converted Network"
   ]
  },
  {
   "cell_type": "code",
   "execution_count": 10,
   "metadata": {
    "ExecuteTime": {
     "end_time": "2021-12-22T22:07:44.344533Z",
     "start_time": "2021-12-22T22:07:44.063087Z"
    }
   },
   "outputs": [],
   "source": [
    "# Format edge list by removing prefixes from all interactors\n",
    "query_edgelist_fmt = [[gct.get_identifier_without_prefix(edge[0]), gct.get_identifier_without_prefix(edge[1])] for edge in query_edgelist]"
   ]
  },
  {
   "cell_type": "code",
   "execution_count": 11,
   "metadata": {
    "ExecuteTime": {
     "end_time": "2021-12-22T22:07:46.145251Z",
     "start_time": "2021-12-22T22:07:45.975512Z"
    }
   },
   "outputs": [],
   "source": [
    "# Convert network edge list to symbol\n",
    "Reactome_edgelist_symbol = gct.convert_edgelist(query_edgelist_fmt, query_to_symbol, weighted=False)"
   ]
  },
  {
   "cell_type": "code",
   "execution_count": 13,
   "metadata": {
    "ExecuteTime": {
     "end_time": "2021-12-22T22:08:33.530679Z",
     "start_time": "2021-12-22T22:08:33.463091Z"
    }
   },
   "outputs": [
    {
     "name": "stdout",
     "output_type": "stream",
     "text": [
      "210066 input edges\n",
      "6 self-edges removed\n",
      "13993 edges with un-mapped genes removed\n",
      "318 duplicate edges removed\n",
      "Edge list filtered: 0.06 seconds\n",
      "195749 Edges remaining\n"
     ]
    }
   ],
   "source": [
    "# Original\n",
    "# 210066 input edges\n",
    "# 2708 self-edges removed\n",
    "# 10886 edges with un-mapped genes removed\n",
    "# 1970 duplicate edges removed\n",
    "# Edge list filtered: 0.51 seconds\n",
    "# 194502 Edges remaining\n",
    "# Filter converted edge list\n",
    "Reactome_edgelist_symbol_filt = gct.filter_converted_edgelist(Reactome_edgelist_symbol, weighted=False)"
   ]
  },
  {
   "cell_type": "code",
   "execution_count": 14,
   "metadata": {
    "ExecuteTime": {
     "end_time": "2021-12-22T22:09:00.763097Z",
     "start_time": "2021-12-22T22:09:00.510619Z"
    }
   },
   "outputs": [
    {
     "name": "stdout",
     "output_type": "stream",
     "text": [
      "Edge list saved: 0.25 seconds\n"
     ]
    }
   ],
   "source": [
    "# Save filtered, converted edge list to file\n",
    "gct.write_edgelist(Reactome_edgelist_symbol_filt, wd+'Processed_Data/Network_SIFs_Symbol/Reactome_Symbol_2017.sif', binary=True)"
   ]
  },
  {
   "cell_type": "code",
   "execution_count": null,
   "metadata": {
    "collapsed": true
   },
   "outputs": [],
   "source": []
  }
 ],
 "metadata": {
  "kernelspec": {
   "display_name": "Python [conda env:pcnet_py3]",
   "language": "python",
   "name": "conda-env-pcnet_py3-py"
  },
  "language_info": {
   "codemirror_mode": {
    "name": "ipython",
    "version": 3
   },
   "file_extension": ".py",
   "mimetype": "text/x-python",
   "name": "python",
   "nbconvert_exporter": "python",
   "pygments_lexer": "ipython3",
   "version": "3.10.0"
  },
  "toc": {
   "base_numbering": 1,
   "nav_menu": {},
   "number_sections": true,
   "sideBar": true,
   "skip_h1_title": false,
   "title_cell": "Table of Contents",
   "title_sidebar": "Contents",
   "toc_cell": false,
   "toc_position": {
    "height": "calc(100% - 180px)",
    "left": "10px",
    "top": "150px",
    "width": "379.398px"
   },
   "toc_section_display": true,
   "toc_window_display": true
  },
  "varInspector": {
   "cols": {
    "lenName": 16,
    "lenType": 16,
    "lenVar": 40
   },
   "kernels_config": {
    "python": {
     "delete_cmd_postfix": "",
     "delete_cmd_prefix": "del ",
     "library": "var_list.py",
     "varRefreshCmd": "print(var_dic_list())"
    },
    "r": {
     "delete_cmd_postfix": ") ",
     "delete_cmd_prefix": "rm(",
     "library": "var_list.r",
     "varRefreshCmd": "cat(var_dic_list()) "
    }
   },
   "types_to_exclude": [
    "module",
    "function",
    "builtin_function_or_method",
    "instance",
    "_Feature"
   ],
   "window_display": false
  }
 },
 "nbformat": 4,
 "nbformat_minor": 1
}
