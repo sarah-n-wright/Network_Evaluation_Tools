{
 "cells": [
  {
   "cell_type": "code",
   "execution_count": 1,
   "metadata": {
    "ExecuteTime": {
     "end_time": "2021-11-17T19:36:28.641713Z",
     "start_time": "2021-11-17T19:36:26.697402Z"
    }
   },
   "outputs": [
    {
     "name": "stderr",
     "output_type": "stream",
     "text": [
      "/cellar/users/snwright/anaconda3/envs/pcnet_py3/lib/python3.10/site-packages/network_evaluation_tools-1.0.2.py3-py3.10.egg/network_evaluation_tools/gene_conversion_tools.py:23: SyntaxWarning: \"is\" with a literal. Did you mean \"==\"?\n",
      "/cellar/users/snwright/anaconda3/envs/pcnet_py3/lib/python3.10/site-packages/network_evaluation_tools-1.0.2.py3-py3.10.egg/network_evaluation_tools/gene_conversion_tools.py:23: SyntaxWarning: \"is\" with a literal. Did you mean \"==\"?\n"
     ]
    }
   ],
   "source": [
    "from network_evaluation_tools import gene_conversion_tools as gct\n",
    "import pandas as pd\n",
    "import itertools"
   ]
  },
  {
   "cell_type": "code",
   "execution_count": 5,
   "metadata": {
    "ExecuteTime": {
     "end_time": "2021-11-17T19:36:59.176686Z",
     "start_time": "2021-11-17T19:36:59.175190Z"
    }
   },
   "outputs": [],
   "source": [
    "wd = '/cellar/users/snwright/Data/Network_Analysis/'"
   ]
  },
  {
   "cell_type": "markdown",
   "metadata": {},
   "source": [
    "# Version 2.0"
   ]
  },
  {
   "cell_type": "markdown",
   "metadata": {},
   "source": [
    "## Load BioGRID Raw Data\n",
    "#### Source (MITAB): https://downloads.thebiogrid.org/File/BioGRID/Release-Archive/BIOGRID-4.4.203/BIOGRID-ORGANISM-4.4.203.tab3.zip\n",
    "Downloaded: Nov 16, 2021   \n",
    "Last Updated: October. 25th, 2021  \n",
    "Notes for download: There is a new version of BioGRID released on the first of every month. Download the organism specific files to extract only human interactions from the database.  \n",
    "Notes for processing: This is the file for human protein interactions, however, not all interactions may be human-human interactions. These need to be filtered. There is a column for \"Score\" filtering, but it seems that most of these values are missing so they will be ignored for processing BioGRID"
   ]
  },
  {
   "cell_type": "code",
   "execution_count": 19,
   "metadata": {
    "ExecuteTime": {
     "end_time": "2021-11-17T19:48:27.270993Z",
     "start_time": "2021-11-17T19:48:20.195047Z"
    }
   },
   "outputs": [
    {
     "name": "stdout",
     "output_type": "stream",
     "text": [
      "Raw edge count in BioGRID: 961326\n"
     ]
    }
   ],
   "source": [
    "BioGRID_Raw = pd.read_csv(wd+'Network_Data_Raw/BIOGRID/BIOGRID-ORGANISM-Homo_sapiens-4.4.203.tab3.txt',sep='\\t', low_memory=False)\n",
    "print('Raw edge count in BioGRID:', len(BioGRID_Raw))"
   ]
  },
  {
   "cell_type": "code",
   "execution_count": 55,
   "metadata": {
    "ExecuteTime": {
     "end_time": "2021-11-17T20:16:10.344497Z",
     "start_time": "2021-11-17T20:16:10.307339Z"
    }
   },
   "outputs": [
    {
     "name": "stdout",
     "output_type": "stream",
     "text": [
      "physical    949337\n",
      "genetic      11989\n",
      "Name: Experimental System Type, dtype: int64\n",
      "\n",
      "Percent physical: 0.98753\n"
     ]
    }
   ],
   "source": [
    "# Show not all interactions in BioGRID are physical PPI, though the overwhelming majority are\n",
    "phys = BioGRID_Raw['Experimental System Type'].value_counts()\n",
    "print(phys)\n",
    "print(\"\\nPercent physical:\", round(phys[\"physical\"]/sum(phys), 5))"
   ]
  },
  {
   "cell_type": "code",
   "execution_count": 56,
   "metadata": {
    "ExecuteTime": {
     "end_time": "2021-11-17T20:16:36.186649Z",
     "start_time": "2021-11-17T20:16:36.180049Z"
    },
    "scrolled": true
   },
   "outputs": [
    {
     "name": "stdout",
     "output_type": "stream",
     "text": [
      "9606       909748\n",
      "2697049     20096\n",
      "10090       19506\n",
      "559292       2421\n",
      "11676        1836\n",
      "Name: Organism ID Interactor A, dtype: int64\n",
      "\n",
      "Percent human: 0.95401\n"
     ]
    }
   ],
   "source": [
    "# Not all interactions are from Human\n",
    "spec = BioGRID_Raw['Organism ID Interactor A'].value_counts().head()\n",
    "print(spec)\n",
    "print(\"\\nPercent human:\", round(spec[9606]/sum(spec), 5))"
   ]
  },
  {
   "cell_type": "code",
   "execution_count": 57,
   "metadata": {
    "ExecuteTime": {
     "end_time": "2021-11-17T20:16:49.231986Z",
     "start_time": "2021-11-17T20:16:49.224161Z"
    },
    "scrolled": true
   },
   "outputs": [
    {
     "name": "stdout",
     "output_type": "stream",
     "text": [
      "9606      951674\n",
      "10090       4813\n",
      "559292      1139\n",
      "10116       1003\n",
      "284812       586\n",
      "Name: Organism ID Interactor B, dtype: int64\n",
      "\n",
      "Percent human: 0.99214\n"
     ]
    }
   ],
   "source": [
    "# Not all interactions are from Human\n",
    "spec = BioGRID_Raw['Organism ID Interactor B'].value_counts().head()\n",
    "print(spec)\n",
    "print(\"\\nPercent human:\", round(spec[9606]/sum(spec), 5))"
   ]
  },
  {
   "cell_type": "code",
   "execution_count": 40,
   "metadata": {
    "ExecuteTime": {
     "end_time": "2021-11-17T20:06:14.769187Z",
     "start_time": "2021-11-17T20:06:14.563428Z"
    }
   },
   "outputs": [
    {
     "name": "stdout",
     "output_type": "stream",
     "text": [
      "Human-Human only interactions in BioGRID 4.4.203: 900096\n"
     ]
    }
   ],
   "source": [
    "BioGRID_Human_Only = BioGRID_Raw[(BioGRID_Raw['Organism ID Interactor A']==9606) & (BioGRID_Raw['Organism ID Interactor B']==9606)]\n",
    "print('Human-Human only interactions in BioGRID 4.4.203:', len(BioGRID_Human_Only))"
   ]
  },
  {
   "cell_type": "code",
   "execution_count": 41,
   "metadata": {
    "ExecuteTime": {
     "end_time": "2021-11-17T20:06:34.048150Z",
     "start_time": "2021-11-17T20:06:34.001055Z"
    }
   },
   "outputs": [
    {
     "data": {
      "text/plain": [
       "Series([], Name: Official Symbol Interactor A, dtype: object)"
      ]
     },
     "execution_count": 41,
     "metadata": {},
     "output_type": "execute_result"
    }
   ],
   "source": [
    "# Any missing symbol names in column A?\n",
    "BioGRID_Human_Only['Official Symbol Interactor A'][BioGRID_Human_Only['Official Symbol Interactor A']=='-']"
   ]
  },
  {
   "cell_type": "code",
   "execution_count": 42,
   "metadata": {
    "ExecuteTime": {
     "end_time": "2021-11-17T20:06:48.383389Z",
     "start_time": "2021-11-17T20:06:48.336910Z"
    }
   },
   "outputs": [
    {
     "data": {
      "text/plain": [
       "Series([], Name: Official Symbol Interactor B, dtype: object)"
      ]
     },
     "execution_count": 42,
     "metadata": {},
     "output_type": "execute_result"
    }
   ],
   "source": [
    "# Any missing symbol names in column B?\n",
    "BioGRID_Human_Only['Official Symbol Interactor B'][BioGRID_Human_Only['Official Symbol Interactor B']=='-']"
   ]
  },
  {
   "cell_type": "code",
   "execution_count": 43,
   "metadata": {
    "ExecuteTime": {
     "end_time": "2021-11-17T20:07:21.647725Z",
     "start_time": "2021-11-17T20:07:21.191428Z"
    }
   },
   "outputs": [
    {
     "name": "stdout",
     "output_type": "stream",
     "text": [
      "Edges in BioGRID: 900096\n"
     ]
    }
   ],
   "source": [
    "# Convert table of interactions to edgelist (no scores given)\n",
    "# Also no gene symbol conversion necessary because network is given in symbol format already\n",
    "BioGRID_edgelist = BioGRID_Human_Only[['Official Symbol Interactor A', 'Official Symbol Interactor B']].values.tolist()\n",
    "print('Edges in BioGRID:', len(BioGRID_edgelist))"
   ]
  },
  {
   "cell_type": "code",
   "execution_count": 18,
   "metadata": {
    "ExecuteTime": {
     "end_time": "2021-11-17T20:09:05.558402Z",
     "start_time": "2021-11-17T20:09:05.384205Z"
    }
   },
   "outputs": [
    {
     "name": "stdout",
     "output_type": "stream",
     "text": [
      "Edge list saved: 0.07 seconds\n"
     ]
    }
   ],
   "source": [
    "# Save genelist to file\n",
    "outdir = wd+'Processed_Data/Network_SIFs_Symbol/'\n",
    "gct.write_edgelist(BioGRID_edgelist_filt_v1, outdir+'BioGRID_Symbol_3_4_149.sif')"
   ]
  },
  {
   "cell_type": "code",
   "execution_count": 44,
   "metadata": {
    "ExecuteTime": {
     "end_time": "2021-11-17T20:07:42.841265Z",
     "start_time": "2021-11-17T20:07:42.301943Z"
    }
   },
   "outputs": [],
   "source": [
    "# Sort each edge representation for filtering\n",
    "BioGRID_edgelist_sorted = [sorted(edge) for edge in BioGRID_edgelist]"
   ]
  },
  {
   "cell_type": "code",
   "execution_count": 45,
   "metadata": {
    "ExecuteTime": {
     "end_time": "2021-11-17T20:07:56.431203Z",
     "start_time": "2021-11-17T20:07:55.754109Z"
    }
   },
   "outputs": [
    {
     "name": "stdout",
     "output_type": "stream",
     "text": [
      "900096 input edges\n",
      "7039 self-edges removed\n",
      "0 edges with un-mapped genes removed\n",
      "224009 duplicate edges removed\n",
      "Edge list filtered: 0.66 seconds\n",
      "669048 Edges remaining\n"
     ]
    }
   ],
   "source": [
    "# Filter edgelist for duplicate nodes and for self-edges\n",
    "BioGRID_edgelist_filt = gct.filter_converted_edgelist(BioGRID_edgelist_sorted)"
   ]
  },
  {
   "cell_type": "code",
   "execution_count": 46,
   "metadata": {
    "ExecuteTime": {
     "end_time": "2021-11-17T20:09:05.558402Z",
     "start_time": "2021-11-17T20:09:05.384205Z"
    }
   },
   "outputs": [
    {
     "name": "stdout",
     "output_type": "stream",
     "text": [
      "Edge list saved: 0.17 seconds\n"
     ]
    }
   ],
   "source": [
    "# Save genelist to file\n",
    "outdir = wd+'Processed_Data/Network_SIFs_Symbol/'\n",
    "gct.write_edgelist(BioGRID_edgelist_filt, outdir+'BioGRID_Symbol_4_4_203.sif')"
   ]
  },
  {
   "cell_type": "markdown",
   "metadata": {},
   "source": [
    "# Version 1.0 (original)"
   ]
  },
  {
   "cell_type": "markdown",
   "metadata": {},
   "source": [
    "## Load BioGRID Raw Data\n",
    "#### Source (MITAB): http://thebiogrid.org/downloads/archives/Release%20Archive/BIOGRID-3.4.149/BIOGRID-ORGANISM-3.4.149.tab2.zip\n",
    "Downloaded: June 15, 2017  \n",
    "Last Updated: June 01, 2017  \n",
    "Notes for download: There is a new verision of BioGRID released on the first of every month. Download the organism specific files to extract only human interactions from the database.  \n",
    "Notes for processing: This is the file for human protein interactions, however, not all interactions may be human-human interactions. These need to be filtered. There is a column for \"Score\" filtering, but it seems that most of these values are missing so they will be ignored for processing BioGRID"
   ]
  },
  {
   "cell_type": "code",
   "execution_count": 21,
   "metadata": {
    "ExecuteTime": {
     "end_time": "2021-11-17T19:49:02.414834Z",
     "start_time": "2021-11-17T19:49:01.286843Z"
    }
   },
   "outputs": [
    {
     "name": "stdout",
     "output_type": "stream",
     "text": [
      "Raw edge count in BioGRID: 394749\n"
     ]
    }
   ],
   "source": [
    "BioGRID_Raw_v1 = pd.read_csv(wd+'Network_Data_Raw/BIOGRID/BIOGRID-ORGANISM-Homo_sapiens-3.4.149.tab2.txt',sep='\\t', low_memory=False)\n",
    "print('Raw edge count in BioGRID_v1:', len(BioGRID_Raw_v1))"
   ]
  },
  {
   "cell_type": "code",
   "execution_count": 52,
   "metadata": {
    "ExecuteTime": {
     "end_time": "2021-11-17T20:13:56.150871Z",
     "start_time": "2021-11-17T20:13:56.134574Z"
    }
   },
   "outputs": [
    {
     "name": "stdout",
     "output_type": "stream",
     "text": [
      "physical    392779\n",
      "genetic       1970\n",
      "Name: Experimental System Type, dtype: int64\n",
      "\n",
      "Percent physical: 0.99501\n"
     ]
    }
   ],
   "source": [
    "# Show not all interactions in BioGRID are physical PPI, though the overwhelming majority are\n",
    "phys = BioGRID_Raw_v1['Experimental System Type'].value_counts()\n",
    "print(phys)\n",
    "print(\"\\nPercent physical:\", round(phys[\"physical\"]/sum(phys), 5))"
   ]
  },
  {
   "cell_type": "code",
   "execution_count": 53,
   "metadata": {
    "ExecuteTime": {
     "end_time": "2021-11-17T20:14:43.255036Z",
     "start_time": "2021-11-17T20:14:43.248887Z"
    },
    "scrolled": true
   },
   "outputs": [
    {
     "name": "stdout",
     "output_type": "stream",
     "text": [
      "9606      372979\n",
      "10090      17963\n",
      "11676       1591\n",
      "10116        570\n",
      "559292       355\n",
      "Name: Organism Interactor A, dtype: int64\n",
      "\n",
      "Percent human: 0.94795\n"
     ]
    }
   ],
   "source": [
    "# Not all interactions are from Human\n",
    "spec = BioGRID_Raw_v1['Organism Interactor A'].value_counts().head()\n",
    "print(spec)\n",
    "print(\"\\nPercent human:\", round(spec[9606]/sum(spec), 5))"
   ]
  },
  {
   "cell_type": "code",
   "execution_count": 54,
   "metadata": {
    "ExecuteTime": {
     "end_time": "2021-11-17T20:14:52.628239Z",
     "start_time": "2021-11-17T20:14:52.623397Z"
    },
    "scrolled": true
   },
   "outputs": [
    {
     "name": "stdout",
     "output_type": "stream",
     "text": [
      "9606      389334\n",
      "10090       2543\n",
      "559292      1045\n",
      "10116        708\n",
      "11676        318\n",
      "Name: Organism Interactor B, dtype: int64\n",
      "\n",
      "Percent human: 0.98829\n"
     ]
    }
   ],
   "source": [
    "# Not all interactions are from Human\n",
    "spec = BioGRID_Raw_v1['Organism Interactor B'].value_counts().head()\n",
    "print(spec)\n",
    "print(\"\\nPercent human:\", round(spec[9606]/sum(spec), 5))"
   ]
  },
  {
   "cell_type": "markdown",
   "metadata": {},
   "source": [
    "#### Since there are so few genetic interactions relative to physical interactions, we will not filter these edges. However, we will filter all interactions that are not labelled as human-human interactions"
   ]
  },
  {
   "cell_type": "markdown",
   "metadata": {},
   "source": [
    "#### Keep only human-human interactions"
   ]
  },
  {
   "cell_type": "code",
   "execution_count": 80,
   "metadata": {
    "ExecuteTime": {
     "end_time": "2021-11-17T20:28:59.064614Z",
     "start_time": "2021-11-17T20:28:59.027656Z"
    }
   },
   "outputs": [
    {
     "name": "stdout",
     "output_type": "stream",
     "text": [
      "Human-Human only interactions in BioGRID 3.4.149: 367564\n"
     ]
    }
   ],
   "source": [
    "BioGRID_Human_Only_v1 = BioGRID_Raw_v1[(BioGRID_Raw_v1['Organism Interactor A']==9606) & (BioGRID_Raw_v1['Organism Interactor B']==9606)]\n",
    "print('Human-Human only interactions in BioGRID 3.4.149:', len(BioGRID_Human_Only_v1))"
   ]
  },
  {
   "cell_type": "code",
   "execution_count": 81,
   "metadata": {
    "ExecuteTime": {
     "end_time": "2021-11-17T20:29:00.324602Z",
     "start_time": "2021-11-17T20:29:00.304415Z"
    }
   },
   "outputs": [
    {
     "data": {
      "text/plain": [
       "Series([], Name: Official Symbol Interactor A, dtype: object)"
      ]
     },
     "execution_count": 81,
     "metadata": {},
     "output_type": "execute_result"
    }
   ],
   "source": [
    "# Any missing symbol names in column A?\n",
    "BioGRID_Human_Only_v1['Official Symbol Interactor A'][BioGRID_Human_Only_v1['Official Symbol Interactor A']=='-']"
   ]
  },
  {
   "cell_type": "code",
   "execution_count": 82,
   "metadata": {
    "ExecuteTime": {
     "end_time": "2021-11-17T20:29:01.597649Z",
     "start_time": "2021-11-17T20:29:01.577164Z"
    }
   },
   "outputs": [
    {
     "data": {
      "text/plain": [
       "Series([], Name: Official Symbol Interactor B, dtype: object)"
      ]
     },
     "execution_count": 82,
     "metadata": {},
     "output_type": "execute_result"
    }
   ],
   "source": [
    "# Any missing symbol names in column B?\n",
    "BioGRID_Human_Only_v1['Official Symbol Interactor B'][BioGRID_Human_Only_v1['Official Symbol Interactor B']=='-']"
   ]
  },
  {
   "cell_type": "code",
   "execution_count": 83,
   "metadata": {
    "ExecuteTime": {
     "end_time": "2021-11-17T20:29:03.157481Z",
     "start_time": "2021-11-17T20:29:02.876118Z"
    }
   },
   "outputs": [
    {
     "name": "stdout",
     "output_type": "stream",
     "text": [
      "Edges in BioGRID: 367564\n"
     ]
    }
   ],
   "source": [
    "# Convert table of interactions to edgelist (no scores given)\n",
    "# Also no gene symbol conversion necessary because network is given in symbol format already\n",
    "BioGRID_edgelist_v1 = BioGRID_Human_Only_v1[['Official Symbol Interactor A', 'Official Symbol Interactor B']].values.tolist()\n",
    "print('Edges in BioGRID:', len(BioGRID_edgelist_v1))"
   ]
  },
  {
   "cell_type": "code",
   "execution_count": 84,
   "metadata": {
    "ExecuteTime": {
     "end_time": "2021-11-17T20:29:04.575815Z",
     "start_time": "2021-11-17T20:29:04.494414Z"
    }
   },
   "outputs": [],
   "source": [
    "# Sort each edge representation for filtering\n",
    "BioGRID_edgelist_sorted_v1 = [sorted(edge) for edge in BioGRID_edgelist_v1]"
   ]
  },
  {
   "cell_type": "code",
   "execution_count": 85,
   "metadata": {
    "ExecuteTime": {
     "end_time": "2021-11-17T20:29:06.223521Z",
     "start_time": "2021-11-17T20:29:06.042404Z"
    }
   },
   "outputs": [
    {
     "name": "stdout",
     "output_type": "stream",
     "text": [
      "367564 input edges\n",
      "4598 self-edges removed\n",
      "0 edges with un-mapped genes removed\n",
      "104709 duplicate edges removed\n",
      "Edge list filtered: 0.17 seconds\n",
      "258257 Edges remaining\n"
     ]
    }
   ],
   "source": [
    "# Filter edgelist for duplicate nodes and for self-edges\n",
    "BioGRID_edgelist_filt_v1 = gct.filter_converted_edgelist(BioGRID_edgelist_sorted_v1)"
   ]
  },
  {
   "cell_type": "code",
   "execution_count": 86,
   "metadata": {
    "ExecuteTime": {
     "end_time": "2021-11-17T20:29:07.812156Z",
     "start_time": "2021-11-17T20:29:07.740003Z"
    }
   },
   "outputs": [
    {
     "name": "stdout",
     "output_type": "stream",
     "text": [
      "Edge list saved: 0.07 seconds\n"
     ]
    }
   ],
   "source": [
    "# Save genelist to file\n",
    "outdir = wd+'Processed_Data/Network_SIFs_Symbol/'\n",
    "gct.write_edgelist(BioGRID_edgelist_filt_v1, outdir+'BioGRID_Symbol_3_4_149.sif')"
   ]
  },
  {
   "cell_type": "markdown",
   "metadata": {},
   "source": [
    "# Changes"
   ]
  },
  {
   "cell_type": "markdown",
   "metadata": {},
   "source": [
    "## Data Structure\n",
    "\n",
    "**Columns renamed:**\n",
    "* Organism Interactor A -> Organism ID Interactor A\n",
    "* Organism Interactor B -> Organism ID Interactor B  \n",
    "* Phenotypes -> Ontology Term Names\n",
    "\n",
    "**Columns reworked:**\n",
    "* Pubmed ID -> Publication Source\n",
    " * Format: `id(int)` -> `source:id(string)`\n",
    "\n",
    "**New Columns**\n",
    "* Ontology Term [IDs, Categories, Qualifier IDs, Qualifier Names, Types]\n",
    "* Organism Name Interactor [A/B]\n",
    "* [SWISS-PROT/TREMBL/REFSEQ] Accessions Interactor [A/B]\n"
   ]
  },
  {
   "cell_type": "markdown",
   "metadata": {},
   "source": [
    "## Nodes/Edges"
   ]
  },
  {
   "cell_type": "code",
   "execution_count": 98,
   "metadata": {
    "ExecuteTime": {
     "end_time": "2021-11-17T20:34:06.047321Z",
     "start_time": "2021-11-17T20:34:06.044703Z"
    }
   },
   "outputs": [],
   "source": [
    "\n",
    "stats = pd.DataFrame({\"v1\":[394749, 367564, 258257, 99.5, 94.8, 98.8], \n",
    "                           \"v2\":[961326, 960096, 669048,98.8, 95.4, 99.2]},\n",
    "                           index=[\"input\", \"human_human\", \"filtered\", \"physical\", \"humanA\", \"humanB\"])"
   ]
  },
  {
   "cell_type": "code",
   "execution_count": 99,
   "metadata": {
    "ExecuteTime": {
     "end_time": "2021-11-17T20:34:07.656772Z",
     "start_time": "2021-11-17T20:34:07.601957Z"
    }
   },
   "outputs": [
    {
     "name": "stdout",
     "output_type": "stream",
     "text": [
      "True\n"
     ]
    }
   ],
   "source": [
    "v1_nodes = set(BioGRID_Human_Only_v1[\"Official Symbol Interactor A\"].values).union(set(BioGRID_Human_Only_v1[\"Official Symbol Interactor B\"].values))\n",
    "v2_nodes = set(BioGRID_Human_Only[\"Official Symbol Interactor A\"].values).union(set(BioGRID_Human_Only[\"Official Symbol Interactor B\"].values))\n",
    "new_nodes = v2_nodes.difference(v1_nodes)\n",
    "print(len(new_nodes) == len(v2_nodes) - len(v1_nodes))\n",
    "stats = stats.append(pd.DataFrame({\"v1\":len(v1_nodes), \"v2\":len(v2_nodes)}, index=[\"nodes\"]))"
   ]
  },
  {
   "cell_type": "code",
   "execution_count": 100,
   "metadata": {
    "ExecuteTime": {
     "end_time": "2021-11-17T20:34:10.282689Z",
     "start_time": "2021-11-17T20:34:09.224762Z"
    }
   },
   "outputs": [
    {
     "data": {
      "text/plain": [
       "<AxesSubplot:ylabel='Number of nodes'>"
      ]
     },
     "execution_count": 100,
     "metadata": {},
     "output_type": "execute_result"
    },
    {
     "data": {
      "image/png": "[encoded data removed]",
      "text/plain": [
       "<Figure size 432x288 with 1 Axes>"
      ]
     },
     "metadata": {
      "needs_background": "light"
     },
     "output_type": "display_data"
    },
    {
     "data": {
      "image/png": "[encoded data removed]",
      "text/plain": [
       "<Figure size 432x288 with 1 Axes>"
      ]
     },
     "metadata": {
      "needs_background": "light"
     },
     "output_type": "display_data"
    },
    {
     "data": {
      "image/png": "[encoded data removed]",
      "text/plain": [
       "<Figure size 432x288 with 1 Axes>"
      ]
     },
     "metadata": {
      "needs_background": "light"
     },
     "output_type": "display_data"
    }
   ],
   "source": [
    "stats.loc[[\"input\", \"human_human\", \"filtered\"]].plot.bar(ylabel=\"Number of edges\")\n",
    "stats.loc[[\"physical\", \"humanA\", \"humanB\"]].plot.bar(ylabel=\"Percent % of edges\")\n",
    "stats.loc[[\"nodes\"]].plot.bar(ylabel=\"Number of nodes\")"
   ]
  },
  {
   "cell_type": "code",
   "execution_count": 104,
   "metadata": {
    "ExecuteTime": {
     "end_time": "2021-11-17T20:36:14.603032Z",
     "start_time": "2021-11-17T20:36:14.551749Z"
    }
   },
   "outputs": [
    {
     "data": {
      "text/plain": [
       "array(['-', '1.0', '0.952', ..., '0.995751891', '0.978833402',\n",
       "       '0.996471144'], dtype=object)"
      ]
     },
     "execution_count": 104,
     "metadata": {},
     "output_type": "execute_result"
    }
   ],
   "source": []
  }
 ],
 "metadata": {
  "kernelspec": {
   "display_name": "Python [conda env:pcnet_py3]",
   "language": "python",
   "name": "conda-env-pcnet_py3-py"
  },
  "language_info": {
   "codemirror_mode": {
    "name": "ipython",
    "version": 3
   },
   "file_extension": ".py",
   "mimetype": "text/x-python",
   "name": "python",
   "nbconvert_exporter": "python",
   "pygments_lexer": "ipython3",
   "version": "3.10.0"
  },
  "toc": {
   "base_numbering": 1,
   "nav_menu": {},
   "number_sections": true,
   "sideBar": true,
   "skip_h1_title": false,
   "title_cell": "Table of Contents",
   "title_sidebar": "Contents",
   "toc_cell": false,
   "toc_position": {},
   "toc_section_display": true,
   "toc_window_display": false
  },
  "varInspector": {
   "cols": {
    "lenName": 16,
    "lenType": 16,
    "lenVar": 40
   },
   "kernels_config": {
    "python": {
     "delete_cmd_postfix": "",
     "delete_cmd_prefix": "del ",
     "library": "var_list.py",
     "varRefreshCmd": "print(var_dic_list())"
    },
    "r": {
     "delete_cmd_postfix": ") ",
     "delete_cmd_prefix": "rm(",
     "library": "var_list.r",
     "varRefreshCmd": "cat(var_dic_list()) "
    }
   },
   "types_to_exclude": [
    "module",
    "function",
    "builtin_function_or_method",
    "instance",
    "_Feature"
   ],
   "window_display": false
  }
 },
 "nbformat": 4,
 "nbformat_minor": 1
}
