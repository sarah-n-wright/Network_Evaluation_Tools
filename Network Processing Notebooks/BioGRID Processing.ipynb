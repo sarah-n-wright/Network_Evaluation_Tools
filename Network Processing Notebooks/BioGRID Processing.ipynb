{
 "cells": [
  {
   "cell_type": "code",
   "execution_count": 1,
   "metadata": {
    "ExecuteTime": {
     "end_time": "2022-04-18T19:41:24.589384Z",
     "start_time": "2022-04-18T19:41:21.174753Z"
    }
   },
   "outputs": [],
   "source": [
    "from network_evaluation_tools import gene_conversion_tools as gct\n",
    "from network_evaluation_tools import data_import_tools as dit\n",
    "import pandas as pd\n",
    "import itertools\n",
    "import numpy as np"
   ]
  },
  {
   "cell_type": "code",
   "execution_count": 2,
   "metadata": {
    "ExecuteTime": {
     "end_time": "2022-04-18T19:41:24.591949Z",
     "start_time": "2022-04-18T19:41:24.590472Z"
    }
   },
   "outputs": [],
   "source": [
    "wd = '/cellar/users/snwright/Data/Network_Analysis/'"
   ]
  },
  {
   "cell_type": "markdown",
   "metadata": {},
   "source": [
    "# Version 2.0"
   ]
  },
  {
   "cell_type": "markdown",
   "metadata": {},
   "source": [
    "## Load BioGRID Raw Data\n",
    "**Source (MITAB): https://downloads.thebiogrid.org/File/BioGRID/Release-Archive/BIOGRID-4.4.203/BIOGRID-ORGANISM-4.4.203.tab3.zip**  \n",
    "Downloaded: Nov 16, 2021   \n",
    "Last Updated: October. 25th, 2021  \n",
    "Notes for download: There is a new version of BioGRID released on the first of every month. Download the organism specific files to extract only human interactions from the database.  \n",
    "Notes for processing: This is the file for human protein interactions, however, not all interactions may be human-human interactions. These need to be filtered. There is a column for \"Score\" filtering, but it seems that most of these values are missing so they will be ignored for processing BioGRID"
   ]
  },
  {
   "cell_type": "code",
   "execution_count": 3,
   "metadata": {
    "ExecuteTime": {
     "end_time": "2022-04-18T19:41:31.842805Z",
     "start_time": "2022-04-18T19:41:24.592794Z"
    }
   },
   "outputs": [
    {
     "name": "stdout",
     "output_type": "stream",
     "text": [
      "Raw edge count in BioGRID: 961326\n"
     ]
    }
   ],
   "source": [
    "input_raw_v2 = pd.read_csv(wd+'Network_Data_Raw/BIOGRID/BIOGRID-ORGANISM-Homo_sapiens-4.4.203.tab3.txt',sep='\\t', low_memory=False)\n",
    "print('Raw edge count in BioGRID:', len(input_raw_v2))\n",
    "symbol_cols = {'Official Symbol Interactor A':'symbol_n1', 'Official Symbol Interactor B':'symbol_n2'}\n",
    "input_raw_v2.rename(columns=symbol_cols, inplace=True)"
   ]
  },
  {
   "cell_type": "code",
   "execution_count": 4,
   "metadata": {
    "ExecuteTime": {
     "end_time": "2022-04-18T19:41:31.887895Z",
     "start_time": "2022-04-18T19:41:31.844262Z"
    }
   },
   "outputs": [
    {
     "name": "stdout",
     "output_type": "stream",
     "text": [
      "physical    949337\n",
      "genetic      11989\n",
      "Name: Experimental System Type, dtype: int64\n",
      "\n",
      "Percent physical: 0.98753\n"
     ]
    }
   ],
   "source": [
    "# Show not all interactions in BioGRID are physical PPI, though the overwhelming majority are\n",
    "phys = input_raw_v2['Experimental System Type'].value_counts()\n",
    "print(phys)\n",
    "print(\"\\nPercent physical:\", round(phys[\"physical\"]/sum(phys), 5))"
   ]
  },
  {
   "cell_type": "code",
   "execution_count": 5,
   "metadata": {
    "ExecuteTime": {
     "end_time": "2022-04-18T19:41:31.918376Z",
     "start_time": "2022-04-18T19:41:31.888751Z"
    },
    "scrolled": true
   },
   "outputs": [
    {
     "name": "stdout",
     "output_type": "stream",
     "text": [
      "9606       909748\n",
      "2697049     20096\n",
      "10090       19506\n",
      "559292       2421\n",
      "11676        1836\n",
      "Name: Organism ID Interactor A, dtype: int64\n",
      "\n",
      "Percent human: 0.95401\n"
     ]
    }
   ],
   "source": [
    "# Not all interactions are from Human\n",
    "spec = input_raw_v2['Organism ID Interactor A'].value_counts().head()\n",
    "print(spec)\n",
    "print(\"\\nPercent human:\", round(spec[9606]/sum(spec), 5))"
   ]
  },
  {
   "cell_type": "code",
   "execution_count": 6,
   "metadata": {
    "ExecuteTime": {
     "end_time": "2022-04-18T19:41:31.934865Z",
     "start_time": "2022-04-18T19:41:31.919282Z"
    },
    "scrolled": true
   },
   "outputs": [
    {
     "name": "stdout",
     "output_type": "stream",
     "text": [
      "9606      951674\n",
      "10090       4813\n",
      "559292      1139\n",
      "10116       1003\n",
      "284812       586\n",
      "Name: Organism ID Interactor B, dtype: int64\n",
      "\n",
      "Percent human: 0.99214\n"
     ]
    }
   ],
   "source": [
    "# Not all interactions are from Human\n",
    "spec = input_raw_v2['Organism ID Interactor B'].value_counts().head()\n",
    "print(spec)\n",
    "print(\"\\nPercent human:\", round(spec[9606]/sum(spec), 5))"
   ]
  },
  {
   "cell_type": "markdown",
   "metadata": {},
   "source": [
    "## Filter to human"
   ]
  },
  {
   "cell_type": "code",
   "execution_count": 7,
   "metadata": {
    "ExecuteTime": {
     "end_time": "2022-04-18T19:41:32.135961Z",
     "start_time": "2022-04-18T19:41:31.935666Z"
    }
   },
   "outputs": [
    {
     "name": "stdout",
     "output_type": "stream",
     "text": [
      "Human-Human only interactions in BioGRID 4.4.203: 900096\n"
     ]
    }
   ],
   "source": [
    "input_human_v2 = input_raw_v2[(input_raw_v2['Organism ID Interactor A']==9606) & (input_raw_v2['Organism ID Interactor B']==9606)]\n",
    "print('Human-Human only interactions in BioGRID 4.4.203:', len(input_human_v2))"
   ]
  },
  {
   "cell_type": "code",
   "execution_count": 8,
   "metadata": {
    "ExecuteTime": {
     "end_time": "2022-04-18T19:41:32.186240Z",
     "start_time": "2022-04-18T19:41:32.136810Z"
    }
   },
   "outputs": [
    {
     "data": {
      "text/plain": [
       "Series([], Name: symbol_n1, dtype: object)"
      ]
     },
     "execution_count": 8,
     "metadata": {},
     "output_type": "execute_result"
    }
   ],
   "source": [
    "# Any missing symbol names in column A?\n",
    "input_human_v2['symbol_n1'][input_human_v2['symbol_n1']=='-']"
   ]
  },
  {
   "cell_type": "code",
   "execution_count": 9,
   "metadata": {
    "ExecuteTime": {
     "end_time": "2022-04-18T19:41:32.239655Z",
     "start_time": "2022-04-18T19:41:32.187008Z"
    }
   },
   "outputs": [
    {
     "data": {
      "text/plain": [
       "Series([], Name: symbol_n2, dtype: object)"
      ]
     },
     "execution_count": 9,
     "metadata": {},
     "output_type": "execute_result"
    }
   ],
   "source": [
    "# Any missing symbol names in column B?\n",
    "input_human_v2['symbol_n2'][input_human_v2['symbol_n2']=='-']"
   ]
  },
  {
   "cell_type": "code",
   "execution_count": 10,
   "metadata": {
    "ExecuteTime": {
     "end_time": "2022-04-18T19:41:32.812905Z",
     "start_time": "2022-04-18T19:41:32.241472Z"
    }
   },
   "outputs": [
    {
     "name": "stdout",
     "output_type": "stream",
     "text": [
      "Edges in BioGRID: 900096\n"
     ]
    }
   ],
   "source": [
    "# Convert table of interactions to edgelist (no scores given)\n",
    "# Also no gene symbol conversion necessary because network is given in symbol format already\n",
    "edgelist_v2 = input_human_v2[['symbol_n1', 'symbol_n2']].values.tolist()\n",
    "print('Edges in BioGRID:', len(edgelist_v2))"
   ]
  },
  {
   "cell_type": "code",
   "execution_count": 11,
   "metadata": {
    "ExecuteTime": {
     "end_time": "2022-04-18T19:41:33.360431Z",
     "start_time": "2022-04-18T19:41:32.813975Z"
    }
   },
   "outputs": [],
   "source": [
    "# Sort each edge representation for filtering\n",
    "edgelist_sorted_v2 = pd.DataFrame([sorted(edge) for edge in edgelist_v2], columns=[\"symbol_n1\", \"symbol_n2\"])"
   ]
  },
  {
   "cell_type": "markdown",
   "metadata": {},
   "source": [
    "## Query gene symbols"
   ]
  },
  {
   "cell_type": "code",
   "execution_count": 12,
   "metadata": {
    "ExecuteTime": {
     "end_time": "2022-04-18T19:41:33.522631Z",
     "start_time": "2022-04-18T19:41:33.361251Z"
    }
   },
   "outputs": [
    {
     "name": "stdout",
     "output_type": "stream",
     "text": [
      "19754 Valid Query Genes\n",
      "1 Invalid Query Genes\n"
     ]
    }
   ],
   "source": [
    "genes_v2 = (list(set(edgelist_sorted_v2[\"symbol_n1\"]).union(set(edgelist_sorted_v2[\"symbol_n2\"]))))\n",
    "query_string_v2, valid_genes_v2, invalid_genes_v2 = gct.query_constructor(genes_v2)"
   ]
  },
  {
   "cell_type": "code",
   "execution_count": 13,
   "metadata": {
    "ExecuteTime": {
     "end_time": "2022-04-18T19:41:33.781501Z",
     "start_time": "2022-04-18T19:41:33.523463Z"
    }
   },
   "outputs": [],
   "source": [
    "mapped_v2, unmapped_v2 = gct.query_against_dataset(\"~/Data/Network_Analysis/Reference_Data/HGNC_download_2022.txt\",\n",
    "                              valid_genes_v2, return_as_dict=True)\n",
    "mapped_v2 = pd.DataFrame.from_dict(mapped_v2).replace(\"NaN\", np.nan)"
   ]
  },
  {
   "cell_type": "code",
   "execution_count": 14,
   "metadata": {
    "ExecuteTime": {
     "end_time": "2022-04-18T19:41:33.859663Z",
     "start_time": "2022-04-18T19:41:33.782368Z"
    }
   },
   "outputs": [
    {
     "name": "stdout",
     "output_type": "stream",
     "text": [
      "Number of genes with multiple matches: 13\n",
      "Number of unmatched genes: 225\n",
      "Number of fully matched genes: 19421\n",
      "Number of partially matched genes: 333\n"
     ]
    }
   ],
   "source": [
    "match_table_trim_v2, query_to_symbol_v2, query_to_entrez_v2 = gct.construct_query_map_table(mapped_v2, valid_genes_v2)"
   ]
  },
  {
   "cell_type": "code",
   "execution_count": 15,
   "metadata": {
    "ExecuteTime": {
     "end_time": "2022-04-18T19:41:34.144281Z",
     "start_time": "2022-04-18T19:41:33.860622Z"
    }
   },
   "outputs": [],
   "source": [
    "edgelist_updated_v2 = gct.convert_edgelist(edgelist_sorted_v2, query_to_symbol_v2)"
   ]
  },
  {
   "cell_type": "code",
   "execution_count": 16,
   "metadata": {
    "ExecuteTime": {
     "end_time": "2022-04-18T19:41:34.561819Z",
     "start_time": "2022-04-18T19:41:34.145225Z"
    }
   },
   "outputs": [
    {
     "name": "stdout",
     "output_type": "stream",
     "text": [
      "900096 input edges\n",
      "7042 self-edges removed\n",
      "1140 edges with un-mapped genes removed\n",
      "224108 duplicate edges removed\n",
      "Edge list filtered: 0.41 seconds\n",
      "667806 Edges remaining\n"
     ]
    }
   ],
   "source": [
    "# Filter edgelist for duplicate nodes and for self-edges\n",
    "edgelist_filt_v2 = gct.filter_converted_edgelist(edgelist_updated_v2)"
   ]
  },
  {
   "cell_type": "code",
   "execution_count": 17,
   "metadata": {
    "ExecuteTime": {
     "end_time": "2022-04-18T19:41:35.226706Z",
     "start_time": "2022-04-18T19:41:34.562786Z"
    }
   },
   "outputs": [
    {
     "name": "stdout",
     "output_type": "stream",
     "text": [
      "Edge list saved: 0.66 seconds\n"
     ]
    }
   ],
   "source": [
    "# Save genelist to file\n",
    "outdir = wd+'Processed_Data/Network_SIFs_Symbol/'\n",
    "gct.write_edgelist(edgelist_filt_v2, outdir+'BioGRID_Symbol_4_4_203.sif')"
   ]
  },
  {
   "cell_type": "markdown",
   "metadata": {},
   "source": [
    "# Version 1.0 (original)"
   ]
  },
  {
   "cell_type": "markdown",
   "metadata": {},
   "source": [
    "## Load BioGRID Raw Data\n",
    "**Source (MITAB): http://thebiogrid.org/downloads/archives/Release%20Archive/BIOGRID-3.4.149/BIOGRID-ORGANISM-3.4.149.tab2.zip**  \n",
    "Downloaded: June 15, 2017  \n",
    "Last Updated: June 01, 2017  \n",
    "Notes for download: There is a new verision of BioGRID released on the first of every month. Download the organism specific files to extract only human interactions from the database.  \n",
    "Notes for processing: This is the file for human protein interactions, however, not all interactions may be human-human interactions. These need to be filtered. There is a column for \"Score\" filtering, but it seems that most of these values are missing so they will be ignored for processing BioGRID"
   ]
  },
  {
   "cell_type": "code",
   "execution_count": 18,
   "metadata": {
    "ExecuteTime": {
     "end_time": "2022-04-18T19:41:36.556714Z",
     "start_time": "2022-04-18T19:41:35.227530Z"
    }
   },
   "outputs": [
    {
     "name": "stdout",
     "output_type": "stream",
     "text": [
      "Raw edge count in BioGRID_v1: 394749\n"
     ]
    }
   ],
   "source": [
    "input_raw = pd.read_csv(wd+'Network_Data_Raw/BIOGRID/BIOGRID-ORGANISM-Homo_sapiens-3.4.149.tab2.txt',sep='\\t', low_memory=False)\n",
    "print('Raw edge count in BioGRID_v1:', len(input_raw))\n",
    "symbol_cols = {'Official Symbol Interactor A':'symbol_n1', 'Official Symbol Interactor B':'symbol_n2'}\n",
    "input_raw.rename(columns=symbol_cols, inplace=True)"
   ]
  },
  {
   "cell_type": "code",
   "execution_count": 19,
   "metadata": {
    "ExecuteTime": {
     "end_time": "2022-04-18T19:41:36.575465Z",
     "start_time": "2022-04-18T19:41:36.557613Z"
    }
   },
   "outputs": [
    {
     "name": "stdout",
     "output_type": "stream",
     "text": [
      "physical    392779\n",
      "genetic       1970\n",
      "Name: Experimental System Type, dtype: int64\n",
      "\n",
      "Percent physical: 0.99501\n"
     ]
    }
   ],
   "source": [
    "# Show not all interactions in BioGRID are physical PPI, though the overwhelming majority are\n",
    "phys = input_raw['Experimental System Type'].value_counts()\n",
    "print(phys)\n",
    "print(\"\\nPercent physical:\", round(phys[\"physical\"]/sum(phys), 5))"
   ]
  },
  {
   "cell_type": "code",
   "execution_count": 20,
   "metadata": {
    "ExecuteTime": {
     "end_time": "2022-04-18T19:41:36.590712Z",
     "start_time": "2022-04-18T19:41:36.576239Z"
    },
    "scrolled": true
   },
   "outputs": [
    {
     "name": "stdout",
     "output_type": "stream",
     "text": [
      "9606      372979\n",
      "10090      17963\n",
      "11676       1591\n",
      "10116        570\n",
      "559292       355\n",
      "Name: Organism Interactor A, dtype: int64\n",
      "\n",
      "Percent human: 0.94795\n"
     ]
    }
   ],
   "source": [
    "# Not all interactions are from Human\n",
    "spec = input_raw['Organism Interactor A'].value_counts().head()\n",
    "print(spec)\n",
    "print(\"\\nPercent human:\", round(spec[9606]/sum(spec), 5))"
   ]
  },
  {
   "cell_type": "code",
   "execution_count": 21,
   "metadata": {
    "ExecuteTime": {
     "end_time": "2022-04-18T19:41:36.605525Z",
     "start_time": "2022-04-18T19:41:36.591450Z"
    },
    "scrolled": true
   },
   "outputs": [
    {
     "name": "stdout",
     "output_type": "stream",
     "text": [
      "9606      389334\n",
      "10090       2543\n",
      "559292      1045\n",
      "10116        708\n",
      "11676        318\n",
      "Name: Organism Interactor B, dtype: int64\n",
      "\n",
      "Percent human: 0.98829\n"
     ]
    }
   ],
   "source": [
    "# Not all interactions are from Human\n",
    "spec = input_raw['Organism Interactor B'].value_counts().head()\n",
    "print(spec)\n",
    "print(\"\\nPercent human:\", round(spec[9606]/sum(spec), 5))"
   ]
  },
  {
   "cell_type": "markdown",
   "metadata": {},
   "source": [
    " Since there are so few genetic interactions relative to physical interactions, we will not filter these edges. However, we will filter all interactions that are not labelled as human-human interactions"
   ]
  },
  {
   "cell_type": "markdown",
   "metadata": {},
   "source": [
    "## Keep only human-human interactions"
   ]
  },
  {
   "cell_type": "code",
   "execution_count": 22,
   "metadata": {
    "ExecuteTime": {
     "end_time": "2022-04-18T19:41:36.652923Z",
     "start_time": "2022-04-18T19:41:36.606316Z"
    }
   },
   "outputs": [
    {
     "name": "stdout",
     "output_type": "stream",
     "text": [
      "Human-Human only interactions in BioGRID 3.4.149: 367564\n"
     ]
    }
   ],
   "source": [
    "input_human = input_raw[(input_raw['Organism Interactor A']==9606) & (input_raw['Organism Interactor B']==9606)]\n",
    "print('Human-Human only interactions in BioGRID 3.4.149:', len(input_human))"
   ]
  },
  {
   "cell_type": "code",
   "execution_count": 23,
   "metadata": {
    "ExecuteTime": {
     "end_time": "2022-04-18T19:41:36.674298Z",
     "start_time": "2022-04-18T19:41:36.653772Z"
    }
   },
   "outputs": [
    {
     "data": {
      "text/plain": [
       "Series([], Name: symbol_n1, dtype: object)"
      ]
     },
     "execution_count": 23,
     "metadata": {},
     "output_type": "execute_result"
    }
   ],
   "source": [
    "# Any missing symbol names in column A?\n",
    "input_human['symbol_n1'][input_human['symbol_n1']=='-']"
   ]
  },
  {
   "cell_type": "code",
   "execution_count": 24,
   "metadata": {
    "ExecuteTime": {
     "end_time": "2022-04-18T19:41:36.699850Z",
     "start_time": "2022-04-18T19:41:36.675041Z"
    }
   },
   "outputs": [
    {
     "data": {
      "text/plain": [
       "Series([], Name: symbol_n2, dtype: object)"
      ]
     },
     "execution_count": 24,
     "metadata": {},
     "output_type": "execute_result"
    }
   ],
   "source": [
    "# Any missing symbol names in column B?\n",
    "input_human['symbol_n2'][input_human['symbol_n2']=='-']"
   ]
  },
  {
   "cell_type": "code",
   "execution_count": 25,
   "metadata": {
    "ExecuteTime": {
     "end_time": "2022-04-18T19:41:36.961885Z",
     "start_time": "2022-04-18T19:41:36.700576Z"
    }
   },
   "outputs": [
    {
     "name": "stdout",
     "output_type": "stream",
     "text": [
      "Edges in BioGRID: 367564\n"
     ]
    }
   ],
   "source": [
    "# Convert table of interactions to edgelist (no scores given)\n",
    "# Also no gene symbol conversion necessary because network is given in symbol format already\n",
    "edgelist = input_human[['symbol_n1', 'symbol_n2']].values.tolist()\n",
    "print('Edges in BioGRID:', len(edgelist))"
   ]
  },
  {
   "cell_type": "code",
   "execution_count": 26,
   "metadata": {
    "ExecuteTime": {
     "end_time": "2022-04-18T19:41:37.260528Z",
     "start_time": "2022-04-18T19:41:36.962781Z"
    }
   },
   "outputs": [],
   "source": [
    "# Sort each edge representation for filtering\n",
    "edgelist_sorted = pd.DataFrame([sorted(edge) for edge in edgelist], columns=[\"symbol_n1\", \"symbol_n2\"])"
   ]
  },
  {
   "cell_type": "markdown",
   "metadata": {},
   "source": [
    "## Query gene symbols"
   ]
  },
  {
   "cell_type": "code",
   "execution_count": 27,
   "metadata": {
    "ExecuteTime": {
     "end_time": "2022-04-18T19:41:37.343651Z",
     "start_time": "2022-04-18T19:41:37.261437Z"
    }
   },
   "outputs": [
    {
     "name": "stdout",
     "output_type": "stream",
     "text": [
      "16718 Valid Query Genes\n",
      "0 Invalid Query Genes\n"
     ]
    }
   ],
   "source": [
    "genes = (list(set(edgelist_sorted[\"symbol_n1\"]).union(set(edgelist_sorted[\"symbol_n2\"]))))\n",
    "query_string, valid_genes, invalid_genes = gct.query_constructor(genes)"
   ]
  },
  {
   "cell_type": "code",
   "execution_count": 28,
   "metadata": {
    "ExecuteTime": {
     "end_time": "2022-04-18T19:41:37.621097Z",
     "start_time": "2022-04-18T19:41:37.346834Z"
    }
   },
   "outputs": [],
   "source": [
    "mapped, unmapped = gct.query_against_dataset(\"~/Data/Network_Analysis/Reference_Data/HGNC_download_2022.txt\",\n",
    "                              valid_genes, return_as_dict=True)\n",
    "mapped = pd.DataFrame.from_dict(mapped).replace(\"NaN\", np.nan)"
   ]
  },
  {
   "cell_type": "code",
   "execution_count": 29,
   "metadata": {
    "ExecuteTime": {
     "end_time": "2022-04-18T19:41:37.686938Z",
     "start_time": "2022-04-18T19:41:37.621953Z"
    }
   },
   "outputs": [
    {
     "name": "stdout",
     "output_type": "stream",
     "text": [
      "Number of genes with multiple matches: 6\n",
      "Number of unmatched genes: 96\n",
      "Number of fully matched genes: 16528\n",
      "Number of partially matched genes: 190\n"
     ]
    }
   ],
   "source": [
    "match_table_trim, query_to_symbol, query_to_entrez = gct.construct_query_map_table(mapped, valid_genes)"
   ]
  },
  {
   "cell_type": "code",
   "execution_count": 30,
   "metadata": {
    "ExecuteTime": {
     "end_time": "2022-04-18T19:41:37.837992Z",
     "start_time": "2022-04-18T19:41:37.687677Z"
    }
   },
   "outputs": [],
   "source": [
    "edgelist_updated = gct.convert_edgelist(edgelist_sorted, query_to_symbol)"
   ]
  },
  {
   "cell_type": "code",
   "execution_count": 31,
   "metadata": {
    "ExecuteTime": {
     "end_time": "2022-04-18T19:41:38.012881Z",
     "start_time": "2022-04-18T19:41:37.838883Z"
    }
   },
   "outputs": [
    {
     "name": "stdout",
     "output_type": "stream",
     "text": [
      "367564 input edges\n",
      "4601 self-edges removed\n",
      "359 edges with un-mapped genes removed\n",
      "104711 duplicate edges removed\n",
      "Edge list filtered: 0.17 seconds\n",
      "257893 Edges remaining\n"
     ]
    }
   ],
   "source": [
    "# Filter edgelist for duplicate nodes and for self-edges\n",
    "edgelist_filt = gct.filter_converted_edgelist(edgelist_updated)"
   ]
  },
  {
   "cell_type": "code",
   "execution_count": 32,
   "metadata": {
    "ExecuteTime": {
     "end_time": "2022-04-18T19:41:38.279158Z",
     "start_time": "2022-04-18T19:41:38.013999Z"
    }
   },
   "outputs": [
    {
     "name": "stdout",
     "output_type": "stream",
     "text": [
      "Edge list saved: 0.26 seconds\n"
     ]
    }
   ],
   "source": [
    "# Save genelist to file\n",
    "outdir = wd+'Processed_Data/Network_SIFs_Symbol/'\n",
    "gct.write_edgelist(edgelist_filt, outdir+'BioGRID_Symbol_3_4_149.sif')"
   ]
  },
  {
   "cell_type": "markdown",
   "metadata": {},
   "source": [
    "# Changes"
   ]
  },
  {
   "cell_type": "markdown",
   "metadata": {},
   "source": [
    "## Data Structure\n",
    "\n",
    "**Columns renamed:**\n",
    "* Organism Interactor A -> Organism ID Interactor A\n",
    "* Organism Interactor B -> Organism ID Interactor B  \n",
    "* Phenotypes -> Ontology Term Names\n",
    "\n",
    "**Columns reworked:**\n",
    "* Pubmed ID -> Publication Source\n",
    " * Format: `id(int)` -> `source:id(string)`\n",
    "\n",
    "**New Columns**\n",
    "* Ontology Term [IDs, Categories, Qualifier IDs, Qualifier Names, Types]\n",
    "* Organism Name Interactor [A/B]\n",
    "* [SWISS-PROT/TREMBL/REFSEQ] Accessions Interactor [A/B]\n"
   ]
  },
  {
   "cell_type": "markdown",
   "metadata": {},
   "source": [
    "## Nodes/Edges"
   ]
  },
  {
   "cell_type": "code",
   "execution_count": 33,
   "metadata": {
    "ExecuteTime": {
     "end_time": "2022-04-18T19:41:39.427021Z",
     "start_time": "2022-04-18T19:41:38.280068Z"
    }
   },
   "outputs": [
    {
     "data": {
      "image/png": "[encoded data removed]",
      "text/plain": [
       "<Figure size 1080x360 with 2 Axes>"
      ]
     },
     "metadata": {
      "needs_background": "light"
     },
     "output_type": "display_data"
    }
   ],
   "source": [
    "dit.plot_changes_to_dataset(input_raw, input_raw_v2, edgelist_filt, edgelist_filt_v2, input_human, input_human_v2)"
   ]
  },
  {
   "cell_type": "code",
   "execution_count": 34,
   "metadata": {
    "ExecuteTime": {
     "end_time": "2022-04-18T19:41:39.431563Z",
     "start_time": "2022-04-18T19:41:39.427763Z"
    }
   },
   "outputs": [],
   "source": [
    "\n",
    "stats = pd.DataFrame({\"v1\":[len(input_raw), len(input_human), len(edgelist_filt), 99.5, 94.8, 98.8], \n",
    "                           \"v2\":[len(input_raw_v2), len(input_human_v2), len(edgelist_filt_v2),98.8, 95.4, 99.2]},\n",
    "                           index=[\"input\", \"human_human\", \"filtered\", \"physical\", \"humanA\", \"humanB\"])"
   ]
  },
  {
   "cell_type": "code",
   "execution_count": 35,
   "metadata": {
    "ExecuteTime": {
     "end_time": "2022-04-18T19:41:39.504371Z",
     "start_time": "2022-04-18T19:41:39.432172Z"
    }
   },
   "outputs": [
    {
     "name": "stdout",
     "output_type": "stream",
     "text": [
      "True\n"
     ]
    }
   ],
   "source": [
    "v1_nodes = set(input_human[\"symbol_n1\"].values).union(set(input_human[\"symbol_n2\"].values))\n",
    "v2_nodes = set(input_human_v2[\"symbol_n1\"].values).union(set(input_human_v2[\"symbol_n2\"].values))\n",
    "new_nodes = v2_nodes.difference(v1_nodes)\n",
    "print(len(new_nodes) == len(v2_nodes) - len(v1_nodes))\n",
    "stats = stats.append(pd.DataFrame({\"v1\":len(v1_nodes), \"v2\":len(v2_nodes)}, index=[\"nodes\"]))"
   ]
  },
  {
   "cell_type": "code",
   "execution_count": 36,
   "metadata": {
    "ExecuteTime": {
     "end_time": "2022-04-18T19:41:40.192577Z",
     "start_time": "2022-04-18T19:41:39.505303Z"
    }
   },
   "outputs": [
    {
     "data": {
      "text/plain": [
       "<AxesSubplot:ylabel='Number of nodes'>"
      ]
     },
     "execution_count": 36,
     "metadata": {},
     "output_type": "execute_result"
    },
    {
     "data": {
      "image/png": "[encoded data removed]",
      "text/plain": [
       "<Figure size 432x288 with 1 Axes>"
      ]
     },
     "metadata": {
      "needs_background": "light"
     },
     "output_type": "display_data"
    },
    {
     "data": {
      "image/png": "[encoded data removed]",
      "text/plain": [
       "<Figure size 432x288 with 1 Axes>"
      ]
     },
     "metadata": {
      "needs_background": "light"
     },
     "output_type": "display_data"
    },
    {
     "data": {
      "image/png": "[encoded data removed]",
      "text/plain": [
       "<Figure size 432x288 with 1 Axes>"
      ]
     },
     "metadata": {
      "needs_background": "light"
     },
     "output_type": "display_data"
    }
   ],
   "source": [
    "stats.loc[[\"input\", \"human_human\", \"filtered\"]].plot.bar(ylabel=\"Number of edges\")\n",
    "stats.loc[[\"physical\", \"humanA\", \"humanB\"]].plot.bar(ylabel=\"Percent % of edges\")\n",
    "stats.loc[[\"nodes\"]].plot.bar(ylabel=\"Number of nodes\")"
   ]
  },
  {
   "cell_type": "code",
   "execution_count": 38,
   "metadata": {
    "ExecuteTime": {
     "end_time": "2022-04-18T19:43:10.553847Z",
     "start_time": "2022-04-18T19:43:10.549051Z"
    }
   },
   "outputs": [
    {
     "data": {
      "text/html": [
       "<div>\n",
       "<style scoped>\n",
       "    .dataframe tbody tr th:only-of-type {\n",
       "        vertical-align: middle;\n",
       "    }\n",
       "\n",
       "    .dataframe tbody tr th {\n",
       "        vertical-align: top;\n",
       "    }\n",
       "\n",
       "    .dataframe thead th {\n",
       "        text-align: right;\n",
       "    }\n",
       "</style>\n",
       "<table border=\"1\" class=\"dataframe\">\n",
       "  <thead>\n",
       "    <tr style=\"text-align: right;\">\n",
       "      <th></th>\n",
       "      <th>v1</th>\n",
       "      <th>v2</th>\n",
       "    </tr>\n",
       "  </thead>\n",
       "  <tbody>\n",
       "    <tr>\n",
       "      <th>input</th>\n",
       "      <td>394749.0</td>\n",
       "      <td>961326.0</td>\n",
       "    </tr>\n",
       "    <tr>\n",
       "      <th>human_human</th>\n",
       "      <td>367564.0</td>\n",
       "      <td>900096.0</td>\n",
       "    </tr>\n",
       "    <tr>\n",
       "      <th>filtered</th>\n",
       "      <td>257893.0</td>\n",
       "      <td>667806.0</td>\n",
       "    </tr>\n",
       "    <tr>\n",
       "      <th>physical</th>\n",
       "      <td>99.5</td>\n",
       "      <td>98.8</td>\n",
       "    </tr>\n",
       "    <tr>\n",
       "      <th>humanA</th>\n",
       "      <td>94.8</td>\n",
       "      <td>95.4</td>\n",
       "    </tr>\n",
       "    <tr>\n",
       "      <th>humanB</th>\n",
       "      <td>98.8</td>\n",
       "      <td>99.2</td>\n",
       "    </tr>\n",
       "    <tr>\n",
       "      <th>nodes</th>\n",
       "      <td>16718.0</td>\n",
       "      <td>19755.0</td>\n",
       "    </tr>\n",
       "  </tbody>\n",
       "</table>\n",
       "</div>"
      ],
      "text/plain": [
       "                   v1        v2\n",
       "input        394749.0  961326.0\n",
       "human_human  367564.0  900096.0\n",
       "filtered     257893.0  667806.0\n",
       "physical         99.5      98.8\n",
       "humanA           94.8      95.4\n",
       "humanB           98.8      99.2\n",
       "nodes         16718.0   19755.0"
      ]
     },
     "execution_count": 38,
     "metadata": {},
     "output_type": "execute_result"
    }
   ],
   "source": [
    "stats"
   ]
  },
  {
   "cell_type": "code",
   "execution_count": null,
   "metadata": {
    "ExecuteTime": {
     "end_time": "2021-11-17T20:36:14.603032Z",
     "start_time": "2021-11-17T20:36:14.551749Z"
    }
   },
   "outputs": [],
   "source": []
  }
 ],
 "metadata": {
  "kernelspec": {
   "display_name": "Python [conda env:pcnet_py3]",
   "language": "python",
   "name": "conda-env-pcnet_py3-py"
  },
  "language_info": {
   "codemirror_mode": {
    "name": "ipython",
    "version": 3
   },
   "file_extension": ".py",
   "mimetype": "text/x-python",
   "name": "python",
   "nbconvert_exporter": "python",
   "pygments_lexer": "ipython3",
   "version": "3.10.0"
  },
  "toc": {
   "base_numbering": 1,
   "nav_menu": {},
   "number_sections": true,
   "sideBar": true,
   "skip_h1_title": false,
   "title_cell": "Table of Contents",
   "title_sidebar": "Contents",
   "toc_cell": false,
   "toc_position": {
    "height": "calc(100% - 180px)",
    "left": "10px",
    "top": "150px",
    "width": "232.405px"
   },
   "toc_section_display": true,
   "toc_window_display": true
  },
  "varInspector": {
   "cols": {
    "lenName": 16,
    "lenType": 16,
    "lenVar": 40
   },
   "kernels_config": {
    "python": {
     "delete_cmd_postfix": "",
     "delete_cmd_prefix": "del ",
     "library": "var_list.py",
     "varRefreshCmd": "print(var_dic_list())"
    },
    "r": {
     "delete_cmd_postfix": ") ",
     "delete_cmd_prefix": "rm(",
     "library": "var_list.r",
     "varRefreshCmd": "cat(var_dic_list()) "
    }
   },
   "types_to_exclude": [
    "module",
    "function",
    "builtin_function_or_method",
    "instance",
    "_Feature"
   ],
   "window_display": false
  }
 },
 "nbformat": 4,
 "nbformat_minor": 4
}
