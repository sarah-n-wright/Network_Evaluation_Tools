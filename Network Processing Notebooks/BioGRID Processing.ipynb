{
 "cells": [
  {
   "cell_type": "code",
   "execution_count": 1,
   "metadata": {
    "ExecuteTime": {
     "end_time": "2022-01-31T20:37:39.113690Z",
     "start_time": "2022-01-31T20:37:29.799759Z"
    }
   },
   "outputs": [],
   "source": [
    "from network_evaluation_tools import gene_conversion_tools as gct\n",
    "import pandas as pd\n",
    "import itertools\n",
    "import numpy as np"
   ]
  },
  {
   "cell_type": "code",
   "execution_count": 2,
   "metadata": {
    "ExecuteTime": {
     "end_time": "2022-01-31T20:37:39.117291Z",
     "start_time": "2022-01-31T20:37:39.115389Z"
    }
   },
   "outputs": [],
   "source": [
    "wd = '/cellar/users/snwright/Data/Network_Analysis/'"
   ]
  },
  {
   "cell_type": "markdown",
   "metadata": {},
   "source": [
    "# Version 2.0"
   ]
  },
  {
   "cell_type": "markdown",
   "metadata": {},
   "source": [
    "## Load BioGRID Raw Data\n",
    "**Source (MITAB): https://downloads.thebiogrid.org/File/BioGRID/Release-Archive/BIOGRID-4.4.203/BIOGRID-ORGANISM-4.4.203.tab3.zip**  \n",
    "Downloaded: Nov 16, 2021   \n",
    "Last Updated: October. 25th, 2021  \n",
    "Notes for download: There is a new version of BioGRID released on the first of every month. Download the organism specific files to extract only human interactions from the database.  \n",
    "Notes for processing: This is the file for human protein interactions, however, not all interactions may be human-human interactions. These need to be filtered. There is a column for \"Score\" filtering, but it seems that most of these values are missing so they will be ignored for processing BioGRID"
   ]
  },
  {
   "cell_type": "code",
   "execution_count": 3,
   "metadata": {
    "ExecuteTime": {
     "end_time": "2022-01-31T20:37:51.027142Z",
     "start_time": "2022-01-31T20:37:39.118500Z"
    }
   },
   "outputs": [
    {
     "name": "stdout",
     "output_type": "stream",
     "text": [
      "Raw edge count in BioGRID: 961326\n"
     ]
    }
   ],
   "source": [
    "input_raw_v2 = pd.read_csv(wd+'Network_Data_Raw/BIOGRID/BIOGRID-ORGANISM-Homo_sapiens-4.4.203.tab3.txt',sep='\\t', low_memory=False)\n",
    "print('Raw edge count in BioGRID:', len(input_raw_v2))\n",
    "symbol_cols = {'Official Symbol Interactor A':'symbol_n1', 'Official Symbol Interactor B':'symbol_n2'}\n",
    "input_raw_v2.rename(columns=symbol_cols, inplace=True)"
   ]
  },
  {
   "cell_type": "code",
   "execution_count": 4,
   "metadata": {
    "ExecuteTime": {
     "end_time": "2022-01-31T20:37:51.356074Z",
     "start_time": "2022-01-31T20:37:51.029073Z"
    }
   },
   "outputs": [
    {
     "name": "stdout",
     "output_type": "stream",
     "text": [
      "physical    949337\n",
      "genetic      11989\n",
      "Name: Experimental System Type, dtype: int64\n",
      "\n",
      "Percent physical: 0.98753\n"
     ]
    }
   ],
   "source": [
    "# Show not all interactions in BioGRID are physical PPI, though the overwhelming majority are\n",
    "phys = input_raw_v2['Experimental System Type'].value_counts()\n",
    "print(phys)\n",
    "print(\"\\nPercent physical:\", round(phys[\"physical\"]/sum(phys), 5))"
   ]
  },
  {
   "cell_type": "code",
   "execution_count": 5,
   "metadata": {
    "ExecuteTime": {
     "end_time": "2022-01-31T20:37:51.447017Z",
     "start_time": "2022-01-31T20:37:51.357587Z"
    },
    "scrolled": true
   },
   "outputs": [
    {
     "name": "stdout",
     "output_type": "stream",
     "text": [
      "9606       909748\n",
      "2697049     20096\n",
      "10090       19506\n",
      "559292       2421\n",
      "11676        1836\n",
      "Name: Organism ID Interactor A, dtype: int64\n",
      "\n",
      "Percent human: 0.95401\n"
     ]
    }
   ],
   "source": [
    "# Not all interactions are from Human\n",
    "spec = input_raw_v2['Organism ID Interactor A'].value_counts().head()\n",
    "print(spec)\n",
    "print(\"\\nPercent human:\", round(spec[9606]/sum(spec), 5))"
   ]
  },
  {
   "cell_type": "code",
   "execution_count": 6,
   "metadata": {
    "ExecuteTime": {
     "end_time": "2022-01-31T20:37:51.552314Z",
     "start_time": "2022-01-31T20:37:51.449011Z"
    },
    "scrolled": true
   },
   "outputs": [
    {
     "name": "stdout",
     "output_type": "stream",
     "text": [
      "9606      951674\n",
      "10090       4813\n",
      "559292      1139\n",
      "10116       1003\n",
      "284812       586\n",
      "Name: Organism ID Interactor B, dtype: int64\n",
      "\n",
      "Percent human: 0.99214\n"
     ]
    }
   ],
   "source": [
    "# Not all interactions are from Human\n",
    "spec = input_raw_v2['Organism ID Interactor B'].value_counts().head()\n",
    "print(spec)\n",
    "print(\"\\nPercent human:\", round(spec[9606]/sum(spec), 5))"
   ]
  },
  {
   "cell_type": "markdown",
   "metadata": {},
   "source": [
    "## Filter to human"
   ]
  },
  {
   "cell_type": "code",
   "execution_count": 7,
   "metadata": {
    "ExecuteTime": {
     "end_time": "2022-01-31T20:37:51.898899Z",
     "start_time": "2022-01-31T20:37:51.553518Z"
    }
   },
   "outputs": [
    {
     "name": "stdout",
     "output_type": "stream",
     "text": [
      "Human-Human only interactions in BioGRID 4.4.203: 900096\n"
     ]
    }
   ],
   "source": [
    "input_human_v2 = input_raw_v2[(input_raw_v2['Organism ID Interactor A']==9606) & (input_raw_v2['Organism ID Interactor B']==9606)]\n",
    "print('Human-Human only interactions in BioGRID 4.4.203:', len(input_human_v2))"
   ]
  },
  {
   "cell_type": "code",
   "execution_count": 8,
   "metadata": {
    "ExecuteTime": {
     "end_time": "2022-01-31T20:37:51.984417Z",
     "start_time": "2022-01-31T20:37:51.900427Z"
    }
   },
   "outputs": [
    {
     "data": {
      "text/plain": [
       "Series([], Name: symbol_n1, dtype: object)"
      ]
     },
     "execution_count": 8,
     "metadata": {},
     "output_type": "execute_result"
    }
   ],
   "source": [
    "# Any missing symbol names in column A?\n",
    "input_human_v2['symbol_n1'][input_human_v2['symbol_n1']=='-']"
   ]
  },
  {
   "cell_type": "code",
   "execution_count": 9,
   "metadata": {
    "ExecuteTime": {
     "end_time": "2022-01-31T20:37:52.062273Z",
     "start_time": "2022-01-31T20:37:51.986077Z"
    }
   },
   "outputs": [
    {
     "data": {
      "text/plain": [
       "Series([], Name: symbol_n2, dtype: object)"
      ]
     },
     "execution_count": 9,
     "metadata": {},
     "output_type": "execute_result"
    }
   ],
   "source": [
    "# Any missing symbol names in column B?\n",
    "input_human_v2['symbol_n2'][input_human_v2['symbol_n2']=='-']"
   ]
  },
  {
   "cell_type": "code",
   "execution_count": 10,
   "metadata": {
    "ExecuteTime": {
     "end_time": "2022-01-31T20:37:52.814439Z",
     "start_time": "2022-01-31T20:37:52.064450Z"
    }
   },
   "outputs": [
    {
     "name": "stdout",
     "output_type": "stream",
     "text": [
      "Edges in BioGRID: 900096\n"
     ]
    }
   ],
   "source": [
    "# Convert table of interactions to edgelist (no scores given)\n",
    "# Also no gene symbol conversion necessary because network is given in symbol format already\n",
    "edgelist_v2 = input_human_v2[['symbol_n1', 'symbol_n2']].values.tolist()\n",
    "print('Edges in BioGRID:', len(edgelist_v2))"
   ]
  },
  {
   "cell_type": "code",
   "execution_count": 11,
   "metadata": {
    "ExecuteTime": {
     "end_time": "2022-01-31T20:37:53.760960Z",
     "start_time": "2022-01-31T20:37:52.816333Z"
    }
   },
   "outputs": [],
   "source": [
    "# Sort each edge representation for filtering\n",
    "edgelist_sorted_v2 = pd.DataFrame([sorted(edge) for edge in edgelist_v2], columns=[\"symbol_n1\", \"symbol_n2\"])"
   ]
  },
  {
   "cell_type": "markdown",
   "metadata": {},
   "source": [
    "## Query gene symbols"
   ]
  },
  {
   "cell_type": "code",
   "execution_count": 12,
   "metadata": {
    "ExecuteTime": {
     "end_time": "2022-01-31T20:37:54.002763Z",
     "start_time": "2022-01-31T20:37:53.762246Z"
    }
   },
   "outputs": [
    {
     "name": "stdout",
     "output_type": "stream",
     "text": [
      "19754 Valid Query Genes\n",
      "1 Invalid Query Genes\n"
     ]
    }
   ],
   "source": [
    "genes_v2 = (list(set(edgelist_sorted_v2[\"symbol_n1\"]).union(set(edgelist_sorted_v2[\"symbol_n2\"]))))\n",
    "query_string_v2, valid_genes_v2, invalid_genes_v2 = gct.query_constructor(genes_v2)"
   ]
  },
  {
   "cell_type": "code",
   "execution_count": 13,
   "metadata": {
    "ExecuteTime": {
     "end_time": "2022-01-31T20:37:54.606691Z",
     "start_time": "2022-01-31T20:37:54.004384Z"
    }
   },
   "outputs": [],
   "source": [
    "mapped_v2, unmapped_v2 = gct.query_against_dataset(\"~/Data/Network_Analysis/Reference_Data/HGNC_download_2022.txt\",\n",
    "                              valid_genes_v2, return_as_dict=True)\n",
    "mapped_v2 = pd.DataFrame.from_dict(mapped_v2).replace(\"NaN\", np.nan)"
   ]
  },
  {
   "cell_type": "code",
   "execution_count": 14,
   "metadata": {
    "ExecuteTime": {
     "end_time": "2022-01-31T20:37:54.894043Z",
     "start_time": "2022-01-31T20:37:54.609388Z"
    }
   },
   "outputs": [
    {
     "name": "stdout",
     "output_type": "stream",
     "text": [
      "Number of genes with multiple matches: 13\n",
      "Number of unmatched genes: 225\n",
      "Number of fully matched genes: 19421\n",
      "Number of partially matched genes: 333\n"
     ]
    }
   ],
   "source": [
    "match_table_trim_v2, query_to_symbol_v2, query_to_entrez_v2 = gct.construct_query_map_table(mapped_v2, valid_genes_v2)"
   ]
  },
  {
   "cell_type": "code",
   "execution_count": 15,
   "metadata": {
    "ExecuteTime": {
     "end_time": "2022-01-31T20:38:53.709931Z",
     "start_time": "2022-01-31T20:38:53.344122Z"
    }
   },
   "outputs": [],
   "source": [
    "edgelist_updated_v2 = gct.convert_edgelist(edgelist_sorted_v2, query_to_symbol_v2)"
   ]
  },
  {
   "cell_type": "code",
   "execution_count": 16,
   "metadata": {
    "ExecuteTime": {
     "end_time": "2022-01-31T20:38:58.190959Z",
     "start_time": "2022-01-31T20:38:57.183036Z"
    }
   },
   "outputs": [
    {
     "name": "stdout",
     "output_type": "stream",
     "text": [
      "900096 input edges\n",
      "7042 self-edges removed\n",
      "1140 edges with un-mapped genes removed\n",
      "224108 duplicate edges removed\n",
      "Edge list filtered: 0.96 seconds\n",
      "667806 Edges remaining\n"
     ]
    }
   ],
   "source": [
    "# Filter edgelist for duplicate nodes and for self-edges\n",
    "edgelist_filt_v2 = gct.filter_converted_edgelist(edgelist_updated_v2)"
   ]
  },
  {
   "cell_type": "code",
   "execution_count": 17,
   "metadata": {
    "ExecuteTime": {
     "end_time": "2022-01-31T20:39:02.590573Z",
     "start_time": "2022-01-31T20:39:01.780574Z"
    }
   },
   "outputs": [
    {
     "name": "stdout",
     "output_type": "stream",
     "text": [
      "Edge list saved: 0.81 seconds\n"
     ]
    }
   ],
   "source": [
    "# Save genelist to file\n",
    "outdir = wd+'Processed_Data/Network_SIFs_Symbol/'\n",
    "gct.write_edgelist(edgelist_filt_v2, outdir+'BioGRID_Symbol_4_4_203.sif')"
   ]
  },
  {
   "cell_type": "markdown",
   "metadata": {},
   "source": [
    "# Version 1.0 (original)"
   ]
  },
  {
   "cell_type": "markdown",
   "metadata": {},
   "source": [
    "## Load BioGRID Raw Data\n",
    "**Source (MITAB): http://thebiogrid.org/downloads/archives/Release%20Archive/BIOGRID-3.4.149/BIOGRID-ORGANISM-3.4.149.tab2.zip**  \n",
    "Downloaded: June 15, 2017  \n",
    "Last Updated: June 01, 2017  \n",
    "Notes for download: There is a new verision of BioGRID released on the first of every month. Download the organism specific files to extract only human interactions from the database.  \n",
    "Notes for processing: This is the file for human protein interactions, however, not all interactions may be human-human interactions. These need to be filtered. There is a column for \"Score\" filtering, but it seems that most of these values are missing so they will be ignored for processing BioGRID"
   ]
  },
  {
   "cell_type": "code",
   "execution_count": 19,
   "metadata": {
    "ExecuteTime": {
     "end_time": "2022-01-31T20:42:23.199847Z",
     "start_time": "2022-01-31T20:42:21.353805Z"
    }
   },
   "outputs": [
    {
     "name": "stdout",
     "output_type": "stream",
     "text": [
      "Raw edge count in BioGRID_v1: 394749\n"
     ]
    }
   ],
   "source": [
    "input_raw = pd.read_csv(wd+'Network_Data_Raw/BIOGRID/BIOGRID-ORGANISM-Homo_sapiens-3.4.149.tab2.txt',sep='\\t', low_memory=False)\n",
    "print('Raw edge count in BioGRID_v1:', len(input_raw))\n",
    "symbol_cols = {'Official Symbol Interactor A':'symbol_n1', 'Official Symbol Interactor B':'symbol_n2'}\n",
    "input_raw.rename(columns=symbol_cols, inplace=True)"
   ]
  },
  {
   "cell_type": "code",
   "execution_count": 20,
   "metadata": {
    "ExecuteTime": {
     "end_time": "2022-01-31T20:42:27.738643Z",
     "start_time": "2022-01-31T20:42:27.713251Z"
    }
   },
   "outputs": [
    {
     "name": "stdout",
     "output_type": "stream",
     "text": [
      "physical    392779\n",
      "genetic       1970\n",
      "Name: Experimental System Type, dtype: int64\n",
      "\n",
      "Percent physical: 0.99501\n"
     ]
    }
   ],
   "source": [
    "# Show not all interactions in BioGRID are physical PPI, though the overwhelming majority are\n",
    "phys = input_raw['Experimental System Type'].value_counts()\n",
    "print(phys)\n",
    "print(\"\\nPercent physical:\", round(phys[\"physical\"]/sum(phys), 5))"
   ]
  },
  {
   "cell_type": "code",
   "execution_count": 21,
   "metadata": {
    "ExecuteTime": {
     "end_time": "2022-01-31T20:42:32.115846Z",
     "start_time": "2022-01-31T20:42:32.108327Z"
    },
    "scrolled": true
   },
   "outputs": [
    {
     "name": "stdout",
     "output_type": "stream",
     "text": [
      "9606      372979\n",
      "10090      17963\n",
      "11676       1591\n",
      "10116        570\n",
      "559292       355\n",
      "Name: Organism Interactor A, dtype: int64\n",
      "\n",
      "Percent human: 0.94795\n"
     ]
    }
   ],
   "source": [
    "# Not all interactions are from Human\n",
    "spec = input_raw['Organism Interactor A'].value_counts().head()\n",
    "print(spec)\n",
    "print(\"\\nPercent human:\", round(spec[9606]/sum(spec), 5))"
   ]
  },
  {
   "cell_type": "code",
   "execution_count": 22,
   "metadata": {
    "ExecuteTime": {
     "end_time": "2022-01-31T20:42:36.461173Z",
     "start_time": "2022-01-31T20:42:36.454405Z"
    },
    "scrolled": true
   },
   "outputs": [
    {
     "name": "stdout",
     "output_type": "stream",
     "text": [
      "9606      389334\n",
      "10090       2543\n",
      "559292      1045\n",
      "10116        708\n",
      "11676        318\n",
      "Name: Organism Interactor B, dtype: int64\n",
      "\n",
      "Percent human: 0.98829\n"
     ]
    }
   ],
   "source": [
    "# Not all interactions are from Human\n",
    "spec = input_raw['Organism Interactor B'].value_counts().head()\n",
    "print(spec)\n",
    "print(\"\\nPercent human:\", round(spec[9606]/sum(spec), 5))"
   ]
  },
  {
   "cell_type": "markdown",
   "metadata": {},
   "source": [
    " Since there are so few genetic interactions relative to physical interactions, we will not filter these edges. However, we will filter all interactions that are not labelled as human-human interactions"
   ]
  },
  {
   "cell_type": "markdown",
   "metadata": {},
   "source": [
    "## Keep only human-human interactions"
   ]
  },
  {
   "cell_type": "code",
   "execution_count": 23,
   "metadata": {
    "ExecuteTime": {
     "end_time": "2022-01-31T20:42:41.169308Z",
     "start_time": "2022-01-31T20:42:41.081563Z"
    }
   },
   "outputs": [
    {
     "name": "stdout",
     "output_type": "stream",
     "text": [
      "Human-Human only interactions in BioGRID 3.4.149: 367564\n"
     ]
    }
   ],
   "source": [
    "input_human = input_raw[(input_raw['Organism Interactor A']==9606) & (input_raw['Organism Interactor B']==9606)]\n",
    "print('Human-Human only interactions in BioGRID 3.4.149:', len(input_human))"
   ]
  },
  {
   "cell_type": "code",
   "execution_count": 24,
   "metadata": {
    "ExecuteTime": {
     "end_time": "2022-01-31T20:42:46.368565Z",
     "start_time": "2022-01-31T20:42:46.336007Z"
    }
   },
   "outputs": [
    {
     "data": {
      "text/plain": [
       "Series([], Name: symbol_n1, dtype: object)"
      ]
     },
     "execution_count": 24,
     "metadata": {},
     "output_type": "execute_result"
    }
   ],
   "source": [
    "# Any missing symbol names in column A?\n",
    "input_human['symbol_n1'][input_human['symbol_n1']=='-']"
   ]
  },
  {
   "cell_type": "code",
   "execution_count": 25,
   "metadata": {
    "ExecuteTime": {
     "end_time": "2022-01-31T20:42:51.833318Z",
     "start_time": "2022-01-31T20:42:51.799843Z"
    }
   },
   "outputs": [
    {
     "data": {
      "text/plain": [
       "Series([], Name: symbol_n2, dtype: object)"
      ]
     },
     "execution_count": 25,
     "metadata": {},
     "output_type": "execute_result"
    }
   ],
   "source": [
    "# Any missing symbol names in column B?\n",
    "input_human['symbol_n2'][input_human['symbol_n2']=='-']"
   ]
  },
  {
   "cell_type": "code",
   "execution_count": 26,
   "metadata": {
    "ExecuteTime": {
     "end_time": "2022-01-31T20:42:56.998158Z",
     "start_time": "2022-01-31T20:42:56.746292Z"
    }
   },
   "outputs": [
    {
     "name": "stdout",
     "output_type": "stream",
     "text": [
      "Edges in BioGRID: 367564\n"
     ]
    }
   ],
   "source": [
    "# Convert table of interactions to edgelist (no scores given)\n",
    "# Also no gene symbol conversion necessary because network is given in symbol format already\n",
    "edgelist = input_human[['symbol_n1', 'symbol_n2']].values.tolist()\n",
    "print('Edges in BioGRID:', len(edgelist))"
   ]
  },
  {
   "cell_type": "code",
   "execution_count": 27,
   "metadata": {
    "ExecuteTime": {
     "end_time": "2022-01-31T20:43:02.241524Z",
     "start_time": "2022-01-31T20:43:01.880923Z"
    }
   },
   "outputs": [],
   "source": [
    "# Sort each edge representation for filtering\n",
    "edgelist_sorted = pd.DataFrame([sorted(edge) for edge in edgelist], columns=[\"symbol_n1\", \"symbol_n2\"])"
   ]
  },
  {
   "cell_type": "markdown",
   "metadata": {},
   "source": [
    "## Query gene symbols"
   ]
  },
  {
   "cell_type": "code",
   "execution_count": 28,
   "metadata": {
    "ExecuteTime": {
     "end_time": "2022-01-31T20:43:07.475306Z",
     "start_time": "2022-01-31T20:43:07.344800Z"
    }
   },
   "outputs": [
    {
     "name": "stdout",
     "output_type": "stream",
     "text": [
      "16718 Valid Query Genes\n",
      "0 Invalid Query Genes\n"
     ]
    }
   ],
   "source": [
    "genes = (list(set(edgelist_sorted[\"symbol_n1\"]).union(set(edgelist_sorted[\"symbol_n2\"]))))\n",
    "query_string, valid_genes, invalid_genes = gct.query_constructor(genes)"
   ]
  },
  {
   "cell_type": "code",
   "execution_count": 29,
   "metadata": {
    "ExecuteTime": {
     "end_time": "2022-01-31T20:43:13.686536Z",
     "start_time": "2022-01-31T20:43:13.277400Z"
    }
   },
   "outputs": [],
   "source": [
    "mapped, unmapped = gct.query_against_dataset(\"~/Data/Network_Analysis/Reference_Data/HGNC_download_2022.txt\",\n",
    "                              valid_genes, return_as_dict=True)\n",
    "mapped = pd.DataFrame.from_dict(mapped).replace(\"NaN\", np.nan)"
   ]
  },
  {
   "cell_type": "code",
   "execution_count": 30,
   "metadata": {
    "ExecuteTime": {
     "end_time": "2022-01-31T20:43:19.452667Z",
     "start_time": "2022-01-31T20:43:19.353515Z"
    }
   },
   "outputs": [
    {
     "name": "stdout",
     "output_type": "stream",
     "text": [
      "Number of genes with multiple matches: 6\n",
      "Number of unmatched genes: 96\n",
      "Number of fully matched genes: 16528\n",
      "Number of partially matched genes: 190\n"
     ]
    }
   ],
   "source": [
    "match_table_trim, query_to_symbol, query_to_entrez = gct.construct_query_map_table(mapped, valid_genes)"
   ]
  },
  {
   "cell_type": "code",
   "execution_count": 31,
   "metadata": {
    "ExecuteTime": {
     "end_time": "2022-01-31T20:43:25.918988Z",
     "start_time": "2022-01-31T20:43:25.742743Z"
    }
   },
   "outputs": [],
   "source": [
    "edgelist_updated = gct.convert_edgelist(edgelist_sorted, query_to_symbol)"
   ]
  },
  {
   "cell_type": "code",
   "execution_count": 32,
   "metadata": {
    "ExecuteTime": {
     "end_time": "2022-01-31T20:43:32.730679Z",
     "start_time": "2022-01-31T20:43:32.283364Z"
    }
   },
   "outputs": [
    {
     "name": "stdout",
     "output_type": "stream",
     "text": [
      "367564 input edges\n",
      "4601 self-edges removed\n",
      "359 edges with un-mapped genes removed\n",
      "104711 duplicate edges removed\n",
      "Edge list filtered: 0.44 seconds\n",
      "257893 Edges remaining\n"
     ]
    }
   ],
   "source": [
    "# Filter edgelist for duplicate nodes and for self-edges\n",
    "edgelist_filt = gct.filter_converted_edgelist(edgelist_updated)"
   ]
  },
  {
   "cell_type": "code",
   "execution_count": 33,
   "metadata": {
    "ExecuteTime": {
     "end_time": "2022-01-31T20:43:39.481972Z",
     "start_time": "2022-01-31T20:43:39.034428Z"
    }
   },
   "outputs": [
    {
     "name": "stdout",
     "output_type": "stream",
     "text": [
      "Edge list saved: 0.44 seconds\n"
     ]
    }
   ],
   "source": [
    "# Save genelist to file\n",
    "outdir = wd+'Processed_Data/Network_SIFs_Symbol/'\n",
    "gct.write_edgelist(edgelist_filt, outdir+'BioGRID_Symbol_3_4_149.sif')"
   ]
  },
  {
   "cell_type": "markdown",
   "metadata": {},
   "source": [
    "# Changes"
   ]
  },
  {
   "cell_type": "markdown",
   "metadata": {},
   "source": [
    "## Data Structure\n",
    "\n",
    "**Columns renamed:**\n",
    "* Organism Interactor A -> Organism ID Interactor A\n",
    "* Organism Interactor B -> Organism ID Interactor B  \n",
    "* Phenotypes -> Ontology Term Names\n",
    "\n",
    "**Columns reworked:**\n",
    "* Pubmed ID -> Publication Source\n",
    " * Format: `id(int)` -> `source:id(string)`\n",
    "\n",
    "**New Columns**\n",
    "* Ontology Term [IDs, Categories, Qualifier IDs, Qualifier Names, Types]\n",
    "* Organism Name Interactor [A/B]\n",
    "* [SWISS-PROT/TREMBL/REFSEQ] Accessions Interactor [A/B]\n"
   ]
  },
  {
   "cell_type": "markdown",
   "metadata": {},
   "source": [
    "## Nodes/Edges"
   ]
  },
  {
   "cell_type": "code",
   "execution_count": 34,
   "metadata": {
    "ExecuteTime": {
     "end_time": "2022-01-31T20:43:44.881882Z",
     "start_time": "2022-01-31T20:43:44.877311Z"
    }
   },
   "outputs": [],
   "source": [
    "\n",
    "stats = pd.DataFrame({\"v1\":[len(input_raw), len(input_human), len(edgelist_filt), 99.5, 94.8, 98.8], \n",
    "                           \"v2\":[len(input_raw_v2), len(input_human_v2), len(edgelist_filt_v2),98.8, 95.4, 99.2]},\n",
    "                           index=[\"input\", \"human_human\", \"filtered\", \"physical\", \"humanA\", \"humanB\"])"
   ]
  },
  {
   "cell_type": "code",
   "execution_count": 35,
   "metadata": {
    "ExecuteTime": {
     "end_time": "2022-01-31T20:43:50.459308Z",
     "start_time": "2022-01-31T20:43:50.369349Z"
    }
   },
   "outputs": [
    {
     "name": "stdout",
     "output_type": "stream",
     "text": [
      "True\n"
     ]
    }
   ],
   "source": [
    "v1_nodes = set(input_human[\"symbol_n1\"].values).union(set(input_human[\"symbol_n2\"].values))\n",
    "v2_nodes = set(input_human_v2[\"symbol_n1\"].values).union(set(input_human_v2[\"symbol_n2\"].values))\n",
    "new_nodes = v2_nodes.difference(v1_nodes)\n",
    "print(len(new_nodes) == len(v2_nodes) - len(v1_nodes))\n",
    "stats = stats.append(pd.DataFrame({\"v1\":len(v1_nodes), \"v2\":len(v2_nodes)}, index=[\"nodes\"]))"
   ]
  },
  {
   "cell_type": "code",
   "execution_count": 36,
   "metadata": {
    "ExecuteTime": {
     "end_time": "2022-01-31T20:44:07.468147Z",
     "start_time": "2022-01-31T20:43:55.784644Z"
    }
   },
   "outputs": [
    {
     "data": {
      "text/plain": [
       "<AxesSubplot:ylabel='Number of nodes'>"
      ]
     },
     "execution_count": 36,
     "metadata": {},
     "output_type": "execute_result"
    },
    {
     "data": {
      "image/png": "[encoded data removed]",
      "text/plain": [
       "<Figure size 432x288 with 1 Axes>"
      ]
     },
     "metadata": {
      "needs_background": "light"
     },
     "output_type": "display_data"
    },
    {
     "data": {
      "image/png": "[encoded data removed]",
      "text/plain": [
       "<Figure size 432x288 with 1 Axes>"
      ]
     },
     "metadata": {
      "needs_background": "light"
     },
     "output_type": "display_data"
    },
    {
     "data": {
      "image/png": "[encoded data removed]",
      "text/plain": [
       "<Figure size 432x288 with 1 Axes>"
      ]
     },
     "metadata": {
      "needs_background": "light"
     },
     "output_type": "display_data"
    }
   ],
   "source": [
    "stats.loc[[\"input\", \"human_human\", \"filtered\"]].plot.bar(ylabel=\"Number of edges\")\n",
    "stats.loc[[\"physical\", \"humanA\", \"humanB\"]].plot.bar(ylabel=\"Percent % of edges\")\n",
    "stats.loc[[\"nodes\"]].plot.bar(ylabel=\"Number of nodes\")"
   ]
  },
  {
   "cell_type": "code",
   "execution_count": 104,
   "metadata": {
    "ExecuteTime": {
     "end_time": "2021-11-17T20:36:14.603032Z",
     "start_time": "2021-11-17T20:36:14.551749Z"
    }
   },
   "outputs": [
    {
     "data": {
      "text/plain": [
       "array(['-', '1.0', '0.952', ..., '0.995751891', '0.978833402',\n",
       "       '0.996471144'], dtype=object)"
      ]
     },
     "execution_count": 104,
     "metadata": {},
     "output_type": "execute_result"
    }
   ],
   "source": []
  }
 ],
 "metadata": {
  "kernelspec": {
   "display_name": "Python [conda env:pcnet_py3]",
   "language": "python",
   "name": "conda-env-pcnet_py3-py"
  },
  "language_info": {
   "codemirror_mode": {
    "name": "ipython",
    "version": 3
   },
   "file_extension": ".py",
   "mimetype": "text/x-python",
   "name": "python",
   "nbconvert_exporter": "python",
   "pygments_lexer": "ipython3",
   "version": "3.10.0"
  },
  "toc": {
   "base_numbering": 1,
   "nav_menu": {},
   "number_sections": true,
   "sideBar": true,
   "skip_h1_title": false,
   "title_cell": "Table of Contents",
   "title_sidebar": "Contents",
   "toc_cell": false,
   "toc_position": {
    "height": "calc(100% - 180px)",
    "left": "10px",
    "top": "150px",
    "width": "379.396px"
   },
   "toc_section_display": true,
   "toc_window_display": true
  },
  "varInspector": {
   "cols": {
    "lenName": 16,
    "lenType": 16,
    "lenVar": 40
   },
   "kernels_config": {
    "python": {
     "delete_cmd_postfix": "",
     "delete_cmd_prefix": "del ",
     "library": "var_list.py",
     "varRefreshCmd": "print(var_dic_list())"
    },
    "r": {
     "delete_cmd_postfix": ") ",
     "delete_cmd_prefix": "rm(",
     "library": "var_list.r",
     "varRefreshCmd": "cat(var_dic_list()) "
    }
   },
   "types_to_exclude": [
    "module",
    "function",
    "builtin_function_or_method",
    "instance",
    "_Feature"
   ],
   "window_display": false
  }
 },
 "nbformat": 4,
 "nbformat_minor": 4
}
