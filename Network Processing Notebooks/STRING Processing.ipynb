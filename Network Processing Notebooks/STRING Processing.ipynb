{
 "cells": [
  {
   "cell_type": "code",
   "execution_count": 1,
   "metadata": {
    "ExecuteTime": {
     "end_time": "2022-04-18T23:24:24.947942Z",
     "start_time": "2022-04-18T23:24:21.568536Z"
    }
   },
   "outputs": [],
   "source": [
    "from network_evaluation_tools import gene_conversion_tools as gct\n",
    "from network_evaluation_tools import data_import_tools as dit\n",
    "import pandas as pd\n",
    "import time\n",
    "import matplotlib.pyplot as plt"
   ]
  },
  {
   "cell_type": "code",
   "execution_count": 2,
   "metadata": {
    "ExecuteTime": {
     "end_time": "2022-04-18T23:24:24.951873Z",
     "start_time": "2022-04-18T23:24:24.949033Z"
    }
   },
   "outputs": [],
   "source": [
    "wd = '/cellar/users/snwright/Data/Network_Analysis/'"
   ]
  },
  {
   "cell_type": "markdown",
   "metadata": {},
   "source": [
    "# Version 2.0"
   ]
  },
  {
   "cell_type": "markdown",
   "metadata": {},
   "source": [
    "## Load STRING Raw Data\n",
    "#### Source https://stringdb-static.org/download/protein.links.v11.5/9606.protein.links.v11.5.txt.gz\n",
    "Downloaded: Oct 30, 2021 \n",
    "Last Updated: August 12, 2021\n",
    "\n",
    "**Notes:** \n",
    "* Could also look at using 9606.protein.links.full.v11.5.txt.gz (133.6 Mb)\tprotein network data (incl. distinction: direct vs. interologs)"
   ]
  },
  {
   "cell_type": "code",
   "execution_count": 3,
   "metadata": {
    "ExecuteTime": {
     "end_time": "2022-04-18T23:24:32.605139Z",
     "start_time": "2022-04-18T23:24:24.952655Z"
    }
   },
   "outputs": [
    {
     "name": "stdout",
     "output_type": "stream",
     "text": [
      "Raw Edges in STRING v11.5: 11938498\n"
     ]
    }
   ],
   "source": [
    "# 2021: Direct download of STRING data is the same as original filtered data\n",
    "STRING_Raw_v2 = pd.read_csv(wd+'Network_Data_Raw/STRING/9606.protein.links.v11.5.txt.gz',sep='\\s+')\n",
    "STRING_Raw_v2.columns = ['NodeA', 'NodeB', 'Score']\n",
    "print('Raw Edges in STRING v11.5:', len(STRING_Raw_v2))"
   ]
  },
  {
   "cell_type": "code",
   "execution_count": 4,
   "metadata": {
    "ExecuteTime": {
     "end_time": "2022-04-18T23:24:35.687342Z",
     "start_time": "2022-04-18T23:24:32.606532Z"
    }
   },
   "outputs": [
    {
     "name": "stdout",
     "output_type": "stream",
     "text": [
      "Edges in STRING v11.5 after dropping duplicates: 11938498\n"
     ]
    }
   ],
   "source": [
    "STRING_Raw_filt_v2 = STRING_Raw_v2.drop_duplicates()\n",
    "print('Edges in STRING v11.5 after dropping duplicates:', len(STRING_Raw_filt_v2))"
   ]
  },
  {
   "cell_type": "code",
   "execution_count": 5,
   "metadata": {
    "ExecuteTime": {
     "end_time": "2022-04-18T23:24:41.159933Z",
     "start_time": "2022-04-18T23:24:35.688388Z"
    }
   },
   "outputs": [],
   "source": [
    "STRING_Raw_filt_v2[\"NodeA\"] = [x.split(\"9606.\")[1] if \"9606.\" in x else x for x in STRING_Raw_filt_v2[\"NodeA\"].values]\n",
    "STRING_Raw_filt_v2[\"NodeB\"] = [x.split(\"9606.\")[1] if \"9606.\" in x else x for x in STRING_Raw_filt_v2[\"NodeB\"].values]"
   ]
  },
  {
   "cell_type": "code",
   "execution_count": 6,
   "metadata": {
    "ExecuteTime": {
     "end_time": "2022-04-18T23:24:43.356049Z",
     "start_time": "2022-04-18T23:24:41.161056Z"
    }
   },
   "outputs": [],
   "source": [
    "STRING_Genes_v2 = list(set(STRING_Raw_filt_v2['NodeA']).union(set(STRING_Raw_filt_v2['NodeB'])))"
   ]
  },
  {
   "cell_type": "code",
   "execution_count": 7,
   "metadata": {
    "ExecuteTime": {
     "end_time": "2022-04-18T23:24:49.406689Z",
     "start_time": "2022-04-18T23:24:43.357109Z"
    }
   },
   "outputs": [],
   "source": [
    "query_edgelist_v2 = STRING_Raw_filt_v2[['NodeA', 'NodeB', 'Score']].values.tolist()"
   ]
  },
  {
   "cell_type": "code",
   "execution_count": 8,
   "metadata": {
    "ExecuteTime": {
     "end_time": "2022-04-18T23:24:49.414442Z",
     "start_time": "2022-04-18T23:24:49.407510Z"
    }
   },
   "outputs": [
    {
     "data": {
      "text/plain": [
       "[['ENSP00000000233', 'ENSP00000379496', 155],\n",
       " ['ENSP00000000233', 'ENSP00000314067', 197],\n",
       " ['ENSP00000000233', 'ENSP00000263116', 222],\n",
       " ['ENSP00000000233', 'ENSP00000361263', 181],\n",
       " ['ENSP00000000233', 'ENSP00000409666', 270],\n",
       " ['ENSP00000000233', 'ENSP00000324287', 767],\n",
       " ['ENSP00000000233', 'ENSP00000469689', 197],\n",
       " ['ENSP00000000233', 'ENSP00000392206', 364],\n",
       " ['ENSP00000000233', 'ENSP00000333657', 156],\n",
       " ['ENSP00000000233', 'ENSP00000308413', 162]]"
      ]
     },
     "execution_count": 8,
     "metadata": {},
     "output_type": "execute_result"
    }
   ],
   "source": [
    "query_edgelist_v2[0:10]"
   ]
  },
  {
   "cell_type": "markdown",
   "metadata": {},
   "source": [
    "## Convert Genes from Ensembl Protein to Hugo Symbol"
   ]
  },
  {
   "cell_type": "code",
   "execution_count": 9,
   "metadata": {
    "ExecuteTime": {
     "end_time": "2022-04-18T23:24:49.467645Z",
     "start_time": "2022-04-18T23:24:49.415160Z"
    }
   },
   "outputs": [
    {
     "name": "stdout",
     "output_type": "stream",
     "text": [
      "19385 Valid Query Genes\n",
      "0 Invalid Query Genes\n"
     ]
    }
   ],
   "source": [
    "query_string_v2, valid_genes_v2, invalid_genes_v2 = gct.query_constructor(STRING_Genes_v2)"
   ]
  },
  {
   "cell_type": "code",
   "execution_count": 10,
   "metadata": {
    "ExecuteTime": {
     "end_time": "2022-04-18T23:25:08.492124Z",
     "start_time": "2022-04-18T23:24:49.469160Z"
    }
   },
   "outputs": [
    {
     "name": "stderr",
     "output_type": "stream",
     "text": [
      "100%|██████████| 20/20 [00:18<00:00,  1.10it/s]"
     ]
    },
    {
     "name": "stdout",
     "output_type": "stream",
     "text": [
      "19385 Matched query results\n",
      "Batch query complete: 19.02 seconds\n"
     ]
    },
    {
     "name": "stderr",
     "output_type": "stream",
     "text": [
      "\n"
     ]
    }
   ],
   "source": [
    "# Set scopes (gene naming systems to search)\n",
    "scopes = \"ensemblprotein\"\n",
    "\n",
    "# Set fields (systems from which to return gene names from)\n",
    "fields = \"symbol, entrezgene\"\n",
    "\n",
    "# Query MyGene.Info\n",
    "match_list_v2 = gct.query_batch(query_string_v2, scopes=scopes, fields=fields)"
   ]
  },
  {
   "cell_type": "code",
   "execution_count": 11,
   "metadata": {
    "ExecuteTime": {
     "end_time": "2022-04-18T23:25:08.495229Z",
     "start_time": "2022-04-18T23:25:08.493015Z"
    }
   },
   "outputs": [
    {
     "data": {
      "text/plain": [
       "{'query': 'ENSP00000328169',\n",
       " '_id': '3714',\n",
       " '_score': 27.463379,\n",
       " 'entrezgene': '3714',\n",
       " 'symbol': 'JAG2'}"
      ]
     },
     "execution_count": 11,
     "metadata": {},
     "output_type": "execute_result"
    }
   ],
   "source": [
    "match_list_v2[0]"
   ]
  },
  {
   "cell_type": "code",
   "execution_count": 12,
   "metadata": {
    "ExecuteTime": {
     "end_time": "2022-04-18T23:25:08.566973Z",
     "start_time": "2022-04-18T23:25:08.496185Z"
    }
   },
   "outputs": [
    {
     "name": "stdout",
     "output_type": "stream",
     "text": [
      "Number of genes with multiple matches: 0\n",
      "Number of unmatched genes: 920\n",
      "Number of fully matched genes: 18441\n",
      "Number of partially matched genes: 944\n"
     ]
    }
   ],
   "source": [
    "# Original 1584\n",
    "match_table_trim_v2, query_to_symbol_v2, query_to_entrez_v2 = gct.construct_query_map_table(match_list_v2, valid_genes_v2)"
   ]
  },
  {
   "cell_type": "markdown",
   "metadata": {},
   "source": [
    "## Construct Converted Network"
   ]
  },
  {
   "cell_type": "code",
   "execution_count": 15,
   "metadata": {
    "ExecuteTime": {
     "end_time": "2022-04-18T23:25:53.550578Z",
     "start_time": "2022-04-18T23:25:45.916383Z"
    }
   },
   "outputs": [
    {
     "name": "stdout",
     "output_type": "stream",
     "text": [
      "CPU times: user 7.21 s, sys: 407 ms, total: 7.62 s\n",
      "Wall time: 7.63 s\n"
     ]
    }
   ],
   "source": [
    "%%time\n",
    "# Convert weighted edge list\n",
    "STRING_edgelist_symbol_v2 = gct.convert_edgelist(query_edgelist_v2, query_to_symbol_v2)"
   ]
  },
  {
   "cell_type": "code",
   "execution_count": 17,
   "metadata": {
    "ExecuteTime": {
     "end_time": "2022-04-18T23:26:21.277257Z",
     "start_time": "2022-04-18T23:26:12.539432Z"
    }
   },
   "outputs": [
    {
     "name": "stdout",
     "output_type": "stream",
     "text": [
      "11938498 input edges\n",
      "40 self-edges removed\n",
      "782338 edges with un-mapped genes removed\n",
      "5593907 duplicate edges removed\n",
      "Edge list filtered: 8.62 seconds\n",
      "5562213 Edges remaining\n"
     ]
    }
   ],
   "source": [
    "# Filter converted edge list\n",
    "STRING_edgelist_symbol_filt_v2 = gct.filter_converted_edgelist(STRING_edgelist_symbol_v2, weight_col=2)"
   ]
  },
  {
   "cell_type": "code",
   "execution_count": null,
   "metadata": {
    "ExecuteTime": {
     "end_time": "2022-04-18T23:25:13.457473Z",
     "start_time": "2022-04-18T23:25:13.457465Z"
    }
   },
   "outputs": [],
   "source": [
    "# Write network to file\n",
    "gct.write_edgelist(STRING_edgelist_symbol_filt_v2, wd+'Processed_Data/Network_SIFs_Symbol/STRING_Symbol_11_5.sif', binary=False)"
   ]
  },
  {
   "cell_type": "code",
   "execution_count": 31,
   "metadata": {
    "ExecuteTime": {
     "end_time": "2022-04-18T23:30:24.319576Z",
     "start_time": "2022-04-18T23:30:19.295500Z"
    }
   },
   "outputs": [
    {
     "name": "stdout",
     "output_type": "stream",
     "text": [
      "90.0% score: 490.0\n",
      "555617 / 5562878 edges retained\n"
     ]
    }
   ],
   "source": [
    "# Create filtered network\n",
    "STRING90_edgelist_v2 = dit.filter_weighted_network_sif(wd+'Processed_Data/Network_SIFs_Symbol/STRING_Symbol_11_5.sif', nodeA_col=0, nodeB_col=1, score_col=2, \n",
    "                                                    q=0.9, delimiter='\\t', verbose=True, \n",
    "                                                       save_path=wd+'Processed_Data/Network_SIFs_Symbol/STRING90_Symbol_11_5.sif')"
   ]
  },
  {
   "cell_type": "markdown",
   "metadata": {},
   "source": [
    "# Version 1.0 (original)"
   ]
  },
  {
   "cell_type": "markdown",
   "metadata": {},
   "source": [
    "## Load STRING Raw Data\n",
    "#### Source: http://string-db.org/download/protein.links.v10.5.txt.gz\n",
    "#### Source (detailed): http://string-db.org/download/protein.links.detailed.v10.5.txt.gz\n",
    "#### File to download: The link labelled 'protein.links.v10.5.txt.gz' is simply the binary file version of the 'detailed' file. The detailed file documents the types of interactions and support for each interaction. It can be used for filtering in the future if desired, but will not be filtered on those categories currently.\n",
    "Downloaded: June 15, 2016  \n",
    "Last Updated: May 14, 2017\t\n",
    "Processing note: This data needs to be filtered for human-only interactions. This is a very long and large file, so we will parse the edges that are human-human interactions only by streaming the file. Then the resulting human-human interaction file will be read to be processed.\n",
    "\n",
    "**2021 Notes:** \n",
    "* It is no longer necessary to download the full dataset and filter for human-human interactions as this is provided directly by STRING (https://stringdb-static.org/download/protein.links.v10.5/9606.protein.links.v10.5.txt.gz)"
   ]
  },
  {
   "cell_type": "code",
   "execution_count": null,
   "metadata": {
    "ExecuteTime": {
     "end_time": "2022-04-18T23:25:13.458959Z",
     "start_time": "2022-04-18T23:25:13.458950Z"
    }
   },
   "outputs": [],
   "source": [
    "# Load and filter STRING for only human-human protein interactions\n",
    "# wd = '/cellar/users/jkhuang/Data/Projects/Network_Analysis/Data/'\n",
    "# starttime=time.time()\n",
    "# g=open(wd+'Network_Data_Raw/STRING/STRING_human_v10.5.txt','w')\n",
    "# with open(wd+'Network_Data_Raw/STRING/protein.links.v10.5.txt') as f:\n",
    "#     for line in f:\n",
    "#         edge = line.split(' ')\n",
    "#         if edge[0].startswith('9606') and edge[1].startswith('9606'):\n",
    "#             g.write(edge[0].split('.')[1]+'\\t'+edge[1].split('.')[1]+'\\t'+edge[2]+'\\n')\n",
    "# print 'Filtered human-human STRING interactions only:', time.time()-starttime, 'seconds'\n",
    "# g.close()"
   ]
  },
  {
   "cell_type": "markdown",
   "metadata": {},
   "source": [
    "## Load human-filtered STRING edges"
   ]
  },
  {
   "cell_type": "code",
   "execution_count": 18,
   "metadata": {
    "ExecuteTime": {
     "end_time": "2022-04-18T23:26:33.913300Z",
     "start_time": "2022-04-18T23:26:30.103973Z"
    }
   },
   "outputs": [
    {
     "name": "stdout",
     "output_type": "stream",
     "text": [
      "Raw Edges in STRING v10.5: 11353056\n"
     ]
    }
   ],
   "source": [
    "STRING_Raw = pd.read_csv(wd+'Network_Data_Raw/STRING/STRING_human_v10.5.txt',sep='\\t',header=None)\n",
    "STRING_Raw.columns = ['NodeA', 'NodeB', 'Score']\n",
    "print('Raw Edges in STRING v10.5:', len(STRING_Raw))"
   ]
  },
  {
   "cell_type": "code",
   "execution_count": 19,
   "metadata": {
    "ExecuteTime": {
     "end_time": "2022-04-18T23:26:49.770753Z",
     "start_time": "2022-04-18T23:26:42.623701Z"
    }
   },
   "outputs": [
    {
     "name": "stdout",
     "output_type": "stream",
     "text": [
      "Raw Edges in STRING v10.5: 11353056\n"
     ]
    }
   ],
   "source": [
    "# 2021: Direct download of STRING data is the same as original filtered data\n",
    "STRING_Raw = pd.read_csv(wd+'Network_Data_Raw/STRING/9606.protein.links.v10.5.txt.gz',sep='\\s+')\n",
    "STRING_Raw.columns = ['NodeA', 'NodeB', 'Score']\n",
    "print('Raw Edges in STRING v10.5:', len(STRING_Raw))"
   ]
  },
  {
   "cell_type": "code",
   "execution_count": 20,
   "metadata": {
    "ExecuteTime": {
     "end_time": "2022-04-18T23:27:01.032354Z",
     "start_time": "2022-04-18T23:26:58.255616Z"
    }
   },
   "outputs": [
    {
     "name": "stdout",
     "output_type": "stream",
     "text": [
      "Edges in STRING v10.5 after dropping duplicates: 11353056\n"
     ]
    }
   ],
   "source": [
    "STRING_Raw_filt = STRING_Raw.drop_duplicates()\n",
    "print('Edges in STRING v10.5 after dropping duplicates:', len(STRING_Raw_filt))"
   ]
  },
  {
   "cell_type": "code",
   "execution_count": 21,
   "metadata": {
    "ExecuteTime": {
     "end_time": "2022-04-18T23:27:14.612697Z",
     "start_time": "2022-04-18T23:27:09.379070Z"
    }
   },
   "outputs": [],
   "source": [
    "STRING_Raw_filt[\"NodeA\"] = [x.split(\"9606.\")[1] if \"9606.\" in x else x for x in STRING_Raw_filt[\"NodeA\"].values]\n",
    "STRING_Raw_filt[\"NodeB\"] = [x.split(\"9606.\")[1] if \"9606.\" in x else x for x in STRING_Raw_filt[\"NodeB\"].values]"
   ]
  },
  {
   "cell_type": "code",
   "execution_count": 22,
   "metadata": {
    "ExecuteTime": {
     "end_time": "2022-04-18T23:27:23.150879Z",
     "start_time": "2022-04-18T23:27:23.146492Z"
    }
   },
   "outputs": [
    {
     "data": {
      "text/html": [
       "<div>\n",
       "<style scoped>\n",
       "    .dataframe tbody tr th:only-of-type {\n",
       "        vertical-align: middle;\n",
       "    }\n",
       "\n",
       "    .dataframe tbody tr th {\n",
       "        vertical-align: top;\n",
       "    }\n",
       "\n",
       "    .dataframe thead th {\n",
       "        text-align: right;\n",
       "    }\n",
       "</style>\n",
       "<table border=\"1\" class=\"dataframe\">\n",
       "  <thead>\n",
       "    <tr style=\"text-align: right;\">\n",
       "      <th></th>\n",
       "      <th>NodeA</th>\n",
       "      <th>NodeB</th>\n",
       "      <th>Score</th>\n",
       "    </tr>\n",
       "  </thead>\n",
       "  <tbody>\n",
       "    <tr>\n",
       "      <th>0</th>\n",
       "      <td>ENSP00000000233</td>\n",
       "      <td>ENSP00000263431</td>\n",
       "      <td>260</td>\n",
       "    </tr>\n",
       "    <tr>\n",
       "      <th>1</th>\n",
       "      <td>ENSP00000000233</td>\n",
       "      <td>ENSP00000353863</td>\n",
       "      <td>164</td>\n",
       "    </tr>\n",
       "    <tr>\n",
       "      <th>2</th>\n",
       "      <td>ENSP00000000233</td>\n",
       "      <td>ENSP00000342026</td>\n",
       "      <td>159</td>\n",
       "    </tr>\n",
       "    <tr>\n",
       "      <th>3</th>\n",
       "      <td>ENSP00000000233</td>\n",
       "      <td>ENSP00000240874</td>\n",
       "      <td>194</td>\n",
       "    </tr>\n",
       "    <tr>\n",
       "      <th>4</th>\n",
       "      <td>ENSP00000000233</td>\n",
       "      <td>ENSP00000379847</td>\n",
       "      <td>164</td>\n",
       "    </tr>\n",
       "  </tbody>\n",
       "</table>\n",
       "</div>"
      ],
      "text/plain": [
       "             NodeA            NodeB  Score\n",
       "0  ENSP00000000233  ENSP00000263431    260\n",
       "1  ENSP00000000233  ENSP00000353863    164\n",
       "2  ENSP00000000233  ENSP00000342026    159\n",
       "3  ENSP00000000233  ENSP00000240874    194\n",
       "4  ENSP00000000233  ENSP00000379847    164"
      ]
     },
     "execution_count": 22,
     "metadata": {},
     "output_type": "execute_result"
    }
   ],
   "source": [
    "STRING_Raw_filt.head()"
   ]
  },
  {
   "cell_type": "code",
   "execution_count": 23,
   "metadata": {
    "ExecuteTime": {
     "end_time": "2022-04-18T23:27:34.026564Z",
     "start_time": "2022-04-18T23:27:31.781855Z"
    }
   },
   "outputs": [],
   "source": [
    "STRING_Genes = list(set(STRING_Raw_filt['NodeA']).union(set(STRING_Raw_filt['NodeB'])))"
   ]
  },
  {
   "cell_type": "code",
   "execution_count": 24,
   "metadata": {
    "ExecuteTime": {
     "end_time": "2022-04-18T23:27:46.787962Z",
     "start_time": "2022-04-18T23:27:42.448957Z"
    }
   },
   "outputs": [],
   "source": [
    "query_edgelist = STRING_Raw_filt[['NodeA', 'NodeB', 'Score']].values.tolist()"
   ]
  },
  {
   "cell_type": "markdown",
   "metadata": {},
   "source": [
    "## Convert Genes from Ensembl Protein to Hugo Symbol"
   ]
  },
  {
   "cell_type": "code",
   "execution_count": 25,
   "metadata": {
    "ExecuteTime": {
     "end_time": "2022-04-18T23:28:03.622453Z",
     "start_time": "2022-04-18T23:28:03.577888Z"
    }
   },
   "outputs": [
    {
     "name": "stdout",
     "output_type": "stream",
     "text": [
      "19576 Valid Query Genes\n",
      "0 Invalid Query Genes\n"
     ]
    }
   ],
   "source": [
    "query_string, valid_genes, invalid_genes = gct.query_constructor(STRING_Genes)"
   ]
  },
  {
   "cell_type": "code",
   "execution_count": 26,
   "metadata": {
    "ExecuteTime": {
     "end_time": "2022-04-18T23:28:35.866949Z",
     "start_time": "2022-04-18T23:28:20.274490Z"
    }
   },
   "outputs": [
    {
     "name": "stderr",
     "output_type": "stream",
     "text": [
      "100%|██████████| 20/20 [00:15<00:00,  1.28it/s]"
     ]
    },
    {
     "name": "stdout",
     "output_type": "stream",
     "text": [
      "19576 Matched query results\n",
      "Batch query complete: 15.59 seconds\n"
     ]
    },
    {
     "name": "stderr",
     "output_type": "stream",
     "text": [
      "\n"
     ]
    }
   ],
   "source": [
    "# Set scopes (gene naming systems to search)\n",
    "scopes = \"ensemblprotein\"\n",
    "\n",
    "# Set fields (systems from which to return gene names from)\n",
    "fields = \"symbol, entrezgene\"\n",
    "\n",
    "# Query MyGene.Info\n",
    "match_list = gct.query_batch(query_string, scopes=scopes, fields=fields)"
   ]
  },
  {
   "cell_type": "code",
   "execution_count": 27,
   "metadata": {
    "ExecuteTime": {
     "end_time": "2022-04-18T23:28:52.563920Z",
     "start_time": "2022-04-18T23:28:52.501921Z"
    }
   },
   "outputs": [
    {
     "name": "stdout",
     "output_type": "stream",
     "text": [
      "Number of genes with multiple matches: 0\n",
      "Number of unmatched genes: 2007\n",
      "Number of fully matched genes: 17531\n",
      "Number of partially matched genes: 2045\n"
     ]
    }
   ],
   "source": [
    "# Original 1584\n",
    "match_table_trim, query_to_symbol, query_to_entrez = gct.construct_query_map_table(match_list, valid_genes)"
   ]
  },
  {
   "cell_type": "markdown",
   "metadata": {},
   "source": [
    "## Construct Converted Network"
   ]
  },
  {
   "cell_type": "code",
   "execution_count": 28,
   "metadata": {
    "ExecuteTime": {
     "end_time": "2022-04-18T23:29:16.314645Z",
     "start_time": "2022-04-18T23:29:09.106119Z"
    }
   },
   "outputs": [
    {
     "name": "stdout",
     "output_type": "stream",
     "text": [
      "CPU times: user 6.85 s, sys: 339 ms, total: 7.19 s\n",
      "Wall time: 7.21 s\n"
     ]
    }
   ],
   "source": [
    "%%time\n",
    "# Convert weighted edge list\n",
    "STRING_edgelist_symbol = gct.convert_edgelist(query_edgelist, query_to_symbol)"
   ]
  },
  {
   "cell_type": "code",
   "execution_count": null,
   "metadata": {
    "ExecuteTime": {
     "end_time": "2022-04-18T23:25:13.465811Z",
     "start_time": "2022-04-18T23:25:13.465803Z"
    }
   },
   "outputs": [],
   "source": [
    "# Filter converted edge list\n",
    "# Original: \n",
    "# 11353056 input edges\n",
    "# 30268 self-edges removed\n",
    "# 1043874 edges with un-mapped genes removed\n",
    "# 5143146 duplicate edges removed\n",
    "# Edge list filtered: 77.42 seconds\n",
    "# 5135768 Edges remaining\n",
    "# STRING_edgelist_symbol_filt = gct.filter_converted_edgelist(STRING_edgelist_symbol, weighted=True)"
   ]
  },
  {
   "cell_type": "code",
   "execution_count": 29,
   "metadata": {
    "ExecuteTime": {
     "end_time": "2022-04-18T23:29:40.649427Z",
     "start_time": "2022-04-18T23:29:33.220136Z"
    }
   },
   "outputs": [
    {
     "name": "stdout",
     "output_type": "stream",
     "text": [
      "11353056 input edges\n",
      "12 self-edges removed\n",
      "1723876 edges with un-mapped genes removed\n",
      "4816966 duplicate edges removed\n",
      "Edge list filtered: 7.33 seconds\n",
      "4812202 Edges remaining\n"
     ]
    }
   ],
   "source": [
    "# Filter converted edge list\n",
    "STRING_edgelist_symbol_filt = gct.filter_converted_edgelist(STRING_edgelist_symbol, weight_col=2)"
   ]
  },
  {
   "cell_type": "code",
   "execution_count": null,
   "metadata": {
    "ExecuteTime": {
     "end_time": "2022-04-18T23:25:13.466826Z",
     "start_time": "2022-04-18T23:25:13.466818Z"
    }
   },
   "outputs": [],
   "source": [
    "# Write network to file\n",
    "gct.write_edgelist(STRING_edgelist_symbol_filt, wd+'Processed_Data/Network_SIFs_Symbol/STRING_Symbol_10_5.sif', binary=False)"
   ]
  },
  {
   "cell_type": "code",
   "execution_count": 30,
   "metadata": {
    "ExecuteTime": {
     "end_time": "2022-04-18T23:30:02.618732Z",
     "start_time": "2022-04-18T23:29:58.197759Z"
    }
   },
   "outputs": [
    {
     "name": "stdout",
     "output_type": "stream",
     "text": [
      "90.0% score: 500.0\n",
      "480895 / 4812355 edges retained\n"
     ]
    }
   ],
   "source": [
    "# Create filtered network\n",
    "STRING90_edgelist = dit.filter_weighted_network_sif(wd+'Processed_Data/Network_SIFs_Symbol/STRING_Symbol_10_5.sif', nodeA_col=0, nodeB_col=1, score_col=2, \n",
    "                                                    q=0.9, delimiter='\\t', verbose=True, \n",
    "                                                    save_path=wd+'Processed_Data/Network_SIFs_Symbol/STRING90_Symbol_10_5.sif')"
   ]
  },
  {
   "cell_type": "markdown",
   "metadata": {},
   "source": [
    "# Changes\n",
    "\n",
    "* We can now download just the human interaction network. This saves disk space and removes need for filtering. \n",
    "* Gene identifiers are prefixed with \"9606.\" so this needs to be removed before processing"
   ]
  },
  {
   "cell_type": "code",
   "execution_count": null,
   "metadata": {
    "ExecuteTime": {
     "end_time": "2022-04-18T23:25:13.467782Z",
     "start_time": "2022-04-18T23:25:13.467774Z"
    }
   },
   "outputs": [],
   "source": [
    "stats = pd.DataFrame({\"v1\":[11353056, 4817119, 4812355], \n",
    "                           \"v2\":[11938498, 5594574, 5562878]},\n",
    "                           index=[\"input\", \"duplicates\", \"filtered\"])"
   ]
  },
  {
   "cell_type": "code",
   "execution_count": null,
   "metadata": {
    "ExecuteTime": {
     "end_time": "2022-04-18T23:25:13.468158Z",
     "start_time": "2022-04-18T23:25:13.468151Z"
    }
   },
   "outputs": [],
   "source": [
    "nodes_v1 = set(np.array(STRING_edgelist_symbol_filt)[:, 0]).union(set(np.array(STRING_edgelist_symbol_filt)[:, 1]))\n",
    "nodes_v2 = set(np.array(STRING_edgelist_symbol_filt_v2)[:, 0]).union(set(np.array(STRING_edgelist_symbol_filt_v2)[:, 1]))\n"
   ]
  },
  {
   "cell_type": "code",
   "execution_count": null,
   "metadata": {
    "ExecuteTime": {
     "end_time": "2022-04-18T23:25:13.468695Z",
     "start_time": "2022-04-18T23:25:13.468688Z"
    }
   },
   "outputs": [],
   "source": [
    "stats.plot.bar(ylabel=\"Number of edges\")\n",
    "plt.figure()\n",
    "plt.bar([\"v1\", \"v2\", \"total difference\", \"new V2\", \"removed V2\"], [len(nodes_v1), len(nodes_v2), len(nodes_v2)-len(nodes_v1),\n",
    "                                                           len(nodes_v2.difference(nodes_v1)), len(nodes_v1.difference(nodes_v2))])\n",
    "plt.ylabel(\"Number of nodes\")"
   ]
  },
  {
   "cell_type": "code",
   "execution_count": 35,
   "metadata": {
    "ExecuteTime": {
     "end_time": "2022-04-18T23:32:01.364521Z",
     "start_time": "2022-04-18T23:32:01.319684Z"
    }
   },
   "outputs": [
    {
     "ename": "KeyError",
     "evalue": "'symbol_n1'",
     "output_type": "error",
     "traceback": [
      "\u001b[0;31m---------------------------------------------------------------------------\u001b[0m",
      "\u001b[0;31mKeyError\u001b[0m                                  Traceback (most recent call last)",
      "\u001b[0;32m~/anaconda3/envs/pcnet_py3/lib/python3.10/site-packages/pandas/core/indexes/base.py\u001b[0m in \u001b[0;36mget_loc\u001b[0;34m(self, key, method, tolerance)\u001b[0m\n\u001b[1;32m   3360\u001b[0m             \u001b[0;32mtry\u001b[0m\u001b[0;34m:\u001b[0m\u001b[0;34m\u001b[0m\u001b[0;34m\u001b[0m\u001b[0m\n\u001b[0;32m-> 3361\u001b[0;31m                 \u001b[0;32mreturn\u001b[0m \u001b[0mself\u001b[0m\u001b[0;34m.\u001b[0m\u001b[0m_engine\u001b[0m\u001b[0;34m.\u001b[0m\u001b[0mget_loc\u001b[0m\u001b[0;34m(\u001b[0m\u001b[0mcasted_key\u001b[0m\u001b[0;34m)\u001b[0m\u001b[0;34m\u001b[0m\u001b[0;34m\u001b[0m\u001b[0m\n\u001b[0m\u001b[1;32m   3362\u001b[0m             \u001b[0;32mexcept\u001b[0m \u001b[0mKeyError\u001b[0m \u001b[0;32mas\u001b[0m \u001b[0merr\u001b[0m\u001b[0;34m:\u001b[0m\u001b[0;34m\u001b[0m\u001b[0;34m\u001b[0m\u001b[0m\n",
      "\u001b[0;32m~/anaconda3/envs/pcnet_py3/lib/python3.10/site-packages/pandas/_libs/index.pyx\u001b[0m in \u001b[0;36mpandas._libs.index.IndexEngine.get_loc\u001b[0;34m()\u001b[0m\n",
      "\u001b[0;32m~/anaconda3/envs/pcnet_py3/lib/python3.10/site-packages/pandas/_libs/index.pyx\u001b[0m in \u001b[0;36mpandas._libs.index.IndexEngine.get_loc\u001b[0;34m()\u001b[0m\n",
      "\u001b[0;32mpandas/_libs/hashtable_class_helper.pxi\u001b[0m in \u001b[0;36mpandas._libs.hashtable.PyObjectHashTable.get_item\u001b[0;34m()\u001b[0m\n",
      "\u001b[0;32mpandas/_libs/hashtable_class_helper.pxi\u001b[0m in \u001b[0;36mpandas._libs.hashtable.PyObjectHashTable.get_item\u001b[0;34m()\u001b[0m\n",
      "\u001b[0;31mKeyError\u001b[0m: 'symbol_n1'",
      "\nThe above exception was the direct cause of the following exception:\n",
      "\u001b[0;31mKeyError\u001b[0m                                  Traceback (most recent call last)",
      "\u001b[0;32m/tmp/ipykernel_133461/434273875.py\u001b[0m in \u001b[0;36m<module>\u001b[0;34m\u001b[0m\n\u001b[0;32m----> 1\u001b[0;31m \u001b[0mlen\u001b[0m\u001b[0;34m(\u001b[0m\u001b[0mset\u001b[0m\u001b[0;34m(\u001b[0m\u001b[0mSTRING90_edgelist\u001b[0m\u001b[0;34m[\u001b[0m\u001b[0;34m\"symbol_n1\"\u001b[0m\u001b[0;34m]\u001b[0m\u001b[0;34m)\u001b[0m\u001b[0;34m.\u001b[0m\u001b[0munion\u001b[0m\u001b[0;34m(\u001b[0m\u001b[0mset\u001b[0m\u001b[0;34m(\u001b[0m\u001b[0mSTRING90_edgelist\u001b[0m\u001b[0;34m[\u001b[0m\u001b[0;34m\"symbol_n2\"\u001b[0m\u001b[0;34m]\u001b[0m\u001b[0;34m)\u001b[0m\u001b[0;34m)\u001b[0m\u001b[0;34m)\u001b[0m\u001b[0;34m\u001b[0m\u001b[0;34m\u001b[0m\u001b[0m\n\u001b[0m",
      "\u001b[0;32m~/anaconda3/envs/pcnet_py3/lib/python3.10/site-packages/pandas/core/frame.py\u001b[0m in \u001b[0;36m__getitem__\u001b[0;34m(self, key)\u001b[0m\n\u001b[1;32m   3456\u001b[0m             \u001b[0;32mif\u001b[0m \u001b[0mself\u001b[0m\u001b[0;34m.\u001b[0m\u001b[0mcolumns\u001b[0m\u001b[0;34m.\u001b[0m\u001b[0mnlevels\u001b[0m \u001b[0;34m>\u001b[0m \u001b[0;36m1\u001b[0m\u001b[0;34m:\u001b[0m\u001b[0;34m\u001b[0m\u001b[0;34m\u001b[0m\u001b[0m\n\u001b[1;32m   3457\u001b[0m                 \u001b[0;32mreturn\u001b[0m \u001b[0mself\u001b[0m\u001b[0;34m.\u001b[0m\u001b[0m_getitem_multilevel\u001b[0m\u001b[0;34m(\u001b[0m\u001b[0mkey\u001b[0m\u001b[0;34m)\u001b[0m\u001b[0;34m\u001b[0m\u001b[0;34m\u001b[0m\u001b[0m\n\u001b[0;32m-> 3458\u001b[0;31m             \u001b[0mindexer\u001b[0m \u001b[0;34m=\u001b[0m \u001b[0mself\u001b[0m\u001b[0;34m.\u001b[0m\u001b[0mcolumns\u001b[0m\u001b[0;34m.\u001b[0m\u001b[0mget_loc\u001b[0m\u001b[0;34m(\u001b[0m\u001b[0mkey\u001b[0m\u001b[0;34m)\u001b[0m\u001b[0;34m\u001b[0m\u001b[0;34m\u001b[0m\u001b[0m\n\u001b[0m\u001b[1;32m   3459\u001b[0m             \u001b[0;32mif\u001b[0m \u001b[0mis_integer\u001b[0m\u001b[0;34m(\u001b[0m\u001b[0mindexer\u001b[0m\u001b[0;34m)\u001b[0m\u001b[0;34m:\u001b[0m\u001b[0;34m\u001b[0m\u001b[0;34m\u001b[0m\u001b[0m\n\u001b[1;32m   3460\u001b[0m                 \u001b[0mindexer\u001b[0m \u001b[0;34m=\u001b[0m \u001b[0;34m[\u001b[0m\u001b[0mindexer\u001b[0m\u001b[0;34m]\u001b[0m\u001b[0;34m\u001b[0m\u001b[0;34m\u001b[0m\u001b[0m\n",
      "\u001b[0;32m~/anaconda3/envs/pcnet_py3/lib/python3.10/site-packages/pandas/core/indexes/base.py\u001b[0m in \u001b[0;36mget_loc\u001b[0;34m(self, key, method, tolerance)\u001b[0m\n\u001b[1;32m   3361\u001b[0m                 \u001b[0;32mreturn\u001b[0m \u001b[0mself\u001b[0m\u001b[0;34m.\u001b[0m\u001b[0m_engine\u001b[0m\u001b[0;34m.\u001b[0m\u001b[0mget_loc\u001b[0m\u001b[0;34m(\u001b[0m\u001b[0mcasted_key\u001b[0m\u001b[0;34m)\u001b[0m\u001b[0;34m\u001b[0m\u001b[0;34m\u001b[0m\u001b[0m\n\u001b[1;32m   3362\u001b[0m             \u001b[0;32mexcept\u001b[0m \u001b[0mKeyError\u001b[0m \u001b[0;32mas\u001b[0m \u001b[0merr\u001b[0m\u001b[0;34m:\u001b[0m\u001b[0;34m\u001b[0m\u001b[0;34m\u001b[0m\u001b[0m\n\u001b[0;32m-> 3363\u001b[0;31m                 \u001b[0;32mraise\u001b[0m \u001b[0mKeyError\u001b[0m\u001b[0;34m(\u001b[0m\u001b[0mkey\u001b[0m\u001b[0;34m)\u001b[0m \u001b[0;32mfrom\u001b[0m \u001b[0merr\u001b[0m\u001b[0;34m\u001b[0m\u001b[0;34m\u001b[0m\u001b[0m\n\u001b[0m\u001b[1;32m   3364\u001b[0m \u001b[0;34m\u001b[0m\u001b[0m\n\u001b[1;32m   3365\u001b[0m         \u001b[0;32mif\u001b[0m \u001b[0mis_scalar\u001b[0m\u001b[0;34m(\u001b[0m\u001b[0mkey\u001b[0m\u001b[0;34m)\u001b[0m \u001b[0;32mand\u001b[0m \u001b[0misna\u001b[0m\u001b[0;34m(\u001b[0m\u001b[0mkey\u001b[0m\u001b[0;34m)\u001b[0m \u001b[0;32mand\u001b[0m \u001b[0;32mnot\u001b[0m \u001b[0mself\u001b[0m\u001b[0;34m.\u001b[0m\u001b[0mhasnans\u001b[0m\u001b[0;34m:\u001b[0m\u001b[0;34m\u001b[0m\u001b[0;34m\u001b[0m\u001b[0m\n",
      "\u001b[0;31mKeyError\u001b[0m: 'symbol_n1'"
     ]
    }
   ],
   "source": [
    "len(set(STRING90_edgelist[\"symbol_n1\"]).union(set(STRING90_edgelist[\"symbol_n2\"])))\n"
   ]
  },
  {
   "cell_type": "code",
   "execution_count": 34,
   "metadata": {
    "ExecuteTime": {
     "end_time": "2022-04-18T23:31:43.267135Z",
     "start_time": "2022-04-18T23:31:42.606843Z"
    }
   },
   "outputs": [
    {
     "data": {
      "text/plain": [
       "18419"
      ]
     },
     "execution_count": 34,
     "metadata": {},
     "output_type": "execute_result"
    }
   ],
   "source": [
    "len(set(STRING_edgelist_symbol_filt_v2[\"symbol_n1\"]).union(set(STRING_edgelist_symbol_filt_v2[\"symbol_n2\"])))\n"
   ]
  }
 ],
 "metadata": {
  "kernelspec": {
   "display_name": "Python [conda env:pcnet_py3]",
   "language": "python",
   "name": "conda-env-pcnet_py3-py"
  },
  "language_info": {
   "codemirror_mode": {
    "name": "ipython",
    "version": 3
   },
   "file_extension": ".py",
   "mimetype": "text/x-python",
   "name": "python",
   "nbconvert_exporter": "python",
   "pygments_lexer": "ipython3",
   "version": "3.10.0"
  },
  "toc": {
   "base_numbering": 1,
   "nav_menu": {},
   "number_sections": true,
   "sideBar": true,
   "skip_h1_title": false,
   "title_cell": "Table of Contents",
   "title_sidebar": "Contents",
   "toc_cell": false,
   "toc_position": {},
   "toc_section_display": true,
   "toc_window_display": false
  },
  "varInspector": {
   "cols": {
    "lenName": 16,
    "lenType": 16,
    "lenVar": 40
   },
   "kernels_config": {
    "python": {
     "delete_cmd_postfix": "",
     "delete_cmd_prefix": "del ",
     "library": "var_list.py",
     "varRefreshCmd": "print(var_dic_list())"
    },
    "r": {
     "delete_cmd_postfix": ") ",
     "delete_cmd_prefix": "rm(",
     "library": "var_list.r",
     "varRefreshCmd": "cat(var_dic_list()) "
    }
   },
   "types_to_exclude": [
    "module",
    "function",
    "builtin_function_or_method",
    "instance",
    "_Feature"
   ],
   "window_display": false
  }
 },
 "nbformat": 4,
 "nbformat_minor": 1
}
