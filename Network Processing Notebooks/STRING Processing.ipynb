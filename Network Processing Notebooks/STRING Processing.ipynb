{
 "cells": [
  {
   "cell_type": "code",
   "execution_count": 1,
   "metadata": {
    "ExecuteTime": {
     "end_time": "2022-01-05T20:20:21.405363Z",
     "start_time": "2022-01-05T20:20:03.562945Z"
    }
   },
   "outputs": [],
   "source": [
    "from network_evaluation_tools import gene_conversion_tools as gct\n",
    "from network_evaluation_tools import data_import_tools as dit\n",
    "import pandas as pd\n",
    "import time\n",
    "import matplotlib.pyplot as plt"
   ]
  },
  {
   "cell_type": "code",
   "execution_count": 2,
   "metadata": {
    "ExecuteTime": {
     "end_time": "2022-01-05T20:20:23.646465Z",
     "start_time": "2022-01-05T20:20:23.644452Z"
    }
   },
   "outputs": [],
   "source": [
    "wd = '/cellar/users/snwright/Data/Network_Analysis/'"
   ]
  },
  {
   "cell_type": "markdown",
   "metadata": {},
   "source": [
    "# Version 2.0"
   ]
  },
  {
   "cell_type": "markdown",
   "metadata": {},
   "source": [
    "## Load STRING Raw Data\n",
    "#### Source https://stringdb-static.org/download/protein.links.v11.5/9606.protein.links.v11.5.txt.gz\n",
    "Downloaded: Oct 30, 2021 \n",
    "Last Updated: August 12, 2021\n",
    "\n",
    "**Notes:** \n",
    "* Could also look at using 9606.protein.links.full.v11.5.txt.gz (133.6 Mb)\tprotein network data (incl. distinction: direct vs. interologs)"
   ]
  },
  {
   "cell_type": "code",
   "execution_count": 17,
   "metadata": {
    "ExecuteTime": {
     "end_time": "2022-01-05T20:33:50.631662Z",
     "start_time": "2022-01-05T20:33:43.111746Z"
    }
   },
   "outputs": [
    {
     "name": "stdout",
     "output_type": "stream",
     "text": [
      "Raw Edges in STRING v11.5: 11938498\n"
     ]
    }
   ],
   "source": [
    "# 2021: Direct download of STRING data is the same as original filtered data\n",
    "STRING_Raw_v2 = pd.read_csv(wd+'Network_Data_Raw/STRING/9606.protein.links.v11.5.txt.gz',sep='\\s+')\n",
    "STRING_Raw_v2.columns = ['NodeA', 'NodeB', 'Score']\n",
    "print('Raw Edges in STRING v11.5:', len(STRING_Raw_v2))"
   ]
  },
  {
   "cell_type": "code",
   "execution_count": 18,
   "metadata": {
    "ExecuteTime": {
     "end_time": "2022-01-05T20:35:45.289569Z",
     "start_time": "2022-01-05T20:35:42.336956Z"
    }
   },
   "outputs": [
    {
     "name": "stdout",
     "output_type": "stream",
     "text": [
      "Edges in STRING v11.5 after dropping duplicates: 11938498\n"
     ]
    }
   ],
   "source": [
    "STRING_Raw_filt_v2 = STRING_Raw_v2.drop_duplicates()\n",
    "print('Edges in STRING v11.5 after dropping duplicates:', len(STRING_Raw_filt_v2))"
   ]
  },
  {
   "cell_type": "code",
   "execution_count": 20,
   "metadata": {
    "ExecuteTime": {
     "end_time": "2022-01-05T20:36:39.550089Z",
     "start_time": "2022-01-05T20:36:34.048695Z"
    }
   },
   "outputs": [],
   "source": [
    "STRING_Raw_filt_v2[\"NodeA\"] = [x.split(\"9606.\")[1] if \"9606.\" in x else x for x in STRING_Raw_filt_v2[\"NodeA\"].values]\n",
    "STRING_Raw_filt_v2[\"NodeB\"] = [x.split(\"9606.\")[1] if \"9606.\" in x else x for x in STRING_Raw_filt_v2[\"NodeB\"].values]"
   ]
  },
  {
   "cell_type": "code",
   "execution_count": 21,
   "metadata": {
    "ExecuteTime": {
     "end_time": "2022-01-05T20:37:05.946874Z",
     "start_time": "2022-01-05T20:37:03.637861Z"
    }
   },
   "outputs": [],
   "source": [
    "STRING_Genes_v2 = list(set(STRING_Raw_filt_v2['NodeA']).union(set(STRING_Raw_filt_v2['NodeB'])))"
   ]
  },
  {
   "cell_type": "code",
   "execution_count": 22,
   "metadata": {
    "ExecuteTime": {
     "end_time": "2022-01-05T20:37:36.982503Z",
     "start_time": "2022-01-05T20:37:30.453849Z"
    }
   },
   "outputs": [],
   "source": [
    "query_edgelist_v2 = STRING_Raw_filt_v2[['NodeA', 'NodeB', 'Score']].values.tolist()"
   ]
  },
  {
   "cell_type": "markdown",
   "metadata": {},
   "source": [
    "## Convert Genes from Ensembl Protein to Hugo Symbol"
   ]
  },
  {
   "cell_type": "code",
   "execution_count": 23,
   "metadata": {
    "ExecuteTime": {
     "end_time": "2022-01-05T20:38:27.476299Z",
     "start_time": "2022-01-05T20:38:27.431489Z"
    }
   },
   "outputs": [
    {
     "name": "stdout",
     "output_type": "stream",
     "text": [
      "19385 Valid Query Genes\n",
      "0 Invalid Query Genes\n"
     ]
    }
   ],
   "source": [
    "query_string_v2, valid_genes_v2, invalid_genes_v2 = gct.query_constructor(STRING_Genes_v2)"
   ]
  },
  {
   "cell_type": "code",
   "execution_count": 24,
   "metadata": {
    "ExecuteTime": {
     "end_time": "2022-01-05T20:39:34.780335Z",
     "start_time": "2022-01-05T20:39:17.826802Z"
    }
   },
   "outputs": [
    {
     "name": "stderr",
     "output_type": "stream",
     "text": [
      "100%|██████████| 20/20 [00:16<00:00,  1.19it/s]"
     ]
    },
    {
     "name": "stdout",
     "output_type": "stream",
     "text": [
      "19385 Matched query results\n",
      "Batch query complete: 16.95 seconds\n"
     ]
    },
    {
     "name": "stderr",
     "output_type": "stream",
     "text": [
      "\n"
     ]
    }
   ],
   "source": [
    "# Set scopes (gene naming systems to search)\n",
    "scopes = \"ensemblprotein\"\n",
    "\n",
    "# Set fields (systems from which to return gene names from)\n",
    "fields = \"symbol, entrezgene\"\n",
    "\n",
    "# Query MyGene.Info\n",
    "match_list_v2 = gct.query_batch(query_string_v2, scopes=scopes, fields=fields)"
   ]
  },
  {
   "cell_type": "code",
   "execution_count": 25,
   "metadata": {
    "ExecuteTime": {
     "end_time": "2022-01-05T20:40:30.039339Z",
     "start_time": "2022-01-05T20:40:26.101107Z"
    }
   },
   "outputs": [
    {
     "name": "stdout",
     "output_type": "stream",
     "text": [
      "Queries without full matching results found: 942\n",
      "\n",
      "0 Queries with mutliple matches found\n",
      "\n",
      "Query mapping table/dictionary construction complete: 3.93 seconds\n"
     ]
    }
   ],
   "source": [
    "# Original 1584\n",
    "match_table_trim_v2, query_to_symbol_v2, query_to_entrez_v2 = gct.construct_query_map_table(match_list_v2, valid_genes_v2)"
   ]
  },
  {
   "cell_type": "markdown",
   "metadata": {},
   "source": [
    "## Construct Converted Network"
   ]
  },
  {
   "cell_type": "code",
   "execution_count": 26,
   "metadata": {
    "ExecuteTime": {
     "end_time": "2022-01-05T20:41:27.715112Z",
     "start_time": "2022-01-05T20:41:20.980405Z"
    }
   },
   "outputs": [
    {
     "name": "stdout",
     "output_type": "stream",
     "text": [
      "CPU times: user 6.27 s, sys: 422 ms, total: 6.69 s\n",
      "Wall time: 6.73 s\n"
     ]
    }
   ],
   "source": [
    "%%time\n",
    "# Convert weighted edge list\n",
    "STRING_edgelist_symbol_v2 = gct.convert_edgelist(query_edgelist_v2, query_to_symbol_v2, weighted=True)"
   ]
  },
  {
   "cell_type": "code",
   "execution_count": 28,
   "metadata": {
    "ExecuteTime": {
     "end_time": "2022-01-05T20:43:45.687201Z",
     "start_time": "2022-01-05T20:43:12.680638Z"
    }
   },
   "outputs": [
    {
     "name": "stdout",
     "output_type": "stream",
     "text": [
      "11938498 input edges\n",
      "40 self-edges removed\n",
      "781006 edges with un-mapped genes removed\n",
      "5594574 duplicate edges removed\n",
      "Edge list filtered: 32.62 seconds\n",
      "5562878 Edges remaining\n"
     ]
    }
   ],
   "source": [
    "# Filter converted edge list\n",
    "STRING_edgelist_symbol_filt_v2 = gct.filter_converted_edgelist(STRING_edgelist_symbol_v2, weighted=True)"
   ]
  },
  {
   "cell_type": "code",
   "execution_count": 29,
   "metadata": {
    "ExecuteTime": {
     "end_time": "2022-01-05T20:44:44.577618Z",
     "start_time": "2022-01-05T20:44:36.897088Z"
    }
   },
   "outputs": [
    {
     "name": "stdout",
     "output_type": "stream",
     "text": [
      "Edge list saved: 7.68 seconds\n"
     ]
    }
   ],
   "source": [
    "# Write network to file\n",
    "gct.write_edgelist(STRING_edgelist_symbol_filt_v2, wd+'Processed_Data/Network_SIFs_Symbol/STRING_Symbol_11_5.sif', binary=False)"
   ]
  },
  {
   "cell_type": "code",
   "execution_count": 30,
   "metadata": {
    "ExecuteTime": {
     "end_time": "2022-01-05T20:45:40.165419Z",
     "start_time": "2022-01-05T20:45:35.152899Z"
    }
   },
   "outputs": [
    {
     "name": "stdout",
     "output_type": "stream",
     "text": [
      "90.0% score: 490.0\n",
      "555617 / 5562878 edges retained\n"
     ]
    }
   ],
   "source": [
    "# Create filtered network\n",
    "STRING90_edgelist_v2 = dit.filter_weighted_network_sif(wd+'Processed_Data/Network_SIFs_Symbol/STRING_Symbol_11_5.sif', nodeA_col=0, nodeB_col=1, score_col=2, \n",
    "                                                    q=0.9, delimiter='\\t', verbose=True, \n",
    "                                                       save_path=wd+'Processed_Data/Network_SIFs_Symbol/STRING90_Symbol_11_5.sif')"
   ]
  },
  {
   "cell_type": "markdown",
   "metadata": {},
   "source": [
    "# Version 1.0 (original)"
   ]
  },
  {
   "cell_type": "markdown",
   "metadata": {},
   "source": [
    "## Load STRING Raw Data\n",
    "#### Source: http://string-db.org/download/protein.links.v10.5.txt.gz\n",
    "#### Source (detailed): http://string-db.org/download/protein.links.detailed.v10.5.txt.gz\n",
    "#### File to download: The link labelled 'protein.links.v10.5.txt.gz' is simply the binary file version of the 'detailed' file. The detailed file documents the types of interactions and support for each interaction. It can be used for filtering in the future if desired, but will not be filtered on those categories currently.\n",
    "Downloaded: June 15, 2016  \n",
    "Last Updated: May 14, 2017\t\n",
    "Processing note: This data needs to be filtered for human-only interactions. This is a very long and large file, so we will parse the edges that are human-human interactions only by streaming the file. Then the resulting human-human interaction file will be read to be processed.\n",
    "\n",
    "**2021 Notes:** \n",
    "* It is no longer necessary to download the full dataset and filter for human-human interactions as this is provided directly by STRING (https://stringdb-static.org/download/protein.links.v10.5/9606.protein.links.v10.5.txt.gz)"
   ]
  },
  {
   "cell_type": "code",
   "execution_count": 8,
   "metadata": {
    "ExecuteTime": {
     "end_time": "2021-12-23T01:02:49.061824Z",
     "start_time": "2021-12-23T01:02:49.058698Z"
    }
   },
   "outputs": [],
   "source": [
    "# Load and filter STRING for only human-human protein interactions\n",
    "# wd = '/cellar/users/jkhuang/Data/Projects/Network_Analysis/Data/'\n",
    "# starttime=time.time()\n",
    "# g=open(wd+'Network_Data_Raw/STRING/STRING_human_v10.5.txt','w')\n",
    "# with open(wd+'Network_Data_Raw/STRING/protein.links.v10.5.txt') as f:\n",
    "#     for line in f:\n",
    "#         edge = line.split(' ')\n",
    "#         if edge[0].startswith('9606') and edge[1].startswith('9606'):\n",
    "#             g.write(edge[0].split('.')[1]+'\\t'+edge[1].split('.')[1]+'\\t'+edge[2]+'\\n')\n",
    "# print 'Filtered human-human STRING interactions only:', time.time()-starttime, 'seconds'\n",
    "# g.close()"
   ]
  },
  {
   "cell_type": "markdown",
   "metadata": {},
   "source": [
    "## Load human-filtered STRING edges"
   ]
  },
  {
   "cell_type": "code",
   "execution_count": 3,
   "metadata": {
    "ExecuteTime": {
     "end_time": "2022-01-05T20:20:29.863203Z",
     "start_time": "2022-01-05T20:20:25.907239Z"
    }
   },
   "outputs": [
    {
     "name": "stdout",
     "output_type": "stream",
     "text": [
      "Raw Edges in STRING v10.5: 11353056\n"
     ]
    }
   ],
   "source": [
    "STRING_Raw = pd.read_csv(wd+'Network_Data_Raw/STRING/STRING_human_v10.5.txt',sep='\\t',header=None)\n",
    "STRING_Raw.columns = ['NodeA', 'NodeB', 'Score']\n",
    "print('Raw Edges in STRING v10.5:', len(STRING_Raw))"
   ]
  },
  {
   "cell_type": "code",
   "execution_count": 4,
   "metadata": {
    "ExecuteTime": {
     "end_time": "2022-01-05T20:20:37.363532Z",
     "start_time": "2022-01-05T20:20:30.144047Z"
    }
   },
   "outputs": [
    {
     "name": "stdout",
     "output_type": "stream",
     "text": [
      "Raw Edges in STRING v10.5: 11353056\n"
     ]
    }
   ],
   "source": [
    "# 2021: Direct download of STRING data is the same as original filtered data\n",
    "STRING_Raw = pd.read_csv(wd+'Network_Data_Raw/STRING/9606.protein.links.v10.5.txt.gz',sep='\\s+')\n",
    "STRING_Raw.columns = ['NodeA', 'NodeB', 'Score']\n",
    "print('Raw Edges in STRING v10.5:', len(STRING_Raw))"
   ]
  },
  {
   "cell_type": "code",
   "execution_count": 5,
   "metadata": {
    "ExecuteTime": {
     "end_time": "2022-01-05T20:20:40.425090Z",
     "start_time": "2022-01-05T20:20:37.397038Z"
    }
   },
   "outputs": [
    {
     "name": "stdout",
     "output_type": "stream",
     "text": [
      "Edges in STRING v10.5 after dropping duplicates: 11353056\n"
     ]
    }
   ],
   "source": [
    "STRING_Raw_filt = STRING_Raw.drop_duplicates()\n",
    "print('Edges in STRING v10.5 after dropping duplicates:', len(STRING_Raw_filt))"
   ]
  },
  {
   "cell_type": "code",
   "execution_count": 6,
   "metadata": {
    "ExecuteTime": {
     "end_time": "2022-01-05T20:20:45.635127Z",
     "start_time": "2022-01-05T20:20:40.465280Z"
    }
   },
   "outputs": [],
   "source": [
    "STRING_Raw_filt[\"NodeA\"] = [x.split(\"9606.\")[1] if \"9606.\" in x else x for x in STRING_Raw_filt[\"NodeA\"].values]\n",
    "STRING_Raw_filt[\"NodeB\"] = [x.split(\"9606.\")[1] if \"9606.\" in x else x for x in STRING_Raw_filt[\"NodeB\"].values]"
   ]
  },
  {
   "cell_type": "code",
   "execution_count": 12,
   "metadata": {
    "ExecuteTime": {
     "end_time": "2022-01-05T19:23:06.738073Z",
     "start_time": "2022-01-05T19:23:06.733908Z"
    }
   },
   "outputs": [
    {
     "data": {
      "text/html": [
       "<div>\n",
       "<style scoped>\n",
       "    .dataframe tbody tr th:only-of-type {\n",
       "        vertical-align: middle;\n",
       "    }\n",
       "\n",
       "    .dataframe tbody tr th {\n",
       "        vertical-align: top;\n",
       "    }\n",
       "\n",
       "    .dataframe thead th {\n",
       "        text-align: right;\n",
       "    }\n",
       "</style>\n",
       "<table border=\"1\" class=\"dataframe\">\n",
       "  <thead>\n",
       "    <tr style=\"text-align: right;\">\n",
       "      <th></th>\n",
       "      <th>NodeA</th>\n",
       "      <th>NodeB</th>\n",
       "      <th>Score</th>\n",
       "    </tr>\n",
       "  </thead>\n",
       "  <tbody>\n",
       "    <tr>\n",
       "      <th>0</th>\n",
       "      <td>ENSP00000000233</td>\n",
       "      <td>ENSP00000263431</td>\n",
       "      <td>260</td>\n",
       "    </tr>\n",
       "    <tr>\n",
       "      <th>1</th>\n",
       "      <td>ENSP00000000233</td>\n",
       "      <td>ENSP00000353863</td>\n",
       "      <td>164</td>\n",
       "    </tr>\n",
       "    <tr>\n",
       "      <th>2</th>\n",
       "      <td>ENSP00000000233</td>\n",
       "      <td>ENSP00000342026</td>\n",
       "      <td>159</td>\n",
       "    </tr>\n",
       "    <tr>\n",
       "      <th>3</th>\n",
       "      <td>ENSP00000000233</td>\n",
       "      <td>ENSP00000240874</td>\n",
       "      <td>194</td>\n",
       "    </tr>\n",
       "    <tr>\n",
       "      <th>4</th>\n",
       "      <td>ENSP00000000233</td>\n",
       "      <td>ENSP00000379847</td>\n",
       "      <td>164</td>\n",
       "    </tr>\n",
       "  </tbody>\n",
       "</table>\n",
       "</div>"
      ],
      "text/plain": [
       "             NodeA            NodeB  Score\n",
       "0  ENSP00000000233  ENSP00000263431    260\n",
       "1  ENSP00000000233  ENSP00000353863    164\n",
       "2  ENSP00000000233  ENSP00000342026    159\n",
       "3  ENSP00000000233  ENSP00000240874    194\n",
       "4  ENSP00000000233  ENSP00000379847    164"
      ]
     },
     "execution_count": 12,
     "metadata": {},
     "output_type": "execute_result"
    }
   ],
   "source": [
    "STRING_Raw_filt.head()"
   ]
  },
  {
   "cell_type": "code",
   "execution_count": 7,
   "metadata": {
    "ExecuteTime": {
     "end_time": "2022-01-05T20:20:47.943094Z",
     "start_time": "2022-01-05T20:20:45.675255Z"
    }
   },
   "outputs": [],
   "source": [
    "STRING_Genes = list(set(STRING_Raw_filt['NodeA']).union(set(STRING_Raw_filt['NodeB'])))"
   ]
  },
  {
   "cell_type": "code",
   "execution_count": 8,
   "metadata": {
    "ExecuteTime": {
     "end_time": "2022-01-05T20:20:53.970956Z",
     "start_time": "2022-01-05T20:20:47.998487Z"
    }
   },
   "outputs": [],
   "source": [
    "query_edgelist = STRING_Raw_filt[['NodeA', 'NodeB', 'Score']].values.tolist()"
   ]
  },
  {
   "cell_type": "markdown",
   "metadata": {},
   "source": [
    "## Convert Genes from Ensembl Protein to Hugo Symbol"
   ]
  },
  {
   "cell_type": "code",
   "execution_count": 9,
   "metadata": {
    "ExecuteTime": {
     "end_time": "2022-01-05T20:21:18.096901Z",
     "start_time": "2022-01-05T20:21:18.052317Z"
    }
   },
   "outputs": [
    {
     "name": "stdout",
     "output_type": "stream",
     "text": [
      "19576 Valid Query Genes\n",
      "0 Invalid Query Genes\n"
     ]
    }
   ],
   "source": [
    "query_string, valid_genes, invalid_genes = gct.query_constructor(STRING_Genes)"
   ]
  },
  {
   "cell_type": "code",
   "execution_count": 10,
   "metadata": {
    "ExecuteTime": {
     "end_time": "2022-01-05T20:21:58.615488Z",
     "start_time": "2022-01-05T20:21:41.963879Z"
    }
   },
   "outputs": [
    {
     "name": "stderr",
     "output_type": "stream",
     "text": [
      "100%|██████████| 20/20 [00:16<00:00,  1.21it/s]"
     ]
    },
    {
     "name": "stdout",
     "output_type": "stream",
     "text": [
      "19576 Matched query results\n",
      "Batch query complete: 16.65 seconds\n"
     ]
    },
    {
     "name": "stderr",
     "output_type": "stream",
     "text": [
      "\n"
     ]
    }
   ],
   "source": [
    "# Set scopes (gene naming systems to search)\n",
    "scopes = \"ensemblprotein\"\n",
    "\n",
    "# Set fields (systems from which to return gene names from)\n",
    "fields = \"symbol, entrezgene\"\n",
    "\n",
    "# Query MyGene.Info\n",
    "match_list = gct.query_batch(query_string, scopes=scopes, fields=fields)"
   ]
  },
  {
   "cell_type": "code",
   "execution_count": 11,
   "metadata": {
    "ExecuteTime": {
     "end_time": "2022-01-05T20:22:27.179342Z",
     "start_time": "2022-01-05T20:22:22.673940Z"
    }
   },
   "outputs": [
    {
     "name": "stdout",
     "output_type": "stream",
     "text": [
      "Queries without full matching results found: 2044\n",
      "\n",
      "0 Queries with mutliple matches found\n",
      "\n",
      "Query mapping table/dictionary construction complete: 4.5 seconds\n"
     ]
    }
   ],
   "source": [
    "# Original 1584\n",
    "match_table_trim, query_to_symbol, query_to_entrez = gct.construct_query_map_table(match_list, valid_genes)"
   ]
  },
  {
   "cell_type": "markdown",
   "metadata": {},
   "source": [
    "## Construct Converted Network"
   ]
  },
  {
   "cell_type": "code",
   "execution_count": 12,
   "metadata": {
    "ExecuteTime": {
     "end_time": "2022-01-05T20:22:59.284127Z",
     "start_time": "2022-01-05T20:22:52.380471Z"
    }
   },
   "outputs": [
    {
     "name": "stdout",
     "output_type": "stream",
     "text": [
      "CPU times: user 6.02 s, sys: 386 ms, total: 6.41 s\n",
      "Wall time: 6.9 s\n"
     ]
    }
   ],
   "source": [
    "%%time\n",
    "# Convert weighted edge list\n",
    "STRING_edgelist_symbol = gct.convert_edgelist(query_edgelist, query_to_symbol, weighted=True)"
   ]
  },
  {
   "cell_type": "code",
   "execution_count": 19,
   "metadata": {
    "ExecuteTime": {
     "end_time": "2022-01-05T19:24:51.250618Z",
     "start_time": "2022-01-05T19:24:45.013138Z"
    }
   },
   "outputs": [
    {
     "name": "stdout",
     "output_type": "stream",
     "text": [
      "11353056 input edges\n",
      "12 self-edges removed\n",
      "1723570 edges with un-mapped genes removed\n",
      "4764 duplicate edges removed\n",
      "Edge list filtered: 6.17 seconds\n",
      "9624710 Edges remaining\n"
     ]
    }
   ],
   "source": [
    "# Filter converted edge list\n",
    "# Original: \n",
    "# 11353056 input edges\n",
    "# 30268 self-edges removed\n",
    "# 1043874 edges with un-mapped genes removed\n",
    "# 5143146 duplicate edges removed\n",
    "# Edge list filtered: 77.42 seconds\n",
    "# 5135768 Edges remaining\n",
    "# STRING_edgelist_symbol_filt = gct.filter_converted_edgelist(STRING_edgelist_symbol, weighted=True)"
   ]
  },
  {
   "cell_type": "code",
   "execution_count": 13,
   "metadata": {
    "ExecuteTime": {
     "end_time": "2022-01-05T20:24:18.117319Z",
     "start_time": "2022-01-05T20:23:49.821318Z"
    }
   },
   "outputs": [
    {
     "name": "stdout",
     "output_type": "stream",
     "text": [
      "11353056 input edges\n",
      "12 self-edges removed\n",
      "1723570 edges with un-mapped genes removed\n",
      "4817119 duplicate edges removed\n",
      "Edge list filtered: 27.97 seconds\n",
      "4812355 Edges remaining\n"
     ]
    }
   ],
   "source": [
    "# Filter converted edge list\n",
    "STRING_edgelist_symbol_filt = gct.filter_converted_edgelist(STRING_edgelist_symbol, weighted=True)"
   ]
  },
  {
   "cell_type": "code",
   "execution_count": 15,
   "metadata": {
    "ExecuteTime": {
     "end_time": "2022-01-05T20:26:51.204008Z",
     "start_time": "2022-01-05T20:26:44.585329Z"
    }
   },
   "outputs": [
    {
     "name": "stdout",
     "output_type": "stream",
     "text": [
      "Edge list saved: 6.62 seconds\n"
     ]
    }
   ],
   "source": [
    "# Write network to file\n",
    "gct.write_edgelist(STRING_edgelist_symbol_filt, wd+'Processed_Data/Network_SIFs_Symbol/STRING_Symbol_10_5.sif', binary=False)"
   ]
  },
  {
   "cell_type": "code",
   "execution_count": 27,
   "metadata": {
    "ExecuteTime": {
     "end_time": "2022-01-05T20:42:22.361483Z",
     "start_time": "2022-01-05T20:42:18.130201Z"
    }
   },
   "outputs": [
    {
     "name": "stdout",
     "output_type": "stream",
     "text": [
      "90.0% score: 500.0\n",
      "480895 / 4812355 edges retained\n"
     ]
    }
   ],
   "source": [
    "# Create filtered network\n",
    "STRING90_edgelist = dit.filter_weighted_network_sif(wd+'Processed_Data/Network_SIFs_Symbol/STRING_Symbol_10_5.sif', nodeA_col=0, nodeB_col=1, score_col=2, \n",
    "                                                    q=0.9, delimiter='\\t', verbose=True, \n",
    "                                                    save_path=wd+'Processed_Data/Network_SIFs_Symbol/STRING90_Symbol_10_5.sif')"
   ]
  },
  {
   "cell_type": "markdown",
   "metadata": {},
   "source": [
    "# Changes\n",
    "\n",
    "* We can now download just the human interaction network. This saves disk space and removes need for filtering. \n",
    "* Gene identifiers are prefixed with \"9606.\" so this needs to be removed before processing"
   ]
  },
  {
   "cell_type": "code",
   "execution_count": 32,
   "metadata": {
    "ExecuteTime": {
     "end_time": "2022-01-05T21:37:54.082396Z",
     "start_time": "2022-01-05T21:37:54.079958Z"
    }
   },
   "outputs": [],
   "source": [
    "stats = pd.DataFrame({\"v1\":[11353056, 4817119, 4812355], \n",
    "                           \"v2\":[11938498, 5594574, 5562878]},\n",
    "                           index=[\"input\", \"duplicates\", \"filtered\"])"
   ]
  },
  {
   "cell_type": "code",
   "execution_count": 31,
   "metadata": {
    "ExecuteTime": {
     "end_time": "2022-01-05T21:37:03.677706Z",
     "start_time": "2022-01-05T21:37:00.728154Z"
    }
   },
   "outputs": [],
   "source": [
    "nodes_v1 = set(np.array(STRING_edgelist_symbol_filt)[:, 0]).union(set(np.array(STRING_edgelist_symbol_filt)[:, 1]))\n",
    "nodes_v2 = set(np.array(STRING_edgelist_symbol_filt_v2)[:, 0]).union(set(np.array(STRING_edgelist_symbol_filt_v2)[:, 1]))\n"
   ]
  },
  {
   "cell_type": "code",
   "execution_count": 33,
   "metadata": {
    "ExecuteTime": {
     "end_time": "2022-01-05T21:38:46.820260Z",
     "start_time": "2022-01-05T21:38:44.695567Z"
    }
   },
   "outputs": [
    {
     "data": {
      "text/plain": [
       "Text(0, 0.5, 'Number of nodes')"
      ]
     },
     "execution_count": 33,
     "metadata": {},
     "output_type": "execute_result"
    },
    {
     "data": {
      "image/png": "[encoded data removed]",
      "text/plain": [
       "<Figure size 432x288 with 1 Axes>"
      ]
     },
     "metadata": {
      "needs_background": "light"
     },
     "output_type": "display_data"
    },
    {
     "data": {
      "image/png": "[encoded data removed]",
      "text/plain": [
       "<Figure size 432x288 with 1 Axes>"
      ]
     },
     "metadata": {
      "needs_background": "light"
     },
     "output_type": "display_data"
    }
   ],
   "source": [
    "stats.plot.bar(ylabel=\"Number of edges\")\n",
    "plt.figure()\n",
    "plt.bar([\"v1\", \"v2\", \"total difference\", \"new V2\", \"removed V2\"], [len(nodes_v1), len(nodes_v2), len(nodes_v2)-len(nodes_v1),\n",
    "                                                           len(nodes_v2.difference(nodes_v1)), len(nodes_v1.difference(nodes_v2))])\n",
    "plt.ylabel(\"Number of nodes\")"
   ]
  }
 ],
 "metadata": {
  "kernelspec": {
   "display_name": "Python [conda env:pcnet_py3]",
   "language": "python",
   "name": "conda-env-pcnet_py3-py"
  },
  "language_info": {
   "codemirror_mode": {
    "name": "ipython",
    "version": 3
   },
   "file_extension": ".py",
   "mimetype": "text/x-python",
   "name": "python",
   "nbconvert_exporter": "python",
   "pygments_lexer": "ipython3",
   "version": "3.10.0"
  },
  "toc": {
   "base_numbering": 1,
   "nav_menu": {},
   "number_sections": true,
   "sideBar": true,
   "skip_h1_title": false,
   "title_cell": "Table of Contents",
   "title_sidebar": "Contents",
   "toc_cell": false,
   "toc_position": {},
   "toc_section_display": true,
   "toc_window_display": false
  },
  "varInspector": {
   "cols": {
    "lenName": 16,
    "lenType": 16,
    "lenVar": 40
   },
   "kernels_config": {
    "python": {
     "delete_cmd_postfix": "",
     "delete_cmd_prefix": "del ",
     "library": "var_list.py",
     "varRefreshCmd": "print(var_dic_list())"
    },
    "r": {
     "delete_cmd_postfix": ") ",
     "delete_cmd_prefix": "rm(",
     "library": "var_list.r",
     "varRefreshCmd": "cat(var_dic_list()) "
    }
   },
   "types_to_exclude": [
    "module",
    "function",
    "builtin_function_or_method",
    "instance",
    "_Feature"
   ],
   "window_display": false
  }
 },
 "nbformat": 4,
 "nbformat_minor": 1
}
