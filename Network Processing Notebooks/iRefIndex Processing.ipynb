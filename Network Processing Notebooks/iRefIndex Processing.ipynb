{
 "cells": [
  {
   "cell_type": "code",
   "execution_count": 34,
   "metadata": {
    "ExecuteTime": {
     "end_time": "2021-11-19T01:53:11.168659Z",
     "start_time": "2021-11-19T01:53:11.165228Z"
    }
   },
   "outputs": [],
   "source": [
    "from network_evaluation_tools import gene_conversion_tools as gct\n",
    "from network_evaluation_tools import data_import_tools as dit\n",
    "import pandas as pd\n",
    "import itertools\n",
    "import time\n",
    "import matplotlib.pyplot as plt"
   ]
  },
  {
   "cell_type": "code",
   "execution_count": 2,
   "metadata": {
    "ExecuteTime": {
     "end_time": "2021-11-19T01:44:15.971178Z",
     "start_time": "2021-11-19T01:44:15.969522Z"
    }
   },
   "outputs": [],
   "source": [
    "wd = '/cellar/users/snwright/Data/Network_Analysis/'"
   ]
  },
  {
   "cell_type": "markdown",
   "metadata": {},
   "source": [
    "# Version 2"
   ]
  },
  {
   "cell_type": "markdown",
   "metadata": {},
   "source": [
    "## Load iRefIndex Raw Data\n",
    "#### Source (MITAB): http://irefindex.org/download/irefindex/data/archive/release_14.0/psi_mitab/MITAB2.6/9606.mitab.07042015.txt.zip\n",
    "Downloaded: November 16, 2021 \n",
    "Last Updated: June 11, 2021  \n",
    "Notes for processing: This is the file for human protein interactions, however, not all interactions are human-human interactions. These need to be filtered. Also all ID's not without RefSeq or UniProt ID are excluded. Custom processing for this network is described below\n",
    "### From iRefIndex Mapping Documentation Page:\n",
    "\"We have made a file which provides mappings between iRefIndex identifiers and popular external identifiers. The current files contain all UniProt and RefSeq identifiers known to the current version of iRefIndex as documented on the sources page. For specific source documentation, see the sources for each released version.  \n",
    "  \n",
    "Other database identifiers are provided as database/accession pairs only when the iRefIndex identifier (ROGID) does not have a corresponding UniProt or RefSeq record with an identical sequence.\"  \n",
    "  \n",
    "Therefore: Interactions containing an ROGID identifier will be removed"
   ]
  },
  {
   "cell_type": "code",
   "execution_count": 3,
   "metadata": {
    "ExecuteTime": {
     "end_time": "2021-11-19T01:44:56.593457Z",
     "start_time": "2021-11-19T01:44:15.972217Z"
    }
   },
   "outputs": [
    {
     "name": "stdout",
     "output_type": "stream",
     "text": [
      "Raw edge count in iRefIndex: 3602589\n"
     ]
    }
   ],
   "source": [
    "\n",
    "iRefIndex_Raw = pd.read_csv(wd+'Network_Data_Raw/iRefIndex/9606.mitab.06-11-2021.txt.zip',sep='\\t')\n",
    "print('Raw edge count in iRefIndex:', len(iRefIndex_Raw))"
   ]
  },
  {
   "cell_type": "code",
   "execution_count": 4,
   "metadata": {
    "ExecuteTime": {
     "end_time": "2021-11-19T01:44:57.688668Z",
     "start_time": "2021-11-19T01:44:56.595214Z"
    }
   },
   "outputs": [
    {
     "name": "stdout",
     "output_type": "stream",
     "text": [
      "Human-Human only interactions in iRefIndex: 2179732\n"
     ]
    }
   ],
   "source": [
    "# Keep only human-human interactions\n",
    "iRef_Human_only = iRefIndex_Raw[(iRefIndex_Raw['taxa']=='taxid:9606(Homo sapiens)') & (iRefIndex_Raw['taxb']=='taxid:9606(Homo sapiens)')]\n",
    "print('Human-Human only interactions in iRefIndex:', len(iRef_Human_only))"
   ]
  },
  {
   "cell_type": "code",
   "execution_count": 5,
   "metadata": {
    "ExecuteTime": {
     "end_time": "2021-11-19T01:44:58.042502Z",
     "start_time": "2021-11-19T01:44:57.689883Z"
    }
   },
   "outputs": [],
   "source": [
    "# Extract gene list\n",
    "Human_iRef_Genes = list(set(iRef_Human_only['#uidA']).union(set(iRef_Human_only['uidB'])))"
   ]
  },
  {
   "cell_type": "code",
   "execution_count": 6,
   "metadata": {
    "ExecuteTime": {
     "end_time": "2021-11-19T01:44:58.061813Z",
     "start_time": "2021-11-19T01:44:58.043817Z"
    }
   },
   "outputs": [
    {
     "name": "stdout",
     "output_type": "stream",
     "text": [
      "['uniprotkb', 'refseq', 'rogid']\n"
     ]
    }
   ],
   "source": [
    "# Get all iRef prefixes\n",
    "prefixes=[]\n",
    "for gene in Human_iRef_Genes:\n",
    "    prefix=gene.split(':')[0]\n",
    "    if prefix not in prefixes:\n",
    "        prefixes.append(prefix)\n",
    "print(prefixes)"
   ]
  },
  {
   "cell_type": "code",
   "execution_count": 7,
   "metadata": {
    "ExecuteTime": {
     "end_time": "2021-11-19T01:44:59.252059Z",
     "start_time": "2021-11-19T01:44:58.062831Z"
    }
   },
   "outputs": [
    {
     "name": "stdout",
     "output_type": "stream",
     "text": [
      "2179732 Human iRefIndex Edges\n"
     ]
    }
   ],
   "source": [
    "# Get edge list of network\n",
    "query_edgelist = iRef_Human_only[['#uidA','uidB']].values.tolist()\n",
    "print(len(query_edgelist), \"Human iRefIndex Edges\")"
   ]
  },
  {
   "cell_type": "markdown",
   "metadata": {},
   "source": [
    "## Convert Genes"
   ]
  },
  {
   "cell_type": "code",
   "execution_count": 8,
   "metadata": {
    "ExecuteTime": {
     "end_time": "2021-11-19T01:44:59.343439Z",
     "start_time": "2021-11-19T01:44:59.253883Z"
    }
   },
   "outputs": [
    {
     "name": "stdout",
     "output_type": "stream",
     "text": [
      "31039 Valid Query Genes\n",
      "918 Invalid Query Genes\n"
     ]
    }
   ],
   "source": [
    "# Construct list of genes to be submitted to MyGene.Info API (remove all genes with 'rogid' prefix)\n",
    "# This should only keep uniprotkb and refseq as queries\n",
    "query_string, valid_genes, invalid_genes = gct.query_constructor(Human_iRef_Genes, exclude_prefixes=['rogid'])"
   ]
  },
  {
   "cell_type": "code",
   "execution_count": 9,
   "metadata": {
    "ExecuteTime": {
     "end_time": "2021-11-19T01:45:27.276178Z",
     "start_time": "2021-11-19T01:44:59.344381Z"
    }
   },
   "outputs": [
    {
     "name": "stdout",
     "output_type": "stream",
     "text": [
      "8571 / 2179732 edges with invalid nodes removed\n"
     ]
    }
   ],
   "source": [
    "# filter edgelist because len(invalid_genes) > 0\n",
    "query_edgelist_filt = gct.filter_query_edgelist(query_edgelist, invalid_genes)"
   ]
  },
  {
   "cell_type": "code",
   "execution_count": 10,
   "metadata": {
    "ExecuteTime": {
     "end_time": "2021-11-19T01:45:49.422147Z",
     "start_time": "2021-11-19T01:45:27.277941Z"
    }
   },
   "outputs": [
    {
     "name": "stderr",
     "output_type": "stream",
     "text": [
      "100%|██████████| 32/32 [00:22<00:00,  1.45it/s]"
     ]
    },
    {
     "name": "stdout",
     "output_type": "stream",
     "text": [
      "31290 Matched query results\n",
      "Batch query complete: 22.14 seconds\n",
      "31290 Matched query results\n"
     ]
    },
    {
     "name": "stderr",
     "output_type": "stream",
     "text": [
      "\n"
     ]
    }
   ],
   "source": [
    "# Set scopes (gene naming systems to search)\n",
    "scopes = \"uniprot, refseq\"\n",
    "\n",
    "# Set fields (systems from which to return gene names from)\n",
    "fields = \"symbol, entrezgene\"\n",
    "\n",
    "# Query MyGene.Info\n",
    "match_list = gct.query_batch(query_string, scopes=scopes, fields=fields)\n",
    "print(len(match_list), 'Matched query results')"
   ]
  },
  {
   "cell_type": "code",
   "execution_count": 11,
   "metadata": {
    "ExecuteTime": {
     "end_time": "2021-11-19T01:46:13.493917Z",
     "start_time": "2021-11-19T01:45:49.422988Z"
    },
    "scrolled": true
   },
   "outputs": [
    {
     "name": "stdout",
     "output_type": "stream",
     "text": [
      "Queries without full matching results found: 9020\n",
      "\n",
      "196 Queries with mutliple matches found\n",
      "\n",
      "Query mapping table/dictionary construction complete: 24.07 seconds\n"
     ]
    }
   ],
   "source": [
    "match_table_trim, query_to_symbol, query_to_entrez = gct.construct_query_map_table(match_list, valid_genes)"
   ]
  },
  {
   "cell_type": "markdown",
   "metadata": {},
   "source": [
    "## Construct Converted Network"
   ]
  },
  {
   "cell_type": "code",
   "execution_count": 12,
   "metadata": {
    "ExecuteTime": {
     "end_time": "2021-11-19T01:46:16.064686Z",
     "start_time": "2021-11-19T01:46:13.494825Z"
    }
   },
   "outputs": [],
   "source": [
    "# Format edge list by removing prefix indicators from all interactors\n",
    "query_edgelist_filt_fmt = [[gct.get_identifier_without_prefix(edge[0]),gct.get_identifier_without_prefix(edge[1])] for edge in query_edgelist_filt]"
   ]
  },
  {
   "cell_type": "code",
   "execution_count": 13,
   "metadata": {
    "ExecuteTime": {
     "end_time": "2021-11-19T01:46:17.275359Z",
     "start_time": "2021-11-19T01:46:16.065734Z"
    }
   },
   "outputs": [],
   "source": [
    "# Convert network edge list to symbol\n",
    "iRefIndex_edgelist_symbol = gct.convert_edgelist(query_edgelist_filt_fmt, query_to_symbol)"
   ]
  },
  {
   "cell_type": "code",
   "execution_count": 14,
   "metadata": {
    "ExecuteTime": {
     "end_time": "2021-11-19T01:46:17.842865Z",
     "start_time": "2021-11-19T01:46:17.276357Z"
    }
   },
   "outputs": [
    {
     "name": "stdout",
     "output_type": "stream",
     "text": [
      "2171161 input edges\n",
      "43168 self-edges removed\n",
      "504796 edges with un-mapped genes removed\n",
      "1158180 duplicate edges removed\n",
      "Edge list filtered: 0.55 seconds\n",
      "465017 Edges remaining\n"
     ]
    }
   ],
   "source": [
    "# Filter converted edge list\n",
    "iRefIndex_edgelist_symbol_filt = gct.filter_converted_edgelist(iRefIndex_edgelist_symbol)"
   ]
  },
  {
   "cell_type": "code",
   "execution_count": 15,
   "metadata": {
    "ExecuteTime": {
     "end_time": "2021-11-19T01:46:18.286235Z",
     "start_time": "2021-11-19T01:46:17.843695Z"
    }
   },
   "outputs": [
    {
     "name": "stdout",
     "output_type": "stream",
     "text": [
      "Edge list saved: 0.44 seconds\n"
     ]
    }
   ],
   "source": [
    "# Save filtered, converted edge list to file\n",
    "gct.write_edgelist(iRefIndex_edgelist_symbol_filt, wd+'Processed_Data/Network_SIFs_Symbol/iRefIndex_Symbol_2021.sif')"
   ]
  },
  {
   "cell_type": "markdown",
   "metadata": {},
   "source": [
    "# Version 1 (Original)"
   ]
  },
  {
   "cell_type": "markdown",
   "metadata": {},
   "source": [
    "## Load iRefIndex Raw Data\n",
    "#### Source (MITAB): http://irefindex.org/download/irefindex/data/archive/release_14.0/psi_mitab/MITAB2.6/9606.mitab.07042015.txt.zip\n",
    "Downloaded: July 28, 2016  \n",
    "Last Updated: April 20, 2015  \n",
    "Notes for processing: This is the file for human protein interactions, however, not all interactions are human-human interactions. These need to be filtered. Also all ID's not without RefSeq or UniProt ID are excluded. Custom processing for this network is described below\n",
    "### From iRefIndex Mapping Documentation Page:\n",
    "\"We have made a file which provides mappings between iRefIndex identifiers and popular external identifiers. The current files contain all UniProt and RefSeq identifiers known to the current version of iRefIndex as documented on the sources page. For specific source documentation, see the sources for each released version.  \n",
    "  \n",
    "Other database identifiers are provided as database/accession pairs only when the iRefIndex identifier (ROGID) does not have a corresponding UniProt or RefSeq record with an identical sequence.\"  \n",
    "  \n",
    "Therefore: Interactions containing an ROGID identifier will be removed"
   ]
  },
  {
   "cell_type": "code",
   "execution_count": 16,
   "metadata": {
    "ExecuteTime": {
     "end_time": "2021-11-19T01:46:24.711212Z",
     "start_time": "2021-11-19T01:46:18.287046Z"
    }
   },
   "outputs": [
    {
     "name": "stdout",
     "output_type": "stream",
     "text": [
      "Raw edge count in iRefIndex: 673100\n"
     ]
    }
   ],
   "source": [
    "iRefIndex_Raw_v1 = pd.read_csv(wd+'Network_Data_Raw/iRefIndex/9606.mitab.04072015.txt',sep='\\t')\n",
    "print('Raw edge count in iRefIndex:', len(iRefIndex_Raw_v1))"
   ]
  },
  {
   "cell_type": "code",
   "execution_count": 17,
   "metadata": {
    "ExecuteTime": {
     "end_time": "2021-11-19T01:46:24.937898Z",
     "start_time": "2021-11-19T01:46:24.712216Z"
    }
   },
   "outputs": [
    {
     "name": "stdout",
     "output_type": "stream",
     "text": [
      "Human-Human only interactions in iRefIndex: 485030\n"
     ]
    }
   ],
   "source": [
    "# Keep only human-human interactions\n",
    "iRef_Human_only_v1 = iRefIndex_Raw_v1[(iRefIndex_Raw_v1['taxa']=='taxid:9606(Homo sapiens)') & (iRefIndex_Raw_v1['taxb']=='taxid:9606(Homo sapiens)')]\n",
    "print('Human-Human only interactions in iRefIndex:', len(iRef_Human_only_v1))"
   ]
  },
  {
   "cell_type": "code",
   "execution_count": 18,
   "metadata": {
    "ExecuteTime": {
     "end_time": "2021-11-19T01:46:25.020478Z",
     "start_time": "2021-11-19T01:46:24.938926Z"
    }
   },
   "outputs": [],
   "source": [
    "# Extract gene list\n",
    "Human_iRef_Genes_v1 = list(set(iRef_Human_only_v1['#uidA']).union(set(iRef_Human_only_v1['uidB'])))"
   ]
  },
  {
   "cell_type": "code",
   "execution_count": 19,
   "metadata": {
    "ExecuteTime": {
     "end_time": "2021-11-19T01:46:25.037873Z",
     "start_time": "2021-11-19T01:46:25.021431Z"
    }
   },
   "outputs": [
    {
     "name": "stdout",
     "output_type": "stream",
     "text": [
      "['uniprotkb', 'refseq', 'rogid']\n"
     ]
    }
   ],
   "source": [
    "# Get all iRef prefixes\n",
    "prefixes=[]\n",
    "for gene in Human_iRef_Genes_v1:\n",
    "    prefix=gene.split(':')[0]\n",
    "    if prefix not in prefixes:\n",
    "        prefixes.append(prefix)\n",
    "print(prefixes)"
   ]
  },
  {
   "cell_type": "code",
   "execution_count": 20,
   "metadata": {
    "ExecuteTime": {
     "end_time": "2021-11-19T01:46:25.100756Z",
     "start_time": "2021-11-19T01:46:25.038655Z"
    }
   },
   "outputs": [
    {
     "name": "stdout",
     "output_type": "stream",
     "text": [
      "485030 Human iRefIndex Edges\n"
     ]
    }
   ],
   "source": [
    "# Get edge list of network\n",
    "query_edgelist_v1 = iRef_Human_only_v1[['#uidA','uidB']].values.tolist()\n",
    "print(len(query_edgelist_v1), \"Human iRefIndex Edges\")"
   ]
  },
  {
   "cell_type": "markdown",
   "metadata": {},
   "source": [
    "## Convert Genes"
   ]
  },
  {
   "cell_type": "code",
   "execution_count": 21,
   "metadata": {
    "ExecuteTime": {
     "end_time": "2021-11-19T01:46:25.168454Z",
     "start_time": "2021-11-19T01:46:25.101692Z"
    }
   },
   "outputs": [
    {
     "name": "stdout",
     "output_type": "stream",
     "text": [
      "23906 Valid Query Genes\n",
      "945 Invalid Query Genes\n"
     ]
    }
   ],
   "source": [
    "# Construct list of genes to be submitted to MyGene.Info API (remove all genes with 'rogid' prefix)\n",
    "# This should only keep uniprotkb and refseq as queries\n",
    "query_string_v1, valid_genes_v1, invalid_genes_v1 = gct.query_constructor(Human_iRef_Genes_v1, exclude_prefixes=['rogid'])"
   ]
  },
  {
   "cell_type": "code",
   "execution_count": 22,
   "metadata": {
    "ExecuteTime": {
     "end_time": "2021-11-19T01:46:31.409160Z",
     "start_time": "2021-11-19T01:46:25.169221Z"
    }
   },
   "outputs": [
    {
     "name": "stdout",
     "output_type": "stream",
     "text": [
      "6305 / 485030 edges with invalid nodes removed\n"
     ]
    }
   ],
   "source": [
    "# filter edgelist because len(invalid_genes) > 0\n",
    "query_edgelist_filt_v1 = gct.filter_query_edgelist(query_edgelist_v1, invalid_genes_v1)"
   ]
  },
  {
   "cell_type": "code",
   "execution_count": 23,
   "metadata": {
    "ExecuteTime": {
     "end_time": "2021-11-19T01:46:49.161786Z",
     "start_time": "2021-11-19T01:46:31.410189Z"
    }
   },
   "outputs": [
    {
     "name": "stderr",
     "output_type": "stream",
     "text": [
      "100%|██████████| 24/24 [00:17<00:00,  1.35it/s]"
     ]
    },
    {
     "name": "stdout",
     "output_type": "stream",
     "text": [
      "24088 Matched query results\n",
      "Batch query complete: 17.75 seconds\n",
      "24088 Matched query results\n"
     ]
    },
    {
     "name": "stderr",
     "output_type": "stream",
     "text": [
      "\n"
     ]
    }
   ],
   "source": [
    "# Set scopes (gene naming systems to search)\n",
    "scopes = \"uniprot, refseq\"\n",
    "\n",
    "# Set fields (systems from which to return gene names from)\n",
    "fields = \"symbol, entrezgene\"\n",
    "\n",
    "# Query MyGene.Info\n",
    "match_list_v1 = gct.query_batch(query_string_v1, scopes=scopes, fields=fields)\n",
    "print(len(match_list_v1), 'Matched query results')"
   ]
  },
  {
   "cell_type": "code",
   "execution_count": 24,
   "metadata": {
    "ExecuteTime": {
     "end_time": "2021-11-19T01:47:03.573021Z",
     "start_time": "2021-11-19T01:46:49.162665Z"
    },
    "scrolled": true
   },
   "outputs": [
    {
     "name": "stdout",
     "output_type": "stream",
     "text": [
      "Queries without full matching results found: 6583\n",
      "\n",
      "137 Queries with mutliple matches found\n",
      "\n",
      "Query mapping table/dictionary construction complete: 14.41 seconds\n"
     ]
    }
   ],
   "source": [
    "match_table_trim_v1, query_to_symbol_v1, query_to_entrez_v1 = gct.construct_query_map_table(match_list_v1, valid_genes_v1)"
   ]
  },
  {
   "cell_type": "markdown",
   "metadata": {},
   "source": [
    "## Construct Converted Network"
   ]
  },
  {
   "cell_type": "code",
   "execution_count": 25,
   "metadata": {
    "ExecuteTime": {
     "end_time": "2021-11-19T01:47:04.438255Z",
     "start_time": "2021-11-19T01:47:03.573882Z"
    }
   },
   "outputs": [],
   "source": [
    "# Format edge list by removing prefix indicators from all interactors\n",
    "query_edgelist_filt_fmt_v1 = [[gct.get_identifier_without_prefix(edge[0]),gct.get_identifier_without_prefix(edge[1])] for edge in query_edgelist_filt_v1]"
   ]
  },
  {
   "cell_type": "code",
   "execution_count": 26,
   "metadata": {
    "ExecuteTime": {
     "end_time": "2021-11-19T01:47:04.718665Z",
     "start_time": "2021-11-19T01:47:04.439238Z"
    }
   },
   "outputs": [],
   "source": [
    "# Convert network edge list to symbol\n",
    "iRefIndex_edgelist_symbol_v1 = gct.convert_edgelist(query_edgelist_filt_fmt_v1, query_to_symbol_v1)"
   ]
  },
  {
   "cell_type": "code",
   "execution_count": 27,
   "metadata": {
    "ExecuteTime": {
     "end_time": "2021-11-19T01:47:04.847454Z",
     "start_time": "2021-11-19T01:47:04.719656Z"
    }
   },
   "outputs": [
    {
     "name": "stdout",
     "output_type": "stream",
     "text": [
      "478725 input edges\n",
      "12077 self-edges removed\n",
      "168006 edges with un-mapped genes removed\n",
      "166987 duplicate edges removed\n",
      "Edge list filtered: 0.12 seconds\n",
      "131655 Edges remaining\n"
     ]
    }
   ],
   "source": [
    "# Filter converted edge list\n",
    "iRefIndex_edgelist_symbol_filt_v1 = gct.filter_converted_edgelist(iRefIndex_edgelist_symbol_v1)"
   ]
  },
  {
   "cell_type": "code",
   "execution_count": 28,
   "metadata": {
    "ExecuteTime": {
     "end_time": "2021-11-19T01:47:04.976756Z",
     "start_time": "2021-11-19T01:47:04.850618Z"
    }
   },
   "outputs": [
    {
     "name": "stdout",
     "output_type": "stream",
     "text": [
      "Edge list saved: 0.12 seconds\n"
     ]
    }
   ],
   "source": [
    "# Save filtered, converted edge list to file\n",
    "gct.write_edgelist(iRefIndex_edgelist_symbol_filt_v1, wd+'Processed_Data/Network_SIFs_Symbol/iRefIndex_Symbol_2015.sif')"
   ]
  },
  {
   "cell_type": "markdown",
   "metadata": {},
   "source": [
    "# Changes"
   ]
  },
  {
   "cell_type": "code",
   "execution_count": 29,
   "metadata": {
    "ExecuteTime": {
     "end_time": "2021-11-19T01:50:48.209160Z",
     "start_time": "2021-11-19T01:50:48.206715Z"
    }
   },
   "outputs": [],
   "source": [
    "\n",
    "stats = pd.DataFrame({\"v1\":[673100, 485030, 131655], \n",
    "                           \"v2\":[3602589, 2179732, 465017]},\n",
    "                           index=[\"input\", \"human_human\", \"filtered\"])"
   ]
  },
  {
   "cell_type": "code",
   "execution_count": 32,
   "metadata": {
    "ExecuteTime": {
     "end_time": "2021-11-19T01:52:41.977132Z",
     "start_time": "2021-11-19T01:52:41.941055Z"
    }
   },
   "outputs": [],
   "source": [
    "nodes_v1 = set(iRefIndex_edgelist_symbol_filt_v1[\"symbol_n1\"].values).union(set(iRefIndex_edgelist_symbol_filt_v1[\"symbol_n2\"].values))\n",
    "nodes_v2 = set(iRefIndex_edgelist_symbol_filt[\"symbol_n1\"].values).union(set(iRefIndex_edgelist_symbol_filt[\"symbol_n2\"].values))"
   ]
  },
  {
   "cell_type": "code",
   "execution_count": 35,
   "metadata": {
    "ExecuteTime": {
     "end_time": "2021-11-19T01:53:22.822576Z",
     "start_time": "2021-11-19T01:53:22.280439Z"
    }
   },
   "outputs": [
    {
     "data": {
      "text/plain": [
       "Text(0, 0.5, 'Number of nodes')"
      ]
     },
     "execution_count": 35,
     "metadata": {},
     "output_type": "execute_result"
    },
    {
     "data": {
      "image/png": "[encoded data removed]",
      "text/plain": [
       "<Figure size 432x288 with 1 Axes>"
      ]
     },
     "metadata": {
      "needs_background": "light"
     },
     "output_type": "display_data"
    },
    {
     "data": {
      "image/png": "[encoded data removed]",
      "text/plain": [
       "<Figure size 432x288 with 1 Axes>"
      ]
     },
     "metadata": {
      "needs_background": "light"
     },
     "output_type": "display_data"
    }
   ],
   "source": [
    "stats.plot.bar(ylabel=\"Number of edges\")\n",
    "plt.figure()\n",
    "plt.bar([\"v1\", \"v2\", \"total difference\", \"new V2\", \"removed V2\"], [len(nodes_v1), len(nodes_v2), len(nodes_v2)-len(nodes_v1),\n",
    "                                                           len(nodes_v2.difference(nodes_v1)), len(nodes_v1.difference(nodes_v2))])\n",
    "plt.ylabel(\"Number of nodes\")"
   ]
  },
  {
   "cell_type": "code",
   "execution_count": null,
   "metadata": {},
   "outputs": [],
   "source": []
  }
 ],
 "metadata": {
  "kernelspec": {
   "display_name": "Python [conda env:pcnet_py3]",
   "language": "python",
   "name": "conda-env-pcnet_py3-py"
  },
  "language_info": {
   "codemirror_mode": {
    "name": "ipython",
    "version": 3
   },
   "file_extension": ".py",
   "mimetype": "text/x-python",
   "name": "python",
   "nbconvert_exporter": "python",
   "pygments_lexer": "ipython3",
   "version": "3.10.0"
  },
  "toc": {
   "base_numbering": 1,
   "nav_menu": {},
   "number_sections": true,
   "sideBar": true,
   "skip_h1_title": false,
   "title_cell": "Table of Contents",
   "title_sidebar": "Contents",
   "toc_cell": false,
   "toc_position": {},
   "toc_section_display": true,
   "toc_window_display": false
  },
  "varInspector": {
   "cols": {
    "lenName": 16,
    "lenType": 16,
    "lenVar": 40
   },
   "kernels_config": {
    "python": {
     "delete_cmd_postfix": "",
     "delete_cmd_prefix": "del ",
     "library": "var_list.py",
     "varRefreshCmd": "print(var_dic_list())"
    },
    "r": {
     "delete_cmd_postfix": ") ",
     "delete_cmd_prefix": "rm(",
     "library": "var_list.r",
     "varRefreshCmd": "cat(var_dic_list()) "
    }
   },
   "types_to_exclude": [
    "module",
    "function",
    "builtin_function_or_method",
    "instance",
    "_Feature"
   ],
   "window_display": false
  }
 },
 "nbformat": 4,
 "nbformat_minor": 1
}
