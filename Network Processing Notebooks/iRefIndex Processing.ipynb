{
 "cells": [
  {
   "cell_type": "code",
   "execution_count": 1,
   "metadata": {
    "ExecuteTime": {
     "end_time": "2022-04-18T22:58:27.131898Z",
     "start_time": "2022-04-18T22:58:24.792965Z"
    }
   },
   "outputs": [],
   "source": [
    "from network_evaluation_tools import gene_conversion_tools as gct\n",
    "from network_evaluation_tools import data_import_tools as dit\n",
    "import pandas as pd\n",
    "import itertools\n",
    "import time\n",
    "import matplotlib.pyplot as plt"
   ]
  },
  {
   "cell_type": "code",
   "execution_count": 2,
   "metadata": {
    "ExecuteTime": {
     "end_time": "2022-04-18T22:58:27.134468Z",
     "start_time": "2022-04-18T22:58:27.132991Z"
    }
   },
   "outputs": [],
   "source": [
    "wd = '/cellar/users/snwright/Data/Network_Analysis/'"
   ]
  },
  {
   "cell_type": "markdown",
   "metadata": {},
   "source": [
    "# Version 2"
   ]
  },
  {
   "cell_type": "markdown",
   "metadata": {},
   "source": [
    "## Load iRefIndex Raw Data\n",
    "**Source (MITAB):**  http://irefindex.org/download/irefindex/data/archive/release_14.0/psi_mitab/MITAB2.6/9606.mitab.07042015.txt.zip  \n",
    "Downloaded: November 16, 2021 \n",
    "Last Updated: June 11, 2021  \n",
    "Notes for processing: This is the file for human protein interactions, however, not all interactions are human-human interactions. These need to be filtered. Also all ID's not without RefSeq or UniProt ID are excluded. Custom processing for this network is described below  \n",
    "  \n",
    "**From iRefIndex Mapping Documentation Page:**  \n",
    "\"We have made a file which provides mappings between iRefIndex identifiers and popular external identifiers. The current files contain all UniProt and RefSeq identifiers known to the current version of iRefIndex as documented on the sources page. For specific source documentation, see the sources for each released version.  \n",
    "  \n",
    "Other database identifiers are provided as database/accession pairs only when the iRefIndex identifier (ROGID) does not have a corresponding UniProt or RefSeq record with an identical sequence.\"  \n",
    "  \n",
    "Therefore: Interactions containing an ROGID identifier will be removed"
   ]
  },
  {
   "cell_type": "code",
   "execution_count": 3,
   "metadata": {
    "ExecuteTime": {
     "end_time": "2022-04-18T22:59:08.114305Z",
     "start_time": "2022-04-18T22:58:27.135396Z"
    }
   },
   "outputs": [
    {
     "name": "stdout",
     "output_type": "stream",
     "text": [
      "Raw edge count in iRefIndex: 3602589\n"
     ]
    }
   ],
   "source": [
    "input_raw_v2 = pd.read_csv(wd+'Network_Data_Raw/iRefIndex/9606.mitab.06-11-2021.txt.zip',sep='\\t')\n",
    "print('Raw edge count in iRefIndex:', len(input_raw_v2))"
   ]
  },
  {
   "cell_type": "code",
   "execution_count": 4,
   "metadata": {
    "ExecuteTime": {
     "end_time": "2022-04-18T22:59:09.217216Z",
     "start_time": "2022-04-18T22:59:08.115909Z"
    }
   },
   "outputs": [
    {
     "name": "stdout",
     "output_type": "stream",
     "text": [
      "Human-Human only interactions in iRefIndex: 2179732\n"
     ]
    }
   ],
   "source": [
    "# Keep only human-human interactions\n",
    "input_human_v2 = input_raw_v2[(input_raw_v2['taxa']=='taxid:9606(Homo sapiens)') & (input_raw_v2['taxb']=='taxid:9606(Homo sapiens)')]\n",
    "print('Human-Human only interactions in iRefIndex:', len(input_human_v2))"
   ]
  },
  {
   "cell_type": "code",
   "execution_count": 5,
   "metadata": {
    "ExecuteTime": {
     "end_time": "2022-04-18T22:59:09.566728Z",
     "start_time": "2022-04-18T22:59:09.218120Z"
    }
   },
   "outputs": [],
   "source": [
    "# Extract gene list\n",
    "genes_v2 = list(set(input_human_v2['#uidA']).union(set(input_human_v2['uidB'])))"
   ]
  },
  {
   "cell_type": "code",
   "execution_count": 6,
   "metadata": {
    "ExecuteTime": {
     "end_time": "2022-04-18T22:59:09.584618Z",
     "start_time": "2022-04-18T22:59:09.567674Z"
    }
   },
   "outputs": [
    {
     "name": "stdout",
     "output_type": "stream",
     "text": [
      "['uniprotkb', 'refseq', 'rogid']\n"
     ]
    }
   ],
   "source": [
    "# Get all iRef prefixes\n",
    "prefixes=[]\n",
    "for gene in genes_v2:\n",
    "    prefix=gene.split(':')[0]\n",
    "    if prefix not in prefixes:\n",
    "        prefixes.append(prefix)\n",
    "print(prefixes)"
   ]
  },
  {
   "cell_type": "code",
   "execution_count": 7,
   "metadata": {
    "ExecuteTime": {
     "end_time": "2022-04-18T22:59:10.727019Z",
     "start_time": "2022-04-18T22:59:09.585451Z"
    }
   },
   "outputs": [
    {
     "name": "stdout",
     "output_type": "stream",
     "text": [
      "2179732 Human iRefIndex Edges\n"
     ]
    }
   ],
   "source": [
    "# Get edge list of network\n",
    "edgelist_v2 = input_human_v2[['#uidA','uidB']].values.tolist()\n",
    "print(len(edgelist_v2), \"Human iRefIndex Edges\")"
   ]
  },
  {
   "cell_type": "markdown",
   "metadata": {},
   "source": [
    "## Convert Genes"
   ]
  },
  {
   "cell_type": "code",
   "execution_count": 8,
   "metadata": {
    "ExecuteTime": {
     "end_time": "2022-04-18T22:59:10.816668Z",
     "start_time": "2022-04-18T22:59:10.727996Z"
    }
   },
   "outputs": [
    {
     "name": "stdout",
     "output_type": "stream",
     "text": [
      "31039 Valid Query Genes\n",
      "918 Invalid Query Genes\n"
     ]
    }
   ],
   "source": [
    "# Construct list of genes to be submitted to MyGene.Info API (remove all genes with 'rogid' prefix)\n",
    "# This should only keep uniprotkb and refseq as queries\n",
    "query_string_v2, valid_genes_v2, invalid_genes_v2 = gct.query_constructor(genes_v2, exclude_prefixes=['rogid'])"
   ]
  },
  {
   "cell_type": "code",
   "execution_count": 9,
   "metadata": {
    "ExecuteTime": {
     "end_time": "2022-04-18T22:59:38.417540Z",
     "start_time": "2022-04-18T22:59:10.817381Z"
    }
   },
   "outputs": [
    {
     "name": "stdout",
     "output_type": "stream",
     "text": [
      "8571 / 2179732 edges with invalid nodes removed\n"
     ]
    }
   ],
   "source": [
    "# filter edgelist because len(invalid_genes) > 0\n",
    "edgelist_filt_v2 = gct.filter_query_edgelist(edgelist_v2, invalid_genes_v2)"
   ]
  },
  {
   "cell_type": "markdown",
   "metadata": {},
   "source": [
    "### Isoforms to uniprot"
   ]
  },
  {
   "cell_type": "code",
   "execution_count": 10,
   "metadata": {
    "ExecuteTime": {
     "end_time": "2022-04-18T23:00:39.349111Z",
     "start_time": "2022-04-18T22:59:38.451351Z"
    }
   },
   "outputs": [],
   "source": [
    "uniprot_ids_v2, missing_v2 = gct.query_uniprot(valid_genes_v2, return_as_dict=False, target_fmt=\"ACC\")"
   ]
  },
  {
   "cell_type": "code",
   "execution_count": 11,
   "metadata": {
    "ExecuteTime": {
     "end_time": "2022-04-18T23:00:39.404903Z",
     "start_time": "2022-04-18T23:00:39.349909Z"
    }
   },
   "outputs": [
    {
     "name": "stdout",
     "output_type": "stream",
     "text": [
      "31040 Valid Query Genes\n",
      "0 Invalid Query Genes\n"
     ]
    }
   ],
   "source": [
    "uniprot_mapping_v2 = pd.concat([uniprot_ids_v2, pd.DataFrame({\"query\":missing_v2, \"ACC\":missing_v2, \"_score\":0})])\n",
    "uniprot_query_v2, valid_uniprot_v2, invalid_uniprot_v2 = gct.query_constructor(uniprot_mapping_v2[\"ACC\"].tolist())"
   ]
  },
  {
   "cell_type": "code",
   "execution_count": 12,
   "metadata": {
    "ExecuteTime": {
     "end_time": "2022-04-18T23:01:04.450065Z",
     "start_time": "2022-04-18T23:00:39.405775Z"
    }
   },
   "outputs": [
    {
     "name": "stderr",
     "output_type": "stream",
     "text": [
      "100%|██████████| 32/32 [00:25<00:00,  1.28it/s]"
     ]
    },
    {
     "name": "stdout",
     "output_type": "stream",
     "text": [
      "31342 Matched query results\n",
      "Batch query complete: 25.04 seconds\n",
      "31342 Matched query results\n"
     ]
    },
    {
     "name": "stderr",
     "output_type": "stream",
     "text": [
      "\n"
     ]
    }
   ],
   "source": [
    "# Set scopes (gene naming systems to search)\n",
    "scopes = \"uniprot, refseq\"\n",
    "\n",
    "# Set fields (systems from which to return gene names from)\n",
    "fields = \"symbol, entrezgene\"\n",
    "\n",
    "# Query MyGene.Info\n",
    "match_list_v2 = gct.query_batch(uniprot_query_v2, scopes=scopes, fields=fields)\n",
    "print(len(match_list_v2), 'Matched query results')"
   ]
  },
  {
   "cell_type": "code",
   "execution_count": 13,
   "metadata": {
    "ExecuteTime": {
     "end_time": "2022-04-18T23:01:04.477798Z",
     "start_time": "2022-04-18T23:01:04.450869Z"
    }
   },
   "outputs": [],
   "source": [
    "match_list_v2 = pd.DataFrame.from_dict(match_list_v2)"
   ]
  },
  {
   "cell_type": "code",
   "execution_count": 14,
   "metadata": {
    "ExecuteTime": {
     "end_time": "2022-04-18T23:01:04.511216Z",
     "start_time": "2022-04-18T23:01:04.478661Z"
    }
   },
   "outputs": [],
   "source": [
    "match_list_final_v2 = match_list_v2.merge(uniprot_mapping_v2, left_on = [\"query\"], right_on=[\"ACC\"])\n",
    "match_list_final_v2 = match_list_final_v2.loc[:, (\"query_y\", \"_id\", \"_score_x\", \"symbol\", \"notfound\")]\n",
    "match_list_final_v2.columns = [\"query\", \"entrezgene\", \"_score\", \"symbol\", \"notfound\"]"
   ]
  },
  {
   "cell_type": "code",
   "execution_count": 15,
   "metadata": {
    "ExecuteTime": {
     "end_time": "2022-04-18T23:01:04.641894Z",
     "start_time": "2022-04-18T23:01:04.512058Z"
    },
    "scrolled": true
   },
   "outputs": [
    {
     "name": "stdout",
     "output_type": "stream",
     "text": [
      "Number of genes with multiple matches: 12055\n",
      "Number of unmatched genes: 4195\n",
      "Number of fully matched genes: 26840\n",
      "Number of partially matched genes: 4199\n"
     ]
    }
   ],
   "source": [
    "match_table_trim_v2, query_to_symbol_v2, query_to_entrez_v2 = gct.construct_query_map_table(match_list_final_v2, valid_genes_v2)"
   ]
  },
  {
   "cell_type": "markdown",
   "metadata": {},
   "source": [
    "## Construct Converted Network"
   ]
  },
  {
   "cell_type": "code",
   "execution_count": 16,
   "metadata": {
    "ExecuteTime": {
     "end_time": "2022-04-18T23:01:07.182321Z",
     "start_time": "2022-04-18T23:01:04.642769Z"
    }
   },
   "outputs": [],
   "source": [
    "# Format edge list by removing prefix indicators from all interactors\n",
    "edgelist_filt_v2 = [[gct.get_identifier_without_prefix(edge[0]),gct.get_identifier_without_prefix(edge[1])] for edge in edgelist_filt_v2]"
   ]
  },
  {
   "cell_type": "code",
   "execution_count": 17,
   "metadata": {
    "ExecuteTime": {
     "end_time": "2022-04-18T23:01:08.469393Z",
     "start_time": "2022-04-18T23:01:07.183207Z"
    }
   },
   "outputs": [],
   "source": [
    "# Convert network edge list to symbol\n",
    "edgelist_updated_v2 = gct.convert_edgelist(edgelist_filt_v2, query_to_symbol_v2)"
   ]
  },
  {
   "cell_type": "code",
   "execution_count": 18,
   "metadata": {
    "ExecuteTime": {
     "end_time": "2022-04-18T23:01:09.385787Z",
     "start_time": "2022-04-18T23:01:08.470227Z"
    }
   },
   "outputs": [
    {
     "name": "stdout",
     "output_type": "stream",
     "text": [
      "2171161 input edges\n",
      "46691 self-edges removed\n",
      "233947 edges with un-mapped genes removed\n",
      "1422718 duplicate edges removed\n",
      "Edge list filtered: 0.9 seconds\n",
      "467805 Edges remaining\n"
     ]
    }
   ],
   "source": [
    "# Filter converted edge list\n",
    "edgelist_symbol_filt_v2 = gct.filter_converted_edgelist(edgelist_updated_v2)"
   ]
  },
  {
   "cell_type": "code",
   "execution_count": 21,
   "metadata": {
    "ExecuteTime": {
     "end_time": "2022-04-18T23:02:35.343433Z",
     "start_time": "2022-04-18T23:02:34.875091Z"
    }
   },
   "outputs": [
    {
     "name": "stdout",
     "output_type": "stream",
     "text": [
      "Edge list saved: 0.47 seconds\n"
     ]
    }
   ],
   "source": [
    "# Save filtered, converted edge list to file\n",
    "gct.write_edgelist(edgelist_symbol_filt_v2, wd+'Processed_Data/Network_SIFs_Symbol/iRefIndex_Symbol_2021.sif')"
   ]
  },
  {
   "cell_type": "markdown",
   "metadata": {},
   "source": [
    "# Version 1 (Original)"
   ]
  },
  {
   "cell_type": "markdown",
   "metadata": {},
   "source": [
    "## Load iRefIndex Raw Data\n",
    "**Source (MITAB):**   http://irefindex.org/download/irefindex/data/archive/release_14.0/psi_mitab/MITAB2.6/9606.mitab.07042015.txt.zip  \n",
    "Downloaded: July 28, 2016  \n",
    "Last Updated: April 20, 2015  \n",
    "Notes for processing: This is the file for human protein interactions, however, not all interactions are human-human interactions. These need to be filtered. Also all ID's not without RefSeq or UniProt ID are excluded. Custom processing for this network is described below  \n",
    "  \n",
    "**From iRefIndex Mapping Documentation Page:**  \n",
    "\"We have made a file which provides mappings between iRefIndex identifiers and popular external identifiers. The current files contain all UniProt and RefSeq identifiers known to the current version of iRefIndex as documented on the sources page. For specific source documentation, see the sources for each released version.  \n",
    "  \n",
    "Other database identifiers are provided as database/accession pairs only when the iRefIndex identifier (ROGID) does not have a corresponding UniProt or RefSeq record with an identical sequence.\"  \n",
    "  \n",
    "Therefore: Interactions containing an ROGID identifier will be removed"
   ]
  },
  {
   "cell_type": "code",
   "execution_count": 22,
   "metadata": {
    "ExecuteTime": {
     "end_time": "2022-04-18T23:02:52.531890Z",
     "start_time": "2022-04-18T23:02:45.737783Z"
    }
   },
   "outputs": [
    {
     "name": "stdout",
     "output_type": "stream",
     "text": [
      "Raw edge count in iRefIndex: 673100\n"
     ]
    }
   ],
   "source": [
    "input_raw = pd.read_csv(wd+'Network_Data_Raw/iRefIndex/9606.mitab.04072015.txt',sep='\\t')\n",
    "print('Raw edge count in iRefIndex:', len(input_raw))"
   ]
  },
  {
   "cell_type": "code",
   "execution_count": 23,
   "metadata": {
    "ExecuteTime": {
     "end_time": "2022-04-18T23:02:52.757305Z",
     "start_time": "2022-04-18T23:02:52.532944Z"
    }
   },
   "outputs": [
    {
     "name": "stdout",
     "output_type": "stream",
     "text": [
      "Human-Human only interactions in iRefIndex: 673100\n"
     ]
    }
   ],
   "source": [
    "# Keep only human-human interactions\n",
    "input_human = input_raw[(input_raw['taxa']=='taxid:9606(Homo sapiens)') & (input_raw['taxb']=='taxid:9606(Homo sapiens)')]\n",
    "print('Human-Human only interactions in iRefIndex:', len(input_raw))"
   ]
  },
  {
   "cell_type": "code",
   "execution_count": 24,
   "metadata": {
    "ExecuteTime": {
     "end_time": "2022-04-18T23:02:52.868101Z",
     "start_time": "2022-04-18T23:02:52.758348Z"
    }
   },
   "outputs": [],
   "source": [
    "# Extract gene list\n",
    "genes = list(set(input_raw['#uidA']).union(set(input_raw['uidB'])))"
   ]
  },
  {
   "cell_type": "code",
   "execution_count": 25,
   "metadata": {
    "ExecuteTime": {
     "end_time": "2022-04-18T23:02:52.889831Z",
     "start_time": "2022-04-18T23:02:52.869349Z"
    }
   },
   "outputs": [
    {
     "name": "stdout",
     "output_type": "stream",
     "text": [
      "['complex', 'uniprotkb', 'refseq', 'rogid']\n"
     ]
    }
   ],
   "source": [
    "# Get all iRef prefixes\n",
    "prefixes=[]\n",
    "for gene in genes:\n",
    "    prefix=gene.split(':')[0]\n",
    "    if prefix not in prefixes:\n",
    "        prefixes.append(prefix)\n",
    "print(prefixes)"
   ]
  },
  {
   "cell_type": "code",
   "execution_count": 26,
   "metadata": {
    "ExecuteTime": {
     "end_time": "2022-04-18T23:02:53.397984Z",
     "start_time": "2022-04-18T23:02:52.890659Z"
    }
   },
   "outputs": [
    {
     "name": "stdout",
     "output_type": "stream",
     "text": [
      "485030 Human iRefIndex Edges\n"
     ]
    }
   ],
   "source": [
    "# Get edge list of network\n",
    "edgelist = input_human[['#uidA','uidB']].values.tolist()\n",
    "print(len(edgelist), \"Human iRefIndex Edges\")"
   ]
  },
  {
   "cell_type": "markdown",
   "metadata": {},
   "source": [
    "## Convert Genes"
   ]
  },
  {
   "cell_type": "code",
   "execution_count": 27,
   "metadata": {
    "ExecuteTime": {
     "end_time": "2022-04-18T23:02:53.513875Z",
     "start_time": "2022-04-18T23:02:53.398843Z"
    }
   },
   "outputs": [
    {
     "name": "stdout",
     "output_type": "stream",
     "text": [
      "35525 Valid Query Genes\n",
      "10104 Invalid Query Genes\n"
     ]
    }
   ],
   "source": [
    "# Construct list of genes to be submitted to MyGene.Info API (remove all genes with 'rogid' prefix)\n",
    "# This should only keep uniprotkb and refseq as queries\n",
    "query_string, valid_genes, invalid_genes = gct.query_constructor(genes, exclude_prefixes=['rogid', 'complex'])"
   ]
  },
  {
   "cell_type": "code",
   "execution_count": 28,
   "metadata": {
    "ExecuteTime": {
     "end_time": "2022-04-18T23:04:15.988852Z",
     "start_time": "2022-04-18T23:02:53.514596Z"
    }
   },
   "outputs": [
    {
     "name": "stdout",
     "output_type": "stream",
     "text": [
      "6305 / 485030 edges with invalid nodes removed\n"
     ]
    }
   ],
   "source": [
    "# filter edgelist because len(invalid_genes) > 0\n",
    "edgelist_filt = gct.filter_query_edgelist(edgelist, invalid_genes)"
   ]
  },
  {
   "cell_type": "markdown",
   "metadata": {},
   "source": [
    "## Convert uniprot isoforms/outdated symbols"
   ]
  },
  {
   "cell_type": "code",
   "execution_count": 29,
   "metadata": {
    "ExecuteTime": {
     "end_time": "2022-04-18T23:05:01.066186Z",
     "start_time": "2022-04-18T23:04:15.990114Z"
    }
   },
   "outputs": [],
   "source": [
    "uniprot_ids, missing = gct.query_uniprot(valid_genes, return_as_dict=False, target_fmt=\"ACC\")"
   ]
  },
  {
   "cell_type": "code",
   "execution_count": 30,
   "metadata": {
    "ExecuteTime": {
     "end_time": "2022-04-18T23:05:01.132529Z",
     "start_time": "2022-04-18T23:05:01.067384Z"
    }
   },
   "outputs": [
    {
     "name": "stdout",
     "output_type": "stream",
     "text": [
      "35557 Valid Query Genes\n",
      "0 Invalid Query Genes\n"
     ]
    }
   ],
   "source": [
    "uniprot_mapping = pd.concat([uniprot_ids, pd.DataFrame({\"query\":missing, \"ACC\":missing, \"_score\":0})])\n",
    "uniprot_query, valid_uniprot, invalid_uniprot = gct.query_constructor(uniprot_mapping[\"ACC\"].tolist())"
   ]
  },
  {
   "cell_type": "code",
   "execution_count": 31,
   "metadata": {
    "ExecuteTime": {
     "end_time": "2022-04-18T23:05:01.199302Z",
     "start_time": "2022-04-18T23:05:01.134218Z"
    }
   },
   "outputs": [
    {
     "name": "stdout",
     "output_type": "stream",
     "text": [
      "35557 Valid Query Genes\n",
      "0 Invalid Query Genes\n"
     ]
    }
   ],
   "source": [
    "uniprot_query, valid_uniprot, invalid_uniprot = gct.query_constructor(uniprot_mapping[\"ACC\"].tolist())"
   ]
  },
  {
   "cell_type": "code",
   "execution_count": 32,
   "metadata": {
    "ExecuteTime": {
     "end_time": "2022-04-18T23:05:29.482513Z",
     "start_time": "2022-04-18T23:05:01.200084Z"
    }
   },
   "outputs": [
    {
     "name": "stderr",
     "output_type": "stream",
     "text": [
      "100%|██████████| 36/36 [00:28<00:00,  1.27it/s]"
     ]
    },
    {
     "name": "stdout",
     "output_type": "stream",
     "text": [
      "36072 Matched query results\n",
      "Batch query complete: 28.27 seconds\n",
      "36072 Matched query results\n"
     ]
    },
    {
     "name": "stderr",
     "output_type": "stream",
     "text": [
      "\n"
     ]
    }
   ],
   "source": [
    "# Set scopes (gene naming systems to search)\n",
    "scopes = \"uniprot, refseq\"\n",
    "\n",
    "# Set fields (systems from which to return gene names from)\n",
    "fields = \"symbol, entrezgene\"\n",
    "\n",
    "# Query MyGene.Info\n",
    "match_list = gct.query_batch(uniprot_query, scopes=scopes, fields=fields)\n",
    "print(len(match_list), 'Matched query results')"
   ]
  },
  {
   "cell_type": "code",
   "execution_count": 33,
   "metadata": {
    "ExecuteTime": {
     "end_time": "2022-04-18T23:05:29.517284Z",
     "start_time": "2022-04-18T23:05:29.483452Z"
    }
   },
   "outputs": [],
   "source": [
    "match_list = pd.DataFrame.from_dict(match_list)"
   ]
  },
  {
   "cell_type": "code",
   "execution_count": 34,
   "metadata": {
    "ExecuteTime": {
     "end_time": "2022-04-18T23:05:29.546839Z",
     "start_time": "2022-04-18T23:05:29.518241Z"
    }
   },
   "outputs": [],
   "source": [
    "match_list_final = match_list_v2.merge(uniprot_mapping, left_on = [\"query\"], right_on=[\"ACC\"])\n",
    "match_list_final = match_list_final.loc[:, (\"query_y\", \"_id\", \"_score_x\", \"symbol\", \"notfound\")]\n",
    "match_list_final.columns = [\"query\", \"entrezgene\", \"_score\", \"symbol\", \"notfound\"]"
   ]
  },
  {
   "cell_type": "code",
   "execution_count": 35,
   "metadata": {
    "ExecuteTime": {
     "end_time": "2022-04-18T23:05:29.689017Z",
     "start_time": "2022-04-18T23:05:29.547693Z"
    },
    "scrolled": true
   },
   "outputs": [
    {
     "name": "stdout",
     "output_type": "stream",
     "text": [
      "Number of genes with multiple matches: 4449\n",
      "Number of unmatched genes: 4606\n",
      "Number of fully matched genes: 26988\n",
      "Number of partially matched genes: 4635\n"
     ]
    }
   ],
   "source": [
    "match_table_trim, query_to_symbol, query_to_entrez = gct.construct_query_map_table(match_list, valid_genes)"
   ]
  },
  {
   "cell_type": "markdown",
   "metadata": {},
   "source": [
    "## Construct Converted Network"
   ]
  },
  {
   "cell_type": "code",
   "execution_count": 36,
   "metadata": {
    "ExecuteTime": {
     "end_time": "2022-04-18T23:05:30.055094Z",
     "start_time": "2022-04-18T23:05:29.689969Z"
    }
   },
   "outputs": [],
   "source": [
    "# Format edge list by removing prefix indicators from all interactors\n",
    "edgelist_filt= [[gct.get_identifier_without_prefix(edge[0]),gct.get_identifier_without_prefix(edge[1])] for edge in edgelist_filt]"
   ]
  },
  {
   "cell_type": "code",
   "execution_count": 37,
   "metadata": {
    "ExecuteTime": {
     "end_time": "2022-04-18T23:05:30.369448Z",
     "start_time": "2022-04-18T23:05:30.056029Z"
    }
   },
   "outputs": [],
   "source": [
    "# Convert network edge list to symbol\n",
    "edgelist_updated = gct.convert_edgelist(edgelist_filt, query_to_symbol)"
   ]
  },
  {
   "cell_type": "code",
   "execution_count": 38,
   "metadata": {
    "ExecuteTime": {
     "end_time": "2022-04-18T23:05:30.536976Z",
     "start_time": "2022-04-18T23:05:30.370413Z"
    }
   },
   "outputs": [
    {
     "name": "stdout",
     "output_type": "stream",
     "text": [
      "478725 input edges\n",
      "12048 self-edges removed\n",
      "171083 edges with un-mapped genes removed\n",
      "169026 duplicate edges removed\n",
      "Edge list filtered: 0.16 seconds\n",
      "126568 Edges remaining\n"
     ]
    }
   ],
   "source": [
    "# Filter converted edge list\n",
    "edgelist_symbol_filt = gct.filter_converted_edgelist(edgelist_updated)"
   ]
  },
  {
   "cell_type": "code",
   "execution_count": 39,
   "metadata": {
    "ExecuteTime": {
     "end_time": "2022-04-18T23:05:30.703942Z",
     "start_time": "2022-04-18T23:05:30.537855Z"
    }
   },
   "outputs": [
    {
     "name": "stdout",
     "output_type": "stream",
     "text": [
      "478725 input edges\n",
      "12048 self-edges removed\n",
      "171083 edges with un-mapped genes removed\n",
      "169026 duplicate edges removed\n",
      "Edge list filtered: 0.16 seconds\n",
      "126568 Edges remaining\n"
     ]
    }
   ],
   "source": [
    "# Filter converted edge list\n",
    "edgelist_symbol_filt = gct.filter_converted_edgelist(edgelist_updated)"
   ]
  },
  {
   "cell_type": "code",
   "execution_count": 40,
   "metadata": {
    "ExecuteTime": {
     "end_time": "2022-04-18T23:05:30.860892Z",
     "start_time": "2022-04-18T23:05:30.704829Z"
    }
   },
   "outputs": [
    {
     "name": "stdout",
     "output_type": "stream",
     "text": [
      "Edge list saved: 0.15 seconds\n"
     ]
    }
   ],
   "source": [
    "# Save filtered, converted edge list to file\n",
    "gct.write_edgelist(edgelist_symbol_filt , wd+'Processed_Data/Network_SIFs_Symbol/iRefIndex_Symbol_2015.sif')"
   ]
  },
  {
   "cell_type": "markdown",
   "metadata": {},
   "source": [
    "# Changes"
   ]
  },
  {
   "cell_type": "code",
   "execution_count": 41,
   "metadata": {
    "ExecuteTime": {
     "end_time": "2022-04-18T23:05:31.482811Z",
     "start_time": "2022-04-18T23:05:30.861730Z"
    }
   },
   "outputs": [
    {
     "data": {
      "image/png": "[encoded data removed]",
      "text/plain": [
       "<Figure size 1080x360 with 2 Axes>"
      ]
     },
     "metadata": {
      "needs_background": "light"
     },
     "output_type": "display_data"
    }
   ],
   "source": [
    "dit.plot_changes_to_dataset(input_raw, input_raw_v2, edgelist_symbol_filt, edgelist_symbol_filt_v2, input_human, input_human_v2)"
   ]
  },
  {
   "cell_type": "code",
   "execution_count": 49,
   "metadata": {
    "ExecuteTime": {
     "end_time": "2022-04-18T23:10:01.513544Z",
     "start_time": "2022-04-18T23:10:01.507850Z"
    }
   },
   "outputs": [
    {
     "data": {
      "text/html": [
       "<div>\n",
       "<style scoped>\n",
       "    .dataframe tbody tr th:only-of-type {\n",
       "        vertical-align: middle;\n",
       "    }\n",
       "\n",
       "    .dataframe tbody tr th {\n",
       "        vertical-align: top;\n",
       "    }\n",
       "\n",
       "    .dataframe thead th {\n",
       "        text-align: right;\n",
       "    }\n",
       "</style>\n",
       "<table border=\"1\" class=\"dataframe\">\n",
       "  <thead>\n",
       "    <tr style=\"text-align: right;\">\n",
       "      <th></th>\n",
       "      <th>symbol_n1</th>\n",
       "      <th>symbol_n2</th>\n",
       "    </tr>\n",
       "  </thead>\n",
       "  <tbody>\n",
       "    <tr>\n",
       "      <th>0</th>\n",
       "      <td>RMND5B</td>\n",
       "      <td>SHBG</td>\n",
       "    </tr>\n",
       "    <tr>\n",
       "      <th>1</th>\n",
       "      <td>RMND5B</td>\n",
       "      <td>SMAD4</td>\n",
       "    </tr>\n",
       "    <tr>\n",
       "      <th>2</th>\n",
       "      <td>PXN</td>\n",
       "      <td>RPL13</td>\n",
       "    </tr>\n",
       "    <tr>\n",
       "      <th>3</th>\n",
       "      <td>GPNMB</td>\n",
       "      <td>SMAD4</td>\n",
       "    </tr>\n",
       "    <tr>\n",
       "      <th>4</th>\n",
       "      <td>B2M</td>\n",
       "      <td>FCGRT</td>\n",
       "    </tr>\n",
       "    <tr>\n",
       "      <th>...</th>\n",
       "      <td>...</td>\n",
       "      <td>...</td>\n",
       "    </tr>\n",
       "    <tr>\n",
       "      <th>295539</th>\n",
       "      <td>RAC1</td>\n",
       "      <td>RASGRF1</td>\n",
       "    </tr>\n",
       "    <tr>\n",
       "      <th>295559</th>\n",
       "      <td>DVL1</td>\n",
       "      <td>FLNB</td>\n",
       "    </tr>\n",
       "    <tr>\n",
       "      <th>295562</th>\n",
       "      <td>DVL1</td>\n",
       "      <td>PPM1A</td>\n",
       "    </tr>\n",
       "    <tr>\n",
       "      <th>295574</th>\n",
       "      <td>POU3F2</td>\n",
       "      <td>PQBP1</td>\n",
       "    </tr>\n",
       "    <tr>\n",
       "      <th>295590</th>\n",
       "      <td>CANX</td>\n",
       "      <td>FSHR</td>\n",
       "    </tr>\n",
       "  </tbody>\n",
       "</table>\n",
       "<p>126568 rows × 2 columns</p>\n",
       "</div>"
      ],
      "text/plain": [
       "       symbol_n1 symbol_n2\n",
       "0         RMND5B      SHBG\n",
       "1         RMND5B     SMAD4\n",
       "2            PXN     RPL13\n",
       "3          GPNMB     SMAD4\n",
       "4            B2M     FCGRT\n",
       "...          ...       ...\n",
       "295539      RAC1   RASGRF1\n",
       "295559      DVL1      FLNB\n",
       "295562      DVL1     PPM1A\n",
       "295574    POU3F2     PQBP1\n",
       "295590      CANX      FSHR\n",
       "\n",
       "[126568 rows x 2 columns]"
      ]
     },
     "execution_count": 49,
     "metadata": {},
     "output_type": "execute_result"
    }
   ],
   "source": [
    "edgelist_symbol_filt"
   ]
  },
  {
   "cell_type": "code",
   "execution_count": 47,
   "metadata": {
    "ExecuteTime": {
     "end_time": "2022-04-18T23:09:32.085060Z",
     "start_time": "2022-04-18T23:09:31.975171Z"
    }
   },
   "outputs": [
    {
     "data": {
      "text/plain": [
       "957450"
      ]
     },
     "execution_count": 47,
     "metadata": {},
     "output_type": "execute_result"
    }
   ],
   "source": [
    "len(set(edgelist_symbol_filt[\"symbol_n1\"]).union(set(edgelist_filt[\"symbol_n2\"])))"
   ]
  },
  {
   "cell_type": "code",
   "execution_count": null,
   "metadata": {},
   "outputs": [],
   "source": [
    "edgelist_filt = pd.DataFrame(edgelist_filt_v2. columns =)"
   ]
  },
  {
   "cell_type": "code",
   "execution_count": null,
   "metadata": {
    "ExecuteTime": {
     "end_time": "2022-04-18T23:07:44.301680Z",
     "start_time": "2022-04-18T23:07:44.301671Z"
    }
   },
   "outputs": [],
   "source": [
    "len(set(edgelist_filt_v2[\"symbol_n1\"]).union(set(edgelist_filt_v2[\"symbol_n2\"])))"
   ]
  }
 ],
 "metadata": {
  "kernelspec": {
   "display_name": "Python [conda env:pcnet_py3]",
   "language": "python",
   "name": "conda-env-pcnet_py3-py"
  },
  "language_info": {
   "codemirror_mode": {
    "name": "ipython",
    "version": 3
   },
   "file_extension": ".py",
   "mimetype": "text/x-python",
   "name": "python",
   "nbconvert_exporter": "python",
   "pygments_lexer": "ipython3",
   "version": "3.10.0"
  },
  "toc": {
   "base_numbering": 1,
   "nav_menu": {},
   "number_sections": true,
   "sideBar": true,
   "skip_h1_title": false,
   "title_cell": "Table of Contents",
   "title_sidebar": "Contents",
   "toc_cell": false,
   "toc_position": {
    "height": "calc(100% - 180px)",
    "left": "10px",
    "top": "150px",
    "width": "341.458px"
   },
   "toc_section_display": true,
   "toc_window_display": true
  },
  "varInspector": {
   "cols": {
    "lenName": 16,
    "lenType": 16,
    "lenVar": 40
   },
   "kernels_config": {
    "python": {
     "delete_cmd_postfix": "",
     "delete_cmd_prefix": "del ",
     "library": "var_list.py",
     "varRefreshCmd": "print(var_dic_list())"
    },
    "r": {
     "delete_cmd_postfix": ") ",
     "delete_cmd_prefix": "rm(",
     "library": "var_list.r",
     "varRefreshCmd": "cat(var_dic_list()) "
    }
   },
   "types_to_exclude": [
    "module",
    "function",
    "builtin_function_or_method",
    "instance",
    "_Feature"
   ],
   "window_display": false
  }
 },
 "nbformat": 4,
 "nbformat_minor": 1
}
