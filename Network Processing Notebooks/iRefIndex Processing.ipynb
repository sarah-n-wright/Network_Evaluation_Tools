{
 "cells": [
  {
   "cell_type": "code",
   "execution_count": 1,
   "metadata": {
    "ExecuteTime": {
     "end_time": "2022-02-24T18:56:11.243111Z",
     "start_time": "2022-02-24T18:56:07.480709Z"
    }
   },
   "outputs": [],
   "source": [
    "from network_evaluation_tools import gene_conversion_tools as gct\n",
    "from network_evaluation_tools import data_import_tools as dit\n",
    "import pandas as pd\n",
    "import itertools\n",
    "import time\n",
    "import matplotlib.pyplot as plt"
   ]
  },
  {
   "cell_type": "code",
   "execution_count": 2,
   "metadata": {
    "ExecuteTime": {
     "end_time": "2022-02-24T18:56:17.008193Z",
     "start_time": "2022-02-24T18:56:17.006688Z"
    }
   },
   "outputs": [],
   "source": [
    "wd = '/cellar/users/snwright/Data/Network_Analysis/'"
   ]
  },
  {
   "cell_type": "markdown",
   "metadata": {},
   "source": [
    "# Version 2"
   ]
  },
  {
   "cell_type": "markdown",
   "metadata": {},
   "source": [
    "## Load iRefIndex Raw Data\n",
    "**Source (MITAB):**  http://irefindex.org/download/irefindex/data/archive/release_14.0/psi_mitab/MITAB2.6/9606.mitab.07042015.txt.zip  \n",
    "Downloaded: November 16, 2021 \n",
    "Last Updated: June 11, 2021  \n",
    "Notes for processing: This is the file for human protein interactions, however, not all interactions are human-human interactions. These need to be filtered. Also all ID's not without RefSeq or UniProt ID are excluded. Custom processing for this network is described below  \n",
    "  \n",
    "**From iRefIndex Mapping Documentation Page:**  \n",
    "\"We have made a file which provides mappings between iRefIndex identifiers and popular external identifiers. The current files contain all UniProt and RefSeq identifiers known to the current version of iRefIndex as documented on the sources page. For specific source documentation, see the sources for each released version.  \n",
    "  \n",
    "Other database identifiers are provided as database/accession pairs only when the iRefIndex identifier (ROGID) does not have a corresponding UniProt or RefSeq record with an identical sequence.\"  \n",
    "  \n",
    "Therefore: Interactions containing an ROGID identifier will be removed"
   ]
  },
  {
   "cell_type": "code",
   "execution_count": 4,
   "metadata": {
    "ExecuteTime": {
     "end_time": "2022-02-24T18:59:07.255738Z",
     "start_time": "2022-02-24T18:58:26.767392Z"
    }
   },
   "outputs": [
    {
     "name": "stdout",
     "output_type": "stream",
     "text": [
      "Raw edge count in iRefIndex: 3602589\n"
     ]
    }
   ],
   "source": [
    "input_raw_v2 = pd.read_csv(wd+'Network_Data_Raw/iRefIndex/9606.mitab.06-11-2021.txt.zip',sep='\\t')\n",
    "print('Raw edge count in iRefIndex:', len(input_raw_v2))"
   ]
  },
  {
   "cell_type": "code",
   "execution_count": 5,
   "metadata": {
    "ExecuteTime": {
     "end_time": "2022-02-24T18:59:31.840819Z",
     "start_time": "2022-02-24T18:59:30.735946Z"
    }
   },
   "outputs": [
    {
     "name": "stdout",
     "output_type": "stream",
     "text": [
      "Human-Human only interactions in iRefIndex: 2179732\n"
     ]
    }
   ],
   "source": [
    "# Keep only human-human interactions\n",
    "input_human_v2 = input_raw_v2[(input_raw_v2['taxa']=='taxid:9606(Homo sapiens)') & (input_raw_v2['taxb']=='taxid:9606(Homo sapiens)')]\n",
    "print('Human-Human only interactions in iRefIndex:', len(input_human_v2))"
   ]
  },
  {
   "cell_type": "code",
   "execution_count": 6,
   "metadata": {
    "ExecuteTime": {
     "end_time": "2022-02-24T18:59:34.902768Z",
     "start_time": "2022-02-24T18:59:34.543251Z"
    }
   },
   "outputs": [],
   "source": [
    "# Extract gene list\n",
    "genes_v2 = list(set(input_human_v2['#uidA']).union(set(input_human_v2['uidB'])))"
   ]
  },
  {
   "cell_type": "code",
   "execution_count": 7,
   "metadata": {
    "ExecuteTime": {
     "end_time": "2022-02-24T18:59:54.618252Z",
     "start_time": "2022-02-24T18:59:54.605700Z"
    }
   },
   "outputs": [
    {
     "name": "stdout",
     "output_type": "stream",
     "text": [
      "['uniprotkb', 'rogid', 'refseq']\n"
     ]
    }
   ],
   "source": [
    "# Get all iRef prefixes\n",
    "prefixes=[]\n",
    "for gene in genes_v2:\n",
    "    prefix=gene.split(':')[0]\n",
    "    if prefix not in prefixes:\n",
    "        prefixes.append(prefix)\n",
    "print(prefixes)"
   ]
  },
  {
   "cell_type": "code",
   "execution_count": 9,
   "metadata": {
    "ExecuteTime": {
     "end_time": "2022-02-24T19:00:21.802199Z",
     "start_time": "2022-02-24T19:00:20.671248Z"
    }
   },
   "outputs": [
    {
     "name": "stdout",
     "output_type": "stream",
     "text": [
      "2179732 Human iRefIndex Edges\n"
     ]
    }
   ],
   "source": [
    "# Get edge list of network\n",
    "edgelist_v2 = input_human_v2[['#uidA','uidB']].values.tolist()\n",
    "print(len(edgelist_v2), \"Human iRefIndex Edges\")"
   ]
  },
  {
   "cell_type": "markdown",
   "metadata": {},
   "source": [
    "## Convert Genes"
   ]
  },
  {
   "cell_type": "code",
   "execution_count": 10,
   "metadata": {
    "ExecuteTime": {
     "end_time": "2022-02-24T19:00:41.474875Z",
     "start_time": "2022-02-24T19:00:41.390603Z"
    }
   },
   "outputs": [
    {
     "name": "stdout",
     "output_type": "stream",
     "text": [
      "31039 Valid Query Genes\n",
      "918 Invalid Query Genes\n"
     ]
    }
   ],
   "source": [
    "# Construct list of genes to be submitted to MyGene.Info API (remove all genes with 'rogid' prefix)\n",
    "# This should only keep uniprotkb and refseq as queries\n",
    "query_string_v2, valid_genes_v2, invalid_genes_v2 = gct.query_constructor(genes_v2, exclude_prefixes=['rogid'])"
   ]
  },
  {
   "cell_type": "code",
   "execution_count": 11,
   "metadata": {
    "ExecuteTime": {
     "end_time": "2022-02-24T19:01:33.319999Z",
     "start_time": "2022-02-24T19:01:05.103980Z"
    }
   },
   "outputs": [
    {
     "name": "stdout",
     "output_type": "stream",
     "text": [
      "8571 / 2179732 edges with invalid nodes removed\n"
     ]
    }
   ],
   "source": [
    "# filter edgelist because len(invalid_genes) > 0\n",
    "edgelist_filt_v2 = gct.filter_query_edgelist(edgelist_v2, invalid_genes_v2)"
   ]
  },
  {
   "cell_type": "markdown",
   "metadata": {},
   "source": [
    "## Isoforms to uniprot"
   ]
  },
  {
   "cell_type": "code",
   "execution_count": 16,
   "metadata": {
    "ExecuteTime": {
     "end_time": "2022-02-24T21:29:19.193051Z",
     "start_time": "2022-02-24T21:28:42.466046Z"
    }
   },
   "outputs": [],
   "source": [
    "uniprot_ids_v2, missing_v2 = gct.query_uniprot(valid_genes_v2, return_as_dict=False, target_fmt=\"ACC\")"
   ]
  },
  {
   "cell_type": "code",
   "execution_count": 18,
   "metadata": {
    "ExecuteTime": {
     "end_time": "2022-02-24T21:31:15.241523Z",
     "start_time": "2022-02-24T21:31:15.185633Z"
    }
   },
   "outputs": [
    {
     "name": "stdout",
     "output_type": "stream",
     "text": [
      "31040 Valid Query Genes\n",
      "0 Invalid Query Genes\n"
     ]
    }
   ],
   "source": [
    "uniprot_mapping_v2 = pd.concat([uniprot_ids_v2, pd.DataFrame({\"query\":missing_v2, \"ACC\":missing_v2, \"_score\":0})])\n",
    "uniprot_query_v2, valid_uniprot_v2, invalid_uniprot_v2 = gct.query_constructor(uniprot_mapping_v2[\"ACC\"].tolist())"
   ]
  },
  {
   "cell_type": "code",
   "execution_count": 19,
   "metadata": {
    "ExecuteTime": {
     "end_time": "2022-02-24T21:31:49.500138Z",
     "start_time": "2022-02-24T21:31:22.279722Z"
    }
   },
   "outputs": [
    {
     "name": "stderr",
     "output_type": "stream",
     "text": [
      "100%|██████████| 32/32 [00:27<00:00,  1.18it/s]"
     ]
    },
    {
     "name": "stdout",
     "output_type": "stream",
     "text": [
      "31342 Matched query results\n",
      "Batch query complete: 27.21 seconds\n",
      "31342 Matched query results\n"
     ]
    },
    {
     "name": "stderr",
     "output_type": "stream",
     "text": [
      "\n"
     ]
    }
   ],
   "source": [
    "# Set scopes (gene naming systems to search)\n",
    "scopes = \"uniprot, refseq\"\n",
    "\n",
    "# Set fields (systems from which to return gene names from)\n",
    "fields = \"symbol, entrezgene\"\n",
    "\n",
    "# Query MyGene.Info\n",
    "match_list_v2 = gct.query_batch(uniprot_query_v2, scopes=scopes, fields=fields)\n",
    "print(len(match_list_v2), 'Matched query results')"
   ]
  },
  {
   "cell_type": "code",
   "execution_count": 20,
   "metadata": {
    "ExecuteTime": {
     "end_time": "2022-02-24T21:31:54.994340Z",
     "start_time": "2022-02-24T21:31:54.966536Z"
    }
   },
   "outputs": [],
   "source": [
    "match_list_v2 = pd.DataFrame.from_dict(match_list_v2)"
   ]
  },
  {
   "cell_type": "code",
   "execution_count": 22,
   "metadata": {
    "ExecuteTime": {
     "end_time": "2022-02-24T21:32:19.150530Z",
     "start_time": "2022-02-24T21:32:19.120201Z"
    }
   },
   "outputs": [],
   "source": [
    "match_list_final_v2 = match_list_v2.merge(uniprot_mapping_v2, left_on = [\"query\"], right_on=[\"ACC\"])\n",
    "match_list_final_v2 = match_list_final_v2.loc[:, (\"query_y\", \"_id\", \"_score_x\", \"symbol\", \"notfound\")]\n",
    "match_list_final_v2.columns = [\"query\", \"entrezgene\", \"_score\", \"symbol\", \"notfound\"]"
   ]
  },
  {
   "cell_type": "code",
   "execution_count": 23,
   "metadata": {
    "ExecuteTime": {
     "end_time": "2022-02-24T21:32:35.500231Z",
     "start_time": "2022-02-24T21:32:35.372805Z"
    },
    "scrolled": true
   },
   "outputs": [
    {
     "name": "stdout",
     "output_type": "stream",
     "text": [
      "Number of genes with multiple matches: 12037\n",
      "Number of unmatched genes: 3602\n",
      "Number of fully matched genes: 27433\n",
      "Number of partially matched genes: 3606\n"
     ]
    }
   ],
   "source": [
    "match_table_trim_v2, query_to_symbol_v2, query_to_entrez_v2 = gct.construct_query_map_table(match_list_final_v2, valid_genes_v2)"
   ]
  },
  {
   "cell_type": "markdown",
   "metadata": {},
   "source": [
    "## Construct Converted Network"
   ]
  },
  {
   "cell_type": "code",
   "execution_count": 24,
   "metadata": {
    "ExecuteTime": {
     "end_time": "2022-02-24T21:33:14.774891Z",
     "start_time": "2022-02-24T21:33:12.306836Z"
    }
   },
   "outputs": [],
   "source": [
    "# Format edge list by removing prefix indicators from all interactors\n",
    "edgelist_filt_v2 = [[gct.get_identifier_without_prefix(edge[0]),gct.get_identifier_without_prefix(edge[1])] for edge in edgelist_filt_v2]"
   ]
  },
  {
   "cell_type": "code",
   "execution_count": 28,
   "metadata": {
    "ExecuteTime": {
     "end_time": "2022-02-24T21:34:13.595360Z",
     "start_time": "2022-02-24T21:34:12.377378Z"
    }
   },
   "outputs": [],
   "source": [
    "# Convert network edge list to symbol\n",
    "edgelist_updated_v2 = gct.convert_edgelist(edgelist_filt_v2, query_to_symbol_v2)"
   ]
  },
  {
   "cell_type": "code",
   "execution_count": 29,
   "metadata": {
    "ExecuteTime": {
     "end_time": "2022-02-24T21:34:19.776789Z",
     "start_time": "2022-02-24T21:34:18.903339Z"
    }
   },
   "outputs": [
    {
     "name": "stdout",
     "output_type": "stream",
     "text": [
      "2171161 input edges\n",
      "46943 self-edges removed\n",
      "193922 edges with un-mapped genes removed\n",
      "1441807 duplicate edges removed\n",
      "Edge list filtered: 0.86 seconds\n",
      "488489 Edges remaining\n"
     ]
    }
   ],
   "source": [
    "# Filter converted edge list\n",
    "edgelist_symbol_filt_v2 = gct.filter_converted_edgelist(edgelist_updated_v2)"
   ]
  },
  {
   "cell_type": "code",
   "execution_count": 15,
   "metadata": {
    "ExecuteTime": {
     "end_time": "2021-11-19T01:46:18.286235Z",
     "start_time": "2021-11-19T01:46:17.843695Z"
    }
   },
   "outputs": [
    {
     "name": "stdout",
     "output_type": "stream",
     "text": [
      "Edge list saved: 0.44 seconds\n"
     ]
    }
   ],
   "source": [
    "# Save filtered, converted edge list to file\n",
    "gct.write_edgelist(edgelist_symbol_filt_v2, wd+'rocessed_Data/Network_SIFs_SymbPol/iRefIndex_Symbol_2021.sif')"
   ]
  },
  {
   "cell_type": "markdown",
   "metadata": {},
   "source": [
    "# Version 1 (Original)"
   ]
  },
  {
   "cell_type": "markdown",
   "metadata": {},
   "source": [
    "## Load iRefIndex Raw Data\n",
    "**Source (MITAB):**   http://irefindex.org/download/irefindex/data/archive/release_14.0/psi_mitab/MITAB2.6/9606.mitab.07042015.txt.zip  \n",
    "Downloaded: July 28, 2016  \n",
    "Last Updated: April 20, 2015  \n",
    "Notes for processing: This is the file for human protein interactions, however, not all interactions are human-human interactions. These need to be filtered. Also all ID's not without RefSeq or UniProt ID are excluded. Custom processing for this network is described below  \n",
    "  \n",
    "**From iRefIndex Mapping Documentation Page:**  \n",
    "\"We have made a file which provides mappings between iRefIndex identifiers and popular external identifiers. The current files contain all UniProt and RefSeq identifiers known to the current version of iRefIndex as documented on the sources page. For specific source documentation, see the sources for each released version.  \n",
    "  \n",
    "Other database identifiers are provided as database/accession pairs only when the iRefIndex identifier (ROGID) does not have a corresponding UniProt or RefSeq record with an identical sequence.\"  \n",
    "  \n",
    "Therefore: Interactions containing an ROGID identifier will be removed"
   ]
  },
  {
   "cell_type": "code",
   "execution_count": 30,
   "metadata": {
    "ExecuteTime": {
     "end_time": "2022-02-24T21:35:40.338983Z",
     "start_time": "2022-02-24T21:35:33.627503Z"
    }
   },
   "outputs": [
    {
     "name": "stdout",
     "output_type": "stream",
     "text": [
      "Raw edge count in iRefIndex: 673100\n"
     ]
    }
   ],
   "source": [
    "input_raw = pd.read_csv(wd+'Network_Data_Raw/iRefIndex/9606.mitab.04072015.txt',sep='\\t')\n",
    "print('Raw edge count in iRefIndex:', len(input_raw))"
   ]
  },
  {
   "cell_type": "code",
   "execution_count": 31,
   "metadata": {
    "ExecuteTime": {
     "end_time": "2022-02-24T21:35:51.359288Z",
     "start_time": "2022-02-24T21:35:51.130644Z"
    }
   },
   "outputs": [
    {
     "name": "stdout",
     "output_type": "stream",
     "text": [
      "Human-Human only interactions in iRefIndex: 673100\n"
     ]
    }
   ],
   "source": [
    "# Keep only human-human interactions\n",
    "input_human = input_raw[(input_raw['taxa']=='taxid:9606(Homo sapiens)') & (input_raw['taxb']=='taxid:9606(Homo sapiens)')]\n",
    "print('Human-Human only interactions in iRefIndex:', len(input_raw))"
   ]
  },
  {
   "cell_type": "code",
   "execution_count": 32,
   "metadata": {
    "ExecuteTime": {
     "end_time": "2022-02-24T21:36:08.952517Z",
     "start_time": "2022-02-24T21:36:08.841960Z"
    }
   },
   "outputs": [],
   "source": [
    "# Extract gene list\n",
    "genes = list(set(input_raw['#uidA']).union(set(input_raw['uidB'])))"
   ]
  },
  {
   "cell_type": "code",
   "execution_count": 35,
   "metadata": {
    "ExecuteTime": {
     "end_time": "2022-02-24T21:36:41.696190Z",
     "start_time": "2022-02-24T21:36:41.678706Z"
    }
   },
   "outputs": [
    {
     "name": "stdout",
     "output_type": "stream",
     "text": [
      "['uniprotkb', 'refseq', 'complex', 'rogid']\n"
     ]
    }
   ],
   "source": [
    "# Get all iRef prefixes\n",
    "prefixes=[]\n",
    "for gene in genes:\n",
    "    prefix=gene.split(':')[0]\n",
    "    if prefix not in prefixes:\n",
    "        prefixes.append(prefix)\n",
    "print(prefixes)"
   ]
  },
  {
   "cell_type": "code",
   "execution_count": 36,
   "metadata": {
    "ExecuteTime": {
     "end_time": "2022-02-24T21:37:05.217793Z",
     "start_time": "2022-02-24T21:37:04.731051Z"
    }
   },
   "outputs": [
    {
     "name": "stdout",
     "output_type": "stream",
     "text": [
      "485030 Human iRefIndex Edges\n"
     ]
    }
   ],
   "source": [
    "# Get edge list of network\n",
    "edgelist = input_human[['#uidA','uidB']].values.tolist()\n",
    "print(len(edgelist), \"Human iRefIndex Edges\")"
   ]
  },
  {
   "cell_type": "markdown",
   "metadata": {},
   "source": [
    "## Convert Genes"
   ]
  },
  {
   "cell_type": "code",
   "execution_count": 37,
   "metadata": {
    "ExecuteTime": {
     "end_time": "2022-02-24T21:37:28.442419Z",
     "start_time": "2022-02-24T21:37:28.330637Z"
    }
   },
   "outputs": [
    {
     "name": "stdout",
     "output_type": "stream",
     "text": [
      "35525 Valid Query Genes\n",
      "10104 Invalid Query Genes\n"
     ]
    }
   ],
   "source": [
    "# Construct list of genes to be submitted to MyGene.Info API (remove all genes with 'rogid' prefix)\n",
    "# This should only keep uniprotkb and refseq as queries\n",
    "query_string, valid_genes, invalid_genes = gct.query_constructor(genes, exclude_prefixes=['rogid', 'complex'])"
   ]
  },
  {
   "cell_type": "code",
   "execution_count": 39,
   "metadata": {
    "ExecuteTime": {
     "end_time": "2022-02-24T21:40:16.132719Z",
     "start_time": "2022-02-24T21:38:52.180104Z"
    }
   },
   "outputs": [
    {
     "name": "stdout",
     "output_type": "stream",
     "text": [
      "6305 / 485030 edges with invalid nodes removed\n"
     ]
    }
   ],
   "source": [
    "# filter edgelist because len(invalid_genes) > 0\n",
    "edgelist_filt = gct.filter_query_edgelist(edgelist, invalid_genes)"
   ]
  },
  {
   "cell_type": "markdown",
   "metadata": {},
   "source": [
    "## Convert uniprot isoforms/outdated symbols"
   ]
  },
  {
   "cell_type": "code",
   "execution_count": 38,
   "metadata": {
    "ExecuteTime": {
     "end_time": "2022-02-24T21:38:45.942721Z",
     "start_time": "2022-02-24T21:37:53.162461Z"
    }
   },
   "outputs": [],
   "source": [
    "uniprot_ids, missing = gct.query_uniprot(valid_genes, return_as_dict=False, target_fmt=\"ACC\")"
   ]
  },
  {
   "cell_type": "code",
   "execution_count": 40,
   "metadata": {
    "ExecuteTime": {
     "end_time": "2022-02-24T21:40:22.805546Z",
     "start_time": "2022-02-24T21:40:22.739650Z"
    }
   },
   "outputs": [
    {
     "name": "stdout",
     "output_type": "stream",
     "text": [
      "35557 Valid Query Genes\n",
      "0 Invalid Query Genes\n"
     ]
    }
   ],
   "source": [
    "uniprot_mapping = pd.concat([uniprot_ids, pd.DataFrame({\"query\":missing, \"ACC\":missing, \"_score\":0})])\n",
    "uniprot_query, valid_uniprot, invalid_uniprot = gct.query_constructor(uniprot_mapping[\"ACC\"].tolist())"
   ]
  },
  {
   "cell_type": "code",
   "execution_count": 41,
   "metadata": {
    "ExecuteTime": {
     "end_time": "2022-02-24T21:40:29.378137Z",
     "start_time": "2022-02-24T21:40:29.315376Z"
    }
   },
   "outputs": [
    {
     "name": "stdout",
     "output_type": "stream",
     "text": [
      "35557 Valid Query Genes\n",
      "0 Invalid Query Genes\n"
     ]
    }
   ],
   "source": [
    "uniprot_query, valid_uniprot, invalid_uniprot = gct.query_constructor(uniprot_mapping[\"ACC\"].tolist())"
   ]
  },
  {
   "cell_type": "code",
   "execution_count": 42,
   "metadata": {
    "ExecuteTime": {
     "end_time": "2022-02-24T21:41:07.742911Z",
     "start_time": "2022-02-24T21:40:35.962334Z"
    }
   },
   "outputs": [
    {
     "name": "stderr",
     "output_type": "stream",
     "text": [
      "100%|██████████| 36/36 [00:31<00:00,  1.13it/s]"
     ]
    },
    {
     "name": "stdout",
     "output_type": "stream",
     "text": [
      "36022 Matched query results\n",
      "Batch query complete: 31.78 seconds\n",
      "36022 Matched query results\n"
     ]
    },
    {
     "name": "stderr",
     "output_type": "stream",
     "text": [
      "\n"
     ]
    }
   ],
   "source": [
    "# Set scopes (gene naming systems to search)\n",
    "scopes = \"uniprot, refseq\"\n",
    "\n",
    "# Set fields (systems from which to return gene names from)\n",
    "fields = \"symbol, entrezgene\"\n",
    "\n",
    "# Query MyGene.Info\n",
    "match_list = gct.query_batch(uniprot_query, scopes=scopes, fields=fields)\n",
    "print(len(match_list), 'Matched query results')"
   ]
  },
  {
   "cell_type": "code",
   "execution_count": 43,
   "metadata": {
    "ExecuteTime": {
     "end_time": "2022-02-24T21:41:14.366073Z",
     "start_time": "2022-02-24T21:41:14.334501Z"
    }
   },
   "outputs": [],
   "source": [
    "match_list = pd.DataFrame.from_dict(match_list)"
   ]
  },
  {
   "cell_type": "code",
   "execution_count": 44,
   "metadata": {
    "ExecuteTime": {
     "end_time": "2022-02-24T21:41:20.966696Z",
     "start_time": "2022-02-24T21:41:20.941363Z"
    }
   },
   "outputs": [],
   "source": [
    "match_list_final = match_list_v2.merge(uniprot_mapping, left_on = [\"query\"], right_on=[\"ACC\"])\n",
    "match_list_final = match_list_final.loc[:, (\"query_y\", \"_id\", \"_score_x\", \"symbol\", \"notfound\")]\n",
    "match_list_final.columns = [\"query\", \"entrezgene\", \"_score\", \"symbol\", \"notfound\"]"
   ]
  },
  {
   "cell_type": "code",
   "execution_count": 45,
   "metadata": {
    "ExecuteTime": {
     "end_time": "2022-02-24T21:41:27.573208Z",
     "start_time": "2022-02-24T21:41:27.435377Z"
    },
    "scrolled": true
   },
   "outputs": [
    {
     "name": "stdout",
     "output_type": "stream",
     "text": [
      "Number of genes with multiple matches: 4397\n",
      "Number of unmatched genes: 5316\n",
      "Number of fully matched genes: 26280\n",
      "Number of partially matched genes: 5345\n"
     ]
    }
   ],
   "source": [
    "match_table_trim, query_to_symbol, query_to_entrez = gct.construct_query_map_table(match_list, valid_genes)"
   ]
  },
  {
   "cell_type": "markdown",
   "metadata": {},
   "source": [
    "## Construct Converted Network"
   ]
  },
  {
   "cell_type": "code",
   "execution_count": 46,
   "metadata": {
    "ExecuteTime": {
     "end_time": "2022-02-24T21:41:34.438725Z",
     "start_time": "2022-02-24T21:41:34.076986Z"
    }
   },
   "outputs": [],
   "source": [
    "# Format edge list by removing prefix indicators from all interactors\n",
    "edgelist_filt= [[gct.get_identifier_without_prefix(edge[0]),gct.get_identifier_without_prefix(edge[1])] for edge in edgelist_filt]"
   ]
  },
  {
   "cell_type": "code",
   "execution_count": 47,
   "metadata": {
    "ExecuteTime": {
     "end_time": "2022-02-24T21:41:41.250804Z",
     "start_time": "2022-02-24T21:41:40.929879Z"
    }
   },
   "outputs": [],
   "source": [
    "# Convert network edge list to symbol\n",
    "edgelist_updated = gct.convert_edgelist(edgelist_filt, query_to_symbol)"
   ]
  },
  {
   "cell_type": "code",
   "execution_count": 48,
   "metadata": {
    "ExecuteTime": {
     "end_time": "2022-02-24T21:41:47.951742Z",
     "start_time": "2022-02-24T21:41:47.784760Z"
    }
   },
   "outputs": [
    {
     "name": "stdout",
     "output_type": "stream",
     "text": [
      "478725 input edges\n",
      "12075 self-edges removed\n",
      "168750 edges with un-mapped genes removed\n",
      "170142 duplicate edges removed\n",
      "Edge list filtered: 0.16 seconds\n",
      "127758 Edges remaining\n"
     ]
    }
   ],
   "source": [
    "# Filter converted edge list\n",
    "edgelist_symbol_filt = gct.filter_converted_edgelist(edgelist_updated)"
   ]
  },
  {
   "cell_type": "code",
   "execution_count": 27,
   "metadata": {
    "ExecuteTime": {
     "end_time": "2021-11-19T01:47:04.847454Z",
     "start_time": "2021-11-19T01:47:04.719656Z"
    }
   },
   "outputs": [
    {
     "name": "stdout",
     "output_type": "stream",
     "text": [
      "478725 input edges\n",
      "12077 self-edges removed\n",
      "168006 edges with un-mapped genes removed\n",
      "166987 duplicate edges removed\n",
      "Edge list filtered: 0.12 seconds\n",
      "131655 Edges remaining\n"
     ]
    }
   ],
   "source": [
    "# Filter converted edge list\n",
    "edgelist_symbol_filt = gct.filter_converted_edgelist(edgelist_updated)"
   ]
  },
  {
   "cell_type": "code",
   "execution_count": 49,
   "metadata": {
    "ExecuteTime": {
     "end_time": "2022-02-24T21:42:28.759576Z",
     "start_time": "2022-02-24T21:42:28.542121Z"
    }
   },
   "outputs": [
    {
     "name": "stdout",
     "output_type": "stream",
     "text": [
      "Edge list saved: 0.22 seconds\n"
     ]
    }
   ],
   "source": [
    "# Save filtered, converted edge list to file\n",
    "gct.write_edgelist(edgelist_symbol_filt , wd+'Processed_Data/Network_SIFs_Symbol/iRefIndex_Symbol_2015.sif')"
   ]
  },
  {
   "cell_type": "markdown",
   "metadata": {},
   "source": [
    "# Changes"
   ]
  },
  {
   "cell_type": "code",
   "execution_count": 52,
   "metadata": {
    "ExecuteTime": {
     "end_time": "2022-02-24T21:43:34.599223Z",
     "start_time": "2022-02-24T21:43:33.935712Z"
    }
   },
   "outputs": [
    {
     "data": {
      "image/png": "[encoded data removed]",
      "text/plain": [
       "<Figure size 1080x360 with 2 Axes>"
      ]
     },
     "metadata": {
      "needs_background": "light"
     },
     "output_type": "display_data"
    }
   ],
   "source": [
    "dit.plot_changes_to_dataset(input_raw, input_raw_v2, edgelist_symbol_filt, edgelist_symbol_filt_v2, input_human, input_human_v2)"
   ]
  }
 ],
 "metadata": {
  "kernelspec": {
   "display_name": "Python [conda env:pcnet_py3]",
   "language": "python",
   "name": "conda-env-pcnet_py3-py"
  },
  "language_info": {
   "codemirror_mode": {
    "name": "ipython",
    "version": 3
   },
   "file_extension": ".py",
   "mimetype": "text/x-python",
   "name": "python",
   "nbconvert_exporter": "python",
   "pygments_lexer": "ipython3",
   "version": "3.10.0"
  },
  "toc": {
   "base_numbering": 1,
   "nav_menu": {},
   "number_sections": true,
   "sideBar": true,
   "skip_h1_title": false,
   "title_cell": "Table of Contents",
   "title_sidebar": "Contents",
   "toc_cell": false,
   "toc_position": {
    "height": "calc(100% - 180px)",
    "left": "10px",
    "top": "150px",
    "width": "341.458px"
   },
   "toc_section_display": true,
   "toc_window_display": true
  },
  "varInspector": {
   "cols": {
    "lenName": 16,
    "lenType": 16,
    "lenVar": 40
   },
   "kernels_config": {
    "python": {
     "delete_cmd_postfix": "",
     "delete_cmd_prefix": "del ",
     "library": "var_list.py",
     "varRefreshCmd": "print(var_dic_list())"
    },
    "r": {
     "delete_cmd_postfix": ") ",
     "delete_cmd_prefix": "rm(",
     "library": "var_list.r",
     "varRefreshCmd": "cat(var_dic_list()) "
    }
   },
   "types_to_exclude": [
    "module",
    "function",
    "builtin_function_or_method",
    "instance",
    "_Feature"
   ],
   "window_display": false
  }
 },
 "nbformat": 4,
 "nbformat_minor": 1
}
