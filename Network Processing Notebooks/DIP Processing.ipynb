{
 "cells": [
  {
   "cell_type": "code",
   "execution_count": 1,
   "metadata": {
    "ExecuteTime": {
     "end_time": "2022-01-17T22:48:48.408890Z",
     "start_time": "2022-01-17T22:48:46.542242Z"
    }
   },
   "outputs": [],
   "source": [
    "from network_evaluation_tools import gene_conversion_tools as gct\n",
    "import pandas as pd\n",
    "import itertools"
   ]
  },
  {
   "cell_type": "code",
   "execution_count": 2,
   "metadata": {
    "ExecuteTime": {
     "end_time": "2022-01-17T22:48:48.414707Z",
     "start_time": "2022-01-17T22:48:48.413288Z"
    }
   },
   "outputs": [],
   "source": [
    "wd = '/cellar/users/snwright/Data/Network_Analysis/'"
   ]
  },
  {
   "cell_type": "markdown",
   "metadata": {},
   "source": [
    "## Load PID Raw Data\n",
    "#### Source (MITAB): http://dip.doe-mbi.ucla.edu/dip/File.cgi?FN=2016/tab25/Hsapi20170205.txt\n",
    "Downloaded: June 15, 2017  \n",
    "Last Updated: Februrary 05, 2017    \n",
    "Notes for download: Website requires registration. Register for the site to download the file from the link.  \n",
    "Notes for processing: This is the file for human protein interactions, however, not all interactions are human-human interactions. These need to be filtered. Also all ID's not without RefSeq or UniProt ID are excluded. Custom processing for this network is described below"
   ]
  },
  {
   "cell_type": "code",
   "execution_count": 6,
   "metadata": {
    "ExecuteTime": {
     "end_time": "2022-01-17T22:59:17.419677Z",
     "start_time": "2022-01-17T22:59:17.378466Z"
    }
   },
   "outputs": [
    {
     "name": "stdout",
     "output_type": "stream",
     "text": [
      "Raw edge count in DIP: 7794\n"
     ]
    }
   ],
   "source": [
    "DIP_Raw = pd.read_csv(wd+'Network_Data_Raw/DIP_Hsapi20170205.txt', index_col=0, sep='\\t')\n",
    "print('Raw edge count in DIP:', len(DIP_Raw))"
   ]
  },
  {
   "cell_type": "code",
   "execution_count": 7,
   "metadata": {
    "ExecuteTime": {
     "end_time": "2022-01-17T22:59:32.917340Z",
     "start_time": "2022-01-17T22:59:32.905788Z"
    }
   },
   "outputs": [],
   "source": [
    "# Fix the column offset in the interaction data table\n",
    "DIP_Raw_offset = DIP_Raw.reset_index(drop=False)[DIP_Raw.reset_index(drop=False).columns[:-2]]\n",
    "DIP_Raw_offset.columns = DIP_Raw.columns[:-1]"
   ]
  },
  {
   "cell_type": "code",
   "execution_count": 8,
   "metadata": {
    "ExecuteTime": {
     "end_time": "2022-01-17T22:59:38.991509Z",
     "start_time": "2022-01-17T22:59:38.984846Z"
    }
   },
   "outputs": [
    {
     "name": "stdout",
     "output_type": "stream",
     "text": [
      "Human-Human only interactions in DIP: 5569\n"
     ]
    }
   ],
   "source": [
    "# Keep only human-human interactions\n",
    "DIP_Human_only = DIP_Raw_offset[(DIP_Raw_offset['Taxid interactor A']=='taxid:9606(Homo sapiens)') & (DIP_Raw_offset['Taxid interactor B']=='taxid:9606(Homo sapiens)')]\n",
    "print('Human-Human only interactions in DIP:', len(DIP_Human_only))"
   ]
  },
  {
   "cell_type": "markdown",
   "metadata": {},
   "source": [
    "#### Parse all genes in filtered DIP and keep only RefSeq/UniProtKB labelled interactions"
   ]
  },
  {
   "cell_type": "code",
   "execution_count": 9,
   "metadata": {
    "ExecuteTime": {
     "end_time": "2022-01-17T22:59:43.283532Z",
     "start_time": "2022-01-17T22:59:43.280104Z"
    }
   },
   "outputs": [],
   "source": [
    "# Extract gene list\n",
    "Human_DIP_Genes = list(set(DIP_Human_only['ID interactor A']).union(set(DIP_Human_only['ID interactor B'])))"
   ]
  },
  {
   "cell_type": "code",
   "execution_count": 10,
   "metadata": {
    "ExecuteTime": {
     "end_time": "2022-01-17T22:59:45.670109Z",
     "start_time": "2022-01-17T22:59:45.666443Z"
    }
   },
   "outputs": [],
   "source": [
    "# Split all gene names into list of genes and concatenate\n",
    "Human_DIP_Genes_split = [name.split('|') for name in Human_DIP_Genes]\n",
    "Human_DIP_Genes_full_list = list(itertools.chain.from_iterable(Human_DIP_Genes_split))\n",
    "\n",
    "# Note about this line: This is to fix the one example where one of the Uniprot genes gets labelled as \"uniprotkb:Q13936,159'\n",
    "Human_DIP_Genes_full_list = [name.split(',')[0] for name in Human_DIP_Genes_full_list] "
   ]
  },
  {
   "cell_type": "markdown",
   "metadata": {},
   "source": [
    "## Convert Genes"
   ]
  },
  {
   "cell_type": "code",
   "execution_count": 11,
   "metadata": {
    "ExecuteTime": {
     "end_time": "2022-01-17T22:59:48.672927Z",
     "start_time": "2022-01-17T22:59:48.654339Z"
    }
   },
   "outputs": [
    {
     "name": "stdout",
     "output_type": "stream",
     "text": [
      "5017 Valid Query Genes\n",
      "3281 Invalid Query Genes\n"
     ]
    }
   ],
   "source": [
    "# Construct list of genes to be submitted to MyGene.Info API (remove all genes with 'DIP' prefix)\n",
    "query_string, valid_genes, invalid_genes = gct.query_constructor(Human_DIP_Genes_full_list, exclude_prefixes=['DIP'])"
   ]
  },
  {
   "cell_type": "code",
   "execution_count": 12,
   "metadata": {
    "ExecuteTime": {
     "end_time": "2022-01-17T23:00:02.335824Z",
     "start_time": "2022-01-17T22:59:56.554359Z"
    }
   },
   "outputs": [
    {
     "name": "stderr",
     "output_type": "stream",
     "text": [
      "100%|██████████| 6/6 [00:05<00:00,  1.08it/s]"
     ]
    },
    {
     "name": "stdout",
     "output_type": "stream",
     "text": [
      "5070 Matched query results\n",
      "Batch query complete: 5.78 seconds\n",
      "5070 Matched query results\n"
     ]
    },
    {
     "name": "stderr",
     "output_type": "stream",
     "text": [
      "\n"
     ]
    }
   ],
   "source": [
    "# Set scopes (gene naming systems to search)\n",
    "scopes = \"uniprot, refseq\"\n",
    "# Set fields (systems from which to return gene names from)\n",
    "fields = \"symbol, entrezgene\"\n",
    "# Query MyGene.Info\n",
    "match_list = gct.query_batch(query_string, scopes=scopes, fields=fields)\n",
    "print(len(match_list), 'Matched query results')"
   ]
  },
  {
   "cell_type": "code",
   "execution_count": 13,
   "metadata": {
    "ExecuteTime": {
     "end_time": "2022-01-17T23:00:18.936080Z",
     "start_time": "2022-01-17T23:00:17.868811Z"
    },
    "scrolled": true
   },
   "outputs": [
    {
     "name": "stdout",
     "output_type": "stream",
     "text": [
      "Queries without full matching results found: 112\n",
      "\n",
      "70 Queries with mutliple matches found\n",
      "\n",
      "Query mapping table/dictionary construction complete: 1.06 seconds\n"
     ]
    }
   ],
   "source": [
    "# Original: 106,74\n",
    "match_table_trim, query_to_symbol, query_to_entrez = gct.construct_query_map_table(match_list, valid_genes)"
   ]
  },
  {
   "cell_type": "markdown",
   "metadata": {},
   "source": [
    "## Construct Converted Network"
   ]
  },
  {
   "cell_type": "code",
   "execution_count": 62,
   "metadata": {
    "ExecuteTime": {
     "end_time": "2022-01-17T23:16:08.262667Z",
     "start_time": "2022-01-17T23:16:08.258750Z"
    }
   },
   "outputs": [],
   "source": [
    "# This is a custom gene conversion function written due to the parsing required for gene interactor labels\n",
    "# Returns best matched symbol and/or entrez id from each DIP interactor string (if applicable)\n",
    "def convert_DIP_string(string, field):\n",
    "    all_names = [gct.get_identifier_without_prefix(name) for name in string.split('|')]\n",
    "    names = [name for name in all_names if name in match_table_trim.index]\n",
    "    # Keep only mappings defined for field of interest\n",
    "    if field=='symbol' and len(names) > 0:\n",
    "        # Return match table values that have matched symbol\n",
    "        conversion = match_table_trim.loc[names][~(match_table_trim.loc[names]['Symbol'].isnull())]\n",
    "        # Return conversion with max score or None if no conversion\n",
    "        if conversion.shape[0]==0:\n",
    "            return None\n",
    "        else:\n",
    "            max_score = conversion['Score'].max()\n",
    "            return conversion[conversion['Score']==max_score].iloc[0]['Symbol']\n",
    "    elif field=='entrez' and len(names) > 0:\n",
    "        # Return match table values that have matched symbol\n",
    "        conversion = match_table_trim.loc[names][~(match_table_trim.loc[names]['EntrezID'].isnull())]\n",
    "        if conversion.shape[0]==0:\n",
    "            return None\n",
    "        else:\n",
    "            # Return conversion with max score or None if no conversion\n",
    "            max_score = conversion['Score'].max()\n",
    "            return conversion[conversion['Score']==max_score].iloc[0]['EntrezID']\n",
    "    else:\n",
    "        return None"
   ]
  },
  {
   "cell_type": "code",
   "execution_count": 72,
   "metadata": {
    "ExecuteTime": {
     "end_time": "2022-01-17T23:24:18.689858Z",
     "start_time": "2022-01-17T23:24:05.794923Z"
    }
   },
   "outputs": [],
   "source": [
    "DIP_Human_only_edges = DIP_Human_only[['ID interactor A', 'ID interactor B']].values.tolist()\n",
    "DIP_edgelist_symbol = []\n",
    "for edge in DIP_Human_only_edges:\n",
    "    symbol1 = convert_DIP_string(edge[0], 'symbol')\n",
    "    symbol2 = convert_DIP_string(edge[1], 'symbol')\n",
    "    if symbol1 is not None and symbol2 is not None:\n",
    "        DIP_edgelist_symbol.append(sorted([symbol1, symbol2]))\n",
    "    else:\n",
    "        DIP_edgelist_symbol.append([symbol1, symbol2])\n",
    "        \n",
    "#DIP_edgelist_symbol = [sorted([convert_DIP_string(edge[0],'symbol'),convert_DIP_string(edge[1],'symbol')]) for edge in DIP_Human_only_edges]"
   ]
  },
  {
   "cell_type": "code",
   "execution_count": 73,
   "metadata": {
    "ExecuteTime": {
     "end_time": "2022-01-17T23:24:18.738499Z",
     "start_time": "2022-01-17T23:24:18.728334Z"
    }
   },
   "outputs": [
    {
     "name": "stdout",
     "output_type": "stream",
     "text": [
      "5569 input edges\n",
      "506 self-edges removed\n",
      "315 edges with un-mapped genes removed\n",
      "25 duplicate edges removed\n",
      "Edge list filtered: 0.01 seconds\n",
      "4723 Edges remaining\n"
     ]
    }
   ],
   "source": [
    "# Original:\n",
    "#5569 input edges\n",
    "#512 self-edges removed\n",
    "#309 edges with un-mapped genes removed\n",
    "#26 duplicate edges removed\n",
    "#Edge list filtered: 0.02 seconds\n",
    "#4722 Edges remaining\n",
    "# Filter converted edge list\n",
    "DIP_edgelist_symbol_filt = gct.filter_converted_edgelist(pd.DataFrame(DIP_edgelist_symbol, columns=[\"symbol_n1\", \"symbol_n2\"]))"
   ]
  },
  {
   "cell_type": "code",
   "execution_count": 75,
   "metadata": {
    "ExecuteTime": {
     "end_time": "2022-01-17T23:24:49.570821Z",
     "start_time": "2022-01-17T23:24:49.501164Z"
    }
   },
   "outputs": [
    {
     "name": "stdout",
     "output_type": "stream",
     "text": [
      "Edge list saved: 0.07 seconds\n"
     ]
    }
   ],
   "source": [
    "# Save converted edge list\n",
    "gct.write_edgelist(DIP_edgelist_symbol_filt, wd+'/Processed_Data/Network_SIFs_Symbol/DIP_Symbol_2017.sif')"
   ]
  }
 ],
 "metadata": {
  "kernelspec": {
   "display_name": "Python [conda env:pcnet_py3]",
   "language": "python",
   "name": "conda-env-pcnet_py3-py"
  },
  "language_info": {
   "codemirror_mode": {
    "name": "ipython",
    "version": 3
   },
   "file_extension": ".py",
   "mimetype": "text/x-python",
   "name": "python",
   "nbconvert_exporter": "python",
   "pygments_lexer": "ipython3",
   "version": "3.10.0"
  },
  "toc": {
   "base_numbering": 1,
   "nav_menu": {},
   "number_sections": true,
   "sideBar": true,
   "skip_h1_title": false,
   "title_cell": "Table of Contents",
   "title_sidebar": "Contents",
   "toc_cell": false,
   "toc_position": {},
   "toc_section_display": true,
   "toc_window_display": false
  },
  "varInspector": {
   "cols": {
    "lenName": 16,
    "lenType": 16,
    "lenVar": 40
   },
   "kernels_config": {
    "python": {
     "delete_cmd_postfix": "",
     "delete_cmd_prefix": "del ",
     "library": "var_list.py",
     "varRefreshCmd": "print(var_dic_list())"
    },
    "r": {
     "delete_cmd_postfix": ") ",
     "delete_cmd_prefix": "rm(",
     "library": "var_list.r",
     "varRefreshCmd": "cat(var_dic_list()) "
    }
   },
   "types_to_exclude": [
    "module",
    "function",
    "builtin_function_or_method",
    "instance",
    "_Feature"
   ],
   "window_display": false
  }
 },
 "nbformat": 4,
 "nbformat_minor": 1
}
