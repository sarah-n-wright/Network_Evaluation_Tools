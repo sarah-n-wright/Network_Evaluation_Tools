{
 "cells": [
  {
   "cell_type": "code",
   "execution_count": 67,
   "metadata": {
    "ExecuteTime": {
     "end_time": "2022-02-01T01:36:47.370682Z",
     "start_time": "2022-02-01T01:36:47.368875Z"
    }
   },
   "outputs": [],
   "source": [
    "from network_evaluation_tools import gene_conversion_tools as gct\n",
    "from network_evaluation_tools import data_import_tools as dit\n",
    "import pandas as pd\n",
    "import itertools\n",
    "from tqdm import tqdm"
   ]
  },
  {
   "cell_type": "code",
   "execution_count": 2,
   "metadata": {
    "ExecuteTime": {
     "end_time": "2022-02-01T01:05:08.824750Z",
     "start_time": "2022-02-01T01:05:08.823335Z"
    }
   },
   "outputs": [],
   "source": [
    "wd = '/cellar/users/snwright/Data/Network_Analysis/'"
   ]
  },
  {
   "cell_type": "markdown",
   "metadata": {},
   "source": [
    "# Load PID Raw Data\n",
    "**Source (MITAB): http://dip.doe-mbi.ucla.edu/dip/File.cgi?FN=2016/tab25/Hsapi20170205.txt**  \n",
    "Downloaded: June 15, 2017  \n",
    "Last Updated: Februrary 05, 2017    \n",
    "Notes for download: Website requires registration. Register for the site to download the file from the link.  \n",
    "Notes for processing: This is the file for human protein interactions, however, not all interactions are human-human interactions. These need to be filtered. Also all ID's not without RefSeq or UniProt ID are excluded. Custom processing for this network is described below"
   ]
  },
  {
   "cell_type": "code",
   "execution_count": 3,
   "metadata": {
    "ExecuteTime": {
     "end_time": "2022-02-01T01:05:09.193053Z",
     "start_time": "2022-02-01T01:05:08.830476Z"
    }
   },
   "outputs": [
    {
     "name": "stdout",
     "output_type": "stream",
     "text": [
      "Raw edge count in DIP: 7794\n"
     ]
    }
   ],
   "source": [
    "input_raw = pd.read_csv(wd+'Network_Data_Raw/DIP_Hsapi20170205.txt', index_col=0, sep='\\t')\n",
    "print('Raw edge count in DIP:', len(input_raw))"
   ]
  },
  {
   "cell_type": "code",
   "execution_count": 4,
   "metadata": {
    "ExecuteTime": {
     "end_time": "2022-02-01T01:05:21.206919Z",
     "start_time": "2022-02-01T01:05:21.150886Z"
    }
   },
   "outputs": [],
   "source": [
    "# Fix the column offset in the interaction data table\n",
    "input_raw_offset = input_raw.reset_index(drop=False)[input_raw.reset_index(drop=False).columns[:-2]]\n",
    "input_raw_offset.columns = input_raw.columns[:-1]"
   ]
  },
  {
   "cell_type": "code",
   "execution_count": 7,
   "metadata": {
    "ExecuteTime": {
     "end_time": "2022-02-01T01:06:29.509340Z",
     "start_time": "2022-02-01T01:06:29.501397Z"
    }
   },
   "outputs": [
    {
     "name": "stdout",
     "output_type": "stream",
     "text": [
      "Human-Human only interactions in DIP: 5569\n"
     ]
    }
   ],
   "source": [
    "# Keep only human-human interactions\n",
    "input_human = input_raw_offset[(input_raw_offset['Taxid interactor A']=='taxid:9606(Homo sapiens)') & (input_raw_offset['Taxid interactor B']=='taxid:9606(Homo sapiens)')]\n",
    "print('Human-Human only interactions in DIP:', len(input_human))"
   ]
  },
  {
   "cell_type": "code",
   "execution_count": 63,
   "metadata": {
    "ExecuteTime": {
     "end_time": "2022-02-01T01:33:47.259759Z",
     "start_time": "2022-02-01T01:33:47.247412Z"
    }
   },
   "outputs": [
    {
     "data": {
      "text/html": [
       "<div>\n",
       "<style scoped>\n",
       "    .dataframe tbody tr th:only-of-type {\n",
       "        vertical-align: middle;\n",
       "    }\n",
       "\n",
       "    .dataframe tbody tr th {\n",
       "        vertical-align: top;\n",
       "    }\n",
       "\n",
       "    .dataframe thead th {\n",
       "        text-align: right;\n",
       "    }\n",
       "</style>\n",
       "<table border=\"1\" class=\"dataframe\">\n",
       "  <thead>\n",
       "    <tr style=\"text-align: right;\">\n",
       "      <th></th>\n",
       "      <th>ID interactor A</th>\n",
       "      <th>ID interactor B</th>\n",
       "      <th>Alt. ID interactor A</th>\n",
       "      <th>Alt. ID interactor B</th>\n",
       "      <th>Alias(es) interactor A</th>\n",
       "      <th>Alias(es) interactor B</th>\n",
       "      <th>Interaction detection method(s)</th>\n",
       "      <th>Publication 1st author(s)</th>\n",
       "      <th>Publication Identifier(s)</th>\n",
       "      <th>Taxid interactor A</th>\n",
       "      <th>Taxid interactor B</th>\n",
       "      <th>Interaction type(s)</th>\n",
       "      <th>Source database(s)</th>\n",
       "      <th>Interaction identifier(s)</th>\n",
       "      <th>Confidence value(s)</th>\n",
       "      <th>Processing Status</th>\n",
       "    </tr>\n",
       "  </thead>\n",
       "  <tbody>\n",
       "    <tr>\n",
       "      <th>0</th>\n",
       "      <td>DIP-617N|refseq:NP_000607|uniprotkb:P01730</td>\n",
       "      <td>DIP-617N|refseq:NP_000607|uniprotkb:P01730</td>\n",
       "      <td>-</td>\n",
       "      <td>-</td>\n",
       "      <td>-</td>\n",
       "      <td>-</td>\n",
       "      <td>MI:0114(x-ray crystallography)|MI:0031(protein...</td>\n",
       "      <td>-</td>\n",
       "      <td>pubmed:9168119|pubmed:DIP-17838S|pubmed:916811...</td>\n",
       "      <td>taxid:9606(Homo sapiens)</td>\n",
       "      <td>taxid:9606(Homo sapiens)</td>\n",
       "      <td>MI:0407(direct interaction)|MI:0407(direct int...</td>\n",
       "      <td>MI:0465(dip)</td>\n",
       "      <td>DIP-42E</td>\n",
       "      <td>dip-quality-status:core</td>\n",
       "      <td>dip:0004(small scale)|dip:0004(small scale)</td>\n",
       "    </tr>\n",
       "    <tr>\n",
       "      <th>2</th>\n",
       "      <td>DIP-472N|refseq:NP_005047|uniprotkb:P29375</td>\n",
       "      <td>DIP-582N|refseq:NP_000312|uniprotkb:P06400</td>\n",
       "      <td>-</td>\n",
       "      <td>-</td>\n",
       "      <td>-</td>\n",
       "      <td>-</td>\n",
       "      <td>MI:0401(biochemical)|MI:0006(anti bait coimmun...</td>\n",
       "      <td>-</td>\n",
       "      <td>pubmed:8414517|pubmed:DIP-109S|pubmed:22615382...</td>\n",
       "      <td>taxid:9606(Homo sapiens)</td>\n",
       "      <td>taxid:9606(Homo sapiens)</td>\n",
       "      <td>MI:0218(physical interaction)|MI:0915(physical...</td>\n",
       "      <td>MI:0465(dip)</td>\n",
       "      <td>DIP-214E</td>\n",
       "      <td>dip-quality-status:core</td>\n",
       "      <td>dip:0002(small scale)|dip:0004(small scale)|di...</td>\n",
       "    </tr>\n",
       "    <tr>\n",
       "      <th>3</th>\n",
       "      <td>DIP-1078N|refseq:NP_003185|uniprotkb:P20226</td>\n",
       "      <td>DIP-51N|uniprotkb:P09086</td>\n",
       "      <td>-</td>\n",
       "      <td>-</td>\n",
       "      <td>-</td>\n",
       "      <td>-</td>\n",
       "      <td>MI:0019(coimmunoprecipitation)|MI:0401(biochem...</td>\n",
       "      <td>-</td>\n",
       "      <td>pubmed:8202368|pubmed:DIP-468S|pubmed:8202368|...</td>\n",
       "      <td>taxid:9606(Homo sapiens)</td>\n",
       "      <td>taxid:9606(Homo sapiens)</td>\n",
       "      <td>MI:0218(physical interaction)|MI:0218(physical...</td>\n",
       "      <td>MI:0465(dip)</td>\n",
       "      <td>DIP-320E</td>\n",
       "      <td>dip-quality-status:core</td>\n",
       "      <td>dip:0002(small scale)|dip:0002(small scale)</td>\n",
       "    </tr>\n",
       "    <tr>\n",
       "      <th>4</th>\n",
       "      <td>DIP-189N|refseq:NP_005179|uniprotkb:P22681</td>\n",
       "      <td>DIP-199N|refseq:refseq|uniprotkb:P46108</td>\n",
       "      <td>-</td>\n",
       "      <td>-</td>\n",
       "      <td>-</td>\n",
       "      <td>-</td>\n",
       "      <td>MI:0045(experimental interaction detection)</td>\n",
       "      <td>-</td>\n",
       "      <td>pubmed:9178909|pubmed:DIP-185S</td>\n",
       "      <td>taxid:9606(Homo sapiens)</td>\n",
       "      <td>taxid:9606(Homo sapiens)</td>\n",
       "      <td>MI:0218(physical interaction)</td>\n",
       "      <td>MI:0465(dip)</td>\n",
       "      <td>DIP-401E</td>\n",
       "      <td>dip-quality-status:core</td>\n",
       "      <td>dip:0002(small scale)</td>\n",
       "    </tr>\n",
       "    <tr>\n",
       "      <th>5</th>\n",
       "      <td>DIP-119N|uniprotkb:P27986</td>\n",
       "      <td>DIP-480N|uniprotkb:P06213</td>\n",
       "      <td>-</td>\n",
       "      <td>-</td>\n",
       "      <td>-</td>\n",
       "      <td>-</td>\n",
       "      <td>MI:0018(two hybrid)</td>\n",
       "      <td>-</td>\n",
       "      <td>pubmed:7589433|pubmed:DIP-247S</td>\n",
       "      <td>taxid:9606(Homo sapiens)</td>\n",
       "      <td>taxid:9606(Homo sapiens)</td>\n",
       "      <td>MI:0218(physical interaction)</td>\n",
       "      <td>MI:0465(dip)</td>\n",
       "      <td>DIP-447E</td>\n",
       "      <td>dip-quality-status:core</td>\n",
       "      <td>dip:0002(small scale)</td>\n",
       "    </tr>\n",
       "    <tr>\n",
       "      <th>...</th>\n",
       "      <td>...</td>\n",
       "      <td>...</td>\n",
       "      <td>...</td>\n",
       "      <td>...</td>\n",
       "      <td>...</td>\n",
       "      <td>...</td>\n",
       "      <td>...</td>\n",
       "      <td>...</td>\n",
       "      <td>...</td>\n",
       "      <td>...</td>\n",
       "      <td>...</td>\n",
       "      <td>...</td>\n",
       "      <td>...</td>\n",
       "      <td>...</td>\n",
       "      <td>...</td>\n",
       "      <td>...</td>\n",
       "    </tr>\n",
       "    <tr>\n",
       "      <th>7789</th>\n",
       "      <td>DIP-50384N|uniprotkb:Q16740</td>\n",
       "      <td>DIP-50293N|uniprotkb:O76031</td>\n",
       "      <td>-</td>\n",
       "      <td>-</td>\n",
       "      <td>-</td>\n",
       "      <td>-</td>\n",
       "      <td>MI:0006(anti bait coimmunoprecipitation)|MI:00...</td>\n",
       "      <td>-</td>\n",
       "      <td>pubmed:27389535|pubmed:DIP-18180S|pubmed:27389...</td>\n",
       "      <td>taxid:9606(Homo sapiens)</td>\n",
       "      <td>taxid:9606(Homo sapiens)</td>\n",
       "      <td>MI:0915(physical association)|MI:0915(physical...</td>\n",
       "      <td>MI:0465(dip)</td>\n",
       "      <td>DIP-201528E</td>\n",
       "      <td>dip-quality-status:core</td>\n",
       "      <td>dip:0004(small scale)|dip:0004(small scale)</td>\n",
       "    </tr>\n",
       "    <tr>\n",
       "      <th>7790</th>\n",
       "      <td>DIP-50384N|uniprotkb:Q16740</td>\n",
       "      <td>DIP-39666N|refseq:NP_002991|uniprotkb:P21912</td>\n",
       "      <td>-</td>\n",
       "      <td>-</td>\n",
       "      <td>-</td>\n",
       "      <td>-</td>\n",
       "      <td>MI:0006(anti bait coimmunoprecipitation)</td>\n",
       "      <td>-</td>\n",
       "      <td>pubmed:27389535|pubmed:DIP-18180S</td>\n",
       "      <td>taxid:9606(Homo sapiens)</td>\n",
       "      <td>taxid:9606(Homo sapiens)</td>\n",
       "      <td>MI:0915(physical association)</td>\n",
       "      <td>MI:0465(dip)</td>\n",
       "      <td>DIP-201529E</td>\n",
       "      <td>dip-quality-status:core</td>\n",
       "      <td>dip:0004(small scale)</td>\n",
       "    </tr>\n",
       "    <tr>\n",
       "      <th>7791</th>\n",
       "      <td>DIP-34662N|uniprotkb:O15392</td>\n",
       "      <td>DIP-6250N|refseq:NP_057376|uniprotkb:Q12931</td>\n",
       "      <td>-</td>\n",
       "      <td>-</td>\n",
       "      <td>-</td>\n",
       "      <td>-</td>\n",
       "      <td>MI:0006(anti bait coimmunoprecipitation)</td>\n",
       "      <td>-</td>\n",
       "      <td>pubmed:27389535|pubmed:DIP-18180S</td>\n",
       "      <td>taxid:9606(Homo sapiens)</td>\n",
       "      <td>taxid:9606(Homo sapiens)</td>\n",
       "      <td>MI:0915(physical association)</td>\n",
       "      <td>MI:0465(dip)</td>\n",
       "      <td>DIP-201530E</td>\n",
       "      <td>dip-quality-status:core</td>\n",
       "      <td>dip:0004(small scale)</td>\n",
       "    </tr>\n",
       "    <tr>\n",
       "      <th>7792</th>\n",
       "      <td>DIP-50293N|uniprotkb:O76031</td>\n",
       "      <td>DIP-39666N|refseq:NP_002991|uniprotkb:P21912</td>\n",
       "      <td>-</td>\n",
       "      <td>-</td>\n",
       "      <td>-</td>\n",
       "      <td>-</td>\n",
       "      <td>MI:0006(anti bait coimmunoprecipitation)</td>\n",
       "      <td>-</td>\n",
       "      <td>pubmed:27389535|pubmed:DIP-18180S</td>\n",
       "      <td>taxid:9606(Homo sapiens)</td>\n",
       "      <td>taxid:9606(Homo sapiens)</td>\n",
       "      <td>MI:0915(physical association)</td>\n",
       "      <td>MI:0465(dip)</td>\n",
       "      <td>DIP-201531E</td>\n",
       "      <td>dip-quality-status:core</td>\n",
       "      <td>dip:0004(small scale)</td>\n",
       "    </tr>\n",
       "    <tr>\n",
       "      <th>7793</th>\n",
       "      <td>DIP-6250N|refseq:NP_057376|uniprotkb:Q12931</td>\n",
       "      <td>DIP-50384N|uniprotkb:Q16740</td>\n",
       "      <td>-</td>\n",
       "      <td>-</td>\n",
       "      <td>-</td>\n",
       "      <td>-</td>\n",
       "      <td>MI:0006(anti bait coimmunoprecipitation)</td>\n",
       "      <td>-</td>\n",
       "      <td>pubmed:27389535|pubmed:DIP-18180S</td>\n",
       "      <td>taxid:9606(Homo sapiens)</td>\n",
       "      <td>taxid:9606(Homo sapiens)</td>\n",
       "      <td>MI:0915(physical association)</td>\n",
       "      <td>MI:0465(dip)</td>\n",
       "      <td>DIP-201532E</td>\n",
       "      <td>dip-quality-status:core</td>\n",
       "      <td>dip:0004(small scale)</td>\n",
       "    </tr>\n",
       "  </tbody>\n",
       "</table>\n",
       "<p>5569 rows × 16 columns</p>\n",
       "</div>"
      ],
      "text/plain": [
       "                                  ID interactor A  \\\n",
       "0      DIP-617N|refseq:NP_000607|uniprotkb:P01730   \n",
       "2      DIP-472N|refseq:NP_005047|uniprotkb:P29375   \n",
       "3     DIP-1078N|refseq:NP_003185|uniprotkb:P20226   \n",
       "4      DIP-189N|refseq:NP_005179|uniprotkb:P22681   \n",
       "5                       DIP-119N|uniprotkb:P27986   \n",
       "...                                           ...   \n",
       "7789                  DIP-50384N|uniprotkb:Q16740   \n",
       "7790                  DIP-50384N|uniprotkb:Q16740   \n",
       "7791                  DIP-34662N|uniprotkb:O15392   \n",
       "7792                  DIP-50293N|uniprotkb:O76031   \n",
       "7793  DIP-6250N|refseq:NP_057376|uniprotkb:Q12931   \n",
       "\n",
       "                                   ID interactor B Alt. ID interactor A  \\\n",
       "0       DIP-617N|refseq:NP_000607|uniprotkb:P01730                    -   \n",
       "2       DIP-582N|refseq:NP_000312|uniprotkb:P06400                    -   \n",
       "3                         DIP-51N|uniprotkb:P09086                    -   \n",
       "4          DIP-199N|refseq:refseq|uniprotkb:P46108                    -   \n",
       "5                        DIP-480N|uniprotkb:P06213                    -   \n",
       "...                                            ...                  ...   \n",
       "7789                   DIP-50293N|uniprotkb:O76031                    -   \n",
       "7790  DIP-39666N|refseq:NP_002991|uniprotkb:P21912                    -   \n",
       "7791   DIP-6250N|refseq:NP_057376|uniprotkb:Q12931                    -   \n",
       "7792  DIP-39666N|refseq:NP_002991|uniprotkb:P21912                    -   \n",
       "7793                   DIP-50384N|uniprotkb:Q16740                    -   \n",
       "\n",
       "     Alt. ID interactor B Alias(es) interactor A Alias(es) interactor B  \\\n",
       "0                       -                      -                      -   \n",
       "2                       -                      -                      -   \n",
       "3                       -                      -                      -   \n",
       "4                       -                      -                      -   \n",
       "5                       -                      -                      -   \n",
       "...                   ...                    ...                    ...   \n",
       "7789                    -                      -                      -   \n",
       "7790                    -                      -                      -   \n",
       "7791                    -                      -                      -   \n",
       "7792                    -                      -                      -   \n",
       "7793                    -                      -                      -   \n",
       "\n",
       "                        Interaction detection method(s)  \\\n",
       "0     MI:0114(x-ray crystallography)|MI:0031(protein...   \n",
       "2     MI:0401(biochemical)|MI:0006(anti bait coimmun...   \n",
       "3     MI:0019(coimmunoprecipitation)|MI:0401(biochem...   \n",
       "4           MI:0045(experimental interaction detection)   \n",
       "5                                   MI:0018(two hybrid)   \n",
       "...                                                 ...   \n",
       "7789  MI:0006(anti bait coimmunoprecipitation)|MI:00...   \n",
       "7790           MI:0006(anti bait coimmunoprecipitation)   \n",
       "7791           MI:0006(anti bait coimmunoprecipitation)   \n",
       "7792           MI:0006(anti bait coimmunoprecipitation)   \n",
       "7793           MI:0006(anti bait coimmunoprecipitation)   \n",
       "\n",
       "     Publication 1st author(s)  \\\n",
       "0                            -   \n",
       "2                            -   \n",
       "3                            -   \n",
       "4                            -   \n",
       "5                            -   \n",
       "...                        ...   \n",
       "7789                         -   \n",
       "7790                         -   \n",
       "7791                         -   \n",
       "7792                         -   \n",
       "7793                         -   \n",
       "\n",
       "                              Publication Identifier(s)  \\\n",
       "0     pubmed:9168119|pubmed:DIP-17838S|pubmed:916811...   \n",
       "2     pubmed:8414517|pubmed:DIP-109S|pubmed:22615382...   \n",
       "3     pubmed:8202368|pubmed:DIP-468S|pubmed:8202368|...   \n",
       "4                        pubmed:9178909|pubmed:DIP-185S   \n",
       "5                        pubmed:7589433|pubmed:DIP-247S   \n",
       "...                                                 ...   \n",
       "7789  pubmed:27389535|pubmed:DIP-18180S|pubmed:27389...   \n",
       "7790                  pubmed:27389535|pubmed:DIP-18180S   \n",
       "7791                  pubmed:27389535|pubmed:DIP-18180S   \n",
       "7792                  pubmed:27389535|pubmed:DIP-18180S   \n",
       "7793                  pubmed:27389535|pubmed:DIP-18180S   \n",
       "\n",
       "            Taxid interactor A        Taxid interactor B  \\\n",
       "0     taxid:9606(Homo sapiens)  taxid:9606(Homo sapiens)   \n",
       "2     taxid:9606(Homo sapiens)  taxid:9606(Homo sapiens)   \n",
       "3     taxid:9606(Homo sapiens)  taxid:9606(Homo sapiens)   \n",
       "4     taxid:9606(Homo sapiens)  taxid:9606(Homo sapiens)   \n",
       "5     taxid:9606(Homo sapiens)  taxid:9606(Homo sapiens)   \n",
       "...                        ...                       ...   \n",
       "7789  taxid:9606(Homo sapiens)  taxid:9606(Homo sapiens)   \n",
       "7790  taxid:9606(Homo sapiens)  taxid:9606(Homo sapiens)   \n",
       "7791  taxid:9606(Homo sapiens)  taxid:9606(Homo sapiens)   \n",
       "7792  taxid:9606(Homo sapiens)  taxid:9606(Homo sapiens)   \n",
       "7793  taxid:9606(Homo sapiens)  taxid:9606(Homo sapiens)   \n",
       "\n",
       "                                    Interaction type(s) Source database(s)  \\\n",
       "0     MI:0407(direct interaction)|MI:0407(direct int...       MI:0465(dip)   \n",
       "2     MI:0218(physical interaction)|MI:0915(physical...       MI:0465(dip)   \n",
       "3     MI:0218(physical interaction)|MI:0218(physical...       MI:0465(dip)   \n",
       "4                         MI:0218(physical interaction)       MI:0465(dip)   \n",
       "5                         MI:0218(physical interaction)       MI:0465(dip)   \n",
       "...                                                 ...                ...   \n",
       "7789  MI:0915(physical association)|MI:0915(physical...       MI:0465(dip)   \n",
       "7790                      MI:0915(physical association)       MI:0465(dip)   \n",
       "7791                      MI:0915(physical association)       MI:0465(dip)   \n",
       "7792                      MI:0915(physical association)       MI:0465(dip)   \n",
       "7793                      MI:0915(physical association)       MI:0465(dip)   \n",
       "\n",
       "     Interaction identifier(s)      Confidence value(s)  \\\n",
       "0                      DIP-42E  dip-quality-status:core   \n",
       "2                     DIP-214E  dip-quality-status:core   \n",
       "3                     DIP-320E  dip-quality-status:core   \n",
       "4                     DIP-401E  dip-quality-status:core   \n",
       "5                     DIP-447E  dip-quality-status:core   \n",
       "...                        ...                      ...   \n",
       "7789               DIP-201528E  dip-quality-status:core   \n",
       "7790               DIP-201529E  dip-quality-status:core   \n",
       "7791               DIP-201530E  dip-quality-status:core   \n",
       "7792               DIP-201531E  dip-quality-status:core   \n",
       "7793               DIP-201532E  dip-quality-status:core   \n",
       "\n",
       "                                      Processing Status  \n",
       "0           dip:0004(small scale)|dip:0004(small scale)  \n",
       "2     dip:0002(small scale)|dip:0004(small scale)|di...  \n",
       "3           dip:0002(small scale)|dip:0002(small scale)  \n",
       "4                                 dip:0002(small scale)  \n",
       "5                                 dip:0002(small scale)  \n",
       "...                                                 ...  \n",
       "7789        dip:0004(small scale)|dip:0004(small scale)  \n",
       "7790                              dip:0004(small scale)  \n",
       "7791                              dip:0004(small scale)  \n",
       "7792                              dip:0004(small scale)  \n",
       "7793                              dip:0004(small scale)  \n",
       "\n",
       "[5569 rows x 16 columns]"
      ]
     },
     "execution_count": 63,
     "metadata": {},
     "output_type": "execute_result"
    }
   ],
   "source": [
    "edgelist = input_human[['SymbolA', 'SymbolB']].values.tolist()\n",
    "print('Edges in BIND:', len(edgelist))"
   ]
  },
  {
   "cell_type": "markdown",
   "metadata": {},
   "source": [
    "## Parse all genes in filtered DIP"
   ]
  },
  {
   "cell_type": "code",
   "execution_count": 8,
   "metadata": {
    "ExecuteTime": {
     "end_time": "2022-02-01T01:06:32.346879Z",
     "start_time": "2022-02-01T01:06:32.343655Z"
    }
   },
   "outputs": [],
   "source": [
    "# Extract gene list\n",
    "genes = list(set(input_human['ID interactor A']).union(set(input_human['ID interactor B'])))"
   ]
  },
  {
   "cell_type": "code",
   "execution_count": 9,
   "metadata": {
    "ExecuteTime": {
     "end_time": "2022-02-01T01:06:59.312660Z",
     "start_time": "2022-02-01T01:06:59.308603Z"
    }
   },
   "outputs": [],
   "source": [
    "# Split all gene names into list of genes and concatenate\n",
    "genes_split = [name.split('|') for name in genes]\n",
    "genes_full_list = list(itertools.chain.from_iterable(genes_split))\n",
    "\n",
    "# Note about this line: This is to fix the one example where one of the Uniprot genes gets labelled as \"uniprotkb:Q13936,159'\n",
    "genes_full_list = [name.split(',')[0] for name in genes_full_list] "
   ]
  },
  {
   "cell_type": "markdown",
   "metadata": {},
   "source": [
    "## Convert Genes"
   ]
  },
  {
   "cell_type": "code",
   "execution_count": 10,
   "metadata": {
    "ExecuteTime": {
     "end_time": "2022-02-01T01:07:11.872685Z",
     "start_time": "2022-02-01T01:07:11.854230Z"
    }
   },
   "outputs": [
    {
     "name": "stdout",
     "output_type": "stream",
     "text": [
      "5017 Valid Query Genes\n",
      "3281 Invalid Query Genes\n"
     ]
    }
   ],
   "source": [
    "# Construct list of genes to be submitted to MyGene.Info API (remove all genes with 'DIP' prefix)\n",
    "query_string, valid_genes, invalid_genes = gct.query_constructor(genes_full_list, exclude_prefixes=['DIP'])"
   ]
  },
  {
   "cell_type": "code",
   "execution_count": 25,
   "metadata": {
    "ExecuteTime": {
     "end_time": "2022-02-01T01:15:53.756574Z",
     "start_time": "2022-02-01T01:15:53.754445Z"
    }
   },
   "outputs": [],
   "source": [
    "ref_seq_genes = [gene for gene in valid_genes if \"NP_\" in gene]\n",
    "uni_genes = [gene for gene in valid_genes if \"NP_\" not in gene]"
   ]
  },
  {
   "cell_type": "code",
   "execution_count": 74,
   "metadata": {
    "ExecuteTime": {
     "end_time": "2022-02-01T01:40:13.918838Z",
     "start_time": "2022-02-01T01:39:55.319638Z"
    }
   },
   "outputs": [],
   "source": [
    "## Query the DIP-xxxx genes\n",
    "dip_results, missing = gct.query_uniprot(invalid_genes, source_fmt=\"DIP_ID\",\n",
    "                                     target_fmt=[\"P_ENTREZGENEID\", \"GENENAME\", \"ACC\"], \n",
    "                                     output_fmt='tab', return_as_dict=False)"
   ]
  },
  {
   "cell_type": "code",
   "execution_count": 34,
   "metadata": {
    "ExecuteTime": {
     "end_time": "2022-02-01T01:18:57.768220Z",
     "start_time": "2022-02-01T01:18:38.163781Z"
    }
   },
   "outputs": [],
   "source": [
    "## Query the NP_xxxx genes\n",
    "refseq_results, missing = gct.query_uniprot(ref_seq_genes, source_fmt=\"P_REFSEQ_AC\", \n",
    "                                       target_fmt=[\"P_ENTREZGENEID\", \"GENENAME\", \"ACC\"], \n",
    "                                     output_fmt='tab', return_as_dict=False)"
   ]
  },
  {
   "cell_type": "code",
   "execution_count": 45,
   "metadata": {
    "ExecuteTime": {
     "end_time": "2022-02-01T01:24:04.033632Z",
     "start_time": "2022-02-01T01:23:44.659226Z"
    }
   },
   "outputs": [],
   "source": [
    "## Query the uniprot ids\n",
    "uniprot_results, missing = gct.query_uniprot(uni_genes, source_fmt=\"ACC+ID\", \n",
    "                                       target_fmt=[\"P_ENTREZGENEID\", \"GENENAME\", \"ACC\"], \n",
    "                                     output_fmt='tab', return_as_dict=False)"
   ]
  },
  {
   "cell_type": "code",
   "execution_count": 46,
   "metadata": {
    "ExecuteTime": {
     "end_time": "2022-02-01T01:24:04.099849Z",
     "start_time": "2022-02-01T01:24:04.098136Z"
    }
   },
   "outputs": [],
   "source": [
    "secondary_genes = list(dip_results[\"ACC\"].values) + list(refseq_results[\"ACC\"].values)"
   ]
  },
  {
   "cell_type": "code",
   "execution_count": 47,
   "metadata": {
    "ExecuteTime": {
     "end_time": "2022-02-01T01:24:25.890413Z",
     "start_time": "2022-02-01T01:24:04.162916Z"
    }
   },
   "outputs": [],
   "source": [
    "# From looked up uniprot ids, get gene names\n",
    "secondary_results, missing = gct.query_uniprot(secondary_genes, source_fmt=\"ACC+ID\", \n",
    "                                       target_fmt=[\"P_ENTREZGENEID\", \"GENENAME\", \"ACC\"], \n",
    "                                     output_fmt='tab', return_as_dict=False)"
   ]
  },
  {
   "cell_type": "code",
   "execution_count": 54,
   "metadata": {
    "ExecuteTime": {
     "end_time": "2022-02-01T01:29:29.201400Z",
     "start_time": "2022-02-01T01:29:29.192266Z"
    }
   },
   "outputs": [],
   "source": [
    "# combine to get results for original queries\n",
    "initial_results = secondary_results.merge(pd.concat([dip_results, refseq_results]), left_on=[\"query\", \"_score\"],\n",
    "                                          right_on=[\"ACC\", \"_score\"], suffixes=[\"_s\", \"\"]).loc[:, (\"query\", \"symbol_s\",\n",
    "                                                                                                 \"entrezgene_s\", \"_score\")]\n",
    "initial_results.columns = [\"query\", \"symbol\", \"entrezgene\", \"_score\"]"
   ]
  },
  {
   "cell_type": "code",
   "execution_count": 55,
   "metadata": {
    "ExecuteTime": {
     "end_time": "2022-02-01T01:29:48.276672Z",
     "start_time": "2022-02-01T01:29:48.273704Z"
    }
   },
   "outputs": [],
   "source": [
    "full_results = pd.concat([initial_results, uniprot_results.loc[:, (\"query\", \"symbol\", \"entrezgene\", \"_score\")]])"
   ]
  },
  {
   "cell_type": "code",
   "execution_count": 58,
   "metadata": {
    "ExecuteTime": {
     "end_time": "2022-02-01T01:31:33.450870Z",
     "start_time": "2022-02-01T01:31:32.898271Z"
    }
   },
   "outputs": [],
   "source": [
    "# check the uniprot gene name results against up to data HGNC\n",
    "check_names = full_results.symbol.values\n",
    "mapped, unmapped = gct.query_against_dataset(\"~/Data/Network_Analysis/Reference_Data/HGNC_download_2022.txt\",\n",
    "                              check_names, return_as_dict=False)"
   ]
  },
  {
   "cell_type": "code",
   "execution_count": 75,
   "metadata": {
    "ExecuteTime": {
     "end_time": "2022-02-01T01:41:17.904946Z",
     "start_time": "2022-02-01T01:41:17.897548Z"
    }
   },
   "outputs": [],
   "source": [
    "# get final gene conversion results\n",
    "final_mapping = full_results.merge(mapped,left_on=[\"symbol\"], right_on=[\"Query\"], how='outer', \n",
    "                                    suffixes=[\"\", \"-y\"]).loc[:, (\"query\", \"Approved symbol\", \"NCBI Gene ID\", \"_score\")]\n",
    "final_mapping.columns = [\"query\", \"symbol\", \"entrezgene\", \"_score\"]"
   ]
  },
  {
   "cell_type": "code",
   "execution_count": 62,
   "metadata": {
    "ExecuteTime": {
     "end_time": "2022-02-01T01:32:47.816414Z",
     "start_time": "2022-02-01T01:32:47.782281Z"
    },
    "scrolled": true
   },
   "outputs": [
    {
     "name": "stdout",
     "output_type": "stream",
     "text": [
      "Number of genes with multiple matches: 4731\n",
      "Number of unmatched genes: 249\n",
      "Number of fully matched genes: 8095\n",
      "Number of partially matched genes: 72\n"
     ]
    }
   ],
   "source": [
    "# Original: 106,74\n",
    "match_table_trim, query_to_symbol, query_to_entrez = gct.construct_query_map_table(final_mapping, valid_genes+invalid_genes, display_unmatched_queries=False)"
   ]
  },
  {
   "cell_type": "code",
   "execution_count": null,
   "metadata": {},
   "outputs": [],
   "source": [
    "edgelist_updated = gct.convert_edgelist(edgelist_sorted, query_to_symbol)\n",
    "# Filter edgelist for duplicate nodes and for self-edges\n",
    "edgelist_filt = gct.filter_converted_edgelist(edgelist_updated)"
   ]
  },
  {
   "cell_type": "markdown",
   "metadata": {},
   "source": [
    "## Construct Converted Network"
   ]
  },
  {
   "cell_type": "code",
   "execution_count": 64,
   "metadata": {
    "ExecuteTime": {
     "end_time": "2022-02-01T01:35:24.319523Z",
     "start_time": "2022-02-01T01:35:24.315160Z"
    }
   },
   "outputs": [],
   "source": [
    "# This is a custom gene conversion function written due to the parsing required for gene interactor labels\n",
    "# Returns best matched symbol and/or entrez id from each DIP interactor string (if applicable)\n",
    "def convert_DIP_string(string, field):\n",
    "    all_names = [gct.get_identifier_without_prefix(name) for name in string.split('|')]\n",
    "    names = [name for name in all_names if name in match_table_trim.index]\n",
    "    # Keep only mappings defined for field of interest\n",
    "    if field=='symbol' and len(names) > 0:\n",
    "        # Return match table values that have matched symbol\n",
    "        conversion = match_table_trim.loc[names][~(match_table_trim.loc[names]['Symbol'].isnull())]\n",
    "        # Return conversion with max score or None if no conversion\n",
    "        if conversion.shape[0]==0:\n",
    "            return None\n",
    "        else:\n",
    "            max_score = conversion['Score'].max()\n",
    "            return conversion[conversion['Score']==max_score].iloc[0]['Symbol']\n",
    "    elif field=='entrez' and len(names) > 0:\n",
    "        # Return match table values that have matched symbol\n",
    "        conversion = match_table_trim.loc[names][~(match_table_trim.loc[names]['EntrezID'].isnull())]\n",
    "        if conversion.shape[0]==0:\n",
    "            return None\n",
    "        else:\n",
    "            # Return conversion with max score or None if no conversion\n",
    "            max_score = conversion['Score'].max()\n",
    "            return conversion[conversion['Score']==max_score].iloc[0]['EntrezID']\n",
    "    else:\n",
    "        return None"
   ]
  },
  {
   "cell_type": "code",
   "execution_count": 68,
   "metadata": {
    "ExecuteTime": {
     "end_time": "2022-02-01T01:37:09.000524Z",
     "start_time": "2022-02-01T01:36:56.542341Z"
    }
   },
   "outputs": [
    {
     "name": "stderr",
     "output_type": "stream",
     "text": [
      "100%|██████████| 5569/5569 [00:12<00:00, 457.03it/s]\n"
     ]
    }
   ],
   "source": [
    "edgelist = input_human[['ID interactor A', 'ID interactor B']].values.tolist()\n",
    "edgelist_sorted = []\n",
    "for edge in tqdm(edgelist):\n",
    "    symbol1 = convert_DIP_string(edge[0], 'symbol')\n",
    "    symbol2 = convert_DIP_string(edge[1], 'symbol')\n",
    "    if symbol1 is not None and symbol2 is not None:\n",
    "        edgelist_sorted.append(sorted([symbol1, symbol2]))\n",
    "    else:\n",
    "        edgelist_sorted.append([symbol1, symbol2])\n",
    "        \n",
    "#DIP_edgelist_symbol = [sorted([convert_DIP_string(edge[0],'symbol'),convert_DIP_string(edge[1],'symbol')]) for edge in DIP_Human_only_edges]"
   ]
  },
  {
   "cell_type": "code",
   "execution_count": 72,
   "metadata": {
    "ExecuteTime": {
     "end_time": "2022-02-01T01:38:07.619880Z",
     "start_time": "2022-02-01T01:38:07.609099Z"
    }
   },
   "outputs": [
    {
     "name": "stdout",
     "output_type": "stream",
     "text": [
      "5569 input edges\n",
      "510 self-edges removed\n",
      "39 edges with un-mapped genes removed\n",
      "37 duplicate edges removed\n",
      "Edge list filtered: 0.01 seconds\n",
      "4983 Edges remaining\n"
     ]
    }
   ],
   "source": [
    "# Original:\n",
    "#5569 input edges\n",
    "#512 self-edges removed\n",
    "#309 edges with un-mapped genes removed\n",
    "#26 duplicate edges removed\n",
    "#Edge list filtered: 0.02 seconds\n",
    "#4722 Edges remaining\n",
    "# Filter converted edge list\n",
    "edgelist_filt = gct.filter_converted_edgelist(pd.DataFrame(edgelist_sorted, columns=[\"symbol_n1\", \"symbol_n2\"]))"
   ]
  },
  {
   "cell_type": "code",
   "execution_count": 73,
   "metadata": {
    "ExecuteTime": {
     "end_time": "2022-02-01T01:38:50.805830Z",
     "start_time": "2022-02-01T01:38:50.674708Z"
    }
   },
   "outputs": [
    {
     "name": "stdout",
     "output_type": "stream",
     "text": [
      "Edge list saved: 0.13 seconds\n"
     ]
    }
   ],
   "source": [
    "# Save converted edge list\n",
    "gct.write_edgelist(edgelist_filt, wd+'/Processed_Data/Network_SIFs_Symbol/DIP_Symbol_2017.sif')"
   ]
  }
 ],
 "metadata": {
  "kernelspec": {
   "display_name": "Python [conda env:pcnet_py3]",
   "language": "python",
   "name": "conda-env-pcnet_py3-py"
  },
  "language_info": {
   "codemirror_mode": {
    "name": "ipython",
    "version": 3
   },
   "file_extension": ".py",
   "mimetype": "text/x-python",
   "name": "python",
   "nbconvert_exporter": "python",
   "pygments_lexer": "ipython3",
   "version": "3.10.0"
  },
  "toc": {
   "base_numbering": 1,
   "nav_menu": {},
   "number_sections": true,
   "sideBar": true,
   "skip_h1_title": false,
   "title_cell": "Table of Contents",
   "title_sidebar": "Contents",
   "toc_cell": false,
   "toc_position": {},
   "toc_section_display": true,
   "toc_window_display": true
  },
  "varInspector": {
   "cols": {
    "lenName": 16,
    "lenType": 16,
    "lenVar": 40
   },
   "kernels_config": {
    "python": {
     "delete_cmd_postfix": "",
     "delete_cmd_prefix": "del ",
     "library": "var_list.py",
     "varRefreshCmd": "print(var_dic_list())"
    },
    "r": {
     "delete_cmd_postfix": ") ",
     "delete_cmd_prefix": "rm(",
     "library": "var_list.r",
     "varRefreshCmd": "cat(var_dic_list()) "
    }
   },
   "types_to_exclude": [
    "module",
    "function",
    "builtin_function_or_method",
    "instance",
    "_Feature"
   ],
   "window_display": false
  }
 },
 "nbformat": 4,
 "nbformat_minor": 1
}
