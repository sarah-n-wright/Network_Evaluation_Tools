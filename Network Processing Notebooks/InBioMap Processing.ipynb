{
 "cells": [
  {
   "cell_type": "code",
   "execution_count": 1,
   "metadata": {
    "ExecuteTime": {
     "end_time": "2022-04-18T22:46:00.540597Z",
     "start_time": "2022-04-18T22:45:58.102947Z"
    }
   },
   "outputs": [],
   "source": [
    "from network_evaluation_tools import gene_conversion_tools as gct\n",
    "from network_evaluation_tools import data_import_tools as dit\n",
    "import pandas as pd\n",
    "import itertools\n",
    "import time"
   ]
  },
  {
   "cell_type": "code",
   "execution_count": 2,
   "metadata": {
    "ExecuteTime": {
     "end_time": "2022-04-18T22:46:00.543159Z",
     "start_time": "2022-04-18T22:46:00.541594Z"
    }
   },
   "outputs": [],
   "source": [
    "wd = '/cellar/users/snwright/Data/Network_Analysis/'"
   ]
  },
  {
   "cell_type": "markdown",
   "metadata": {},
   "source": [
    "## Load InBio_Map Raw Data\n",
    "**Source: https://www.intomics.com/inbio/map/#downloads**  \n",
    "Downloaded: November 30, 2016  \n",
    "Last Updated: September 12, 2016   \n",
    "Note about scoring: According to the supplement of the associated paper (Li T, et al. A scored human protein–protein interaction network to catalyze genomic interpretation. Nature Methods 14, 61–64 (2017) doi:10.1038/nmeth.4083), column 15 (index=14) should correspond to the confidence score of the edge. This column has 2 values, the confidence score and initial score. We will use the confidence score as it is a corrected version of the initial score calculated, indicating confidence that a particular interaction is real."
   ]
  },
  {
   "cell_type": "code",
   "execution_count": 3,
   "metadata": {
    "ExecuteTime": {
     "end_time": "2022-04-18T22:46:03.702800Z",
     "start_time": "2022-04-18T22:46:00.543931Z"
    }
   },
   "outputs": [
    {
     "name": "stdout",
     "output_type": "stream",
     "text": [
      "Raw edge count in InBio_Map: 625641\n"
     ]
    }
   ],
   "source": [
    "input_raw = pd.read_csv(wd+'Network_Data_Raw/InBio_Map_core_2016_09_12/core.psimitab',sep='\\t', header=None)\n",
    "print('Raw edge count in InBio_Map:', len(input_raw))"
   ]
  },
  {
   "cell_type": "code",
   "execution_count": 4,
   "metadata": {
    "ExecuteTime": {
     "end_time": "2022-04-18T22:46:03.851816Z",
     "start_time": "2022-04-18T22:46:03.704320Z"
    }
   },
   "outputs": [
    {
     "name": "stdout",
     "output_type": "stream",
     "text": [
      "Human-Human only interactions in InBioMap: 625641\n"
     ]
    }
   ],
   "source": [
    "input_human = input_raw[(input_raw[9]=='taxid:9606(Homo sapiens)') & (input_raw[10]=='taxid:9606(Homo sapiens)')]\n",
    "print('Human-Human only interactions in InBioMap:', len(input_human))"
   ]
  },
  {
   "cell_type": "code",
   "execution_count": 5,
   "metadata": {
    "ExecuteTime": {
     "end_time": "2022-04-18T22:46:03.941431Z",
     "start_time": "2022-04-18T22:46:03.852793Z"
    }
   },
   "outputs": [],
   "source": [
    "# Extract gene list\n",
    "genes = list(set(input_human[0]).union(set(input_human[1])))\n",
    "genes = [str(gene) for gene in genes]"
   ]
  },
  {
   "cell_type": "markdown",
   "metadata": {},
   "source": [
    "## Convert Genes"
   ]
  },
  {
   "cell_type": "code",
   "execution_count": 9,
   "metadata": {
    "ExecuteTime": {
     "end_time": "2022-04-18T22:48:12.937114Z",
     "start_time": "2022-04-18T22:47:22.457398Z"
    }
   },
   "outputs": [],
   "source": [
    "# Query against uniprot to get updated ids\n",
    "uniprot_update, unmapped = gct.query_uniprot(genes, source_fmt='ACC+ID', target_fmt=[\"ACC\", \"GENENAME\"], output_fmt='tab', return_as_dict=False)"
   ]
  },
  {
   "cell_type": "code",
   "execution_count": 10,
   "metadata": {
    "ExecuteTime": {
     "end_time": "2022-04-18T22:48:12.940388Z",
     "start_time": "2022-04-18T22:48:12.938035Z"
    }
   },
   "outputs": [
    {
     "name": "stdout",
     "output_type": "stream",
     "text": [
      "0 Valid Query Genes\n",
      "0 Invalid Query Genes\n"
     ]
    }
   ],
   "source": [
    "query_string, valid_genes, invalid_genes = gct.query_constructor(list(uniprot_update.ACC.unique()))\n"
   ]
  },
  {
   "cell_type": "code",
   "execution_count": 11,
   "metadata": {
    "ExecuteTime": {
     "end_time": "2022-04-18T22:48:12.947877Z",
     "start_time": "2022-04-18T22:48:12.941246Z"
    }
   },
   "outputs": [],
   "source": [
    "# Set scopes (gene naming systems to search)\n",
    "scopes = \"uniprot\"\n",
    "\n",
    "# Set fields (systems from which to return gene names from)\n",
    "fields = \"symbol, entrezgene\""
   ]
  },
  {
   "cell_type": "code",
   "execution_count": 12,
   "metadata": {
    "ExecuteTime": {
     "end_time": "2022-04-18T22:48:13.036591Z",
     "start_time": "2022-04-18T22:48:12.948714Z"
    }
   },
   "outputs": [
    {
     "name": "stdout",
     "output_type": "stream",
     "text": [
      "3 Matched query results\n",
      "Batch query complete: 0.08 seconds\n"
     ]
    }
   ],
   "source": [
    "# Query MyGene.Info\n",
    "match_list = gct.query_batch(query_string, scopes=scopes, fields=fields)"
   ]
  },
  {
   "cell_type": "code",
   "execution_count": 15,
   "metadata": {
    "ExecuteTime": {
     "end_time": "2022-04-18T22:49:07.146370Z",
     "start_time": "2022-04-18T22:49:07.136612Z"
    }
   },
   "outputs": [
    {
     "ename": "TypeError",
     "evalue": "'numpy.ndarray' object is not callable",
     "output_type": "error",
     "traceback": [
      "\u001b[0;31m---------------------------------------------------------------------------\u001b[0m",
      "\u001b[0;31mTypeError\u001b[0m                                 Traceback (most recent call last)",
      "\u001b[0;32m/tmp/ipykernel_125500/3528281842.py\u001b[0m in \u001b[0;36m<module>\u001b[0;34m\u001b[0m\n\u001b[0;32m----> 1\u001b[0;31m \u001b[0mmatch_list\u001b[0m \u001b[0;34m=\u001b[0m \u001b[0mpd\u001b[0m\u001b[0;34m.\u001b[0m\u001b[0mDataFrame\u001b[0m\u001b[0;34m.\u001b[0m\u001b[0mfrom_dict\u001b[0m\u001b[0;34m(\u001b[0m\u001b[0mmatch_list\u001b[0m\u001b[0;34m,\u001b[0m \u001b[0morient\u001b[0m\u001b[0;34m=\u001b[0m\u001b[0;34m\"index\"\u001b[0m\u001b[0;34m)\u001b[0m\u001b[0;34m\u001b[0m\u001b[0;34m\u001b[0m\u001b[0m\n\u001b[0m",
      "\u001b[0;32m~/anaconda3/envs/pcnet_py3/lib/python3.10/site-packages/pandas/core/frame.py\u001b[0m in \u001b[0;36mfrom_dict\u001b[0;34m(cls, data, orient, dtype, columns)\u001b[0m\n\u001b[1;32m   1581\u001b[0m             \u001b[0;32mif\u001b[0m \u001b[0mlen\u001b[0m\u001b[0;34m(\u001b[0m\u001b[0mdata\u001b[0m\u001b[0;34m)\u001b[0m \u001b[0;34m>\u001b[0m \u001b[0;36m0\u001b[0m\u001b[0;34m:\u001b[0m\u001b[0;34m\u001b[0m\u001b[0;34m\u001b[0m\u001b[0m\n\u001b[1;32m   1582\u001b[0m                 \u001b[0;31m# TODO speed up Series case\u001b[0m\u001b[0;34m\u001b[0m\u001b[0;34m\u001b[0m\u001b[0m\n\u001b[0;32m-> 1583\u001b[0;31m                 \u001b[0;32mif\u001b[0m \u001b[0misinstance\u001b[0m\u001b[0;34m(\u001b[0m\u001b[0mlist\u001b[0m\u001b[0;34m(\u001b[0m\u001b[0mdata\u001b[0m\u001b[0;34m.\u001b[0m\u001b[0mvalues\u001b[0m\u001b[0;34m(\u001b[0m\u001b[0;34m)\u001b[0m\u001b[0;34m)\u001b[0m\u001b[0;34m[\u001b[0m\u001b[0;36m0\u001b[0m\u001b[0;34m]\u001b[0m\u001b[0;34m,\u001b[0m \u001b[0;34m(\u001b[0m\u001b[0mSeries\u001b[0m\u001b[0;34m,\u001b[0m \u001b[0mdict\u001b[0m\u001b[0;34m)\u001b[0m\u001b[0;34m)\u001b[0m\u001b[0;34m:\u001b[0m\u001b[0;34m\u001b[0m\u001b[0;34m\u001b[0m\u001b[0m\n\u001b[0m\u001b[1;32m   1584\u001b[0m                     \u001b[0mdata\u001b[0m \u001b[0;34m=\u001b[0m \u001b[0m_from_nested_dict\u001b[0m\u001b[0;34m(\u001b[0m\u001b[0mdata\u001b[0m\u001b[0;34m)\u001b[0m\u001b[0;34m\u001b[0m\u001b[0;34m\u001b[0m\u001b[0m\n\u001b[1;32m   1585\u001b[0m                 \u001b[0;32melse\u001b[0m\u001b[0;34m:\u001b[0m\u001b[0;34m\u001b[0m\u001b[0;34m\u001b[0m\u001b[0m\n",
      "\u001b[0;31mTypeError\u001b[0m: 'numpy.ndarray' object is not callable"
     ]
    }
   ],
   "source": [
    "match_list = pd.DataFrame.from_dict(match_list, orient=\"index\")\n"
   ]
  },
  {
   "cell_type": "code",
   "execution_count": 21,
   "metadata": {
    "ExecuteTime": {
     "end_time": "2022-04-18T22:49:27.488502Z",
     "start_time": "2022-04-18T22:49:27.479301Z"
    }
   },
   "outputs": [
    {
     "data": {
      "text/html": [
       "<div>\n",
       "<style scoped>\n",
       "    .dataframe tbody tr th:only-of-type {\n",
       "        vertical-align: middle;\n",
       "    }\n",
       "\n",
       "    .dataframe tbody tr th {\n",
       "        vertical-align: top;\n",
       "    }\n",
       "\n",
       "    .dataframe thead th {\n",
       "        text-align: right;\n",
       "    }\n",
       "</style>\n",
       "<table border=\"1\" class=\"dataframe\">\n",
       "  <thead>\n",
       "    <tr style=\"text-align: right;\">\n",
       "      <th></th>\n",
       "      <th>0</th>\n",
       "    </tr>\n",
       "  </thead>\n",
       "  <tbody>\n",
       "    <tr>\n",
       "      <th>code</th>\n",
       "      <td>400</td>\n",
       "    </tr>\n",
       "    <tr>\n",
       "      <th>success</th>\n",
       "      <td>False</td>\n",
       "    </tr>\n",
       "    <tr>\n",
       "      <th>error</th>\n",
       "      <td>ValueError</td>\n",
       "    </tr>\n",
       "  </tbody>\n",
       "</table>\n",
       "</div>"
      ],
      "text/plain": [
       "                  0\n",
       "code            400\n",
       "success       False\n",
       "error    ValueError"
      ]
     },
     "execution_count": 21,
     "metadata": {},
     "output_type": "execute_result"
    }
   ],
   "source": [
    "match_list"
   ]
  },
  {
   "cell_type": "code",
   "execution_count": null,
   "metadata": {
    "ExecuteTime": {
     "end_time": "2022-04-18T22:49:07.147261Z",
     "start_time": "2022-04-18T22:49:07.147252Z"
    }
   },
   "outputs": [],
   "source": [
    "match_list_final = match_list.merge(uniprot_update.drop(\"_score\", axis=1), left_on=\"query\", right_on=\"ACC\", suffixes =[\"\", \"_y\"])\n"
   ]
  },
  {
   "cell_type": "code",
   "execution_count": null,
   "metadata": {
    "ExecuteTime": {
     "end_time": "2022-04-18T22:49:07.148002Z",
     "start_time": "2022-04-18T22:49:07.147993Z"
    }
   },
   "outputs": [],
   "source": [
    "# replace any missing symbols with results from uniprot\n",
    "match_list_final.loc[(match_list_final[\"symbol\"].isna()), \"symbol\"] = match_list_final.loc[(match_list_final[\"symbol\"].isna()), \"symbol_y\"]"
   ]
  },
  {
   "cell_type": "code",
   "execution_count": null,
   "metadata": {
    "ExecuteTime": {
     "end_time": "2022-04-18T22:49:07.148516Z",
     "start_time": "2022-04-18T22:49:07.148507Z"
    }
   },
   "outputs": [],
   "source": [
    "match_list_final = match_list_final.loc[:, (\"query\", \"_id\", \"entrezgene\", \"symbol\", \"_score\")]"
   ]
  },
  {
   "cell_type": "code",
   "execution_count": 16,
   "metadata": {
    "ExecuteTime": {
     "end_time": "2022-04-18T22:49:07.157246Z",
     "start_time": "2022-04-18T22:49:07.152228Z"
    }
   },
   "outputs": [
    {
     "ename": "NameError",
     "evalue": "name 'match_list_final' is not defined",
     "output_type": "error",
     "traceback": [
      "\u001b[0;31m---------------------------------------------------------------------------\u001b[0m",
      "\u001b[0;31mNameError\u001b[0m                                 Traceback (most recent call last)",
      "\u001b[0;32m/tmp/ipykernel_125500/1602807362.py\u001b[0m in \u001b[0;36m<module>\u001b[0;34m\u001b[0m\n\u001b[0;32m----> 1\u001b[0;31m \u001b[0mmatch_table_trim\u001b[0m\u001b[0;34m,\u001b[0m \u001b[0mquery_to_symbol\u001b[0m\u001b[0;34m,\u001b[0m \u001b[0mquery_to_entrez\u001b[0m \u001b[0;34m=\u001b[0m \u001b[0mgct\u001b[0m\u001b[0;34m.\u001b[0m\u001b[0mconstruct_query_map_table\u001b[0m\u001b[0;34m(\u001b[0m\u001b[0mmatch_list_final\u001b[0m\u001b[0;34m,\u001b[0m \u001b[0mgenes\u001b[0m\u001b[0;34m)\u001b[0m\u001b[0;34m\u001b[0m\u001b[0;34m\u001b[0m\u001b[0m\n\u001b[0m",
      "\u001b[0;31mNameError\u001b[0m: name 'match_list_final' is not defined"
     ]
    }
   ],
   "source": [
    "match_table_trim, query_to_symbol, query_to_entrez = gct.construct_query_map_table(match_list_final, genes)"
   ]
  },
  {
   "cell_type": "markdown",
   "metadata": {},
   "source": [
    "## Construct Converted Network"
   ]
  },
  {
   "cell_type": "code",
   "execution_count": 17,
   "metadata": {
    "ExecuteTime": {
     "end_time": "2022-04-18T22:49:08.328990Z",
     "start_time": "2022-04-18T22:49:07.210349Z"
    }
   },
   "outputs": [],
   "source": [
    "edgelist = input_human[[0, 1, 14]].values.tolist()\n",
    "edgelist_fmt = [[edge[0].split(':')[1], edge[1].split(':')[1], float(edge[2].split('|')[0])] for edge in edgelist]"
   ]
  },
  {
   "cell_type": "code",
   "execution_count": 18,
   "metadata": {
    "ExecuteTime": {
     "end_time": "2022-04-18T22:49:08.500569Z",
     "start_time": "2022-04-18T22:49:08.330038Z"
    }
   },
   "outputs": [
    {
     "ename": "NameError",
     "evalue": "name 'query_to_symbol' is not defined",
     "output_type": "error",
     "traceback": [
      "\u001b[0;31m---------------------------------------------------------------------------\u001b[0m",
      "\u001b[0;31mNameError\u001b[0m                                 Traceback (most recent call last)",
      "\u001b[0;32m<timed exec>\u001b[0m in \u001b[0;36m<module>\u001b[0;34m\u001b[0m\n",
      "\u001b[0;31mNameError\u001b[0m: name 'query_to_symbol' is not defined"
     ]
    }
   ],
   "source": [
    "%%time\n",
    "# Convert weighted edge list\n",
    "edgelist_fmt = pd.DataFrame(edgelist_fmt, columns = [\"symbol_n1\", \"symbol_n2\", \"weight\"])\n",
    "edgelist_symbol = gct.convert_edgelist(edgelist_fmt, query_to_symbol)"
   ]
  },
  {
   "cell_type": "code",
   "execution_count": 19,
   "metadata": {
    "ExecuteTime": {
     "end_time": "2022-04-18T22:49:08.506824Z",
     "start_time": "2022-04-18T22:49:08.501626Z"
    }
   },
   "outputs": [
    {
     "ename": "NameError",
     "evalue": "name 'edgelist_symbol' is not defined",
     "output_type": "error",
     "traceback": [
      "\u001b[0;31m---------------------------------------------------------------------------\u001b[0m",
      "\u001b[0;31mNameError\u001b[0m                                 Traceback (most recent call last)",
      "\u001b[0;32m/tmp/ipykernel_125500/3555319005.py\u001b[0m in \u001b[0;36m<module>\u001b[0;34m\u001b[0m\n\u001b[1;32m      7\u001b[0m \u001b[0;31m#605998 Edges remaining\u001b[0m\u001b[0;34m\u001b[0m\u001b[0;34m\u001b[0m\u001b[0m\n\u001b[1;32m      8\u001b[0m \u001b[0;31m# Filter converted edge list\u001b[0m\u001b[0;34m\u001b[0m\u001b[0;34m\u001b[0m\u001b[0m\n\u001b[0;32m----> 9\u001b[0;31m \u001b[0medgelist_symbol_filt\u001b[0m \u001b[0;34m=\u001b[0m \u001b[0mgct\u001b[0m\u001b[0;34m.\u001b[0m\u001b[0mfilter_converted_edgelist\u001b[0m\u001b[0;34m(\u001b[0m\u001b[0medgelist_symbol\u001b[0m\u001b[0;34m,\u001b[0m \u001b[0mweight_col\u001b[0m\u001b[0;34m=\u001b[0m\u001b[0;34m\"weight\"\u001b[0m\u001b[0;34m)\u001b[0m\u001b[0;34m\u001b[0m\u001b[0;34m\u001b[0m\u001b[0m\n\u001b[0m",
      "\u001b[0;31mNameError\u001b[0m: name 'edgelist_symbol' is not defined"
     ]
    }
   ],
   "source": [
    "# Original\n",
    "#625641 input edges\n",
    "#2498 self-edges removed\n",
    "#12249 edges with un-mapped genes removed\n",
    "#4896 duplicate edges removed\n",
    "#Edge list filtered: 3.15 seconds\n",
    "#605998 Edges remaining\n",
    "# Filter converted edge list\n",
    "edgelist_symbol_filt = gct.filter_converted_edgelist(edgelist_symbol, weight_col=\"weight\")"
   ]
  },
  {
   "cell_type": "code",
   "execution_count": null,
   "metadata": {
    "ExecuteTime": {
     "end_time": "2022-04-18T22:49:08.508086Z",
     "start_time": "2022-04-18T22:49:08.508077Z"
    }
   },
   "outputs": [],
   "source": [
    "# Write network to file\n",
    "gct.write_edgelist(edgelist_symbol_filt, wd+'Processed_Data/Network_SIFs_Symbol/InBioMap_Symbol_2016.sif', binary=False)"
   ]
  },
  {
   "cell_type": "code",
   "execution_count": null,
   "metadata": {
    "ExecuteTime": {
     "end_time": "2022-04-18T22:49:08.508947Z",
     "start_time": "2022-04-18T22:49:08.508938Z"
    }
   },
   "outputs": [],
   "source": [
    "# Create filtered network\n",
    "edgelist_90 = dit.filter_weighted_network_sif(wd+'Processed_Data/Network_SIFs_Symbol/InBioMap_Symbol_2016.sif', \n",
    "                                                      nodeA_col=0, nodeB_col=1, score_col=2, \n",
    "                                                       q=0.9, delimiter='\\t', verbose=True, \n",
    "                                                      save_path=wd+'Processed_Data/Network_SIFs_Symbol/InBioMap90_Symbol_2016.sif')"
   ]
  },
  {
   "cell_type": "code",
   "execution_count": null,
   "metadata": {
    "ExecuteTime": {
     "end_time": "2022-04-18T22:49:08.509436Z",
     "start_time": "2022-04-18T22:49:08.509426Z"
    }
   },
   "outputs": [],
   "source": [
    "# The filter function didn't work here because the max value makes up >90% of the edges. \n",
    "# We need to filter but keep all max edges instead\n",
    "edgelist = edgelist_symbol_filt\n",
    "q_score = edgelist['weight'].quantile(0.9)\n",
    "edgelist_filt =edgelist[edgelist['weight']>=q_score]\n",
    "print(edgelist_filt.shape[0], '/', edgelist.shape[0], 'edges kept, ', float(edgelist_filt.shape[0])/edgelist.shape[0])"
   ]
  },
  {
   "cell_type": "code",
   "execution_count": null,
   "metadata": {
    "ExecuteTime": {
     "end_time": "2022-04-18T22:49:08.510109Z",
     "start_time": "2022-04-18T22:49:08.510099Z"
    }
   },
   "outputs": [],
   "source": [
    "# Keeping all edges where the score == 1, it's a top 75% network, we will save this\n",
    "edgelist_filt[['symbol_n1', 'symbol_n2']].to_csv(wd+'Processed_Data/Network_SIFs_Symbol/InBioMap75_Symbol_2016.sif', sep='\\t', index=False, header=False)"
   ]
  },
  {
   "cell_type": "code",
   "execution_count": 24,
   "metadata": {
    "ExecuteTime": {
     "end_time": "2022-04-18T22:51:00.846109Z",
     "start_time": "2022-04-18T22:51:00.528357Z"
    }
   },
   "outputs": [],
   "source": [
    "edgelist_filt = pd.read_csv(wd+'Processed_Data/Network_SIFs_Symbol/InBioMap_Symbol_2016.sif', sep=\"\\t\", header=None, names = [\"symbol_n1\", \"symbol_n2\", \"score\"])"
   ]
  },
  {
   "cell_type": "code",
   "execution_count": 25,
   "metadata": {
    "ExecuteTime": {
     "end_time": "2022-04-18T22:51:41.546754Z",
     "start_time": "2022-04-18T22:51:41.455563Z"
    }
   },
   "outputs": [
    {
     "data": {
      "text/plain": [
       "17408"
      ]
     },
     "execution_count": 25,
     "metadata": {},
     "output_type": "execute_result"
    }
   ],
   "source": [
    "len(set(edgelist_filt[\"symbol_n1\"]).union(set(edgelist_filt[\"symbol_n2\"])))"
   ]
  }
 ],
 "metadata": {
  "kernelspec": {
   "display_name": "Python [conda env:pcnet_py3]",
   "language": "python",
   "name": "conda-env-pcnet_py3-py"
  },
  "language_info": {
   "codemirror_mode": {
    "name": "ipython",
    "version": 3
   },
   "file_extension": ".py",
   "mimetype": "text/x-python",
   "name": "python",
   "nbconvert_exporter": "python",
   "pygments_lexer": "ipython3",
   "version": "3.10.0"
  },
  "toc": {
   "base_numbering": 1,
   "nav_menu": {},
   "number_sections": true,
   "sideBar": true,
   "skip_h1_title": false,
   "title_cell": "Table of Contents",
   "title_sidebar": "Contents",
   "toc_cell": false,
   "toc_position": {},
   "toc_section_display": true,
   "toc_window_display": true
  },
  "varInspector": {
   "cols": {
    "lenName": 16,
    "lenType": 16,
    "lenVar": 40
   },
   "kernels_config": {
    "python": {
     "delete_cmd_postfix": "",
     "delete_cmd_prefix": "del ",
     "library": "var_list.py",
     "varRefreshCmd": "print(var_dic_list())"
    },
    "r": {
     "delete_cmd_postfix": ") ",
     "delete_cmd_prefix": "rm(",
     "library": "var_list.r",
     "varRefreshCmd": "cat(var_dic_list()) "
    }
   },
   "types_to_exclude": [
    "module",
    "function",
    "builtin_function_or_method",
    "instance",
    "_Feature"
   ],
   "window_display": false
  }
 },
 "nbformat": 4,
 "nbformat_minor": 1
}
