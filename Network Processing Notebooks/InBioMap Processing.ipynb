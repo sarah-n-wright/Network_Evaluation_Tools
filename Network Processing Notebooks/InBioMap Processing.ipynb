{
 "cells": [
  {
   "cell_type": "code",
   "execution_count": 1,
   "metadata": {
    "ExecuteTime": {
     "end_time": "2022-02-09T17:10:05.956149Z",
     "start_time": "2022-02-09T17:09:43.538921Z"
    }
   },
   "outputs": [],
   "source": [
    "from network_evaluation_tools import gene_conversion_tools as gct\n",
    "from network_evaluation_tools import data_import_tools as dit\n",
    "import pandas as pd\n",
    "import itertools\n",
    "import time"
   ]
  },
  {
   "cell_type": "code",
   "execution_count": 2,
   "metadata": {
    "ExecuteTime": {
     "end_time": "2022-02-09T17:10:05.958785Z",
     "start_time": "2022-02-09T17:10:05.957245Z"
    }
   },
   "outputs": [],
   "source": [
    "wd = '/cellar/users/snwright/Data/Network_Analysis/'"
   ]
  },
  {
   "cell_type": "markdown",
   "metadata": {},
   "source": [
    "## Load InBio_Map Raw Data\n",
    "**Source: https://www.intomics.com/inbio/map/#downloads**  \n",
    "Downloaded: November 30, 2016  \n",
    "Last Updated: September 12, 2016   \n",
    "Note about scoring: According to the supplement of the associated paper (Li T, et al. A scored human protein–protein interaction network to catalyze genomic interpretation. Nature Methods 14, 61–64 (2017) doi:10.1038/nmeth.4083), column 15 (index=14) should correspond to the confidence score of the edge. This column has 2 values, the confidence score and initial score. We will use the confidence score as it is a corrected version of the initial score calculated, indicating confidence that a particular interaction is real."
   ]
  },
  {
   "cell_type": "code",
   "execution_count": 3,
   "metadata": {
    "ExecuteTime": {
     "end_time": "2022-02-09T17:10:22.227921Z",
     "start_time": "2022-02-09T17:10:18.401784Z"
    }
   },
   "outputs": [
    {
     "name": "stdout",
     "output_type": "stream",
     "text": [
      "Raw edge count in InBio_Map: 625641\n"
     ]
    }
   ],
   "source": [
    "input_raw = pd.read_csv(wd+'Network_Data_Raw/InBio_Map_core_2016_09_12/core.psimitab',sep='\\t', header=None)\n",
    "print('Raw edge count in InBio_Map:', len(input_raw))"
   ]
  },
  {
   "cell_type": "code",
   "execution_count": 4,
   "metadata": {
    "ExecuteTime": {
     "end_time": "2022-02-09T17:11:03.119006Z",
     "start_time": "2022-02-09T17:11:02.955088Z"
    }
   },
   "outputs": [
    {
     "name": "stdout",
     "output_type": "stream",
     "text": [
      "Human-Human only interactions in InBioMap: 625641\n"
     ]
    }
   ],
   "source": [
    "input_human = input_raw[(input_raw[9]=='taxid:9606(Homo sapiens)') & (input_raw[10]=='taxid:9606(Homo sapiens)')]\n",
    "print('Human-Human only interactions in InBioMap:', len(input_human))"
   ]
  },
  {
   "cell_type": "code",
   "execution_count": 5,
   "metadata": {
    "ExecuteTime": {
     "end_time": "2022-02-09T17:11:21.610715Z",
     "start_time": "2022-02-09T17:11:21.518497Z"
    }
   },
   "outputs": [],
   "source": [
    "# Extract gene list\n",
    "genes = list(set(input_human[0]).union(set(input_human[1])))\n",
    "genes = [str(gene) for gene in genes]"
   ]
  },
  {
   "cell_type": "markdown",
   "metadata": {},
   "source": [
    "## Convert Genes"
   ]
  },
  {
   "cell_type": "code",
   "execution_count": 31,
   "metadata": {
    "ExecuteTime": {
     "end_time": "2022-02-09T17:29:29.564660Z",
     "start_time": "2022-02-09T17:28:06.206879Z"
    }
   },
   "outputs": [],
   "source": [
    "# Query against uniprot to get updated ids\n",
    "uniprot_update, unmapped = gct.query_uniprot(valid_genes, source_fmt='ACC+ID', target_fmt=[\"ACC\", \"GENENAME\"], output_fmt='tab', return_as_dict=False)"
   ]
  },
  {
   "cell_type": "code",
   "execution_count": 32,
   "metadata": {
    "ExecuteTime": {
     "end_time": "2022-02-09T17:29:29.632716Z",
     "start_time": "2022-02-09T17:29:29.597908Z"
    }
   },
   "outputs": [
    {
     "name": "stdout",
     "output_type": "stream",
     "text": [
      "17530 Valid Query Genes\n",
      "0 Invalid Query Genes\n"
     ]
    }
   ],
   "source": [
    "query_string, valid_genes, invalid_genes = gct.query_constructor(list(uniprot_update.ACC.unique()))\n"
   ]
  },
  {
   "cell_type": "code",
   "execution_count": 33,
   "metadata": {
    "ExecuteTime": {
     "end_time": "2022-02-09T17:29:57.962583Z",
     "start_time": "2022-02-09T17:29:57.960875Z"
    }
   },
   "outputs": [],
   "source": [
    "# Set scopes (gene naming systems to search)\n",
    "scopes = \"uniprot\"\n",
    "\n",
    "# Set fields (systems from which to return gene names from)\n",
    "fields = \"symbol, entrezgene\""
   ]
  },
  {
   "cell_type": "code",
   "execution_count": 34,
   "metadata": {
    "ExecuteTime": {
     "end_time": "2022-02-09T17:30:16.313536Z",
     "start_time": "2022-02-09T17:29:58.699818Z"
    }
   },
   "outputs": [
    {
     "name": "stderr",
     "output_type": "stream",
     "text": [
      "100%|██████████| 18/18 [00:17<00:00,  1.02it/s]"
     ]
    },
    {
     "name": "stdout",
     "output_type": "stream",
     "text": [
      "17826 Matched query results\n",
      "Batch query complete: 17.61 seconds\n"
     ]
    },
    {
     "name": "stderr",
     "output_type": "stream",
     "text": [
      "\n"
     ]
    }
   ],
   "source": [
    "# Query MyGene.Info\n",
    "match_list = gct.query_batch(query_string, scopes=scopes, fields=fields)"
   ]
  },
  {
   "cell_type": "code",
   "execution_count": 62,
   "metadata": {
    "ExecuteTime": {
     "end_time": "2022-02-09T17:40:34.448614Z",
     "start_time": "2022-02-09T17:40:34.445518Z"
    }
   },
   "outputs": [],
   "source": [
    "match_list = pd.DataFrame.from_dict(match_list)\n"
   ]
  },
  {
   "cell_type": "code",
   "execution_count": 63,
   "metadata": {
    "ExecuteTime": {
     "end_time": "2022-02-09T17:40:36.639143Z",
     "start_time": "2022-02-09T17:40:36.628297Z"
    }
   },
   "outputs": [],
   "source": [
    "match_list_final = match_list.merge(uniprot_update.drop(\"_score\", axis=1), left_on=\"query\", right_on=\"ACC\", suffixes =[\"\", \"_y\"])\n"
   ]
  },
  {
   "cell_type": "code",
   "execution_count": 39,
   "metadata": {
    "ExecuteTime": {
     "end_time": "2022-02-09T17:31:11.451807Z",
     "start_time": "2022-02-09T17:31:11.447266Z"
    }
   },
   "outputs": [],
   "source": [
    "# replace any missing symbols with results from uniprot\n",
    "match_list_final.loc[(match_list_final[\"symbol\"].isna()), \"symbol\"] = match_list_final.loc[(match_list_final[\"symbol\"].isna()), \"symbol_y\"]"
   ]
  },
  {
   "cell_type": "code",
   "execution_count": 64,
   "metadata": {
    "ExecuteTime": {
     "end_time": "2022-02-09T17:40:38.306957Z",
     "start_time": "2022-02-09T17:40:38.301390Z"
    }
   },
   "outputs": [],
   "source": [
    "match_list_final = match_list_final.loc[:, (\"query\", \"_id\", \"entrezgene\", \"symbol\", \"_score\")]"
   ]
  },
  {
   "cell_type": "code",
   "execution_count": 45,
   "metadata": {
    "ExecuteTime": {
     "end_time": "2022-02-09T17:34:40.541094Z",
     "start_time": "2022-02-09T17:34:40.464417Z"
    }
   },
   "outputs": [
    {
     "name": "stdout",
     "output_type": "stream",
     "text": [
      "Number of genes with multiple matches: 781\n",
      "Number of unmatched genes: 23\n",
      "Number of fully matched genes: 17210\n",
      "Number of partially matched genes: 320\n"
     ]
    }
   ],
   "source": [
    "match_table_trim, query_to_symbol, query_to_entrez = gct.construct_query_map_table(match_list_final, genes)"
   ]
  },
  {
   "cell_type": "markdown",
   "metadata": {},
   "source": [
    "## Construct Converted Network"
   ]
  },
  {
   "cell_type": "code",
   "execution_count": 44,
   "metadata": {
    "ExecuteTime": {
     "end_time": "2022-02-09T17:33:44.902758Z",
     "start_time": "2022-02-09T17:33:43.792516Z"
    }
   },
   "outputs": [],
   "source": [
    "edgelist = input_human[[0, 1, 14]].values.tolist()\n",
    "edgelist_fmt = [[edge[0].split(':')[1], edge[1].split(':')[1], float(edge[2].split('|')[0])] for edge in edgelist]"
   ]
  },
  {
   "cell_type": "code",
   "execution_count": 55,
   "metadata": {
    "ExecuteTime": {
     "end_time": "2022-02-09T17:38:51.978298Z",
     "start_time": "2022-02-09T17:38:51.566050Z"
    }
   },
   "outputs": [
    {
     "name": "stdout",
     "output_type": "stream",
     "text": [
      "CPU times: user 410 ms, sys: 0 ns, total: 410 ms\n",
      "Wall time: 409 ms\n"
     ]
    }
   ],
   "source": [
    "%%time\n",
    "# Convert weighted edge list\n",
    "edgelist_fmt = pd.DataFrame(edgelist_fmt, columns = [\"symbol_n1\", \"symbol_n2\", \"weight\"])\n",
    "edgelist_symbol = gct.convert_edgelist(edgelist_fmt, query_to_symbol)"
   ]
  },
  {
   "cell_type": "code",
   "execution_count": 57,
   "metadata": {
    "ExecuteTime": {
     "end_time": "2022-02-09T17:39:01.116947Z",
     "start_time": "2022-02-09T17:39:00.733661Z"
    }
   },
   "outputs": [
    {
     "name": "stdout",
     "output_type": "stream",
     "text": [
      "625641 input edges\n",
      "27 self-edges removed\n",
      "14736 edges with un-mapped genes removed\n",
      "18948 duplicate edges removed\n",
      "Edge list filtered: 0.37 seconds\n",
      "606611 Edges remaining\n"
     ]
    }
   ],
   "source": [
    "# Original\n",
    "#625641 input edges\n",
    "#2498 self-edges removed\n",
    "#12249 edges with un-mapped genes removed\n",
    "#4896 duplicate edges removed\n",
    "#Edge list filtered: 3.15 seconds\n",
    "#605998 Edges remaining\n",
    "# Filter converted edge list\n",
    "edgelist_symbol_filt = gct.filter_converted_edgelist(edgelist_symbol, weight_col=\"weight\")"
   ]
  },
  {
   "cell_type": "code",
   "execution_count": 58,
   "metadata": {
    "ExecuteTime": {
     "end_time": "2022-02-09T17:39:06.640803Z",
     "start_time": "2022-02-09T17:39:05.826959Z"
    }
   },
   "outputs": [
    {
     "name": "stdout",
     "output_type": "stream",
     "text": [
      "Edge list saved: 0.81 seconds\n"
     ]
    }
   ],
   "source": [
    "# Write network to file\n",
    "gct.write_edgelist(edgelist_symbol_filt, wd+'Processed_Data/Network_SIFs_Symbol/InBioMap_Symbol_2016.sif', binary=False)"
   ]
  },
  {
   "cell_type": "code",
   "execution_count": 59,
   "metadata": {
    "ExecuteTime": {
     "end_time": "2022-02-09T17:39:08.592480Z",
     "start_time": "2022-02-09T17:39:08.426913Z"
    }
   },
   "outputs": [
    {
     "name": "stdout",
     "output_type": "stream",
     "text": [
      "90.0% score: 1.0\n",
      "0 / 606611 edges retained\n"
     ]
    }
   ],
   "source": [
    "# Create filtered network\n",
    "edgelist_90 = dit.filter_weighted_network_sif(wd+'Processed_Data/Network_SIFs_Symbol/InBioMap_Symbol_2016.sif', \n",
    "                                                      nodeA_col=0, nodeB_col=1, score_col=2, \n",
    "                                                       q=0.9, delimiter='\\t', verbose=True, \n",
    "                                                      save_path=wd+'Processed_Data/Network_SIFs_Symbol/InBioMap90_Symbol_2016.sif')"
   ]
  },
  {
   "cell_type": "code",
   "execution_count": 60,
   "metadata": {
    "ExecuteTime": {
     "end_time": "2022-02-09T17:39:41.791385Z",
     "start_time": "2022-02-09T17:39:41.779396Z"
    }
   },
   "outputs": [
    {
     "name": "stdout",
     "output_type": "stream",
     "text": [
      "149641 / 606611 edges kept,  0.24668362426662227\n"
     ]
    }
   ],
   "source": [
    "# The filter function didn't work here because the max value makes up >90% of the edges. \n",
    "# We need to filter but keep all max edges instead\n",
    "edgelist = edgelist_symbol_filt\n",
    "q_score = edgelist['weight'].quantile(0.9)\n",
    "edgelist_filt =edgelist[edgelist['weight']>=q_score]\n",
    "print(edgelist_filt.shape[0], '/', edgelist.shape[0], 'edges kept, ', float(edgelist_filt.shape[0])/edgelist.shape[0])"
   ]
  },
  {
   "cell_type": "code",
   "execution_count": 61,
   "metadata": {
    "ExecuteTime": {
     "end_time": "2022-02-09T17:40:09.788840Z",
     "start_time": "2022-02-09T17:40:09.552489Z"
    }
   },
   "outputs": [],
   "source": [
    "# Keeping all edges where the score == 1, it's a top 75% network, we will save this\n",
    "edgelist_filt[['symbol_n1', 'symbol_n2']].to_csv(wd+'Processed_Data/Network_SIFs_Symbol/InBioMap75_Symbol_2016.sif', sep='\\t', index=False, header=False)"
   ]
  }
 ],
 "metadata": {
  "kernelspec": {
   "display_name": "Python [conda env:pcnet_py3]",
   "language": "python",
   "name": "conda-env-pcnet_py3-py"
  },
  "language_info": {
   "codemirror_mode": {
    "name": "ipython",
    "version": 3
   },
   "file_extension": ".py",
   "mimetype": "text/x-python",
   "name": "python",
   "nbconvert_exporter": "python",
   "pygments_lexer": "ipython3",
   "version": "3.10.0"
  },
  "toc": {
   "base_numbering": 1,
   "nav_menu": {},
   "number_sections": true,
   "sideBar": true,
   "skip_h1_title": false,
   "title_cell": "Table of Contents",
   "title_sidebar": "Contents",
   "toc_cell": false,
   "toc_position": {},
   "toc_section_display": true,
   "toc_window_display": true
  },
  "varInspector": {
   "cols": {
    "lenName": 16,
    "lenType": 16,
    "lenVar": 40
   },
   "kernels_config": {
    "python": {
     "delete_cmd_postfix": "",
     "delete_cmd_prefix": "del ",
     "library": "var_list.py",
     "varRefreshCmd": "print(var_dic_list())"
    },
    "r": {
     "delete_cmd_postfix": ") ",
     "delete_cmd_prefix": "rm(",
     "library": "var_list.r",
     "varRefreshCmd": "cat(var_dic_list()) "
    }
   },
   "types_to_exclude": [
    "module",
    "function",
    "builtin_function_or_method",
    "instance",
    "_Feature"
   ],
   "window_display": false
  }
 },
 "nbformat": 4,
 "nbformat_minor": 1
}
