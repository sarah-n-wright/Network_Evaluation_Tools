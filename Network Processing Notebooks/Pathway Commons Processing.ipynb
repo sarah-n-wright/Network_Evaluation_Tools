{
 "cells": [
  {
   "cell_type": "code",
   "execution_count": 1,
   "metadata": {
    "ExecuteTime": {
     "end_time": "2021-12-22T20:18:18.528818Z",
     "start_time": "2021-12-22T20:18:07.450380Z"
    }
   },
   "outputs": [],
   "source": [
    "from network_evaluation_tools import gene_conversion_tools as gct\n",
    "from network_evaluation_tools import data_import_tools as dit\n",
    "import pandas as pd\n",
    "import time\n",
    "import matplotlib.pyplot as plt"
   ]
  },
  {
   "cell_type": "code",
   "execution_count": 2,
   "metadata": {
    "ExecuteTime": {
     "end_time": "2021-12-22T20:21:36.301349Z",
     "start_time": "2021-12-22T20:21:36.299734Z"
    }
   },
   "outputs": [],
   "source": [
    "wd = '/cellar/users/snwright/Data/Network_Analysis/'"
   ]
  },
  {
   "cell_type": "markdown",
   "metadata": {},
   "source": [
    "# Version 2.0 \n",
    "## Load Pathway Commons Raw Data (All interactions)\n",
    "#### Source:https://www.pathwaycommons.org/archives/PC2/v11/PathwayCommons11.All.hgnc.sif.gz\n",
    "Downloaded: Nov 16, 2021  \n",
    "Last Updated (via Pathway Commons v11 datasources.txt file): Jan 24, 2019  \n",
    "\n",
    "Citation: Pathway Commons, a web resource for biological pathway data. Cerami E et al. Nucleic Acids Research (2011).  \n",
    "A Note about filtering interactions: Pathway Commons also contains interactions between proteins and small molecules from the CHEBI database. These interactions will need to be filtered out as they are not protein-protein interactions.  \n",
    "Also note: The text file has more lines than the sif file in Pathway Commons. However, the text file has some interactions that are unclear how to resolve so for this case we will use the sif file provided by Pathway Commons"
   ]
  },
  {
   "cell_type": "code",
   "execution_count": 23,
   "metadata": {
    "ExecuteTime": {
     "end_time": "2021-12-22T20:36:06.876989Z",
     "start_time": "2021-12-22T20:36:06.195492Z"
    }
   },
   "outputs": [
    {
     "name": "stdout",
     "output_type": "stream",
     "text": [
      "Raw interactions in Pathway Commons v11: 1851007\n"
     ]
    }
   ],
   "source": [
    "PC_Raw_v2 = pd.read_csv(wd+'Network_Data_Raw/PathwayCommons/PathwayCommons11.All.hgnc.sif.gz', sep='\\t', header=None)\n",
    "print('Raw interactions in Pathway Commons v11:', PC_Raw_v2.shape[0])"
   ]
  },
  {
   "cell_type": "code",
   "execution_count": 24,
   "metadata": {
    "ExecuteTime": {
     "end_time": "2021-12-22T20:36:40.988035Z",
     "start_time": "2021-12-22T20:36:38.890329Z"
    }
   },
   "outputs": [
    {
     "name": "stdout",
     "output_type": "stream",
     "text": [
      "Protein-Protein interactions in Pathway Commons v11: 1179000\n"
     ]
    }
   ],
   "source": [
    "# Filter all interactions that contain a CHEBI: item\n",
    "PC_filt_v2 = PC_Raw_v2[(~PC_Raw_v2[0].str.contains(':')) & (~PC_Raw_v2[2].str.contains(':'))]\n",
    "PC_edgelist_v2 = PC_filt_v2[[0, 2]].values.tolist()\n",
    "print('Protein-Protein interactions in Pathway Commons v11:', len(PC_edgelist_v2))"
   ]
  },
  {
   "cell_type": "code",
   "execution_count": 25,
   "metadata": {
    "ExecuteTime": {
     "end_time": "2021-12-22T20:37:14.575134Z",
     "start_time": "2021-12-22T20:37:13.835419Z"
    }
   },
   "outputs": [],
   "source": [
    "# Sort each edge representation for filtering\n",
    "PC_edgelist_sorted_v2 = [sorted(edge) for edge in PC_edgelist_v2]\n",
    "PC_edgelist_sorted_df_v2 = pd.DataFrame(PC_edgelist_sorted_v2, columns=[\"symbol_n1\", \"symbol_n2\"])"
   ]
  },
  {
   "cell_type": "code",
   "execution_count": 26,
   "metadata": {
    "ExecuteTime": {
     "end_time": "2021-12-22T20:37:29.993479Z",
     "start_time": "2021-12-22T20:37:29.546418Z"
    }
   },
   "outputs": [
    {
     "name": "stdout",
     "output_type": "stream",
     "text": [
      "1179000 input edges\n",
      "0 self-edges removed\n",
      "0 edges with un-mapped genes removed\n",
      "158697 duplicate edges removed\n",
      "Edge list filtered: 0.43 seconds\n",
      "1020303 Edges remaining\n"
     ]
    }
   ],
   "source": [
    "# Filter edgelist for duplicate nodes and for self-edges\n",
    "PC_edgelist_filt_v2 = gct.filter_converted_edgelist(PC_edgelist_sorted_df_v2)"
   ]
  },
  {
   "cell_type": "code",
   "execution_count": 27,
   "metadata": {
    "ExecuteTime": {
     "end_time": "2021-12-22T20:37:58.101714Z",
     "start_time": "2021-12-22T20:37:56.578464Z"
    }
   },
   "outputs": [
    {
     "name": "stdout",
     "output_type": "stream",
     "text": [
      "Edge list saved: 1.52 seconds\n"
     ]
    }
   ],
   "source": [
    "# Save genelist to file\n",
    "gct.write_edgelist(PC_edgelist_filt_v2, wd+'/Processed_Data/PathwayCommons11_Symbol.sif')"
   ]
  },
  {
   "cell_type": "markdown",
   "metadata": {},
   "source": [
    "# Version 1.0 (original)\n",
    "## Load Pathway Commons Raw Data (All interactions)\n",
    "#### Source: http://www.pathwaycommons.org/archives/PC2/v9/PathwayCommons9.All.hgnc.txt.gz\n",
    "Downloaded: June 19, 2017  \n",
    "Version Updated: May 25, 2017    \n",
    "Citation: Pathway Commons, a web resource for biological pathway data. Cerami E et al. Nucleic Acids Research (2011).  \n",
    "A Note about filtering interactions: Pathway Commons also contains interactions between proteins and small molecules from the CHEBI database. These interactions will need to be filtered out as they are not protein-protein interactions.  \n",
    "Also note: The text file has more lines than the sif file in Pathway Commons. However, the text file has some interactions that are unclear how to resolve so for this case we will use the sif file provided by Pathway Commons  \n",
    "\n",
    "**2021 Note:** Re-downloading v9 data produces slightly different results after filtering when compared to the data downloaded in 2017. "
   ]
  },
  {
   "cell_type": "code",
   "execution_count": 31,
   "metadata": {
    "ExecuteTime": {
     "end_time": "2021-12-22T21:34:27.788754Z",
     "start_time": "2021-12-22T21:34:27.100976Z"
    }
   },
   "outputs": [
    {
     "name": "stdout",
     "output_type": "stream",
     "text": [
      "Raw interactions in Pathway Commons v9: 1503144\n"
     ]
    }
   ],
   "source": [
    "# Original 1503144\n",
    "PC_Raw = pd.read_csv(wd+'Network_Data_Raw/PathwayCommons/jk_PathwayCommons9.All.hgnc.sif', sep='\\t', header=None)\n",
    "print('Raw interactions in Pathway Commons v9:', PC_Raw.shape[0])"
   ]
  },
  {
   "cell_type": "code",
   "execution_count": 32,
   "metadata": {
    "ExecuteTime": {
     "end_time": "2021-12-22T21:34:35.018492Z",
     "start_time": "2021-12-22T21:34:33.135668Z"
    }
   },
   "outputs": [
    {
     "name": "stdout",
     "output_type": "stream",
     "text": [
      "Protein-Protein interactions in Pathway Commons v9: 968186\n"
     ]
    }
   ],
   "source": [
    "# Original 968186\n",
    "# Filter all interactions that contain a CHEBI: item\n",
    "PC_filt = PC_Raw[(~PC_Raw[0].str.contains(':')) & (~PC_Raw[2].str.contains(':'))]\n",
    "PC_edgelist = PC_filt[[0, 2]].values.tolist()\n",
    "print('Protein-Protein interactions in Pathway Commons v9:', len(PC_edgelist))"
   ]
  },
  {
   "cell_type": "code",
   "execution_count": 33,
   "metadata": {
    "ExecuteTime": {
     "end_time": "2021-12-22T21:34:37.995648Z",
     "start_time": "2021-12-22T21:34:37.368752Z"
    }
   },
   "outputs": [],
   "source": [
    "# Sort each edge representation for filtering\n",
    "PC_edgelist_sorted = [sorted(edge) for edge in PC_edgelist]"
   ]
  },
  {
   "cell_type": "code",
   "execution_count": 34,
   "metadata": {
    "ExecuteTime": {
     "end_time": "2021-12-22T21:34:40.506448Z",
     "start_time": "2021-12-22T21:34:40.421259Z"
    }
   },
   "outputs": [],
   "source": [
    "PC_edgelist_sorted_df = pd.DataFrame(PC_edgelist_sorted, columns=[\"symbol_n1\", \"symbol_n2\"])"
   ]
  },
  {
   "cell_type": "code",
   "execution_count": 35,
   "metadata": {
    "ExecuteTime": {
     "end_time": "2021-12-22T21:34:43.327667Z",
     "start_time": "2021-12-22T21:34:42.958767Z"
    }
   },
   "outputs": [
    {
     "name": "stdout",
     "output_type": "stream",
     "text": [
      "968186 input edges\n",
      "0 self-edges removed\n",
      "0 edges with un-mapped genes removed\n",
      "143511 duplicate edges removed\n",
      "Edge list filtered: 0.36 seconds\n",
      "824675 Edges remaining\n"
     ]
    }
   ],
   "source": [
    "# Original\n",
    "# 968186 input edges\n",
    "# 0 self-edges removed\n",
    "# 0 edges with un-mapped genes removed\n",
    "# 143511 duplicate edges removed\n",
    "# Edge list filtered: 1.92 seconds\n",
    "# 824675 Edges remaining\n",
    "# Filter edgelist for duplicate nodes and for self-edges\n",
    "PC_edgelist_filt = gct.filter_converted_edgelist(PC_edgelist_sorted_df)"
   ]
  },
  {
   "cell_type": "code",
   "execution_count": 36,
   "metadata": {
    "ExecuteTime": {
     "end_time": "2021-12-22T21:34:46.492530Z",
     "start_time": "2021-12-22T21:34:45.697637Z"
    }
   },
   "outputs": [
    {
     "name": "stdout",
     "output_type": "stream",
     "text": [
      "Edge list saved: 0.79 seconds\n"
     ]
    }
   ],
   "source": [
    "# Save genelist to file\n",
    "gct.write_edgelist(PC_edgelist_filt, wd+'/Processed_Data/PathwayCommons9_Symbol.sif')"
   ]
  },
  {
   "cell_type": "markdown",
   "metadata": {},
   "source": [
    "# Changes"
   ]
  },
  {
   "cell_type": "code",
   "execution_count": 37,
   "metadata": {
    "ExecuteTime": {
     "end_time": "2021-12-22T21:50:08.358178Z",
     "start_time": "2021-12-22T21:50:08.355741Z"
    }
   },
   "outputs": [],
   "source": [
    "stats = pd.DataFrame({\"v1\":[1503144,968186, 824675], \n",
    "                           \"v2\":[1851007, 1179000,1020303]},\n",
    "                           index=[\"input\", \"no CHEBI\", \"filtered\"])"
   ]
  },
  {
   "cell_type": "code",
   "execution_count": 38,
   "metadata": {
    "ExecuteTime": {
     "end_time": "2021-12-22T21:50:10.940696Z",
     "start_time": "2021-12-22T21:50:10.818336Z"
    }
   },
   "outputs": [],
   "source": [
    "nodes_v1 = set(np.array(PC_edgelist_filt)[:, 0]).union(set(np.array(PC_edgelist_filt)[:, 1]))\n",
    "nodes_v2 = set(np.array(PC_edgelist_filt_v2)[:, 0]).union(set(np.array(PC_edgelist_filt_v2)[:, 1]))\n"
   ]
  },
  {
   "cell_type": "code",
   "execution_count": 39,
   "metadata": {
    "ExecuteTime": {
     "end_time": "2021-12-22T21:50:14.825448Z",
     "start_time": "2021-12-22T21:50:13.356576Z"
    }
   },
   "outputs": [
    {
     "data": {
      "text/plain": [
       "Text(0, 0.5, 'Number of nodes')"
      ]
     },
     "execution_count": 39,
     "metadata": {},
     "output_type": "execute_result"
    },
    {
     "data": {
      "image/png": "[encoded data removed]",
      "text/plain": [
       "<Figure size 432x288 with 1 Axes>"
      ]
     },
     "metadata": {
      "needs_background": "light"
     },
     "output_type": "display_data"
    },
    {
     "data": {
      "image/png": "[encoded data removed]",
      "text/plain": [
       "<Figure size 432x288 with 1 Axes>"
      ]
     },
     "metadata": {
      "needs_background": "light"
     },
     "output_type": "display_data"
    }
   ],
   "source": [
    "stats.plot.bar(ylabel=\"Number of edges\")\n",
    "plt.figure()\n",
    "plt.bar([\"v1\", \"v2\", \"total difference\", \"new V2\", \"removed V2\"], [len(nodes_v1), len(nodes_v2), len(nodes_v2)-len(nodes_v1),\n",
    "                                                           len(nodes_v2.difference(nodes_v1)), len(nodes_v1.difference(nodes_v2))])\n",
    "plt.ylabel(\"Number of nodes\")"
   ]
  }
 ],
 "metadata": {
  "kernelspec": {
   "display_name": "Python [conda env:pcnet_py3]",
   "language": "python",
   "name": "conda-env-pcnet_py3-py"
  },
  "language_info": {
   "codemirror_mode": {
    "name": "ipython",
    "version": 3
   },
   "file_extension": ".py",
   "mimetype": "text/x-python",
   "name": "python",
   "nbconvert_exporter": "python",
   "pygments_lexer": "ipython3",
   "version": "3.10.0"
  },
  "toc": {
   "base_numbering": 1,
   "nav_menu": {},
   "number_sections": true,
   "sideBar": true,
   "skip_h1_title": false,
   "title_cell": "Table of Contents",
   "title_sidebar": "Contents",
   "toc_cell": false,
   "toc_position": {},
   "toc_section_display": true,
   "toc_window_display": true
  },
  "varInspector": {
   "cols": {
    "lenName": 16,
    "lenType": 16,
    "lenVar": 40
   },
   "kernels_config": {
    "python": {
     "delete_cmd_postfix": "",
     "delete_cmd_prefix": "del ",
     "library": "var_list.py",
     "varRefreshCmd": "print(var_dic_list())"
    },
    "r": {
     "delete_cmd_postfix": ") ",
     "delete_cmd_prefix": "rm(",
     "library": "var_list.r",
     "varRefreshCmd": "cat(var_dic_list()) "
    }
   },
   "types_to_exclude": [
    "module",
    "function",
    "builtin_function_or_method",
    "instance",
    "_Feature"
   ],
   "window_display": false
  }
 },
 "nbformat": 4,
 "nbformat_minor": 1
}
