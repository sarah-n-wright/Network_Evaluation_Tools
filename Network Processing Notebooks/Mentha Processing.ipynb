{
 "cells": [
  {
   "cell_type": "code",
   "execution_count": 1,
   "metadata": {
    "ExecuteTime": {
     "end_time": "2022-01-23T22:13:35.928289Z",
     "start_time": "2022-01-23T22:13:31.877723Z"
    }
   },
   "outputs": [],
   "source": [
    "from network_evaluation_tools import gene_conversion_tools as gct\n",
    "from network_evaluation_tools import data_import_tools as dit\n",
    "import pandas as pd\n",
    "import itertools\n",
    "import time\n",
    "import matplotlib.pyplot as plt"
   ]
  },
  {
   "cell_type": "code",
   "execution_count": 2,
   "metadata": {
    "ExecuteTime": {
     "end_time": "2022-01-23T22:13:36.890690Z",
     "start_time": "2022-01-23T22:13:36.889316Z"
    }
   },
   "outputs": [],
   "source": [
    "wd = '/cellar/users/snwright/Data/Network_Analysis/'"
   ]
  },
  {
   "cell_type": "markdown",
   "metadata": {},
   "source": [
    "# Version 2.0\n",
    "## Load Mentha Raw Data\n",
    "#### Source (MITAB): http://mentha.uniroma2.it/doDownload.php?file=2017-06-12_MITAB-2.5.zip\n",
    "Downloaded: Dec 22, 2021\n",
    "Last Updated: Dec 20, 2021  \n",
    "Notes for processing: This is the file should contain only human-human protein interactions but this should be checked and filtered if needed.  \n",
    "A Note about scoring: Mentha does have a score assigned for each interaction called the 'mentha-score', this will be the score we use to filter the network."
   ]
  },
  {
   "cell_type": "code",
   "execution_count": 3,
   "metadata": {
    "ExecuteTime": {
     "end_time": "2022-01-23T22:13:38.753390Z",
     "start_time": "2022-01-23T22:13:38.024882Z"
    }
   },
   "outputs": [
    {
     "name": "stdout",
     "output_type": "stream",
     "text": [
      "Raw edge count in Mentha: 741337\n"
     ]
    }
   ],
   "source": [
    "Mentha_Raw_v2 = pd.read_csv(wd+'Network_Data_Raw/Mentha/2021-12-20_MITAB-2.5.zip', sep=';')\n",
    "print('Raw edge count in Mentha:', len(Mentha_Raw_v2))"
   ]
  },
  {
   "cell_type": "code",
   "execution_count": 4,
   "metadata": {
    "ExecuteTime": {
     "end_time": "2022-01-23T22:13:38.841536Z",
     "start_time": "2022-01-23T22:13:38.830103Z"
    }
   },
   "outputs": [
    {
     "data": {
      "text/html": [
       "<div>\n",
       "<style scoped>\n",
       "    .dataframe tbody tr th:only-of-type {\n",
       "        vertical-align: middle;\n",
       "    }\n",
       "\n",
       "    .dataframe tbody tr th {\n",
       "        vertical-align: top;\n",
       "    }\n",
       "\n",
       "    .dataframe thead th {\n",
       "        text-align: right;\n",
       "    }\n",
       "</style>\n",
       "<table border=\"1\" class=\"dataframe\">\n",
       "  <thead>\n",
       "    <tr style=\"text-align: right;\">\n",
       "      <th></th>\n",
       "      <th>Protein A</th>\n",
       "      <th>Gene A</th>\n",
       "      <th>Taxon A</th>\n",
       "      <th>Protein B</th>\n",
       "      <th>Gene B</th>\n",
       "      <th>Taxon B</th>\n",
       "      <th>Score</th>\n",
       "      <th>PMID</th>\n",
       "    </tr>\n",
       "  </thead>\n",
       "  <tbody>\n",
       "    <tr>\n",
       "      <th>0</th>\n",
       "      <td>P14625</td>\n",
       "      <td>HSP90B1</td>\n",
       "      <td>9606</td>\n",
       "      <td>O95466</td>\n",
       "      <td>FMNL1</td>\n",
       "      <td>9606</td>\n",
       "      <td>0.126</td>\n",
       "      <td>23182705</td>\n",
       "    </tr>\n",
       "    <tr>\n",
       "      <th>1</th>\n",
       "      <td>Q86U42</td>\n",
       "      <td>PABPN1</td>\n",
       "      <td>9606</td>\n",
       "      <td>P26368</td>\n",
       "      <td>U2AF2</td>\n",
       "      <td>9606</td>\n",
       "      <td>0.126</td>\n",
       "      <td>26641092</td>\n",
       "    </tr>\n",
       "    <tr>\n",
       "      <th>2</th>\n",
       "      <td>Q9I7T7</td>\n",
       "      <td>Q9I7T7</td>\n",
       "      <td>7227</td>\n",
       "      <td>P10987</td>\n",
       "      <td>ACT5C</td>\n",
       "      <td>7227</td>\n",
       "      <td>0.354</td>\n",
       "      <td>14605208</td>\n",
       "    </tr>\n",
       "    <tr>\n",
       "      <th>3</th>\n",
       "      <td>Q9H7D7</td>\n",
       "      <td>WDR26</td>\n",
       "      <td>9606</td>\n",
       "      <td>Q8IVV7</td>\n",
       "      <td>GID4</td>\n",
       "      <td>9606</td>\n",
       "      <td>0.332</td>\n",
       "      <td>unassigned1312 27173435</td>\n",
       "    </tr>\n",
       "    <tr>\n",
       "      <th>4</th>\n",
       "      <td>P16070</td>\n",
       "      <td>CD44</td>\n",
       "      <td>9606</td>\n",
       "      <td>O95466</td>\n",
       "      <td>FMNL1</td>\n",
       "      <td>9606</td>\n",
       "      <td>0.126</td>\n",
       "      <td>23182705</td>\n",
       "    </tr>\n",
       "  </tbody>\n",
       "</table>\n",
       "</div>"
      ],
      "text/plain": [
       "  Protein A   Gene A  Taxon A Protein B Gene B  Taxon B  Score  \\\n",
       "0    P14625  HSP90B1     9606    O95466  FMNL1     9606  0.126   \n",
       "1    Q86U42   PABPN1     9606    P26368  U2AF2     9606  0.126   \n",
       "2    Q9I7T7   Q9I7T7     7227    P10987  ACT5C     7227  0.354   \n",
       "3    Q9H7D7    WDR26     9606    Q8IVV7   GID4     9606  0.332   \n",
       "4    P16070     CD44     9606    O95466  FMNL1     9606  0.126   \n",
       "\n",
       "                       PMID  \n",
       "0                 23182705   \n",
       "1                 26641092   \n",
       "2                 14605208   \n",
       "3  unassigned1312 27173435   \n",
       "4                 23182705   "
      ]
     },
     "execution_count": 4,
     "metadata": {},
     "output_type": "execute_result"
    }
   ],
   "source": [
    "Mentha_Raw_v2.head()"
   ]
  },
  {
   "cell_type": "code",
   "execution_count": 5,
   "metadata": {
    "ExecuteTime": {
     "end_time": "2022-01-23T22:13:39.120834Z",
     "start_time": "2022-01-23T22:13:39.088105Z"
    }
   },
   "outputs": [
    {
     "name": "stdout",
     "output_type": "stream",
     "text": [
      "Human-Human only interactions in Mentha: 340916\n"
     ]
    }
   ],
   "source": [
    "# Keep only human-human interactions\n",
    "Mentha_Human_only_v2 = Mentha_Raw_v2[(Mentha_Raw_v2[\"Taxon A\"]==9606) & (Mentha_Raw_v2[\"Taxon B\"]==9606)]\n",
    "print('Human-Human only interactions in Mentha:', len(Mentha_Human_only_v2))"
   ]
  },
  {
   "cell_type": "code",
   "execution_count": 6,
   "metadata": {
    "ExecuteTime": {
     "end_time": "2022-01-23T22:13:39.960494Z",
     "start_time": "2022-01-23T22:13:39.901810Z"
    }
   },
   "outputs": [],
   "source": [
    "Human_Mentha_Genes_v2 = list(set(Mentha_Human_only_v2[\"Protein A\"]).union(set(Mentha_Human_only_v2[\"Protein B\"])))"
   ]
  },
  {
   "cell_type": "markdown",
   "metadata": {},
   "source": [
    "## Convert Network Genes to symbol from UniProt Accession ID"
   ]
  },
  {
   "cell_type": "code",
   "execution_count": 7,
   "metadata": {
    "ExecuteTime": {
     "end_time": "2022-01-23T22:13:41.008834Z",
     "start_time": "2022-01-23T22:13:40.972853Z"
    }
   },
   "outputs": [
    {
     "name": "stdout",
     "output_type": "stream",
     "text": [
      "19300 Valid Query Genes\n",
      "0 Invalid Query Genes\n"
     ]
    }
   ],
   "source": [
    "# Construct list of genes to be submitted to MyGene.Info API (remove all genes with 'intact' prefix)\n",
    "query_string_v2, valid_genes_v2, invalid_genes_v2 = gct.query_constructor(Human_Mentha_Genes_v2)"
   ]
  },
  {
   "cell_type": "code",
   "execution_count": 8,
   "metadata": {
    "ExecuteTime": {
     "end_time": "2022-01-23T22:13:56.772464Z",
     "start_time": "2022-01-23T22:13:41.631035Z"
    }
   },
   "outputs": [
    {
     "name": "stderr",
     "output_type": "stream",
     "text": [
      "100%|██████████| 20/20 [00:15<00:00,  1.32it/s]"
     ]
    },
    {
     "name": "stdout",
     "output_type": "stream",
     "text": [
      "19581 Matched query results\n",
      "Batch query complete: 15.14 seconds\n"
     ]
    },
    {
     "name": "stderr",
     "output_type": "stream",
     "text": [
      "\n"
     ]
    }
   ],
   "source": [
    "# Original 18932 matched query results\n",
    "# Set scopes (gene naming systems to search)\n",
    "scopes = \"uniprot\"\n",
    "\n",
    "# Set fields (systems from which to return gene names from)\n",
    "fields = \"symbol, entrezgene\"\n",
    "\n",
    "# Query MyGene.Info\n",
    "match_list_v2 = gct.query_batch(query_string_v2, scopes=scopes, fields=fields)\n"
   ]
  },
  {
   "cell_type": "code",
   "execution_count": 39,
   "metadata": {
    "ExecuteTime": {
     "end_time": "2022-01-23T22:19:46.127607Z",
     "start_time": "2022-01-23T22:19:46.109132Z"
    }
   },
   "outputs": [
    {
     "name": "stdout",
     "output_type": "stream",
     "text": [
      "IDs not matched by mygeneinfo: 1405\n"
     ]
    }
   ],
   "source": [
    "matched_df_v2 = pd.DataFrame.from_dict(match_list_v2)\n",
    "unmatched_ids_v2 = matched_df_v2[matched_df_v2.notfound==True][\"query\"].tolist()\n",
    "print(\"IDs not matched by mygeneinfo:\", len(unmatched_ids_v2))"
   ]
  },
  {
   "cell_type": "code",
   "execution_count": 41,
   "metadata": {
    "ExecuteTime": {
     "end_time": "2022-01-23T22:20:51.603903Z",
     "start_time": "2022-01-23T22:20:33.824540Z"
    }
   },
   "outputs": [],
   "source": [
    "uniprot_results_v2 = gct.query_uniprot(unmatched_ids_v2, target_fmt=[\"P_ENTREZGENEID\", \"GENENAME\", \"ACC\"], output_fmt='tab', return_as_dict=True)"
   ]
  },
  {
   "cell_type": "code",
   "execution_count": 42,
   "metadata": {
    "ExecuteTime": {
     "end_time": "2022-01-23T22:20:55.679915Z",
     "start_time": "2022-01-23T22:20:55.678108Z"
    }
   },
   "outputs": [],
   "source": [
    "match_list_v2 = match_list_v2 + uniprot_results_v2"
   ]
  },
  {
   "cell_type": "code",
   "execution_count": 43,
   "metadata": {
    "ExecuteTime": {
     "end_time": "2022-01-23T22:20:59.876219Z",
     "start_time": "2022-01-23T22:20:59.796806Z"
    }
   },
   "outputs": [
    {
     "name": "stdout",
     "output_type": "stream",
     "text": [
      "Number of genes with multiple matches: 4731\n",
      "Number of unmatched genes: 1405\n",
      "Number of fully matched genes: 18010\n",
      "Number of partially matched genes: 1290\n"
     ]
    }
   ],
   "source": [
    "# Original 1198 without full matching results, 207 with multiple matches\n",
    "match_table_trim_v2, query_to_symbol_v2, query_to_entrez_v2 = gct.construct_query_map_table(pd.DataFrame.from_dict(match_list_v2), valid_genes_v2)"
   ]
  },
  {
   "cell_type": "markdown",
   "metadata": {},
   "source": [
    "## Construct Converted Network"
   ]
  },
  {
   "cell_type": "code",
   "execution_count": 44,
   "metadata": {
    "ExecuteTime": {
     "end_time": "2022-01-23T22:21:05.730485Z",
     "start_time": "2022-01-23T22:21:05.413739Z"
    }
   },
   "outputs": [],
   "source": [
    "query_edgelist_v2 = Mentha_Human_only_v2[[\"Protein A\", \"Protein B\", \"Score\"]].drop_duplicates().values.tolist()"
   ]
  },
  {
   "cell_type": "code",
   "execution_count": 45,
   "metadata": {
    "ExecuteTime": {
     "end_time": "2022-01-23T22:21:10.037588Z",
     "start_time": "2022-01-23T22:21:09.875230Z"
    }
   },
   "outputs": [],
   "source": [
    "# Convert network edge list to symbol\n",
    "Mentha_edgelist_symbol_v2 = gct.convert_edgelist(query_edgelist_v2, query_to_symbol_v2, weighted=True)"
   ]
  },
  {
   "cell_type": "code",
   "execution_count": 46,
   "metadata": {
    "ExecuteTime": {
     "end_time": "2022-01-23T22:21:15.020724Z",
     "start_time": "2022-01-23T22:21:14.164768Z"
    }
   },
   "outputs": [
    {
     "name": "stdout",
     "output_type": "stream",
     "text": [
      "340916 input edges\n",
      "3161 self-edges removed\n",
      "1357 edges with un-mapped genes removed\n",
      "5250 duplicate edges removed\n",
      "Edge list filtered: 0.83 seconds\n",
      "331148 Edges remaining\n"
     ]
    }
   ],
   "source": [
    " \n",
    "# Filter converted edge list\n",
    "Mentha_edgelist_symbol_filt_v2 = gct.filter_converted_edgelist(Mentha_edgelist_symbol_v2, weighted=True)"
   ]
  },
  {
   "cell_type": "code",
   "execution_count": 47,
   "metadata": {
    "ExecuteTime": {
     "end_time": "2022-01-23T22:21:19.691618Z",
     "start_time": "2022-01-23T22:21:19.119567Z"
    }
   },
   "outputs": [
    {
     "name": "stdout",
     "output_type": "stream",
     "text": [
      "Edge list saved: 0.57 seconds\n"
     ]
    }
   ],
   "source": [
    "# Save filtered, converted edge list to file\n",
    "gct.write_edgelist(Mentha_edgelist_symbol_filt_v2, wd+'/Processed_Data/Network_SIFs_Symbol/Mentha_Symbol_2021.sif', binary=False)"
   ]
  },
  {
   "cell_type": "code",
   "execution_count": 48,
   "metadata": {
    "ExecuteTime": {
     "end_time": "2022-01-23T22:21:24.017034Z",
     "start_time": "2022-01-23T22:21:23.765042Z"
    }
   },
   "outputs": [
    {
     "name": "stdout",
     "output_type": "stream",
     "text": [
      "90.0% score: 0.454\n",
      "25265 / 331148 edges retained\n"
     ]
    }
   ],
   "source": [
    "# Create filtered network\n",
    "Mentha90_edgelist_v2 = dit.filter_weighted_network_sif(wd+'/Processed_Data/Network_SIFs_Symbol/Mentha_Symbol_2021.sif', nodeA_col=0, nodeB_col=1, score_col=2, \n",
    "                                                    q=0.9, delimiter='\\t', verbose=True, save_path=wd+'/Processed_Data/Network_SIFs_Symbol/Mentha90_Symbol_2021.sif')"
   ]
  },
  {
   "cell_type": "markdown",
   "metadata": {},
   "source": [
    "# Version 1.0 (original)\n",
    "## Load Mentha Raw Data\n",
    "#### Source (MITAB): http://mentha.uniroma2.it/doDownload.php?file=2017-06-12_MITAB-2.5.zip\n",
    "Downloaded: June 15, 2017  \n",
    "Last Updated: June 12, 2017  \n",
    "Notes for processing: This is the file should contain only human-human protein interactions but this should be checked and filtered if needed.  \n",
    "A Note about scoring: Mentha does have a score assigned for each interaction called the 'mentha-score', this will be the score we use to filter the network."
   ]
  },
  {
   "cell_type": "code",
   "execution_count": 16,
   "metadata": {
    "ExecuteTime": {
     "end_time": "2022-01-23T22:14:24.571178Z",
     "start_time": "2022-01-23T22:14:21.327413Z"
    }
   },
   "outputs": [
    {
     "name": "stdout",
     "output_type": "stream",
     "text": [
      "Raw edge count in Mentha: 1114184\n"
     ]
    }
   ],
   "source": [
    "Mentha_Raw = pd.read_csv(wd+'Network_Data_Raw/Mentha/mentha_2017_06_12', sep='\\t', header=None)\n",
    "print('Raw edge count in Mentha:', len(Mentha_Raw))"
   ]
  },
  {
   "cell_type": "code",
   "execution_count": 17,
   "metadata": {
    "ExecuteTime": {
     "end_time": "2022-01-23T22:14:26.353528Z",
     "start_time": "2022-01-23T22:14:26.173879Z"
    }
   },
   "outputs": [
    {
     "name": "stdout",
     "output_type": "stream",
     "text": [
      "Human-Human only interactions in Mentha: 531726\n"
     ]
    }
   ],
   "source": [
    "# Keep only human-human interactions\n",
    "Mentha_Human_only = Mentha_Raw[(Mentha_Raw[9]=='taxid:9606(Homo sapiens)') & (Mentha_Raw[10]=='taxid:9606(Homo sapiens)')]\n",
    "print('Human-Human only interactions in Mentha:', len(Mentha_Human_only))"
   ]
  },
  {
   "cell_type": "code",
   "execution_count": 18,
   "metadata": {
    "ExecuteTime": {
     "end_time": "2022-01-23T22:14:28.022338Z",
     "start_time": "2022-01-23T22:14:27.937798Z"
    }
   },
   "outputs": [],
   "source": [
    "# Extract gene list\n",
    "Human_Mentha_Genes = list(set(Mentha_Human_only[0]).union(set(Mentha_Human_only[1])))"
   ]
  },
  {
   "cell_type": "markdown",
   "metadata": {},
   "source": [
    "## Convert Network Genes to symbol from UniProt Accession ID"
   ]
  },
  {
   "cell_type": "code",
   "execution_count": 19,
   "metadata": {
    "ExecuteTime": {
     "end_time": "2022-01-23T22:14:29.685226Z",
     "start_time": "2022-01-23T22:14:29.641861Z"
    }
   },
   "outputs": [
    {
     "name": "stdout",
     "output_type": "stream",
     "text": [
      "18626 Valid Query Genes\n",
      "0 Invalid Query Genes\n"
     ]
    }
   ],
   "source": [
    "# Construct list of genes to be submitted to MyGene.Info API (remove all genes with 'intact' prefix)\n",
    "query_string, valid_genes, invalid_genes = gct.query_constructor(Human_Mentha_Genes)"
   ]
  },
  {
   "cell_type": "code",
   "execution_count": 20,
   "metadata": {
    "ExecuteTime": {
     "end_time": "2022-01-23T22:14:48.548679Z",
     "start_time": "2022-01-23T22:14:33.319518Z"
    }
   },
   "outputs": [
    {
     "name": "stderr",
     "output_type": "stream",
     "text": [
      "100%|██████████| 19/19 [00:15<00:00,  1.25it/s]"
     ]
    },
    {
     "name": "stdout",
     "output_type": "stream",
     "text": [
      "18885 Matched query results\n",
      "Batch query complete: 15.23 seconds\n"
     ]
    },
    {
     "name": "stderr",
     "output_type": "stream",
     "text": [
      "\n"
     ]
    }
   ],
   "source": [
    "# Original 18932 matched query results\n",
    "# Set scopes (gene naming systems to search)\n",
    "scopes = \"uniprot\"\n",
    "\n",
    "# Set fields (systems from which to return gene names from)\n",
    "fields = \"symbol, entrezgene\"\n",
    "\n",
    "# Query MyGene.Info\n",
    "match_list = gct.query_batch(query_string, scopes=scopes, fields=fields)\n"
   ]
  },
  {
   "cell_type": "code",
   "execution_count": 21,
   "metadata": {
    "ExecuteTime": {
     "end_time": "2022-01-23T22:14:51.052517Z",
     "start_time": "2022-01-23T22:14:51.034120Z"
    }
   },
   "outputs": [
    {
     "name": "stdout",
     "output_type": "stream",
     "text": [
      "IDs not matched by mygeneinfo: 1297\n"
     ]
    }
   ],
   "source": [
    "matched_df = pd.DataFrame.from_dict(match_list)\n",
    "unmatched_ids = matched_df[matched_df.notfound==True][\"query\"].tolist()\n",
    "print(\"IDs not matched by mygeneinfo:\", len(unmatched_ids))"
   ]
  },
  {
   "cell_type": "code",
   "execution_count": 22,
   "metadata": {
    "ExecuteTime": {
     "end_time": "2022-01-23T22:15:12.747738Z",
     "start_time": "2022-01-23T22:14:59.007005Z"
    }
   },
   "outputs": [],
   "source": [
    "uniprot_results = gct.query_uniprot(unmatched_ids, target_fmt=[\"P_ENTREZGENEID\", \"GENENAME\", \"ACC\"], output_fmt='tab', return_as_dict=True)"
   ]
  },
  {
   "cell_type": "code",
   "execution_count": 23,
   "metadata": {
    "ExecuteTime": {
     "end_time": "2022-01-23T22:15:21.514375Z",
     "start_time": "2022-01-23T22:15:21.512663Z"
    }
   },
   "outputs": [],
   "source": [
    "match_list = match_list + uniprot_results"
   ]
  },
  {
   "cell_type": "markdown",
   "metadata": {},
   "source": [
    "Next steps:\n",
    "* Make sure incomplete versions are replaced in the original match list, otherwise they will all still show up as incomplete/duplicate."
   ]
  },
  {
   "cell_type": "code",
   "execution_count": 24,
   "metadata": {
    "ExecuteTime": {
     "end_time": "2022-01-23T22:15:23.554395Z",
     "start_time": "2022-01-23T22:15:23.479627Z"
    }
   },
   "outputs": [
    {
     "name": "stdout",
     "output_type": "stream",
     "text": [
      "Number of genes with multiple matches: 4632\n",
      "Number of unmatched genes: 1297\n",
      "Number of fully matched genes: 17487\n",
      "Number of partially matched genes: 1139\n"
     ]
    }
   ],
   "source": [
    "# Original 1198 without full matching results, 207 with multiple matches\n",
    "match_table_trim, query_to_symbol, query_to_entrez = gct.construct_query_map_table(pd.DataFrame.from_dict(match_list), valid_genes)"
   ]
  },
  {
   "cell_type": "markdown",
   "metadata": {},
   "source": [
    "## Construct Converted Network"
   ]
  },
  {
   "cell_type": "code",
   "execution_count": 32,
   "metadata": {
    "ExecuteTime": {
     "end_time": "2022-01-23T22:18:35.015303Z",
     "start_time": "2022-01-23T22:18:34.650737Z"
    }
   },
   "outputs": [],
   "source": [
    "query_edgelist = Mentha_Human_only[[0, 1, 14]].drop_duplicates().values.tolist()"
   ]
  },
  {
   "cell_type": "code",
   "execution_count": 33,
   "metadata": {
    "ExecuteTime": {
     "end_time": "2022-01-23T22:18:38.264117Z",
     "start_time": "2022-01-23T22:18:37.799303Z"
    }
   },
   "outputs": [],
   "source": [
    "# Format edge list by removing 'uniprot:' prefix from all interactors\n",
    "query_edgelist_fmt = [[gct.get_identifier_without_prefix(edge[0]), gct.get_identifier_without_prefix(edge[1]), float(edge[2].split(':')[-1])] for edge in query_edgelist]"
   ]
  },
  {
   "cell_type": "code",
   "execution_count": 34,
   "metadata": {
    "ExecuteTime": {
     "end_time": "2022-01-23T22:18:42.389282Z",
     "start_time": "2022-01-23T22:18:42.184287Z"
    }
   },
   "outputs": [],
   "source": [
    "# Convert network edge list to symbol\n",
    "Mentha_edgelist_symbol = gct.convert_edgelist(query_edgelist_fmt, query_to_symbol, weighted=True)"
   ]
  },
  {
   "cell_type": "code",
   "execution_count": 35,
   "metadata": {
    "ExecuteTime": {
     "end_time": "2022-01-23T22:18:48.034842Z",
     "start_time": "2022-01-23T22:18:47.313515Z"
    }
   },
   "outputs": [
    {
     "name": "stdout",
     "output_type": "stream",
     "text": [
      "327857 input edges\n",
      "2982 self-edges removed\n",
      "1660 edges with un-mapped genes removed\n",
      "56446 duplicate edges removed\n",
      "Edge list filtered: 0.71 seconds\n",
      "266769 Edges remaining\n"
     ]
    }
   ],
   "source": [
    "# Original \n",
    "# 327857 input edges\n",
    "# 3247 self-edges removed\n",
    "# 8219 edges with un-mapped genes removed\n",
    "# 53515 duplicate edges removed\n",
    "# Edge list filtered: 1.61 seconds\n",
    "# 262876 Edges remaining\n",
    "## Why such a large change in duplicate edge removal??\n",
    "# Filter converted edge list\n",
    "Mentha_edgelist_symbol_filt = gct.filter_converted_edgelist(Mentha_edgelist_symbol, weighted=True)"
   ]
  },
  {
   "cell_type": "code",
   "execution_count": 36,
   "metadata": {
    "ExecuteTime": {
     "end_time": "2022-01-23T22:18:58.979245Z",
     "start_time": "2022-01-23T22:18:58.441357Z"
    }
   },
   "outputs": [
    {
     "name": "stdout",
     "output_type": "stream",
     "text": [
      "Edge list saved: 0.54 seconds\n"
     ]
    }
   ],
   "source": [
    "# Save filtered, converted edge list to file\n",
    "gct.write_edgelist(Mentha_edgelist_symbol_filt, wd+'/Processed_Data/Network_SIFs_Symbol/Mentha_Symbol_2017.sif', binary=False)"
   ]
  },
  {
   "cell_type": "code",
   "execution_count": 37,
   "metadata": {
    "ExecuteTime": {
     "end_time": "2022-01-23T22:19:03.261400Z",
     "start_time": "2022-01-23T22:19:02.948153Z"
    }
   },
   "outputs": [
    {
     "name": "stdout",
     "output_type": "stream",
     "text": [
      "90.0% score: 0.454\n",
      "23163 / 266769 edges retained\n"
     ]
    }
   ],
   "source": [
    "# Original\n",
    "# 90.0% score: 0.454\n",
    "# 22886 / 262876 edges retained\n",
    "# Create filtered network\n",
    "Mentha90_edgelist = dit.filter_weighted_network_sif(wd+'/Processed_Data/Network_SIFs_Symbol/Mentha_Symbol_2017.sif', nodeA_col=0, nodeB_col=1, score_col=2, \n",
    "                                                    q=0.9, delimiter='\\t', verbose=True, save_path=wd+'/Processed_Data/Network_SIFs_Symbol/Mentha90_Symbol_2017.sif')"
   ]
  },
  {
   "cell_type": "code",
   "execution_count": 38,
   "metadata": {
    "ExecuteTime": {
     "end_time": "2022-01-23T22:19:07.475659Z",
     "start_time": "2022-01-23T22:19:07.263103Z"
    }
   },
   "outputs": [
    {
     "name": "stdout",
     "output_type": "stream",
     "text": [
      "90.0% score: 0.454\n",
      "23163 / 266769 edges retained\n"
     ]
    }
   ],
   "source": [
    "# Create filtered network\n",
    "Mentha90_edgelist = dit.filter_weighted_network_sif(wd+'/Processed_Data/Network_SIFs_Symbol/Mentha_Symbol_2017.sif', nodeA_col=0, nodeB_col=1, score_col=2, \n",
    "                                                    q=0.9, delimiter='\\t', verbose=True, save_path=wd+'/Processed_Data/Network_SIFs_Symbol/Mentha90_Symbol_2017.sif')"
   ]
  },
  {
   "cell_type": "markdown",
   "metadata": {},
   "source": [
    "# Changes\n",
    "\n",
    "**Data Structure**  \n",
    "Data provided now contains a header line:  \n",
    "`Protein A\tGene A\tTaxon A\tProtein B\tGene B\tTaxon B\tScore\tPMID`  \n",
    "\n",
    "Data no longer contains:\n",
    "* Source dataset IDs\n",
    "* psi-mi\n"
   ]
  },
  {
   "cell_type": "code",
   "execution_count": 54,
   "metadata": {
    "ExecuteTime": {
     "end_time": "2021-12-22T20:07:55.247756Z",
     "start_time": "2021-12-22T20:07:55.245233Z"
    }
   },
   "outputs": [],
   "source": [
    "stats = pd.DataFrame({\"v1\":[1114184, 531726, 310492], \n",
    "                           \"v2\":[741337, 340916, 325480]},\n",
    "                           index=[\"input\", \"human_human\", \"filtered\"])"
   ]
  },
  {
   "cell_type": "code",
   "execution_count": 49,
   "metadata": {
    "ExecuteTime": {
     "end_time": "2022-01-23T22:22:02.679104Z",
     "start_time": "2022-01-23T22:22:02.494946Z"
    }
   },
   "outputs": [],
   "source": [
    "nodes_v1 = set(np.array(Mentha_edgelist_symbol_filt)[:, 0]).union(set(np.array(Mentha_edgelist_symbol_filt)[:, 1]))\n",
    "nodes_v2 = set(np.array(Mentha_edgelist_symbol_filt_v2)[:, 0]).union(set(np.array(Mentha_edgelist_symbol_filt_v2)[:, 1]))\n"
   ]
  },
  {
   "cell_type": "code",
   "execution_count": 63,
   "metadata": {
    "ExecuteTime": {
     "end_time": "2021-12-22T20:12:07.642019Z",
     "start_time": "2021-12-22T20:12:07.076500Z"
    }
   },
   "outputs": [
    {
     "data": {
      "text/plain": [
       "Text(0, 0.5, 'Number of nodes')"
      ]
     },
     "execution_count": 63,
     "metadata": {},
     "output_type": "execute_result"
    },
    {
     "data": {
      "image/png": "[encoded data removed]",
      "text/plain": [
       "<Figure size 432x288 with 1 Axes>"
      ]
     },
     "metadata": {
      "needs_background": "light"
     },
     "output_type": "display_data"
    },
    {
     "data": {
      "image/png": "[encoded data removed]",
      "text/plain": [
       "<Figure size 432x288 with 1 Axes>"
      ]
     },
     "metadata": {
      "needs_background": "light"
     },
     "output_type": "display_data"
    }
   ],
   "source": [
    "stats.plot.bar(ylabel=\"Number of edges\")\n",
    "plt.figure()\n",
    "plt.bar([\"v1\", \"v2\", \"total difference\", \"new V2\", \"removed V2\"], [len(nodes_v1), len(nodes_v2), len(nodes_v2)-len(nodes_v1),\n",
    "                                                           len(nodes_v2.difference(nodes_v1)), len(nodes_v1.difference(nodes_v2))])\n",
    "plt.ylabel(\"Number of nodes\")"
   ]
  }
 ],
 "metadata": {
  "kernelspec": {
   "display_name": "Python [conda env:pcnet_py3]",
   "language": "python",
   "name": "conda-env-pcnet_py3-py"
  },
  "language_info": {
   "codemirror_mode": {
    "name": "ipython",
    "version": 3
   },
   "file_extension": ".py",
   "mimetype": "text/x-python",
   "name": "python",
   "nbconvert_exporter": "python",
   "pygments_lexer": "ipython3",
   "version": "3.10.0"
  },
  "toc": {
   "base_numbering": 1,
   "nav_menu": {},
   "number_sections": true,
   "sideBar": true,
   "skip_h1_title": false,
   "title_cell": "Table of Contents",
   "title_sidebar": "Contents",
   "toc_cell": false,
   "toc_position": {
    "height": "calc(100% - 180px)",
    "left": "10px",
    "top": "150px",
    "width": "379.398px"
   },
   "toc_section_display": true,
   "toc_window_display": true
  },
  "varInspector": {
   "cols": {
    "lenName": 16,
    "lenType": 16,
    "lenVar": 40
   },
   "kernels_config": {
    "python": {
     "delete_cmd_postfix": "",
     "delete_cmd_prefix": "del ",
     "library": "var_list.py",
     "varRefreshCmd": "print(var_dic_list())"
    },
    "r": {
     "delete_cmd_postfix": ") ",
     "delete_cmd_prefix": "rm(",
     "library": "var_list.r",
     "varRefreshCmd": "cat(var_dic_list()) "
    }
   },
   "types_to_exclude": [
    "module",
    "function",
    "builtin_function_or_method",
    "instance",
    "_Feature"
   ],
   "window_display": false
  }
 },
 "nbformat": 4,
 "nbformat_minor": 1
}
