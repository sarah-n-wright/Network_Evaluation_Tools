{
 "cells": [
  {
   "cell_type": "code",
   "execution_count": 1,
   "metadata": {
    "ExecuteTime": {
     "end_time": "2022-02-24T22:40:04.691484Z",
     "start_time": "2022-02-24T22:40:00.963408Z"
    }
   },
   "outputs": [],
   "source": [
    "from network_evaluation_tools import gene_conversion_tools as gct\n",
    "from network_evaluation_tools import data_import_tools as dit\n",
    "import pandas as pd\n",
    "import itertools\n",
    "import time\n",
    "import matplotlib.pyplot as plt"
   ]
  },
  {
   "cell_type": "code",
   "execution_count": 2,
   "metadata": {
    "ExecuteTime": {
     "end_time": "2022-02-24T22:40:05.716430Z",
     "start_time": "2022-02-24T22:40:05.713747Z"
    }
   },
   "outputs": [],
   "source": [
    "wd = '/cellar/users/snwright/Data/Network_Analysis/'"
   ]
  },
  {
   "cell_type": "markdown",
   "metadata": {},
   "source": [
    "# Version 2.0\n",
    "## Load Mentha Raw Data\n",
    "**Source (MITAB): http://mentha.uniroma2.it/doDownload.php?file=2017-06-12_MITAB-2.5.zip**  \n",
    "Downloaded: Dec 22, 2021\n",
    "Last Updated: Dec 20, 2021  \n",
    "Notes for processing: This is the file should contain only human-human protein interactions but this should be checked and filtered if needed.  \n",
    "A Note about scoring: Mentha does have a score assigned for each interaction called the 'mentha-score', this will be the score we use to filter the network."
   ]
  },
  {
   "cell_type": "code",
   "execution_count": 3,
   "metadata": {
    "ExecuteTime": {
     "end_time": "2022-02-24T22:40:07.578858Z",
     "start_time": "2022-02-24T22:40:06.830316Z"
    }
   },
   "outputs": [
    {
     "name": "stdout",
     "output_type": "stream",
     "text": [
      "Raw edge count in Mentha: 741337\n"
     ]
    }
   ],
   "source": [
    "input_raw_v2 = pd.read_csv(wd+'Network_Data_Raw/Mentha/2021-12-20_MITAB-2.5.zip', sep=';')\n",
    "print('Raw edge count in Mentha:', len(input_raw_v2))"
   ]
  },
  {
   "cell_type": "code",
   "execution_count": 4,
   "metadata": {
    "ExecuteTime": {
     "end_time": "2022-02-24T22:40:07.655792Z",
     "start_time": "2022-02-24T22:40:07.624054Z"
    }
   },
   "outputs": [
    {
     "name": "stdout",
     "output_type": "stream",
     "text": [
      "Human-Human only interactions in Mentha: 340916\n"
     ]
    }
   ],
   "source": [
    "# Keep only human-human interactions\n",
    "input_human_v2 = input_raw_v2[(input_raw_v2[\"Taxon A\"]==9606) & (input_raw_v2[\"Taxon B\"]==9606)]\n",
    "print('Human-Human only interactions in Mentha:', len(input_human_v2))"
   ]
  },
  {
   "cell_type": "code",
   "execution_count": 5,
   "metadata": {
    "ExecuteTime": {
     "end_time": "2022-02-24T22:40:08.200641Z",
     "start_time": "2022-02-24T22:40:08.142603Z"
    }
   },
   "outputs": [],
   "source": [
    "genes_v2 = list(set(input_human_v2[\"Protein A\"]).union(set(input_human_v2[\"Protein B\"])))"
   ]
  },
  {
   "cell_type": "markdown",
   "metadata": {},
   "source": [
    "## Convert Network Genes to symbol from UniProt Accession ID"
   ]
  },
  {
   "cell_type": "code",
   "execution_count": 6,
   "metadata": {
    "ExecuteTime": {
     "end_time": "2022-02-24T22:40:09.694650Z",
     "start_time": "2022-02-24T22:40:09.657656Z"
    }
   },
   "outputs": [
    {
     "name": "stdout",
     "output_type": "stream",
     "text": [
      "19300 Valid Query Genes\n",
      "0 Invalid Query Genes\n"
     ]
    }
   ],
   "source": [
    "# Construct list of genes to be submitted to MyGene.Info API (remove all genes with 'intact' prefix)\n",
    "query_string_v2, valid_genes_v2, invalid_genes_v2 = gct.query_constructor(genes_v2)"
   ]
  },
  {
   "cell_type": "code",
   "execution_count": 7,
   "metadata": {
    "ExecuteTime": {
     "end_time": "2022-02-24T22:40:25.754453Z",
     "start_time": "2022-02-24T22:40:10.570966Z"
    }
   },
   "outputs": [],
   "source": [
    "uniprot_ids_v2, missing_v2 = gct.query_uniprot(valid_genes_v2, return_as_dict=False, target_fmt=\"ACC\")"
   ]
  },
  {
   "cell_type": "code",
   "execution_count": 8,
   "metadata": {
    "ExecuteTime": {
     "end_time": "2022-02-24T22:40:25.854421Z",
     "start_time": "2022-02-24T22:40:25.818600Z"
    }
   },
   "outputs": [
    {
     "name": "stdout",
     "output_type": "stream",
     "text": [
      "19394 Valid Query Genes\n",
      "0 Invalid Query Genes\n"
     ]
    }
   ],
   "source": [
    "uniprot_mapping_v2 = pd.concat([uniprot_ids_v2, pd.DataFrame({\"query\":missing_v2, \"ACC\":missing_v2, \"_score\":0})])\n",
    "uniprot_query_v2, valid_uniprot_v2, invalid_uniprot_v2 = gct.query_constructor(uniprot_mapping_v2[\"ACC\"].tolist())"
   ]
  },
  {
   "cell_type": "code",
   "execution_count": 9,
   "metadata": {
    "ExecuteTime": {
     "end_time": "2022-02-24T22:40:42.310890Z",
     "start_time": "2022-02-24T22:40:25.933567Z"
    }
   },
   "outputs": [
    {
     "name": "stderr",
     "output_type": "stream",
     "text": [
      "100%|██████████| 20/20 [00:16<00:00,  1.22it/s]"
     ]
    },
    {
     "name": "stdout",
     "output_type": "stream",
     "text": [
      "19789 Matched query results\n",
      "Batch query complete: 16.37 seconds\n"
     ]
    },
    {
     "name": "stderr",
     "output_type": "stream",
     "text": [
      "\n"
     ]
    }
   ],
   "source": [
    "# Original 18932 matched query results\n",
    "# Set scopes (gene naming systems to search)\n",
    "scopes = \"uniprot\"\n",
    "\n",
    "# Set fields (systems from which to return gene names from)\n",
    "fields = \"symbol, entrezgene\"\n",
    "\n",
    "# Query MyGene.Info\n",
    "match_list_v2 = gct.query_batch(uniprot_query_v2, scopes=scopes, fields=fields)\n"
   ]
  },
  {
   "cell_type": "code",
   "execution_count": null,
   "metadata": {
    "ExecuteTime": {
     "end_time": "2022-02-24T21:54:26.384597Z",
     "start_time": "2022-02-24T21:54:26.366558Z"
    }
   },
   "outputs": [],
   "source": []
  },
  {
   "cell_type": "code",
   "execution_count": 10,
   "metadata": {
    "ExecuteTime": {
     "end_time": "2022-02-24T22:40:42.513586Z",
     "start_time": "2022-02-24T22:40:42.472711Z"
    }
   },
   "outputs": [],
   "source": [
    "match_list_v2 = pd.DataFrame.from_dict(match_list_v2)\n",
    "match_list_final_v2 = match_list_v2.merge(uniprot_mapping_v2, left_on = [\"query\"], right_on=[\"ACC\"])\n",
    "match_list_final_v2 = match_list_final_v2.loc[:, (\"query_y\", \"_id\", \"_score_x\", \"symbol\", \"notfound\")]\n",
    "match_list_final_v2.columns = [\"query\", \"entrezgene\", \"_score\", \"symbol\", \"notfound\"]"
   ]
  },
  {
   "cell_type": "code",
   "execution_count": 11,
   "metadata": {
    "ExecuteTime": {
     "end_time": "2022-02-24T22:40:42.701334Z",
     "start_time": "2022-02-24T22:40:42.610968Z"
    }
   },
   "outputs": [
    {
     "name": "stdout",
     "output_type": "stream",
     "text": [
      "Number of genes with multiple matches: 1479\n",
      "Number of unmatched genes: 1256\n",
      "Number of fully matched genes: 18037\n",
      "Number of partially matched genes: 1263\n"
     ]
    }
   ],
   "source": [
    "match_table_trim_v2, query_to_symbol_v2, query_to_entrez_v2 = gct.construct_query_map_table(match_list_final_v2, valid_genes_v2)"
   ]
  },
  {
   "cell_type": "markdown",
   "metadata": {},
   "source": [
    "## Construct Converted Network"
   ]
  },
  {
   "cell_type": "code",
   "execution_count": 12,
   "metadata": {
    "ExecuteTime": {
     "end_time": "2022-02-24T22:40:42.918219Z",
     "start_time": "2022-02-24T22:40:42.841158Z"
    }
   },
   "outputs": [],
   "source": [
    "edgelist_v2 = input_human_v2[[\"Protein A\", \"Protein B\", \"Score\"]].drop_duplicates()"
   ]
  },
  {
   "cell_type": "code",
   "execution_count": 13,
   "metadata": {
    "ExecuteTime": {
     "end_time": "2022-02-24T22:40:43.201974Z",
     "start_time": "2022-02-24T22:40:43.064888Z"
    }
   },
   "outputs": [],
   "source": [
    "# Convert network edge list to symbol\n",
    "edgelist_updated_v2 = gct.convert_edgelist(edgelist_v2, query_to_symbol_v2)"
   ]
  },
  {
   "cell_type": "code",
   "execution_count": 15,
   "metadata": {
    "ExecuteTime": {
     "end_time": "2022-02-24T22:40:54.198829Z",
     "start_time": "2022-02-24T22:40:53.996030Z"
    }
   },
   "outputs": [
    {
     "name": "stdout",
     "output_type": "stream",
     "text": [
      "340916 input edges\n",
      "3127 self-edges removed\n",
      "7764 edges with un-mapped genes removed\n",
      "4999 duplicate edges removed\n",
      "Edge list filtered: 0.2 seconds\n",
      "325026 Edges remaining\n"
     ]
    }
   ],
   "source": [
    " \n",
    "# Filter converted edge list\n",
    "edgelist_filt_v2 = gct.filter_converted_edgelist(edgelist_updated_v2, weight_col=\"Score\")"
   ]
  },
  {
   "cell_type": "code",
   "execution_count": 18,
   "metadata": {
    "ExecuteTime": {
     "end_time": "2022-02-24T22:41:21.160143Z",
     "start_time": "2022-02-24T22:41:20.686767Z"
    }
   },
   "outputs": [
    {
     "name": "stdout",
     "output_type": "stream",
     "text": [
      "Edge list saved: 0.47 seconds\n"
     ]
    }
   ],
   "source": [
    "# Save filtered, converted edge list to file\n",
    "gct.write_edgelist(edgelist_filt_v2, wd+'/Processed_Data/Network_SIFs_Symbol/Mentha_Symbol_2021.sif', binary=False)"
   ]
  },
  {
   "cell_type": "code",
   "execution_count": 19,
   "metadata": {
    "ExecuteTime": {
     "end_time": "2022-02-24T22:41:21.635968Z",
     "start_time": "2022-02-24T22:41:21.461385Z"
    }
   },
   "outputs": [
    {
     "name": "stdout",
     "output_type": "stream",
     "text": [
      "90.0% score: 0.454\n",
      "25023 / 325026 edges retained\n"
     ]
    }
   ],
   "source": [
    "# Create filtered network\n",
    "edgelist_90_v2 = dit.filter_weighted_network_sif(wd+'/Processed_Data/Network_SIFs_Symbol/Mentha_Symbol_2021.sif', nodeA_col=0, nodeB_col=1, score_col=2, \n",
    "                                                    q=0.9, delimiter='\\t', verbose=True, save_path=wd+'/Processed_Data/Network_SIFs_Symbol/Mentha90_Symbol_2021.sif')"
   ]
  },
  {
   "cell_type": "markdown",
   "metadata": {},
   "source": [
    "# Version 1.0 (original)\n",
    "## Load Mentha Raw Data\n",
    "**Source (MITAB): http://mentha.uniroma2.it/doDownload.php?file=2017-06-12_MITAB-2.5.zip**  \n",
    "Downloaded: June 15, 2017  \n",
    "Last Updated: June 12, 2017  \n",
    "Notes for processing: This is the file should contain only human-human protein interactions but this should be checked and filtered if needed.  \n",
    "A Note about scoring: Mentha does have a score assigned for each interaction called the 'mentha-score', this will be the score we use to filter the network."
   ]
  },
  {
   "cell_type": "code",
   "execution_count": 20,
   "metadata": {
    "ExecuteTime": {
     "end_time": "2022-02-24T22:41:26.074227Z",
     "start_time": "2022-02-24T22:41:22.796017Z"
    }
   },
   "outputs": [
    {
     "name": "stdout",
     "output_type": "stream",
     "text": [
      "Raw edge count in Mentha: 1114184\n"
     ]
    }
   ],
   "source": [
    "input_raw = pd.read_csv(wd+'Network_Data_Raw/Mentha/mentha_2017_06_12', sep='\\t', header=None)\n",
    "print('Raw edge count in Mentha:', len(input_raw))"
   ]
  },
  {
   "cell_type": "code",
   "execution_count": 21,
   "metadata": {
    "ExecuteTime": {
     "end_time": "2022-02-24T22:41:26.452193Z",
     "start_time": "2022-02-24T22:41:26.263835Z"
    }
   },
   "outputs": [
    {
     "name": "stdout",
     "output_type": "stream",
     "text": [
      "Human-Human only interactions in Mentha: 531726\n"
     ]
    }
   ],
   "source": [
    "# Keep only human-human interactions\n",
    "input_human = input_raw[(input_raw[9]=='taxid:9606(Homo sapiens)') & (input_raw[10]=='taxid:9606(Homo sapiens)')]\n",
    "print('Human-Human only interactions in Mentha:', len(input_human))"
   ]
  },
  {
   "cell_type": "code",
   "execution_count": 22,
   "metadata": {
    "ExecuteTime": {
     "end_time": "2022-02-24T22:41:26.740425Z",
     "start_time": "2022-02-24T22:41:26.653592Z"
    }
   },
   "outputs": [],
   "source": [
    "# Extract gene list\n",
    "genes = list(set(input_human[0]).union(set(input_human[1])))"
   ]
  },
  {
   "cell_type": "markdown",
   "metadata": {},
   "source": [
    "## Convert Network Genes to symbol from UniProt Accession ID"
   ]
  },
  {
   "cell_type": "code",
   "execution_count": 23,
   "metadata": {
    "ExecuteTime": {
     "end_time": "2022-02-24T22:41:26.997999Z",
     "start_time": "2022-02-24T22:41:26.953853Z"
    }
   },
   "outputs": [
    {
     "name": "stdout",
     "output_type": "stream",
     "text": [
      "18626 Valid Query Genes\n",
      "0 Invalid Query Genes\n"
     ]
    }
   ],
   "source": [
    "# Construct list of genes to be submitted to MyGene.Info API (remove all genes with 'intact' prefix)\n",
    "query_string, valid_genes, invalid_genes = gct.query_constructor(genes)"
   ]
  },
  {
   "cell_type": "code",
   "execution_count": 24,
   "metadata": {
    "ExecuteTime": {
     "end_time": "2022-02-24T22:41:43.122454Z",
     "start_time": "2022-02-24T22:41:27.213953Z"
    }
   },
   "outputs": [],
   "source": [
    "uniprot_ids, missing = gct.query_uniprot(valid_genes, return_as_dict=False, target_fmt=\"ACC\")"
   ]
  },
  {
   "cell_type": "code",
   "execution_count": 25,
   "metadata": {
    "ExecuteTime": {
     "end_time": "2022-02-24T22:41:43.390906Z",
     "start_time": "2022-02-24T22:41:43.355750Z"
    }
   },
   "outputs": [
    {
     "name": "stdout",
     "output_type": "stream",
     "text": [
      "18725 Valid Query Genes\n",
      "0 Invalid Query Genes\n"
     ]
    }
   ],
   "source": [
    "uniprot_mapping = pd.concat([uniprot_ids, pd.DataFrame({\"query\":missing, \"ACC\":missing, \"_score\":0})])\n",
    "uniprot_query, valid_uniprot, invalid_uniprot = gct.query_constructor(uniprot_mapping[\"ACC\"].tolist())"
   ]
  },
  {
   "cell_type": "code",
   "execution_count": 26,
   "metadata": {
    "ExecuteTime": {
     "end_time": "2022-02-24T22:42:01.353586Z",
     "start_time": "2022-02-24T22:41:43.628129Z"
    }
   },
   "outputs": [
    {
     "name": "stderr",
     "output_type": "stream",
     "text": [
      "100%|██████████| 19/19 [00:17<00:00,  1.07it/s]"
     ]
    },
    {
     "name": "stdout",
     "output_type": "stream",
     "text": [
      "19099 Matched query results\n",
      "Batch query complete: 17.72 seconds\n"
     ]
    },
    {
     "name": "stderr",
     "output_type": "stream",
     "text": [
      "\n"
     ]
    }
   ],
   "source": [
    "# Original 18932 matched query results\n",
    "# Set scopes (gene naming systems to search)\n",
    "scopes = \"uniprot\"\n",
    "\n",
    "# Set fields (systems from which to return gene names from)\n",
    "fields = \"symbol, entrezgene\"\n",
    "\n",
    "# Query MyGene.Info\n",
    "match_list = gct.query_batch(uniprot_query, scopes=scopes, fields=fields)\n"
   ]
  },
  {
   "cell_type": "code",
   "execution_count": 27,
   "metadata": {
    "ExecuteTime": {
     "end_time": "2022-02-24T22:42:01.696699Z",
     "start_time": "2022-02-24T22:42:01.667881Z"
    }
   },
   "outputs": [],
   "source": [
    "match_list = pd.DataFrame.from_dict(match_list)\n",
    "match_list_final = match_list.merge(uniprot_mapping, left_on = [\"query\"], right_on=[\"ACC\"])\n",
    "match_list_final = match_list_final.loc[:, (\"query_y\", \"_id\", \"_score_x\", \"symbol\", \"notfound\")]\n",
    "match_list_final.columns = [\"query\", \"entrezgene\", \"_score\", \"symbol\", \"notfound\"]"
   ]
  },
  {
   "cell_type": "code",
   "execution_count": 28,
   "metadata": {
    "ExecuteTime": {
     "end_time": "2022-02-24T22:42:02.033770Z",
     "start_time": "2022-02-24T22:42:01.952689Z"
    }
   },
   "outputs": [
    {
     "name": "stdout",
     "output_type": "stream",
     "text": [
      "Number of genes with multiple matches: 1417\n",
      "Number of unmatched genes: 1103\n",
      "Number of fully matched genes: 17517\n",
      "Number of partially matched genes: 1109\n"
     ]
    }
   ],
   "source": [
    "# Original 1198 without full matching results, 207 with multiple matches\n",
    "match_table_trim, query_to_symbol, query_to_entrez = gct.construct_query_map_table(match_list_final, valid_genes)"
   ]
  },
  {
   "cell_type": "markdown",
   "metadata": {},
   "source": [
    "## Construct Converted Network"
   ]
  },
  {
   "cell_type": "code",
   "execution_count": 29,
   "metadata": {
    "ExecuteTime": {
     "end_time": "2022-02-24T22:42:02.763774Z",
     "start_time": "2022-02-24T22:42:02.329506Z"
    }
   },
   "outputs": [],
   "source": [
    "edgelist = input_human[[0, 1, 14]].drop_duplicates().values.tolist()"
   ]
  },
  {
   "cell_type": "code",
   "execution_count": 30,
   "metadata": {
    "ExecuteTime": {
     "end_time": "2022-02-24T22:42:04.112599Z",
     "start_time": "2022-02-24T22:42:03.578565Z"
    }
   },
   "outputs": [],
   "source": [
    "# Format edge list by removing 'uniprot:' prefix from all interactors\n",
    "edgelist = [[gct.get_identifier_without_prefix(edge[0]), gct.get_identifier_without_prefix(edge[1]), float(edge[2].split(':')[-1])] for edge in edgelist]"
   ]
  },
  {
   "cell_type": "code",
   "execution_count": 31,
   "metadata": {
    "ExecuteTime": {
     "end_time": "2022-02-24T22:42:05.130457Z",
     "start_time": "2022-02-24T22:42:05.064570Z"
    }
   },
   "outputs": [],
   "source": [
    "edgelist = pd.DataFrame(edgelist, columns = [\"symbol n1\", \"symbol n2\", \"Score\"])"
   ]
  },
  {
   "cell_type": "code",
   "execution_count": 32,
   "metadata": {
    "ExecuteTime": {
     "end_time": "2022-02-24T22:42:05.617819Z",
     "start_time": "2022-02-24T22:42:05.433815Z"
    }
   },
   "outputs": [],
   "source": [
    "# Convert network edge list to symbol\n",
    "edgelist_updated = gct.convert_edgelist(edgelist, query_to_symbol)"
   ]
  },
  {
   "cell_type": "code",
   "execution_count": 33,
   "metadata": {
    "ExecuteTime": {
     "end_time": "2022-02-24T22:42:06.121492Z",
     "start_time": "2022-02-24T22:42:05.930168Z"
    }
   },
   "outputs": [
    {
     "name": "stdout",
     "output_type": "stream",
     "text": [
      "327857 input edges\n",
      "2950 self-edges removed\n",
      "6924 edges with un-mapped genes removed\n",
      "55107 duplicate edges removed\n",
      "Edge list filtered: 0.19 seconds\n",
      "262876 Edges remaining\n"
     ]
    }
   ],
   "source": [
    "# Original \n",
    "# 327857 input edges\n",
    "# 3247 self-edges removed\n",
    "# 8219 edges with un-mapped genes removed\n",
    "# 53515 duplicate edges removed\n",
    "# Edge list filtered: 1.61 seconds\n",
    "# 262876 Edges remaining\n",
    "## Why such a large change in duplicate edge removal??\n",
    "# Filter converted edge list\n",
    "edgelist_filt = gct.filter_converted_edgelist(edgelist_updated, weight_col=\"Score\")"
   ]
  },
  {
   "cell_type": "code",
   "execution_count": 34,
   "metadata": {
    "ExecuteTime": {
     "end_time": "2022-02-24T22:42:06.633261Z",
     "start_time": "2022-02-24T22:42:06.437707Z"
    }
   },
   "outputs": [
    {
     "name": "stdout",
     "output_type": "stream",
     "text": [
      "327857 input edges\n",
      "2950 self-edges removed\n",
      "6924 edges with un-mapped genes removed\n",
      "55107 duplicate edges removed\n",
      "Edge list filtered: 0.19 seconds\n",
      "262876 Edges remaining\n"
     ]
    }
   ],
   "source": [
    "# Original \n",
    "# 327857 input edges\n",
    "# 3247 self-edges removed\n",
    "# 8219 edges with un-mapped genes removed\n",
    "# 53515 duplicate edges removed\n",
    "# Edge list filtered: 1.61 seconds\n",
    "# 262876 Edges remaining\n",
    "## Why such a large change in duplicate edge removal??\n",
    "# Filter converted edge list\n",
    "edgelist_filt = gct.filter_converted_edgelist(edgelist_updated, weight_col=\"Score\")"
   ]
  },
  {
   "cell_type": "code",
   "execution_count": 35,
   "metadata": {
    "ExecuteTime": {
     "end_time": "2022-02-24T22:42:07.332092Z",
     "start_time": "2022-02-24T22:42:06.954032Z"
    }
   },
   "outputs": [
    {
     "name": "stdout",
     "output_type": "stream",
     "text": [
      "Edge list saved: 0.38 seconds\n"
     ]
    }
   ],
   "source": [
    "# Save filtered, converted edge list to file\n",
    "gct.write_edgelist(edgelist_filt, wd+'/Processed_Data/Network_SIFs_Symbol/Mentha_Symbol_2017.sif', binary=False)"
   ]
  },
  {
   "cell_type": "code",
   "execution_count": 36,
   "metadata": {
    "ExecuteTime": {
     "end_time": "2022-02-24T22:42:07.769502Z",
     "start_time": "2022-02-24T22:42:07.650798Z"
    }
   },
   "outputs": [
    {
     "name": "stdout",
     "output_type": "stream",
     "text": [
      "90.0% score: 0.454\n",
      "22983 / 262876 edges retained\n"
     ]
    }
   ],
   "source": [
    "# Original\n",
    "# 90.0% score: 0.454\n",
    "# 22886 / 262876 edges retained\n",
    "# Create filtered network\n",
    "edgelist_90 = dit.filter_weighted_network_sif(wd+'/Processed_Data/Network_SIFs_Symbol/Mentha_Symbol_2017.sif', nodeA_col=0, nodeB_col=1, score_col=2, \n",
    "                                                    q=0.9, delimiter='\\t', verbose=True, save_path=wd+'/Processed_Data/Network_SIFs_Symbol/Mentha90_Symbol_2017.sif')"
   ]
  },
  {
   "cell_type": "markdown",
   "metadata": {},
   "source": [
    "# Changes\n",
    "\n",
    "**Data Structure**  \n",
    "Data provided now contains a header line:  \n",
    "`Protein A\tGene A\tTaxon A\tProtein B\tGene B\tTaxon B\tScore\tPMID`  \n",
    "\n",
    "Data no longer contains:\n",
    "* Source dataset IDs\n",
    "* psi-mi\n"
   ]
  },
  {
   "cell_type": "code",
   "execution_count": 37,
   "metadata": {
    "ExecuteTime": {
     "end_time": "2022-02-24T22:42:08.779931Z",
     "start_time": "2022-02-24T22:42:08.097137Z"
    }
   },
   "outputs": [
    {
     "data": {
      "image/png": "[encoded data removed]",
      "text/plain": [
       "<Figure size 1080x360 with 2 Axes>"
      ]
     },
     "metadata": {
      "needs_background": "light"
     },
     "output_type": "display_data"
    }
   ],
   "source": [
    "dit.plot_changes_to_dataset(input_raw, input_raw_v2, edgelist_filt, edgelist_filt_v2, input_human, input_human_v2)"
   ]
  },
  {
   "cell_type": "code",
   "execution_count": 39,
   "metadata": {
    "ExecuteTime": {
     "end_time": "2022-02-24T22:42:09.463462Z",
     "start_time": "2022-02-24T22:42:09.436925Z"
    }
   },
   "outputs": [
    {
     "data": {
      "text/html": [
       "<div>\n",
       "<style scoped>\n",
       "    .dataframe tbody tr th:only-of-type {\n",
       "        vertical-align: middle;\n",
       "    }\n",
       "\n",
       "    .dataframe tbody tr th {\n",
       "        vertical-align: top;\n",
       "    }\n",
       "\n",
       "    .dataframe thead th {\n",
       "        text-align: right;\n",
       "    }\n",
       "</style>\n",
       "<table border=\"1\" class=\"dataframe\">\n",
       "  <thead>\n",
       "    <tr style=\"text-align: right;\">\n",
       "      <th></th>\n",
       "      <th>V1</th>\n",
       "      <th>V2</th>\n",
       "    </tr>\n",
       "  </thead>\n",
       "  <tbody>\n",
       "    <tr>\n",
       "      <th>count</th>\n",
       "      <td>262876.000000</td>\n",
       "      <td>325026.000000</td>\n",
       "    </tr>\n",
       "    <tr>\n",
       "      <th>mean</th>\n",
       "      <td>0.239967</td>\n",
       "      <td>0.233371</td>\n",
       "    </tr>\n",
       "    <tr>\n",
       "      <th>std</th>\n",
       "      <td>0.164356</td>\n",
       "      <td>0.155284</td>\n",
       "    </tr>\n",
       "    <tr>\n",
       "      <th>min</th>\n",
       "      <td>0.033000</td>\n",
       "      <td>0.033000</td>\n",
       "    </tr>\n",
       "    <tr>\n",
       "      <th>25%</th>\n",
       "      <td>0.126000</td>\n",
       "      <td>0.126000</td>\n",
       "    </tr>\n",
       "    <tr>\n",
       "      <th>50%</th>\n",
       "      <td>0.210000</td>\n",
       "      <td>0.210000</td>\n",
       "    </tr>\n",
       "    <tr>\n",
       "      <th>75%</th>\n",
       "      <td>0.286000</td>\n",
       "      <td>0.236000</td>\n",
       "    </tr>\n",
       "    <tr>\n",
       "      <th>max</th>\n",
       "      <td>1.000000</td>\n",
       "      <td>1.000000</td>\n",
       "    </tr>\n",
       "  </tbody>\n",
       "</table>\n",
       "</div>"
      ],
      "text/plain": [
       "                  V1             V2\n",
       "count  262876.000000  325026.000000\n",
       "mean        0.239967       0.233371\n",
       "std         0.164356       0.155284\n",
       "min         0.033000       0.033000\n",
       "25%         0.126000       0.126000\n",
       "50%         0.210000       0.210000\n",
       "75%         0.286000       0.236000\n",
       "max         1.000000       1.000000"
      ]
     },
     "execution_count": 39,
     "metadata": {},
     "output_type": "execute_result"
    }
   ],
   "source": [
    "scores = pd.concat([edgelist_filt[\"Score\"].describe(), edgelist_filt_v2[\"Score\"].describe()], axis=1)\n",
    "scores.columns = [\"V1\", \"V2\"]\n",
    "scores"
   ]
  }
 ],
 "metadata": {
  "kernelspec": {
   "display_name": "Python [conda env:pcnet_py3]",
   "language": "python",
   "name": "conda-env-pcnet_py3-py"
  },
  "language_info": {
   "codemirror_mode": {
    "name": "ipython",
    "version": 3
   },
   "file_extension": ".py",
   "mimetype": "text/x-python",
   "name": "python",
   "nbconvert_exporter": "python",
   "pygments_lexer": "ipython3",
   "version": "3.10.0"
  },
  "toc": {
   "base_numbering": 1,
   "nav_menu": {},
   "number_sections": true,
   "sideBar": true,
   "skip_h1_title": false,
   "title_cell": "Table of Contents",
   "title_sidebar": "Contents",
   "toc_cell": false,
   "toc_position": {
    "height": "calc(100% - 180px)",
    "left": "10px",
    "top": "150px",
    "width": "379.398px"
   },
   "toc_section_display": true,
   "toc_window_display": true
  },
  "varInspector": {
   "cols": {
    "lenName": 16,
    "lenType": 16,
    "lenVar": 40
   },
   "kernels_config": {
    "python": {
     "delete_cmd_postfix": "",
     "delete_cmd_prefix": "del ",
     "library": "var_list.py",
     "varRefreshCmd": "print(var_dic_list())"
    },
    "r": {
     "delete_cmd_postfix": ") ",
     "delete_cmd_prefix": "rm(",
     "library": "var_list.r",
     "varRefreshCmd": "cat(var_dic_list()) "
    }
   },
   "types_to_exclude": [
    "module",
    "function",
    "builtin_function_or_method",
    "instance",
    "_Feature"
   ],
   "window_display": false
  }
 },
 "nbformat": 4,
 "nbformat_minor": 1
}
