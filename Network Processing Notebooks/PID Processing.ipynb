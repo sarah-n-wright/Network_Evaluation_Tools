{
 "cells": [
  {
   "cell_type": "code",
   "execution_count": 1,
   "metadata": {
    "ExecuteTime": {
     "end_time": "2021-12-22T21:29:41.267978Z",
     "start_time": "2021-12-22T21:29:20.687675Z"
    }
   },
   "outputs": [],
   "source": [
    "from network_evaluation_tools import gene_conversion_tools as gct\n",
    "from network_evaluation_tools import data_import_tools as dit\n",
    "import pandas as pd\n",
    "import time\n",
    "import matplotlib.pyplot as plt"
   ]
  },
  {
   "cell_type": "code",
   "execution_count": 2,
   "metadata": {
    "ExecuteTime": {
     "end_time": "2021-12-22T21:29:41.274874Z",
     "start_time": "2021-12-22T21:29:41.273040Z"
    }
   },
   "outputs": [],
   "source": [
    "wd = '/cellar/users/snwright/Data/Network_Analysis/'"
   ]
  },
  {
   "cell_type": "markdown",
   "metadata": {},
   "source": [
    "# Version 2.0\n",
    "## Load PID Raw Data\n",
    "#### Source: http://www.pathwaycommons.org/archives/PC2/v11/PathwayCommons11.pid.hgnc.sif.gz\n",
    "Downloaded: Nov 16, 2021  \n",
    "Last updated (via Pathway Commons v11 datasources.txt file): Jan 24, 2019   \n",
    "Note: The text file has more lines than the sif file in Pathway Commons. However, the text file has some interactions that are unclear how to resolve so for this case we will use the sif file provided by Pathway Commons  \n",
    "Also note: This network contains some interacions with CHEBI small molecules. These interactions will be removed"
   ]
  },
  {
   "cell_type": "code",
   "execution_count": 12,
   "metadata": {
    "ExecuteTime": {
     "end_time": "2021-12-22T21:47:36.261412Z",
     "start_time": "2021-12-22T21:47:36.201594Z"
    }
   },
   "outputs": [
    {
     "name": "stdout",
     "output_type": "stream",
     "text": [
      "Raw interactions in NCI PID: 28639\n"
     ]
    }
   ],
   "source": [
    "PID_Raw_v2 = pd.read_csv(wd+'Network_Data_Raw/PathwayCommons/PathwayCommons11.pid.hgnc.sif.gz',sep='\\t', header=None)\n",
    "print('Raw interactions in NCI PID:', PID_Raw_v2.shape[0])"
   ]
  },
  {
   "cell_type": "code",
   "execution_count": 13,
   "metadata": {
    "ExecuteTime": {
     "end_time": "2021-12-22T21:48:14.351610Z",
     "start_time": "2021-12-22T21:48:14.322761Z"
    }
   },
   "outputs": [
    {
     "name": "stdout",
     "output_type": "stream",
     "text": [
      "Protein-Protein interactions in NCI PID: 27209\n"
     ]
    }
   ],
   "source": [
    "# Filter all interactions that contain a CHEBI: item\n",
    "PID_filt_v2 = PID_Raw_v2[(~PID_Raw_v2[0].str.contains(':')) & (~PID_Raw_v2[2].str.contains(':'))]\n",
    "PID_edgelist_v2 = PID_filt_v2[[0, 2]].values.tolist()\n",
    "print('Protein-Protein interactions in NCI PID:', len(PID_edgelist_v2))"
   ]
  },
  {
   "cell_type": "code",
   "execution_count": 14,
   "metadata": {
    "ExecuteTime": {
     "end_time": "2021-12-22T21:48:40.862568Z",
     "start_time": "2021-12-22T21:48:40.852446Z"
    }
   },
   "outputs": [],
   "source": [
    "# Sort each edge representation for filtering\n",
    "PID_edgelist_sorted_v2 = [sorted(edge) for edge in PID_edgelist_v2]\n",
    "PID_edgelist_sorted_df_v2 = pd.DataFrame(PID_edgelist_sorted_v2, columns=[\"symbol_n1\", \"symbol_n2\"])"
   ]
  },
  {
   "cell_type": "code",
   "execution_count": 15,
   "metadata": {
    "ExecuteTime": {
     "end_time": "2021-12-22T21:48:54.535741Z",
     "start_time": "2021-12-22T21:48:54.522890Z"
    }
   },
   "outputs": [
    {
     "name": "stdout",
     "output_type": "stream",
     "text": [
      "27209 input edges\n",
      "0 self-edges removed\n",
      "0 edges with un-mapped genes removed\n",
      "5999 duplicate edges removed\n",
      "Edge list filtered: 0.01 seconds\n",
      "21210 Edges remaining\n"
     ]
    }
   ],
   "source": [
    "# Filter edgelist for duplicate nodes and for self-edges\n",
    "PID_edgelist_filt_v2 = gct.filter_converted_edgelist(PID_edgelist_sorted_df_v2)"
   ]
  },
  {
   "cell_type": "code",
   "execution_count": 16,
   "metadata": {
    "ExecuteTime": {
     "end_time": "2021-12-22T21:49:14.338119Z",
     "start_time": "2021-12-22T21:49:14.277954Z"
    }
   },
   "outputs": [
    {
     "name": "stdout",
     "output_type": "stream",
     "text": [
      "Edge list saved: 0.06 seconds\n"
     ]
    }
   ],
   "source": [
    "# Save genelist to file\n",
    "gct.write_edgelist(PID_edgelist_filt_v2, wd+'/Processed_Data/PID_Symbol_v11.sif')"
   ]
  },
  {
   "cell_type": "markdown",
   "metadata": {},
   "source": [
    "# Version 1.0 (original)\n",
    "## Load PID Raw Data\n",
    "#### Source: http://www.pathwaycommons.org/archives/PC2/v9/PathwayCommons9.pid.hgnc.sif.gz\n",
    "Downloaded: June 19, 2017  \n",
    "Last (via Pathway Commons v9 datasources.txt file): May 25, 2017   \n",
    "Note: The text file has more lines than the sif file in Pathway Commons. However, the text file has some interactions that are unclear how to resolve so for this case we will use the sif file provided by Pathway Commons  \n",
    "Also note: This network contains some interacions with CHEBI small molecules. These interactions will be removed"
   ]
  },
  {
   "cell_type": "code",
   "execution_count": 5,
   "metadata": {
    "ExecuteTime": {
     "end_time": "2021-12-22T21:39:49.237964Z",
     "start_time": "2021-12-22T21:39:49.209286Z"
    }
   },
   "outputs": [
    {
     "name": "stdout",
     "output_type": "stream",
     "text": [
      "Raw interactions in NCI PID: 28920\n"
     ]
    }
   ],
   "source": [
    "PID_Raw = pd.read_csv(wd+'Network_Data_Raw/PathwayCommons/jk_PathwayCommons9.pid.hgnc.sif',sep='\\t', header=None)\n",
    "print('Raw interactions in NCI PID:', PID_Raw.shape[0])"
   ]
  },
  {
   "cell_type": "code",
   "execution_count": 7,
   "metadata": {
    "ExecuteTime": {
     "end_time": "2021-12-22T21:39:59.648433Z",
     "start_time": "2021-12-22T21:39:59.617976Z"
    }
   },
   "outputs": [
    {
     "name": "stdout",
     "output_type": "stream",
     "text": [
      "Protein-Protein interactions in NCI PID: 27489\n"
     ]
    }
   ],
   "source": [
    "# Filter all interactions that contain a CHEBI: item\n",
    "PID_filt = PID_Raw[(~PID_Raw[0].str.contains(':')) & (~PID_Raw[2].str.contains(':'))]\n",
    "PID_edgelist = PID_filt[[0, 2]].values.tolist()\n",
    "print('Protein-Protein interactions in NCI PID:', len(PID_edgelist))"
   ]
  },
  {
   "cell_type": "code",
   "execution_count": 9,
   "metadata": {
    "ExecuteTime": {
     "end_time": "2021-12-22T21:40:28.826655Z",
     "start_time": "2021-12-22T21:40:28.759083Z"
    }
   },
   "outputs": [],
   "source": [
    "# Sort each edge representation for filtering\n",
    "PID_edgelist_sorted = [sorted(edge) for edge in PID_edgelist]\n",
    "PID_edgelist_sorted_df = pd.DataFrame(PID_edgelist_sorted, columns=[\"symbol_n1\", \"symbol_n2\"])"
   ]
  },
  {
   "cell_type": "code",
   "execution_count": 10,
   "metadata": {
    "ExecuteTime": {
     "end_time": "2021-12-22T21:45:18.792383Z",
     "start_time": "2021-12-22T21:45:18.779925Z"
    }
   },
   "outputs": [
    {
     "name": "stdout",
     "output_type": "stream",
     "text": [
      "27489 input edges\n",
      "0 self-edges removed\n",
      "0 edges with un-mapped genes removed\n",
      "6047 duplicate edges removed\n",
      "Edge list filtered: 0.01 seconds\n",
      "21442 Edges remaining\n"
     ]
    }
   ],
   "source": [
    "# Filter edgelist for duplicate nodes and for self-edges\n",
    "PID_edgelist_filt = gct.filter_converted_edgelist(PID_edgelist_sorted_df)"
   ]
  },
  {
   "cell_type": "code",
   "execution_count": 11,
   "metadata": {
    "ExecuteTime": {
     "end_time": "2021-12-22T21:45:46.634350Z",
     "start_time": "2021-12-22T21:45:46.539950Z"
    }
   },
   "outputs": [
    {
     "name": "stdout",
     "output_type": "stream",
     "text": [
      "Edge list saved: 0.07 seconds\n"
     ]
    }
   ],
   "source": [
    "# Save genelist to file\n",
    "gct.write_edgelist(PID_edgelist_filt, wd+'/Processed_Data/PID_Symbol_v9.sif')"
   ]
  },
  {
   "cell_type": "markdown",
   "metadata": {},
   "source": [
    "# Changes"
   ]
  },
  {
   "cell_type": "code",
   "execution_count": 17,
   "metadata": {
    "ExecuteTime": {
     "end_time": "2021-12-22T21:51:30.483994Z",
     "start_time": "2021-12-22T21:51:30.481659Z"
    }
   },
   "outputs": [],
   "source": [
    "stats = pd.DataFrame({\"v1\":[28920, 27489, 21442], \n",
    "                           \"v2\":[28639, 27209,21210]},\n",
    "                           index=[\"input\", \"no CHEBI\", \"filtered\"])"
   ]
  },
  {
   "cell_type": "code",
   "execution_count": 18,
   "metadata": {
    "ExecuteTime": {
     "end_time": "2021-12-22T21:51:51.231385Z",
     "start_time": "2021-12-22T21:51:51.226250Z"
    }
   },
   "outputs": [],
   "source": [
    "nodes_v1 = set(np.array(PID_edgelist_filt)[:, 0]).union(set(np.array(PID_edgelist_filt)[:, 1]))\n",
    "nodes_v2 = set(np.array(PID_edgelist_filt_v2)[:, 0]).union(set(np.array(PID_edgelist_filt_v2)[:, 1]))"
   ]
  },
  {
   "cell_type": "code",
   "execution_count": 19,
   "metadata": {
    "ExecuteTime": {
     "end_time": "2021-12-22T21:52:02.463950Z",
     "start_time": "2021-12-22T21:52:01.450735Z"
    }
   },
   "outputs": [
    {
     "data": {
      "text/plain": [
       "Text(0, 0.5, 'Number of nodes')"
      ]
     },
     "execution_count": 19,
     "metadata": {},
     "output_type": "execute_result"
    },
    {
     "data": {
      "image/png": "[encoded data removed]",
      "text/plain": [
       "<Figure size 432x288 with 1 Axes>"
      ]
     },
     "metadata": {
      "needs_background": "light"
     },
     "output_type": "display_data"
    },
    {
     "data": {
      "image/png": "[encoded data removed]",
      "text/plain": [
       "<Figure size 432x288 with 1 Axes>"
      ]
     },
     "metadata": {
      "needs_background": "light"
     },
     "output_type": "display_data"
    }
   ],
   "source": [
    "stats.plot.bar(ylabel=\"Number of edges\")\n",
    "plt.figure()\n",
    "plt.bar([\"v1\", \"v2\", \"total difference\", \"new V2\", \"removed V2\"], [len(nodes_v1), len(nodes_v2), len(nodes_v2)-len(nodes_v1),\n",
    "                                                           len(nodes_v2.difference(nodes_v1)), len(nodes_v1.difference(nodes_v2))])\n",
    "plt.ylabel(\"Number of nodes\")"
   ]
  }
 ],
 "metadata": {
  "kernelspec": {
   "display_name": "Python [conda env:pcnet_py3]",
   "language": "python",
   "name": "conda-env-pcnet_py3-py"
  },
  "language_info": {
   "codemirror_mode": {
    "name": "ipython",
    "version": 3
   },
   "file_extension": ".py",
   "mimetype": "text/x-python",
   "name": "python",
   "nbconvert_exporter": "python",
   "pygments_lexer": "ipython3",
   "version": "3.10.0"
  },
  "toc": {
   "base_numbering": 1,
   "nav_menu": {},
   "number_sections": true,
   "sideBar": true,
   "skip_h1_title": false,
   "title_cell": "Table of Contents",
   "title_sidebar": "Contents",
   "toc_cell": false,
   "toc_position": {
    "height": "calc(100% - 180px)",
    "left": "10px",
    "top": "150px",
    "width": "379.398px"
   },
   "toc_section_display": true,
   "toc_window_display": true
  },
  "varInspector": {
   "cols": {
    "lenName": 16,
    "lenType": 16,
    "lenVar": 40
   },
   "kernels_config": {
    "python": {
     "delete_cmd_postfix": "",
     "delete_cmd_prefix": "del ",
     "library": "var_list.py",
     "varRefreshCmd": "print(var_dic_list())"
    },
    "r": {
     "delete_cmd_postfix": ") ",
     "delete_cmd_prefix": "rm(",
     "library": "var_list.r",
     "varRefreshCmd": "cat(var_dic_list()) "
    }
   },
   "types_to_exclude": [
    "module",
    "function",
    "builtin_function_or_method",
    "instance",
    "_Feature"
   ],
   "window_display": false
  }
 },
 "nbformat": 4,
 "nbformat_minor": 1
}
