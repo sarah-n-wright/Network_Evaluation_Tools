{
 "cells": [
  {
   "cell_type": "code",
   "execution_count": 1,
   "metadata": {
    "ExecuteTime": {
     "end_time": "2022-04-18T19:43:52.341843Z",
     "start_time": "2022-04-18T19:43:48.929978Z"
    }
   },
   "outputs": [],
   "source": [
    "from network_evaluation_tools import gene_conversion_tools as gct\n",
    "from network_evaluation_tools import data_import_tools as dit\n",
    "import pandas as pd\n",
    "import itertools\n",
    "import matplotlib.pyplot as plt"
   ]
  },
  {
   "cell_type": "code",
   "execution_count": 2,
   "metadata": {
    "ExecuteTime": {
     "end_time": "2022-04-18T19:43:52.345939Z",
     "start_time": "2022-04-18T19:43:52.342726Z"
    }
   },
   "outputs": [],
   "source": [
    "wd = '/cellar/users/snwright/Data/Network_Analysis/'"
   ]
  },
  {
   "cell_type": "markdown",
   "metadata": {},
   "source": [
    "# Version 2\n",
    "## Load BioPlex Raw Data\n",
    "#### Source: https://bioplex.hms.harvard.edu/data/BioPlex_293T_Network_10K_Dec_2019.tsv; https://bioplex.hms.harvard.edu/data/BioPlex_HCT116_Network_5.5K_Dec_2019.tsv\n",
    "Downloaded: November 16, 2021   \n",
    "Last Updated: December, 2019  \n",
    "This latest update of BioPlex is associated with the recent paper: Huttlin et al. 2021 https://doi.org/10.1101/2020.01.19.905109.   \n",
    "\n",
    "**Note:** In addition to additional data from 293T cells (v3.0), there is also published data from HCT116 cells (v1.0). These two datasets are merged.  \n",
    "**Note:** We could use the 'pInt' column as a scoring metric to filter the network further, but we have chosen not to for consistency with the original PCNet publication. "
   ]
  },
  {
   "cell_type": "code",
   "execution_count": 3,
   "metadata": {
    "ExecuteTime": {
     "end_time": "2022-04-18T19:43:52.769244Z",
     "start_time": "2022-04-18T19:43:52.347086Z"
    }
   },
   "outputs": [
    {
     "name": "stdout",
     "output_type": "stream",
     "text": [
      "Raw edge count in BioPlex (293T): 118162\n",
      "Raw edge count in BioPlex (HCT116): 70966\n"
     ]
    }
   ],
   "source": [
    "BioPlex_293T_Raw = pd.read_csv(wd+'Network_Data_Raw/BioPlex_293T_Network_10K_Dec_2019.tsv',sep='\\t')\n",
    "BioPlex_HCT116_Raw = pd.read_csv(wd+'Network_Data_Raw/BioPlex_HCT116_Network_5.5K_Dec_2019.tsv',sep='\\t')\n",
    "print('Raw edge count in BioPlex (293T):', len(BioPlex_293T_Raw))\n",
    "print('Raw edge count in BioPlex (HCT116):', len(BioPlex_HCT116_Raw))"
   ]
  },
  {
   "cell_type": "code",
   "execution_count": 4,
   "metadata": {
    "ExecuteTime": {
     "end_time": "2022-04-18T19:43:52.896775Z",
     "start_time": "2022-04-18T19:43:52.770043Z"
    }
   },
   "outputs": [
    {
     "name": "stdout",
     "output_type": "stream",
     "text": [
      "Concatenated list of edges: (189128, 9)\n",
      "After duplicate edges removed: (173972, 9)\n"
     ]
    }
   ],
   "source": [
    "## Combine the two datasets. Where edges exist in both cell lines, keep the row with the lowest pInt\n",
    "input_raw_v2 = pd.concat([BioPlex_293T_Raw, BioPlex_HCT116_Raw])\n",
    "print('Concatenated list of edges:', input_raw_v2.shape)\n",
    "input_raw_v2.sort_values(by=\"pInt\", inplace=True)\n",
    "input_raw_v2 = input_raw_v2.drop_duplicates(subset=[\"GeneA\", \"GeneB\", \"UniprotA\", \"UniprotB\", \"SymbolA\", \"SymbolB\"], keep='first')\n",
    "print('After duplicate edges removed:', input_raw_v2.shape)"
   ]
  },
  {
   "cell_type": "code",
   "execution_count": 5,
   "metadata": {
    "ExecuteTime": {
     "end_time": "2022-04-18T19:43:53.017768Z",
     "start_time": "2022-04-18T19:43:52.897655Z"
    }
   },
   "outputs": [
    {
     "name": "stdout",
     "output_type": "stream",
     "text": [
      "Edges in BIND: 173972\n"
     ]
    }
   ],
   "source": [
    "# Convert table of interactions to edgelist (no scores given)\n",
    "# Also no gene symbol conversion necessary because network is given in symbol format already\n",
    "edgelist_v2 = input_raw_v2[['SymbolA', 'SymbolB']].values.tolist()\n",
    "print('Edges in BIND:', len(edgelist_v2))"
   ]
  },
  {
   "cell_type": "code",
   "execution_count": 6,
   "metadata": {
    "ExecuteTime": {
     "end_time": "2022-04-18T19:43:53.145104Z",
     "start_time": "2022-04-18T19:43:53.018617Z"
    }
   },
   "outputs": [],
   "source": [
    "# Sort each edge representation for filtering\n",
    "edgelist_sorted_v2 = [sorted(edge) for edge in edgelist_v2]\n",
    "edgelist_sorted_v2 = pd.DataFrame(edgelist_sorted_v2, columns=[\"symbol_n1\", \"symbol_n2\"])"
   ]
  },
  {
   "cell_type": "markdown",
   "metadata": {},
   "source": [
    "## Query symbols"
   ]
  },
  {
   "cell_type": "code",
   "execution_count": 7,
   "metadata": {
    "ExecuteTime": {
     "end_time": "2022-04-18T19:43:53.202115Z",
     "start_time": "2022-04-18T19:43:53.146057Z"
    }
   },
   "outputs": [
    {
     "name": "stdout",
     "output_type": "stream",
     "text": [
      "14550 Valid Query Genes\n",
      "1 Invalid Query Genes\n"
     ]
    }
   ],
   "source": [
    "genes_v2 = (list(set(edgelist_sorted_v2[\"symbol_n1\"]).union(set(edgelist_sorted_v2[\"symbol_n2\"]))))\n",
    "query_string_v2, valid_genes_v2, invalid_genes_v2 = gct.query_constructor(genes_v2)"
   ]
  },
  {
   "cell_type": "code",
   "execution_count": 8,
   "metadata": {
    "ExecuteTime": {
     "end_time": "2022-04-18T19:43:53.572499Z",
     "start_time": "2022-04-18T19:43:53.202822Z"
    }
   },
   "outputs": [
    {
     "name": "stdout",
     "output_type": "stream",
     "text": [
      "Number of genes with multiple matches: 10\n",
      "Number of unmatched genes: 50\n",
      "Number of fully matched genes: 14423\n",
      "Number of partially matched genes: 127\n"
     ]
    }
   ],
   "source": [
    "mapped_v2, unmapped_v2 = gct.query_against_dataset(\"~/Data/Network_Analysis/Reference_Data/HGNC_download_2022.txt\",\n",
    "                              valid_genes_v2, return_as_dict=True)\n",
    "match_table_trim_v2, query_to_symbol_v2, query_to_entrez_v2 = gct.construct_query_map_table(mapped_v2, valid_genes_v2)"
   ]
  },
  {
   "cell_type": "code",
   "execution_count": 9,
   "metadata": {
    "ExecuteTime": {
     "end_time": "2022-04-18T19:43:53.722021Z",
     "start_time": "2022-04-18T19:43:53.573484Z"
    }
   },
   "outputs": [
    {
     "name": "stdout",
     "output_type": "stream",
     "text": [
      "173972 input edges\n",
      "3 self-edges removed\n",
      "796 edges with un-mapped genes removed\n",
      "6598 duplicate edges removed\n",
      "Edge list filtered: 0.08 seconds\n",
      "166575 Edges remaining\n"
     ]
    }
   ],
   "source": [
    "edgelist_updated_v2 = gct.convert_edgelist(edgelist_sorted_v2, query_to_symbol_v2)\n",
    "# Filter edgelist for duplicate nodes and for self-edges\n",
    "edgelist_filt_v2 = gct.filter_converted_edgelist(edgelist_updated_v2)"
   ]
  },
  {
   "cell_type": "code",
   "execution_count": 10,
   "metadata": {
    "ExecuteTime": {
     "end_time": "2022-04-18T19:43:53.904824Z",
     "start_time": "2022-04-18T19:43:53.722880Z"
    }
   },
   "outputs": [
    {
     "name": "stdout",
     "output_type": "stream",
     "text": [
      "Edge list saved: 0.18 seconds\n"
     ]
    }
   ],
   "source": [
    "# Write network to file\n",
    "gct.write_edgelist(edgelist_filt_v2, wd+'Processed_Data/Network_SIFs_Symbol/BioPlex_Symbol_2019.sif', binary=True)"
   ]
  },
  {
   "cell_type": "markdown",
   "metadata": {},
   "source": [
    "# Version 1\n",
    "## Load BioPlex Raw Data\n",
    "**Source: http://bioplex.hms.harvard.edu/data/BioPlex_interactionList_v4a.tsv**  \n",
    "\n",
    "Downloaded: June 20, 2017  \n",
    "Last Updated: December 01, 2016     \n",
    "This latest update of BioPlex (2.0 v4) is associated with the recent paper: Huttlin et al. (2017) Nature doi: 10.1038/nature22366  \n",
    "Note: We could use the 'p(Interaction)' column as a scoring metric to filter the network further, however, a top 10% filtering of this network would yield a network with <6000 interactions, so we did not feel like it was necessary to filter the network further for analysis."
   ]
  },
  {
   "cell_type": "code",
   "execution_count": 11,
   "metadata": {
    "ExecuteTime": {
     "end_time": "2022-04-18T19:43:54.067688Z",
     "start_time": "2022-04-18T19:43:53.905839Z"
    }
   },
   "outputs": [
    {
     "name": "stdout",
     "output_type": "stream",
     "text": [
      "Raw edge count in BioPlex: 56553\n"
     ]
    }
   ],
   "source": [
    "input_raw = pd.read_csv(wd+'Network_Data_Raw/BioPlex_interactionList_v4a.tsv',sep='\\t')\n",
    "print('Raw edge count in BioPlex:', len(input_raw))"
   ]
  },
  {
   "cell_type": "code",
   "execution_count": 12,
   "metadata": {
    "ExecuteTime": {
     "end_time": "2022-04-18T19:43:54.084181Z",
     "start_time": "2022-04-18T19:43:54.069812Z"
    }
   },
   "outputs": [
    {
     "data": {
      "text/html": [
       "<div>\n",
       "<style scoped>\n",
       "    .dataframe tbody tr th:only-of-type {\n",
       "        vertical-align: middle;\n",
       "    }\n",
       "\n",
       "    .dataframe tbody tr th {\n",
       "        vertical-align: top;\n",
       "    }\n",
       "\n",
       "    .dataframe thead th {\n",
       "        text-align: right;\n",
       "    }\n",
       "</style>\n",
       "<table border=\"1\" class=\"dataframe\">\n",
       "  <thead>\n",
       "    <tr style=\"text-align: right;\">\n",
       "      <th></th>\n",
       "      <th>GeneA</th>\n",
       "      <th>GeneB</th>\n",
       "      <th>UniprotA</th>\n",
       "      <th>UniprotB</th>\n",
       "      <th>SymbolA</th>\n",
       "      <th>SymbolB</th>\n",
       "      <th>p(Wrong)</th>\n",
       "      <th>p(No Interaction)</th>\n",
       "      <th>p(Interaction)</th>\n",
       "    </tr>\n",
       "  </thead>\n",
       "  <tbody>\n",
       "    <tr>\n",
       "      <th>0</th>\n",
       "      <td>100</td>\n",
       "      <td>728378</td>\n",
       "      <td>P00813</td>\n",
       "      <td>A5A3E0</td>\n",
       "      <td>ADA</td>\n",
       "      <td>POTEF</td>\n",
       "      <td>2.380858e-09</td>\n",
       "      <td>0.000332</td>\n",
       "      <td>0.999668</td>\n",
       "    </tr>\n",
       "    <tr>\n",
       "      <th>1</th>\n",
       "      <td>100</td>\n",
       "      <td>345651</td>\n",
       "      <td>P00813</td>\n",
       "      <td>Q562R1</td>\n",
       "      <td>ADA</td>\n",
       "      <td>ACTBL2</td>\n",
       "      <td>9.786437e-18</td>\n",
       "      <td>0.211914</td>\n",
       "      <td>0.788086</td>\n",
       "    </tr>\n",
       "    <tr>\n",
       "      <th>2</th>\n",
       "      <td>222389</td>\n",
       "      <td>708</td>\n",
       "      <td>Q8N7W2</td>\n",
       "      <td>Q07021</td>\n",
       "      <td>BEND7</td>\n",
       "      <td>C1QBP</td>\n",
       "      <td>2.962215e-17</td>\n",
       "      <td>0.005645</td>\n",
       "      <td>0.994355</td>\n",
       "    </tr>\n",
       "    <tr>\n",
       "      <th>3</th>\n",
       "      <td>222389</td>\n",
       "      <td>4038</td>\n",
       "      <td>Q8N7W2</td>\n",
       "      <td>O75096</td>\n",
       "      <td>BEND7</td>\n",
       "      <td>LRP4</td>\n",
       "      <td>3.302994e-10</td>\n",
       "      <td>0.000280</td>\n",
       "      <td>0.999720</td>\n",
       "    </tr>\n",
       "    <tr>\n",
       "      <th>4</th>\n",
       "      <td>645121</td>\n",
       "      <td>3312</td>\n",
       "      <td>Q6ZMN8</td>\n",
       "      <td>P11142</td>\n",
       "      <td>CCNI2</td>\n",
       "      <td>HSPA8</td>\n",
       "      <td>2.060285e-16</td>\n",
       "      <td>0.036235</td>\n",
       "      <td>0.963765</td>\n",
       "    </tr>\n",
       "  </tbody>\n",
       "</table>\n",
       "</div>"
      ],
      "text/plain": [
       "    GeneA   GeneB UniprotA UniprotB SymbolA SymbolB      p(Wrong)  \\\n",
       "0     100  728378   P00813   A5A3E0     ADA   POTEF  2.380858e-09   \n",
       "1     100  345651   P00813   Q562R1     ADA  ACTBL2  9.786437e-18   \n",
       "2  222389     708   Q8N7W2   Q07021   BEND7   C1QBP  2.962215e-17   \n",
       "3  222389    4038   Q8N7W2   O75096   BEND7    LRP4  3.302994e-10   \n",
       "4  645121    3312   Q6ZMN8   P11142   CCNI2   HSPA8  2.060285e-16   \n",
       "\n",
       "   p(No Interaction)  p(Interaction)  \n",
       "0           0.000332        0.999668  \n",
       "1           0.211914        0.788086  \n",
       "2           0.005645        0.994355  \n",
       "3           0.000280        0.999720  \n",
       "4           0.036235        0.963765  "
      ]
     },
     "execution_count": 12,
     "metadata": {},
     "output_type": "execute_result"
    }
   ],
   "source": [
    "input_raw.head()"
   ]
  },
  {
   "cell_type": "code",
   "execution_count": 13,
   "metadata": {
    "ExecuteTime": {
     "end_time": "2022-04-18T19:43:54.093700Z",
     "start_time": "2022-04-18T19:43:54.084901Z"
    }
   },
   "outputs": [
    {
     "name": "stdout",
     "output_type": "stream",
     "text": [
      "Edges in Bioplex: 56553\n"
     ]
    }
   ],
   "source": [
    "# Convert table of interactions to edgelist (no scores given)\n",
    "# Also no gene symbol conversion necessary because network is given in symbol format already\n",
    "edgelist = input_raw[['SymbolA', 'SymbolB']].values.tolist()\n",
    "print('Edges in Bioplex:', len(edgelist))"
   ]
  },
  {
   "cell_type": "code",
   "execution_count": 14,
   "metadata": {
    "ExecuteTime": {
     "end_time": "2022-04-18T19:43:54.182465Z",
     "start_time": "2022-04-18T19:43:54.094539Z"
    }
   },
   "outputs": [],
   "source": [
    "# Sort each edge representation for filtering\n",
    "edgelist_sorted = [sorted(edge) for edge in edgelist]\n",
    "edgelist_sorted = pd.DataFrame(edgelist_sorted, columns=[\"symbol_n1\", \"symbol_n2\"])"
   ]
  },
  {
   "cell_type": "markdown",
   "metadata": {},
   "source": [
    "## Query symbols"
   ]
  },
  {
   "cell_type": "code",
   "execution_count": 15,
   "metadata": {
    "ExecuteTime": {
     "end_time": "2022-04-18T19:43:54.232513Z",
     "start_time": "2022-04-18T19:43:54.183401Z"
    }
   },
   "outputs": [
    {
     "name": "stdout",
     "output_type": "stream",
     "text": [
      "10961 Valid Query Genes\n",
      "0 Invalid Query Genes\n"
     ]
    }
   ],
   "source": [
    "genes = (list(set(edgelist_sorted[\"symbol_n1\"]).union(set(edgelist_sorted[\"symbol_n2\"]))))\n",
    "query_string, valid_genes, invalid_genes = gct.query_constructor(genes)"
   ]
  },
  {
   "cell_type": "code",
   "execution_count": 16,
   "metadata": {
    "ExecuteTime": {
     "end_time": "2022-04-18T19:43:54.498654Z",
     "start_time": "2022-04-18T19:43:54.233168Z"
    }
   },
   "outputs": [
    {
     "name": "stdout",
     "output_type": "stream",
     "text": [
      "Number of genes with multiple matches: 8\n",
      "Number of unmatched genes: 27\n",
      "Number of fully matched genes: 10876\n",
      "Number of partially matched genes: 85\n"
     ]
    }
   ],
   "source": [
    "mapped, unmapped = gct.query_against_dataset(\"~/Data/Network_Analysis/Reference_Data/HGNC_download_2022.txt\",\n",
    "                              valid_genes, return_as_dict=True)\n",
    "match_table_trim, query_to_symbol, query_to_entrez = gct.construct_query_map_table(mapped, valid_genes)"
   ]
  },
  {
   "cell_type": "code",
   "execution_count": 17,
   "metadata": {
    "ExecuteTime": {
     "end_time": "2022-04-18T19:43:54.553374Z",
     "start_time": "2022-04-18T19:43:54.499738Z"
    }
   },
   "outputs": [
    {
     "name": "stdout",
     "output_type": "stream",
     "text": [
      "56553 input edges\n",
      "3 self-edges removed\n",
      "213 edges with un-mapped genes removed\n",
      "11 duplicate edges removed\n",
      "Edge list filtered: 0.03 seconds\n",
      "56326 Edges remaining\n"
     ]
    }
   ],
   "source": [
    "edgelist_updated = gct.convert_edgelist(edgelist_sorted, query_to_symbol)\n",
    "# Filter edgelist for duplicate nodes and for self-edges\n",
    "edgelist_filt = gct.filter_converted_edgelist(edgelist_updated)"
   ]
  },
  {
   "cell_type": "code",
   "execution_count": 18,
   "metadata": {
    "ExecuteTime": {
     "end_time": "2022-04-18T19:43:54.627040Z",
     "start_time": "2022-04-18T19:43:54.554375Z"
    }
   },
   "outputs": [
    {
     "name": "stdout",
     "output_type": "stream",
     "text": [
      "Edge list saved: 0.07 seconds\n"
     ]
    }
   ],
   "source": [
    "# Write network to file\n",
    "gct.write_edgelist(edgelist_filt, wd+'Processed_Data/Network_SIFs_Symbol/BioPlex_Symbol_v4a_2016.sif', binary=True)"
   ]
  },
  {
   "cell_type": "markdown",
   "metadata": {},
   "source": [
    "# Changes"
   ]
  },
  {
   "cell_type": "code",
   "execution_count": 19,
   "metadata": {
    "ExecuteTime": {
     "end_time": "2022-04-18T19:43:55.235834Z",
     "start_time": "2022-04-18T19:43:54.627814Z"
    }
   },
   "outputs": [
    {
     "name": "stdout",
     "output_type": "stream",
     "text": [
      "No human filtering done\n"
     ]
    },
    {
     "data": {
      "image/png": "[encoded data removed]",
      "text/plain": [
       "<Figure size 1080x360 with 2 Axes>"
      ]
     },
     "metadata": {
      "needs_background": "light"
     },
     "output_type": "display_data"
    }
   ],
   "source": [
    "dit.plot_changes_to_dataset(input_raw, input_raw_v2, edgelist_filt, edgelist_filt_v2)"
   ]
  },
  {
   "cell_type": "code",
   "execution_count": 21,
   "metadata": {
    "ExecuteTime": {
     "end_time": "2022-04-18T19:44:41.191615Z",
     "start_time": "2022-04-18T19:44:41.180889Z"
    }
   },
   "outputs": [
    {
     "data": {
      "text/plain": [
       "10920"
      ]
     },
     "execution_count": 21,
     "metadata": {},
     "output_type": "execute_result"
    }
   ],
   "source": [
    "len(set(edgelist_filt[\"symbol_n1\"]).union(set(edgelist_filt[\"symbol_n2\"])))"
   ]
  },
  {
   "cell_type": "code",
   "execution_count": 22,
   "metadata": {
    "ExecuteTime": {
     "end_time": "2022-04-18T19:44:51.663603Z",
     "start_time": "2022-04-18T19:44:51.638854Z"
    }
   },
   "outputs": [
    {
     "data": {
      "text/plain": [
       "14471"
      ]
     },
     "execution_count": 22,
     "metadata": {},
     "output_type": "execute_result"
    }
   ],
   "source": [
    "len(set(edgelist_filt_v2[\"symbol_n1\"]).union(set(edgelist_filt_v2[\"symbol_n2\"])))"
   ]
  }
 ],
 "metadata": {
  "kernelspec": {
   "display_name": "Python [conda env:pcnet_py3]",
   "language": "python",
   "name": "conda-env-pcnet_py3-py"
  },
  "language_info": {
   "codemirror_mode": {
    "name": "ipython",
    "version": 3
   },
   "file_extension": ".py",
   "mimetype": "text/x-python",
   "name": "python",
   "nbconvert_exporter": "python",
   "pygments_lexer": "ipython3",
   "version": "3.10.0"
  },
  "toc": {
   "base_numbering": 1,
   "nav_menu": {},
   "number_sections": true,
   "sideBar": true,
   "skip_h1_title": false,
   "title_cell": "Table of Contents",
   "title_sidebar": "Contents",
   "toc_cell": false,
   "toc_position": {},
   "toc_section_display": true,
   "toc_window_display": true
  },
  "varInspector": {
   "cols": {
    "lenName": 16,
    "lenType": 16,
    "lenVar": 40
   },
   "kernels_config": {
    "python": {
     "delete_cmd_postfix": "",
     "delete_cmd_prefix": "del ",
     "library": "var_list.py",
     "varRefreshCmd": "print(var_dic_list())"
    },
    "r": {
     "delete_cmd_postfix": ") ",
     "delete_cmd_prefix": "rm(",
     "library": "var_list.r",
     "varRefreshCmd": "cat(var_dic_list()) "
    }
   },
   "types_to_exclude": [
    "module",
    "function",
    "builtin_function_or_method",
    "instance",
    "_Feature"
   ],
   "window_display": false
  }
 },
 "nbformat": 4,
 "nbformat_minor": 1
}
