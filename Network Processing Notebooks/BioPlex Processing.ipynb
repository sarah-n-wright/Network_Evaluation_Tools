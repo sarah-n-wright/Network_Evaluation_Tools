{
 "cells": [
  {
   "cell_type": "code",
   "execution_count": 2,
   "metadata": {
    "ExecuteTime": {
     "end_time": "2021-11-19T17:22:55.711988Z",
     "start_time": "2021-11-19T17:22:52.836053Z"
    }
   },
   "outputs": [],
   "source": [
    "from network_evaluation_tools import gene_conversion_tools as gct\n",
    "import pandas as pd\n",
    "import itertools\n",
    "import matplotlib.pyplot as plt"
   ]
  },
  {
   "cell_type": "code",
   "execution_count": 1,
   "metadata": {
    "ExecuteTime": {
     "end_time": "2021-11-19T17:22:43.834227Z",
     "start_time": "2021-11-19T17:22:43.832768Z"
    }
   },
   "outputs": [],
   "source": [
    "wd = '/cellar/users/snwright/Data/Network_Analysis/'"
   ]
  },
  {
   "cell_type": "markdown",
   "metadata": {},
   "source": [
    "# Version 2\n",
    "## Load BioPlex Raw Data\n",
    "#### Source: https://bioplex.hms.harvard.edu/data/BioPlex_293T_Network_10K_Dec_2019.tsv; https://bioplex.hms.harvard.edu/data/BioPlex_HCT116_Network_5.5K_Dec_2019.tsv\n",
    "Downloaded: November 16, 2021   \n",
    "Last Updated: December, 2019  \n",
    "This latest update of BioPlex is associated with the recent paper: Huttlin et al. 2021 https://doi.org/10.1101/2020.01.19.905109.   \n",
    "\n",
    "**Note:** In addition to additional data from 293T cells (v3.0), there is also published data from HCT116 cells (v1.0). These two datasets are merged.  \n",
    "**Note:** We could use the 'pInt' column as a scoring metric to filter the network further, but we have chosen not to for consistency with the original PCNet publication. "
   ]
  },
  {
   "cell_type": "code",
   "execution_count": 12,
   "metadata": {
    "ExecuteTime": {
     "end_time": "2021-11-19T17:30:46.835759Z",
     "start_time": "2021-11-19T17:30:46.407310Z"
    }
   },
   "outputs": [
    {
     "name": "stdout",
     "output_type": "stream",
     "text": [
      "Raw edge count in BioPlex (293T): 118162\n",
      "Raw edge count in BioPlex (HCT116): 70966\n"
     ]
    }
   ],
   "source": [
    "BioPlex_293T_Raw = pd.read_csv(wd+'Network_Data_Raw/BioPlex_293T_Network_10K_Dec_2019.tsv',sep='\\t')\n",
    "BioPlex_HCT116_Raw = pd.read_csv(wd+'Network_Data_Raw/BioPlex_HCT116_Network_5.5K_Dec_2019.tsv',sep='\\t')\n",
    "print('Raw edge count in BioPlex (293T):', len(BioPlex_293T_Raw))\n",
    "print('Raw edge count in BioPlex (HCT116):', len(BioPlex_HCT116_Raw))"
   ]
  },
  {
   "cell_type": "code",
   "execution_count": 17,
   "metadata": {
    "ExecuteTime": {
     "end_time": "2021-11-19T17:35:31.662853Z",
     "start_time": "2021-11-19T17:35:31.525726Z"
    }
   },
   "outputs": [
    {
     "name": "stdout",
     "output_type": "stream",
     "text": [
      "Concatenated list of edges: (189128, 9)\n",
      "After duplicate edges removed: (173972, 9)\n"
     ]
    }
   ],
   "source": [
    "## Combine the two datasets. Where edges exist in both cell lines, keep the row with the lowest pInt\n",
    "BioPlex_Raw_v2 = pd.concat([BioPlex_293T_Raw, BioPlex_HCT116_Raw])\n",
    "print('Concatenated list of edges:', BioPlex_Raw_v2.shape)\n",
    "BioPlex_Raw_v2.sort_values(by=\"pInt\", inplace=True)\n",
    "BioPlex_Raw_v2 = BioPlex_Raw_v2.drop_duplicates(subset=[\"GeneA\", \"GeneB\", \"UniprotA\", \"UniprotB\", \"SymbolA\", \"SymbolB\"], keep='first')\n",
    "print('After duplicate edges removed:', BioPlex_Raw_v2.shape)"
   ]
  },
  {
   "cell_type": "code",
   "execution_count": 18,
   "metadata": {
    "ExecuteTime": {
     "end_time": "2021-11-19T17:36:58.184373Z",
     "start_time": "2021-11-19T17:36:58.047640Z"
    }
   },
   "outputs": [
    {
     "name": "stdout",
     "output_type": "stream",
     "text": [
      "Edges in BIND: 173972\n"
     ]
    }
   ],
   "source": [
    "# Convert table of interactions to edgelist (no scores given)\n",
    "# Also no gene symbol conversion necessary because network is given in symbol format already\n",
    "BioPlex_edgelist_v2 = BioPlex_Raw_v2[['SymbolA', 'SymbolB']].values.tolist()\n",
    "print('Edges in BIND:', len(BioPlex_edgelist_v2))"
   ]
  },
  {
   "cell_type": "code",
   "execution_count": 19,
   "metadata": {
    "ExecuteTime": {
     "end_time": "2021-11-19T17:37:37.574204Z",
     "start_time": "2021-11-19T17:37:37.384139Z"
    }
   },
   "outputs": [],
   "source": [
    "# Sort each edge representation for filtering\n",
    "BioPlex_edgelist_sorted_v2 = [sorted(edge) for edge in BioPlex_edgelist_v2]\n",
    "BioPlex_edgelist_sorted_v2 = pd.DataFrame(BioPlex_edgelist_sorted_v2, columns=[\"symbol_n1\", \"symbol_n2\"])"
   ]
  },
  {
   "cell_type": "code",
   "execution_count": 20,
   "metadata": {
    "ExecuteTime": {
     "end_time": "2021-11-19T17:37:44.785460Z",
     "start_time": "2021-11-19T17:37:44.718497Z"
    }
   },
   "outputs": [
    {
     "name": "stdout",
     "output_type": "stream",
     "text": [
      "173972 input edges\n",
      "0 self-edges removed\n",
      "0 edges with un-mapped genes removed\n",
      "6573 duplicate edges removed\n",
      "Edge list filtered: 0.06 seconds\n",
      "167399 Edges remaining\n"
     ]
    }
   ],
   "source": [
    "# Filter edgelist for duplicate nodes and for self-edges\n",
    "BioPlex_edgelist_filt_v2 = gct.filter_converted_edgelist(BioPlex_edgelist_sorted_v2)"
   ]
  },
  {
   "cell_type": "code",
   "execution_count": 21,
   "metadata": {
    "ExecuteTime": {
     "end_time": "2021-11-19T17:38:15.792973Z",
     "start_time": "2021-11-19T17:38:15.632206Z"
    }
   },
   "outputs": [
    {
     "name": "stdout",
     "output_type": "stream",
     "text": [
      "Edge list saved: 0.16 seconds\n"
     ]
    }
   ],
   "source": [
    "# Write network to file\n",
    "gct.write_edgelist(BioPlex_edgelist_filt_v2, wd+'Processed_Data/Network_SIFs_Symbol/BioPlex_Symbol_2019.sif', binary=True)"
   ]
  },
  {
   "cell_type": "markdown",
   "metadata": {},
   "source": [
    "# Version 1\n",
    "## Load BioPlex Raw Data\n",
    "#### Source: http://bioplex.hms.harvard.edu/data/BioPlex_interactionList_v4a.tsv\n",
    "Downloaded: June 20, 2017  \n",
    "Last Updated: December 01, 2016     \n",
    "This latest update of BioPlex (2.0 v4) is associated with the recent paper: Huttlin et al. (2017) Nature doi: 10.1038/nature22366  \n",
    "Note: We could use the 'p(Interaction)' column as a scoring metric to filter the network further, however, a top 10% filtering of this network would yield a network with <6000 interactions, so we did not feel like it was necessary to filter the network further for analysis."
   ]
  },
  {
   "cell_type": "code",
   "execution_count": 3,
   "metadata": {
    "ExecuteTime": {
     "end_time": "2021-11-19T17:23:17.199561Z",
     "start_time": "2021-11-19T17:23:17.068720Z"
    }
   },
   "outputs": [
    {
     "name": "stdout",
     "output_type": "stream",
     "text": [
      "Raw edge count in BioPlex: 56553\n"
     ]
    }
   ],
   "source": [
    "BioPlex_Raw = pd.read_csv(wd+'Network_Data_Raw/BioPlex_interactionList_v4a.tsv',sep='\\t')\n",
    "print('Raw edge count in BioPlex:', len(BioPlex_Raw))"
   ]
  },
  {
   "cell_type": "code",
   "execution_count": 4,
   "metadata": {
    "ExecuteTime": {
     "end_time": "2021-11-19T17:23:22.498144Z",
     "start_time": "2021-11-19T17:23:22.482475Z"
    }
   },
   "outputs": [
    {
     "data": {
      "text/html": [
       "<div>\n",
       "<style scoped>\n",
       "    .dataframe tbody tr th:only-of-type {\n",
       "        vertical-align: middle;\n",
       "    }\n",
       "\n",
       "    .dataframe tbody tr th {\n",
       "        vertical-align: top;\n",
       "    }\n",
       "\n",
       "    .dataframe thead th {\n",
       "        text-align: right;\n",
       "    }\n",
       "</style>\n",
       "<table border=\"1\" class=\"dataframe\">\n",
       "  <thead>\n",
       "    <tr style=\"text-align: right;\">\n",
       "      <th></th>\n",
       "      <th>GeneA</th>\n",
       "      <th>GeneB</th>\n",
       "      <th>UniprotA</th>\n",
       "      <th>UniprotB</th>\n",
       "      <th>SymbolA</th>\n",
       "      <th>SymbolB</th>\n",
       "      <th>p(Wrong)</th>\n",
       "      <th>p(No Interaction)</th>\n",
       "      <th>p(Interaction)</th>\n",
       "    </tr>\n",
       "  </thead>\n",
       "  <tbody>\n",
       "    <tr>\n",
       "      <th>0</th>\n",
       "      <td>100</td>\n",
       "      <td>728378</td>\n",
       "      <td>P00813</td>\n",
       "      <td>A5A3E0</td>\n",
       "      <td>ADA</td>\n",
       "      <td>POTEF</td>\n",
       "      <td>2.380858e-09</td>\n",
       "      <td>0.000332</td>\n",
       "      <td>0.999668</td>\n",
       "    </tr>\n",
       "    <tr>\n",
       "      <th>1</th>\n",
       "      <td>100</td>\n",
       "      <td>345651</td>\n",
       "      <td>P00813</td>\n",
       "      <td>Q562R1</td>\n",
       "      <td>ADA</td>\n",
       "      <td>ACTBL2</td>\n",
       "      <td>9.786437e-18</td>\n",
       "      <td>0.211914</td>\n",
       "      <td>0.788086</td>\n",
       "    </tr>\n",
       "    <tr>\n",
       "      <th>2</th>\n",
       "      <td>222389</td>\n",
       "      <td>708</td>\n",
       "      <td>Q8N7W2</td>\n",
       "      <td>Q07021</td>\n",
       "      <td>BEND7</td>\n",
       "      <td>C1QBP</td>\n",
       "      <td>2.962215e-17</td>\n",
       "      <td>0.005645</td>\n",
       "      <td>0.994355</td>\n",
       "    </tr>\n",
       "    <tr>\n",
       "      <th>3</th>\n",
       "      <td>222389</td>\n",
       "      <td>4038</td>\n",
       "      <td>Q8N7W2</td>\n",
       "      <td>O75096</td>\n",
       "      <td>BEND7</td>\n",
       "      <td>LRP4</td>\n",
       "      <td>3.302994e-10</td>\n",
       "      <td>0.000280</td>\n",
       "      <td>0.999720</td>\n",
       "    </tr>\n",
       "    <tr>\n",
       "      <th>4</th>\n",
       "      <td>645121</td>\n",
       "      <td>3312</td>\n",
       "      <td>Q6ZMN8</td>\n",
       "      <td>P11142</td>\n",
       "      <td>CCNI2</td>\n",
       "      <td>HSPA8</td>\n",
       "      <td>2.060285e-16</td>\n",
       "      <td>0.036235</td>\n",
       "      <td>0.963765</td>\n",
       "    </tr>\n",
       "  </tbody>\n",
       "</table>\n",
       "</div>"
      ],
      "text/plain": [
       "    GeneA   GeneB UniprotA UniprotB SymbolA SymbolB      p(Wrong)  \\\n",
       "0     100  728378   P00813   A5A3E0     ADA   POTEF  2.380858e-09   \n",
       "1     100  345651   P00813   Q562R1     ADA  ACTBL2  9.786437e-18   \n",
       "2  222389     708   Q8N7W2   Q07021   BEND7   C1QBP  2.962215e-17   \n",
       "3  222389    4038   Q8N7W2   O75096   BEND7    LRP4  3.302994e-10   \n",
       "4  645121    3312   Q6ZMN8   P11142   CCNI2   HSPA8  2.060285e-16   \n",
       "\n",
       "   p(No Interaction)  p(Interaction)  \n",
       "0           0.000332        0.999668  \n",
       "1           0.211914        0.788086  \n",
       "2           0.005645        0.994355  \n",
       "3           0.000280        0.999720  \n",
       "4           0.036235        0.963765  "
      ]
     },
     "execution_count": 4,
     "metadata": {},
     "output_type": "execute_result"
    }
   ],
   "source": [
    "BioPlex_Raw.head()"
   ]
  },
  {
   "cell_type": "code",
   "execution_count": 5,
   "metadata": {
    "ExecuteTime": {
     "end_time": "2021-11-19T17:23:33.288585Z",
     "start_time": "2021-11-19T17:23:33.276680Z"
    }
   },
   "outputs": [
    {
     "name": "stdout",
     "output_type": "stream",
     "text": [
      "Edges in BIND: 56553\n"
     ]
    }
   ],
   "source": [
    "# Convert table of interactions to edgelist (no scores given)\n",
    "# Also no gene symbol conversion necessary because network is given in symbol format already\n",
    "BioPlex_edgelist = BioPlex_Raw[['SymbolA', 'SymbolB']].values.tolist()\n",
    "print('Edges in BIND:', len(BioPlex_edgelist))"
   ]
  },
  {
   "cell_type": "code",
   "execution_count": 8,
   "metadata": {
    "ExecuteTime": {
     "end_time": "2021-11-19T17:24:33.084042Z",
     "start_time": "2021-11-19T17:24:33.060006Z"
    }
   },
   "outputs": [],
   "source": [
    "# Sort each edge representation for filtering\n",
    "BioPlex_edgelist_sorted = [sorted(edge) for edge in BioPlex_edgelist]\n",
    "BioPlex_edgelist_sorted = pd.DataFrame(BioPlex_edgelist_sorted, columns=[\"symbol_n1\", \"symbol_n2\"])"
   ]
  },
  {
   "cell_type": "code",
   "execution_count": 10,
   "metadata": {
    "ExecuteTime": {
     "end_time": "2021-11-19T17:24:47.089315Z",
     "start_time": "2021-11-19T17:24:47.060081Z"
    }
   },
   "outputs": [
    {
     "name": "stdout",
     "output_type": "stream",
     "text": [
      "56553 input edges\n",
      "0 self-edges removed\n",
      "0 edges with un-mapped genes removed\n",
      "0 duplicate edges removed\n",
      "Edge list filtered: 0.03 seconds\n",
      "56553 Edges remaining\n"
     ]
    }
   ],
   "source": [
    "# Filter edgelist for duplicate nodes and for self-edges\n",
    "BioPlex_edgelist_filt = gct.filter_converted_edgelist(BioPlex_edgelist_sorted)"
   ]
  },
  {
   "cell_type": "code",
   "execution_count": 11,
   "metadata": {
    "ExecuteTime": {
     "end_time": "2021-11-19T17:25:06.425521Z",
     "start_time": "2021-11-19T17:25:06.357689Z"
    }
   },
   "outputs": [
    {
     "name": "stdout",
     "output_type": "stream",
     "text": [
      "Edge list saved: 0.07 seconds\n"
     ]
    }
   ],
   "source": [
    "# Write network to file\n",
    "gct.write_edgelist(BioPlex_edgelist_filt, wd+'Processed_Data/Network_SIFs_Symbol/BioPlex_Symbol_v4a_2016.sif', binary=True)"
   ]
  },
  {
   "cell_type": "markdown",
   "metadata": {},
   "source": [
    "# Changes"
   ]
  },
  {
   "cell_type": "code",
   "execution_count": 22,
   "metadata": {
    "ExecuteTime": {
     "end_time": "2021-11-19T17:41:27.599818Z",
     "start_time": "2021-11-19T17:41:27.597419Z"
    },
    "code_folding": []
   },
   "outputs": [],
   "source": [
    "stats = pd.DataFrame({\"v1\":[118162, 70966, 173972, 167399], \n",
    "                           \"v2\":[56553, 0, 56533, 56553]},\n",
    "                           index=[\"293T input\", \"HCT116 input\", \"Total input\", \"Filtered\"])"
   ]
  },
  {
   "cell_type": "code",
   "execution_count": 23,
   "metadata": {
    "ExecuteTime": {
     "end_time": "2021-11-19T17:41:56.692530Z",
     "start_time": "2021-11-19T17:41:56.671589Z"
    }
   },
   "outputs": [],
   "source": [
    "nodes_v1 = set(BioPlex_edgelist_filt[\"symbol_n1\"].values).union(set(BioPlex_edgelist_filt[\"symbol_n2\"].values))\n",
    "nodes_v2 = set(BioPlex_edgelist_filt_v2[\"symbol_n1\"].values).union(set(BioPlex_edgelist_filt_v2[\"symbol_n2\"].values))"
   ]
  },
  {
   "cell_type": "code",
   "execution_count": 24,
   "metadata": {
    "ExecuteTime": {
     "end_time": "2021-11-19T17:42:06.584968Z",
     "start_time": "2021-11-19T17:42:05.850481Z"
    }
   },
   "outputs": [
    {
     "data": {
      "text/plain": [
       "Text(0, 0.5, 'Number of nodes')"
      ]
     },
     "execution_count": 24,
     "metadata": {},
     "output_type": "execute_result"
    },
    {
     "data": {
      "image/png": "[encoded data removed]",
      "text/plain": [
       "<Figure size 432x288 with 1 Axes>"
      ]
     },
     "metadata": {
      "needs_background": "light"
     },
     "output_type": "display_data"
    },
    {
     "data": {
      "image/png": "[encoded data removed]",
      "text/plain": [
       "<Figure size 432x288 with 1 Axes>"
      ]
     },
     "metadata": {
      "needs_background": "light"
     },
     "output_type": "display_data"
    }
   ],
   "source": [
    "stats.plot.bar(ylabel=\"Number of edges\")\n",
    "plt.figure()\n",
    "plt.bar([\"v1\", \"v2\", \"total difference\", \"new V2\", \"removed V2\"], [len(nodes_v1), len(nodes_v2), len(nodes_v2)-len(nodes_v1),\n",
    "                                                           len(nodes_v2.difference(nodes_v1)), len(nodes_v1.difference(nodes_v2))])\n",
    "plt.ylabel(\"Number of nodes\")"
   ]
  }
 ],
 "metadata": {
  "kernelspec": {
   "display_name": "Python [conda env:pcnet_py3]",
   "language": "python",
   "name": "conda-env-pcnet_py3-py"
  },
  "language_info": {
   "codemirror_mode": {
    "name": "ipython",
    "version": 3
   },
   "file_extension": ".py",
   "mimetype": "text/x-python",
   "name": "python",
   "nbconvert_exporter": "python",
   "pygments_lexer": "ipython3",
   "version": "3.10.0"
  },
  "toc": {
   "base_numbering": 1,
   "nav_menu": {},
   "number_sections": true,
   "sideBar": true,
   "skip_h1_title": false,
   "title_cell": "Table of Contents",
   "title_sidebar": "Contents",
   "toc_cell": false,
   "toc_position": {},
   "toc_section_display": true,
   "toc_window_display": false
  },
  "varInspector": {
   "cols": {
    "lenName": 16,
    "lenType": 16,
    "lenVar": 40
   },
   "kernels_config": {
    "python": {
     "delete_cmd_postfix": "",
     "delete_cmd_prefix": "del ",
     "library": "var_list.py",
     "varRefreshCmd": "print(var_dic_list())"
    },
    "r": {
     "delete_cmd_postfix": ") ",
     "delete_cmd_prefix": "rm(",
     "library": "var_list.r",
     "varRefreshCmd": "cat(var_dic_list()) "
    }
   },
   "types_to_exclude": [
    "module",
    "function",
    "builtin_function_or_method",
    "instance",
    "_Feature"
   ],
   "window_display": false
  }
 },
 "nbformat": 4,
 "nbformat_minor": 1
}
