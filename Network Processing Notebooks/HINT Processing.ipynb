{
 "cells": [
  {
   "cell_type": "code",
   "execution_count": 1,
   "metadata": {
    "ExecuteTime": {
     "end_time": "2022-02-01T22:03:10.947917Z",
     "start_time": "2022-02-01T22:03:06.846040Z"
    }
   },
   "outputs": [],
   "source": [
    "from network_evaluation_tools import gene_conversion_tools as gct\n",
    "from network_evaluation_tools import data_import_tools as dit\n",
    "import pandas as pd\n",
    "import numpy as np\n",
    "import matplotlib.pyplot as plt"
   ]
  },
  {
   "cell_type": "code",
   "execution_count": 2,
   "metadata": {
    "ExecuteTime": {
     "end_time": "2022-02-01T22:03:10.952006Z",
     "start_time": "2022-02-01T22:03:10.949059Z"
    }
   },
   "outputs": [],
   "source": [
    "wd = '/cellar/users/snwright/Data/Network_Analysis/'"
   ]
  },
  {
   "cell_type": "markdown",
   "metadata": {},
   "source": [
    "# Version 2\n",
    "## Load HINT Raw Data\n",
    "**Source: http://hint.yulab.org/download/HomoSapiens/binary/hq/ ; http://hint.yulab.org/download/HomoSapiens/cocomp/hq/**  \n",
    "Downloaded: November 16, 2021  \n",
    "Last updated: August 2021.   \n",
    "The two binary interactomes for High-Quality (HQ) and Co-Complex (CC) interactions were downloaded and merged into a single interactome for HINT.     \n",
    "Citation: Das J and Yu H. HINT: High-quality protein interactomes and their applications in understanding human disease. BMC Systems Biology, 2012 Jul 30;6(1):92."
   ]
  },
  {
   "cell_type": "code",
   "execution_count": 3,
   "metadata": {
    "ExecuteTime": {
     "end_time": "2022-02-01T22:03:11.345188Z",
     "start_time": "2022-02-01T22:03:10.952702Z"
    }
   },
   "outputs": [
    {
     "name": "stdout",
     "output_type": "stream",
     "text": [
      "Binary HQ: 126960\n",
      "Co-complex: 188605\n"
     ]
    }
   ],
   "source": [
    "input_raw_bi_v2 = pd.read_csv(wd+'Network_Data_Raw/HINT/HomoSapiens_binary_hq.txt',sep='\\t')\n",
    "input_raw_co_v2 = pd.read_csv(wd+'Network_Data_Raw/HINT/HomoSapiens_cocomp_hq.txt',sep='\\t')\n",
    "print(\"Binary HQ:\", len(input_raw_bi_v2))\n",
    "print(\"Co-complex:\", len(input_raw_co_v2))"
   ]
  },
  {
   "cell_type": "code",
   "execution_count": 4,
   "metadata": {
    "ExecuteTime": {
     "end_time": "2022-02-01T22:03:11.600349Z",
     "start_time": "2022-02-01T22:03:11.346414Z"
    },
    "scrolled": true
   },
   "outputs": [
    {
     "name": "stdout",
     "output_type": "stream",
     "text": [
      "Concatenated list of edges: (315565, 9)\n",
      "After duplicate edges removed: (315104, 9)\n"
     ]
    }
   ],
   "source": [
    "input_raw_v2 = pd.concat([input_raw_bi_v2, input_raw_co_v2])\n",
    "print('Concatenated list of edges:', input_raw_v2.shape)\n",
    "input_raw_v2 = input_raw_v2.drop_duplicates()\n",
    "print('After duplicate edges removed:', input_raw_v2.shape)"
   ]
  },
  {
   "cell_type": "code",
   "execution_count": 5,
   "metadata": {
    "ExecuteTime": {
     "end_time": "2022-02-01T22:03:11.649187Z",
     "start_time": "2022-02-01T22:03:11.601401Z"
    },
    "scrolled": true
   },
   "outputs": [],
   "source": [
    "# Use UniProtID labels to annotate interactions\n",
    "genes_v2 = set(input_raw_v2['Uniprot_A']).union(set(input_raw_v2['Uniprot_B']))"
   ]
  },
  {
   "cell_type": "markdown",
   "metadata": {},
   "source": [
    "## Convert Genes from UniProt Accession ID to gene symbols"
   ]
  },
  {
   "cell_type": "code",
   "execution_count": 6,
   "metadata": {
    "ExecuteTime": {
     "end_time": "2022-02-01T22:03:11.687958Z",
     "start_time": "2022-02-01T22:03:11.650008Z"
    }
   },
   "outputs": [
    {
     "name": "stdout",
     "output_type": "stream",
     "text": [
      "17933 Valid Query Genes\n",
      "0 Invalid Query Genes\n"
     ]
    }
   ],
   "source": [
    "query_string_v2, valid_genes_v2, invalid_genes_v2 = gct.query_constructor(genes_v2)"
   ]
  },
  {
   "cell_type": "code",
   "execution_count": 7,
   "metadata": {
    "ExecuteTime": {
     "end_time": "2022-02-01T22:03:25.626373Z",
     "start_time": "2022-02-01T22:03:11.688720Z"
    }
   },
   "outputs": [
    {
     "name": "stderr",
     "output_type": "stream",
     "text": [
      "100%|██████████| 18/18 [00:13<00:00,  1.30it/s]"
     ]
    },
    {
     "name": "stdout",
     "output_type": "stream",
     "text": [
      "18207 Matched query results\n",
      "Batch query complete: 13.93 seconds\n",
      "18207 Matched query results\n"
     ]
    },
    {
     "name": "stderr",
     "output_type": "stream",
     "text": [
      "\n"
     ]
    }
   ],
   "source": [
    "# Set scopes (gene naming systems to search)\n",
    "scopes = \"uniprot\"\n",
    "\n",
    "# Set fields (systems from which to return gene names from)\n",
    "fields = \"symbol, entrezgene\"\n",
    "\n",
    "# Query MyGene.Info\n",
    "match_list_v2 = gct.query_batch(query_string_v2, scopes=scopes, fields=fields)\n",
    "print(len(match_list_v2), 'Matched query results')"
   ]
  },
  {
   "cell_type": "code",
   "execution_count": 8,
   "metadata": {
    "ExecuteTime": {
     "end_time": "2022-02-01T22:03:25.647549Z",
     "start_time": "2022-02-01T22:03:25.627313Z"
    }
   },
   "outputs": [],
   "source": [
    "match_list_v2 = pd.DataFrame.from_dict(match_list_v2)\n",
    "missing_uni = match_list_v2.loc[match_list_v2.notfound==True, (\"query\")].tolist()"
   ]
  },
  {
   "cell_type": "code",
   "execution_count": 9,
   "metadata": {
    "ExecuteTime": {
     "end_time": "2022-02-01T22:03:34.234691Z",
     "start_time": "2022-02-01T22:03:25.648468Z"
    }
   },
   "outputs": [],
   "source": [
    "uniprot_mapping, _ = gct.query_uniprot(missing_uni, source_fmt=\"ACC+ID\", target_fmt=[\"GENENAME\", \"P_ENTREZGENEID\"],\n",
    "                                   output_fmt='tab', return_as_dict=False)\n",
    "\n",
    "final_mapping_v2 = match_list_v2.loc[~match_list_v2[\"query\"].isin(uniprot_mapping[\"query\"].tolist()), \n",
    "                                     (\"query\", \"symbol\",\"_score\", \"entrezgene\")]\n",
    "final_mapping_v2 = pd.concat([final_mapping_v2, uniprot_mapping])"
   ]
  },
  {
   "cell_type": "code",
   "execution_count": 10,
   "metadata": {
    "ExecuteTime": {
     "end_time": "2022-02-01T22:03:34.452132Z",
     "start_time": "2022-02-01T22:03:34.237695Z"
    }
   },
   "outputs": [],
   "source": [
    "check_names_v2 = final_mapping_v2.symbol.values\n",
    "mapped_v2, unmapped_v2 = gct.query_against_dataset(\"~/Data/Network_Analysis/Reference_Data/HGNC_download_2022.txt\",\n",
    "                              check_names_v2, return_as_dict=False)"
   ]
  },
  {
   "cell_type": "code",
   "execution_count": 11,
   "metadata": {
    "ExecuteTime": {
     "end_time": "2022-02-01T22:03:34.465790Z",
     "start_time": "2022-02-01T22:03:34.454173Z"
    }
   },
   "outputs": [],
   "source": [
    "final_mapping_v2 = final_mapping_v2.merge(mapped_v2,left_on=[\"symbol\"], right_on=[\"Query\"], how='outer', \n",
    "                                    suffixes=[\"\", \"-y\"]).loc[:, (\"query\", \"Approved symbol\", \"NCBI Gene ID\", \"_score\")]\n",
    "final_mapping_v2.columns = [\"query\", \"symbol\", \"entrezgene\", \"_score\"]"
   ]
  },
  {
   "cell_type": "code",
   "execution_count": 12,
   "metadata": {
    "ExecuteTime": {
     "end_time": "2022-02-01T22:03:34.594300Z",
     "start_time": "2022-02-01T22:03:34.466682Z"
    },
    "scrolled": true
   },
   "outputs": [
    {
     "name": "stdout",
     "output_type": "stream",
     "text": [
      "Number of genes with multiple matches: 288\n",
      "Number of unmatched genes: 812\n",
      "Number of fully matched genes: 17040\n",
      "Number of partially matched genes: 893\n"
     ]
    }
   ],
   "source": [
    "match_table_trim_v2, query_to_symbol_v2, query_to_entrez_v2 = gct.construct_query_map_table(final_mapping_v2, valid_genes_v2)"
   ]
  },
  {
   "cell_type": "markdown",
   "metadata": {},
   "source": [
    "## Construct Converted Network"
   ]
  },
  {
   "cell_type": "code",
   "execution_count": 13,
   "metadata": {
    "ExecuteTime": {
     "end_time": "2022-02-01T22:03:34.599549Z",
     "start_time": "2022-02-01T22:03:34.595173Z"
    }
   },
   "outputs": [],
   "source": [
    "edgelist_v2 = input_raw_v2.loc[:, ['Uniprot_A', 'Uniprot_B']]"
   ]
  },
  {
   "cell_type": "code",
   "execution_count": 14,
   "metadata": {
    "ExecuteTime": {
     "end_time": "2022-02-01T22:03:34.712462Z",
     "start_time": "2022-02-01T22:03:34.600507Z"
    }
   },
   "outputs": [],
   "source": [
    "# Convert edge list\n",
    "edgelist_symbol_v2 = gct.convert_edgelist(edgelist_v2, query_to_symbol_v2)"
   ]
  },
  {
   "cell_type": "markdown",
   "metadata": {
    "ExecuteTime": {
     "end_time": "2022-02-01T21:52:26.486245Z",
     "start_time": "2022-02-01T21:52:26.484065Z"
    }
   },
   "source": [
    "name_map = {'Uniprot_A':\"symbol_n1\", 'Uniprot_B': \"symbol_n2\"}\n",
    "edgelist_symbol_v2.rename(columns=name_map, inplace=True)"
   ]
  },
  {
   "cell_type": "code",
   "execution_count": 15,
   "metadata": {
    "ExecuteTime": {
     "end_time": "2022-02-01T22:03:34.859076Z",
     "start_time": "2022-02-01T22:03:34.713275Z"
    }
   },
   "outputs": [
    {
     "name": "stdout",
     "output_type": "stream",
     "text": [
      "315104 input edges\n",
      "6228 self-edges removed\n",
      "3580 edges with un-mapped genes removed\n",
      "18044 duplicate edges removed\n",
      "Edge list filtered: 0.14 seconds\n",
      "287252 Edges remaining\n"
     ]
    }
   ],
   "source": [
    "# Filter edge list\n",
    "edgelist_filt_v2 = gct.filter_converted_edgelist(edgelist_symbol_v2)"
   ]
  },
  {
   "cell_type": "code",
   "execution_count": 16,
   "metadata": {
    "ExecuteTime": {
     "end_time": "2022-02-01T22:03:35.133495Z",
     "start_time": "2022-02-01T22:03:34.859981Z"
    }
   },
   "outputs": [
    {
     "name": "stdout",
     "output_type": "stream",
     "text": [
      "Edge list saved: 0.27 seconds\n"
     ]
    }
   ],
   "source": [
    "# Save edge list\n",
    "gct.write_edgelist(edgelist_filt_v2, wd+'Processed_Data/Network_SIFs_Symbol/HINT_Symbol_2021.sif')"
   ]
  },
  {
   "cell_type": "markdown",
   "metadata": {},
   "source": [
    "# Version 1\n",
    "## Load HINT Raw Data\n",
    "**Source: http://hint.yulab.org/batch.html**  \n",
    "Downloaded: June 15, 2017  \n",
    "Last update not listed, but currently on version 4 (updated early 2017).  \n",
    "The two binary interactomes for High-Quality (HQ) and Co-Complex (CC) interactions were downloaded and merged into a single interactome for HINT.     \n",
    "Citation: Das J and Yu H. HINT: High-quality protein interactomes and their applications in understanding human disease. BMC Systems Biology, 2012 Jul 30;6(1):92.\n",
    "\n",
    "**Note on 2021 re-run: the number of matched genes has changed slightly due to updated/changed gene identifiers** \n"
   ]
  },
  {
   "cell_type": "code",
   "execution_count": 17,
   "metadata": {
    "ExecuteTime": {
     "end_time": "2022-02-01T22:03:35.346579Z",
     "start_time": "2022-02-01T22:03:35.134251Z"
    }
   },
   "outputs": [
    {
     "name": "stdout",
     "output_type": "stream",
     "text": [
      "Binary HQ: 59128\n",
      "Co-complex: 122571\n"
     ]
    }
   ],
   "source": [
    "input_raw_bi = pd.read_csv(wd+'Network_Data_Raw/HINT/HINT_v4_binary_HomoSapiens.txt',sep='\\t')\n",
    "input_raw_co = pd.read_csv(wd+'Network_Data_Raw/HINT/HINT_v4_complex_HomoSapiens.txt',sep='\\t')\n",
    "print(\"Binary HQ:\", len(input_raw_bi))\n",
    "print(\"Co-complex:\", len(input_raw_co))"
   ]
  },
  {
   "cell_type": "code",
   "execution_count": 18,
   "metadata": {
    "ExecuteTime": {
     "end_time": "2022-02-01T22:03:35.480683Z",
     "start_time": "2022-02-01T22:03:35.347603Z"
    },
    "scrolled": true
   },
   "outputs": [
    {
     "name": "stdout",
     "output_type": "stream",
     "text": [
      "Concatenated list of edges: (181699, 9)\n",
      "After duplicate edges removed: (181375, 9)\n"
     ]
    }
   ],
   "source": [
    "input_raw = pd.concat([input_raw_bi, input_raw_co])\n",
    "print('Concatenated list of edges:', input_raw.shape)\n",
    "input_raw = input_raw.drop_duplicates()\n",
    "print('After duplicate edges removed:', input_raw.shape)"
   ]
  },
  {
   "cell_type": "code",
   "execution_count": 19,
   "metadata": {
    "ExecuteTime": {
     "end_time": "2022-02-01T22:03:35.510559Z",
     "start_time": "2022-02-01T22:03:35.481622Z"
    },
    "scrolled": true
   },
   "outputs": [],
   "source": [
    "# Use UniProtID labels to annotate interactions\n",
    "genes = set(input_raw['Uniprot_A']).union(set(input_raw['Uniprot_B']))"
   ]
  },
  {
   "cell_type": "markdown",
   "metadata": {},
   "source": [
    "## Convert Genes from UniProt Accession ID to gene symbols"
   ]
  },
  {
   "cell_type": "code",
   "execution_count": 20,
   "metadata": {
    "ExecuteTime": {
     "end_time": "2022-02-01T22:03:35.562430Z",
     "start_time": "2022-02-01T22:03:35.511584Z"
    }
   },
   "outputs": [
    {
     "name": "stdout",
     "output_type": "stream",
     "text": [
      "15784 Valid Query Genes\n",
      "0 Invalid Query Genes\n"
     ]
    }
   ],
   "source": [
    "query_string, valid_genes, invalid_genes = gct.query_constructor(genes)"
   ]
  },
  {
   "cell_type": "code",
   "execution_count": 21,
   "metadata": {
    "ExecuteTime": {
     "end_time": "2022-02-01T22:03:47.919470Z",
     "start_time": "2022-02-01T22:03:35.563203Z"
    }
   },
   "outputs": [
    {
     "name": "stderr",
     "output_type": "stream",
     "text": [
      "100%|██████████| 16/16 [00:12<00:00,  1.30it/s]"
     ]
    },
    {
     "name": "stdout",
     "output_type": "stream",
     "text": [
      "15974 Matched query results\n",
      "Batch query complete: 12.34 seconds\n",
      "15974 Matched query results\n"
     ]
    },
    {
     "name": "stderr",
     "output_type": "stream",
     "text": [
      "\n"
     ]
    }
   ],
   "source": [
    "# Set scopes (gene naming systems to search)\n",
    "scopes = \"uniprot\"\n",
    "\n",
    "# Set fields (systems from which to return gene names from)\n",
    "fields = \"symbol, entrezgene\"\n",
    "\n",
    "# Query MyGene.Info\n",
    "match_list = gct.query_batch(query_string, scopes=scopes, fields=fields)\n",
    "print(len(match_list), 'Matched query results')"
   ]
  },
  {
   "cell_type": "code",
   "execution_count": 22,
   "metadata": {
    "ExecuteTime": {
     "end_time": "2022-02-01T22:03:47.935821Z",
     "start_time": "2022-02-01T22:03:47.920348Z"
    }
   },
   "outputs": [],
   "source": [
    "match_list = pd.DataFrame.from_dict(match_list)\n",
    "missing_uni = match_list.loc[match_list.notfound==True, (\"query\")].tolist()"
   ]
  },
  {
   "cell_type": "code",
   "execution_count": 23,
   "metadata": {
    "ExecuteTime": {
     "end_time": "2022-02-01T22:03:53.627024Z",
     "start_time": "2022-02-01T22:03:47.936728Z"
    }
   },
   "outputs": [],
   "source": [
    "uniprot_mapping, _ = gct.query_uniprot(missing_uni, source_fmt=\"ACC+ID\", target_fmt=[\"GENENAME\", \"P_ENTREZGENEID\"],\n",
    "                                   output_fmt='tab', return_as_dict=False)\n",
    "\n",
    "final_mapping = match_list.loc[~match_list[\"query\"].isin(uniprot_mapping[\"query\"].tolist()), \n",
    "                                     (\"query\", \"symbol\",\"_score\", \"entrezgene\")]\n",
    "final_mapping = pd.concat([final_mapping, uniprot_mapping])"
   ]
  },
  {
   "cell_type": "code",
   "execution_count": 24,
   "metadata": {
    "ExecuteTime": {
     "end_time": "2022-02-01T22:03:53.880815Z",
     "start_time": "2022-02-01T22:03:53.627906Z"
    }
   },
   "outputs": [],
   "source": [
    "check_names = final_mapping.symbol.values\n",
    "mapped, unmapped = gct.query_against_dataset(\"~/Data/Network_Analysis/Reference_Data/HGNC_download_2022.txt\",\n",
    "                              check_names, return_as_dict=False)"
   ]
  },
  {
   "cell_type": "code",
   "execution_count": 25,
   "metadata": {
    "ExecuteTime": {
     "end_time": "2022-02-01T22:03:53.892158Z",
     "start_time": "2022-02-01T22:03:53.881827Z"
    }
   },
   "outputs": [],
   "source": [
    "final_mapping = final_mapping.merge(mapped,left_on=[\"symbol\"], right_on=[\"Query\"], how='outer', \n",
    "                                    suffixes=[\"\", \"-y\"]).loc[:, (\"query\", \"Approved symbol\", \"NCBI Gene ID\", \"_score\")]\n",
    "final_mapping.columns = [\"query\", \"symbol\", \"entrezgene\", \"_score\"]"
   ]
  },
  {
   "cell_type": "code",
   "execution_count": 26,
   "metadata": {
    "ExecuteTime": {
     "end_time": "2022-02-01T22:03:54.004844Z",
     "start_time": "2022-02-01T22:03:53.893255Z"
    },
    "scrolled": true
   },
   "outputs": [
    {
     "name": "stdout",
     "output_type": "stream",
     "text": [
      "Number of genes with multiple matches: 254\n",
      "Number of unmatched genes: 451\n",
      "Number of fully matched genes: 15258\n",
      "Number of partially matched genes: 526\n"
     ]
    }
   ],
   "source": [
    "match_table_trim, query_to_symbol, query_to_entrez = gct.construct_query_map_table(final_mapping, valid_genes)"
   ]
  },
  {
   "cell_type": "markdown",
   "metadata": {},
   "source": [
    "## Construct Converted Network"
   ]
  },
  {
   "cell_type": "code",
   "execution_count": 27,
   "metadata": {
    "ExecuteTime": {
     "end_time": "2022-02-01T22:03:54.009723Z",
     "start_time": "2022-02-01T22:03:54.005612Z"
    }
   },
   "outputs": [],
   "source": [
    "edgelist = input_raw.loc[:, ['Uniprot_A', 'Uniprot_B']]"
   ]
  },
  {
   "cell_type": "code",
   "execution_count": 28,
   "metadata": {
    "ExecuteTime": {
     "end_time": "2022-02-01T22:03:54.082732Z",
     "start_time": "2022-02-01T22:03:54.013797Z"
    }
   },
   "outputs": [],
   "source": [
    "# Convert edge list\n",
    "edgelist_symbol = gct.convert_edgelist(edgelist, query_to_symbol)"
   ]
  },
  {
   "cell_type": "markdown",
   "metadata": {
    "ExecuteTime": {
     "end_time": "2022-02-01T21:58:27.859176Z",
     "start_time": "2022-02-01T21:58:27.857078Z"
    }
   },
   "source": [
    "name_map = {'Uniprot_A':\"symbol_n1\", 'Uniprot_B': \"symbol_n2\"}\n",
    "edgelist_symbol.rename(columns=name_map, inplace=True)"
   ]
  },
  {
   "cell_type": "code",
   "execution_count": 29,
   "metadata": {
    "ExecuteTime": {
     "end_time": "2022-02-01T22:03:54.168932Z",
     "start_time": "2022-02-01T22:03:54.083636Z"
    }
   },
   "outputs": [
    {
     "name": "stdout",
     "output_type": "stream",
     "text": [
      "181375 input edges\n",
      "4610 self-edges removed\n",
      "1766 edges with un-mapped genes removed\n",
      "18724 duplicate edges removed\n",
      "Edge list filtered: 0.08 seconds\n",
      "156275 Edges remaining\n"
     ]
    }
   ],
   "source": [
    "# Filter edge list\n",
    "edgelist_filt = gct.filter_converted_edgelist(edgelist_symbol)"
   ]
  },
  {
   "cell_type": "code",
   "execution_count": 30,
   "metadata": {
    "ExecuteTime": {
     "end_time": "2022-02-01T22:03:54.368065Z",
     "start_time": "2022-02-01T22:03:54.169819Z"
    }
   },
   "outputs": [
    {
     "name": "stdout",
     "output_type": "stream",
     "text": [
      "Edge list saved: 0.15 seconds\n"
     ]
    }
   ],
   "source": [
    "# Save edge list\n",
    "gct.write_edgelist(edgelist_filt, wd+'Processed_Data/Network_SIFs_Symbol/HINT_Symbol_v4_2017.sif')"
   ]
  },
  {
   "cell_type": "markdown",
   "metadata": {},
   "source": [
    "# Changes"
   ]
  },
  {
   "cell_type": "code",
   "execution_count": 31,
   "metadata": {
    "ExecuteTime": {
     "end_time": "2022-02-01T22:03:55.010098Z",
     "start_time": "2022-02-01T22:03:54.368991Z"
    }
   },
   "outputs": [
    {
     "name": "stdout",
     "output_type": "stream",
     "text": [
      "No human filtering done\n"
     ]
    },
    {
     "data": {
      "image/png": "[encoded data removed]",
      "text/plain": [
       "<Figure size 1080x360 with 2 Axes>"
      ]
     },
     "metadata": {
      "needs_background": "light"
     },
     "output_type": "display_data"
    }
   ],
   "source": [
    "dit.plot_changes_to_dataset(input_raw, input_raw_v2, edgelist_filt, edgelist_filt_v2)"
   ]
  },
  {
   "cell_type": "code",
   "execution_count": 32,
   "metadata": {
    "ExecuteTime": {
     "end_time": "2022-02-01T22:03:55.203855Z",
     "start_time": "2022-02-01T22:03:55.010846Z"
    }
   },
   "outputs": [
    {
     "data": {
      "text/plain": [
       "<AxesSubplot:>"
      ]
     },
     "execution_count": 32,
     "metadata": {},
     "output_type": "execute_result"
    },
    {
     "data": {
      "image/png": "[encoded data removed]",
      "text/plain": [
       "<Figure size 432x288 with 1 Axes>"
      ]
     },
     "metadata": {
      "needs_background": "light"
     },
     "output_type": "display_data"
    }
   ],
   "source": [
    "source_stats = pd.DataFrame({\"v1\": [len(input_raw_bi), len(input_raw_co)], \"v2\":[len(input_raw_bi_v2), len(input_raw_co_v2)]},\n",
    "                           index = [\"Binary\", \"Co-Complex\"])\n",
    "source_stats.plot.bar()"
   ]
  }
 ],
 "metadata": {
  "kernelspec": {
   "display_name": "Python [conda env:pcnet_py3]",
   "language": "python",
   "name": "conda-env-pcnet_py3-py"
  },
  "language_info": {
   "codemirror_mode": {
    "name": "ipython",
    "version": 3
   },
   "file_extension": ".py",
   "mimetype": "text/x-python",
   "name": "python",
   "nbconvert_exporter": "python",
   "pygments_lexer": "ipython3",
   "version": "3.10.0"
  },
  "toc": {
   "base_numbering": 1,
   "nav_menu": {},
   "number_sections": true,
   "sideBar": true,
   "skip_h1_title": false,
   "title_cell": "Table of Contents",
   "title_sidebar": "Contents",
   "toc_cell": false,
   "toc_position": {
    "height": "calc(100% - 180px)",
    "left": "10px",
    "top": "150px",
    "width": "341.458px"
   },
   "toc_section_display": true,
   "toc_window_display": true
  },
  "varInspector": {
   "cols": {
    "lenName": 16,
    "lenType": 16,
    "lenVar": 40
   },
   "kernels_config": {
    "python": {
     "delete_cmd_postfix": "",
     "delete_cmd_prefix": "del ",
     "library": "var_list.py",
     "varRefreshCmd": "print(var_dic_list())"
    },
    "r": {
     "delete_cmd_postfix": ") ",
     "delete_cmd_prefix": "rm(",
     "library": "var_list.r",
     "varRefreshCmd": "cat(var_dic_list()) "
    }
   },
   "types_to_exclude": [
    "module",
    "function",
    "builtin_function_or_method",
    "instance",
    "_Feature"
   ],
   "window_display": false
  }
 },
 "nbformat": 4,
 "nbformat_minor": 1
}
