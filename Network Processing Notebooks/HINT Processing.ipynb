{
 "cells": [
  {
   "cell_type": "code",
   "execution_count": 31,
   "metadata": {
    "ExecuteTime": {
     "end_time": "2021-11-19T16:59:04.980422Z",
     "start_time": "2021-11-19T16:59:03.881158Z"
    }
   },
   "outputs": [],
   "source": [
    "from network_evaluation_tools import gene_conversion_tools as gct\n",
    "from network_evaluation_tools import data_import_tools as dit\n",
    "import pandas as pd\n",
    "import numpy as np\n",
    "import matplotlib.pyplot as plt"
   ]
  },
  {
   "cell_type": "code",
   "execution_count": 2,
   "metadata": {
    "ExecuteTime": {
     "end_time": "2021-11-19T16:45:10.644630Z",
     "start_time": "2021-11-19T16:45:10.641795Z"
    }
   },
   "outputs": [],
   "source": [
    "wd = '/cellar/users/snwright/Data/Network_Analysis/'"
   ]
  },
  {
   "cell_type": "markdown",
   "metadata": {},
   "source": [
    "# Version 2\n",
    "## Load HINT Raw Data\n",
    "#### Source: http://hint.yulab.org/download/HomoSapiens/binary/hq/ ; http://hint.yulab.org/download/HomoSapiens/cocomp/hq/\n",
    "Downloaded: November 16, 2021\n",
    "Last updated: August 2021. \n",
    "The two binary interactomes for High-Quality (HQ) and Co-Complex (CC) interactions were downloaded and merged into a single interactome for HINT.     \n",
    "Citation: Das J and Yu H. HINT: High-quality protein interactomes and their applications in understanding human disease. BMC Systems Biology, 2012 Jul 30;6(1):92."
   ]
  },
  {
   "cell_type": "code",
   "execution_count": 28,
   "metadata": {
    "ExecuteTime": {
     "end_time": "2021-11-19T16:55:48.583069Z",
     "start_time": "2021-11-19T16:55:48.218150Z"
    }
   },
   "outputs": [
    {
     "name": "stdout",
     "output_type": "stream",
     "text": [
      "Binary HQ: 126960\n",
      "Co-complex: 188605\n"
     ]
    }
   ],
   "source": [
    "HINT_Bin_Raw_v2 = pd.read_csv(wd+'Network_Data_Raw/HINT/HomoSapiens_binary_hq.txt',sep='\\t')\n",
    "HINT_Com_Raw_v2 = pd.read_csv(wd+'Network_Data_Raw/HINT/HomoSapiens_cocomp_hq.txt',sep='\\t')\n",
    "print(\"Binary HQ:\", len(HINT_Bin_Raw_v2))\n",
    "print(\"Co-complex:\", len(HINT_Com_Raw_v2))"
   ]
  },
  {
   "cell_type": "code",
   "execution_count": 18,
   "metadata": {
    "ExecuteTime": {
     "end_time": "2021-11-19T16:51:24.186363Z",
     "start_time": "2021-11-19T16:51:23.959232Z"
    },
    "scrolled": true
   },
   "outputs": [
    {
     "name": "stdout",
     "output_type": "stream",
     "text": [
      "Concatenated list of edges: (315565, 9)\n",
      "After duplicate edges removed: (315104, 9)\n"
     ]
    }
   ],
   "source": [
    "HINT_Raw_v2 = pd.concat([HINT_Bin_Raw_v2, HINT_Com_Raw_v2])\n",
    "print('Concatenated list of edges:', HINT_Raw_v2.shape)\n",
    "HINT_Raw_v2 = HINT_Raw_v2.drop_duplicates()\n",
    "print('After duplicate edges removed:', HINT_Raw_v2.shape)"
   ]
  },
  {
   "cell_type": "code",
   "execution_count": 19,
   "metadata": {
    "ExecuteTime": {
     "end_time": "2021-11-19T16:51:37.856164Z",
     "start_time": "2021-11-19T16:51:37.808830Z"
    },
    "scrolled": true
   },
   "outputs": [],
   "source": [
    "# Use UniProtID labels to annotate interactions\n",
    "HPRD_Raw_Genes_Uniprot_v2 = set(HINT_Raw_v2['Uniprot_A']).union(set(HINT_Raw_v2['Uniprot_B']))"
   ]
  },
  {
   "cell_type": "markdown",
   "metadata": {},
   "source": [
    "## Convert Genes from UniProt Accession ID to gene symbols"
   ]
  },
  {
   "cell_type": "code",
   "execution_count": 20,
   "metadata": {
    "ExecuteTime": {
     "end_time": "2021-11-19T16:52:13.560988Z",
     "start_time": "2021-11-19T16:52:13.528040Z"
    }
   },
   "outputs": [
    {
     "name": "stdout",
     "output_type": "stream",
     "text": [
      "17933 Valid Query Genes\n",
      "0 Invalid Query Genes\n"
     ]
    }
   ],
   "source": [
    "query_string_v2, valid_genes_v2, invalid_genes_v2 = gct.query_constructor(HPRD_Raw_Genes_Uniprot_v2)"
   ]
  },
  {
   "cell_type": "code",
   "execution_count": 21,
   "metadata": {
    "ExecuteTime": {
     "end_time": "2021-11-19T16:52:36.335870Z",
     "start_time": "2021-11-19T16:52:23.977146Z"
    }
   },
   "outputs": [
    {
     "name": "stderr",
     "output_type": "stream",
     "text": [
      "100%|██████████| 18/18 [00:12<00:00,  1.46it/s]"
     ]
    },
    {
     "name": "stdout",
     "output_type": "stream",
     "text": [
      "18212 Matched query results\n",
      "Batch query complete: 12.36 seconds\n",
      "18212 Matched query results\n"
     ]
    },
    {
     "name": "stderr",
     "output_type": "stream",
     "text": [
      "\n"
     ]
    }
   ],
   "source": [
    "# Set scopes (gene naming systems to search)\n",
    "scopes = \"uniprot\"\n",
    "\n",
    "# Set fields (systems from which to return gene names from)\n",
    "fields = \"symbol, entrezgene\"\n",
    "\n",
    "# Query MyGene.Info\n",
    "match_list_v2 = gct.query_batch(query_string_v2, scopes=scopes, fields=fields)\n",
    "print(len(match_list_v2), 'Matched query results')"
   ]
  },
  {
   "cell_type": "code",
   "execution_count": 22,
   "metadata": {
    "ExecuteTime": {
     "end_time": "2021-11-19T16:52:57.528680Z",
     "start_time": "2021-11-19T16:52:49.249941Z"
    },
    "scrolled": true
   },
   "outputs": [
    {
     "name": "stdout",
     "output_type": "stream",
     "text": [
      "Queries without full matching results found: 1110\n",
      "\n",
      "198 Queries with mutliple matches found\n",
      "\n",
      "Query mapping table/dictionary construction complete: 8.27 seconds\n"
     ]
    }
   ],
   "source": [
    "match_table_trim_v2, query_to_symbol_v2, query_to_entrez_v2 = gct.construct_query_map_table(match_list_v2, valid_genes_v2)"
   ]
  },
  {
   "cell_type": "markdown",
   "metadata": {},
   "source": [
    "## Construct Converted Network"
   ]
  },
  {
   "cell_type": "code",
   "execution_count": 23,
   "metadata": {
    "ExecuteTime": {
     "end_time": "2021-11-19T16:53:53.261308Z",
     "start_time": "2021-11-19T16:53:53.057177Z"
    }
   },
   "outputs": [],
   "source": [
    "HINT_edgelist_v2 = HINT_Raw_v2[['Uniprot_A', 'Uniprot_B']].values.tolist()"
   ]
  },
  {
   "cell_type": "code",
   "execution_count": 24,
   "metadata": {
    "ExecuteTime": {
     "end_time": "2021-11-19T16:54:02.297428Z",
     "start_time": "2021-11-19T16:54:02.191206Z"
    }
   },
   "outputs": [],
   "source": [
    "# Convert edge list\n",
    "HINT_edgelist_symbol_v2 = gct.convert_edgelist(HINT_edgelist_v2, query_to_symbol_v2, weighted=False)"
   ]
  },
  {
   "cell_type": "code",
   "execution_count": 25,
   "metadata": {
    "ExecuteTime": {
     "end_time": "2021-11-19T16:54:09.175792Z",
     "start_time": "2021-11-19T16:54:09.064518Z"
    }
   },
   "outputs": [
    {
     "name": "stdout",
     "output_type": "stream",
     "text": [
      "315104 input edges\n",
      "6193 self-edges removed\n",
      "5809 edges with un-mapped genes removed\n",
      "16661 duplicate edges removed\n",
      "Edge list filtered: 0.11 seconds\n",
      "286441 Edges remaining\n"
     ]
    }
   ],
   "source": [
    "# Filter edge list\n",
    "HINT_edgelist_symbol_filt_v2 = gct.filter_converted_edgelist(HINT_edgelist_symbol_v2)"
   ]
  },
  {
   "cell_type": "code",
   "execution_count": 26,
   "metadata": {
    "ExecuteTime": {
     "end_time": "2021-11-19T16:54:22.956128Z",
     "start_time": "2021-11-19T16:54:22.689914Z"
    }
   },
   "outputs": [
    {
     "name": "stdout",
     "output_type": "stream",
     "text": [
      "Edge list saved: 0.26 seconds\n"
     ]
    }
   ],
   "source": [
    "# Save edge list\n",
    "gct.write_edgelist(HINT_edgelist_symbol_filt_v2, wd+'Processed_Data/Network_SIFs_Symbol/HINT_Symbol_2021.sif')"
   ]
  },
  {
   "cell_type": "markdown",
   "metadata": {},
   "source": [
    "# Version 1\n",
    "## Load HINT Raw Data\n",
    "#### Source: http://hint.yulab.org/batch.html\n",
    "Downloaded: June 15, 2017  \n",
    "Last update not listed, but currently on version 4 (updated early 2017). The two binary interactomes for High-Quality (HQ) and Co-Complex (CC) interactions were downloaded and merged into a single interactome for HINT.     \n",
    "Citation: Das J and Yu H. HINT: High-quality protein interactomes and their applications in understanding human disease. BMC Systems Biology, 2012 Jul 30;6(1):92.\n",
    "\n",
    "#### Note on 2021 re-run: the number of matched genes has changed slightly due to updated/changed gene identifiers\n"
   ]
  },
  {
   "cell_type": "code",
   "execution_count": 29,
   "metadata": {
    "ExecuteTime": {
     "end_time": "2021-11-19T16:56:02.577709Z",
     "start_time": "2021-11-19T16:56:02.359384Z"
    }
   },
   "outputs": [
    {
     "name": "stdout",
     "output_type": "stream",
     "text": [
      "Binary HQ: 59128\n",
      "Co-complex: 122571\n"
     ]
    }
   ],
   "source": [
    "HINT_Bin_Raw = pd.read_csv(wd+'Network_Data_Raw/HINT/HINT_v4_binary_HomoSapiens.txt',sep='\\t')\n",
    "HINT_Com_Raw = pd.read_csv(wd+'Network_Data_Raw/HINT/HINT_v4_complex_HomoSapiens.txt',sep='\\t')\n",
    "print(\"Binary HQ:\", len(HINT_Bin_Raw))\n",
    "print(\"Co-complex:\", len(HINT_Com_Raw))"
   ]
  },
  {
   "cell_type": "code",
   "execution_count": 5,
   "metadata": {
    "ExecuteTime": {
     "end_time": "2021-11-19T16:47:02.645472Z",
     "start_time": "2021-11-19T16:47:02.480060Z"
    },
    "scrolled": true
   },
   "outputs": [
    {
     "name": "stdout",
     "output_type": "stream",
     "text": [
      "Concatenated list of edges: (181699, 9)\n",
      "After duplicate edges removed: (181375, 9)\n"
     ]
    }
   ],
   "source": [
    "HINT_Raw = pd.concat([HINT_Bin_Raw, HINT_Com_Raw])\n",
    "print('Concatenated list of edges:', HINT_Raw.shape)\n",
    "HINT_Raw = HINT_Raw.drop_duplicates()\n",
    "print('After duplicate edges removed:', HINT_Raw.shape)"
   ]
  },
  {
   "cell_type": "code",
   "execution_count": 6,
   "metadata": {
    "ExecuteTime": {
     "end_time": "2021-11-19T16:47:04.843398Z",
     "start_time": "2021-11-19T16:47:04.814359Z"
    },
    "scrolled": true
   },
   "outputs": [],
   "source": [
    "# Use UniProtID labels to annotate interactions\n",
    "HPRD_Raw_Genes_Uniprot = set(HINT_Raw['Uniprot_A']).union(set(HINT_Raw['Uniprot_B']))"
   ]
  },
  {
   "cell_type": "markdown",
   "metadata": {},
   "source": [
    "## Convert Genes from UniProt Accession ID to gene symbols"
   ]
  },
  {
   "cell_type": "code",
   "execution_count": 7,
   "metadata": {
    "ExecuteTime": {
     "end_time": "2021-11-19T16:47:08.197521Z",
     "start_time": "2021-11-19T16:47:08.167768Z"
    }
   },
   "outputs": [
    {
     "name": "stdout",
     "output_type": "stream",
     "text": [
      "15784 Valid Query Genes\n",
      "0 Invalid Query Genes\n"
     ]
    }
   ],
   "source": [
    "query_string, valid_genes, invalid_genes = gct.query_constructor(HPRD_Raw_Genes_Uniprot)"
   ]
  },
  {
   "cell_type": "code",
   "execution_count": 9,
   "metadata": {
    "ExecuteTime": {
     "end_time": "2021-11-19T16:47:34.225581Z",
     "start_time": "2021-11-19T16:47:22.655315Z"
    }
   },
   "outputs": [
    {
     "name": "stderr",
     "output_type": "stream",
     "text": [
      "100%|██████████| 16/16 [00:11<00:00,  1.39it/s]"
     ]
    },
    {
     "name": "stdout",
     "output_type": "stream",
     "text": [
      "15974 Matched query results\n",
      "Batch query complete: 11.57 seconds\n",
      "15974 Matched query results\n"
     ]
    },
    {
     "name": "stderr",
     "output_type": "stream",
     "text": [
      "\n"
     ]
    }
   ],
   "source": [
    "# Set scopes (gene naming systems to search)\n",
    "scopes = \"uniprot\"\n",
    "\n",
    "# Set fields (systems from which to return gene names from)\n",
    "fields = \"symbol, entrezgene\"\n",
    "\n",
    "# Query MyGene.Info\n",
    "match_list = gct.query_batch(query_string, scopes=scopes, fields=fields)\n",
    "print(len(match_list), 'Matched query results')"
   ]
  },
  {
   "cell_type": "code",
   "execution_count": 10,
   "metadata": {
    "ExecuteTime": {
     "end_time": "2021-11-19T16:48:06.717324Z",
     "start_time": "2021-11-19T16:48:00.301321Z"
    },
    "scrolled": true
   },
   "outputs": [
    {
     "name": "stdout",
     "output_type": "stream",
     "text": [
      "Queries without full matching results found: 732\n",
      "\n",
      "144 Queries with mutliple matches found\n",
      "\n",
      "Query mapping table/dictionary construction complete: 6.41 seconds\n"
     ]
    }
   ],
   "source": [
    "match_table_trim, query_to_symbol, query_to_entrez = gct.construct_query_map_table(match_list, valid_genes)"
   ]
  },
  {
   "cell_type": "markdown",
   "metadata": {},
   "source": [
    "## Construct Converted Network"
   ]
  },
  {
   "cell_type": "code",
   "execution_count": 11,
   "metadata": {
    "ExecuteTime": {
     "end_time": "2021-11-19T16:49:12.455023Z",
     "start_time": "2021-11-19T16:49:12.351502Z"
    }
   },
   "outputs": [],
   "source": [
    "HINT_edgelist = HINT_Raw[['Uniprot_A', 'Uniprot_B']].values.tolist()"
   ]
  },
  {
   "cell_type": "code",
   "execution_count": 12,
   "metadata": {
    "ExecuteTime": {
     "end_time": "2021-11-19T16:49:14.572021Z",
     "start_time": "2021-11-19T16:49:14.503046Z"
    }
   },
   "outputs": [],
   "source": [
    "# Convert edge list\n",
    "HINT_edgelist_symbol = gct.convert_edgelist(HINT_edgelist, query_to_symbol, weighted=False)"
   ]
  },
  {
   "cell_type": "code",
   "execution_count": 13,
   "metadata": {
    "ExecuteTime": {
     "end_time": "2021-11-19T16:49:21.035797Z",
     "start_time": "2021-11-19T16:49:20.968536Z"
    }
   },
   "outputs": [
    {
     "name": "stdout",
     "output_type": "stream",
     "text": [
      "181375 input edges\n",
      "4568 self-edges removed\n",
      "4313 edges with un-mapped genes removed\n",
      "13822 duplicate edges removed\n",
      "Edge list filtered: 0.06 seconds\n",
      "158672 Edges remaining\n"
     ]
    }
   ],
   "source": [
    "# Filter edge list\n",
    "HINT_edgelist_symbol_filt = gct.filter_converted_edgelist(HINT_edgelist_symbol)"
   ]
  },
  {
   "cell_type": "code",
   "execution_count": 15,
   "metadata": {
    "ExecuteTime": {
     "end_time": "2021-11-19T16:49:41.471764Z",
     "start_time": "2021-11-19T16:49:41.318886Z"
    }
   },
   "outputs": [
    {
     "name": "stdout",
     "output_type": "stream",
     "text": [
      "Edge list saved: 0.15 seconds\n"
     ]
    }
   ],
   "source": [
    "# Save edge list\n",
    "gct.write_edgelist(HINT_edgelist_symbol_filt, wd+'Processed_Data/Network_SIFs_Symbol/HINT_Symbol_v4_2017.sif')"
   ]
  },
  {
   "cell_type": "markdown",
   "metadata": {},
   "source": [
    "# Changes"
   ]
  },
  {
   "cell_type": "code",
   "execution_count": 30,
   "metadata": {
    "ExecuteTime": {
     "end_time": "2021-11-19T16:58:13.138519Z",
     "start_time": "2021-11-19T16:58:13.136024Z"
    }
   },
   "outputs": [],
   "source": [
    "\n",
    "stats = pd.DataFrame({\"v1\":[59128, 122571, 181375, 158672], \n",
    "                           \"v2\":[126960, 188605, 315104, 286441]},\n",
    "                           index=[\"Binary input\", \"Co-complex input\", \"Combined\", \"Filtered\"])"
   ]
  },
  {
   "cell_type": "code",
   "execution_count": 32,
   "metadata": {
    "ExecuteTime": {
     "end_time": "2021-11-19T16:59:14.945705Z",
     "start_time": "2021-11-19T16:59:14.921085Z"
    }
   },
   "outputs": [],
   "source": [
    "nodes_v1 = set(HINT_edgelist_symbol_filt[\"symbol_n1\"].values).union(set(HINT_edgelist_symbol_filt[\"symbol_n2\"].values))\n",
    "nodes_v2 = set(HINT_edgelist_symbol_filt_v2[\"symbol_n1\"].values).union(set(HINT_edgelist_symbol_filt_v2[\"symbol_n2\"].values))"
   ]
  },
  {
   "cell_type": "code",
   "execution_count": 33,
   "metadata": {
    "ExecuteTime": {
     "end_time": "2021-11-19T16:59:16.647925Z",
     "start_time": "2021-11-19T16:59:15.848140Z"
    }
   },
   "outputs": [
    {
     "data": {
      "text/plain": [
       "Text(0, 0.5, 'Number of nodes')"
      ]
     },
     "execution_count": 33,
     "metadata": {},
     "output_type": "execute_result"
    },
    {
     "data": {
      "image/png": "[encoded data removed]",
      "text/plain": [
       "<Figure size 432x288 with 1 Axes>"
      ]
     },
     "metadata": {
      "needs_background": "light"
     },
     "output_type": "display_data"
    },
    {
     "data": {
      "image/png": "[encoded data removed]",
      "text/plain": [
       "<Figure size 432x288 with 1 Axes>"
      ]
     },
     "metadata": {
      "needs_background": "light"
     },
     "output_type": "display_data"
    }
   ],
   "source": [
    "stats.plot.bar(ylabel=\"Number of edges\")\n",
    "plt.figure()\n",
    "plt.bar([\"v1\", \"v2\", \"total difference\", \"new V2\", \"removed V2\"], [len(nodes_v1), len(nodes_v2), len(nodes_v2)-len(nodes_v1),\n",
    "                                                           len(nodes_v2.difference(nodes_v1)), len(nodes_v1.difference(nodes_v2))])\n",
    "plt.ylabel(\"Number of nodes\")"
   ]
  }
 ],
 "metadata": {
  "kernelspec": {
   "display_name": "Python [conda env:pcnet_py3]",
   "language": "python",
   "name": "conda-env-pcnet_py3-py"
  },
  "language_info": {
   "codemirror_mode": {
    "name": "ipython",
    "version": 3
   },
   "file_extension": ".py",
   "mimetype": "text/x-python",
   "name": "python",
   "nbconvert_exporter": "python",
   "pygments_lexer": "ipython3",
   "version": "3.10.0"
  },
  "toc": {
   "base_numbering": 1,
   "nav_menu": {},
   "number_sections": true,
   "sideBar": true,
   "skip_h1_title": false,
   "title_cell": "Table of Contents",
   "title_sidebar": "Contents",
   "toc_cell": false,
   "toc_position": {},
   "toc_section_display": true,
   "toc_window_display": false
  },
  "varInspector": {
   "cols": {
    "lenName": 16,
    "lenType": 16,
    "lenVar": 40
   },
   "kernels_config": {
    "python": {
     "delete_cmd_postfix": "",
     "delete_cmd_prefix": "del ",
     "library": "var_list.py",
     "varRefreshCmd": "print(var_dic_list())"
    },
    "r": {
     "delete_cmd_postfix": ") ",
     "delete_cmd_prefix": "rm(",
     "library": "var_list.r",
     "varRefreshCmd": "cat(var_dic_list()) "
    }
   },
   "types_to_exclude": [
    "module",
    "function",
    "builtin_function_or_method",
    "instance",
    "_Feature"
   ],
   "window_display": false
  }
 },
 "nbformat": 4,
 "nbformat_minor": 1
}
