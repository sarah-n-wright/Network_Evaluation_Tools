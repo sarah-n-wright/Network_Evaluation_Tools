{
 "cells": [
  {
   "cell_type": "code",
   "execution_count": 49,
   "metadata": {
    "ExecuteTime": {
     "end_time": "2021-12-22T18:54:35.987089Z",
     "start_time": "2021-12-22T18:54:35.985123Z"
    }
   },
   "outputs": [],
   "source": [
    "from network_evaluation_tools import gene_conversion_tools as gct\n",
    "from network_evaluation_tools import data_import_tools as dit\n",
    "import pandas as pd\n",
    "import time\n",
    "import matplotlib.pyplot as plt"
   ]
  },
  {
   "cell_type": "code",
   "execution_count": 4,
   "metadata": {
    "ExecuteTime": {
     "end_time": "2021-12-22T18:26:16.675932Z",
     "start_time": "2021-12-22T18:26:16.672991Z"
    }
   },
   "outputs": [],
   "source": [
    "wd = '/cellar/users/snwright/Data/Network_Analysis/'"
   ]
  },
  {
   "cell_type": "markdown",
   "metadata": {},
   "source": [
    "# Version 2.0\n",
    "## Load IntAct Raw Data\n",
    "#### Source (PSI-MITAB): ftp://ftp.ebi.ac.uk/pub/databases/intact/current/psimitab/intact.txt\n",
    "Downloaded: Dec 8, 2021   \n",
    "Last Updated: Updated monthly  \n",
    "Notes for processing: All interactions listed here need to be filtered for human-human interactions. Given the size of the file, we will filter the interactions and save the human-only interactions to a separate file to be loaded to save memory."
   ]
  },
  {
   "cell_type": "code",
   "execution_count": 13,
   "metadata": {
    "ExecuteTime": {
     "end_time": "2021-12-22T18:30:39.447740Z",
     "start_time": "2021-12-22T18:30:39.445891Z"
    }
   },
   "outputs": [
    {
     "name": "stdout",
     "output_type": "stream",
     "text": [
      "Raw edge count in IntAct: 1155104\n"
     ]
    }
   ],
   "source": [
    "IntAct_Raw_v2 = pd.read_csv(wd+'Network_Data_Raw/IntAct/2021-12-00_intact.txt.gz', sep='\\t')\n",
    "print('Raw edge count in IntAct_v2:', len(IntAct_Raw_v2))"
   ]
  },
  {
   "cell_type": "markdown",
   "metadata": {},
   "source": [
    "## Custom Processing of Raw DIP Data"
   ]
  },
  {
   "cell_type": "code",
   "execution_count": 18,
   "metadata": {
    "ExecuteTime": {
     "end_time": "2021-12-22T18:32:05.444013Z",
     "start_time": "2021-12-22T18:32:05.440257Z"
    }
   },
   "outputs": [
    {
     "data": {
      "text/plain": [
       "Index(['#ID(s) interactor A', 'ID(s) interactor B', 'Alt. ID(s) interactor A',\n",
       "       'Alt. ID(s) interactor B', 'Alias(es) interactor A',\n",
       "       'Alias(es) interactor B', 'Interaction detection method(s)',\n",
       "       'Publication 1st author(s)', 'Publication Identifier(s)',\n",
       "       'Taxid interactor A', 'Taxid interactor B', 'Interaction type(s)',\n",
       "       'Source database(s)', 'Interaction identifier(s)',\n",
       "       'Confidence value(s)', 'Expansion method(s)',\n",
       "       'Biological role(s) interactor A', 'Biological role(s) interactor B',\n",
       "       'Experimental role(s) interactor A',\n",
       "       'Experimental role(s) interactor B', 'Type(s) interactor A',\n",
       "       'Type(s) interactor B', 'Xref(s) interactor A', 'Xref(s) interactor B',\n",
       "       'Interaction Xref(s)', 'Annotation(s) interactor A',\n",
       "       'Annotation(s) interactor B', 'Interaction annotation(s)',\n",
       "       'Host organism(s)', 'Interaction parameter(s)', 'Creation date',\n",
       "       'Update date', 'Checksum(s) interactor A', 'Checksum(s) interactor B',\n",
       "       'Interaction Checksum(s)', 'Negative', 'Feature(s) interactor A',\n",
       "       'Feature(s) interactor B', 'Stoichiometry(s) interactor A',\n",
       "       'Stoichiometry(s) interactor B', 'Identification method participant A',\n",
       "       'Identification method participant B'],\n",
       "      dtype='object')"
      ]
     },
     "execution_count": 18,
     "metadata": {},
     "output_type": "execute_result"
    }
   ],
   "source": [
    "# Columns are the same as the previous dataset\n",
    "IntAct_Raw_v2.columns"
   ]
  },
  {
   "cell_type": "markdown",
   "metadata": {},
   "source": [
    "#### Keep only human-human interactions"
   ]
  },
  {
   "cell_type": "code",
   "execution_count": 20,
   "metadata": {
    "ExecuteTime": {
     "end_time": "2021-12-22T18:33:25.451920Z",
     "start_time": "2021-12-22T18:33:20.414440Z"
    },
    "scrolled": false
   },
   "outputs": [
    {
     "name": "stdout",
     "output_type": "stream",
     "text": [
      "Human-Human only edge count in IntAct_v2: 598815\n"
     ]
    }
   ],
   "source": [
    "# Filter  for only human-human interactions in IntAct\n",
    "IntAct_Human_Only_v2 = IntAct_Raw_v2[(IntAct_Raw_v2['Taxid interactor A']=='taxid:9606(human)|taxid:9606(Homo sapiens)') & (IntAct_Raw_v2['Taxid interactor B']=='taxid:9606(human)|taxid:9606(Homo sapiens)')]\n",
    "IntAct_Human_Only_v2 = IntAct_Human_Only_v2.drop_duplicates()\n",
    "print('Human-Human only edge count in IntAct_v2:', IntAct_Human_Only_v2.shape[0])"
   ]
  },
  {
   "cell_type": "code",
   "execution_count": 22,
   "metadata": {
    "ExecuteTime": {
     "end_time": "2021-12-22T18:33:53.062299Z",
     "start_time": "2021-12-22T18:33:52.958218Z"
    }
   },
   "outputs": [],
   "source": [
    "Human_IntAct_Genes_v2 = list(set(IntAct_Human_Only_v2['#ID(s) interactor A']).union(set(IntAct_Human_Only_v2['ID(s) interactor B'])))"
   ]
  },
  {
   "cell_type": "markdown",
   "metadata": {},
   "source": [
    "## Convert Genes"
   ]
  },
  {
   "cell_type": "code",
   "execution_count": 26,
   "metadata": {
    "ExecuteTime": {
     "end_time": "2021-12-22T18:35:33.661690Z",
     "start_time": "2021-12-22T18:35:33.582889Z"
    }
   },
   "outputs": [
    {
     "name": "stdout",
     "output_type": "stream",
     "text": [
      "28262 Valid Query Genes\n",
      "2152 Invalid Query Genes\n"
     ]
    }
   ],
   "source": [
    "# Construct list of genes to be submitted to MyGene.Info API (remove all genes with 'intact' prefix)\n",
    "query_string_v2, valid_genes_v2, invalid_genes_v2 = gct.query_constructor(Human_IntAct_Genes_v2, exclude_prefixes=['intact'])"
   ]
  },
  {
   "cell_type": "code",
   "execution_count": 29,
   "metadata": {
    "ExecuteTime": {
     "end_time": "2021-12-22T18:39:35.184839Z",
     "start_time": "2021-12-22T18:39:13.648023Z"
    }
   },
   "outputs": [
    {
     "name": "stderr",
     "output_type": "stream",
     "text": [
      "100%|██████████| 29/29 [00:21<00:00,  1.35it/s]"
     ]
    },
    {
     "name": "stdout",
     "output_type": "stream",
     "text": [
      "28537 Matched query results\n",
      "Batch query complete: 21.53 seconds\n"
     ]
    },
    {
     "name": "stderr",
     "output_type": "stream",
     "text": [
      "\n"
     ]
    }
   ],
   "source": [
    "# Set scopes (gene naming systems to search)\n",
    "scopes = \"uniprot\"\n",
    "\n",
    "# Set fields (systems from which to return gene names from)\n",
    "fields = \"symbol, entrezgene\"\n",
    "\n",
    "# Query MyGene.Info\n",
    "match_list_v2 = gct.query_batch(query_string_v2, scopes=scopes, fields=fields)\n"
   ]
  },
  {
   "cell_type": "code",
   "execution_count": 30,
   "metadata": {
    "ExecuteTime": {
     "end_time": "2021-12-22T18:39:56.277000Z",
     "start_time": "2021-12-22T18:39:36.132338Z"
    },
    "scrolled": true
   },
   "outputs": [
    {
     "name": "stdout",
     "output_type": "stream",
     "text": [
      "Queries without full matching results found: 9651\n",
      "\n",
      "192 Queries with mutliple matches found\n",
      "\n",
      "Query mapping table/dictionary construction complete: 20.14 seconds\n"
     ]
    }
   ],
   "source": [
    "match_table_trim_v2, query_to_symbol_v2, query_to_entrez_v2 = gct.construct_query_map_table(match_list_v2, valid_genes_v2)"
   ]
  },
  {
   "cell_type": "markdown",
   "metadata": {},
   "source": [
    "## Construct Converted Network"
   ]
  },
  {
   "cell_type": "code",
   "execution_count": 37,
   "metadata": {
    "ExecuteTime": {
     "end_time": "2021-12-22T18:43:56.618811Z",
     "start_time": "2021-12-22T18:43:56.307084Z"
    }
   },
   "outputs": [],
   "source": [
    "query_edgelist_v2 = IntAct_Human_Only_v2[['#ID(s) interactor A', 'ID(s) interactor B']].drop_duplicates().values.tolist()"
   ]
  },
  {
   "cell_type": "code",
   "execution_count": 38,
   "metadata": {
    "ExecuteTime": {
     "end_time": "2021-12-22T18:44:17.364179Z",
     "start_time": "2021-12-22T18:44:06.033228Z"
    }
   },
   "outputs": [
    {
     "name": "stdout",
     "output_type": "stream",
     "text": [
      "11362 / 360056 edges with invalid nodes removed\n"
     ]
    }
   ],
   "source": [
    "# Original = 5864/161035\n",
    "# Filter query edgelist of interactions with invalid genes\n",
    "query_edgelist_filt_v2 = gct.filter_query_edgelist(query_edgelist_v2, invalid_genes_v2)\n"
   ]
  },
  {
   "cell_type": "code",
   "execution_count": 39,
   "metadata": {
    "ExecuteTime": {
     "end_time": "2021-12-22T18:44:30.531262Z",
     "start_time": "2021-12-22T18:44:30.039111Z"
    }
   },
   "outputs": [],
   "source": [
    "# Format edge list by removing 'uniprot:' prefix from all interactors\n",
    "query_edgelist_filt_fmt_v2 = [[gct.get_identifier_without_prefix(edge[0]), gct.get_identifier_without_prefix(edge[1])] for edge in query_edgelist_filt_v2]"
   ]
  },
  {
   "cell_type": "code",
   "execution_count": 40,
   "metadata": {
    "ExecuteTime": {
     "end_time": "2021-12-22T18:44:32.599281Z",
     "start_time": "2021-12-22T18:44:32.392657Z"
    }
   },
   "outputs": [],
   "source": [
    "# Convert network edge list to symbol\n",
    "IntAct_edgelist_symbol_v2 = gct.convert_edgelist(query_edgelist_filt_fmt_v2, query_to_symbol_v2)"
   ]
  },
  {
   "cell_type": "code",
   "execution_count": 41,
   "metadata": {
    "ExecuteTime": {
     "end_time": "2021-12-22T18:44:42.903005Z",
     "start_time": "2021-12-22T18:44:42.800493Z"
    }
   },
   "outputs": [
    {
     "name": "stdout",
     "output_type": "stream",
     "text": [
      "348694 input edges\n",
      "2167 self-edges removed\n",
      "83087 edges with un-mapped genes removed\n",
      "1302 duplicate edges removed\n",
      "Edge list filtered: 0.1 seconds\n",
      "262138 Edges remaining\n"
     ]
    }
   ],
   "source": [
    "# Filter converted edge list\n",
    "IntAct_edgelist_symbol_filt_v2 = gct.filter_converted_edgelist(IntAct_edgelist_symbol_v2)"
   ]
  },
  {
   "cell_type": "code",
   "execution_count": 42,
   "metadata": {
    "ExecuteTime": {
     "end_time": "2021-12-22T18:44:52.839083Z",
     "start_time": "2021-12-22T18:44:52.545621Z"
    }
   },
   "outputs": [
    {
     "name": "stdout",
     "output_type": "stream",
     "text": [
      "Edge list saved: 0.29 seconds\n"
     ]
    }
   ],
   "source": [
    "# Save filtered, converted edge list to file\n",
    "gct.write_edgelist(IntAct_edgelist_symbol_filt_v2, wd+'/Processed_Data/Network_SIFs_Symbol/IntAct_Symbol_2021.sif')"
   ]
  },
  {
   "cell_type": "markdown",
   "metadata": {},
   "source": [
    "# Version 1.0 (Original)\n",
    "## Load IntAct Raw Data\n",
    "#### Source (PSI-MITAB): ftp://ftp.ebi.ac.uk/pub/databases/intact/current/psimitab/intact.txt\n",
    "Downloaded: June 15, 2017   \n",
    "Last Updated: June 05, 2017  \n",
    "Notes for processing: All interactions listed here need to be filtered for human-human interactions. Given the size of the file, we will filter the interactions and save the human-only interactions to a separate file to be loaded to save memory."
   ]
  },
  {
   "cell_type": "code",
   "execution_count": 10,
   "metadata": {
    "ExecuteTime": {
     "end_time": "2021-12-22T18:28:53.488438Z",
     "start_time": "2021-12-22T18:28:37.164594Z"
    }
   },
   "outputs": [
    {
     "name": "stderr",
     "output_type": "stream",
     "text": [
      "/cellar/users/snwright/anaconda3/envs/pcnet_py3/lib/python3.10/site-packages/IPython/core/interactiveshell.py:3444: DtypeWarning: Columns (38,39) have mixed types.Specify dtype option on import or set low_memory=False.\n",
      "  exec(code_obj, self.user_global_ns, self.user_ns)\n"
     ]
    },
    {
     "name": "stdout",
     "output_type": "stream",
     "text": [
      "Raw edge count in IntAct: 653104\n"
     ]
    }
   ],
   "source": [
    "IntAct_Raw = pd.read_csv(wd+'Network_Data_Raw/IntAct/2016-09-08_intact.txt.gz', sep='\\t', low_memory=False)\n",
    "print('Raw edge count in IntAct:', len(IntAct_Raw))"
   ]
  },
  {
   "cell_type": "markdown",
   "metadata": {},
   "source": [
    "## Custom Processing of Raw DIP Data"
   ]
  },
  {
   "cell_type": "code",
   "execution_count": 14,
   "metadata": {
    "ExecuteTime": {
     "end_time": "2021-12-22T18:30:48.377547Z",
     "start_time": "2021-12-22T18:30:48.374992Z"
    }
   },
   "outputs": [
    {
     "data": {
      "text/plain": [
       "Index(['#ID(s) interactor A', 'ID(s) interactor B', 'Alt. ID(s) interactor A',\n",
       "       'Alt. ID(s) interactor B', 'Alias(es) interactor A',\n",
       "       'Alias(es) interactor B', 'Interaction detection method(s)',\n",
       "       'Publication 1st author(s)', 'Publication Identifier(s)',\n",
       "       'Taxid interactor A', 'Taxid interactor B', 'Interaction type(s)',\n",
       "       'Source database(s)', 'Interaction identifier(s)',\n",
       "       'Confidence value(s)', 'Expansion method(s)',\n",
       "       'Biological role(s) interactor A', 'Biological role(s) interactor B',\n",
       "       'Experimental role(s) interactor A',\n",
       "       'Experimental role(s) interactor B', 'Type(s) interactor A',\n",
       "       'Type(s) interactor B', 'Xref(s) interactor A', 'Xref(s) interactor B',\n",
       "       'Interaction Xref(s)', 'Annotation(s) interactor A',\n",
       "       'Annotation(s) interactor B', 'Interaction annotation(s)',\n",
       "       'Host organism(s)', 'Interaction parameter(s)', 'Creation date',\n",
       "       'Update date', 'Checksum(s) interactor A', 'Checksum(s) interactor B',\n",
       "       'Interaction Checksum(s)', 'Negative', 'Feature(s) interactor A',\n",
       "       'Feature(s) interactor B', 'Stoichiometry(s) interactor A',\n",
       "       'Stoichiometry(s) interactor B', 'Identification method participant A',\n",
       "       'Identification method participant B'],\n",
       "      dtype='object')"
      ]
     },
     "execution_count": 14,
     "metadata": {},
     "output_type": "execute_result"
    }
   ],
   "source": [
    "IntAct_Raw.columns"
   ]
  },
  {
   "cell_type": "markdown",
   "metadata": {},
   "source": [
    "#### Keep only human-human interactions"
   ]
  },
  {
   "cell_type": "code",
   "execution_count": 19,
   "metadata": {
    "ExecuteTime": {
     "end_time": "2021-12-22T18:32:40.361458Z",
     "start_time": "2021-12-22T18:32:38.206486Z"
    },
    "scrolled": false
   },
   "outputs": [
    {
     "name": "stdout",
     "output_type": "stream",
     "text": [
      "Human-Human only edge count in IntAct: 247565\n"
     ]
    }
   ],
   "source": [
    "# Filter  for only human-human interactions in IntAct\n",
    "IntAct_Human_Only = IntAct_Raw[(IntAct_Raw['Taxid interactor A']=='taxid:9606(human)|taxid:9606(Homo sapiens)') & (IntAct_Raw['Taxid interactor B']=='taxid:9606(human)|taxid:9606(Homo sapiens)')]\n",
    "IntAct_Human_Only = IntAct_Human_Only.drop_duplicates()\n",
    "print('Human-Human only edge count in IntAct:', IntAct_Human_Only.shape[0])"
   ]
  },
  {
   "cell_type": "code",
   "execution_count": 21,
   "metadata": {
    "ExecuteTime": {
     "end_time": "2021-12-22T18:33:33.361392Z",
     "start_time": "2021-12-22T18:33:33.317269Z"
    }
   },
   "outputs": [],
   "source": [
    "Human_IntAct_Genes = list(set(IntAct_Human_Only['#ID(s) interactor A']).union(set(IntAct_Human_Only['ID(s) interactor B'])))"
   ]
  },
  {
   "cell_type": "markdown",
   "metadata": {},
   "source": [
    "## Convert Genes"
   ]
  },
  {
   "cell_type": "code",
   "execution_count": 23,
   "metadata": {
    "ExecuteTime": {
     "end_time": "2021-12-22T18:34:01.874786Z",
     "start_time": "2021-12-22T18:34:01.821569Z"
    }
   },
   "outputs": [
    {
     "name": "stdout",
     "output_type": "stream",
     "text": [
      "19143 Valid Query Genes\n",
      "1162 Invalid Query Genes\n"
     ]
    }
   ],
   "source": [
    "# Construct list of genes to be submitted to MyGene.Info API (remove all genes with 'intact' prefix)\n",
    "query_string, valid_genes, invalid_genes = gct.query_constructor(Human_IntAct_Genes, exclude_prefixes=['intact'])"
   ]
  },
  {
   "cell_type": "code",
   "execution_count": 25,
   "metadata": {
    "ExecuteTime": {
     "end_time": "2021-12-22T18:34:34.541728Z",
     "start_time": "2021-12-22T18:34:18.261567Z"
    }
   },
   "outputs": [
    {
     "name": "stderr",
     "output_type": "stream",
     "text": [
      "100%|██████████| 20/20 [00:16<00:00,  1.24it/s]"
     ]
    },
    {
     "name": "stdout",
     "output_type": "stream",
     "text": [
      "19331 Matched query results\n",
      "Batch query complete: 16.28 seconds\n",
      "19331 Matched query results\n"
     ]
    },
    {
     "name": "stderr",
     "output_type": "stream",
     "text": [
      "\n"
     ]
    }
   ],
   "source": [
    "# Original 19368 matched query results\n",
    "# Set scopes (gene naming systems to search)\n",
    "scopes = \"uniprot\"\n",
    "\n",
    "# Set fields (systems from which to return gene names from)\n",
    "fields = \"symbol, entrezgene\"\n",
    "\n",
    "# Query MyGene.Info\n",
    "match_list = gct.query_batch(query_string, scopes=scopes, fields=fields)\n",
    "print(len(match_list), 'Matched query results')"
   ]
  },
  {
   "cell_type": "code",
   "execution_count": 28,
   "metadata": {
    "ExecuteTime": {
     "end_time": "2021-12-22T18:36:25.400829Z",
     "start_time": "2021-12-22T18:36:15.653820Z"
    },
    "scrolled": true
   },
   "outputs": [
    {
     "name": "stdout",
     "output_type": "stream",
     "text": [
      "Queries without full matching results found: 4441\n",
      "\n",
      "134 Queries with mutliple matches found\n",
      "\n",
      "Query mapping table/dictionary construction complete: 9.74 seconds\n"
     ]
    }
   ],
   "source": [
    "#Original unmatched = 4329\n",
    "\n",
    "match_table_trim, query_to_symbol, query_to_entrez = gct.construct_query_map_table(match_list, valid_genes)"
   ]
  },
  {
   "cell_type": "markdown",
   "metadata": {},
   "source": [
    "## Construct Converted Network"
   ]
  },
  {
   "cell_type": "code",
   "execution_count": 31,
   "metadata": {
    "ExecuteTime": {
     "end_time": "2021-12-22T18:40:04.203657Z",
     "start_time": "2021-12-22T18:40:04.056414Z"
    }
   },
   "outputs": [],
   "source": [
    "query_edgelist = IntAct_Human_Only[['#ID(s) interactor A', 'ID(s) interactor B']].drop_duplicates().values.tolist()"
   ]
  },
  {
   "cell_type": "code",
   "execution_count": 32,
   "metadata": {
    "ExecuteTime": {
     "end_time": "2021-12-22T18:40:09.861389Z",
     "start_time": "2021-12-22T18:40:07.271078Z"
    }
   },
   "outputs": [
    {
     "name": "stdout",
     "output_type": "stream",
     "text": [
      "5864 / 161035 edges with invalid nodes removed\n"
     ]
    }
   ],
   "source": [
    "# Original = 5864/161035\n",
    "# Filter query edgelist of interactions with invalid genes\n",
    "query_edgelist_filt = gct.filter_query_edgelist(query_edgelist, invalid_genes)\n"
   ]
  },
  {
   "cell_type": "code",
   "execution_count": 33,
   "metadata": {
    "ExecuteTime": {
     "end_time": "2021-12-22T18:40:43.935211Z",
     "start_time": "2021-12-22T18:40:43.757075Z"
    }
   },
   "outputs": [],
   "source": [
    "# Format edge list by removing 'uniprot:' prefix from all interactors\n",
    "query_edgelist_filt_fmt = [[gct.get_identifier_without_prefix(edge[0]), gct.get_identifier_without_prefix(edge[1])] for edge in query_edgelist_filt]"
   ]
  },
  {
   "cell_type": "code",
   "execution_count": 34,
   "metadata": {
    "ExecuteTime": {
     "end_time": "2021-12-22T18:40:47.776579Z",
     "start_time": "2021-12-22T18:40:47.367277Z"
    }
   },
   "outputs": [],
   "source": [
    "# Convert network edge list to symbol\n",
    "IntAct_edgelist_symbol = gct.convert_edgelist(query_edgelist_filt_fmt, query_to_symbol)"
   ]
  },
  {
   "cell_type": "code",
   "execution_count": 35,
   "metadata": {
    "ExecuteTime": {
     "end_time": "2021-12-22T18:40:50.630886Z",
     "start_time": "2021-12-22T18:40:50.563580Z"
    }
   },
   "outputs": [
    {
     "name": "stdout",
     "output_type": "stream",
     "text": [
      "155171 input edges\n",
      "1565 self-edges removed\n",
      "23439 edges with un-mapped genes removed\n",
      "654 duplicate edges removed\n",
      "Edge list filtered: 0.06 seconds\n",
      "129513 Edges remaining\n"
     ]
    }
   ],
   "source": [
    "## Original stats##\n",
    "#155171 input edges\n",
    "#3236 self-edges removed\n",
    "#20662 edges with un-mapped genes removed\n",
    "#16701 duplicate edges removed\n",
    "#Edge list filtered: 0.43 seconds\n",
    "#114572 Edges remaining\n",
    "\n",
    "# Filter converted edge list\n",
    "IntAct_edgelist_symbol_filt = gct.filter_converted_edgelist(IntAct_edgelist_symbol)"
   ]
  },
  {
   "cell_type": "code",
   "execution_count": 36,
   "metadata": {
    "ExecuteTime": {
     "end_time": "2021-12-22T18:42:11.277393Z",
     "start_time": "2021-12-22T18:42:11.014688Z"
    }
   },
   "outputs": [
    {
     "name": "stdout",
     "output_type": "stream",
     "text": [
      "Edge list saved: 0.26 seconds\n"
     ]
    }
   ],
   "source": [
    "# Save filtered, converted edge list to file\n",
    "gct.write_edgelist(IntAct_edgelist_symbol_filt, wd+'/Processed_Data/Network_SIFs_Symbol/IntAct_Symbol_2016.sif')"
   ]
  },
  {
   "cell_type": "markdown",
   "metadata": {
    "collapsed": true
   },
   "source": [
    "# Changes\n",
    "* No changes identified in structure of data\n",
    "* Minor changes when re-running the original dataset due to updated symbol database being queried"
   ]
  },
  {
   "cell_type": "code",
   "execution_count": 50,
   "metadata": {
    "ExecuteTime": {
     "end_time": "2021-12-22T18:54:58.699832Z",
     "start_time": "2021-12-22T18:54:58.697457Z"
    }
   },
   "outputs": [],
   "source": [
    "stats = pd.DataFrame({\"v1\":[653104, 247565, 129513], \n",
    "                           \"v2\":[1155104, 598815, 262138]},\n",
    "                           index=[\"input\", \"human_human\", \"filtered\"])"
   ]
  },
  {
   "cell_type": "code",
   "execution_count": 51,
   "metadata": {
    "ExecuteTime": {
     "end_time": "2021-12-22T18:55:00.228449Z",
     "start_time": "2021-12-22T18:55:00.169008Z"
    }
   },
   "outputs": [],
   "source": [
    "nodes_v1 = set(IntAct_Human_Only[\"#ID(s) interactor A\"].values).union(set(IntAct_Human_Only[\"ID(s) interactor B\"].values))\n",
    "nodes_v2 = set(IntAct_Human_Only_v2[\"#ID(s) interactor A\"].values).union(set(IntAct_Human_Only_v2[\"ID(s) interactor B\"].values))\n",
    "new_nodes = v2_nodes.difference(v1_nodes)"
   ]
  },
  {
   "cell_type": "code",
   "execution_count": 52,
   "metadata": {
    "ExecuteTime": {
     "end_time": "2021-12-22T18:55:02.195578Z",
     "start_time": "2021-12-22T18:55:01.674734Z"
    }
   },
   "outputs": [
    {
     "data": {
      "text/plain": [
       "Text(0, 0.5, 'Number of nodes')"
      ]
     },
     "execution_count": 52,
     "metadata": {},
     "output_type": "execute_result"
    },
    {
     "data": {
      "image/png": "[encoded data removed]",
      "text/plain": [
       "<Figure size 432x288 with 1 Axes>"
      ]
     },
     "metadata": {
      "needs_background": "light"
     },
     "output_type": "display_data"
    },
    {
     "data": {
      "image/png": "[encoded data removed]",
      "text/plain": [
       "<Figure size 432x288 with 1 Axes>"
      ]
     },
     "metadata": {
      "needs_background": "light"
     },
     "output_type": "display_data"
    }
   ],
   "source": [
    "stats.plot.bar(ylabel=\"Number of edges\")\n",
    "plt.figure()\n",
    "plt.bar([\"v1\", \"v2\", \"total difference\", \"new V2\", \"removed V2\"], [len(nodes_v1), len(nodes_v2), len(nodes_v2)-len(nodes_v1),\n",
    "                                                           len(nodes_v2.difference(nodes_v1)), len(nodes_v1.difference(nodes_v2))])\n",
    "plt.ylabel(\"Number of nodes\")"
   ]
  }
 ],
 "metadata": {
  "kernelspec": {
   "display_name": "Python [conda env:pcnet_py3]",
   "language": "python",
   "name": "conda-env-pcnet_py3-py"
  },
  "language_info": {
   "codemirror_mode": {
    "name": "ipython",
    "version": 3
   },
   "file_extension": ".py",
   "mimetype": "text/x-python",
   "name": "python",
   "nbconvert_exporter": "python",
   "pygments_lexer": "ipython3",
   "version": "3.10.0"
  },
  "toc": {
   "base_numbering": 1,
   "nav_menu": {},
   "number_sections": true,
   "sideBar": true,
   "skip_h1_title": false,
   "title_cell": "Table of Contents",
   "title_sidebar": "Contents",
   "toc_cell": false,
   "toc_position": {
    "height": "calc(100% - 180px)",
    "left": "10px",
    "top": "150px",
    "width": "379.398px"
   },
   "toc_section_display": true,
   "toc_window_display": true
  },
  "varInspector": {
   "cols": {
    "lenName": 16,
    "lenType": 16,
    "lenVar": 40
   },
   "kernels_config": {
    "python": {
     "delete_cmd_postfix": "",
     "delete_cmd_prefix": "del ",
     "library": "var_list.py",
     "varRefreshCmd": "print(var_dic_list())"
    },
    "r": {
     "delete_cmd_postfix": ") ",
     "delete_cmd_prefix": "rm(",
     "library": "var_list.r",
     "varRefreshCmd": "cat(var_dic_list()) "
    }
   },
   "types_to_exclude": [
    "module",
    "function",
    "builtin_function_or_method",
    "instance",
    "_Feature"
   ],
   "window_display": false
  }
 },
 "nbformat": 4,
 "nbformat_minor": 1
}
