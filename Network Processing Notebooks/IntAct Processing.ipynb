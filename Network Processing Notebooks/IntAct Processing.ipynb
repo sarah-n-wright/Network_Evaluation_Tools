{
 "cells": [
  {
   "cell_type": "code",
   "execution_count": 1,
   "metadata": {
    "ExecuteTime": {
     "end_time": "2022-04-18T22:52:34.675526Z",
     "start_time": "2022-04-18T22:52:32.454796Z"
    },
    "run_control": {
     "marked": false
    }
   },
   "outputs": [],
   "source": [
    "from network_evaluation_tools import gene_conversion_tools as gct\n",
    "from network_evaluation_tools import data_import_tools as dit\n",
    "import pandas as pd\n",
    "import time\n",
    "import matplotlib.pyplot as plt"
   ]
  },
  {
   "cell_type": "code",
   "execution_count": 2,
   "metadata": {
    "ExecuteTime": {
     "end_time": "2022-04-18T22:52:34.678076Z",
     "start_time": "2022-04-18T22:52:34.676598Z"
    },
    "run_control": {
     "marked": false
    }
   },
   "outputs": [],
   "source": [
    "wd = '/cellar/users/snwright/Data/Network_Analysis/'"
   ]
  },
  {
   "cell_type": "markdown",
   "metadata": {},
   "source": [
    "# Version 2.0\n",
    "## Load IntAct Raw Data\n",
    "**Source (PSI-MITAB): ftp://ftp.ebi.ac.uk/pub/databases/intact/current/psimitab/intact.txt**  \n",
    "Downloaded: Dec 8, 2021   \n",
    "Last Updated: Updated monthly  \n",
    "Notes for processing: All interactions listed here need to be filtered for human-human interactions. Given the size of the file, we will filter the interactions and save the human-only interactions to a separate file to be loaded to save memory."
   ]
  },
  {
   "cell_type": "code",
   "execution_count": 3,
   "metadata": {
    "ExecuteTime": {
     "end_time": "2022-04-18T22:53:13.388305Z",
     "start_time": "2022-04-18T22:52:34.678924Z"
    },
    "run_control": {
     "marked": false
    }
   },
   "outputs": [
    {
     "name": "stdout",
     "output_type": "stream",
     "text": [
      "Raw edge count in IntAct_v2: 1155104\n"
     ]
    }
   ],
   "source": [
    "input_raw_v2 = pd.read_csv(wd+'Network_Data_Raw/IntAct/2021-12-00_intact.txt.gz', sep='\\t')\n",
    "print('Raw edge count in IntAct_v2:', len(input_raw_v2))"
   ]
  },
  {
   "cell_type": "markdown",
   "metadata": {},
   "source": [
    "## Input Processing"
   ]
  },
  {
   "cell_type": "code",
   "execution_count": 4,
   "metadata": {
    "ExecuteTime": {
     "end_time": "2022-04-18T22:53:13.395786Z",
     "start_time": "2022-04-18T22:53:13.389894Z"
    },
    "run_control": {
     "marked": false
    }
   },
   "outputs": [
    {
     "data": {
      "text/plain": [
       "Index(['#ID(s) interactor A', 'ID(s) interactor B', 'Alt. ID(s) interactor A',\n",
       "       'Alt. ID(s) interactor B', 'Alias(es) interactor A',\n",
       "       'Alias(es) interactor B', 'Interaction detection method(s)',\n",
       "       'Publication 1st author(s)', 'Publication Identifier(s)',\n",
       "       'Taxid interactor A', 'Taxid interactor B', 'Interaction type(s)',\n",
       "       'Source database(s)', 'Interaction identifier(s)',\n",
       "       'Confidence value(s)', 'Expansion method(s)',\n",
       "       'Biological role(s) interactor A', 'Biological role(s) interactor B',\n",
       "       'Experimental role(s) interactor A',\n",
       "       'Experimental role(s) interactor B', 'Type(s) interactor A',\n",
       "       'Type(s) interactor B', 'Xref(s) interactor A', 'Xref(s) interactor B',\n",
       "       'Interaction Xref(s)', 'Annotation(s) interactor A',\n",
       "       'Annotation(s) interactor B', 'Interaction annotation(s)',\n",
       "       'Host organism(s)', 'Interaction parameter(s)', 'Creation date',\n",
       "       'Update date', 'Checksum(s) interactor A', 'Checksum(s) interactor B',\n",
       "       'Interaction Checksum(s)', 'Negative', 'Feature(s) interactor A',\n",
       "       'Feature(s) interactor B', 'Stoichiometry(s) interactor A',\n",
       "       'Stoichiometry(s) interactor B', 'Identification method participant A',\n",
       "       'Identification method participant B'],\n",
       "      dtype='object')"
      ]
     },
     "execution_count": 4,
     "metadata": {},
     "output_type": "execute_result"
    }
   ],
   "source": [
    "# Columns are the same as the previous dataset\n",
    "input_raw_v2.columns"
   ]
  },
  {
   "cell_type": "markdown",
   "metadata": {},
   "source": [
    "### Keep only human-human interactions"
   ]
  },
  {
   "cell_type": "code",
   "execution_count": 5,
   "metadata": {
    "ExecuteTime": {
     "end_time": "2022-04-18T22:53:18.445513Z",
     "start_time": "2022-04-18T22:53:13.396427Z"
    },
    "run_control": {
     "marked": false
    },
    "scrolled": false
   },
   "outputs": [
    {
     "name": "stdout",
     "output_type": "stream",
     "text": [
      "Human-Human only edge count in IntAct_v2: 598815\n"
     ]
    }
   ],
   "source": [
    "# Filter  for only human-human interactions in IntAct\n",
    "input_human_v2 = input_raw_v2[(input_raw_v2['Taxid interactor A']=='taxid:9606(human)|taxid:9606(Homo sapiens)') & (input_raw_v2['Taxid interactor B']=='taxid:9606(human)|taxid:9606(Homo sapiens)')]\n",
    "input_human_v2 = input_human_v2.drop_duplicates()\n",
    "print('Human-Human only edge count in IntAct_v2:', input_human_v2.shape[0])"
   ]
  },
  {
   "cell_type": "code",
   "execution_count": 6,
   "metadata": {
    "ExecuteTime": {
     "end_time": "2022-04-18T22:53:18.548216Z",
     "start_time": "2022-04-18T22:53:18.446694Z"
    },
    "run_control": {
     "marked": false
    }
   },
   "outputs": [],
   "source": [
    "genes_v2 = list(set(input_human_v2['#ID(s) interactor A']).union(set(input_human_v2['ID(s) interactor B'])))"
   ]
  },
  {
   "cell_type": "markdown",
   "metadata": {},
   "source": [
    "## Convert Genes"
   ]
  },
  {
   "cell_type": "code",
   "execution_count": 7,
   "metadata": {
    "ExecuteTime": {
     "end_time": "2022-04-18T22:53:18.625946Z",
     "start_time": "2022-04-18T22:53:18.549161Z"
    },
    "run_control": {
     "marked": false
    }
   },
   "outputs": [
    {
     "name": "stdout",
     "output_type": "stream",
     "text": [
      "28262 Valid Query Genes\n",
      "2152 Invalid Query Genes\n"
     ]
    }
   ],
   "source": [
    "# Construct list of genes to be submitted to MyGene.Info API (remove all genes with 'intact' prefix)\n",
    "query_string_v2, valid_genes_v2, invalid_genes_v2 = gct.query_constructor(genes_v2, exclude_prefixes=['intact'])"
   ]
  },
  {
   "cell_type": "markdown",
   "metadata": {},
   "source": [
    "### Map from isoforms to uniprot ID"
   ]
  },
  {
   "cell_type": "code",
   "execution_count": 8,
   "metadata": {
    "ExecuteTime": {
     "end_time": "2022-04-18T22:54:02.848510Z",
     "start_time": "2022-04-18T22:53:18.626638Z"
    },
    "run_control": {
     "marked": false
    }
   },
   "outputs": [],
   "source": [
    "uniprot_ids_v2, missing_v2 = gct.query_uniprot(valid_genes_v2, return_as_dict=False, target_fmt=\"ACC\")"
   ]
  },
  {
   "cell_type": "code",
   "execution_count": 9,
   "metadata": {
    "ExecuteTime": {
     "end_time": "2022-04-18T22:54:02.899298Z",
     "start_time": "2022-04-18T22:54:02.849350Z"
    }
   },
   "outputs": [
    {
     "name": "stdout",
     "output_type": "stream",
     "text": [
      "28280 Valid Query Genes\n",
      "0 Invalid Query Genes\n"
     ]
    }
   ],
   "source": [
    "uniprot_mapping_v2 = pd.concat([uniprot_ids_v2, pd.DataFrame({\"query\":missing_v2, \"ACC\":missing_v2, \"_score\":0})])\n",
    "uniprot_query_v2, valid_uniprot_v2, invalid_uniprot_v2 = gct.query_constructor(uniprot_mapping_v2[\"ACC\"].tolist())"
   ]
  },
  {
   "cell_type": "markdown",
   "metadata": {},
   "source": [
    "### Map to gene symbols"
   ]
  },
  {
   "cell_type": "code",
   "execution_count": 10,
   "metadata": {
    "ExecuteTime": {
     "end_time": "2022-04-18T22:54:26.950506Z",
     "start_time": "2022-04-18T22:54:02.900807Z"
    },
    "run_control": {
     "marked": false
    }
   },
   "outputs": [
    {
     "name": "stderr",
     "output_type": "stream",
     "text": [
      "100%|██████████| 29/29 [00:24<00:00,  1.21it/s]"
     ]
    },
    {
     "name": "stdout",
     "output_type": "stream",
     "text": [
      "28639 Matched query results\n",
      "Batch query complete: 24.05 seconds\n"
     ]
    },
    {
     "name": "stderr",
     "output_type": "stream",
     "text": [
      "\n"
     ]
    }
   ],
   "source": [
    "# Set scopes (gene naming systems to search)\n",
    "scopes = \"uniprot, ensemblgene\"\n",
    "\n",
    "# Set fields (systems from which to return gene names from)\n",
    "fields = \"symbol, entrezgene\"\n",
    "\n",
    "# Query MyGene.Info\n",
    "match_list_v2 = gct.query_batch(uniprot_query_v2, scopes=scopes, fields=fields)\n"
   ]
  },
  {
   "cell_type": "code",
   "execution_count": 11,
   "metadata": {
    "ExecuteTime": {
     "end_time": "2022-04-18T22:54:26.975418Z",
     "start_time": "2022-04-18T22:54:26.951430Z"
    },
    "run_control": {
     "marked": false
    }
   },
   "outputs": [],
   "source": [
    "match_list_v2 = pd.DataFrame.from_dict(match_list_v2)"
   ]
  },
  {
   "cell_type": "code",
   "execution_count": 12,
   "metadata": {
    "ExecuteTime": {
     "end_time": "2022-04-18T22:54:27.024829Z",
     "start_time": "2022-04-18T22:54:26.976195Z"
    }
   },
   "outputs": [],
   "source": [
    "match_list_final_v2 = match_list_v2.merge(uniprot_mapping_v2, left_on = [\"query\"], right_on=[\"ACC\"])\n",
    "match_list_final_v2 = match_list_final_v2.loc[:, (\"query_y\", \"_id\", \"_score_x\", \"symbol\", \"notfound\")]\n",
    "match_list_final_v2.columns = [\"query\", \"entrezgene\", \"_score\", \"symbol\", \"notfound\"]"
   ]
  },
  {
   "cell_type": "code",
   "execution_count": 13,
   "metadata": {
    "ExecuteTime": {
     "end_time": "2022-04-18T22:54:27.169151Z",
     "start_time": "2022-04-18T22:54:27.025660Z"
    },
    "run_control": {
     "marked": false
    },
    "scrolled": true
   },
   "outputs": [
    {
     "name": "stdout",
     "output_type": "stream",
     "text": [
      "Number of genes with multiple matches: 18133\n",
      "Number of unmatched genes: 2024\n",
      "Number of fully matched genes: 26215\n",
      "Number of partially matched genes: 2047\n"
     ]
    }
   ],
   "source": [
    "match_table_trim_v2, query_to_symbol_v2, query_to_entrez_v2 = gct.construct_query_map_table(match_list_final_v2, valid_uniprot_v2)"
   ]
  },
  {
   "cell_type": "markdown",
   "metadata": {},
   "source": [
    "## Construct Converted Network"
   ]
  },
  {
   "cell_type": "code",
   "execution_count": 14,
   "metadata": {
    "ExecuteTime": {
     "end_time": "2022-04-18T22:54:27.560456Z",
     "start_time": "2022-04-18T22:54:27.169993Z"
    },
    "run_control": {
     "marked": false
    }
   },
   "outputs": [],
   "source": [
    "edgelist_v2 = input_human_v2[['#ID(s) interactor A', 'ID(s) interactor B']].drop_duplicates().values.tolist()"
   ]
  },
  {
   "cell_type": "code",
   "execution_count": 15,
   "metadata": {
    "ExecuteTime": {
     "end_time": "2022-04-18T22:54:38.702492Z",
     "start_time": "2022-04-18T22:54:27.561250Z"
    },
    "run_control": {
     "marked": false
    }
   },
   "outputs": [
    {
     "name": "stdout",
     "output_type": "stream",
     "text": [
      "11362 / 360056 edges with invalid nodes removed\n"
     ]
    }
   ],
   "source": [
    "# Original = 5864/161035\n",
    "# Filter query edgelist of interactions with invalid genes\n",
    "edgelist_v2 = gct.filter_query_edgelist(edgelist_v2, invalid_genes_v2)\n"
   ]
  },
  {
   "cell_type": "code",
   "execution_count": 16,
   "metadata": {
    "ExecuteTime": {
     "end_time": "2022-04-18T22:54:39.193091Z",
     "start_time": "2022-04-18T22:54:38.703577Z"
    },
    "run_control": {
     "marked": false
    }
   },
   "outputs": [],
   "source": [
    "# Format edge list by removing 'uniprot:' prefix from all interactors\n",
    "edgelist_v2 = [[gct.get_identifier_without_prefix(edge[0]), gct.get_identifier_without_prefix(edge[1])] for edge in edgelist_v2]"
   ]
  },
  {
   "cell_type": "code",
   "execution_count": 17,
   "metadata": {
    "ExecuteTime": {
     "end_time": "2022-04-18T22:54:39.419949Z",
     "start_time": "2022-04-18T22:54:39.193992Z"
    },
    "run_control": {
     "marked": false
    }
   },
   "outputs": [],
   "source": [
    "# Convert network edge list to symbol\n",
    "edgelist_updated_v2 = gct.convert_edgelist(edgelist_v2, query_to_symbol_v2)"
   ]
  },
  {
   "cell_type": "code",
   "execution_count": 18,
   "metadata": {
    "ExecuteTime": {
     "end_time": "2022-04-18T22:54:39.587435Z",
     "start_time": "2022-04-18T22:54:39.420846Z"
    },
    "run_control": {
     "marked": false
    }
   },
   "outputs": [
    {
     "name": "stdout",
     "output_type": "stream",
     "text": [
      "348694 input edges\n",
      "2630 self-edges removed\n",
      "12208 edges with un-mapped genes removed\n",
      "53396 duplicate edges removed\n",
      "Edge list filtered: 0.16 seconds\n",
      "280460 Edges remaining\n"
     ]
    }
   ],
   "source": [
    "# Filter converted edge list\n",
    "edgelist_filt_v2 = gct.filter_converted_edgelist(edgelist_updated_v2)"
   ]
  },
  {
   "cell_type": "code",
   "execution_count": 19,
   "metadata": {
    "ExecuteTime": {
     "end_time": "2022-04-18T22:54:39.922767Z",
     "start_time": "2022-04-18T22:54:39.588279Z"
    },
    "run_control": {
     "marked": false
    }
   },
   "outputs": [
    {
     "name": "stdout",
     "output_type": "stream",
     "text": [
      "Edge list saved: 0.33 seconds\n"
     ]
    }
   ],
   "source": [
    "# Save filtered, converted edge list to file\n",
    "gct.write_edgelist(edgelist_filt_v2, wd+'/Processed_Data/Network_SIFs_Symbol/IntAct_Symbol_2021.sif')"
   ]
  },
  {
   "cell_type": "markdown",
   "metadata": {},
   "source": [
    "# Version 1.0 (Original)\n",
    "## Load IntAct Raw Data\n",
    "**Source (PSI-MITAB): ftp://ftp.ebi.ac.uk/pub/databases/intact/current/psimitab/intact.txt**  \n",
    "Downloaded: June 15, 2017   \n",
    "Last Updated: June 05, 2017  \n",
    "Notes for processing: All interactions listed here need to be filtered for human-human interactions. Given the size of the file, we will filter the interactions and save the human-only interactions to a separate file to be loaded to save memory."
   ]
  },
  {
   "cell_type": "code",
   "execution_count": 20,
   "metadata": {
    "ExecuteTime": {
     "end_time": "2022-04-18T22:55:01.602006Z",
     "start_time": "2022-04-18T22:54:39.923799Z"
    },
    "run_control": {
     "marked": false
    }
   },
   "outputs": [
    {
     "name": "stdout",
     "output_type": "stream",
     "text": [
      "Raw edge count in IntAct: 653104\n"
     ]
    }
   ],
   "source": [
    "input_raw = pd.read_csv(wd+'Network_Data_Raw/IntAct/2016-09-08_intact.txt.gz', sep='\\t', low_memory=False)\n",
    "print('Raw edge count in IntAct:', len(input_raw))"
   ]
  },
  {
   "cell_type": "markdown",
   "metadata": {},
   "source": [
    "## Custom Processing of Raw DIP Data"
   ]
  },
  {
   "cell_type": "markdown",
   "metadata": {},
   "source": [
    "#### Keep only human-human interactions"
   ]
  },
  {
   "cell_type": "code",
   "execution_count": 21,
   "metadata": {
    "ExecuteTime": {
     "end_time": "2022-04-18T22:55:03.550757Z",
     "start_time": "2022-04-18T22:55:01.602828Z"
    },
    "run_control": {
     "marked": false
    },
    "scrolled": false
   },
   "outputs": [
    {
     "name": "stdout",
     "output_type": "stream",
     "text": [
      "Human-Human only edge count in IntAct: 247565\n"
     ]
    }
   ],
   "source": [
    "# Filter  for only human-human interactions in IntAct\n",
    "input_human = input_raw[(input_raw['Taxid interactor A']=='taxid:9606(human)|taxid:9606(Homo sapiens)') & (input_raw['Taxid interactor B']=='taxid:9606(human)|taxid:9606(Homo sapiens)')]\n",
    "input_human = input_human.drop_duplicates()\n",
    "print('Human-Human only edge count in IntAct:', input_human.shape[0])"
   ]
  },
  {
   "cell_type": "code",
   "execution_count": 22,
   "metadata": {
    "ExecuteTime": {
     "end_time": "2022-04-18T22:55:03.585776Z",
     "start_time": "2022-04-18T22:55:03.551730Z"
    },
    "run_control": {
     "marked": false
    }
   },
   "outputs": [],
   "source": [
    "genes = list(set(input_human['#ID(s) interactor A']).union(set(input_human['ID(s) interactor B'])))"
   ]
  },
  {
   "cell_type": "markdown",
   "metadata": {},
   "source": [
    "## Convert Genes"
   ]
  },
  {
   "cell_type": "code",
   "execution_count": 23,
   "metadata": {
    "ExecuteTime": {
     "end_time": "2022-04-18T22:55:03.654954Z",
     "start_time": "2022-04-18T22:55:03.586602Z"
    },
    "run_control": {
     "marked": false
    }
   },
   "outputs": [
    {
     "name": "stdout",
     "output_type": "stream",
     "text": [
      "19143 Valid Query Genes\n",
      "1162 Invalid Query Genes\n"
     ]
    }
   ],
   "source": [
    "# Construct list of genes to be submitted to MyGene.Info API (remove all genes with 'intact' prefix)\n",
    "query_string, valid_genes, invalid_genes = gct.query_constructor(genes, exclude_prefixes=['intact'])"
   ]
  },
  {
   "cell_type": "markdown",
   "metadata": {},
   "source": [
    "### Map isoforms to uniprot"
   ]
  },
  {
   "cell_type": "code",
   "execution_count": 24,
   "metadata": {
    "ExecuteTime": {
     "end_time": "2022-04-18T22:55:25.213910Z",
     "start_time": "2022-04-18T22:55:03.655739Z"
    }
   },
   "outputs": [],
   "source": [
    "uniprot_ids, missing = gct.query_uniprot(valid_genes, return_as_dict=False, target_fmt=\"ACC\")"
   ]
  },
  {
   "cell_type": "code",
   "execution_count": 25,
   "metadata": {
    "ExecuteTime": {
     "end_time": "2022-04-18T22:55:25.247996Z",
     "start_time": "2022-04-18T22:55:25.214756Z"
    }
   },
   "outputs": [
    {
     "name": "stdout",
     "output_type": "stream",
     "text": [
      "19171 Valid Query Genes\n",
      "0 Invalid Query Genes\n"
     ]
    }
   ],
   "source": [
    "uniprot_mapping = pd.concat([uniprot_ids, pd.DataFrame({\"query\":missing, \"ACC\":missing, \"_score\":0})])\n",
    "uniprot_query, valid_uniprot, invalid_uniprot = gct.query_constructor(uniprot_mapping[\"ACC\"].tolist())"
   ]
  },
  {
   "cell_type": "code",
   "execution_count": null,
   "metadata": {
    "ExecuteTime": {
     "end_time": "2022-02-24T21:21:11.815249Z",
     "start_time": "2022-02-24T21:21:11.789222Z"
    }
   },
   "outputs": [],
   "source": []
  },
  {
   "cell_type": "code",
   "execution_count": 26,
   "metadata": {
    "ExecuteTime": {
     "end_time": "2022-04-18T22:55:25.281366Z",
     "start_time": "2022-04-18T22:55:25.248750Z"
    },
    "run_control": {
     "marked": false
    }
   },
   "outputs": [
    {
     "name": "stdout",
     "output_type": "stream",
     "text": [
      "19171 Valid Query Genes\n",
      "0 Invalid Query Genes\n"
     ]
    }
   ],
   "source": [
    "uniprot_query, valid_uniprot, invalid_uniprot = gct.query_constructor(uniprot_mapping[\"ACC\"].tolist())"
   ]
  },
  {
   "cell_type": "markdown",
   "metadata": {},
   "source": [
    "### Map to gene symbols"
   ]
  },
  {
   "cell_type": "code",
   "execution_count": 27,
   "metadata": {
    "ExecuteTime": {
     "end_time": "2022-04-18T22:55:39.588790Z",
     "start_time": "2022-04-18T22:55:25.282070Z"
    },
    "run_control": {
     "marked": false
    }
   },
   "outputs": [
    {
     "name": "stderr",
     "output_type": "stream",
     "text": [
      "100%|██████████| 20/20 [00:14<00:00,  1.40it/s]"
     ]
    },
    {
     "name": "stdout",
     "output_type": "stream",
     "text": [
      "19414 Matched query results\n",
      "Batch query complete: 14.3 seconds\n",
      "19414 Matched query results\n"
     ]
    },
    {
     "name": "stderr",
     "output_type": "stream",
     "text": [
      "\n"
     ]
    }
   ],
   "source": [
    "# Original 19368 matched query results\n",
    "# Set scopes (gene naming systems to search)\n",
    "scopes = \"uniprot, ensemblgene\"\n",
    "\n",
    "# Set fields (systems from which to return gene names from)\n",
    "fields = \"symbol, entrezgene\"\n",
    "\n",
    "# Query MyGene.Info\n",
    "match_list = gct.query_batch(uniprot_query, scopes=scopes, fields=fields)\n",
    "print(len(match_list), 'Matched query results')"
   ]
  },
  {
   "cell_type": "code",
   "execution_count": 28,
   "metadata": {
    "ExecuteTime": {
     "end_time": "2022-04-18T22:55:39.608403Z",
     "start_time": "2022-04-18T22:55:39.592219Z"
    },
    "run_control": {
     "marked": false
    }
   },
   "outputs": [],
   "source": [
    "match_list = pd.DataFrame.from_dict(match_list)"
   ]
  },
  {
   "cell_type": "code",
   "execution_count": 29,
   "metadata": {
    "ExecuteTime": {
     "end_time": "2022-04-18T22:55:39.630474Z",
     "start_time": "2022-04-18T22:55:39.609249Z"
    }
   },
   "outputs": [],
   "source": [
    "match_list_final = match_list_v2.merge(uniprot_mapping, left_on = [\"query\"], right_on=[\"ACC\"])\n",
    "match_list_final = match_list_final.loc[:, (\"query_y\", \"_id\", \"_score_x\", \"symbol\", \"notfound\")]\n",
    "match_list_final.columns = [\"query\", \"entrezgene\", \"_score\", \"symbol\", \"notfound\"]"
   ]
  },
  {
   "cell_type": "code",
   "execution_count": 30,
   "metadata": {
    "ExecuteTime": {
     "end_time": "2022-04-18T22:55:39.716822Z",
     "start_time": "2022-04-18T22:55:39.631357Z"
    },
    "run_control": {
     "marked": false
    },
    "scrolled": true
   },
   "outputs": [
    {
     "name": "stdout",
     "output_type": "stream",
     "text": [
      "Number of genes with multiple matches: 11490\n",
      "Number of unmatched genes: 993\n",
      "Number of fully matched genes: 17879\n",
      "Number of partially matched genes: 1004\n"
     ]
    }
   ],
   "source": [
    "#Original unmatched = 4329\n",
    "\n",
    "match_table_trim, query_to_symbol, query_to_entrez = gct.construct_query_map_table(match_list_final, valid_uniprot)"
   ]
  },
  {
   "cell_type": "markdown",
   "metadata": {},
   "source": [
    "## Construct Converted Network"
   ]
  },
  {
   "cell_type": "code",
   "execution_count": 31,
   "metadata": {
    "ExecuteTime": {
     "end_time": "2022-04-18T22:55:39.871195Z",
     "start_time": "2022-04-18T22:55:39.717782Z"
    },
    "run_control": {
     "marked": false
    }
   },
   "outputs": [],
   "source": [
    "edgelist = input_human[['#ID(s) interactor A', 'ID(s) interactor B']].drop_duplicates().values.tolist()"
   ]
  },
  {
   "cell_type": "code",
   "execution_count": 32,
   "metadata": {
    "ExecuteTime": {
     "end_time": "2022-04-18T22:55:42.415019Z",
     "start_time": "2022-04-18T22:55:39.872099Z"
    },
    "run_control": {
     "marked": false
    }
   },
   "outputs": [
    {
     "name": "stdout",
     "output_type": "stream",
     "text": [
      "5864 / 161035 edges with invalid nodes removed\n"
     ]
    }
   ],
   "source": [
    "# Original = 5864/161035\n",
    "# Filter query edgelist of interactions with invalid genes\n",
    "edgelist = gct.filter_query_edgelist(edgelist, invalid_genes)\n"
   ]
  },
  {
   "cell_type": "code",
   "execution_count": 33,
   "metadata": {
    "ExecuteTime": {
     "end_time": "2022-04-18T22:55:42.659979Z",
     "start_time": "2022-04-18T22:55:42.416064Z"
    },
    "run_control": {
     "marked": false
    }
   },
   "outputs": [],
   "source": [
    "# Format edge list by removing 'uniprot:' prefix from all interactors\n",
    "edgelist = [[gct.get_identifier_without_prefix(edge[0]), gct.get_identifier_without_prefix(edge[1])] for edge in edgelist]"
   ]
  },
  {
   "cell_type": "code",
   "execution_count": 34,
   "metadata": {
    "ExecuteTime": {
     "end_time": "2022-04-18T22:55:42.760295Z",
     "start_time": "2022-04-18T22:55:42.660775Z"
    },
    "run_control": {
     "marked": false
    }
   },
   "outputs": [],
   "source": [
    "# Convert network edge list to symbol\n",
    "edgelist_updated = gct.convert_edgelist(edgelist, query_to_symbol)"
   ]
  },
  {
   "cell_type": "code",
   "execution_count": 35,
   "metadata": {
    "ExecuteTime": {
     "end_time": "2022-04-18T22:55:42.836987Z",
     "start_time": "2022-04-18T22:55:42.761071Z"
    },
    "run_control": {
     "marked": false
    }
   },
   "outputs": [
    {
     "name": "stdout",
     "output_type": "stream",
     "text": [
      "155171 input edges\n",
      "1785 self-edges removed\n",
      "6178 edges with un-mapped genes removed\n",
      "22597 duplicate edges removed\n",
      "Edge list filtered: 0.07 seconds\n",
      "124611 Edges remaining\n"
     ]
    }
   ],
   "source": [
    "## Original stats##\n",
    "#155171 input edges\n",
    "#3236 self-edges removed\n",
    "#20662 edges with un-mapped genes removed\n",
    "#16701 duplicate edges removed\n",
    "#Edge list filtered: 0.43 seconds\n",
    "#114572 Edges remaining\n",
    "\n",
    "# Filter converted edge list\n",
    "edgelist_filt = gct.filter_converted_edgelist(edgelist_updated)"
   ]
  },
  {
   "cell_type": "code",
   "execution_count": 36,
   "metadata": {
    "ExecuteTime": {
     "end_time": "2022-04-18T22:55:43.017772Z",
     "start_time": "2022-04-18T22:55:42.837864Z"
    },
    "run_control": {
     "marked": false
    }
   },
   "outputs": [
    {
     "name": "stdout",
     "output_type": "stream",
     "text": [
      "Edge list saved: 0.18 seconds\n"
     ]
    }
   ],
   "source": [
    "# Save filtered, converted edge list to file\n",
    "gct.write_edgelist(edgelist_filt, wd+'/Processed_Data/Network_SIFs_Symbol/IntAct_Symbol_2016.sif')"
   ]
  },
  {
   "cell_type": "markdown",
   "metadata": {
    "collapsed": true
   },
   "source": [
    "# Changes\n",
    "* No changes identified in structure of data\n",
    "* Minor changes when re-running the original dataset due to updated symbol database being queried"
   ]
  },
  {
   "cell_type": "code",
   "execution_count": 37,
   "metadata": {
    "ExecuteTime": {
     "end_time": "2022-04-18T22:55:43.611020Z",
     "start_time": "2022-04-18T22:55:43.018602Z"
    }
   },
   "outputs": [
    {
     "data": {
      "image/png": "[encoded data removed]",
      "text/plain": [
       "<Figure size 1080x360 with 2 Axes>"
      ]
     },
     "metadata": {
      "needs_background": "light"
     },
     "output_type": "display_data"
    }
   ],
   "source": [
    "dit.plot_changes_to_dataset(input_raw, input_raw_v2, edgelist_filt, edgelist_filt_v2, input_human, input_human_v2)"
   ]
  },
  {
   "cell_type": "code",
   "execution_count": null,
   "metadata": {},
   "outputs": [],
   "source": [
    "len(set(edgelist_filt[\"symbol_n1\"]).union(set(edgelist_filt[\"\"])))"
   ]
  }
 ],
 "metadata": {
  "kernelspec": {
   "display_name": "Python [conda env:pcnet_py3]",
   "language": "python",
   "name": "conda-env-pcnet_py3-py"
  },
  "language_info": {
   "codemirror_mode": {
    "name": "ipython",
    "version": 3
   },
   "file_extension": ".py",
   "mimetype": "text/x-python",
   "name": "python",
   "nbconvert_exporter": "python",
   "pygments_lexer": "ipython3",
   "version": "3.10.0"
  },
  "toc": {
   "base_numbering": 1,
   "nav_menu": {},
   "number_sections": true,
   "sideBar": true,
   "skip_h1_title": false,
   "title_cell": "Table of Contents",
   "title_sidebar": "Contents",
   "toc_cell": false,
   "toc_position": {
    "height": "676px",
    "left": "49px",
    "top": "111.125px",
    "width": "212px"
   },
   "toc_section_display": true,
   "toc_window_display": true
  },
  "varInspector": {
   "cols": {
    "lenName": 16,
    "lenType": 16,
    "lenVar": 40
   },
   "kernels_config": {
    "python": {
     "delete_cmd_postfix": "",
     "delete_cmd_prefix": "del ",
     "library": "var_list.py",
     "varRefreshCmd": "print(var_dic_list())"
    },
    "r": {
     "delete_cmd_postfix": ") ",
     "delete_cmd_prefix": "rm(",
     "library": "var_list.r",
     "varRefreshCmd": "cat(var_dic_list()) "
    }
   },
   "types_to_exclude": [
    "module",
    "function",
    "builtin_function_or_method",
    "instance",
    "_Feature"
   ],
   "window_display": false
  }
 },
 "nbformat": 4,
 "nbformat_minor": 1
}
