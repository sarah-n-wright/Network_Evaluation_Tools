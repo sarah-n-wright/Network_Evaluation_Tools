{
 "cells": [
  {
   "cell_type": "code",
   "execution_count": 1,
   "metadata": {
    "ExecuteTime": {
     "end_time": "2022-04-18T23:21:52.539005Z",
     "start_time": "2022-04-18T23:21:49.440622Z"
    }
   },
   "outputs": [],
   "source": [
    "from network_evaluation_tools import gene_conversion_tools as gct\n",
    "from network_evaluation_tools import data_import_tools as dit\n",
    "import pandas as pd\n",
    "import itertools\n",
    "import time\n",
    "import matplotlib.pyplot as plt"
   ]
  },
  {
   "cell_type": "code",
   "execution_count": 2,
   "metadata": {
    "ExecuteTime": {
     "end_time": "2022-04-18T23:21:52.541550Z",
     "start_time": "2022-04-18T23:21:52.540004Z"
    }
   },
   "outputs": [],
   "source": [
    "wd = '/cellar/users/snwright/Data/Network_Analysis/'"
   ]
  },
  {
   "cell_type": "markdown",
   "metadata": {},
   "source": [
    "# Version 2.0\n",
    "## Load Reactome-Functional Interactions Raw Data\n",
    "#### Source: https://reactome.org/download/tools/ReatomeFIs/FIsInGene_122220_with_annotations.txt\n",
    "Downloaded: Nov 16, 2021  \n",
    "Last Updated: Dec 22, 2020    \n",
    "\n",
    "**Notes 2021:** \n",
    "* Gene naming appears to have improved. \n",
    "* Again ~85% of all interactions have the maximum score of 1.0 \n",
    "* From Reactome: \"The number of predicted FIs has dropped about 50% from Version 2019 to Version 2020 most likely because we excluded BioGrid protein-protein interactions collected in iRefIndex. We found an abnormal high odds ratio for mapped worm protein-protein interaction feature from BioGrid, which was much higher than human PPIs (120 vs. 80) and other no-human PPI features.\"\n"
   ]
  },
  {
   "cell_type": "code",
   "execution_count": 3,
   "metadata": {
    "ExecuteTime": {
     "end_time": "2022-04-18T23:21:52.839707Z",
     "start_time": "2022-04-18T23:21:52.542397Z"
    }
   },
   "outputs": [
    {
     "name": "stdout",
     "output_type": "stream",
     "text": [
      "Raw edges in ReactomeFI: 259151\n"
     ]
    }
   ],
   "source": [
    "Reactome_FIs_Raw_v2 = pd.read_csv(wd+'Network_Data_Raw/Reactome/FIsInGene_122220_with_annotations.txt',sep='\\t')\n",
    "print('Raw edges in ReactomeFI:', Reactome_FIs_Raw_v2.shape[0])"
   ]
  },
  {
   "cell_type": "code",
   "execution_count": 4,
   "metadata": {
    "ExecuteTime": {
     "end_time": "2022-04-18T23:21:52.854532Z",
     "start_time": "2022-04-18T23:21:52.841009Z"
    }
   },
   "outputs": [
    {
     "data": {
      "text/html": [
       "<div>\n",
       "<style scoped>\n",
       "    .dataframe tbody tr th:only-of-type {\n",
       "        vertical-align: middle;\n",
       "    }\n",
       "\n",
       "    .dataframe tbody tr th {\n",
       "        vertical-align: top;\n",
       "    }\n",
       "\n",
       "    .dataframe thead th {\n",
       "        text-align: right;\n",
       "    }\n",
       "</style>\n",
       "<table border=\"1\" class=\"dataframe\">\n",
       "  <thead>\n",
       "    <tr style=\"text-align: right;\">\n",
       "      <th></th>\n",
       "      <th>Gene1</th>\n",
       "      <th>Gene2</th>\n",
       "      <th>Annotation</th>\n",
       "      <th>Direction</th>\n",
       "      <th>Score</th>\n",
       "    </tr>\n",
       "  </thead>\n",
       "  <tbody>\n",
       "    <tr>\n",
       "      <th>0</th>\n",
       "      <td>16-5-5</td>\n",
       "      <td>CDC42</td>\n",
       "      <td>predicted</td>\n",
       "      <td>-</td>\n",
       "      <td>0.98</td>\n",
       "    </tr>\n",
       "    <tr>\n",
       "      <th>1</th>\n",
       "      <td>16-5-5</td>\n",
       "      <td>PARD3</td>\n",
       "      <td>predicted</td>\n",
       "      <td>-</td>\n",
       "      <td>1.00</td>\n",
       "    </tr>\n",
       "    <tr>\n",
       "      <th>2</th>\n",
       "      <td>16-5-5</td>\n",
       "      <td>PARD3B</td>\n",
       "      <td>predicted</td>\n",
       "      <td>-</td>\n",
       "      <td>1.00</td>\n",
       "    </tr>\n",
       "    <tr>\n",
       "      <th>3</th>\n",
       "      <td>A1CF</td>\n",
       "      <td>APOBEC1</td>\n",
       "      <td>catalyzed by; complex; input</td>\n",
       "      <td>&lt;-</td>\n",
       "      <td>1.00</td>\n",
       "    </tr>\n",
       "    <tr>\n",
       "      <th>4</th>\n",
       "      <td>A1CF</td>\n",
       "      <td>EP300</td>\n",
       "      <td>expression regulated by</td>\n",
       "      <td>&lt;-</td>\n",
       "      <td>1.00</td>\n",
       "    </tr>\n",
       "  </tbody>\n",
       "</table>\n",
       "</div>"
      ],
      "text/plain": [
       "    Gene1    Gene2                    Annotation Direction  Score\n",
       "0  16-5-5    CDC42                     predicted         -   0.98\n",
       "1  16-5-5    PARD3                     predicted         -   1.00\n",
       "2  16-5-5   PARD3B                     predicted         -   1.00\n",
       "3    A1CF  APOBEC1  catalyzed by; complex; input        <-   1.00\n",
       "4    A1CF    EP300       expression regulated by        <-   1.00"
      ]
     },
     "execution_count": 4,
     "metadata": {},
     "output_type": "execute_result"
    }
   ],
   "source": [
    "Reactome_FIs_Raw_v2.head()"
   ]
  },
  {
   "cell_type": "code",
   "execution_count": 5,
   "metadata": {
    "ExecuteTime": {
     "end_time": "2022-04-18T23:21:52.879633Z",
     "start_time": "2022-04-18T23:21:52.855392Z"
    }
   },
   "outputs": [
    {
     "data": {
      "text/plain": [
       "complex; input                                                                                                  64423\n",
       "predicted                                                                                                       41182\n",
       "complex                                                                                                         16502\n",
       "catalyzed by                                                                                                    11337\n",
       "catalyze                                                                                                        10691\n",
       "                                                                                                                ...  \n",
       "PPrel: activated by; complex; input; predicted; reaction                                                            1\n",
       "PPrel: activated by; PPrel: activation; activate; activated by; complex; inhibited by; input; reaction              1\n",
       "activated by; complex; inhibited by; input; reaction                                                                1\n",
       "PPrel: activated by; PPrel: activated, indirect effect; activated by; complex; inhibited by; input; reaction        1\n",
       "catalyzed by; expression regulates                                                                                  1\n",
       "Name: Annotation, Length: 2059, dtype: int64"
      ]
     },
     "execution_count": 5,
     "metadata": {},
     "output_type": "execute_result"
    }
   ],
   "source": [
    "Reactome_FIs_Raw_v2.Annotation.value_counts()"
   ]
  },
  {
   "cell_type": "code",
   "execution_count": 6,
   "metadata": {
    "ExecuteTime": {
     "end_time": "2022-04-18T23:21:52.959078Z",
     "start_time": "2022-04-18T23:21:52.880470Z"
    }
   },
   "outputs": [],
   "source": [
    "# Extract gene list\n",
    "Reactome_FIs_Raw_Genes_v2 = list(set(Reactome_FIs_Raw_v2['Gene1']).union(set(Reactome_FIs_Raw_v2['Gene2'])))"
   ]
  },
  {
   "cell_type": "code",
   "execution_count": 7,
   "metadata": {
    "ExecuteTime": {
     "end_time": "2022-04-18T23:21:52.999316Z",
     "start_time": "2022-04-18T23:21:52.960022Z"
    }
   },
   "outputs": [
    {
     "name": "stdout",
     "output_type": "stream",
     "text": [
      "13971 Valid Query Genes\n",
      "35 Invalid Query Genes:\n",
      "['EPHB2 VARIANT PROTEIN', 'PKB-LIKE 1', 'OK/SW-CL.65', 'YWHAE/FAM22A FUSION', 'IKBKAP VARIANT PROTEIN', 'OLFR 17-210', 'KIF5B-RET(NM_020630)_K15', 'APC VARIANT PROTEIN', 'KIF5B-RET(NM_020630)_K16', 'TSC1-PDGFRB FUSION', 'NUP98/HOXC13', 'PIK3CA VARIANT PROTEIN', 'PLCG1 VARIANT PROTEIN', 'KIF5B-RET(NM_020975)_K16', 'SYMPK VARIANT PROTEIN', 'KIF5B-RET(NM_020975)_K15', 'PDHA1/LOC79064', 'BCR/ABL FUSION', 'STAG1 VARIANT PROTEIN', 'PIK4CA VARIANT PROTEIN', 'PIK3C2B VARIANT PROTEIN', 'NUMA1 VARIANT PROTEIN', 'ITGA7 VARIANT PROTEIN', 'TNC VARIANT PROTEIN', 'KIF5B-RET(NM_020630)_K23', 'MYO1F VARIANT PROTEIN', 'YWHAE/FAM22B FUSION', 'WUGSC:H_GS165O14.2', 'KIF5B-RET(NM_020630)_K24', 'CD40 LIGAND', 'PLK-1 DELTA', 'KIF5B-RET(NM_020975)_K23', 'KIF5B-RET(NM_020630)_K22', 'MIR CL-10', 'KIF5B-RET(NM_020975)_K22']\n"
     ]
    }
   ],
   "source": [
    "# Find \"invalid genes\" by text format\n",
    "query_string_v2, valid_genes_v2, invalid_genes_v2 = gct.query_constructor(Reactome_FIs_Raw_Genes_v2, exclude_prefixes=['CHEBI'], print_invalid_genes=True)"
   ]
  },
  {
   "cell_type": "code",
   "execution_count": 8,
   "metadata": {
    "ExecuteTime": {
     "end_time": "2022-04-18T23:21:53.143470Z",
     "start_time": "2022-04-18T23:21:53.000045Z"
    }
   },
   "outputs": [],
   "source": [
    "# Get Edgelist of network\n",
    "query_edgelist_v2 = Reactome_FIs_Raw_v2[['Gene1','Gene2', 'Score']].values.tolist()"
   ]
  },
  {
   "cell_type": "code",
   "execution_count": 9,
   "metadata": {
    "ExecuteTime": {
     "end_time": "2022-04-18T23:21:53.315912Z",
     "start_time": "2022-04-18T23:21:53.144312Z"
    }
   },
   "outputs": [
    {
     "name": "stdout",
     "output_type": "stream",
     "text": [
      "743 / 259151 edges with invalid nodes removed\n"
     ]
    }
   ],
   "source": [
    "# Filter query edges\n",
    "query_edgelist_filt_v2 = gct.filter_query_edgelist(query_edgelist_v2,invalid_genes_v2)\n",
    "query_edgelist_filt_df_v2 = pd.DataFrame(query_edgelist_filt_v2, columns=[\"symbol_n1\", \"symbol_n2\", \"weight\"])"
   ]
  },
  {
   "cell_type": "code",
   "execution_count": 11,
   "metadata": {
    "ExecuteTime": {
     "end_time": "2022-04-18T23:22:13.214952Z",
     "start_time": "2022-04-18T23:22:13.072160Z"
    }
   },
   "outputs": [
    {
     "name": "stdout",
     "output_type": "stream",
     "text": [
      "258408 input edges\n",
      "0 self-edges removed\n",
      "0 edges with un-mapped genes removed\n",
      "0 duplicate edges removed\n",
      "Edge list filtered: 0.14 seconds\n",
      "258408 Edges remaining\n"
     ]
    }
   ],
   "source": [
    "# Filter edge list\n",
    "ReactomeFI_edgelist_filt_v2 = gct.filter_converted_edgelist(query_edgelist_filt_df_v2, weight_col=\"weight\")"
   ]
  },
  {
   "cell_type": "code",
   "execution_count": 12,
   "metadata": {
    "ExecuteTime": {
     "end_time": "2022-04-18T23:22:15.460157Z",
     "start_time": "2022-04-18T23:22:15.078718Z"
    }
   },
   "outputs": [
    {
     "name": "stdout",
     "output_type": "stream",
     "text": [
      "Edge list saved: 0.38 seconds\n"
     ]
    }
   ],
   "source": [
    "# Save filtered, converted edge list to file\n",
    "gct.write_edgelist(ReactomeFI_edgelist_filt_v2, wd+'Processed_Data/Network_SIFs_Symbol/ReactomeFI_Symbol_2020.sif', binary=False)"
   ]
  },
  {
   "cell_type": "code",
   "execution_count": 13,
   "metadata": {
    "ExecuteTime": {
     "end_time": "2022-04-18T23:22:16.831095Z",
     "start_time": "2022-04-18T23:22:16.821916Z"
    }
   },
   "outputs": [
    {
     "name": "stdout",
     "output_type": "stream",
     "text": [
      "1.0\n",
      "219779 / 258408 edges kept,  0.8505115940682951\n"
     ]
    }
   ],
   "source": [
    "# Assess the fraction of edges with the maximum score\n",
    "q_score = ReactomeFI_edgelist_filt_v2['weight'].quantile(0.9)\n",
    "print(q_score)\n",
    "ReactomeFI_edgelist_filt2_v2 = ReactomeFI_edgelist_filt_v2[ReactomeFI_edgelist_filt_v2['weight']>=q_score]\n",
    "print(ReactomeFI_edgelist_filt2_v2.shape[0], '/', ReactomeFI_edgelist_filt_v2.shape[0], 'edges kept, ', float(ReactomeFI_edgelist_filt2_v2.shape[0])/ReactomeFI_edgelist_filt_v2.shape[0])"
   ]
  },
  {
   "cell_type": "markdown",
   "metadata": {},
   "source": [
    "# Version 1.0 (original)\n",
    "## Load Reactome-Functional Interactions Raw Data\n",
    "#### Source: http://reactomews.oicr.on.ca:8080/caBigR3WebApp2016/FIsInGene_022717_with_annotations.txt.zip\n",
    "Downloaded: June 15, 2017  \n",
    "Last Updated: February 27, 2017  \n",
    "Note about processing: It looks like most of the edges are given as gene symbols but many of them seem to be invalid names, so we will use some of the gene conversion tools to filter these results as best we can."
   ]
  },
  {
   "cell_type": "code",
   "execution_count": 14,
   "metadata": {
    "ExecuteTime": {
     "end_time": "2022-04-18T23:22:25.422768Z",
     "start_time": "2022-04-18T23:22:25.086100Z"
    }
   },
   "outputs": [
    {
     "name": "stdout",
     "output_type": "stream",
     "text": [
      "Raw edges in ReactomeFI: 230243\n"
     ]
    }
   ],
   "source": [
    "Reactome_FIs_Raw = pd.read_csv(wd+'Network_Data_Raw/Reactome/FIsInGene_022717_with_annotations.txt',sep='\\t')\n",
    "print('Raw edges in ReactomeFI:', Reactome_FIs_Raw.shape[0])"
   ]
  },
  {
   "cell_type": "code",
   "execution_count": 15,
   "metadata": {
    "ExecuteTime": {
     "end_time": "2022-04-18T23:22:25.438210Z",
     "start_time": "2022-04-18T23:22:25.423704Z"
    }
   },
   "outputs": [
    {
     "data": {
      "text/plain": [
       "complex; input                                                                                                  58769\n",
       "predicted                                                                                                       31807\n",
       "complex                                                                                                         17348\n",
       "catalyzed by                                                                                                    12665\n",
       "catalyze                                                                                                        12638\n",
       "                                                                                                                ...  \n",
       "PPrel: activated by; PPrel: activated, indirect effect; activated by; complex; inhibited by; input; reaction        1\n",
       "PPrel: activated by; PPrel: binding/association; activated by; complex; inhibited by; input; reaction               1\n",
       "PPrel: activated by, phosphorylation; activated by; complex                                                         1\n",
       "PPrel: ubiquitination; activate                                                                                     1\n",
       "GErel: expression; PPrel: inhibited by; expression regulates                                                        1\n",
       "Name: Annotation, Length: 1714, dtype: int64"
      ]
     },
     "execution_count": 15,
     "metadata": {},
     "output_type": "execute_result"
    }
   ],
   "source": [
    "Reactome_FIs_Raw.Annotation.value_counts()"
   ]
  },
  {
   "cell_type": "code",
   "execution_count": 16,
   "metadata": {
    "ExecuteTime": {
     "end_time": "2022-04-18T23:22:25.472856Z",
     "start_time": "2022-04-18T23:22:25.439009Z"
    }
   },
   "outputs": [],
   "source": [
    "# Extract gene list\n",
    "Reactome_FIs_Raw_Genes = list(set(Reactome_FIs_Raw['Gene1']).union(set(Reactome_FIs_Raw['Gene2'])))"
   ]
  },
  {
   "cell_type": "code",
   "execution_count": 17,
   "metadata": {
    "ExecuteTime": {
     "end_time": "2022-04-18T23:22:25.509637Z",
     "start_time": "2022-04-18T23:22:25.473924Z"
    }
   },
   "outputs": [
    {
     "name": "stdout",
     "output_type": "stream",
     "text": [
      "12254 Valid Query Genes\n",
      "23 Invalid Query Genes:\n",
      "['IGKV A18', 'EPHB2 VARIANT PROTEIN', 'YWHAE/FAM22A FUSION', 'APC VARIANT PROTEIN', 'RUNX1/CBFA2T2 FUSION', 'PIK3CA VARIANT PROTEIN', 'PLCG1 VARIANT PROTEIN', 'PDHA1/LOC79064', 'BCR/ABL FUSION', 'STAG1 VARIANT PROTEIN', 'PIK4CA VARIANT PROTEIN', 'PIK3C2B VARIANT PROTEIN', 'BETA 2-MICROGLOBULIN', 'NUMA1 VARIANT PROTEIN', 'ITGA7 VARIANT PROTEIN', 'TNC VARIANT PROTEIN', 'YWHAE/FAM22B FUSION', 'WUGSC:H_GS165O14.2', '<ALPHA><BETA>CREB-1', 'ATP2B2 VARIANT PROTEIN', 'RUNX1/C20ORF112 FUSION', 'CD40 LIGAND', 'MIR CL-10']\n"
     ]
    }
   ],
   "source": [
    "# Find \"invalid genes\" by text format\n",
    "query_string, valid_genes, invalid_genes = gct.query_constructor(Reactome_FIs_Raw_Genes, exclude_prefixes=['CHEBI'], print_invalid_genes=True)"
   ]
  },
  {
   "cell_type": "code",
   "execution_count": 18,
   "metadata": {
    "ExecuteTime": {
     "end_time": "2022-04-18T23:22:25.625167Z",
     "start_time": "2022-04-18T23:22:25.510305Z"
    }
   },
   "outputs": [],
   "source": [
    "# Get Edgelist of network\n",
    "query_edgelist = Reactome_FIs_Raw[['Gene1','Gene2', 'Score']].values.tolist()"
   ]
  },
  {
   "cell_type": "code",
   "execution_count": 19,
   "metadata": {
    "ExecuteTime": {
     "end_time": "2022-04-18T23:22:25.744427Z",
     "start_time": "2022-04-18T23:22:25.626472Z"
    }
   },
   "outputs": [
    {
     "name": "stdout",
     "output_type": "stream",
     "text": [
      "820 / 230243 edges with invalid nodes removed\n"
     ]
    }
   ],
   "source": [
    "# Filter query edges\n",
    "query_edgelist_filt = gct.filter_query_edgelist(query_edgelist,invalid_genes)\n",
    "query_edgelist_filt_df = pd.DataFrame(query_edgelist_filt, columns=[\"symbol_n1\", \"symbol_n2\", \"weight\"])"
   ]
  },
  {
   "cell_type": "code",
   "execution_count": 21,
   "metadata": {
    "ExecuteTime": {
     "end_time": "2022-04-18T23:22:34.926992Z",
     "start_time": "2022-04-18T23:22:34.803752Z"
    }
   },
   "outputs": [
    {
     "name": "stdout",
     "output_type": "stream",
     "text": [
      "229423 input edges\n",
      "0 self-edges removed\n",
      "0 edges with un-mapped genes removed\n",
      "0 duplicate edges removed\n",
      "Edge list filtered: 0.12 seconds\n",
      "229423 Edges remaining\n"
     ]
    }
   ],
   "source": [
    "# Filter edge list\n",
    "ReactomeFI_edgelist_filt = gct.filter_converted_edgelist(query_edgelist_filt_df, weight_col=\"weight\")"
   ]
  },
  {
   "cell_type": "code",
   "execution_count": 22,
   "metadata": {
    "ExecuteTime": {
     "end_time": "2022-04-18T23:22:40.879630Z",
     "start_time": "2022-04-18T23:22:40.570982Z"
    }
   },
   "outputs": [
    {
     "name": "stdout",
     "output_type": "stream",
     "text": [
      "Edge list saved: 0.31 seconds\n"
     ]
    }
   ],
   "source": [
    "# Save filtered, converted edge list to file\n",
    "gct.write_edgelist(ReactomeFI_edgelist_filt, wd+'Processed_Data/Network_SIFs_Symbol/ReactomeFI_Symbol_2017.sif', binary=False)"
   ]
  },
  {
   "cell_type": "code",
   "execution_count": null,
   "metadata": {
    "ExecuteTime": {
     "end_time": "2022-04-18T23:22:25.765878Z",
     "start_time": "2022-04-18T23:22:25.765869Z"
    }
   },
   "outputs": [],
   "source": [
    "# Create filtered network\n",
    "ReactomeFI90_edgelist = dit.filter_weighted_network_sif(wd+'Processed_Data/Network_SIFs_Symbol/ReactomeFI_Symbol_2017.sif', nodeA_col=0, nodeB_col=1, score_col=2, \n",
    "                                                        q=0.9, delimiter='\\t', verbose=True, save_path=wd+'Processed_Data/Network_SIFs_Symbol/ReactomeFI90_edgelist_Symbol_2017.sif')"
   ]
  },
  {
   "cell_type": "code",
   "execution_count": null,
   "metadata": {
    "ExecuteTime": {
     "end_time": "2022-04-18T23:22:25.766422Z",
     "start_time": "2022-04-18T23:22:25.766413Z"
    }
   },
   "outputs": [],
   "source": [
    "# The filter function didn't work here because the max value makes up >90% of the edges. \n",
    "# We need to filter but keep all max edges instead\n",
    "ReactomeFI_edgelist_filt.columns=['NodeA', 'NodeB', 'Score']"
   ]
  },
  {
   "cell_type": "code",
   "execution_count": null,
   "metadata": {
    "ExecuteTime": {
     "end_time": "2022-04-18T23:22:25.766842Z",
     "start_time": "2022-04-18T23:22:25.766834Z"
    }
   },
   "outputs": [],
   "source": [
    "q_score = ReactomeFI_edgelist_filt['Score'].quantile(0.9)\n",
    "print(q_score)\n",
    "ReactomeFI_edgelist_filt2 = ReactomeFI_edgelist_filt[ReactomeFI_edgelist_filt['Score']>=q_score]\n",
    "print(ReactomeFI_edgelist_filt2.shape[0], '/', ReactomeFI_edgelist_filt.shape[0], 'edges kept, ', float(ReactomeFI_edgelist_filt2.shape[0])/ReactomeFI_edgelist_filt.shape[0])"
   ]
  },
  {
   "cell_type": "code",
   "execution_count": null,
   "metadata": {
    "ExecuteTime": {
     "end_time": "2022-04-18T23:22:25.767259Z",
     "start_time": "2022-04-18T23:22:25.767251Z"
    }
   },
   "outputs": [],
   "source": [
    "# Essentially >85% of the edges have the 'maximum score' which makes almost no sense for filtering further"
   ]
  },
  {
   "cell_type": "markdown",
   "metadata": {},
   "source": [
    "# Changes"
   ]
  },
  {
   "cell_type": "code",
   "execution_count": null,
   "metadata": {
    "ExecuteTime": {
     "end_time": "2022-04-18T23:22:25.767669Z",
     "start_time": "2022-04-18T23:22:25.767661Z"
    }
   },
   "outputs": [],
   "source": [
    "stats = pd.DataFrame({\"v1\":[230243, 229423, 198541, 31807], \n",
    "                           \"v2\":[259151, 259151-743, 219779, 41182]},\n",
    "                           index=[\"input\", \"valid nodes\", \"score=1\", \"predicted\"])"
   ]
  },
  {
   "cell_type": "code",
   "execution_count": null,
   "metadata": {
    "ExecuteTime": {
     "end_time": "2022-04-18T23:22:25.768075Z",
     "start_time": "2022-04-18T23:22:25.768065Z"
    }
   },
   "outputs": [],
   "source": [
    "nodes_v1 = set(np.array(ReactomeFI_edgelist_filt)[:, 0]).union(set(np.array(ReactomeFI_edgelist_filt)[:, 1]))\n",
    "nodes_v2 = set(np.array(ReactomeFI_edgelist_filt_v2)[:, 0]).union(set(np.array(ReactomeFI_edgelist_filt_v2)[:, 1]))\n"
   ]
  },
  {
   "cell_type": "code",
   "execution_count": null,
   "metadata": {
    "ExecuteTime": {
     "end_time": "2022-04-18T23:22:25.768477Z",
     "start_time": "2022-04-18T23:22:25.768469Z"
    }
   },
   "outputs": [],
   "source": [
    "stats.plot.bar(ylabel=\"Number of edges\")\n",
    "plt.figure()\n",
    "plt.bar([\"v1\", \"v2\", \"total difference\", \"new V2\", \"removed V2\"], [len(nodes_v1), len(nodes_v2), len(nodes_v2)-len(nodes_v1),\n",
    "                                                           len(nodes_v2.difference(nodes_v1)), len(nodes_v1.difference(nodes_v2))])\n",
    "plt.ylabel(\"Number of nodes\")"
   ]
  },
  {
   "cell_type": "code",
   "execution_count": 23,
   "metadata": {
    "ExecuteTime": {
     "end_time": "2022-04-18T23:23:07.360993Z",
     "start_time": "2022-04-18T23:23:07.327614Z"
    }
   },
   "outputs": [
    {
     "data": {
      "text/plain": [
       "12254"
      ]
     },
     "execution_count": 23,
     "metadata": {},
     "output_type": "execute_result"
    }
   ],
   "source": [
    "len(set(ReactomeFI_edgelist_filt[\"symbol_n1\"]).union(set(ReactomeFI_edgelist_filt[\"symbol_n2\"])))\n"
   ]
  },
  {
   "cell_type": "code",
   "execution_count": null,
   "metadata": {},
   "outputs": [],
   "source": [
    "len(set(ReactomeFI_edgelist_filt_v2[\"symbol_n1\"]).union(set(ReactomeFI_edgelist_filt_v2[\"symbol_n2\"])))"
   ]
  }
 ],
 "metadata": {
  "kernelspec": {
   "display_name": "Python [conda env:pcnet_py3]",
   "language": "python",
   "name": "conda-env-pcnet_py3-py"
  },
  "language_info": {
   "codemirror_mode": {
    "name": "ipython",
    "version": 3
   },
   "file_extension": ".py",
   "mimetype": "text/x-python",
   "name": "python",
   "nbconvert_exporter": "python",
   "pygments_lexer": "ipython3",
   "version": "3.10.0"
  },
  "toc": {
   "base_numbering": 1,
   "nav_menu": {},
   "number_sections": true,
   "sideBar": true,
   "skip_h1_title": false,
   "title_cell": "Table of Contents",
   "title_sidebar": "Contents",
   "toc_cell": false,
   "toc_position": {},
   "toc_section_display": true,
   "toc_window_display": false
  },
  "varInspector": {
   "cols": {
    "lenName": 16,
    "lenType": 16,
    "lenVar": 40
   },
   "kernels_config": {
    "python": {
     "delete_cmd_postfix": "",
     "delete_cmd_prefix": "del ",
     "library": "var_list.py",
     "varRefreshCmd": "print(var_dic_list())"
    },
    "r": {
     "delete_cmd_postfix": ") ",
     "delete_cmd_prefix": "rm(",
     "library": "var_list.r",
     "varRefreshCmd": "cat(var_dic_list()) "
    }
   },
   "types_to_exclude": [
    "module",
    "function",
    "builtin_function_or_method",
    "instance",
    "_Feature"
   ],
   "window_display": false
  }
 },
 "nbformat": 4,
 "nbformat_minor": 1
}
