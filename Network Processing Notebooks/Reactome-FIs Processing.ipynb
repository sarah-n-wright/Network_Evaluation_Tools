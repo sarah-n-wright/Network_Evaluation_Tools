{
 "cells": [
  {
   "cell_type": "code",
   "execution_count": 2,
   "metadata": {
    "ExecuteTime": {
     "end_time": "2021-12-23T00:18:42.187674Z",
     "start_time": "2021-12-23T00:18:42.185724Z"
    }
   },
   "outputs": [],
   "source": [
    "from network_evaluation_tools import gene_conversion_tools as gct\n",
    "from network_evaluation_tools import data_import_tools as dit\n",
    "import pandas as pd\n",
    "import itertools\n",
    "import time\n",
    "import matplotlib.pyplot as plt"
   ]
  },
  {
   "cell_type": "code",
   "execution_count": 3,
   "metadata": {
    "ExecuteTime": {
     "end_time": "2021-12-23T00:18:43.659245Z",
     "start_time": "2021-12-23T00:18:43.657667Z"
    }
   },
   "outputs": [],
   "source": [
    "wd = '/cellar/users/snwright/Data/Network_Analysis/'"
   ]
  },
  {
   "cell_type": "markdown",
   "metadata": {},
   "source": [
    "# Version 2.0\n",
    "## Load Reactome-Functional Interactions Raw Data\n",
    "#### Source: https://reactome.org/download/tools/ReatomeFIs/FIsInGene_122220_with_annotations.txt\n",
    "Downloaded: Nov 16, 2021  \n",
    "Last Updated: Dec 22, 2020    \n",
    "\n",
    "**Notes 2021:** \n",
    "* Gene naming appears to have improved. \n",
    "* Again ~85% of all interactions have the maximum score of 1.0 \n",
    "* From Reactome: \"The number of predicted FIs has dropped about 50% from Version 2019 to Version 2020 most likely because we excluded BioGrid protein-protein interactions collected in iRefIndex. We found an abnormal high odds ratio for mapped worm protein-protein interaction feature from BioGrid, which was much higher than human PPIs (120 vs. 80) and other no-human PPI features.\"\n"
   ]
  },
  {
   "cell_type": "code",
   "execution_count": 37,
   "metadata": {
    "ExecuteTime": {
     "end_time": "2021-12-23T00:29:57.970596Z",
     "start_time": "2021-12-23T00:29:57.851521Z"
    }
   },
   "outputs": [
    {
     "name": "stdout",
     "output_type": "stream",
     "text": [
      "Raw edges in ReactomeFI: 259151\n"
     ]
    }
   ],
   "source": [
    "Reactome_FIs_Raw_v2 = pd.read_csv(wd+'Network_Data_Raw/Reactome/FIsInGene_122220_with_annotations.txt',sep='\\t')\n",
    "print('Raw edges in ReactomeFI:', Reactome_FIs_Raw_v2.shape[0])"
   ]
  },
  {
   "cell_type": "code",
   "execution_count": 38,
   "metadata": {
    "ExecuteTime": {
     "end_time": "2021-12-23T00:31:24.830156Z",
     "start_time": "2021-12-23T00:31:24.824459Z"
    }
   },
   "outputs": [
    {
     "data": {
      "text/html": [
       "<div>\n",
       "<style scoped>\n",
       "    .dataframe tbody tr th:only-of-type {\n",
       "        vertical-align: middle;\n",
       "    }\n",
       "\n",
       "    .dataframe tbody tr th {\n",
       "        vertical-align: top;\n",
       "    }\n",
       "\n",
       "    .dataframe thead th {\n",
       "        text-align: right;\n",
       "    }\n",
       "</style>\n",
       "<table border=\"1\" class=\"dataframe\">\n",
       "  <thead>\n",
       "    <tr style=\"text-align: right;\">\n",
       "      <th></th>\n",
       "      <th>Gene1</th>\n",
       "      <th>Gene2</th>\n",
       "      <th>Annotation</th>\n",
       "      <th>Direction</th>\n",
       "      <th>Score</th>\n",
       "    </tr>\n",
       "  </thead>\n",
       "  <tbody>\n",
       "    <tr>\n",
       "      <th>0</th>\n",
       "      <td>16-5-5</td>\n",
       "      <td>CDC42</td>\n",
       "      <td>predicted</td>\n",
       "      <td>-</td>\n",
       "      <td>0.98</td>\n",
       "    </tr>\n",
       "    <tr>\n",
       "      <th>1</th>\n",
       "      <td>16-5-5</td>\n",
       "      <td>PARD3</td>\n",
       "      <td>predicted</td>\n",
       "      <td>-</td>\n",
       "      <td>1.00</td>\n",
       "    </tr>\n",
       "    <tr>\n",
       "      <th>2</th>\n",
       "      <td>16-5-5</td>\n",
       "      <td>PARD3B</td>\n",
       "      <td>predicted</td>\n",
       "      <td>-</td>\n",
       "      <td>1.00</td>\n",
       "    </tr>\n",
       "    <tr>\n",
       "      <th>3</th>\n",
       "      <td>A1CF</td>\n",
       "      <td>APOBEC1</td>\n",
       "      <td>catalyzed by; complex; input</td>\n",
       "      <td>&lt;-</td>\n",
       "      <td>1.00</td>\n",
       "    </tr>\n",
       "    <tr>\n",
       "      <th>4</th>\n",
       "      <td>A1CF</td>\n",
       "      <td>EP300</td>\n",
       "      <td>expression regulated by</td>\n",
       "      <td>&lt;-</td>\n",
       "      <td>1.00</td>\n",
       "    </tr>\n",
       "  </tbody>\n",
       "</table>\n",
       "</div>"
      ],
      "text/plain": [
       "    Gene1    Gene2                    Annotation Direction  Score\n",
       "0  16-5-5    CDC42                     predicted         -   0.98\n",
       "1  16-5-5    PARD3                     predicted         -   1.00\n",
       "2  16-5-5   PARD3B                     predicted         -   1.00\n",
       "3    A1CF  APOBEC1  catalyzed by; complex; input        <-   1.00\n",
       "4    A1CF    EP300       expression regulated by        <-   1.00"
      ]
     },
     "execution_count": 38,
     "metadata": {},
     "output_type": "execute_result"
    }
   ],
   "source": [
    "Reactome_FIs_Raw_v2.head()"
   ]
  },
  {
   "cell_type": "code",
   "execution_count": 41,
   "metadata": {
    "ExecuteTime": {
     "end_time": "2021-12-23T00:32:37.127697Z",
     "start_time": "2021-12-23T00:32:37.087859Z"
    }
   },
   "outputs": [
    {
     "data": {
      "text/plain": [
       "complex; input                                                                                                  64423\n",
       "predicted                                                                                                       41182\n",
       "complex                                                                                                         16502\n",
       "catalyzed by                                                                                                    11337\n",
       "catalyze                                                                                                        10691\n",
       "                                                                                                                ...  \n",
       "PPrel: activated by; complex; input; predicted; reaction                                                            1\n",
       "PPrel: activated by; PPrel: activation; activate; activated by; complex; inhibited by; input; reaction              1\n",
       "activated by; complex; inhibited by; input; reaction                                                                1\n",
       "PPrel: activated by; PPrel: activated, indirect effect; activated by; complex; inhibited by; input; reaction        1\n",
       "catalyzed by; expression regulates                                                                                  1\n",
       "Name: Annotation, Length: 2059, dtype: int64"
      ]
     },
     "execution_count": 41,
     "metadata": {},
     "output_type": "execute_result"
    }
   ],
   "source": [
    "Reactome_FIs_Raw_v2.Annotation.value_counts()"
   ]
  },
  {
   "cell_type": "code",
   "execution_count": 39,
   "metadata": {
    "ExecuteTime": {
     "end_time": "2021-12-23T00:31:37.772403Z",
     "start_time": "2021-12-23T00:31:37.734870Z"
    }
   },
   "outputs": [],
   "source": [
    "# Extract gene list\n",
    "Reactome_FIs_Raw_Genes_v2 = list(set(Reactome_FIs_Raw_v2['Gene1']).union(set(Reactome_FIs_Raw_v2['Gene2'])))"
   ]
  },
  {
   "cell_type": "code",
   "execution_count": 40,
   "metadata": {
    "ExecuteTime": {
     "end_time": "2021-12-23T00:32:08.892056Z",
     "start_time": "2021-12-23T00:32:08.860884Z"
    }
   },
   "outputs": [
    {
     "name": "stdout",
     "output_type": "stream",
     "text": [
      "13971 Valid Query Genes\n",
      "35 Invalid Query Genes:\n",
      "['NUP98/HOXC13', 'KIF5B-RET(NM_020630)_K23', 'WUGSC:H_GS165O14.2', 'OLFR 17-210', 'IKBKAP VARIANT PROTEIN', 'APC VARIANT PROTEIN', 'EPHB2 VARIANT PROTEIN', 'STAG1 VARIANT PROTEIN', 'MIR CL-10', 'PLK-1 DELTA', 'KIF5B-RET(NM_020975)_K15', 'PIK3C2B VARIANT PROTEIN', 'ITGA7 VARIANT PROTEIN', 'SYMPK VARIANT PROTEIN', 'PIK3CA VARIANT PROTEIN', 'KIF5B-RET(NM_020630)_K16', 'KIF5B-RET(NM_020630)_K24', 'YWHAE/FAM22B FUSION', 'TSC1-PDGFRB FUSION', 'KIF5B-RET(NM_020975)_K23', 'KIF5B-RET(NM_020975)_K16', 'OK/SW-CL.65', 'TNC VARIANT PROTEIN', 'PDHA1/LOC79064', 'KIF5B-RET(NM_020630)_K22', 'YWHAE/FAM22A FUSION', 'KIF5B-RET(NM_020975)_K22', 'BCR/ABL FUSION', 'PKB-LIKE 1', 'CD40 LIGAND', 'MYO1F VARIANT PROTEIN', 'KIF5B-RET(NM_020630)_K15', 'PLCG1 VARIANT PROTEIN', 'NUMA1 VARIANT PROTEIN', 'PIK4CA VARIANT PROTEIN']\n"
     ]
    }
   ],
   "source": [
    "# Find \"invalid genes\" by text format\n",
    "query_string_v2, valid_genes_v2, invalid_genes_v2 = gct.query_constructor(Reactome_FIs_Raw_Genes_v2, exclude_prefixes=['CHEBI'], print_invalid_genes=True)"
   ]
  },
  {
   "cell_type": "code",
   "execution_count": 46,
   "metadata": {
    "ExecuteTime": {
     "end_time": "2021-12-23T00:34:38.444647Z",
     "start_time": "2021-12-23T00:34:38.308805Z"
    }
   },
   "outputs": [],
   "source": [
    "# Get Edgelist of network\n",
    "query_edgelist_v2 = Reactome_FIs_Raw_v2[['Gene1','Gene2', 'Score']].values.tolist()"
   ]
  },
  {
   "cell_type": "code",
   "execution_count": 47,
   "metadata": {
    "ExecuteTime": {
     "end_time": "2021-12-23T00:34:54.225637Z",
     "start_time": "2021-12-23T00:34:54.054516Z"
    }
   },
   "outputs": [
    {
     "name": "stdout",
     "output_type": "stream",
     "text": [
      "743 / 259151 edges with invalid nodes removed\n"
     ]
    }
   ],
   "source": [
    "# Filter query edges\n",
    "query_edgelist_filt_v2 = gct.filter_query_edgelist(query_edgelist_v2,invalid_genes_v2)\n",
    "query_edgelist_filt_df_v2 = pd.DataFrame(query_edgelist_filt_v2, columns=[\"symbol_n1\", \"symbol_n2\", \"weight\"])"
   ]
  },
  {
   "cell_type": "code",
   "execution_count": 48,
   "metadata": {
    "ExecuteTime": {
     "end_time": "2021-12-23T00:35:10.683529Z",
     "start_time": "2021-12-23T00:35:10.575355Z"
    }
   },
   "outputs": [
    {
     "name": "stdout",
     "output_type": "stream",
     "text": [
      "258408 input edges\n",
      "0 self-edges removed\n",
      "0 edges with un-mapped genes removed\n",
      "0 duplicate edges removed\n",
      "Edge list filtered: 0.1 seconds\n",
      "258408 Edges remaining\n"
     ]
    }
   ],
   "source": [
    "# Filter edge list\n",
    "ReactomeFI_edgelist_filt_v2 = gct.filter_converted_edgelist(query_edgelist_filt_df_v2, weighted=True)"
   ]
  },
  {
   "cell_type": "code",
   "execution_count": 51,
   "metadata": {
    "ExecuteTime": {
     "end_time": "2021-12-23T00:36:18.025304Z",
     "start_time": "2021-12-23T00:36:17.701489Z"
    }
   },
   "outputs": [
    {
     "name": "stdout",
     "output_type": "stream",
     "text": [
      "Edge list saved: 0.32 seconds\n"
     ]
    }
   ],
   "source": [
    "# Save filtered, converted edge list to file\n",
    "gct.write_edgelist(ReactomeFI_edgelist_filt_v2, wd+'Processed_Data/Network_SIFs_Symbol/ReactomeFI_Symbol_2020.sif', binary=False)"
   ]
  },
  {
   "cell_type": "code",
   "execution_count": 60,
   "metadata": {
    "ExecuteTime": {
     "end_time": "2021-12-23T00:47:56.384969Z",
     "start_time": "2021-12-23T00:47:56.374675Z"
    }
   },
   "outputs": [
    {
     "name": "stdout",
     "output_type": "stream",
     "text": [
      "1.0\n",
      "219779 / 258408 edges kept,  0.8505115940682951\n"
     ]
    }
   ],
   "source": [
    "# Assess the fraction of edges with the maximum score\n",
    "q_score = ReactomeFI_edgelist_filt_v2['weight'].quantile(0.9)\n",
    "print(q_score)\n",
    "ReactomeFI_edgelist_filt2_v2 = ReactomeFI_edgelist_filt_v2[ReactomeFI_edgelist_filt_v2['weight']>=q_score]\n",
    "print(ReactomeFI_edgelist_filt2_v2.shape[0], '/', ReactomeFI_edgelist_filt_v2.shape[0], 'edges kept, ', float(ReactomeFI_edgelist_filt2_v2.shape[0])/ReactomeFI_edgelist_filt_v2.shape[0])"
   ]
  },
  {
   "cell_type": "markdown",
   "metadata": {},
   "source": [
    "# Version 1.0 (original)\n",
    "## Load Reactome-Functional Interactions Raw Data\n",
    "#### Source: http://reactomews.oicr.on.ca:8080/caBigR3WebApp2016/FIsInGene_022717_with_annotations.txt.zip\n",
    "Downloaded: June 15, 2017  \n",
    "Last Updated: February 27, 2017  \n",
    "Note about processing: It looks like most of the edges are given as gene symbols but many of them seem to be invalid names, so we will use some of the gene conversion tools to filter these results as best we can."
   ]
  },
  {
   "cell_type": "code",
   "execution_count": 4,
   "metadata": {
    "ExecuteTime": {
     "end_time": "2021-12-23T00:19:03.175049Z",
     "start_time": "2021-12-23T00:19:03.026165Z"
    }
   },
   "outputs": [
    {
     "name": "stdout",
     "output_type": "stream",
     "text": [
      "Raw edges in ReactomeFI: 230243\n"
     ]
    }
   ],
   "source": [
    "Reactome_FIs_Raw = pd.read_csv(wd+'Network_Data_Raw/Reactome/FIsInGene_022717_with_annotations.txt',sep='\\t')\n",
    "print('Raw edges in ReactomeFI:', Reactome_FIs_Raw.shape[0])"
   ]
  },
  {
   "cell_type": "code",
   "execution_count": 44,
   "metadata": {
    "ExecuteTime": {
     "end_time": "2021-12-23T00:33:53.161321Z",
     "start_time": "2021-12-23T00:33:53.145738Z"
    }
   },
   "outputs": [
    {
     "data": {
      "text/plain": [
       "complex; input                                                                                                  58769\n",
       "predicted                                                                                                       31807\n",
       "complex                                                                                                         17348\n",
       "catalyzed by                                                                                                    12665\n",
       "catalyze                                                                                                        12638\n",
       "                                                                                                                ...  \n",
       "PPrel: activated by; PPrel: activated, indirect effect; activated by; complex; inhibited by; input; reaction        1\n",
       "PPrel: activated by; PPrel: binding/association; activated by; complex; inhibited by; input; reaction               1\n",
       "PPrel: activated by, phosphorylation; activated by; complex                                                         1\n",
       "PPrel: ubiquitination; activate                                                                                     1\n",
       "GErel: expression; PPrel: inhibited by; expression regulates                                                        1\n",
       "Name: Annotation, Length: 1714, dtype: int64"
      ]
     },
     "execution_count": 44,
     "metadata": {},
     "output_type": "execute_result"
    }
   ],
   "source": [
    "Reactome_FIs_Raw.Annotation.value_counts()"
   ]
  },
  {
   "cell_type": "code",
   "execution_count": 5,
   "metadata": {
    "ExecuteTime": {
     "end_time": "2021-12-23T00:19:09.459570Z",
     "start_time": "2021-12-23T00:19:09.428721Z"
    }
   },
   "outputs": [],
   "source": [
    "# Extract gene list\n",
    "Reactome_FIs_Raw_Genes = list(set(Reactome_FIs_Raw['Gene1']).union(set(Reactome_FIs_Raw['Gene2'])))"
   ]
  },
  {
   "cell_type": "code",
   "execution_count": 6,
   "metadata": {
    "ExecuteTime": {
     "end_time": "2021-12-23T00:19:20.547795Z",
     "start_time": "2021-12-23T00:19:20.520806Z"
    }
   },
   "outputs": [
    {
     "name": "stdout",
     "output_type": "stream",
     "text": [
      "12254 Valid Query Genes\n",
      "23 Invalid Query Genes:\n",
      "['WUGSC:H_GS165O14.2', 'APC VARIANT PROTEIN', 'EPHB2 VARIANT PROTEIN', 'STAG1 VARIANT PROTEIN', 'MIR CL-10', 'PIK3C2B VARIANT PROTEIN', 'ITGA7 VARIANT PROTEIN', 'PIK3CA VARIANT PROTEIN', 'RUNX1/CBFA2T2 FUSION', 'YWHAE/FAM22B FUSION', 'RUNX1/C20ORF112 FUSION', 'ATP2B2 VARIANT PROTEIN', 'TNC VARIANT PROTEIN', 'PDHA1/LOC79064', 'IGKV A18', 'YWHAE/FAM22A FUSION', 'BCR/ABL FUSION', 'BETA 2-MICROGLOBULIN', '<ALPHA><BETA>CREB-1', 'CD40 LIGAND', 'PLCG1 VARIANT PROTEIN', 'NUMA1 VARIANT PROTEIN', 'PIK4CA VARIANT PROTEIN']\n"
     ]
    }
   ],
   "source": [
    "# Find \"invalid genes\" by text format\n",
    "query_string, valid_genes, invalid_genes = gct.query_constructor(Reactome_FIs_Raw_Genes, exclude_prefixes=['CHEBI'], print_invalid_genes=True)"
   ]
  },
  {
   "cell_type": "code",
   "execution_count": 7,
   "metadata": {
    "ExecuteTime": {
     "end_time": "2021-12-23T00:19:56.060722Z",
     "start_time": "2021-12-23T00:19:55.849281Z"
    }
   },
   "outputs": [],
   "source": [
    "# Get Edgelist of network\n",
    "query_edgelist = Reactome_FIs_Raw[['Gene1','Gene2', 'Score']].values.tolist()"
   ]
  },
  {
   "cell_type": "code",
   "execution_count": 15,
   "metadata": {
    "ExecuteTime": {
     "end_time": "2021-12-23T00:22:36.618122Z",
     "start_time": "2021-12-23T00:22:36.498643Z"
    }
   },
   "outputs": [
    {
     "name": "stdout",
     "output_type": "stream",
     "text": [
      "820 / 230243 edges with invalid nodes removed\n"
     ]
    }
   ],
   "source": [
    "# Filter query edges\n",
    "query_edgelist_filt = gct.filter_query_edgelist(query_edgelist,invalid_genes)\n",
    "query_edgelist_filt_df = pd.DataFrame(query_edgelist_filt, columns=[\"symbol_n1\", \"symbol_n2\", \"weight\"])"
   ]
  },
  {
   "cell_type": "code",
   "execution_count": 26,
   "metadata": {
    "ExecuteTime": {
     "end_time": "2021-12-23T00:25:31.051043Z",
     "start_time": "2021-12-23T00:25:30.961787Z"
    }
   },
   "outputs": [
    {
     "name": "stdout",
     "output_type": "stream",
     "text": [
      "229423 input edges\n",
      "0 self-edges removed\n",
      "0 edges with un-mapped genes removed\n",
      "0 duplicate edges removed\n",
      "Edge list filtered: 0.09 seconds\n",
      "229423 Edges remaining\n"
     ]
    }
   ],
   "source": [
    "# Filter edge list\n",
    "ReactomeFI_edgelist_filt = gct.filter_converted_edgelist(query_edgelist_filt_df, weighted=True)"
   ]
  },
  {
   "cell_type": "code",
   "execution_count": 17,
   "metadata": {
    "ExecuteTime": {
     "end_time": "2021-12-23T00:22:46.893254Z",
     "start_time": "2021-12-23T00:22:46.518560Z"
    }
   },
   "outputs": [
    {
     "name": "stdout",
     "output_type": "stream",
     "text": [
      "Edge list saved: 0.37 seconds\n"
     ]
    }
   ],
   "source": [
    "# Save filtered, converted edge list to file\n",
    "gct.write_edgelist(ReactomeFI_edgelist_filt, wd+'Processed_Data/Network_SIFs_Symbol/ReactomeFI_Symbol_2017.sif', binary=False)"
   ]
  },
  {
   "cell_type": "code",
   "execution_count": 18,
   "metadata": {
    "ExecuteTime": {
     "end_time": "2021-12-23T00:22:50.549562Z",
     "start_time": "2021-12-23T00:22:50.402814Z"
    }
   },
   "outputs": [
    {
     "name": "stdout",
     "output_type": "stream",
     "text": [
      "90.0% score: 1.0\n",
      "0 / 229423 edges retained\n"
     ]
    }
   ],
   "source": [
    "# Create filtered network\n",
    "ReactomeFI90_edgelist = dit.filter_weighted_network_sif(wd+'Processed_Data/Network_SIFs_Symbol/ReactomeFI_Symbol_2017.sif', nodeA_col=0, nodeB_col=1, score_col=2, \n",
    "                                                        q=0.9, delimiter='\\t', verbose=True, save_path=wd+'Processed_Data/Network_SIFs_Symbol/ReactomeFI90_edgelist_Symbol_2017.sif')"
   ]
  },
  {
   "cell_type": "code",
   "execution_count": 61,
   "metadata": {
    "ExecuteTime": {
     "end_time": "2021-12-23T00:48:25.793243Z",
     "start_time": "2021-12-23T00:48:25.791417Z"
    }
   },
   "outputs": [],
   "source": [
    "# The filter function didn't work here because the max value makes up >90% of the edges. \n",
    "# We need to filter but keep all max edges instead\n",
    "ReactomeFI_edgelist_filt.columns=['NodeA', 'NodeB', 'Score']"
   ]
  },
  {
   "cell_type": "code",
   "execution_count": 34,
   "metadata": {
    "ExecuteTime": {
     "end_time": "2021-12-23T00:27:25.187638Z",
     "start_time": "2021-12-23T00:27:25.178735Z"
    }
   },
   "outputs": [
    {
     "name": "stdout",
     "output_type": "stream",
     "text": [
      "1.0\n",
      "198541 / 229423 edges kept,  0.8653927461501244\n"
     ]
    }
   ],
   "source": [
    "q_score = ReactomeFI_edgelist_filt['Score'].quantile(0.9)\n",
    "print(q_score)\n",
    "ReactomeFI_edgelist_filt2 = ReactomeFI_edgelist_filt[ReactomeFI_edgelist_filt['Score']>=q_score]\n",
    "print(ReactomeFI_edgelist_filt2.shape[0], '/', ReactomeFI_edgelist_filt.shape[0], 'edges kept, ', float(ReactomeFI_edgelist_filt2.shape[0])/ReactomeFI_edgelist_filt.shape[0])"
   ]
  },
  {
   "cell_type": "code",
   "execution_count": null,
   "metadata": {
    "collapsed": true
   },
   "outputs": [],
   "source": [
    "# Essentially >85% of the edges have the 'maximum score' which makes almost no sense for filtering further"
   ]
  },
  {
   "cell_type": "markdown",
   "metadata": {},
   "source": [
    "# Changes"
   ]
  },
  {
   "cell_type": "code",
   "execution_count": 57,
   "metadata": {
    "ExecuteTime": {
     "end_time": "2021-12-23T00:46:00.232797Z",
     "start_time": "2021-12-23T00:46:00.230177Z"
    }
   },
   "outputs": [],
   "source": [
    "stats = pd.DataFrame({\"v1\":[230243, 229423, 198541, 31807], \n",
    "                           \"v2\":[259151, 259151-743, 219779, 41182]},\n",
    "                           index=[\"input\", \"valid nodes\", \"score=1\", \"predicted\"])"
   ]
  },
  {
   "cell_type": "code",
   "execution_count": 58,
   "metadata": {
    "ExecuteTime": {
     "end_time": "2021-12-23T00:46:01.073613Z",
     "start_time": "2021-12-23T00:46:00.994111Z"
    }
   },
   "outputs": [],
   "source": [
    "nodes_v1 = set(np.array(ReactomeFI_edgelist_filt)[:, 0]).union(set(np.array(ReactomeFI_edgelist_filt)[:, 1]))\n",
    "nodes_v2 = set(np.array(ReactomeFI_edgelist_filt_v2)[:, 0]).union(set(np.array(ReactomeFI_edgelist_filt_v2)[:, 1]))\n"
   ]
  },
  {
   "cell_type": "code",
   "execution_count": 59,
   "metadata": {
    "ExecuteTime": {
     "end_time": "2021-12-23T00:46:03.676687Z",
     "start_time": "2021-12-23T00:46:01.727982Z"
    }
   },
   "outputs": [
    {
     "data": {
      "text/plain": [
       "Text(0, 0.5, 'Number of nodes')"
      ]
     },
     "execution_count": 59,
     "metadata": {},
     "output_type": "execute_result"
    },
    {
     "data": {
      "image/png": "[encoded data removed]",
      "text/plain": [
       "<Figure size 432x288 with 1 Axes>"
      ]
     },
     "metadata": {
      "needs_background": "light"
     },
     "output_type": "display_data"
    },
    {
     "data": {
      "image/png": "[encoded data removed]",
      "text/plain": [
       "<Figure size 432x288 with 1 Axes>"
      ]
     },
     "metadata": {
      "needs_background": "light"
     },
     "output_type": "display_data"
    }
   ],
   "source": [
    "stats.plot.bar(ylabel=\"Number of edges\")\n",
    "plt.figure()\n",
    "plt.bar([\"v1\", \"v2\", \"total difference\", \"new V2\", \"removed V2\"], [len(nodes_v1), len(nodes_v2), len(nodes_v2)-len(nodes_v1),\n",
    "                                                           len(nodes_v2.difference(nodes_v1)), len(nodes_v1.difference(nodes_v2))])\n",
    "plt.ylabel(\"Number of nodes\")"
   ]
  }
 ],
 "metadata": {
  "kernelspec": {
   "display_name": "Python [conda env:pcnet_py3]",
   "language": "python",
   "name": "conda-env-pcnet_py3-py"
  },
  "language_info": {
   "codemirror_mode": {
    "name": "ipython",
    "version": 3
   },
   "file_extension": ".py",
   "mimetype": "text/x-python",
   "name": "python",
   "nbconvert_exporter": "python",
   "pygments_lexer": "ipython3",
   "version": "3.10.0"
  },
  "toc": {
   "base_numbering": 1,
   "nav_menu": {},
   "number_sections": true,
   "sideBar": true,
   "skip_h1_title": false,
   "title_cell": "Table of Contents",
   "title_sidebar": "Contents",
   "toc_cell": false,
   "toc_position": {},
   "toc_section_display": true,
   "toc_window_display": false
  },
  "varInspector": {
   "cols": {
    "lenName": 16,
    "lenType": 16,
    "lenVar": 40
   },
   "kernels_config": {
    "python": {
     "delete_cmd_postfix": "",
     "delete_cmd_prefix": "del ",
     "library": "var_list.py",
     "varRefreshCmd": "print(var_dic_list())"
    },
    "r": {
     "delete_cmd_postfix": ") ",
     "delete_cmd_prefix": "rm(",
     "library": "var_list.r",
     "varRefreshCmd": "cat(var_dic_list()) "
    }
   },
   "types_to_exclude": [
    "module",
    "function",
    "builtin_function_or_method",
    "instance",
    "_Feature"
   ],
   "window_display": false
  }
 },
 "nbformat": 4,
 "nbformat_minor": 1
}
