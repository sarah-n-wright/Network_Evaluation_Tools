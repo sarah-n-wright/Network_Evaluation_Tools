{
 "cells": [
  {
   "cell_type": "markdown",
   "metadata": {},
   "source": [
    "# AlphaFold Assessment of Interactions\n",
    "\n",
    "*State of the Interactomes: an evaluation of molecular networks for generating biological insights.* Wright, SN et al. [https://doi.org/10.1101/2024.04.26.587073]  \n",
    "This notebook contains code and results related to:\n",
    "* Figure 5E-G\n",
    "* Supplemental Figure 7A-E\n",
    "* Supplemental Figure 8\n",
    "\n",
    "**Note: due to the size of network data sets utilized in this study, this notebook draws on summarized results rather than re-evaluating all networks directly.**\n",
    "\n",
    "For information on running AlphaFold, please see Example Analysis below and `Data/ExampleUsage/AlphaFold.README.md`"
   ]
  },
  {
   "cell_type": "code",
   "execution_count": 1,
   "metadata": {
    "ExecuteTime": {
     "end_time": "2024-09-30T21:12:53.982147Z",
     "start_time": "2024-09-30T21:12:47.558520Z"
    }
   },
   "outputs": [],
   "source": [
    "import pandas as pd\n",
    "import seaborn as sns\n",
    "import matplotlib.pyplot as plt\n",
    "from neteval.network_statistics import NetworkStats, load_network_names\n",
    "from neteval.alphafold_results import *\n",
    "from tqdm import tqdm\n",
    "import os\n",
    "from scipy.stats import mannwhitneyu\n",
    "from statsmodels.stats.multitest import fdrcorrection\n",
    "import numpy as np\n",
    "import warnings\n",
    "import networkx as nx\n",
    "import pickle\n",
    "from collections import defaultdict\n",
    "import random as rn\n",
    "import glob"
   ]
  },
  {
   "cell_type": "code",
   "execution_count": 2,
   "metadata": {
    "ExecuteTime": {
     "end_time": "2024-09-30T21:12:56.617560Z",
     "start_time": "2024-09-30T21:12:56.612565Z"
    }
   },
   "outputs": [],
   "source": [
    "plt.rcParams['svg.fonttype'] = 'none'\n",
    "plt.rcParams.update({'font.size': 7})\n",
    "plt.rcParams['axes.linewidth'] = 0.5\n",
    "plt.rcParams['svg.fonttype'] = 'none'\n",
    "plt.rcParams.update({'font.size': 7})\n",
    "plt.rcParams['axes.linewidth'] = 0.5\n",
    "plt.rcParams['hatch.linewidth'] = 0.5\n",
    "plt.rcParams['xtick.major.width'] = 0.4\n",
    "plt.rcParams['ytick.major.width'] = 0.4\n",
    "plt.rcParams['xtick.minor.width'] = 0.3\n",
    "plt.rcParams['ytick.minor.width'] = 0.3\n",
    "plt.rcParams['legend.frameon'] = False\n",
    "plt.rcParams['xtick.major.size'] = 3\n",
    "plt.rcParams['ytick.major.size'] = 3\n",
    "plt.rcParams['xtick.minor.size'] = 2\n",
    "plt.rcParams['ytick.minor.size'] = 2\n",
    "plt.rcParams['xtick.major.pad'] = 1\n",
    "plt.rcParams['ytick.major.pad'] = 1\n",
    "plt.rcParams['axes.labelpad'] = 1\n",
    "plt.rcParams['patch.linewidth'] = 0.25\n",
    "blue='#73c7e7'\n",
    "green='#44cf6c'\n",
    "orange='#ffa500'"
   ]
  },
  {
   "cell_type": "code",
   "execution_count": 3,
   "metadata": {
    "ExecuteTime": {
     "end_time": "2024-09-30T21:12:57.766994Z",
     "start_time": "2024-09-30T21:12:57.720706Z"
    }
   },
   "outputs": [],
   "source": [
    "gitdir = os.path.dirname(os.getcwd())\n",
    "figdir = os.path.join(gitdir, 'StateOfTheInteractomes_Notebooks/Figures/')\n",
    "evaldir = os.path.join(gitdir, 'Data/example_outputs/')\n",
    "datadir = os.path.join(gitdir, 'Data/')\n",
    "network_names = load_network_names(os.path.join(gitdir, 'StateOfTheInteractomes_Notebooks/Data/network_names_final.txt'))\n",
    "example_names = load_network_names(os.path.join(gitdir, 'Data/example_network_names.txt'))\n",
    "network_classes = load_network_names(os.path.join(gitdir, \"StateOfTheInteractomes_Notebooks/Data/network_classifications.txt\"))"
   ]
  },
  {
   "cell_type": "code",
   "execution_count": 4,
   "metadata": {
    "ExecuteTime": {
     "end_time": "2024-09-24T21:08:30.374722Z",
     "start_time": "2024-09-24T21:08:30.340245Z"
    },
    "run_control": {
     "marked": true
    }
   },
   "outputs": [],
   "source": [
    "# Load the AF results for randomly generated protein pairs\n",
    "rn_df = pd.read_csv(os.path.join(gitdir, 'StateOfTheInteractomes_Notebooks/Data/Fig5_Random_AF_results.csv'), index_col=0)"
   ]
  },
  {
   "cell_type": "markdown",
   "metadata": {},
   "source": [
    "## Example Analysis\n",
    "\n",
    "With DIP, PID2, and Wan"
   ]
  },
  {
   "cell_type": "markdown",
   "metadata": {},
   "source": [
    "### Download Protein Sequence data from Uniprot\n",
    "\n",
    "Uncomment to download the data (~15mins)"
   ]
  },
  {
   "cell_type": "code",
   "execution_count": 5,
   "metadata": {
    "ExecuteTime": {
     "end_time": "2024-09-27T20:04:25.019880Z",
     "start_time": "2024-09-27T19:54:53.896424Z"
    }
   },
   "outputs": [],
   "source": [
    "# from neteval.node_annotation import get_uniprot_annotation_data\n",
    "\n",
    "# uni_df = get_uniprot_annotation_data(fields=['id', 'sequence', 'xref_geneid'], outdir=os.path.join(gitdir, 'Data/'), \n",
    "#                                     index_on=2, page_size=500, max_retries=5, taxid=9606, verbose=False)"
   ]
  },
  {
   "cell_type": "markdown",
   "metadata": {},
   "source": [
    "### Selection of interactions to predict\n",
    "1. Interactions with a range of network coverages\n",
    "2. Random sample of interactions from each interactome\n",
    "3. Top previously unreported interactions predicted by each interactome"
   ]
  },
  {
   "cell_type": "code",
   "execution_count": 6,
   "metadata": {
    "ExecuteTime": {
     "end_time": "2024-09-27T19:50:23.076313Z",
     "start_time": "2024-09-27T19:50:22.863599Z"
    }
   },
   "outputs": [],
   "source": [
    "# get the UniProt reference data - only possible to predict pairs with protein structures\n",
    "uni_df = pd.read_csv(os.path.join(gitdir, 'Data/uniprot_data_id_sequence_xref_geneid_2024-02-05.tsv'), sep='\\t', index_col=0)"
   ]
  },
  {
   "cell_type": "code",
   "execution_count": 7,
   "metadata": {
    "ExecuteTime": {
     "end_time": "2024-09-24T21:07:10.875978Z",
     "start_time": "2024-09-24T21:07:10.598251Z"
    }
   },
   "outputs": [
    {
     "name": "stderr",
     "output_type": "stream",
     "text": [
      "100%|██████████| 57646/57646 [00:00<00:00, 316749.68it/s]\n"
     ]
    }
   ],
   "source": [
    "with open(os.path.join(evaldir, \"edge_counts.pkl\"), 'rb') as f:\n",
    "    edge_counts = pickle.load(f)\n",
    "with open(os.path.join(evaldir, \"node_mapping.pkl\"), 'rb') as f:\n",
    "    node_mapping = pickle.load(f)\n",
    "    \n",
    "rev_node_mapping = {v: k for k, v in node_mapping.items()}\n",
    "mapped_edge_counts = {(rev_node_mapping[k[0]], rev_node_mapping[k[1]]): v for k, v in edge_counts.items()}\n",
    "reverse_edge_counts = defaultdict(list)\n",
    "for k in tqdm(edge_counts):\n",
    "    edge = (rev_node_mapping[k[0]], rev_node_mapping[k[1]])\n",
    "    if (edge[0] in uni_df.index) and( edge[1] in uni_df.index):\n",
    "        reverse_edge_counts[edge_counts[k]].append(edge)"
   ]
  },
  {
   "cell_type": "code",
   "execution_count": 8,
   "metadata": {
    "ExecuteTime": {
     "end_time": "2024-09-24T21:13:20.938537Z",
     "start_time": "2024-09-24T21:13:20.893472Z"
    }
   },
   "outputs": [],
   "source": [
    "rn_df['Entrez_A'] = rn_df['Pair_str'].apply(lambda x: sorted([int(y) for y in x.split('_')])[0])\n",
    "rn_df['Entrez_B'] = rn_df['Pair_str'].apply(lambda x: sorted([int(y) for y in x.split('_')])[1])\n",
    "rn_df['Edge_count'] = rn_df.apply(lambda x: mapped_edge_counts[(x.Entrez_A, x.Entrez_B)] if (x.Entrez_A, x.Entrez_B) in mapped_edge_counts else 0, axis=1)"
   ]
  },
  {
   "cell_type": "markdown",
   "metadata": {},
   "source": [
    "1. Network Coverage Pairs"
   ]
  },
  {
   "cell_type": "code",
   "execution_count": 9,
   "metadata": {
    "ExecuteTime": {
     "end_time": "2024-09-24T21:26:09.490768Z",
     "start_time": "2024-09-24T21:26:09.433430Z"
    }
   },
   "outputs": [],
   "source": [
    "pairs_to_run = defaultdict(set)\n",
    "rn_df = rn_df.dropna()\n",
    "for i in range(0, 4):\n",
    "    if i == 0:\n",
    "        # get 50 interactions (from the random background) that are not present in any example interactomes\n",
    "        rn_df['Entrez_A'] = rn_df['Pair_str'].apply(lambda x: sorted([int(y) for y in x.split('_')])[0])\n",
    "        rn_df['Entrez_B'] = rn_df['Pair_str'].apply(lambda x: sorted([int(y) for y in x.split('_')])[1])\n",
    "        rn_df['Edge_count'] = rn_df.apply(lambda x: mapped_edge_counts[(x.Entrez_A, x.Entrez_B)] if (x.Entrez_A, x.Entrez_B) in mapped_edge_counts else 0, axis=1)\n",
    "        coverage_0_pairs = rn_df.loc[rn_df['Edge_count'] == i, ('Entrez_A', 'Entrez_B')]\n",
    "        coverage_0_pairs = [tuple(x) for x in coverage_0_pairs.to_numpy()]\n",
    "        while len(pairs_to_run[i]) < 50:\n",
    "            test_pairs = rn.sample(coverage_0_pairs, 50-len(pairs_to_run[i]))\n",
    "            for pair in test_pairs:\n",
    "                # check that both proteins have a sequence\n",
    "                if (pair[0] in uni_df.index.values) & (pair[1] in uni_df.index.values):\n",
    "                    pairs_to_run[i].add(pair)\n",
    "    else:\n",
    "        # get 50 interactions with varying network coverage\n",
    "        if len(reverse_edge_counts[i]) < 50:\n",
    "            for pair in reverse_edge_counts[i]:\n",
    "                if (pair[0] in uni_df.index.values) & (pair[1] in uni_df.index.values):\n",
    "                    pairs_to_run[i].add(pair)\n",
    "        else:\n",
    "            while len(pairs_to_run[i]) < 50:\n",
    "                test_pairs = rn.sample(reverse_edge_counts[i], 50-len(pairs_to_run[i]))\n",
    "                for pair in test_pairs:\n",
    "                    if (pair[0] in uni_df.index.values) & (pair[1] in uni_df.index.values):\n",
    "                        pairs_to_run[i].add(pair)"
   ]
  },
  {
   "cell_type": "code",
   "execution_count": 10,
   "metadata": {
    "ExecuteTime": {
     "end_time": "2024-09-24T21:29:16.759915Z",
     "start_time": "2024-09-24T21:29:16.719234Z"
    }
   },
   "outputs": [],
   "source": [
    "for k in pairs_to_run:\n",
    "    with open(os.path.join(evaldir, f'net_coverage_pairs_to_run_{k}.csv'), 'w') as f:\n",
    "        for pair in pairs_to_run[k]:\n",
    "            f.write(f'{pair[0]},{pair[1]}\\n')"
   ]
  },
  {
   "cell_type": "markdown",
   "metadata": {},
   "source": [
    "2. Network samples"
   ]
  },
  {
   "cell_type": "code",
   "execution_count": 11,
   "metadata": {
    "ExecuteTime": {
     "end_time": "2024-09-24T21:03:08.625649Z",
     "start_time": "2024-09-24T21:03:08.591700Z"
    }
   },
   "outputs": [],
   "source": [
    "stats = NetworkStats(os.path.join(datadir, 'example_prefix_file.txt'), evaldir)"
   ]
  },
  {
   "cell_type": "code",
   "execution_count": 12,
   "metadata": {
    "ExecuteTime": {
     "end_time": "2024-09-24T21:33:42.241311Z",
     "start_time": "2024-09-24T21:33:42.216401Z"
    }
   },
   "outputs": [],
   "source": [
    "net_edges_to_run = defaultdict(list)\n",
    "for pref in stats.prefixes:\n",
    "    edges = pd.read_csv(stats.edge_files[pref], sep='\\t')\n",
    "    edges = edges.loc[edges['Entrez_A'].isin(uni_df.index) & edges['Entrez_B'].isin(uni_df.index), ('Entrez_A', 'Entrez_B')].to_numpy()\n",
    "    samp_idx = rn.sample(range(len(edges)), 50)\n",
    "    samp_edges = edges[samp_idx]\n",
    "    net_edges_to_run[pref] = samp_edges\n",
    "    "
   ]
  },
  {
   "cell_type": "code",
   "execution_count": 13,
   "metadata": {
    "ExecuteTime": {
     "end_time": "2024-09-24T21:33:43.503930Z",
     "start_time": "2024-09-24T21:33:43.494965Z"
    }
   },
   "outputs": [],
   "source": [
    "for net in net_edges_to_run:\n",
    "    with open(os.path.join(evaldir, f'net_pairs_to_run_{net}.csv'), 'w') as f:\n",
    "        for pair in net_edges_to_run[net]:\n",
    "            f.write(f'{pair[0]},{pair[1]}\\n')"
   ]
  },
  {
   "cell_type": "markdown",
   "metadata": {},
   "source": [
    "3. Previously unreported interactions\n",
    "\n",
    "These are sourced directly from the `...unverified_top50_edges.txt` files generated during evaluation of network coverage (see `ExampleUsage/InteractionPrediction.README.md`. When this analysis is supplied with the sequence information from UniProt it selects from only interactions with both protein sequences available. "
   ]
  },
  {
   "cell_type": "markdown",
   "metadata": {},
   "source": [
    "### Extracting AF results\n",
    "\n",
    "Example for processing the results for the pair BARD1 (ID:580) - BRCA1 (ID:672)"
   ]
  },
  {
   "cell_type": "code",
   "execution_count": 14,
   "metadata": {
    "ExecuteTime": {
     "end_time": "2024-09-30T21:13:42.227905Z",
     "start_time": "2024-09-30T21:13:34.499704Z"
    }
   },
   "outputs": [
    {
     "data": {
      "text/plain": [
       "{'ptm': [0.27, 0.28, 0.27, 0.28, 0.27], 'iptm': [0.48, 0.5, 0.49, 0.51, 0.5]}"
      ]
     },
     "execution_count": 14,
     "metadata": {},
     "output_type": "execute_result"
    }
   ],
   "source": [
    "extract_scores((580, 672), os.path.join(gitdir, 'Data/example_outputs/AlphaFold/'))"
   ]
  },
  {
   "cell_type": "markdown",
   "metadata": {},
   "source": [
    "## Load full results"
   ]
  },
  {
   "cell_type": "code",
   "execution_count": 15,
   "metadata": {
    "ExecuteTime": {
     "end_time": "2024-09-24T17:49:21.470893Z",
     "start_time": "2024-09-24T17:49:21.413547Z"
    }
   },
   "outputs": [],
   "source": [
    "af_df = pd.read_csv(os.path.join(gitdir, 'StateOfTheInteractomes_Notebooks/Data/TableS5.txt'), sep='\\t')\n",
    "# create pair strings\n",
    "af_df['Pair_str'] = af_df['NCBI Gene ID A'].astype(int).astype(str) + '-' + af_df['NCBI Gene ID B'].astype(int).astype(str)\n"
   ]
  },
  {
   "cell_type": "code",
   "execution_count": 16,
   "metadata": {
    "ExecuteTime": {
     "end_time": "2024-09-24T17:49:21.480081Z",
     "start_time": "2024-09-24T17:49:21.471776Z"
    }
   },
   "outputs": [
    {
     "data": {
      "text/plain": [
       "49"
      ]
     },
     "execution_count": 16,
     "metadata": {},
     "output_type": "execute_result"
    }
   ],
   "source": [
    "af_df[(af_df['Analysis Set']=='Unreported') & (af_df['Network/Network Coverage']=='BioGRID')].Pair_str.nunique()"
   ]
  },
  {
   "cell_type": "markdown",
   "metadata": {},
   "source": [
    "## Figure 5E - Network Coverage vs AF ipTM"
   ]
  },
  {
   "cell_type": "code",
   "execution_count": 17,
   "metadata": {
    "ExecuteTime": {
     "end_time": "2024-09-24T17:49:21.490095Z",
     "start_time": "2024-09-24T17:49:21.480899Z"
    }
   },
   "outputs": [],
   "source": [
    "coverage_df = af_df.copy().loc[af_df['Analysis Set']=='Network Coverage', :]\n",
    "coverage_df_top = coverage_df.sort_values('Model Confidence', ascending=False).drop_duplicates(subset=['Pair_str'], keep='first')\n",
    "\n",
    "coverage_df_top['Network/Network Coverage'] = coverage_df_top['Network/Network Coverage'].astype(int)"
   ]
  },
  {
   "cell_type": "code",
   "execution_count": 18,
   "metadata": {
    "ExecuteTime": {
     "end_time": "2024-09-24T17:49:21.494803Z",
     "start_time": "2024-09-24T17:49:21.490938Z"
    }
   },
   "outputs": [],
   "source": [
    "coverage_df_top['Edge_Bin'] = coverage_df_top['Network/Network Coverage'].apply(lambda x: (x+3)//4)"
   ]
  },
  {
   "cell_type": "code",
   "execution_count": 19,
   "metadata": {
    "ExecuteTime": {
     "end_time": "2024-09-24T17:49:21.855890Z",
     "start_time": "2024-09-24T17:49:21.495876Z"
    }
   },
   "outputs": [
    {
     "data": {
      "image/png": "[encoded data removed]",
      "text/plain": [
       "<Figure size 216x144 with 1 Axes>"
      ]
     },
     "metadata": {
      "needs_background": "light"
     },
     "output_type": "display_data"
    }
   ],
   "source": [
    "_ = plt.figure(figsize=(3, 2))\n",
    "ax = plt.gca()\n",
    "sns.violinplot(coverage_df_top, x='Edge_Bin', y='ipTM', ax=ax, cut=0, hue='Edge_Bin', palette='Blues', legend=False)\n",
    "_ = plt.xticks([i for i in range(10)], labels=[0, '1-4', '5-8', '9-12', '13-16', '17-20', '21-24', '25-28', '29-32', '33+'], rotation=45)\n",
    "plt.ylabel('Interface Score (IPTM)')\n",
    "plt.xlabel('Network Coverage')\n",
    "\n",
    "plt.savefig(figdir + 'Fig5E_ipTM_vs_coverage.jpg', bbox_inches='tight', dpi=300)"
   ]
  },
  {
   "cell_type": "markdown",
   "metadata": {},
   "source": [
    "## Figure 5F - ipTM of sample network interactions"
   ]
  },
  {
   "cell_type": "code",
   "execution_count": 20,
   "metadata": {
    "ExecuteTime": {
     "end_time": "2024-09-24T17:49:21.868634Z",
     "start_time": "2024-09-24T17:49:21.858666Z"
    }
   },
   "outputs": [],
   "source": [
    "# Load the AF results for random samples of 50 interactions per network.\n",
    "network_df = af_df.copy().loc[af_df['Analysis Set']=='Network Specific', :]\n",
    "network_df_top = network_df.sort_values('Model Confidence', ascending=False).drop_duplicates(subset=['Pair_str', 'Network/Network Coverage'], keep='first')\n"
   ]
  },
  {
   "cell_type": "code",
   "execution_count": 21,
   "metadata": {
    "ExecuteTime": {
     "end_time": "2024-09-24T17:49:22.043384Z",
     "start_time": "2024-09-24T17:49:21.880253Z"
    }
   },
   "outputs": [],
   "source": [
    "# Perform Mann Whitney U for ipTM scores. We consider both all random pairs, as well as \n",
    "# random pairs with no interactions reported in any of the 45 interactomes. We consider the\n",
    "# full background of all random pairs as the primary metric. \n",
    "mu_results = {}\n",
    "for net in network_df_top['Network/Network Coverage'].unique():\n",
    "    mu_rn = mannwhitneyu(network_df_top[network_df_top['Network/Network Coverage'] == net].ipTM, rn_df[rn_df.Background=='All random'].iptm).pvalue\n",
    "    mu_zero = mannwhitneyu(network_df_top[network_df_top['Network/Network Coverage'] == net].ipTM, rn_df[rn_df.Background=='No edges random'].iptm).pvalue\n",
    "    mu_results[net] = {'rn': mu_rn, 'zero': mu_zero}\n",
    "mu_df = pd.DataFrame.from_dict(mu_results, orient='index')\n",
    "mu_df['fdr_rn'] = fdrcorrection(mu_df['rn'])[1]\n",
    "mu_df['fdr_zero'] = fdrcorrection(mu_df['zero'])[1]"
   ]
  },
  {
   "cell_type": "code",
   "execution_count": 22,
   "metadata": {
    "ExecuteTime": {
     "end_time": "2024-09-24T17:49:22.047779Z",
     "start_time": "2024-09-24T17:49:22.044179Z"
    }
   },
   "outputs": [],
   "source": [
    "# Get the medians for each network, and background\n",
    "random_median = rn_df[rn_df.Background=='All random'].iptm.median()\n",
    "net_medians = network_df_top.groupby('Network/Network Coverage').ipTM.median()"
   ]
  },
  {
   "cell_type": "code",
   "execution_count": 23,
   "metadata": {
    "ExecuteTime": {
     "end_time": "2024-09-24T17:49:22.061884Z",
     "start_time": "2024-09-24T17:49:22.048403Z"
    }
   },
   "outputs": [],
   "source": [
    "# Subset the data to networks with significantly higher than expected ipTM scores\n",
    "sig_nets = [x for x in list(mu_df[mu_df.fdr_rn < 0.15].index) if net_medians.loc[x] > random_median]\n",
    "plot_data =network_df_top.copy()[network_df_top['Network/Network Coverage'].isin(sig_nets)]\n",
    "plot_data['Class'] = plot_data['Network/Network Coverage'].map(network_classes)\n",
    "order =plot_data.groupby('Network/Network Coverage').ipTM.median().sort_values(ascending=False).index"
   ]
  },
  {
   "cell_type": "code",
   "execution_count": 24,
   "metadata": {
    "ExecuteTime": {
     "end_time": "2024-09-24T17:49:22.598230Z",
     "start_time": "2024-09-24T17:49:22.062565Z"
    }
   },
   "outputs": [
    {
     "data": {
      "image/png": "[encoded data removed]",
      "text/plain": [
       "<Figure size 216x108 with 1 Axes>"
      ]
     },
     "metadata": {
      "needs_background": "light"
     },
     "output_type": "display_data"
    }
   ],
   "source": [
    "_ = plt.figure(figsize=(3,1.5))\n",
    "sns.violinplot(data=plot_data, x='Network/Network Coverage', y='ipTM', cut=0, linewidth=0.25, hue='Class', palette=['#44cf6c', '#ffa500', '#73c7e7'], \n",
    "                saturation=1, order=order)#, cut=0, inner='', fill=True)\n",
    "plt.hlines(rn_df.iptm.median(), -0.5, len(sig_nets) - 0.5, color='firebrick', linestyle='--', linewidth=0.5)\n",
    "plt.ylim(0, 1)\n",
    "plt.xlim(-0.5, len(sig_nets)-0.5)\n",
    "ax  = plt.gca()\n",
    "ax.tick_params(axis='x', rotation=90)\n",
    "plt.savefig(figdir + 'Fig5F_Network_ipTM.jpg', bbox_inches='tight', dpi=300)"
   ]
  },
  {
   "cell_type": "markdown",
   "metadata": {},
   "source": [
    "## Figure 5G - ipTM of potentially novel predicted interactions"
   ]
  },
  {
   "cell_type": "code",
   "execution_count": 25,
   "metadata": {
    "ExecuteTime": {
     "end_time": "2024-09-24T17:49:22.608216Z",
     "start_time": "2024-09-24T17:49:22.599153Z"
    }
   },
   "outputs": [],
   "source": [
    "unreported_df = af_df.copy()[af_df['Analysis Set'] == 'Unreported']\n",
    "unreported_df_top = unreported_df.sort_values('Model Confidence', ascending=False).drop_duplicates(subset=['Pair_str', 'Network/Network Coverage'], keep='first')\n"
   ]
  },
  {
   "cell_type": "code",
   "execution_count": 26,
   "metadata": {
    "ExecuteTime": {
     "end_time": "2024-09-24T17:49:22.622502Z",
     "start_time": "2024-09-24T17:49:22.609032Z"
    }
   },
   "outputs": [
    {
     "name": "stdout",
     "output_type": "stream",
     "text": [
      "ipTM threshold: 0.56\n"
     ]
    }
   ],
   "source": [
    "# Identify threshold for AF-supported\n",
    "iptm_th = rn_df[rn_df.Background=='No edges random'].sort_values('model_conf', ascending=False).drop_duplicates(subset=['Pair_str'], keep='first').iptm.describe(percentiles=[0.95])['95%']\n",
    "print('ipTM threshold:', iptm_th)  "
   ]
  },
  {
   "cell_type": "code",
   "execution_count": 27,
   "metadata": {
    "ExecuteTime": {
     "end_time": "2024-09-24T17:49:22.648972Z",
     "start_time": "2024-09-24T17:49:22.623284Z"
    }
   },
   "outputs": [],
   "source": [
    "unreported_df_top = unreported_df_top.assign(AFSupported = unreported_df_top.ipTM >= iptm_th)"
   ]
  },
  {
   "cell_type": "code",
   "execution_count": 28,
   "metadata": {
    "ExecuteTime": {
     "end_time": "2024-09-24T17:49:22.665360Z",
     "start_time": "2024-09-24T17:49:22.649658Z"
    }
   },
   "outputs": [
    {
     "name": "stdout",
     "output_type": "stream",
     "text": [
      "Network validation rates:\n"
     ]
    },
    {
     "data": {
      "text/plain": [
       "Network/Network Coverage\n",
       "SIGNOR        0.640000\n",
       "Reactome      0.239130\n",
       "MINT          0.120000\n",
       "IntAct        0.102041\n",
       "PID2          0.102041\n",
       "iRefIndex     0.100000\n",
       "DIP           0.093023\n",
       "MatrixDB      0.081633\n",
       "ProteomeHD    0.073171\n",
       "SPIKE         0.068182\n",
       "Name: AFSupported, dtype: float64"
      ]
     },
     "execution_count": 28,
     "metadata": {},
     "output_type": "execute_result"
    }
   ],
   "source": [
    "print('Network validation rates:')\n",
    "unreported_df_top.groupby('Network/Network Coverage').AFSupported.mean().sort_values(ascending=False).head(10)"
   ]
  },
  {
   "cell_type": "code",
   "execution_count": 29,
   "metadata": {
    "ExecuteTime": {
     "end_time": "2024-09-24T17:49:22.676301Z",
     "start_time": "2024-09-24T17:49:22.666216Z"
    }
   },
   "outputs": [],
   "source": [
    "# Plot the 10 networks with the highest number of AF supported interactions\n",
    "plot_nets = unreported_df_top.groupby('Network/Network Coverage').AFSupported.sum().sort_values(ascending=False).index[0:10]"
   ]
  },
  {
   "cell_type": "code",
   "execution_count": 30,
   "metadata": {
    "ExecuteTime": {
     "end_time": "2024-09-24T17:49:23.446718Z",
     "start_time": "2024-09-24T17:49:22.677121Z"
    }
   },
   "outputs": [
    {
     "data": {
      "image/png": "[encoded data removed]",
      "text/plain": [
       "<Figure size 216x108 with 1 Axes>"
      ]
     },
     "metadata": {
      "needs_background": "light"
     },
     "output_type": "display_data"
    }
   ],
   "source": [
    "_ = plt.figure(figsize=(3,1.5))\n",
    "\n",
    "sns.stripplot(data=unreported_df_top, x='Network/Network Coverage', y='ipTM', s=2, alpha=0.5, hue='AFSupported', palette=['forestgreen', 'grey'][::-1], order=plot_nets)\n",
    "sns.boxplot(data=unreported_df_top[unreported_df_top['Network/Network Coverage'].isin(plot_nets)], x='Network/Network Coverage', y='ipTM', fliersize=0, linecolor='grey', color='powderblue', linewidth=0.25)\n",
    "plt.hlines(iptm_th, -0.5, 9.5, color='forestgreen', linestyle='--', linewidth=0.5)\n",
    "plt.ylim(0,1)\n",
    "plt.ylabel('Interface Score (IPTM)')\n",
    "plt.xlim(-0.5, 9.5)\n",
    "plt.gca().tick_params(axis='x', rotation=90)\n",
    "with warnings.catch_warnings():\n",
    "    warnings.simplefilter(\"ignore\") # ignore deprecation warning\n",
    "    plt.savefig(figdir + 'Fig5G_iptm_af_support.jpg', bbox_inches='tight', dpi=300)"
   ]
  },
  {
   "cell_type": "markdown",
   "metadata": {},
   "source": [
    "Statistics"
   ]
  },
  {
   "cell_type": "code",
   "execution_count": 31,
   "metadata": {
    "ExecuteTime": {
     "end_time": "2024-09-24T17:49:23.451142Z",
     "start_time": "2024-09-24T17:49:23.447472Z"
    }
   },
   "outputs": [],
   "source": [
    "rn_df_top = rn_df.sort_values('model_conf', ascending=False).drop_duplicates(subset=['Pair_str'], keep='first')"
   ]
  },
  {
   "cell_type": "code",
   "execution_count": 32,
   "metadata": {
    "ExecuteTime": {
     "end_time": "2024-09-24T17:49:23.541383Z",
     "start_time": "2024-09-24T17:49:23.451951Z"
    }
   },
   "outputs": [],
   "source": [
    "# need to do a mann whitney u test for each network against the random pairs\n",
    "muAF_results = {}\n",
    "for net in unreported_df_top['Network/Network Coverage'].unique():\n",
    "    muAF_rn = mannwhitneyu(unreported_df_top[unreported_df_top['Network/Network Coverage'] == net].ipTM, rn_df_top[rn_df_top.Background=='All random'].iptm).pvalue\n",
    "    muAF_results[net] = {'p': muAF_rn, 'median': unreported_df_top[unreported_df_top['Network/Network Coverage'] == net].ipTM.median()}\n",
    "muAF_df = pd.DataFrame.from_dict(muAF_results, orient='index')\n",
    "muAF_df['q'] = fdrcorrection(muAF_df['p'])[1]\n",
    "muAF_df['higher_ipTM'] = muAF_df['median'] > rn_df_top[rn_df_top.Background=='All random'].iptm.median()"
   ]
  },
  {
   "cell_type": "code",
   "execution_count": 33,
   "metadata": {
    "ExecuteTime": {
     "end_time": "2024-09-24T17:49:23.550151Z",
     "start_time": "2024-09-24T17:49:23.542052Z"
    }
   },
   "outputs": [
    {
     "data": {
      "text/html": [
       "<div>\n",
       "<style scoped>\n",
       "    .dataframe tbody tr th:only-of-type {\n",
       "        vertical-align: middle;\n",
       "    }\n",
       "\n",
       "    .dataframe tbody tr th {\n",
       "        vertical-align: top;\n",
       "    }\n",
       "\n",
       "    .dataframe thead th {\n",
       "        text-align: right;\n",
       "    }\n",
       "</style>\n",
       "<table border=\"1\" class=\"dataframe\">\n",
       "  <thead>\n",
       "    <tr style=\"text-align: right;\">\n",
       "      <th></th>\n",
       "      <th>p</th>\n",
       "      <th>median</th>\n",
       "      <th>q</th>\n",
       "      <th>higher_ipTM</th>\n",
       "    </tr>\n",
       "  </thead>\n",
       "  <tbody>\n",
       "    <tr>\n",
       "      <th>SIGNOR</th>\n",
       "      <td>6.397314e-18</td>\n",
       "      <td>0.610</td>\n",
       "      <td>2.367006e-16</td>\n",
       "      <td>True</td>\n",
       "    </tr>\n",
       "    <tr>\n",
       "      <th>PathwayCommons</th>\n",
       "      <td>5.521554e-03</td>\n",
       "      <td>0.280</td>\n",
       "      <td>2.029663e-02</td>\n",
       "      <td>True</td>\n",
       "    </tr>\n",
       "    <tr>\n",
       "      <th>SPIKE</th>\n",
       "      <td>1.246582e-02</td>\n",
       "      <td>0.260</td>\n",
       "      <td>3.547964e-02</td>\n",
       "      <td>True</td>\n",
       "    </tr>\n",
       "    <tr>\n",
       "      <th>Reactome</th>\n",
       "      <td>1.659992e-02</td>\n",
       "      <td>0.255</td>\n",
       "      <td>4.094648e-02</td>\n",
       "      <td>True</td>\n",
       "    </tr>\n",
       "    <tr>\n",
       "      <th>DIP</th>\n",
       "      <td>2.498499e-02</td>\n",
       "      <td>0.290</td>\n",
       "      <td>5.777779e-02</td>\n",
       "      <td>True</td>\n",
       "    </tr>\n",
       "    <tr>\n",
       "      <th>HPRD</th>\n",
       "      <td>4.045658e-02</td>\n",
       "      <td>0.265</td>\n",
       "      <td>8.316075e-02</td>\n",
       "      <td>True</td>\n",
       "    </tr>\n",
       "    <tr>\n",
       "      <th>MINT</th>\n",
       "      <td>5.583600e-02</td>\n",
       "      <td>0.260</td>\n",
       "      <td>9.837771e-02</td>\n",
       "      <td>True</td>\n",
       "    </tr>\n",
       "    <tr>\n",
       "      <th>PID2</th>\n",
       "      <td>5.511151e-02</td>\n",
       "      <td>0.270</td>\n",
       "      <td>9.837771e-02</td>\n",
       "      <td>True</td>\n",
       "    </tr>\n",
       "    <tr>\n",
       "      <th>iRefIndex</th>\n",
       "      <td>5.343209e-02</td>\n",
       "      <td>0.245</td>\n",
       "      <td>9.837771e-02</td>\n",
       "      <td>True</td>\n",
       "    </tr>\n",
       "    <tr>\n",
       "      <th>PhosphoSitePlus</th>\n",
       "      <td>7.653887e-02</td>\n",
       "      <td>0.260</td>\n",
       "      <td>1.287245e-01</td>\n",
       "      <td>True</td>\n",
       "    </tr>\n",
       "    <tr>\n",
       "      <th>ReactomeFI</th>\n",
       "      <td>2.292728e-01</td>\n",
       "      <td>0.265</td>\n",
       "      <td>3.393238e-01</td>\n",
       "      <td>True</td>\n",
       "    </tr>\n",
       "    <tr>\n",
       "      <th>ProteomeHD</th>\n",
       "      <td>3.895916e-01</td>\n",
       "      <td>0.260</td>\n",
       "      <td>5.544188e-01</td>\n",
       "      <td>True</td>\n",
       "    </tr>\n",
       "    <tr>\n",
       "      <th>PIPs</th>\n",
       "      <td>4.779235e-01</td>\n",
       "      <td>0.260</td>\n",
       "      <td>6.469062e-01</td>\n",
       "      <td>True</td>\n",
       "    </tr>\n",
       "    <tr>\n",
       "      <th>Mentha</th>\n",
       "      <td>6.729208e-01</td>\n",
       "      <td>0.250</td>\n",
       "      <td>8.197427e-01</td>\n",
       "      <td>True</td>\n",
       "    </tr>\n",
       "  </tbody>\n",
       "</table>\n",
       "</div>"
      ],
      "text/plain": [
       "                            p  median             q  higher_ipTM\n",
       "SIGNOR           6.397314e-18   0.610  2.367006e-16         True\n",
       "PathwayCommons   5.521554e-03   0.280  2.029663e-02         True\n",
       "SPIKE            1.246582e-02   0.260  3.547964e-02         True\n",
       "Reactome         1.659992e-02   0.255  4.094648e-02         True\n",
       "DIP              2.498499e-02   0.290  5.777779e-02         True\n",
       "HPRD             4.045658e-02   0.265  8.316075e-02         True\n",
       "MINT             5.583600e-02   0.260  9.837771e-02         True\n",
       "PID2             5.511151e-02   0.270  9.837771e-02         True\n",
       "iRefIndex        5.343209e-02   0.245  9.837771e-02         True\n",
       "PhosphoSitePlus  7.653887e-02   0.260  1.287245e-01         True\n",
       "ReactomeFI       2.292728e-01   0.265  3.393238e-01         True\n",
       "ProteomeHD       3.895916e-01   0.260  5.544188e-01         True\n",
       "PIPs             4.779235e-01   0.260  6.469062e-01         True\n",
       "Mentha           6.729208e-01   0.250  8.197427e-01         True"
      ]
     },
     "execution_count": 33,
     "metadata": {},
     "output_type": "execute_result"
    }
   ],
   "source": [
    "muAF_df[muAF_df.higher_ipTM].sort_values('q')"
   ]
  },
  {
   "cell_type": "markdown",
   "metadata": {},
   "source": [
    "## Supplemental Figures"
   ]
  },
  {
   "cell_type": "markdown",
   "metadata": {},
   "source": [
    "### Load PDB data\n",
    "\n",
    "For processing of raw PDB data, see `StateOFTheInteractomes_Notebooks/Supplemental_Code/PDB_processing.py`. For large datasets, PDB provides a batch download. Note that the data for complexes and single proteins were downloaded separately as outlined in the Methods:\n",
    "\n",
    "> Lists of experimentally resolved structures in the Protein Data Bank (PDB) were downloaded on August 14, 2024. Interactions with experimentally resolved structures were broadly defined as any protein pair reported as part of a human complex with at least two distinct protein entities that could be mapped to NCBI Gene IDs via UniProt Accession Codes. Proteins with individual experimentally resolved structures were broadly defined as any protein identified from structures containing one distinct protein entity (including homodimers and partial structures) that could be mapped to NCBI Gene IDs via UniProt Accession Codes. \n",
    "\n",
    "**Usage:**\n",
    "```\n",
    "python PDB_processing.py <datadir> <download_id> <complex|protein>\n",
    "# e.g. for complex data:\n",
    "python PDB_processing.py /path/to/pdb c45a276a8adf932dc105b8942846e27b complex\n",
    "```\n"
   ]
  },
  {
   "cell_type": "code",
   "execution_count": 34,
   "metadata": {
    "ExecuteTime": {
     "end_time": "2024-09-24T19:49:02.965607Z",
     "start_time": "2024-09-24T19:49:02.893441Z"
    }
   },
   "outputs": [],
   "source": [
    "pdb_edges = pd.read_csv(os.path.join(gitdir, 'StateOfTheInteractomes_Notebooks/Data/FigS7_pdb_edge_list.txt'), sep='\\t', index_col=0)\n",
    "with open(os.path.join(gitdir, 'StateOfTheInteractomes_Notebooks/Data/FigS7_pdb_node_list.txt'), 'r') as f:\n",
    "    pdb_nodes = [int(x.strip()) for x in f.readlines()]"
   ]
  },
  {
   "cell_type": "code",
   "execution_count": 35,
   "metadata": {
    "ExecuteTime": {
     "end_time": "2024-09-24T17:49:23.636456Z",
     "start_time": "2024-09-24T17:49:23.575235Z"
    }
   },
   "outputs": [],
   "source": [
    "pdb_edges['Pair_str'] = pdb_edges['GeneA'].astype(str) + '-' + pdb_edges['GeneB'].astype(str)\n",
    "pdb_edges['EdgeInPDB'] = 1"
   ]
  },
  {
   "cell_type": "code",
   "execution_count": 36,
   "metadata": {
    "ExecuteTime": {
     "end_time": "2024-09-24T17:49:23.643520Z",
     "start_time": "2024-09-24T17:49:23.637403Z"
    }
   },
   "outputs": [],
   "source": [
    "def add_pdb_info(top_mods_df, pdb_edge_list, singles, group_by, return_original_df=False):\n",
    "    top_mods_df = top_mods_df.merge(pdb_edge_list.loc[:,('Pair_str', 'EdgeInPDB')], on='Pair_str', how='left')\n",
    "    top_mods_df['NodesInPDB'] = top_mods_df.apply(lambda x: np.sum([int(x['NCBI Gene ID A']) in singles, int(x['NCBI Gene ID B']) in singles]) , axis=1)\n",
    "    if return_original_df:\n",
    "        return top_mods_df\n",
    "    edge_df = top_mods_df.groupby(group_by).agg({\n",
    "        'EdgeInPDB': 'value_counts'\n",
    "    }).unstack().fillna(0)\n",
    "    edge_df.columns = ['_'.join(map(str, col)).strip() for col in edge_df.columns.values]\n",
    "    edge_df = edge_df.reset_index()\n",
    "    aggregated_df = top_mods_df[top_mods_df['EdgeInPDB'].isna()].groupby(group_by).agg({\n",
    "        'NodesInPDB': 'value_counts'\n",
    "    }).unstack().fillna(0)\n",
    "    aggregated_df.columns = ['_'.join(map(str, col)).strip() for col in aggregated_df.columns.values]\n",
    "\n",
    "    # Reset the index for plotting\n",
    "    aggregated_df = aggregated_df.reset_index()\n",
    "    plot_pdb_df = aggregated_df.merge(edge_df, on=group_by, how='outer').set_index(group_by).fillna(0)\n",
    "    bin_counts = top_mods_df[group_by].value_counts().sort_index()\n",
    "    plot_pdb_df_frac = np.divide(plot_pdb_df.T,  bin_counts.values).T\n",
    "    col_names = {'NodesInPDB_0': 'None', 'NodesInPDB_1': 'One Individual Protein', 'NodesInPDB_2': 'Both Individual Proteins', 'EdgeInPDB_1.0': 'Interaction'}\n",
    "    return plot_pdb_df.rename(columns=col_names), plot_pdb_df_frac.rename(columns=col_names)"
   ]
  },
  {
   "cell_type": "markdown",
   "metadata": {},
   "source": [
    "### Figure S7A - PDB vs Network Coverage"
   ]
  },
  {
   "cell_type": "code",
   "execution_count": 37,
   "metadata": {
    "ExecuteTime": {
     "end_time": "2024-09-24T17:49:23.731427Z",
     "start_time": "2024-09-24T17:49:23.646432Z"
    }
   },
   "outputs": [],
   "source": [
    "coverage_pdb, coverage_pdb_frac = add_pdb_info(coverage_df_top, pdb_edges, pdb_nodes, group_by='Edge_Bin')"
   ]
  },
  {
   "cell_type": "code",
   "execution_count": 38,
   "metadata": {
    "ExecuteTime": {
     "end_time": "2024-09-24T17:49:24.059071Z",
     "start_time": "2024-09-24T17:49:23.732295Z"
    }
   },
   "outputs": [
    {
     "data": {
      "image/png": "[encoded data removed]",
      "text/plain": [
       "<Figure size 144x72 with 1 Axes>"
      ]
     },
     "metadata": {
      "needs_background": "light"
     },
     "output_type": "display_data"
    }
   ],
   "source": [
    "_ = plt.figure(figsize=(2, 1))\n",
    "ax = plt.gca()\n",
    "plot_pdb_df_frac = coverage_pdb_frac.loc[:, ('Interaction', 'Both Individual Proteins', 'One Individual Protein')]\n",
    "plot_pdb_df_frac.plot(kind='bar', stacked=True, color=['rebeccapurple', 'mediumpurple', 'thistle'], ax=ax, \n",
    "                      width=0.8, edgecolor='black', linewidth=0.5)\n",
    "\n",
    "_ = plt.xticks([i for i in range(10)], labels=[0, '1-4', '5-8', '9-12', '13-16', '17-20', '21-24', '25-28', '29-32', '33+'], \n",
    "               rotation=45)\n",
    "plt.ylabel('% Interactions')\n",
    "plt.xlabel('Network Coverage')\n",
    "_ = plt.yticks([0,0.5,1], ['0', '50', '100'])\n",
    "\n",
    "plt.savefig(os.path.join(figdir, 'FigS7A_PDB_coverage_bar_plot.jpg'), bbox_inches='tight')\n"
   ]
  },
  {
   "cell_type": "markdown",
   "metadata": {},
   "source": [
    "### Figure S7B - PDB representation of network sampled interactions"
   ]
  },
  {
   "cell_type": "code",
   "execution_count": 39,
   "metadata": {
    "ExecuteTime": {
     "end_time": "2024-09-24T17:49:24.156838Z",
     "start_time": "2024-09-24T17:49:24.059810Z"
    }
   },
   "outputs": [],
   "source": [
    "network_pdb, network_pdb_frac = add_pdb_info(network_df_top, pdb_edges, pdb_nodes,group_by='Network/Network Coverage' )"
   ]
  },
  {
   "cell_type": "code",
   "execution_count": 40,
   "metadata": {
    "ExecuteTime": {
     "end_time": "2024-09-24T17:49:24.161532Z",
     "start_time": "2024-09-24T17:49:24.157724Z"
    }
   },
   "outputs": [],
   "source": [
    "net_order = network_df_top.groupby('Network/Network Coverage').ipTM.median().sort_values(ascending=False).index.to_list()"
   ]
  },
  {
   "cell_type": "code",
   "execution_count": 41,
   "metadata": {
    "ExecuteTime": {
     "end_time": "2024-09-24T17:49:24.168615Z",
     "start_time": "2024-09-24T17:49:24.162238Z"
    }
   },
   "outputs": [],
   "source": [
    "# consider networks with significantly different median ipTM in either direction\n",
    "sig_nets = [x for x in list(mu_df[mu_df.fdr_rn < 0.15].index)]"
   ]
  },
  {
   "cell_type": "code",
   "execution_count": 42,
   "metadata": {
    "ExecuteTime": {
     "end_time": "2024-09-24T17:49:24.174206Z",
     "start_time": "2024-09-24T17:49:24.169387Z"
    }
   },
   "outputs": [],
   "source": [
    "network_df_top['Class'] = network_df_top['Network/Network Coverage'].apply(lambda x: network_classes[x] if x in sig_nets else 'x')"
   ]
  },
  {
   "cell_type": "code",
   "execution_count": 43,
   "metadata": {
    "ExecuteTime": {
     "end_time": "2024-09-24T17:49:26.931433Z",
     "start_time": "2024-09-24T17:49:24.175011Z"
    }
   },
   "outputs": [
    {
     "data": {
      "image/png": "[encoded data removed]",
      "text/plain": [
       "<Figure size 396x144 with 2 Axes>"
      ]
     },
     "metadata": {
      "needs_background": "light"
     },
     "output_type": "display_data"
    }
   ],
   "source": [
    "_, [ax1, ax2] = plt.subplots(nrows=2, ncols=1, figsize=(5.5, 2), sharex=True)\n",
    "sns.violinplot(network_df_top, x='Network/Network Coverage', y='ipTM', hue='Class',\n",
    "               palette = [blue, green, orange, 'lightgrey'], hue_order=['Composite', 'Curated', 'Experimental', 'x'], \n",
    "               order=net_order, ax=ax2, saturation=1, cut=0)\n",
    "ax2.hlines(random_median, -0.5, 44.5,color='red', linestyle='--', linewidth=0.5)\n",
    "ax2.tick_params(axis='x', rotation=90)\n",
    "ax2.set_xlim(-0.5, 44.5)\n",
    "\n",
    "\n",
    "net_pdb_df_frac = network_pdb_frac.loc[:,  ('Interaction', 'Both Individual Proteins', 'One Individual Protein')]\n",
    "net_pdb_df_frac.loc[net_order].plot(kind='bar', stacked=True, color=['rebeccapurple', 'mediumpurple', 'thistle'], ax=ax1, \n",
    "                                    width=0.8, edgecolor='black', linewidth=0.5)\n",
    "ax1.set_ylabel('% Interactions')\n",
    "_ = ax1.set_yticks([0,0.5,1], ['0', '50', '100'])\n",
    "ax2.set_ylim(0,1)\n",
    "plt.savefig(os.path.join(figdir, 'FigS7B_pdb_network_specific_full_results.jpg'),dpi=400, bbox_inches='tight')\n",
    "_ = ax2.set_xlabel('')"
   ]
  },
  {
   "cell_type": "markdown",
   "metadata": {},
   "source": [
    "### Figure S7C - Correlation between PDB presence and ipTM score"
   ]
  },
  {
   "cell_type": "code",
   "execution_count": 44,
   "metadata": {
    "ExecuteTime": {
     "end_time": "2024-09-24T17:49:26.937006Z",
     "start_time": "2024-09-24T17:49:26.932539Z"
    }
   },
   "outputs": [],
   "source": [
    "plot_scatter = network_pdb_frac.join(network_df_top.groupby('Network/Network Coverage').ipTM.mean())"
   ]
  },
  {
   "cell_type": "code",
   "execution_count": 45,
   "metadata": {
    "ExecuteTime": {
     "end_time": "2024-09-24T17:49:27.279297Z",
     "start_time": "2024-09-24T17:49:26.937659Z"
    }
   },
   "outputs": [
    {
     "data": {
      "image/png": "[encoded data removed]",
      "text/plain": [
       "<Figure size 144x72 with 2 Axes>"
      ]
     },
     "metadata": {
      "needs_background": "light"
     },
     "output_type": "display_data"
    }
   ],
   "source": [
    "_, [ax1, ax2] = plt.subplots(nrows=1, ncols=2, figsize=(2,1), sharex=True, sharey=True)\n",
    "sns.scatterplot(plot_scatter, x='Both Individual Proteins', y='ipTM', color='mediumpurple', ax=ax2, s=10)\n",
    "sns.scatterplot(plot_scatter, x='Interaction', y='ipTM', color='rebeccapurple', ax=ax1, s=10)\n",
    "ax1.set_ylabel('ipTM Score')\n",
    "ax1.set_xlabel('Frac Interactions')\n",
    "_ = ax1.set_title('Interaction\\nin PDB', fontsize=7)\n",
    "_ = ax2.set_title('Both Proteins\\nin PDB', fontsize=7)\n",
    "ax2.set_xlabel('Frac Interactions')\n",
    "plt.savefig(os.path.join(figdir, 'FigS7C_pdb_network_scatter.jpg'), dpi=400, bbox_inches='tight')"
   ]
  },
  {
   "cell_type": "code",
   "execution_count": 46,
   "metadata": {
    "ExecuteTime": {
     "end_time": "2024-09-24T17:49:27.284718Z",
     "start_time": "2024-09-24T17:49:27.280070Z"
    }
   },
   "outputs": [
    {
     "data": {
      "text/plain": [
       "None                       -0.288846\n",
       "One Individual Protein     -0.008404\n",
       "Both Individual Proteins    0.526600\n",
       "Interaction                 0.286301\n",
       "ipTM                        1.000000\n",
       "Name: ipTM, dtype: float64"
      ]
     },
     "execution_count": 46,
     "metadata": {},
     "output_type": "execute_result"
    }
   ],
   "source": [
    "plot_scatter.corr().ipTM"
   ]
  },
  {
   "cell_type": "markdown",
   "metadata": {},
   "source": [
    "### Figure S7D - AF Support for previously unreported interactions across all networks"
   ]
  },
  {
   "cell_type": "code",
   "execution_count": 47,
   "metadata": {
    "ExecuteTime": {
     "end_time": "2024-09-24T17:49:28.516566Z",
     "start_time": "2024-09-24T17:49:27.286208Z"
    }
   },
   "outputs": [
    {
     "data": {
      "image/png": "[encoded data removed]",
      "text/plain": [
       "<Figure size 432x108 with 1 Axes>"
      ]
     },
     "metadata": {
      "needs_background": "light"
     },
     "output_type": "display_data"
    }
   ],
   "source": [
    "_ = plt.figure(figsize=(6,1.5))\n",
    "plot_all_nets = unreported_df_top.groupby('Network/Network Coverage').AFSupported.sum().sort_values(ascending=False).index\n",
    "\n",
    "sns.stripplot(data=unreported_df_top, x='Network/Network Coverage', y='ipTM', s=2, alpha=0.5, hue='AFSupported', palette=['forestgreen', 'grey'][::-1], order=plot_all_nets)\n",
    "sns.boxplot(data=unreported_df_top[unreported_df_top['Network/Network Coverage'].isin(plot_all_nets)], x='Network/Network Coverage', y='ipTM', fliersize=0, linecolor='grey', color='powderblue', linewidth=0.25)\n",
    "plt.hlines(iptm_th, -0.5, len(plot_all_nets)-0.5, color='forestgreen', linestyle='--', linewidth=0.5)\n",
    "plt.ylim(0,1)\n",
    "plt.ylabel('Interface Score (IPTM)')\n",
    "plt.xlim(-0.5, len(plot_all_nets)-0.5)\n",
    "_ = plt.xlabel('')\n",
    "plt.gca().tick_params(axis='x', rotation=90)\n",
    "with warnings.catch_warnings():\n",
    "    warnings.simplefilter(\"ignore\") # ignore deprecation warning\n",
    "    plt.savefig(figdir + 'FigS7D_iptm_af_support.jpg', bbox_inches='tight', dpi=300)"
   ]
  },
  {
   "cell_type": "markdown",
   "metadata": {},
   "source": [
    "### Figure S7E - PDB presence of AF-supported, previously unreported interactions"
   ]
  },
  {
   "cell_type": "code",
   "execution_count": 48,
   "metadata": {
    "ExecuteTime": {
     "end_time": "2024-09-24T17:49:28.545987Z",
     "start_time": "2024-09-24T17:49:28.517345Z"
    }
   },
   "outputs": [],
   "source": [
    "supported_pdb_df, supported_pdb_df_frac = add_pdb_info(unreported_df_top[unreported_df_top.AFSupported], \n",
    "                                                   pdb_edges, pdb_nodes, 'Network/Network Coverage')"
   ]
  },
  {
   "cell_type": "code",
   "execution_count": 49,
   "metadata": {
    "ExecuteTime": {
     "end_time": "2024-09-24T17:49:28.629090Z",
     "start_time": "2024-09-24T17:49:28.546842Z"
    }
   },
   "outputs": [],
   "source": [
    "unsupported_pdb_df, unsupported_pdb_df_frac = add_pdb_info(unreported_df_top[~unreported_df_top.AFSupported], \n",
    "                                                 pdb_edges, pdb_nodes, 'Network/Network Coverage')"
   ]
  },
  {
   "cell_type": "code",
   "execution_count": 50,
   "metadata": {
    "ExecuteTime": {
     "end_time": "2024-09-24T17:49:28.632722Z",
     "start_time": "2024-09-24T17:49:28.629944Z"
    }
   },
   "outputs": [],
   "source": [
    "# add null data for networks with no AF-supported interactions\n",
    "missing_nets = [net for net in order if net not in supported_pdb_df_frac.index]\n",
    "add_df = pd.DataFrame({x:0 for x in supported_pdb_df_frac.columns}, index=missing_nets)\n",
    "supported_pdb_df_frac = pd.concat([supported_pdb_df_frac, add_df])"
   ]
  },
  {
   "cell_type": "code",
   "execution_count": 51,
   "metadata": {
    "ExecuteTime": {
     "end_time": "2024-09-24T17:49:28.640970Z",
     "start_time": "2024-09-24T17:49:28.633604Z"
    }
   },
   "outputs": [],
   "source": [
    "supported = supported_pdb_df.sum(axis=0)\n",
    "unsupported = unsupported_pdb_df.sum(axis=0)\n",
    "results_mat = pd.DataFrame({'Supported':supported, \"Unsupported\":unsupported})"
   ]
  },
  {
   "cell_type": "markdown",
   "metadata": {},
   "source": [
    "Perform chi-squared test"
   ]
  },
  {
   "cell_type": "code",
   "execution_count": 52,
   "metadata": {
    "ExecuteTime": {
     "end_time": "2024-09-24T17:49:28.647910Z",
     "start_time": "2024-09-24T17:49:28.641747Z"
    }
   },
   "outputs": [
    {
     "name": "stdout",
     "output_type": "stream",
     "text": [
      "Chi-square statistic: 3.917780398475503\n",
      "P-value: 0.14101483248073257\n",
      "Degrees of freedom: 2\n",
      "Expected frequencies:\n",
      "[[  88.16779279 1238.83220721]\n",
      " [  27.77252252  390.22747748]\n",
      " [   2.05968468   28.94031532]]\n"
     ]
    }
   ],
   "source": [
    "from scipy.stats import chi2_contingency\n",
    "\n",
    "chi2, p, dof, expected = chi2_contingency(results_mat)\n",
    "print(f\"Chi-square statistic: {chi2}\")\n",
    "print(f\"P-value: {p}\")\n",
    "print(f\"Degrees of freedom: {dof}\")\n",
    "print(\"Expected frequencies:\")\n",
    "print(expected)"
   ]
  },
  {
   "cell_type": "code",
   "execution_count": 53,
   "metadata": {
    "ExecuteTime": {
     "end_time": "2024-09-24T17:49:28.810684Z",
     "start_time": "2024-09-24T17:49:28.648764Z"
    }
   },
   "outputs": [
    {
     "data": {
      "image/png": "[encoded data removed]",
      "text/plain": [
       "<Figure size 72x72 with 1 Axes>"
      ]
     },
     "metadata": {
      "needs_background": "light"
     },
     "output_type": "display_data"
    }
   ],
   "source": [
    "_ = plt.figure(figsize=(1,1))\n",
    "ax = plt.gca()\n",
    "# 'rebeccapurple', 'mediumpurple', 'thistle', 'white'\n",
    "prop_df = np.divide(results_mat, results_mat.sum(axis=0))\n",
    "prop_df.T.loc[:, ( 'One Individual Protein', 'None')].plot(kind='bar', stacked=True, color=['thistle', 'white'], edgecolor='black', linewidth=0.5, ax=ax)\n",
    "plt.ylabel('% Interactions')\n",
    "_ = plt.yticks([0, 0.25, 0.5, 0.75, 1], [0, 25, 50, 75, 100])\n",
    "plt.savefig(os.path.join(figdir, 'FigS7E_iptm_supported_pdb_bars.jpg'), bbox_inches='tight')"
   ]
  },
  {
   "cell_type": "markdown",
   "metadata": {},
   "source": [
    "### Supplemental Figure 8 - AF Supported Interactions"
   ]
  },
  {
   "cell_type": "code",
   "execution_count": 54,
   "metadata": {
    "ExecuteTime": {
     "end_time": "2024-09-24T19:39:47.559609Z",
     "start_time": "2024-09-24T19:39:47.551719Z"
    }
   },
   "outputs": [
    {
     "data": {
      "text/html": [
       "<div>\n",
       "<style scoped>\n",
       "    .dataframe tbody tr th:only-of-type {\n",
       "        vertical-align: middle;\n",
       "    }\n",
       "\n",
       "    .dataframe tbody tr th {\n",
       "        vertical-align: top;\n",
       "    }\n",
       "\n",
       "    .dataframe thead th {\n",
       "        text-align: right;\n",
       "    }\n",
       "</style>\n",
       "<table border=\"1\" class=\"dataframe\">\n",
       "  <thead>\n",
       "    <tr style=\"text-align: right;\">\n",
       "      <th></th>\n",
       "      <th>NCBI Gene ID A</th>\n",
       "      <th>NCBI Gene ID B</th>\n",
       "      <th>Network/Network Coverage</th>\n",
       "      <th>Analysis Set</th>\n",
       "      <th>Model Number</th>\n",
       "      <th>pTM</th>\n",
       "      <th>ipTM</th>\n",
       "      <th>Model Confidence</th>\n",
       "      <th>Pair_str</th>\n",
       "      <th>AFSupported</th>\n",
       "    </tr>\n",
       "  </thead>\n",
       "  <tbody>\n",
       "    <tr>\n",
       "      <th>6357</th>\n",
       "      <td>2775</td>\n",
       "      <td>25816</td>\n",
       "      <td>SIGNOR</td>\n",
       "      <td>Unreported</td>\n",
       "      <td>2</td>\n",
       "      <td>0.86</td>\n",
       "      <td>0.84</td>\n",
       "      <td>0.844</td>\n",
       "      <td>2775-25816</td>\n",
       "      <td>True</td>\n",
       "    </tr>\n",
       "    <tr>\n",
       "      <th>1047</th>\n",
       "      <td>389</td>\n",
       "      <td>85415</td>\n",
       "      <td>Reactome</td>\n",
       "      <td>Unreported</td>\n",
       "      <td>2</td>\n",
       "      <td>0.74</td>\n",
       "      <td>0.87</td>\n",
       "      <td>0.844</td>\n",
       "      <td>389-85415</td>\n",
       "      <td>True</td>\n",
       "    </tr>\n",
       "    <tr>\n",
       "      <th>8086</th>\n",
       "      <td>3265</td>\n",
       "      <td>342897</td>\n",
       "      <td>MINT</td>\n",
       "      <td>Unreported</td>\n",
       "      <td>4</td>\n",
       "      <td>0.79</td>\n",
       "      <td>0.85</td>\n",
       "      <td>0.838</td>\n",
       "      <td>3265-342897</td>\n",
       "      <td>True</td>\n",
       "    </tr>\n",
       "    <tr>\n",
       "      <th>1077</th>\n",
       "      <td>11031</td>\n",
       "      <td>160518</td>\n",
       "      <td>Reactome</td>\n",
       "      <td>Unreported</td>\n",
       "      <td>2</td>\n",
       "      <td>0.73</td>\n",
       "      <td>0.85</td>\n",
       "      <td>0.826</td>\n",
       "      <td>11031-160518</td>\n",
       "      <td>True</td>\n",
       "    </tr>\n",
       "    <tr>\n",
       "      <th>1167</th>\n",
       "      <td>10890</td>\n",
       "      <td>160518</td>\n",
       "      <td>Reactome</td>\n",
       "      <td>Unreported</td>\n",
       "      <td>2</td>\n",
       "      <td>0.73</td>\n",
       "      <td>0.84</td>\n",
       "      <td>0.818</td>\n",
       "      <td>10890-160518</td>\n",
       "      <td>True</td>\n",
       "    </tr>\n",
       "  </tbody>\n",
       "</table>\n",
       "</div>"
      ],
      "text/plain": [
       "      NCBI Gene ID A  NCBI Gene ID B Network/Network Coverage Analysis Set  \\\n",
       "6357            2775           25816                   SIGNOR   Unreported   \n",
       "1047             389           85415                 Reactome   Unreported   \n",
       "8086            3265          342897                     MINT   Unreported   \n",
       "1077           11031          160518                 Reactome   Unreported   \n",
       "1167           10890          160518                 Reactome   Unreported   \n",
       "\n",
       "      Model Number   pTM  ipTM  Model Confidence      Pair_str  AFSupported  \n",
       "6357             2  0.86  0.84             0.844    2775-25816         True  \n",
       "1047             2  0.74  0.87             0.844     389-85415         True  \n",
       "8086             4  0.79  0.85             0.838   3265-342897         True  \n",
       "1077             2  0.73  0.85             0.826  11031-160518         True  \n",
       "1167             2  0.73  0.84             0.818  10890-160518         True  "
      ]
     },
     "execution_count": 54,
     "metadata": {},
     "output_type": "execute_result"
    }
   ],
   "source": [
    "unreported_df_top[unreported_df_top.AFSupported].head()"
   ]
  },
  {
   "cell_type": "code",
   "execution_count": 55,
   "metadata": {
    "ExecuteTime": {
     "end_time": "2024-09-24T19:45:33.874965Z",
     "start_time": "2024-09-24T19:45:33.766004Z"
    }
   },
   "outputs": [
    {
     "data": {
      "image/png": "[encoded data removed]",
      "text/plain": [
       "<Figure size 432x288 with 1 Axes>"
      ]
     },
     "metadata": {},
     "output_type": "display_data"
    }
   ],
   "source": [
    "G_supported = nx.from_pandas_edgelist(unreported_df_top[unreported_df_top.AFSupported], source='NCBI Gene ID A', \n",
    "                                      target='NCBI Gene ID B', \n",
    "                                      edge_attr=['Network/Network Coverage', 'pTM', 'ipTM', 'Model Confidence'])\n",
    "nx.draw_spring(G_supported, node_size=10)"
   ]
  }
 ],
 "metadata": {
  "kernelspec": {
   "display_name": "Python [conda env:pcnet_py3]",
   "language": "python",
   "name": "conda-env-pcnet_py3-py"
  },
  "language_info": {
   "codemirror_mode": {
    "name": "ipython",
    "version": 3
   },
   "file_extension": ".py",
   "mimetype": "text/x-python",
   "name": "python",
   "nbconvert_exporter": "python",
   "pygments_lexer": "ipython3",
   "version": "3.10.0"
  },
  "toc": {
   "base_numbering": 1,
   "nav_menu": {},
   "number_sections": true,
   "sideBar": true,
   "skip_h1_title": false,
   "title_cell": "Table of Contents",
   "title_sidebar": "Contents",
   "toc_cell": false,
   "toc_position": {
    "height": "calc(100% - 180px)",
    "left": "10px",
    "top": "150px",
    "width": "472.49px"
   },
   "toc_section_display": true,
   "toc_window_display": true
  },
  "varInspector": {
   "cols": {
    "lenName": 16,
    "lenType": 16,
    "lenVar": 40
   },
   "kernels_config": {
    "python": {
     "delete_cmd_postfix": "",
     "delete_cmd_prefix": "del ",
     "library": "var_list.py",
     "varRefreshCmd": "print(var_dic_list())"
    },
    "r": {
     "delete_cmd_postfix": ") ",
     "delete_cmd_prefix": "rm(",
     "library": "var_list.r",
     "varRefreshCmd": "cat(var_dic_list()) "
    }
   },
   "types_to_exclude": [
    "module",
    "function",
    "builtin_function_or_method",
    "instance",
    "_Feature"
   ],
   "window_display": false
  }
 },
 "nbformat": 4,
 "nbformat_minor": 4
}
