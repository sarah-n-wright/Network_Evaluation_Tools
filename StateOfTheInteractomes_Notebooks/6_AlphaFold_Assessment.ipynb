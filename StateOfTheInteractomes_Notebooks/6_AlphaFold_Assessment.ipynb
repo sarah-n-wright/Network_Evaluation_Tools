{
 "cells": [
  {
   "cell_type": "markdown",
   "metadata": {},
   "source": [
    "# AlphaFold Assessment of Interactions\n",
    "\n",
    "*State of the Interactomes: an evaluation of molecular networks for generating biological insights.* Wright, SN et al. [https://doi.org/10.1101/2024.04.26.587073]  \n",
    "This notebook contains code and results related to:\n",
    "* Figure 5E-G\n",
    "* Appendix Figure S3A-E\n",
    "* EV Figure 5\n",
    "\n",
    "**Note: due to the size of network data sets utilized in this study, this notebook draws on summarized results rather than re-evaluating all networks directly.**\n",
    "\n",
    "For information on running AlphaFold, please see Example Analysis below and `Data/ExampleUsage/AlphaFold.README.md`"
   ]
  },
  {
   "cell_type": "code",
   "execution_count": 1,
   "metadata": {
    "ExecuteTime": {
     "end_time": "2024-11-01T22:48:11.654116Z",
     "start_time": "2024-11-01T22:48:10.588888Z"
    }
   },
   "outputs": [],
   "source": [
    "import pandas as pd\n",
    "import seaborn as sns\n",
    "import matplotlib.pyplot as plt\n",
    "from neteval.network_statistics import NetworkStats, load_network_names\n",
    "from neteval.alphafold_results import *\n",
    "from tqdm import tqdm\n",
    "import os\n",
    "from scipy.stats import mannwhitneyu\n",
    "from statsmodels.stats.multitest import fdrcorrection\n",
    "import numpy as np\n",
    "import warnings\n",
    "import networkx as nx\n",
    "import pickle\n",
    "from collections import defaultdict\n",
    "import random as rn\n",
    "import glob\n",
    "from scipy.stats import skewtest, chi2_contingency"
   ]
  },
  {
   "cell_type": "code",
   "execution_count": 2,
   "metadata": {
    "ExecuteTime": {
     "end_time": "2024-11-01T22:48:11.659254Z",
     "start_time": "2024-11-01T22:48:11.655691Z"
    }
   },
   "outputs": [],
   "source": [
    "plt.rcParams['svg.fonttype'] = 'none'\n",
    "plt.rcParams.update({'font.size': 7})\n",
    "plt.rcParams['axes.linewidth'] = 0.5\n",
    "plt.rcParams['svg.fonttype'] = 'none'\n",
    "plt.rcParams.update({'font.size': 7})\n",
    "plt.rcParams['axes.linewidth'] = 0.5\n",
    "plt.rcParams['hatch.linewidth'] = 0.5\n",
    "plt.rcParams['xtick.major.width'] = 0.4\n",
    "plt.rcParams['ytick.major.width'] = 0.4\n",
    "plt.rcParams['xtick.minor.width'] = 0.3\n",
    "plt.rcParams['ytick.minor.width'] = 0.3\n",
    "plt.rcParams['legend.frameon'] = False\n",
    "plt.rcParams['xtick.major.size'] = 3\n",
    "plt.rcParams['ytick.major.size'] = 3\n",
    "plt.rcParams['xtick.minor.size'] = 2\n",
    "plt.rcParams['ytick.minor.size'] = 2\n",
    "plt.rcParams['xtick.major.pad'] = 1\n",
    "plt.rcParams['ytick.major.pad'] = 1\n",
    "plt.rcParams['axes.labelpad'] = 1\n",
    "plt.rcParams['patch.linewidth'] = 0.25\n",
    "blue='#73c7e7'\n",
    "green='#44cf6c'\n",
    "orange='#ffa500'"
   ]
  },
  {
   "cell_type": "code",
   "execution_count": 3,
   "metadata": {
    "ExecuteTime": {
     "end_time": "2024-11-01T22:48:11.666820Z",
     "start_time": "2024-11-01T22:48:11.660241Z"
    }
   },
   "outputs": [],
   "source": [
    "gitdir = os.path.dirname(os.getcwd())\n",
    "figdir = os.path.join(gitdir, 'StateOfTheInteractomes_Notebooks/Figures/')\n",
    "evaldir = os.path.join(gitdir, 'Data/example_outputs/')\n",
    "datadir = os.path.join(gitdir, 'Data/')\n",
    "network_names = load_network_names(os.path.join(gitdir, 'StateOfTheInteractomes_Notebooks/Data/network_names_final.txt'))\n",
    "example_names = load_network_names(os.path.join(gitdir, 'Data/example_network_names.txt'))\n",
    "network_classes = load_network_names(os.path.join(gitdir, \"StateOfTheInteractomes_Notebooks/Data/network_classifications.txt\"))"
   ]
  },
  {
   "cell_type": "code",
   "execution_count": 4,
   "metadata": {
    "ExecuteTime": {
     "end_time": "2024-11-01T22:48:11.729663Z",
     "start_time": "2024-11-01T22:48:11.668090Z"
    }
   },
   "outputs": [],
   "source": [
    "dataset_ev4 = pd.read_csv(os.path.join(gitdir, 'StateOfTheInteractomes_Notebooks/Data/DatasetEV4.txt'), sep='\\t')\n",
    "dataset_ev4 = dataset_ev4.assign(Pair_str = dataset_ev4['NCBI Gene ID A'].astype(int).astype(str) + '-' + dataset_ev4['NCBI Gene ID B'].astype(int).astype(str))\n"
   ]
  },
  {
   "cell_type": "code",
   "execution_count": 5,
   "metadata": {
    "ExecuteTime": {
     "end_time": "2024-11-01T22:48:11.737314Z",
     "start_time": "2024-11-01T22:48:11.730870Z"
    }
   },
   "outputs": [],
   "source": [
    "rn_df = dataset_ev4[dataset_ev4['Analysis Set']=='Random background pairs']\n",
    "rn_df_top = rn_df.sort_values('Model Confidence', ascending=False).drop_duplicates(subset=['Pair_str', 'Network/Network Coverage'], keep='first')\n"
   ]
  },
  {
   "cell_type": "markdown",
   "metadata": {},
   "source": [
    "## Example Analysis\n",
    "\n",
    "This example analysis utilizes three small networks: DIP, PID2, and Wan"
   ]
  },
  {
   "cell_type": "markdown",
   "metadata": {},
   "source": [
    "### Download Protein Sequence data from Uniprot\n",
    "\n",
    "Uncomment to download the data (~15mins)"
   ]
  },
  {
   "cell_type": "code",
   "execution_count": 6,
   "metadata": {
    "ExecuteTime": {
     "end_time": "2024-11-01T22:48:11.740300Z",
     "start_time": "2024-11-01T22:48:11.738340Z"
    }
   },
   "outputs": [],
   "source": [
    "# from neteval.node_annotation import get_uniprot_annotation_data\n",
    "\n",
    "# uni_df = get_uniprot_annotation_data(fields=['id', 'sequence', 'xref_geneid'], outdir=os.path.join(gitdir, 'Data/'), \n",
    "#                                     index_on=2, page_size=500, max_retries=5, taxid=9606, verbose=False)"
   ]
  },
  {
   "cell_type": "markdown",
   "metadata": {},
   "source": [
    "### Selection of interactions to predict\n",
    "1. Interactions with a range of network coverages\n",
    "2. Random sample of interactions from each interactome\n",
    "3. Top previously unreported interactions predicted by each interactome"
   ]
  },
  {
   "cell_type": "code",
   "execution_count": 7,
   "metadata": {
    "ExecuteTime": {
     "end_time": "2024-11-01T22:48:11.830357Z",
     "start_time": "2024-11-01T22:48:11.741288Z"
    }
   },
   "outputs": [],
   "source": [
    "# get the UniProt reference data - only possible to predict pairs with protein structures\n",
    "uni_df = pd.read_csv(os.path.join(gitdir, 'Data/uniprot_data_id_sequence_xref_geneid_2024-02-05.tsv'), sep='\\t', index_col=0)"
   ]
  },
  {
   "cell_type": "code",
   "execution_count": 8,
   "metadata": {
    "ExecuteTime": {
     "end_time": "2024-11-01T22:48:12.099970Z",
     "start_time": "2024-11-01T22:48:11.831618Z"
    }
   },
   "outputs": [
    {
     "name": "stderr",
     "output_type": "stream",
     "text": [
      "100%|██████████| 57646/57646 [00:00<00:00, 325469.15it/s]\n"
     ]
    }
   ],
   "source": [
    "with open(os.path.join(evaldir, \"edge_counts.pkl\"), 'rb') as f:\n",
    "    edge_counts = pickle.load(f)\n",
    "with open(os.path.join(evaldir, \"node_mapping.pkl\"), 'rb') as f:\n",
    "    node_mapping = pickle.load(f)\n",
    "    \n",
    "rev_node_mapping = {v: k for k, v in node_mapping.items()}\n",
    "mapped_edge_counts = {(rev_node_mapping[k[0]], rev_node_mapping[k[1]]): v for k, v in edge_counts.items()}\n",
    "reverse_edge_counts = defaultdict(list)\n",
    "for k in tqdm(edge_counts):\n",
    "    edge = (rev_node_mapping[k[0]], rev_node_mapping[k[1]])\n",
    "    if (edge[0] in uni_df.index) and( edge[1] in uni_df.index):\n",
    "        reverse_edge_counts[edge_counts[k]].append(edge)"
   ]
  },
  {
   "cell_type": "markdown",
   "metadata": {},
   "source": [
    "1. Network Coverage Pairs\n",
    "\n",
    "Randomly sample 50 examples of interactions with each value of network coverage, where network coverage is defined as the number of interactomes that an interaction appears in. "
   ]
  },
  {
   "cell_type": "code",
   "execution_count": 10,
   "metadata": {
    "ExecuteTime": {
     "end_time": "2024-11-01T22:48:12.141444Z",
     "start_time": "2024-11-01T22:48:12.112864Z"
    }
   },
   "outputs": [],
   "source": [
    "pairs_to_run = defaultdict(set)\n",
    "rn_df = rn_df.dropna()\n",
    "for i in range(0, 4):\n",
    "    if i == 0:\n",
    "        # get 50 interactions (from the random background) that are not present in any example interactomes\n",
    "        rn_df['Edge_count'] = rn_df.apply(lambda x: mapped_edge_counts[(x['NCBI Gene ID A'], x['NCBI Gene ID B'])] if (x['NCBI Gene ID A'], x['NCBI Gene ID B']) in mapped_edge_counts else 0, axis=1)\n",
    "        coverage_0_pairs = rn_df.loc[rn_df['Edge_count'] == i, ('NCBI Gene ID A', 'NCBI Gene ID B')]\n",
    "        coverage_0_pairs = [tuple(x) for x in coverage_0_pairs.to_numpy()]\n",
    "        while len(pairs_to_run[i]) < 50:\n",
    "            test_pairs = rn.sample(coverage_0_pairs, 50-len(pairs_to_run[i]))\n",
    "            for pair in test_pairs:\n",
    "                # check that both proteins have a sequence\n",
    "                if (pair[0] in uni_df.index.values) & (pair[1] in uni_df.index.values):\n",
    "                    pairs_to_run[i].add(pair)\n",
    "    else:\n",
    "        # get 50 interactions with varying network coverage\n",
    "        if len(reverse_edge_counts[i]) < 50:\n",
    "            for pair in reverse_edge_counts[i]:\n",
    "                if (pair[0] in uni_df.index.values) & (pair[1] in uni_df.index.values):\n",
    "                    pairs_to_run[i].add(pair)\n",
    "        else:\n",
    "            while len(pairs_to_run[i]) < 50:\n",
    "                test_pairs = rn.sample(reverse_edge_counts[i], 50-len(pairs_to_run[i]))\n",
    "                for pair in test_pairs:\n",
    "                    if (pair[0] in uni_df.index.values) & (pair[1] in uni_df.index.values):\n",
    "                        pairs_to_run[i].add(pair)"
   ]
  },
  {
   "cell_type": "code",
   "execution_count": 11,
   "metadata": {
    "ExecuteTime": {
     "end_time": "2024-11-01T22:48:12.150767Z",
     "start_time": "2024-11-01T22:48:12.142510Z"
    }
   },
   "outputs": [],
   "source": [
    "for k in pairs_to_run:\n",
    "    with open(os.path.join(evaldir, f'net_coverage_pairs_to_run_{k}.csv'), 'w') as f:\n",
    "        for pair in pairs_to_run[k]:\n",
    "            f.write(f'{pair[0]},{pair[1]}\\n')"
   ]
  },
  {
   "cell_type": "markdown",
   "metadata": {},
   "source": [
    "2. Network samples\n",
    "\n",
    "Randomly sample 50 interactions from each network"
   ]
  },
  {
   "cell_type": "code",
   "execution_count": 12,
   "metadata": {
    "ExecuteTime": {
     "end_time": "2024-11-01T22:48:12.165419Z",
     "start_time": "2024-11-01T22:48:12.151787Z"
    }
   },
   "outputs": [],
   "source": [
    "stats = NetworkStats(os.path.join(datadir, 'example_prefix_file.txt'), evaldir)"
   ]
  },
  {
   "cell_type": "code",
   "execution_count": 13,
   "metadata": {
    "ExecuteTime": {
     "end_time": "2024-11-01T22:48:12.193655Z",
     "start_time": "2024-11-01T22:48:12.166352Z"
    }
   },
   "outputs": [],
   "source": [
    "net_edges_to_run = defaultdict(list)\n",
    "for pref in stats.prefixes:\n",
    "    edges = pd.read_csv(stats.edge_files[pref], sep='\\t')\n",
    "    edges = edges.loc[edges['Entrez_A'].isin(uni_df.index) & edges['Entrez_B'].isin(uni_df.index), ('Entrez_A', 'Entrez_B')].to_numpy()\n",
    "    samp_idx = rn.sample(range(len(edges)), 50)\n",
    "    samp_edges = edges[samp_idx]\n",
    "    net_edges_to_run[pref] = samp_edges\n",
    "    "
   ]
  },
  {
   "cell_type": "code",
   "execution_count": 14,
   "metadata": {
    "ExecuteTime": {
     "end_time": "2024-11-01T22:48:12.202384Z",
     "start_time": "2024-11-01T22:48:12.194666Z"
    }
   },
   "outputs": [],
   "source": [
    "for net in net_edges_to_run:\n",
    "    with open(os.path.join(evaldir, f'net_pairs_to_run_{net}.csv'), 'w') as f:\n",
    "        for pair in net_edges_to_run[net]:\n",
    "            f.write(f'{pair[0]},{pair[1]}\\n')"
   ]
  },
  {
   "cell_type": "markdown",
   "metadata": {},
   "source": [
    "3. Previously unreported interactions\n",
    "\n",
    "These are sourced directly from the `...unverified_top50_edges.txt` files generated during evaluation of network coverage (see `ExampleUsage/InteractionPrediction.README.md`. When this analysis is supplied with the sequence information from UniProt it selects from only interactions with both protein sequences available. "
   ]
  },
  {
   "cell_type": "markdown",
   "metadata": {},
   "source": [
    "### Extracting AF results\n",
    "\n",
    "Example for processing the results for the pair BARD1 (ID:580) - BRCA1 (ID:672)"
   ]
  },
  {
   "cell_type": "code",
   "execution_count": 15,
   "metadata": {
    "ExecuteTime": {
     "end_time": "2024-11-01T22:48:14.954060Z",
     "start_time": "2024-11-01T22:48:12.203118Z"
    }
   },
   "outputs": [
    {
     "data": {
      "text/plain": [
       "{'ptm': [0.28, 0.27, 0.28, 0.27, 0.27], 'iptm': [0.51, 0.5, 0.5, 0.49, 0.48]}"
      ]
     },
     "execution_count": 15,
     "metadata": {},
     "output_type": "execute_result"
    }
   ],
   "source": [
    "extract_scores((580, 672), os.path.join(gitdir, 'Data/example_outputs/AlphaFold/'))"
   ]
  },
  {
   "cell_type": "markdown",
   "metadata": {},
   "source": [
    "## Analyze full results"
   ]
  },
  {
   "cell_type": "code",
   "execution_count": 16,
   "metadata": {
    "ExecuteTime": {
     "end_time": "2024-11-01T22:48:14.962657Z",
     "start_time": "2024-11-01T22:48:14.955808Z"
    }
   },
   "outputs": [],
   "source": [
    "af_df = dataset_ev4[dataset_ev4['Analysis Set']!='Random background pairs']\n"
   ]
  },
  {
   "cell_type": "markdown",
   "metadata": {},
   "source": [
    "### Figure 5E - Network Coverage vs AF ipTM"
   ]
  },
  {
   "cell_type": "code",
   "execution_count": 62,
   "metadata": {
    "ExecuteTime": {
     "end_time": "2024-11-01T22:50:22.501242Z",
     "start_time": "2024-11-01T22:50:22.492841Z"
    }
   },
   "outputs": [],
   "source": [
    "# Extract the subset of results relevant to the coverage analysis\n",
    "\n",
    "coverage_df = af_df.copy().loc[af_df['Analysis Set']=='Network Coverage', :]\n",
    "coverage_df_top = coverage_df.sort_values('Model Confidence', ascending=False).drop_duplicates(subset=['Pair_str'], keep='first')\n",
    "coverage_df_top['Network/Network Coverage'] = coverage_df_top['Network/Network Coverage'].astype(int)"
   ]
  },
  {
   "cell_type": "code",
   "execution_count": 18,
   "metadata": {
    "ExecuteTime": {
     "end_time": "2024-11-01T22:48:14.976399Z",
     "start_time": "2024-11-01T22:48:14.973531Z"
    }
   },
   "outputs": [],
   "source": [
    "# Bin the coverage values for better visualization\n",
    "coverage_df_top['Edge_Bin'] = coverage_df_top['Network/Network Coverage'].apply(lambda x: (x+3)//4)"
   ]
  },
  {
   "cell_type": "code",
   "execution_count": 19,
   "metadata": {
    "ExecuteTime": {
     "end_time": "2024-11-01T22:48:15.327968Z",
     "start_time": "2024-11-01T22:48:14.977437Z"
    }
   },
   "outputs": [
    {
     "data": {
      "image/png": "[encoded data removed]",
      "text/plain": [
       "<Figure size 216x144 with 1 Axes>"
      ]
     },
     "metadata": {
      "needs_background": "light"
     },
     "output_type": "display_data"
    }
   ],
   "source": [
    "_ = plt.figure(figsize=(3, 2))\n",
    "ax = plt.gca()\n",
    "sns.violinplot(coverage_df_top, x='Edge_Bin', y='ipTM', ax=ax, cut=0, hue='Edge_Bin', palette='Blues', legend=False)\n",
    "_ = plt.xticks([i for i in range(10)], labels=[0, '1-4', '5-8', '9-12', '13-16', '17-20', '21-24', '25-28', '29-32', '33+'], rotation=45)\n",
    "plt.ylabel('Interface Score (IPTM)')\n",
    "plt.xlabel('Network Coverage')\n",
    "\n",
    "plt.savefig(figdir + 'Fig5E_ipTM_vs_coverage.jpg', bbox_inches='tight', dpi=300)"
   ]
  },
  {
   "cell_type": "markdown",
   "metadata": {},
   "source": [
    "## Figure 5F - ipTM of sample network interactions"
   ]
  },
  {
   "cell_type": "code",
   "execution_count": 20,
   "metadata": {
    "ExecuteTime": {
     "end_time": "2024-11-01T22:48:15.337895Z",
     "start_time": "2024-11-01T22:48:15.329003Z"
    }
   },
   "outputs": [],
   "source": [
    "# Load the AF results for random samples of 50 interactions per network.\n",
    "network_df = af_df.copy().loc[af_df['Analysis Set']=='Network Specific', :]\n",
    "network_df_top = network_df.sort_values('Model Confidence', ascending=False).drop_duplicates(subset=['Pair_str', 'Network/Network Coverage'], keep='first')\n"
   ]
  },
  {
   "cell_type": "markdown",
   "metadata": {
    "ExecuteTime": {
     "end_time": "2024-11-01T22:00:09.137062Z",
     "start_time": "2024-11-01T22:00:09.134598Z"
    }
   },
   "source": [
    "Test the shape of the distributions before statistical testing"
   ]
  },
  {
   "cell_type": "code",
   "execution_count": 21,
   "metadata": {
    "ExecuteTime": {
     "end_time": "2024-11-01T22:48:15.565048Z",
     "start_time": "2024-11-01T22:48:15.338889Z"
    }
   },
   "outputs": [
    {
     "data": {
      "text/plain": [
       "Text(0, 0.5, 'Network pairs')"
      ]
     },
     "execution_count": 21,
     "metadata": {},
     "output_type": "execute_result"
    },
    {
     "data": {
      "image/png": "[encoded data removed]",
      "text/plain": [
       "<Figure size 432x288 with 2 Axes>"
      ]
     },
     "metadata": {
      "needs_background": "light"
     },
     "output_type": "display_data"
    }
   ],
   "source": [
    "_, [ax1, ax2] = plt.subplots(nrows=2, ncols=1, sharex=True)\n",
    "ax=plt.gca()\n",
    "sns.histplot(rn_df.ipTM, alpha=0.5, ax=ax1)\n",
    "sns.histplot(network_df_top[network_df_top['Analysis Set']=='Network Specific'].ipTM, alpha=0.5, ax=ax2)\n",
    "ax1.set_ylabel('Random pairs')\n",
    "ax2.set_ylabel('Network pairs')"
   ]
  },
  {
   "cell_type": "code",
   "execution_count": 22,
   "metadata": {
    "ExecuteTime": {
     "end_time": "2024-11-01T22:48:15.569585Z",
     "start_time": "2024-11-01T22:48:15.566079Z"
    }
   },
   "outputs": [
    {
     "name": "stdout",
     "output_type": "stream",
     "text": [
      "Random pairs skew:\n"
     ]
    },
    {
     "data": {
      "text/plain": [
       "SkewtestResult(statistic=20.05597466484295, pvalue=1.790015265459262e-89)"
      ]
     },
     "execution_count": 22,
     "metadata": {},
     "output_type": "execute_result"
    }
   ],
   "source": [
    "print('Random pairs skew:')\n",
    "skewtest(rn_df.ipTM)"
   ]
  },
  {
   "cell_type": "code",
   "execution_count": 23,
   "metadata": {
    "ExecuteTime": {
     "end_time": "2024-11-01T22:48:15.575655Z",
     "start_time": "2024-11-01T22:48:15.570460Z"
    }
   },
   "outputs": [
    {
     "name": "stdout",
     "output_type": "stream",
     "text": [
      "Network pairs skew:\n"
     ]
    },
    {
     "data": {
      "text/plain": [
       "SkewtestResult(statistic=21.96857694917922, pvalue=5.754329307241617e-107)"
      ]
     },
     "execution_count": 23,
     "metadata": {},
     "output_type": "execute_result"
    }
   ],
   "source": [
    "print('Network pairs skew:')\n",
    "skewtest(network_df_top[network_df_top['Analysis Set']=='Network Specific'].ipTM)"
   ]
  },
  {
   "cell_type": "markdown",
   "metadata": {},
   "source": [
    "Perform a Mann Whitney U test"
   ]
  },
  {
   "cell_type": "code",
   "execution_count": 24,
   "metadata": {
    "ExecuteTime": {
     "end_time": "2024-11-01T22:48:15.642188Z",
     "start_time": "2024-11-01T22:48:15.576513Z"
    }
   },
   "outputs": [],
   "source": [
    "# Perform Mann Whitney U for ipTM scores. \n",
    "mu_results = {}\n",
    "for net in network_df_top['Network/Network Coverage'].unique():\n",
    "    mu_rn = mannwhitneyu(network_df_top[network_df_top['Network/Network Coverage'] == net].ipTM, rn_df.ipTM).pvalue\n",
    "    mu_results[net] = {'rn': mu_rn}\n",
    "mu_df = pd.DataFrame.from_dict(mu_results, orient='index')\n",
    "mu_df['fdr_rn'] = fdrcorrection(mu_df['rn'])[1]"
   ]
  },
  {
   "cell_type": "code",
   "execution_count": 25,
   "metadata": {
    "ExecuteTime": {
     "end_time": "2024-11-01T22:48:15.645714Z",
     "start_time": "2024-11-01T22:48:15.643046Z"
    }
   },
   "outputs": [],
   "source": [
    "# Get the medians for each network, and background\n",
    "random_median = rn_df.ipTM.median()\n",
    "net_medians = network_df_top.groupby('Network/Network Coverage').ipTM.median()"
   ]
  },
  {
   "cell_type": "code",
   "execution_count": 26,
   "metadata": {
    "ExecuteTime": {
     "end_time": "2024-11-01T22:48:15.653338Z",
     "start_time": "2024-11-01T22:48:15.646618Z"
    }
   },
   "outputs": [],
   "source": [
    "# Subset the data to networks with significantly higher than expected ipTM scores\n",
    "sig_nets = [x for x in list(mu_df[mu_df.fdr_rn < 0.15].index) if net_medians.loc[x] > random_median]\n",
    "plot_data =network_df_top.copy()[network_df_top['Network/Network Coverage'].isin(sig_nets)]\n",
    "plot_data['Class'] = plot_data['Network/Network Coverage'].map(network_classes)\n",
    "order =plot_data.groupby('Network/Network Coverage').ipTM.median().sort_values(ascending=False).index"
   ]
  },
  {
   "cell_type": "code",
   "execution_count": 27,
   "metadata": {
    "ExecuteTime": {
     "end_time": "2024-11-01T22:48:16.144011Z",
     "start_time": "2024-11-01T22:48:15.654256Z"
    }
   },
   "outputs": [
    {
     "data": {
      "image/png": "[encoded data removed]",
      "text/plain": [
       "<Figure size 216x108 with 1 Axes>"
      ]
     },
     "metadata": {
      "needs_background": "light"
     },
     "output_type": "display_data"
    }
   ],
   "source": [
    "_ = plt.figure(figsize=(3,1.5))\n",
    "sns.violinplot(data=plot_data, x='Network/Network Coverage', y='ipTM', cut=0, linewidth=0.25, hue='Class', palette=['#44cf6c', '#ffa500', '#73c7e7'], \n",
    "                saturation=1, order=order)#, cut=0, inner='', fill=True)\n",
    "plt.hlines(rn_df.ipTM.median(), -0.5, len(sig_nets) - 0.5, color='firebrick', linestyle='--', linewidth=0.5)\n",
    "plt.ylim(0, 1)\n",
    "plt.xlim(-0.5, len(sig_nets)-0.5)\n",
    "ax  = plt.gca()\n",
    "ax.tick_params(axis='x', rotation=90)\n",
    "plt.savefig(figdir + 'Fig5F_Network_ipTM.jpg', bbox_inches='tight', dpi=300)"
   ]
  },
  {
   "cell_type": "markdown",
   "metadata": {},
   "source": [
    "## Figure 5G - ipTM of potentially novel predicted interactions"
   ]
  },
  {
   "cell_type": "code",
   "execution_count": 64,
   "metadata": {
    "ExecuteTime": {
     "end_time": "2024-11-01T22:51:14.221535Z",
     "start_time": "2024-11-01T22:51:14.212221Z"
    }
   },
   "outputs": [],
   "source": [
    "# extract the subset of results representing previously unreported interactions\n",
    "unreported_df = af_df.copy()[af_df['Analysis Set'] == 'Unreported']\n",
    "unreported_df_top = unreported_df.sort_values('Model Confidence', ascending=False).drop_duplicates(subset=['Pair_str', 'Network/Network Coverage'], keep='first')"
   ]
  },
  {
   "cell_type": "markdown",
   "metadata": {},
   "source": [
    "Check if the unreported ipTM scores also have a similar distribution shape"
   ]
  },
  {
   "cell_type": "code",
   "execution_count": 29,
   "metadata": {
    "ExecuteTime": {
     "end_time": "2024-11-01T22:48:16.159738Z",
     "start_time": "2024-11-01T22:48:16.156508Z"
    }
   },
   "outputs": [
    {
     "name": "stdout",
     "output_type": "stream",
     "text": [
      "Unreported pairs skew:\n"
     ]
    },
    {
     "data": {
      "text/plain": [
       "SkewtestResult(statistic=19.51920336904353, pvalue=7.540473876140386e-85)"
      ]
     },
     "execution_count": 29,
     "metadata": {},
     "output_type": "execute_result"
    }
   ],
   "source": [
    "print(\"Unreported pairs skew:\")\n",
    "skewtest(unreported_df_top.ipTM)"
   ]
  },
  {
   "cell_type": "code",
   "execution_count": 30,
   "metadata": {
    "ExecuteTime": {
     "end_time": "2024-11-01T22:48:16.166427Z",
     "start_time": "2024-11-01T22:48:16.160633Z"
    }
   },
   "outputs": [
    {
     "name": "stdout",
     "output_type": "stream",
     "text": [
      "ipTM threshold: 0.53\n"
     ]
    }
   ],
   "source": [
    "# Identify threshold for AF-supported\n",
    "iptm_th = rn_df.sort_values('Model Confidence', ascending=False).drop_duplicates(subset=['Pair_str'], keep='first').ipTM.describe(percentiles=[0.95])['95%']\n",
    "print('ipTM threshold:', iptm_th)  "
   ]
  },
  {
   "cell_type": "code",
   "execution_count": 31,
   "metadata": {
    "ExecuteTime": {
     "end_time": "2024-11-01T22:48:16.169342Z",
     "start_time": "2024-11-01T22:48:16.167266Z"
    }
   },
   "outputs": [],
   "source": [
    "unreported_df_top = unreported_df_top.assign(AFSupported = unreported_df_top.ipTM > iptm_th)"
   ]
  },
  {
   "cell_type": "code",
   "execution_count": 32,
   "metadata": {
    "ExecuteTime": {
     "end_time": "2024-11-01T22:48:16.173814Z",
     "start_time": "2024-11-01T22:48:16.170211Z"
    }
   },
   "outputs": [
    {
     "name": "stdout",
     "output_type": "stream",
     "text": [
      "Unique AF Supported interactions: 126\n"
     ]
    }
   ],
   "source": [
    "print(f'Unique AF Supported interactions: {unreported_df_top[unreported_df_top.AFSupported].Pair_str.nunique()}')"
   ]
  },
  {
   "cell_type": "code",
   "execution_count": 33,
   "metadata": {
    "ExecuteTime": {
     "end_time": "2024-11-01T22:48:16.180085Z",
     "start_time": "2024-11-01T22:48:16.174754Z"
    }
   },
   "outputs": [
    {
     "name": "stdout",
     "output_type": "stream",
     "text": [
      "Network validation rates:\n"
     ]
    },
    {
     "data": {
      "text/plain": [
       "Network/Network Coverage\n",
       "SIGNOR      0.640000\n",
       "Reactome    0.239130\n",
       "MINT        0.140000\n",
       "IntAct      0.102041\n",
       "PID2        0.102041\n",
       "Name: AFSupported, dtype: float64"
      ]
     },
     "execution_count": 33,
     "metadata": {},
     "output_type": "execute_result"
    }
   ],
   "source": [
    "print('Network validation rates:')\n",
    "unreported_df_top.groupby('Network/Network Coverage').AFSupported.mean().sort_values(ascending=False).head(5)"
   ]
  },
  {
   "cell_type": "code",
   "execution_count": 34,
   "metadata": {
    "ExecuteTime": {
     "end_time": "2024-11-01T22:48:16.183915Z",
     "start_time": "2024-11-01T22:48:16.180981Z"
    }
   },
   "outputs": [],
   "source": [
    "# Plot the 10 networks with the highest mean ipTM scores\n",
    "plot_nets = unreported_df_top.groupby('Network/Network Coverage').ipTM.mean().sort_values(ascending=False).index[0:10]"
   ]
  },
  {
   "cell_type": "code",
   "execution_count": 35,
   "metadata": {
    "ExecuteTime": {
     "end_time": "2024-11-01T22:48:16.868811Z",
     "start_time": "2024-11-01T22:48:16.184790Z"
    }
   },
   "outputs": [
    {
     "data": {
      "image/png": "[encoded data removed]",
      "text/plain": [
       "<Figure size 216x108 with 1 Axes>"
      ]
     },
     "metadata": {
      "needs_background": "light"
     },
     "output_type": "display_data"
    }
   ],
   "source": [
    "_ = plt.figure(figsize=(3,1.5))\n",
    "\n",
    "sns.stripplot(data=unreported_df_top, x='Network/Network Coverage', y='ipTM', s=2, alpha=0.5, hue='AFSupported', palette=['forestgreen', 'grey'][::-1], order=plot_nets)\n",
    "sns.boxplot(data=unreported_df_top[unreported_df_top['Network/Network Coverage'].isin(plot_nets)], x='Network/Network Coverage', y='ipTM', fliersize=0, linecolor='grey', color='powderblue', linewidth=0.25)\n",
    "plt.hlines(iptm_th, -0.5, 9.5, color='forestgreen', linestyle='--', linewidth=0.5)\n",
    "plt.ylim(0,1)\n",
    "plt.ylabel('Interface Score (IPTM)')\n",
    "plt.xlim(-0.5, 9.5)\n",
    "plt.gca().tick_params(axis='x', rotation=90)\n",
    "with warnings.catch_warnings():\n",
    "    warnings.simplefilter(\"ignore\") # ignore deprecation warning\n",
    "    plt.savefig(figdir + 'Fig5G_iptm_af_support.jpg', bbox_inches='tight', dpi=300)"
   ]
  },
  {
   "cell_type": "markdown",
   "metadata": {},
   "source": [
    "Statistics"
   ]
  },
  {
   "cell_type": "code",
   "execution_count": 36,
   "metadata": {
    "ExecuteTime": {
     "end_time": "2024-11-01T22:48:16.944322Z",
     "start_time": "2024-11-01T22:48:16.869848Z"
    }
   },
   "outputs": [],
   "source": [
    "# mann whitney u test for each network against the random pairs\n",
    "muAF_results = {}\n",
    "for net in unreported_df_top['Network/Network Coverage'].unique():\n",
    "    muAF_rn = mannwhitneyu(unreported_df_top[unreported_df_top['Network/Network Coverage'] == net].ipTM, rn_df.ipTM).pvalue\n",
    "    muAF_results[net] = {'p': muAF_rn, 'median': unreported_df_top[unreported_df_top['Network/Network Coverage'] == net].ipTM.median()}\n",
    "muAF_df = pd.DataFrame.from_dict(muAF_results, orient='index')\n",
    "muAF_df['q'] = fdrcorrection(muAF_df['p'])[1]\n",
    "muAF_df['higher_ipTM'] = muAF_df['median'] > rn_df.ipTM.median()"
   ]
  },
  {
   "cell_type": "code",
   "execution_count": 37,
   "metadata": {
    "ExecuteTime": {
     "end_time": "2024-11-01T22:48:16.952407Z",
     "start_time": "2024-11-01T22:48:16.945204Z"
    }
   },
   "outputs": [
    {
     "data": {
      "text/html": [
       "<div>\n",
       "<style scoped>\n",
       "    .dataframe tbody tr th:only-of-type {\n",
       "        vertical-align: middle;\n",
       "    }\n",
       "\n",
       "    .dataframe tbody tr th {\n",
       "        vertical-align: top;\n",
       "    }\n",
       "\n",
       "    .dataframe thead th {\n",
       "        text-align: right;\n",
       "    }\n",
       "</style>\n",
       "<table border=\"1\" class=\"dataframe\">\n",
       "  <thead>\n",
       "    <tr style=\"text-align: right;\">\n",
       "      <th></th>\n",
       "      <th>p</th>\n",
       "      <th>median</th>\n",
       "      <th>q</th>\n",
       "      <th>higher_ipTM</th>\n",
       "    </tr>\n",
       "  </thead>\n",
       "  <tbody>\n",
       "    <tr>\n",
       "      <th>SIGNOR</th>\n",
       "      <td>1.227117e-17</td>\n",
       "      <td>0.610</td>\n",
       "      <td>4.540332e-16</td>\n",
       "      <td>True</td>\n",
       "    </tr>\n",
       "    <tr>\n",
       "      <th>PathwayCommons</th>\n",
       "      <td>1.055264e-02</td>\n",
       "      <td>0.280</td>\n",
       "      <td>3.003444e-02</td>\n",
       "      <td>True</td>\n",
       "    </tr>\n",
       "    <tr>\n",
       "      <th>SPIKE</th>\n",
       "      <td>2.131293e-02</td>\n",
       "      <td>0.260</td>\n",
       "      <td>5.632703e-02</td>\n",
       "      <td>True</td>\n",
       "    </tr>\n",
       "    <tr>\n",
       "      <th>Reactome</th>\n",
       "      <td>2.450379e-02</td>\n",
       "      <td>0.255</td>\n",
       "      <td>5.666502e-02</td>\n",
       "      <td>True</td>\n",
       "    </tr>\n",
       "    <tr>\n",
       "      <th>DIP</th>\n",
       "      <td>4.140477e-02</td>\n",
       "      <td>0.290</td>\n",
       "      <td>9.011625e-02</td>\n",
       "      <td>True</td>\n",
       "    </tr>\n",
       "    <tr>\n",
       "      <th>HPRD</th>\n",
       "      <td>6.532143e-02</td>\n",
       "      <td>0.265</td>\n",
       "      <td>1.342718e-01</td>\n",
       "      <td>True</td>\n",
       "    </tr>\n",
       "    <tr>\n",
       "      <th>MINT</th>\n",
       "      <td>8.293506e-02</td>\n",
       "      <td>0.260</td>\n",
       "      <td>1.514475e-01</td>\n",
       "      <td>True</td>\n",
       "    </tr>\n",
       "    <tr>\n",
       "      <th>PID2</th>\n",
       "      <td>8.595671e-02</td>\n",
       "      <td>0.270</td>\n",
       "      <td>1.514475e-01</td>\n",
       "      <td>True</td>\n",
       "    </tr>\n",
       "    <tr>\n",
       "      <th>iRefIndex</th>\n",
       "      <td>8.527178e-02</td>\n",
       "      <td>0.245</td>\n",
       "      <td>1.514475e-01</td>\n",
       "      <td>True</td>\n",
       "    </tr>\n",
       "    <tr>\n",
       "      <th>PhosphoSitePlus</th>\n",
       "      <td>1.152758e-01</td>\n",
       "      <td>0.260</td>\n",
       "      <td>1.854437e-01</td>\n",
       "      <td>True</td>\n",
       "    </tr>\n",
       "    <tr>\n",
       "      <th>ReactomeFI</th>\n",
       "      <td>3.194053e-01</td>\n",
       "      <td>0.265</td>\n",
       "      <td>4.727198e-01</td>\n",
       "      <td>True</td>\n",
       "    </tr>\n",
       "    <tr>\n",
       "      <th>ProteomeHD</th>\n",
       "      <td>4.919825e-01</td>\n",
       "      <td>0.260</td>\n",
       "      <td>6.741983e-01</td>\n",
       "      <td>True</td>\n",
       "    </tr>\n",
       "    <tr>\n",
       "      <th>PIPs</th>\n",
       "      <td>6.134464e-01</td>\n",
       "      <td>0.260</td>\n",
       "      <td>7.321780e-01</td>\n",
       "      <td>True</td>\n",
       "    </tr>\n",
       "    <tr>\n",
       "      <th>Mentha</th>\n",
       "      <td>8.303259e-01</td>\n",
       "      <td>0.250</td>\n",
       "      <td>8.991064e-01</td>\n",
       "      <td>True</td>\n",
       "    </tr>\n",
       "  </tbody>\n",
       "</table>\n",
       "</div>"
      ],
      "text/plain": [
       "                            p  median             q  higher_ipTM\n",
       "SIGNOR           1.227117e-17   0.610  4.540332e-16         True\n",
       "PathwayCommons   1.055264e-02   0.280  3.003444e-02         True\n",
       "SPIKE            2.131293e-02   0.260  5.632703e-02         True\n",
       "Reactome         2.450379e-02   0.255  5.666502e-02         True\n",
       "DIP              4.140477e-02   0.290  9.011625e-02         True\n",
       "HPRD             6.532143e-02   0.265  1.342718e-01         True\n",
       "MINT             8.293506e-02   0.260  1.514475e-01         True\n",
       "PID2             8.595671e-02   0.270  1.514475e-01         True\n",
       "iRefIndex        8.527178e-02   0.245  1.514475e-01         True\n",
       "PhosphoSitePlus  1.152758e-01   0.260  1.854437e-01         True\n",
       "ReactomeFI       3.194053e-01   0.265  4.727198e-01         True\n",
       "ProteomeHD       4.919825e-01   0.260  6.741983e-01         True\n",
       "PIPs             6.134464e-01   0.260  7.321780e-01         True\n",
       "Mentha           8.303259e-01   0.250  8.991064e-01         True"
      ]
     },
     "execution_count": 37,
     "metadata": {},
     "output_type": "execute_result"
    }
   ],
   "source": [
    "muAF_df[muAF_df.higher_ipTM].sort_values('q')"
   ]
  },
  {
   "cell_type": "markdown",
   "metadata": {},
   "source": [
    "## Supplemental Figures"
   ]
  },
  {
   "cell_type": "markdown",
   "metadata": {},
   "source": [
    "### Load PDB data\n",
    "\n",
    "For processing of raw PDB data, see `StateOFTheInteractomes_Notebooks/Supplemental_Code/PDB_processing.py`. For large datasets, PDB provides a batch download. Note that the data for complexes and single proteins were downloaded separately as outlined in the Methods:\n",
    "\n",
    "> Lists of experimentally resolved structures in the Protein Data Bank (PDB) were downloaded on August 14, 2024. Interactions with experimentally resolved structures were broadly defined as any protein pair reported as part of a human complex with at least two distinct protein entities that could be mapped to NCBI Gene IDs via UniProt Accession Codes. Proteins with individual experimentally resolved structures were broadly defined as any protein identified from structures containing one distinct protein entity (including homodimers and partial structures) that could be mapped to NCBI Gene IDs via UniProt Accession Codes. \n",
    "\n",
    "**Usage:**\n",
    "```\n",
    "python PDB_processing.py <datadir> <download_id> <complex|protein>\n",
    "# e.g. for complex data:\n",
    "python PDB_processing.py /path/to/pdb c45a276a8adf932dc105b8942846e27b complex\n",
    "```\n"
   ]
  },
  {
   "cell_type": "code",
   "execution_count": 38,
   "metadata": {
    "ExecuteTime": {
     "end_time": "2024-11-01T22:48:16.965068Z",
     "start_time": "2024-11-01T22:48:16.953334Z"
    }
   },
   "outputs": [],
   "source": [
    "pdb_edges = pd.read_csv(os.path.join(gitdir, 'StateOfTheInteractomes_Notebooks/Data/FigS4_pdb_edge_list.txt'), sep='\\t', index_col=0)\n",
    "with open(os.path.join(gitdir, 'StateOfTheInteractomes_Notebooks/Data/FigS4_pdb_node_list.txt'), 'r') as f:\n",
    "    pdb_nodes = [int(x.strip()) for x in f.readlines()]"
   ]
  },
  {
   "cell_type": "code",
   "execution_count": 39,
   "metadata": {
    "ExecuteTime": {
     "end_time": "2024-11-01T22:48:17.023699Z",
     "start_time": "2024-11-01T22:48:16.966024Z"
    }
   },
   "outputs": [],
   "source": [
    "pdb_edges['Pair_str'] = pdb_edges['GeneA'].astype(str) + '-' + pdb_edges['GeneB'].astype(str)\n",
    "pdb_edges['EdgeInPDB'] = 1"
   ]
  },
  {
   "cell_type": "code",
   "execution_count": 40,
   "metadata": {
    "ExecuteTime": {
     "end_time": "2024-11-01T22:48:17.107886Z",
     "start_time": "2024-11-01T22:48:17.024729Z"
    }
   },
   "outputs": [],
   "source": [
    "def add_pdb_info(top_mods_df, pdb_edge_list, singles, group_by, return_original_df=False):\n",
    "    top_mods_df = top_mods_df.merge(pdb_edge_list.loc[:,('Pair_str', 'EdgeInPDB')], on='Pair_str', how='left')\n",
    "    top_mods_df['NodesInPDB'] = top_mods_df.apply(lambda x: np.sum([int(x['NCBI Gene ID A']) in singles, int(x['NCBI Gene ID B']) in singles]) , axis=1)\n",
    "    if return_original_df:\n",
    "        return top_mods_df\n",
    "    edge_df = top_mods_df.groupby(group_by).agg({\n",
    "        'EdgeInPDB': 'value_counts'\n",
    "    }).unstack().fillna(0)\n",
    "    edge_df.columns = ['_'.join(map(str, col)).strip() for col in edge_df.columns.values]\n",
    "    edge_df = edge_df.reset_index()\n",
    "    aggregated_df = top_mods_df[top_mods_df['EdgeInPDB'].isna()].groupby(group_by).agg({\n",
    "        'NodesInPDB': 'value_counts'\n",
    "    }).unstack().fillna(0)\n",
    "    aggregated_df.columns = ['_'.join(map(str, col)).strip() for col in aggregated_df.columns.values]\n",
    "\n",
    "    # Reset the index for plotting\n",
    "    aggregated_df = aggregated_df.reset_index()\n",
    "    plot_pdb_df = aggregated_df.merge(edge_df, on=group_by, how='outer').set_index(group_by).fillna(0)\n",
    "    bin_counts = top_mods_df[group_by].value_counts().sort_index()\n",
    "    plot_pdb_df_frac = np.divide(plot_pdb_df.T,  bin_counts.values).T\n",
    "    col_names = {'NodesInPDB_0': 'None', 'NodesInPDB_1': 'One Individual Protein', 'NodesInPDB_2': 'Both Individual Proteins', 'EdgeInPDB_1.0': 'Interaction'}\n",
    "    return plot_pdb_df.rename(columns=col_names), plot_pdb_df_frac.rename(columns=col_names)"
   ]
  },
  {
   "cell_type": "markdown",
   "metadata": {},
   "source": [
    "### Appendix Figure S4A - PDB vs Network Coverage"
   ]
  },
  {
   "cell_type": "code",
   "execution_count": 41,
   "metadata": {
    "ExecuteTime": {
     "end_time": "2024-11-01T22:48:17.193858Z",
     "start_time": "2024-11-01T22:48:17.109204Z"
    }
   },
   "outputs": [],
   "source": [
    "coverage_pdb, coverage_pdb_frac = add_pdb_info(coverage_df_top, pdb_edges, pdb_nodes, group_by='Edge_Bin')"
   ]
  },
  {
   "cell_type": "code",
   "execution_count": 42,
   "metadata": {
    "ExecuteTime": {
     "end_time": "2024-11-01T22:48:17.502425Z",
     "start_time": "2024-11-01T22:48:17.194926Z"
    }
   },
   "outputs": [
    {
     "data": {
      "image/png": "[encoded data removed]",
      "text/plain": [
       "<Figure size 144x72 with 1 Axes>"
      ]
     },
     "metadata": {
      "needs_background": "light"
     },
     "output_type": "display_data"
    }
   ],
   "source": [
    "_ = plt.figure(figsize=(2, 1))\n",
    "ax = plt.gca()\n",
    "plot_pdb_df_frac = coverage_pdb_frac.loc[:, ('Interaction', 'Both Individual Proteins', 'One Individual Protein')]\n",
    "plot_pdb_df_frac.plot(kind='bar', stacked=True, color=['rebeccapurple', 'mediumpurple', 'thistle'], ax=ax, \n",
    "                      width=0.8, edgecolor='black', linewidth=0.5)\n",
    "\n",
    "_ = plt.xticks([i for i in range(10)], labels=[0, '1-4', '5-8', '9-12', '13-16', '17-20', '21-24', '25-28', '29-32', '33+'], \n",
    "               rotation=45)\n",
    "plt.ylabel('% Interactions')\n",
    "plt.xlabel('Network Coverage')\n",
    "_ = plt.yticks([0,0.5,1], ['0', '50', '100'])\n",
    "\n",
    "plt.savefig(os.path.join(figdir, 'FigS4A_PDB_coverage_bar_plot.jpg'), bbox_inches='tight')\n"
   ]
  },
  {
   "cell_type": "markdown",
   "metadata": {},
   "source": [
    "### Appendix Figure S4B - PDB representation of network sampled interactions"
   ]
  },
  {
   "cell_type": "code",
   "execution_count": 43,
   "metadata": {
    "ExecuteTime": {
     "end_time": "2024-11-01T22:48:17.598819Z",
     "start_time": "2024-11-01T22:48:17.503422Z"
    }
   },
   "outputs": [],
   "source": [
    "network_pdb, network_pdb_frac = add_pdb_info(network_df_top, pdb_edges, pdb_nodes,group_by='Network/Network Coverage' )"
   ]
  },
  {
   "cell_type": "code",
   "execution_count": 44,
   "metadata": {
    "ExecuteTime": {
     "end_time": "2024-11-01T22:48:17.602425Z",
     "start_time": "2024-11-01T22:48:17.599876Z"
    }
   },
   "outputs": [],
   "source": [
    "net_order = network_df_top.groupby('Network/Network Coverage').ipTM.median().sort_values(ascending=False).index.to_list()"
   ]
  },
  {
   "cell_type": "code",
   "execution_count": 45,
   "metadata": {
    "ExecuteTime": {
     "end_time": "2024-11-01T22:48:17.608712Z",
     "start_time": "2024-11-01T22:48:17.603396Z"
    }
   },
   "outputs": [],
   "source": [
    "# consider networks with significantly different median ipTM in either direction\n",
    "sig_nets = [x for x in list(mu_df[mu_df.fdr_rn < 0.15].index)]"
   ]
  },
  {
   "cell_type": "code",
   "execution_count": 46,
   "metadata": {
    "ExecuteTime": {
     "end_time": "2024-11-01T22:48:17.614289Z",
     "start_time": "2024-11-01T22:48:17.609650Z"
    }
   },
   "outputs": [],
   "source": [
    "network_df_top['Class'] = network_df_top['Network/Network Coverage'].apply(lambda x: network_classes[x] if x in sig_nets else 'x')"
   ]
  },
  {
   "cell_type": "code",
   "execution_count": 47,
   "metadata": {
    "ExecuteTime": {
     "end_time": "2024-11-01T22:48:20.233739Z",
     "start_time": "2024-11-01T22:48:17.615136Z"
    }
   },
   "outputs": [
    {
     "data": {
      "image/png": "[encoded data removed]",
      "text/plain": [
       "<Figure size 396x144 with 2 Axes>"
      ]
     },
     "metadata": {
      "needs_background": "light"
     },
     "output_type": "display_data"
    }
   ],
   "source": [
    "_, [ax1, ax2] = plt.subplots(nrows=2, ncols=1, figsize=(5.5, 2), sharex=True)\n",
    "sns.violinplot(network_df_top, x='Network/Network Coverage', y='ipTM', hue='Class',\n",
    "               palette = [blue, green, orange, 'lightgrey'], hue_order=['Composite', 'Curated', 'Experimental', 'x'], \n",
    "               order=net_order, ax=ax2, saturation=1, cut=0)\n",
    "ax2.hlines(random_median, -0.5, 44.5,color='red', linestyle='--', linewidth=0.5)\n",
    "ax2.tick_params(axis='x', rotation=90)\n",
    "ax2.set_xlim(-0.5, 44.5)\n",
    "\n",
    "\n",
    "net_pdb_df_frac = network_pdb_frac.loc[:,  ('Interaction', 'Both Individual Proteins', 'One Individual Protein')]\n",
    "net_pdb_df_frac.loc[net_order].plot(kind='bar', stacked=True, color=['rebeccapurple', 'mediumpurple', 'thistle'], ax=ax1, \n",
    "                                    width=0.8, edgecolor='black', linewidth=0.5)\n",
    "ax1.set_ylabel('% Interactions')\n",
    "_ = ax1.set_yticks([0,0.5,1], ['0', '50', '100'])\n",
    "ax2.set_ylim(0,1)\n",
    "plt.savefig(os.path.join(figdir, 'FigS4B_pdb_network_specific_full_results.jpg'),dpi=400, bbox_inches='tight')\n",
    "_ = ax2.set_xlabel('')"
   ]
  },
  {
   "cell_type": "markdown",
   "metadata": {},
   "source": [
    "### Appendix Figure S4C - Correlation between PDB presence and ipTM score"
   ]
  },
  {
   "cell_type": "code",
   "execution_count": 48,
   "metadata": {
    "ExecuteTime": {
     "end_time": "2024-11-01T22:48:20.239486Z",
     "start_time": "2024-11-01T22:48:20.235080Z"
    }
   },
   "outputs": [],
   "source": [
    "plot_scatter = network_pdb_frac.join(network_df_top.groupby('Network/Network Coverage').ipTM.mean())"
   ]
  },
  {
   "cell_type": "code",
   "execution_count": 49,
   "metadata": {
    "ExecuteTime": {
     "end_time": "2024-11-01T22:48:20.495858Z",
     "start_time": "2024-11-01T22:48:20.240482Z"
    }
   },
   "outputs": [
    {
     "data": {
      "image/png": "[encoded data removed]",
      "text/plain": [
       "<Figure size 144x72 with 2 Axes>"
      ]
     },
     "metadata": {
      "needs_background": "light"
     },
     "output_type": "display_data"
    }
   ],
   "source": [
    "_, [ax1, ax2] = plt.subplots(nrows=1, ncols=2, figsize=(2,1), sharex=True, sharey=True)\n",
    "sns.scatterplot(plot_scatter, x='Both Individual Proteins', y='ipTM', color='mediumpurple', ax=ax2, s=10)\n",
    "sns.scatterplot(plot_scatter, x='Interaction', y='ipTM', color='rebeccapurple', ax=ax1, s=10)\n",
    "ax1.set_ylabel('ipTM Score')\n",
    "ax1.set_xlabel('Frac Interactions')\n",
    "_ = ax1.set_title('Interaction\\nin PDB', fontsize=7)\n",
    "_ = ax2.set_title('Both Proteins\\nin PDB', fontsize=7)\n",
    "ax2.set_xlabel('Frac Interactions')\n",
    "plt.savefig(os.path.join(figdir, 'FigS4C_pdb_network_scatter.jpg'), dpi=400, bbox_inches='tight')"
   ]
  },
  {
   "cell_type": "code",
   "execution_count": 50,
   "metadata": {
    "ExecuteTime": {
     "end_time": "2024-11-01T22:48:20.500791Z",
     "start_time": "2024-11-01T22:48:20.496998Z"
    }
   },
   "outputs": [
    {
     "data": {
      "text/plain": [
       "None                       -0.288973\n",
       "One Individual Protein     -0.008331\n",
       "Both Individual Proteins    0.526767\n",
       "Interaction                 0.286343\n",
       "ipTM                        1.000000\n",
       "Name: ipTM, dtype: float64"
      ]
     },
     "execution_count": 50,
     "metadata": {},
     "output_type": "execute_result"
    }
   ],
   "source": [
    "plot_scatter.corr().ipTM"
   ]
  },
  {
   "cell_type": "markdown",
   "metadata": {},
   "source": [
    "### Appendix Figure S4D - AF Support for previously unreported interactions across all networks"
   ]
  },
  {
   "cell_type": "code",
   "execution_count": 51,
   "metadata": {
    "ExecuteTime": {
     "end_time": "2024-11-01T22:48:21.766224Z",
     "start_time": "2024-11-01T22:48:20.501759Z"
    }
   },
   "outputs": [
    {
     "data": {
      "image/png": "[encoded data removed]",
      "text/plain": [
       "<Figure size 432x108 with 1 Axes>"
      ]
     },
     "metadata": {
      "needs_background": "light"
     },
     "output_type": "display_data"
    }
   ],
   "source": [
    "_ = plt.figure(figsize=(6,1.5))\n",
    "plot_all_nets = unreported_df_top.groupby('Network/Network Coverage').AFSupported.sum().sort_values(ascending=False).index\n",
    "\n",
    "sns.stripplot(data=unreported_df_top, x='Network/Network Coverage', y='ipTM', s=2, alpha=0.5, hue='AFSupported', palette=['forestgreen', 'grey'][::-1], order=plot_all_nets)\n",
    "sns.boxplot(data=unreported_df_top[unreported_df_top['Network/Network Coverage'].isin(plot_all_nets)], x='Network/Network Coverage', y='ipTM', fliersize=0, linecolor='grey', color='powderblue', linewidth=0.25)\n",
    "plt.hlines(iptm_th, -0.5, len(plot_all_nets)-0.5, color='forestgreen', linestyle='--', linewidth=0.5)\n",
    "plt.ylim(0,1)\n",
    "plt.ylabel('Interface Score (IPTM)')\n",
    "plt.xlim(-0.5, len(plot_all_nets)-0.5)\n",
    "_ = plt.xlabel('')\n",
    "plt.gca().tick_params(axis='x', rotation=90)\n",
    "with warnings.catch_warnings():\n",
    "    warnings.simplefilter(\"ignore\") # ignore deprecation warning\n",
    "    plt.savefig(figdir + 'FigS4D_iptm_af_support.jpg', bbox_inches='tight', dpi=300)\n"
   ]
  },
  {
   "cell_type": "markdown",
   "metadata": {},
   "source": [
    "### Appendix Figure S4E - PDB presence of AF-supported, previously unreported interactions"
   ]
  },
  {
   "cell_type": "code",
   "execution_count": 52,
   "metadata": {
    "ExecuteTime": {
     "end_time": "2024-11-01T22:48:21.791533Z",
     "start_time": "2024-11-01T22:48:21.767341Z"
    }
   },
   "outputs": [],
   "source": [
    "supported_pdb_df, supported_pdb_df_frac = add_pdb_info(unreported_df_top[unreported_df_top.AFSupported].drop_duplicates(subset=['Pair_str']), \n",
    "                                                   pdb_edges, pdb_nodes, 'Network/Network Coverage')"
   ]
  },
  {
   "cell_type": "code",
   "execution_count": 53,
   "metadata": {
    "ExecuteTime": {
     "end_time": "2024-11-01T22:48:21.869334Z",
     "start_time": "2024-11-01T22:48:21.792720Z"
    }
   },
   "outputs": [],
   "source": [
    "unsupported_pdb_df, unsupported_pdb_df_frac = add_pdb_info(unreported_df_top[~unreported_df_top.AFSupported].drop_duplicates(subset=['Pair_str']), \n",
    "                                                 pdb_edges, pdb_nodes, 'Network/Network Coverage')"
   ]
  },
  {
   "cell_type": "code",
   "execution_count": 54,
   "metadata": {
    "ExecuteTime": {
     "end_time": "2024-11-01T22:48:21.873308Z",
     "start_time": "2024-11-01T22:48:21.870526Z"
    }
   },
   "outputs": [],
   "source": [
    "# add null data for networks with no AF-supported interactions\n",
    "missing_nets = [net for net in order if net not in supported_pdb_df_frac.index]\n",
    "add_df = pd.DataFrame({x:0 for x in supported_pdb_df_frac.columns}, index=missing_nets)\n",
    "supported_pdb_df_frac = pd.concat([supported_pdb_df_frac, add_df])"
   ]
  },
  {
   "cell_type": "code",
   "execution_count": 55,
   "metadata": {
    "ExecuteTime": {
     "end_time": "2024-11-01T22:48:21.878561Z",
     "start_time": "2024-11-01T22:48:21.874404Z"
    }
   },
   "outputs": [],
   "source": [
    "supported = supported_pdb_df.sum(axis=0)\n",
    "unsupported = unsupported_pdb_df.sum(axis=0)\n",
    "results_mat = pd.DataFrame({'Supported':supported, \"Unsupported\":unsupported})"
   ]
  },
  {
   "cell_type": "markdown",
   "metadata": {},
   "source": [
    "Check that all expected values are > 5, for chi-squared test of independence"
   ]
  },
  {
   "cell_type": "code",
   "execution_count": 56,
   "metadata": {
    "ExecuteTime": {
     "end_time": "2024-11-01T22:48:21.883538Z",
     "start_time": "2024-11-01T22:48:21.879533Z"
    }
   },
   "outputs": [
    {
     "name": "stdout",
     "output_type": "stream",
     "text": [
      "[[  93.11392405 1132.88607595]\n",
      " [  30.53164557  371.46835443]\n",
      " [   2.35443038   28.64556962]]\n"
     ]
    }
   ],
   "source": [
    "# \n",
    "expected = results_mat.mean(axis=1)*results_mat.mean(axis=1)\n",
    "chi2, p, dof, expected = chi2_contingency(results_mat)\n",
    "print(expected)"
   ]
  },
  {
   "cell_type": "markdown",
   "metadata": {},
   "source": [
    "This assumption is not met so consolidate the PDB categories"
   ]
  },
  {
   "cell_type": "code",
   "execution_count": 57,
   "metadata": {
    "ExecuteTime": {
     "end_time": "2024-11-01T22:48:21.898206Z",
     "start_time": "2024-11-01T22:48:21.884409Z"
    }
   },
   "outputs": [],
   "source": [
    "results_mat_consolidated = results_mat.T.copy()\n",
    "results_mat_consolidated['Any PDB'] = results_mat_consolidated['One Individual Protein'] + results_mat_consolidated['Both Individual Proteins']\n",
    "results_mat_consolidated = results_mat_consolidated.drop(columns=['One Individual Protein', 'Both Individual Proteins'])"
   ]
  },
  {
   "cell_type": "code",
   "execution_count": 58,
   "metadata": {
    "ExecuteTime": {
     "end_time": "2024-11-01T22:48:21.905324Z",
     "start_time": "2024-11-01T22:48:21.899174Z"
    }
   },
   "outputs": [
    {
     "data": {
      "text/html": [
       "<div>\n",
       "<style scoped>\n",
       "    .dataframe tbody tr th:only-of-type {\n",
       "        vertical-align: middle;\n",
       "    }\n",
       "\n",
       "    .dataframe tbody tr th {\n",
       "        vertical-align: top;\n",
       "    }\n",
       "\n",
       "    .dataframe thead th {\n",
       "        text-align: right;\n",
       "    }\n",
       "</style>\n",
       "<table border=\"1\" class=\"dataframe\">\n",
       "  <thead>\n",
       "    <tr style=\"text-align: right;\">\n",
       "      <th></th>\n",
       "      <th>None</th>\n",
       "      <th>Any PDB</th>\n",
       "    </tr>\n",
       "  </thead>\n",
       "  <tbody>\n",
       "    <tr>\n",
       "      <th>Supported</th>\n",
       "      <td>103.0</td>\n",
       "      <td>23.0</td>\n",
       "    </tr>\n",
       "    <tr>\n",
       "      <th>Unsupported</th>\n",
       "      <td>1123.0</td>\n",
       "      <td>410.0</td>\n",
       "    </tr>\n",
       "  </tbody>\n",
       "</table>\n",
       "</div>"
      ],
      "text/plain": [
       "               None  Any PDB\n",
       "Supported     103.0     23.0\n",
       "Unsupported  1123.0    410.0"
      ]
     },
     "execution_count": 58,
     "metadata": {},
     "output_type": "execute_result"
    }
   ],
   "source": [
    "results_mat_consolidated"
   ]
  },
  {
   "cell_type": "markdown",
   "metadata": {},
   "source": [
    "Perform chi-squared test"
   ]
  },
  {
   "cell_type": "code",
   "execution_count": 59,
   "metadata": {
    "ExecuteTime": {
     "end_time": "2024-11-01T22:48:21.909446Z",
     "start_time": "2024-11-01T22:48:21.906304Z"
    }
   },
   "outputs": [
    {
     "name": "stdout",
     "output_type": "stream",
     "text": [
      "Chi-square statistic: 3.9229811352952146\n",
      "P-value: 0.04763034741364811\n",
      "Degrees of freedom: 1\n",
      "Expected frequencies:\n",
      "[[  93.11392405   32.88607595]\n",
      " [1132.88607595  400.11392405]]\n"
     ]
    }
   ],
   "source": [
    "\n",
    "\n",
    "chi2, p, dof, expected = chi2_contingency(results_mat_consolidated)\n",
    "print(f\"Chi-square statistic: {chi2}\")\n",
    "print(f\"P-value: {p}\")\n",
    "print(f\"Degrees of freedom: {dof}\")\n",
    "print(\"Expected frequencies:\")\n",
    "print(expected)"
   ]
  },
  {
   "cell_type": "code",
   "execution_count": 60,
   "metadata": {
    "ExecuteTime": {
     "end_time": "2024-11-01T22:48:22.076745Z",
     "start_time": "2024-11-01T22:48:21.910390Z"
    }
   },
   "outputs": [
    {
     "data": {
      "image/png": "[encoded data removed]",
      "text/plain": [
       "<Figure size 72x72 with 1 Axes>"
      ]
     },
     "metadata": {
      "needs_background": "light"
     },
     "output_type": "display_data"
    }
   ],
   "source": [
    "_ = plt.figure(figsize=(1,1))\n",
    "ax = plt.gca()\n",
    "# 'rebeccapurple', 'mediumpurple', 'thistle', 'white'\n",
    "prop_df = np.divide(results_mat, results_mat.sum(axis=0))\n",
    "prop_df.T.loc[:, ('Both Individual Proteins', 'One Individual Protein', 'None')].plot(kind='bar', stacked=True, color=['mediumpurple', 'thistle', 'white'], edgecolor='black', linewidth=0.5, ax=ax)\n",
    "plt.ylabel('% Interactions')\n",
    "_ = plt.yticks([0, 0.25, 0.5, 0.75, 1], [0, 25, 50, 75, 100])\n",
    "plt.savefig(os.path.join(figdir, 'FigS4E_iptm_supported_pdb_bars.jpg'), bbox_inches='tight')"
   ]
  },
  {
   "cell_type": "markdown",
   "metadata": {},
   "source": [
    "### Fig. EV5 - AF Supported Interactions"
   ]
  },
  {
   "cell_type": "code",
   "execution_count": 61,
   "metadata": {
    "ExecuteTime": {
     "end_time": "2024-11-01T22:48:22.198479Z",
     "start_time": "2024-11-01T22:48:22.077822Z"
    }
   },
   "outputs": [
    {
     "data": {
      "image/png": "[encoded data removed]",
      "text/plain": [
       "<Figure size 432x288 with 1 Axes>"
      ]
     },
     "metadata": {},
     "output_type": "display_data"
    }
   ],
   "source": [
    "G_supported = nx.from_pandas_edgelist(unreported_df_top[unreported_df_top.AFSupported], source='NCBI Gene ID A', \n",
    "                                      target='NCBI Gene ID B', \n",
    "                                      edge_attr=['Network/Network Coverage', 'pTM', 'ipTM', 'Model Confidence'])\n",
    "nx.draw_spring(G_supported, node_size=10)"
   ]
  }
 ],
 "metadata": {
  "kernelspec": {
   "display_name": "Python [conda env:pcnet_py3]",
   "language": "python",
   "name": "conda-env-pcnet_py3-py"
  },
  "language_info": {
   "codemirror_mode": {
    "name": "ipython",
    "version": 3
   },
   "file_extension": ".py",
   "mimetype": "text/x-python",
   "name": "python",
   "nbconvert_exporter": "python",
   "pygments_lexer": "ipython3",
   "version": "3.10.0"
  },
  "toc": {
   "base_numbering": 1,
   "nav_menu": {},
   "number_sections": true,
   "sideBar": true,
   "skip_h1_title": false,
   "title_cell": "Table of Contents",
   "title_sidebar": "Contents",
   "toc_cell": false,
   "toc_position": {
    "height": "calc(100% - 180px)",
    "left": "10px",
    "top": "150px",
    "width": "284.146px"
   },
   "toc_section_display": true,
   "toc_window_display": true
  },
  "varInspector": {
   "cols": {
    "lenName": 16,
    "lenType": 16,
    "lenVar": 40
   },
   "kernels_config": {
    "python": {
     "delete_cmd_postfix": "",
     "delete_cmd_prefix": "del ",
     "library": "var_list.py",
     "varRefreshCmd": "print(var_dic_list())"
    },
    "r": {
     "delete_cmd_postfix": ") ",
     "delete_cmd_prefix": "rm(",
     "library": "var_list.r",
     "varRefreshCmd": "cat(var_dic_list()) "
    }
   },
   "types_to_exclude": [
    "module",
    "function",
    "builtin_function_or_method",
    "instance",
    "_Feature"
   ],
   "window_display": false
  }
 },
 "nbformat": 4,
 "nbformat_minor": 4
}
