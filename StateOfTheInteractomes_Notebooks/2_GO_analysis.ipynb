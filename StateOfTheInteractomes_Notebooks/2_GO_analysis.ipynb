{
 "cells": [
  {
   "cell_type": "markdown",
   "metadata": {},
   "source": [
    "# GO Analysis\n",
    "\n",
    "*State of the Interactomes: an evaluation of molecular networks for generating biological insights.* Wright, SN et al. [https://doi.org/10.1101/2024.04.26.587073]  \n",
    "This notebook contains code and results related to:\n",
    "* Figure 2D, 2G\n",
    "* Supplemental Figures 4C-D\n",
    "\n",
    "**Note: due to the size of network data sets utilized in this study, this notebook draws on summarized results rather than re-evaluating all networks directly.**"
   ]
  },
  {
   "cell_type": "markdown",
   "metadata": {},
   "source": [
    "## Setup"
   ]
  },
  {
   "cell_type": "code",
   "execution_count": 1,
   "metadata": {
    "ExecuteTime": {
     "end_time": "2024-09-17T17:38:25.015891Z",
     "start_time": "2024-09-17T17:38:11.888572Z"
    }
   },
   "outputs": [
    {
     "name": "stderr",
     "output_type": "stream",
     "text": [
      "/cellar/users/snwright/anaconda3/envs/pcnet_py3/lib/python3.10/site-packages/requests/__init__.py:102: RequestsDependencyWarning: urllib3 (1.26.7) or chardet (5.1.0)/charset_normalizer (2.0.7) doesn't match a supported version!\n",
      "  warnings.warn(\"urllib3 ({}) or chardet ({})/charset_normalizer ({}) doesn't match a supported \"\n"
     ]
    }
   ],
   "source": [
    "import pandas as pd\n",
    "import matplotlib.pyplot as plt\n",
    "import seaborn as sns\n",
    "import numpy as np\n",
    "from statsmodels.stats.multitest import fdrcorrection\n",
    "from neteval.network_statistics import load_network_names, NetworkStats\n",
    "import os\n",
    "from neteval.gsea_functions import *\n",
    "from matplotlib.cm import ScalarMappable\n",
    "import pickle\n",
    "from tqdm import tqdm"
   ]
  },
  {
   "cell_type": "code",
   "execution_count": 2,
   "metadata": {
    "ExecuteTime": {
     "end_time": "2024-09-17T17:38:25.070785Z",
     "start_time": "2024-09-17T17:38:25.016958Z"
    }
   },
   "outputs": [],
   "source": [
    "gitdir = os.path.dirname(os.getcwd())\n",
    "figdir = os.path.join(gitdir, 'StateOfTheInteractomes_Notebooks/Figures/')\n",
    "network_names = load_network_names(os.path.join(gitdir, 'StateOfTheInteractomes_Notebooks/Data/network_names_final.txt'))\n",
    "network_classes = load_network_names(os.path.join(gitdir, 'StateOfTheInteractomes_Notebooks/Data/network_classifications.txt'))\n",
    "example_network_names = load_network_names(os.path.join(gitdir, 'Data/example_network_names.txt'))\n",
    "go_slim_path = 'https://current.geneontology.org/ontology/subsets/goslim_generic.obo'"
   ]
  },
  {
   "cell_type": "code",
   "execution_count": 3,
   "metadata": {
    "ExecuteTime": {
     "end_time": "2024-09-17T18:11:19.706071Z",
     "start_time": "2024-09-17T18:11:19.702012Z"
    }
   },
   "outputs": [],
   "source": [
    "plt.rcParams['svg.fonttype'] = 'none'\n",
    "plt.rcParams.update({'font.size': 7})\n",
    "plt.rcParams['axes.linewidth'] = 0.5\n",
    "plt.rcParams['svg.fonttype'] = 'none'\n",
    "plt.rcParams.update({'font.size': 7})\n",
    "plt.rcParams['axes.linewidth'] = 0.5\n",
    "plt.rcParams['hatch.linewidth'] = 0.5\n",
    "plt.rcParams['xtick.major.width'] = 0.4\n",
    "plt.rcParams['ytick.major.width'] = 0.4\n",
    "plt.rcParams['xtick.minor.width'] = 0.3\n",
    "plt.rcParams['ytick.minor.width'] = 0.3\n",
    "plt.rcParams['legend.frameon'] = False\n",
    "plt.rcParams['xtick.major.size'] = 3\n",
    "plt.rcParams['ytick.major.size'] = 3\n",
    "plt.rcParams['xtick.minor.size'] = 2\n",
    "plt.rcParams['ytick.minor.size'] = 2\n",
    "plt.rcParams['xtick.major.pad'] = 1\n",
    "plt.rcParams['ytick.major.pad'] = 1\n",
    "plt.rcParams['axes.labelpad'] = 1\n",
    "plt.rcParams['patch.linewidth'] = 0.25"
   ]
  },
  {
   "cell_type": "markdown",
   "metadata": {},
   "source": [
    "## Get Gene Ontology and GO associations"
   ]
  },
  {
   "cell_type": "code",
   "execution_count": 4,
   "metadata": {
    "ExecuteTime": {
     "end_time": "2024-09-17T17:38:33.717628Z",
     "start_time": "2024-09-17T17:38:25.071876Z"
    }
   },
   "outputs": [],
   "source": [
    "# to use the stable version utilized in State of the Interactomes:\n",
    "if os.path.exists(os.path.join(gitdir, 'Data/gene2go.gz')):\n",
    "    g2g = pd.read_csv(os.path.join(gitdir, 'Data/gene2go.gz'), sep='\\t')\n",
    "    g2g.to_csv(os.path.join(gitdir, 'StateOfTheInteractomes_Notebooks/gene2go'), sep='\\t', index=False)"
   ]
  },
  {
   "cell_type": "markdown",
   "metadata": {},
   "source": [
    "Get the GO Slim ontology and map to associations from NCBI"
   ]
  },
  {
   "cell_type": "code",
   "execution_count": 5,
   "metadata": {
    "ExecuteTime": {
     "end_time": "2024-09-17T17:38:38.766992Z",
     "start_time": "2024-09-17T17:38:33.718883Z"
    }
   },
   "outputs": [
    {
     "name": "stdout",
     "output_type": "stream",
     "text": [
      "  EXISTS: gene2go\n",
      "HMS:0:00:03.656623 342,316 annotations, 20,739 genes, 18,984 GOs, 1 taxids READ: gene2go \n"
     ]
    }
   ],
   "source": [
    "go_slim = GoData(go_slim_path, taxid=9606)"
   ]
  },
  {
   "cell_type": "markdown",
   "metadata": {},
   "source": [
    "Get the full GO ontology and map to associations from NCBI"
   ]
  },
  {
   "cell_type": "code",
   "execution_count": 6,
   "metadata": {
    "ExecuteTime": {
     "end_time": "2024-09-17T17:38:49.101742Z",
     "start_time": "2024-09-17T17:38:38.768369Z"
    }
   },
   "outputs": [
    {
     "name": "stdout",
     "output_type": "stream",
     "text": [
      "  EXISTS: gene2go\n",
      "HMS:0:00:04.055159 342,316 annotations, 20,739 genes, 18,984 GOs, 1 taxids READ: gene2go \n"
     ]
    }
   ],
   "source": [
    "go_data = GoData(ontpath = 'http://purl.obolibrary.org/obo/go.obo', debug=None)"
   ]
  },
  {
   "cell_type": "markdown",
   "metadata": {},
   "source": [
    "Set the background to all protein coding genes"
   ]
  },
  {
   "cell_type": "code",
   "execution_count": 7,
   "metadata": {
    "ExecuteTime": {
     "end_time": "2024-09-17T17:38:49.149766Z",
     "start_time": "2024-09-17T17:38:49.102546Z"
    }
   },
   "outputs": [],
   "source": [
    "background = pd.read_csv(os.path.join(gitdir, \"Data/protein_coding_genes.txt\"))\n",
    "background = [g for g in background[\"GeneID\"] if g in go_data.geneid2go]"
   ]
  },
  {
   "cell_type": "markdown",
   "metadata": {},
   "source": [
    "Filter the slim onotology based on term size and parent-child relationships"
   ]
  },
  {
   "cell_type": "code",
   "execution_count": 8,
   "metadata": {
    "ExecuteTime": {
     "end_time": "2024-09-17T17:38:49.152953Z",
     "start_time": "2024-09-17T17:38:49.150538Z"
    }
   },
   "outputs": [],
   "source": [
    "slim_terms = go_slim.go.nodes(data=True)\n",
    "go_branches = {}\n",
    "for term in slim_terms:\n",
    "    if term[1]['namespace'] not in go_branches.keys():\n",
    "        go_branches[term[1]['namespace']] = []\n",
    "    go_branches[term[1]['namespace']].append(term[0])"
   ]
  },
  {
   "cell_type": "markdown",
   "metadata": {},
   "source": [
    "Celllar Compartments"
   ]
  },
  {
   "cell_type": "code",
   "execution_count": 9,
   "metadata": {
    "ExecuteTime": {
     "end_time": "2024-09-17T17:38:49.943571Z",
     "start_time": "2024-09-17T17:38:49.153749Z"
    }
   },
   "outputs": [
    {
     "name": "stdout",
     "output_type": "stream",
     "text": [
      "Input terms: 29\n",
      "Term with less than 100 : 3\n",
      "Small terms removed:\n",
      "\tcell wall\n",
      "\tplastid\n",
      "\tthylakoid\n",
      "Terms with more than 4000 : 7\n",
      "Large terms removed:\n",
      "\textracellular region\n",
      "\tnucleus\n",
      "\tnucleoplasm\n",
      "\tvacuole\n",
      "\tcytosol\n",
      "\tplasma membrane\n",
      "\torganelle\n",
      "Terms remaining: 19\n",
      "GO:0000228 GO:0005694 chromosome [2425] is a superterm of  nuclear chromosome [207]\n",
      "GO:0005768 GO:0031410 cytoplasmic vesicle [2484] is a superterm of  endosome [1043]\n",
      "GO:0005815 GO:0005856 cytoskeleton [2658] is a superterm of  microtubule organizing center [846]\n",
      "GO:0031012 GO:0030312 external encapsulating structure [567] is a superterm of  extracellular matrix [566]\n",
      "Removing terms:\n",
      "\tcytoplasmic vesicle\n",
      "\tchromosome\n",
      "\tcytoskeleton\n",
      "\texternal encapsulating structure\n"
     ]
    }
   ],
   "source": [
    "cc_terms, cc_df = process_go_slim_terms('CC', go_data, go_branches, min_genes=100, max_genes=4000, verbose=True)\n"
   ]
  },
  {
   "cell_type": "markdown",
   "metadata": {},
   "source": [
    "Biological Processes"
   ]
  },
  {
   "cell_type": "code",
   "execution_count": 10,
   "metadata": {
    "ExecuteTime": {
     "end_time": "2024-09-17T17:38:51.020784Z",
     "start_time": "2024-09-17T17:38:49.944492Z"
    }
   },
   "outputs": [
    {
     "name": "stdout",
     "output_type": "stream",
     "text": [
      "Input terms: 72\n",
      "Term with less than 100 : 8\n",
      "Small terms removed:\n",
      "\trespiratory system process\n",
      "\tperoxisome organization\n",
      "\tphotosynthesis\n",
      "\tsnRNA metabolic process\n",
      "\tendocrine process\n",
      "\thepaticobiliary system process\n",
      "\tcell wall organization or biogenesis\n",
      "\tnitrogen cycle metabolic process\n",
      "Terms with more than 4000 : 3\n",
      "Large terms removed:\n",
      "\tsignaling\n",
      "\tcell differentiation\n",
      "\tanatomical structure development\n",
      "Terms remaining: 61\n",
      "GO:0000278 GO:0140014 mitotic nuclear division [915] is a superterm of  mitotic cell cycle [915]\n",
      "GO:0000910 GO:0061024 membrane organization [1781] is a superterm of  cytokinesis [187]\n",
      "GO:0006355 GO:0006351 DNA-templated transcription [3530] is a superterm of  regulation of DNA-templated transcription [3405]\n",
      "GO:0006457 GO:0051604 protein maturation [634] is a superterm of  protein folding [222]\n",
      "GO:0006486 GO:1901135 carbohydrate derivative metabolic process [1088] is a superterm of  protein glycosylation [226]\n",
      "GO:0140013 GO:0022414 reproductive process [1515] is a superterm of  meiotic nuclear division [280]\n",
      "GO:0140014 GO:0000278 mitotic cell cycle [915] is a superterm of  mitotic nuclear division [915]\n",
      "Removing terms:\n",
      "\tmitotic cell cycle\n",
      "\tDNA-templated transcription\n",
      "\tcarbohydrate derivative metabolic process\n",
      "\tmitotic nuclear division\n",
      "\tprotein maturation\n",
      "\tmembrane organization\n",
      "\treproductive process\n"
     ]
    }
   ],
   "source": [
    "bp_terms, bp_df = process_go_slim_terms('BP', go_data, go_branches, min_genes=100, max_genes=4000, verbose=True)"
   ]
  },
  {
   "cell_type": "markdown",
   "metadata": {},
   "source": [
    "Molecular Functions"
   ]
  },
  {
   "cell_type": "code",
   "execution_count": 11,
   "metadata": {
    "ExecuteTime": {
     "end_time": "2024-09-17T17:38:51.868331Z",
     "start_time": "2024-09-17T17:38:51.022606Z"
    }
   },
   "outputs": [
    {
     "name": "stdout",
     "output_type": "stream",
     "text": [
      "Input terms: 40\n",
      "Term with less than 100 : 11\n",
      "Small terms removed:\n",
      "\tvirus receptor activity\n",
      "\tantioxidant activity\n",
      "\tprotein tag activity\n",
      "\tprotein folding chaperone\n",
      "\tnutrient reservoir activity\n",
      "\ttoxin activity\n",
      "\tcell adhesion mediator activity\n",
      "\tvirus coreceptor activity\n",
      "\tgeneral transcription initiation factor activity\n",
      "\tmolecular sensor activity\n",
      "\tmolecular sequestering activity\n",
      "Terms with more than 4000 : 1\n",
      "Large terms removed:\n",
      "\tcatalytic activity\n",
      "Terms remaining: 28\n",
      "GO:0003924 GO:0016787 hydrolase activity [3505] is a superterm of  GTPase activity [668]\n",
      "GO:0038024 GO:0060090 molecular adaptor activity [1182] is a superterm of  cargo receptor activity [121]\n",
      "GO:0048018 GO:0060089 molecular transducer activity [2116] is a superterm of  receptor ligand activity [510]\n",
      "GO:0048018 GO:0098772 molecular function regulator activity [2230] is a superterm of  receptor ligand activity [510]\n",
      "GO:0140657 GO:0016787 hydrolase activity [3505] is a superterm of  ATP-dependent activity [748]\n",
      "Removing terms:\n",
      "\tmolecular transducer activity\n",
      "\thydrolase activity\n",
      "\tmolecular function regulator activity\n",
      "\tmolecular adaptor activity\n"
     ]
    }
   ],
   "source": [
    "mf_terms, mf_df = process_go_slim_terms('MF',go_data, go_branches, min_genes=100, max_genes=4000, verbose=True)"
   ]
  },
  {
   "cell_type": "markdown",
   "metadata": {},
   "source": [
    "## Example Analysis"
   ]
  },
  {
   "cell_type": "code",
   "execution_count": 12,
   "metadata": {
    "ExecuteTime": {
     "end_time": "2024-09-17T17:38:51.955525Z",
     "start_time": "2024-09-17T17:38:51.869131Z"
    }
   },
   "outputs": [],
   "source": [
    "prefix_file = os.path.join(gitdir, 'Data/example_prefix_file.txt')\n",
    "stats = NetworkStats(prefix_file, datadir = os.path.join(gitdir, 'Data/example_outputs/'))"
   ]
  },
  {
   "cell_type": "markdown",
   "metadata": {},
   "source": [
    "Using the nodefiles for each network, perform enrichment analysis for each branch of the ontology  \n",
    "\n",
    "Cellular Compartments"
   ]
  },
  {
   "cell_type": "code",
   "execution_count": 13,
   "metadata": {
    "ExecuteTime": {
     "end_time": "2024-09-17T17:38:52.581763Z",
     "start_time": "2024-09-17T17:38:51.956318Z"
    }
   },
   "outputs": [
    {
     "name": "stdout",
     "output_type": "stream",
     "text": [
      "Warning:  12  genes not in the ontology and/or background genes.\n",
      "Warning:  19  genes not in the ontology and/or background genes.\n",
      "Warning:  11  genes not in the ontology and/or background genes.\n"
     ]
    }
   ],
   "source": [
    "gsea_cc = enrich_nodefiles(stats.node_files, go_data, background, cc_terms)"
   ]
  },
  {
   "cell_type": "markdown",
   "metadata": {},
   "source": [
    "Biological Processes"
   ]
  },
  {
   "cell_type": "code",
   "execution_count": 14,
   "metadata": {
    "ExecuteTime": {
     "end_time": "2024-09-17T17:38:54.564643Z",
     "start_time": "2024-09-17T17:38:52.582654Z"
    }
   },
   "outputs": [
    {
     "name": "stdout",
     "output_type": "stream",
     "text": [
      "Warning:  12  genes not in the ontology and/or background genes.\n",
      "Warning:  19  genes not in the ontology and/or background genes.\n",
      "Warning:  11  genes not in the ontology and/or background genes.\n"
     ]
    }
   ],
   "source": [
    "gsea_bp = enrich_nodefiles(stats.node_files, go_data, background, bp_terms)"
   ]
  },
  {
   "cell_type": "markdown",
   "metadata": {},
   "source": [
    "Molecular Functions"
   ]
  },
  {
   "cell_type": "code",
   "execution_count": 15,
   "metadata": {
    "ExecuteTime": {
     "end_time": "2024-09-17T17:38:56.008839Z",
     "start_time": "2024-09-17T17:38:54.566987Z"
    }
   },
   "outputs": [
    {
     "name": "stdout",
     "output_type": "stream",
     "text": [
      "Warning:  12  genes not in the ontology and/or background genes.\n",
      "Warning:  19  genes not in the ontology and/or background genes.\n",
      "Warning:  11  genes not in the ontology and/or background genes.\n"
     ]
    }
   ],
   "source": [
    "gsea_mf = enrich_nodefiles(stats.node_files, go_data, background, mf_terms)"
   ]
  },
  {
   "cell_type": "markdown",
   "metadata": {},
   "source": [
    "Visualization"
   ]
  },
  {
   "cell_type": "code",
   "execution_count": 16,
   "metadata": {
    "ExecuteTime": {
     "end_time": "2024-09-17T17:38:56.015525Z",
     "start_time": "2024-09-17T17:38:56.009799Z"
    }
   },
   "outputs": [],
   "source": [
    "gsea_example_results = {'CC': gsea_cc, 'BP': gsea_bp, 'MF': gsea_mf}\n",
    "for go_type, gsea_results in gsea_example_results.items():\n",
    "    gsea_results['Network'] = gsea_results['node_set'].map(example_network_names)\n",
    "    gsea_results['branch'] = go_type\n",
    "    \n",
    "gsea_example_results = pd.concat(gsea_example_results.values())"
   ]
  },
  {
   "cell_type": "code",
   "execution_count": 17,
   "metadata": {
    "ExecuteTime": {
     "end_time": "2024-09-17T17:38:56.115795Z",
     "start_time": "2024-09-17T17:38:56.016306Z"
    }
   },
   "outputs": [],
   "source": [
    "def go_plot_wrapper(enrich_df, net_names=None, network_set=None, sig_th=0.01, direction='both', cluster_on='P-value', \n",
    "                    correction=None, log_transform=False, marker='o'):\n",
    "    \"\"\" Wrapper function to plot GO enrichment results.\n",
    "    \n",
    "    Args:\n",
    "        enrich_df: DataFrame, GO enrichment results\n",
    "        net_names: dict, mapping network prefixes to network names\n",
    "        network_set: list, subset of networks to include in the plot. Default None, uses all networks in enrich_df.\n",
    "        sig_th: float, significance threshold for enrichment results. Default 0.01.\n",
    "        direction: str, direction of enrichment results ('under' or 'over' enrichment) to include. Default 'both'.\n",
    "        cluster_on: str, column to cluster on. Default 'P-value'.\n",
    "        correction: str, multiple testing correction to apply. Default None.\n",
    "        log_transform: bool, whether to log transform the values. Default False.\n",
    "        marker: str, marker to use in the plot. Default 'o'.\n",
    "    \n",
    "    Returns:\n",
    "        row_order: dict, mapping networks to their row order in the plot.\n",
    "    \n",
    "    \"\"\"\n",
    "    plot_df, plot_terms = subset_go_results(enrich_df, network_set, sig_th=sig_th, direction=direction)\n",
    "    row_order, col_order, value_mat, direction_mat = cluster_go_results(plot_df, col_to_cluster=cluster_on, \n",
    "                                                                        log_transform=log_transform, correction=correction)\n",
    "    plot_bubble(value_mat, plot_df, col_order, row_order, net_names=net_names, network_set=network_set, term_set=plot_terms, ax=None, marker=marker)\n",
    "    return row_order\n",
    "\n",
    "def subset_go_results(enrich_df, network_set=None, sig_th=0.01, direction='both'):\n",
    "    \"\"\" Subset GO enrichment results based on significance and direction.\n",
    "\n",
    "    Args:\n",
    "        enrich_df: DataFrame, GO enrichment results\n",
    "        network_set: list, subset of networks to include in the plot. Default None, uses all networks in enrich_df.\n",
    "        sig_th: float, significance threshold for enrichment results. Default 0.01.\n",
    "        direction: str, direction of enrichment results ('under' or 'over' enrichment) to include. Default 'both'.\n",
    "\n",
    "    Returns:\n",
    "        out_df: DataFrame, subset of GO enrichment results\n",
    "        sig_terms: list, significant GO terms\n",
    "    \"\"\"\n",
    "    if network_set is None:\n",
    "        network_set = enrich_df.Network.unique()\n",
    "    sig_df = enrich_df[enrich_df.Network.isin(network_set) & (enrich_df['P-value'] < sig_th)]\n",
    "    if direction == 'under':\n",
    "        sig_df = sig_df[sig_df.OE < 1]\n",
    "    elif direction == 'over':\n",
    "        sig_df = sig_df[sig_df.OE > 1]\n",
    "    sig_terms = sig_df.Term.unique()\n",
    "    out_df = enrich_df[enrich_df.Term.isin(sig_terms) & enrich_df.Network.isin(network_set)]\n",
    "    return out_df, sig_terms\n",
    "\n",
    "def cluster_go_results(plot_df, col_to_cluster, log_transform=False, correction=None, row_order=None, col_order=None, **kwargs):\n",
    "    \"\"\" Cluster GO enrichment results.\n",
    "\n",
    "    Args:\n",
    "        plot_df: DataFrame, GO enrichment results\n",
    "        col_to_cluster: str, column to cluster on.\n",
    "        log_transform: bool, whether to log transform the values. Default False.\n",
    "        correction: str, multiple testing correction to apply. Default None.\n",
    "        row_order: dict, mapping networks to their row order in the plot. Default None.\n",
    "        col_order: dict, mapping GO terms to their column order in the plot. Default None.\n",
    "        **kwargs: additional arguments to pass to sns.clustermap.\n",
    "        \n",
    "    Returns:\n",
    "        row_order: dict, mapping networks to their row order in the plot.\n",
    "        col_order: dict, mapping GO terms to their column order in the plot.\n",
    "        value_mat: DataFrame, matrix of values to plot.\n",
    "        direction_mat: DataFrame, matrix of directions ('over' and 'under' enrichment) to plot.\n",
    "    \"\"\"\n",
    "    plot_df = plot_df.assign(direction=[1 if x > 1 else -1 for x in plot_df[\"OE\"]])\n",
    "    if (correction is not None) and (col_to_cluster ==  'P-value'):\n",
    "        plot_df['q-value'] = fdrcorrection(plot_df['P-value'])[1]\n",
    "        col_to_cluster = 'q-value'\n",
    "    # create matrix of values\n",
    "    value_mat = plot_df.pivot(index=\"Name\", columns=\"Network\", values=col_to_cluster)\n",
    "    direction_mat = plot_df.pivot(index=\"Name\", columns=\"Network\", values=\"direction\")\n",
    "    if row_order is not None:\n",
    "        value_mat = value_mat[list(row_order.keys())]\n",
    "        direction_mat = direction_mat[list(row_order.keys())]\n",
    "    if log_transform:\n",
    "        value_mat = -np.log10(value_mat)\n",
    "    if col_to_cluster in [\"P-value\", 'q-value']:\n",
    "        value_mat = value_mat * direction_mat\n",
    "    cg = sns.clustermap(value_mat.T, **kwargs)\n",
    "    try:\n",
    "        col_order = {value_mat.index.values[idx]:i for i, idx in enumerate(cg.dendrogram_col.reordered_ind)}\n",
    "    except AttributeError:\n",
    "        print(\"No column clustering performed\")\n",
    "        col_order = {idx:i for i, idx in enumerate(value_mat.index.values)}\n",
    "    try:\n",
    "        row_order = {value_mat.columns.values[idx]:i for i, idx in enumerate(cg.dendrogram_row.reordered_ind)}\n",
    "    except AttributeError:\n",
    "        print(\"No row clustering performed\")\n",
    "        row_order = {idx:i for i, idx in enumerate(value_mat.columns.values)}\n",
    "    plt.close()\n",
    "    return row_order, col_order, value_mat, direction_mat\n",
    "\n",
    "def plot_bubble( data_mat, data_df,x_order, y_order, net_names=None, network_set=None, term_set=None, ax=None,\n",
    "                size_range=(5, 100), size_norm=(1, 5), marker='o'):\n",
    "    \"\"\" Plot bubble plot of GO enrichment results.\n",
    "\n",
    "    Args:\n",
    "        data_mat: DataFrame, matrix of values to plot\n",
    "        data_df: DataFrame, GO enrichment results\n",
    "        x_order: dict, mapping GO terms to their column order in the plot\n",
    "        y_order: dict, mapping networks to their row order in the plot\n",
    "        net_names: dict, mapping network prefixes to network names\n",
    "        network_set: list, subset of networks to include in the plot. Default None, uses all networks in data_df.\n",
    "        term_set: list, subset of GO terms to include in the plot. Default None, uses all terms in data_df.\n",
    "        ax: matplotlib axis to plot on. Default None, creates a new figure.\n",
    "        size_range: tuple, range of sizes for the bubbles. Default (5, 100).\n",
    "        size_norm: tuple, range of values to normalize the sizes. Default (1, 5).\n",
    "        marker: str, marker to use in the plot. Default 'o'.\n",
    "\n",
    "    Returns:\n",
    "        x_order: dict, mapping GO terms to their column order in the plot\n",
    "        \n",
    "    \"\"\"\n",
    "    if network_set is None:\n",
    "        network_set = data_df.Network.unique()\n",
    "    data_df = data_df[data_df[\"Network\"].isin(network_set)]\n",
    "    data_df = data_df[data_df[\"Term\"].isin(term_set)]\n",
    "    data_df[\"x\"] = data_df[\"Name\"].apply(lambda x: x_order[x])\n",
    "    data_df[\"y\"] = data_df[\"Network\"].apply(lambda y: y_order[y])\n",
    "    data_df[\"direction\"] = [1 if x > 1 else -1 for x in data_df[\"OE\"]]\n",
    "    data_df['plot_p'] = -np.log10(fdrcorrection(data_df['P-value'])[1]) * data_df['direction']\n",
    "    data_df['plot_oe'] = data_df.OE.apply(lambda x: x if x>1 else 1/(x))\n",
    "    scales = np.linspace(-10, 10, 100)\n",
    "    cmap= plt.get_cmap('RdBu_r')\n",
    "    norm = plt.Normalize(vmin=-10, vmax=10)\n",
    "    sm = ScalarMappable(cmap=cmap, norm=norm)\n",
    "    sm.set_array([])\n",
    "\n",
    "    if ax is None:\n",
    "        fig, ax = plt.subplots(nrows=1, ncols=1, figsize=(0.21 * len(x_order),0.18 * len(y_order)), linewidth=0.5)\n",
    "    plt.sca(ax)\n",
    "    data_df['marker']= 'test'\n",
    "    res = sns.scatterplot(data=data_df,x='x', y='y', hue='plot_p', size='plot_oe', palette='RdBu_r', hue_norm=(-10, 10), \n",
    "                    sizes=size_range, ax=ax, legend=False, size_norm=size_norm, style='marker', markers=[marker], edgecolor='black', linewidth=0.1)\n",
    "    #res = sns.relplot(data=data_df,x='x', y='y', hue='plot_p', size='plot_oe', palette='RdBu', hue_norm=(-10, 10), \n",
    "    #                sizes=(5,100), height = 0.2 * len(y_order), aspect = 0.8, legend='brief')\n",
    "    plt.xticks(list(x_order.values()), list(x_order.keys()), rotation=90, fontsize=7)\n",
    "    try:\n",
    "        plt.yticks(list(y_order.values()), [net_names[y] for y in y_order.keys()], fontsize=7)\n",
    "    except (KeyError, TypeError) as e:\n",
    "        plt.yticks(list(y_order.values()), list(y_order.keys()), fontsize=7)\n",
    "    plt.xlim(-0.5, len(x_order)-0.5)\n",
    "    plt.ylim(-0.5, len(y_order)-0.5)\n",
    "    plt.xlabel('GO Term', fontsize=7)\n",
    "    plt.ylabel('Network', fontsize=7)\n",
    "    #sns.move_legend(res, (1.05,0))\n",
    "    for y in range(len(y_order)-1):\n",
    "        plt.hlines(y+0.5, -1, len(x_order), color='grey', linewidth=0.25)\n",
    "    for x in range(len(x_order)-1):\n",
    "        plt.vlines(x+0.5, -1, len(y_order), color='grey', linewidth=0.25)\n",
    "    cbar = fig.colorbar(sm, ax= ax, label=\"-log10(q)\")\n",
    "    #cbar.ax.set_label(\"-log10(q)\", fontsize=7)\n",
    "    cbar.ax.tick_params(labelsize=7, length=2, pad=1)\n",
    "    h, l = create_size_legend(size_range, size_norm, [i for i in range(size_norm[0], size_norm[1]+1)], marker=marker)\n",
    "    plt.legend(handles=h, labels=l, loc=(2,0.5), title='Effect Size', fontsize=7)\n",
    "    return x_order\n",
    "\n",
    "\n",
    "def create_size_legend(size_range, size_norm, points_to_plot, marker='o'):\n",
    "    \"\"\" Create legend for bubble plot sizes.\n",
    "    \n",
    "    Args:\n",
    "        size_range: tuple, range of sizes for the bubbles.\n",
    "        size_norm: tuple, range of values to normalize the sizes.\n",
    "        points_to_plot: list, values to plot.\n",
    "        marker: str, marker to use in the plot. Default 'o'.\n",
    "        \n",
    "    Returns:\n",
    "        handles: list, handles for the legend\n",
    "        labels: list, labels for the legend\n",
    "    \"\"\"\n",
    "    handles = []\n",
    "    labels = [str(x)+'x' for x in points_to_plot]\n",
    "    for point in points_to_plot:\n",
    "        multiplier = (point-size_norm[0])/(size_norm[1] - size_norm[0])\n",
    "        val = size_range[0] + (size_range[1] - size_range[0])* multiplier\n",
    "        handles.append(plt.scatter([], [], s=val, color='black', label=str(point), marker=marker, linewidth=0))\n",
    "    labels[-1] = '>'+labels[-1]\n",
    "    return handles, labels"
   ]
  },
  {
   "cell_type": "code",
   "execution_count": 18,
   "metadata": {
    "ExecuteTime": {
     "end_time": "2024-09-17T17:38:56.870045Z",
     "start_time": "2024-09-17T17:38:56.116567Z"
    }
   },
   "outputs": [
    {
     "data": {
      "image/png": "[encoded data removed]",
      "text/plain": [
       "<Figure size 332.64x38.88 with 2 Axes>"
      ]
     },
     "metadata": {
      "needs_background": "light"
     },
     "output_type": "display_data"
    }
   ],
   "source": [
    "_ = go_plot_wrapper(gsea_example_results, sig_th=0.01, direction='under', cluster_on='P-value', \n",
    "                    correction='fdr', log_transform=True, marker='s')"
   ]
  },
  {
   "cell_type": "markdown",
   "metadata": {},
   "source": [
    "## Fig 2D Full GSEA results"
   ]
  },
  {
   "cell_type": "markdown",
   "metadata": {},
   "source": [
    "Load data from supplemental table 2 and plot the results for any terms with a significant under-enrichment in any network containing fewer than 10,000 nodes.  \n",
    "**Note:** resulting plot clustering may not exactly match the published figure."
   ]
  },
  {
   "cell_type": "code",
   "execution_count": 19,
   "metadata": {
    "ExecuteTime": {
     "end_time": "2024-09-17T17:38:57.016616Z",
     "start_time": "2024-09-17T17:38:56.870917Z"
    }
   },
   "outputs": [],
   "source": [
    "table2 = pd.read_csv(os.path.join(gitdir, 'StateOfTheInteractomes_Notebooks/Data/TableS2.txt'), sep='\\t')\n",
    "full_gsea = table2[table2['P-value'] != '-'].copy()\n",
    "full_gsea = full_gsea.rename(columns={\"GO Branch\": 'branch', 'Observed/Expected':'OE', 'Term name':'Name'})\n",
    "# use the reverse of the network names dictionary to map the network names to the original names\n",
    "full_gsea['node_set'] = full_gsea['Network'].map({v:k for k,v in network_names.items()}) \n",
    "full_gsea['P-value'] = full_gsea['P-value'].astype(float)\n",
    "full_gsea['OE'] = full_gsea['OE'].astype(float)"
   ]
  },
  {
   "cell_type": "code",
   "execution_count": 20,
   "metadata": {
    "ExecuteTime": {
     "end_time": "2024-09-17T17:38:57.036265Z",
     "start_time": "2024-09-17T17:38:57.017405Z"
    }
   },
   "outputs": [],
   "source": [
    "networks_10k = ['BIND', 'DIP', 'Havugimana', 'Hein', 'HuRI', 'HPRD', 'MINT', 'PhosphoSitePlus', 'PID2', 'PIPs', 'PrePPI', \n",
    "                'PROPER', 'ProteomeHD', 'PTMCode2', 'Reactome', 'SIGNOR', 'SPIKE', 'Wan', 'Youn']"
   ]
  },
  {
   "cell_type": "markdown",
   "metadata": {},
   "source": [
    "## TODO"
   ]
  },
  {
   "cell_type": "code",
   "execution_count": 21,
   "metadata": {
    "ExecuteTime": {
     "end_time": "2024-09-17T17:38:58.756911Z",
     "start_time": "2024-09-17T17:38:57.037960Z"
    }
   },
   "outputs": [
    {
     "data": {
      "image/png": "[encoded data removed]",
      "text/plain": [
       "<Figure size 589.68x246.24 with 2 Axes>"
      ]
     },
     "metadata": {
      "needs_background": "light"
     },
     "output_type": "display_data"
    }
   ],
   "source": [
    "_ = go_plot_wrapper(full_gsea, network_set=networks_10k, sig_th=0.01, direction='under', cluster_on='P-value', correction='fdr', log_transform=True, marker='s')"
   ]
  },
  {
   "cell_type": "markdown",
   "metadata": {},
   "source": [
    "## Example Interaction Analysis\n",
    "\n",
    "Load the edge statistics from 1_Statistics_and_Representation.ipynb"
   ]
  },
  {
   "cell_type": "code",
   "execution_count": 22,
   "metadata": {
    "ExecuteTime": {
     "end_time": "2024-09-17T17:38:58.773548Z",
     "start_time": "2024-09-17T17:38:58.757866Z"
    }
   },
   "outputs": [],
   "source": [
    "with open(os.path.join(gitdir, \"Data/example_outputs/edge_counts.pkl\"), \"rb\") as f:\n",
    "    edge_counts = pickle.load(f)\n",
    "with open(os.path.join(gitdir, \"Data/example_outputs/node_mapping.pkl\"), \"rb\") as f:\n",
    "    node_mapping = pickle.load(f)\n",
    "    "
   ]
  },
  {
   "cell_type": "markdown",
   "metadata": {},
   "source": [
    "Process the GO associations"
   ]
  },
  {
   "cell_type": "code",
   "execution_count": 23,
   "metadata": {
    "ExecuteTime": {
     "end_time": "2024-09-17T17:39:01.261100Z",
     "start_time": "2024-09-17T17:38:58.774320Z"
    }
   },
   "outputs": [],
   "source": [
    "use_terms = list(gsea_example_results.Term.unique())   \n",
    "slim_associations = {}\n",
    "for term in go_branches.keys():\n",
    "    for go_term in go_branches[term]:\n",
    "        slim_associations[go_term] = go_data.get_associated_genes(go_term)\n",
    "term_sizes = {term: len(slim_associations[term]) for term in use_terms}"
   ]
  },
  {
   "cell_type": "code",
   "execution_count": 24,
   "metadata": {
    "ExecuteTime": {
     "end_time": "2024-09-17T17:39:01.911316Z",
     "start_time": "2024-09-17T17:39:01.261862Z"
    }
   },
   "outputs": [],
   "source": [
    "go_totals = np.zeros((len(use_terms), len(use_terms)))\n",
    "for i, t1 in enumerate(use_terms):\n",
    "    for j, t2 in enumerate(use_terms):\n",
    "        if i == j:\n",
    "            go_totals[i,j] = term_sizes[t1]*(term_sizes[t1]-1)/2\n",
    "        else:\n",
    "            s = set(slim_associations[t1]).union(set(slim_associations[t2]))\n",
    "            go_totals[i,j] = len(s) * (len(s)-1)/2\n",
    "\n",
    "go_totals_df= pd.DataFrame(go_totals, index=use_terms, columns=use_terms)"
   ]
  },
  {
   "cell_type": "code",
   "execution_count": 25,
   "metadata": {
    "ExecuteTime": {
     "end_time": "2024-09-17T17:39:01.938649Z",
     "start_time": "2024-09-17T17:39:01.912093Z"
    }
   },
   "outputs": [],
   "source": [
    "mapped_go_dict = defaultdict(list)\n",
    "for go_term in slim_associations:\n",
    "    if go_term in use_terms:\n",
    "        for gene in slim_associations[go_term]:\n",
    "            if gene in node_mapping:\n",
    "                mapped_go_dict[node_mapping[gene]].append(go_term)"
   ]
  },
  {
   "cell_type": "code",
   "execution_count": 26,
   "metadata": {
    "ExecuteTime": {
     "end_time": "2024-09-17T17:39:17.935957Z",
     "start_time": "2024-09-17T17:39:01.939538Z"
    }
   },
   "outputs": [
    {
     "name": "stderr",
     "output_type": "stream",
     "text": [
      "100%|██████████| 57646/57646 [00:16<00:00, 3600.11it/s]\n"
     ]
    }
   ],
   "source": [
    "# Note that running this cell will take ~45 minutes\n",
    "go_counts = np.zeros((len(use_terms), len(use_terms)))\n",
    "for edge in tqdm(edge_counts):\n",
    "    e1_go = mapped_go_dict[edge[0]]\n",
    "    e2_go = mapped_go_dict[edge[1]]\n",
    "    if len(e1_go) == 0 or len(e2_go) == 0:\n",
    "        continue\n",
    "    shared_terms = set(e1_go).intersection(set(e2_go))\n",
    "    for term in shared_terms:\n",
    "        go_counts[use_terms.index(term), use_terms.index(term)] += 1\n",
    "    for go1 in e1_go:\n",
    "        for go2 in e2_go:\n",
    "            if go1 != go2:\n",
    "                if (go1 not in e2_go) or (go2 not in e1_go):\n",
    "                    go_counts[use_terms.index(go1), use_terms.index(go2)] += 1\n",
    "                    go_counts[use_terms.index(go2), use_terms.index(go1)] += 1\n",
    "                else:\n",
    "                    go_counts[use_terms.index(go1), use_terms.index(go2)] += 1"
   ]
  },
  {
   "cell_type": "code",
   "execution_count": 27,
   "metadata": {
    "ExecuteTime": {
     "end_time": "2024-09-17T17:39:18.249268Z",
     "start_time": "2024-09-17T17:39:17.937235Z"
    }
   },
   "outputs": [],
   "source": [
    "cg = sns.clustermap(go_counts/go_totals)\n",
    "order = cg.dendrogram_col.reordered_ind\n",
    "plt.close()"
   ]
  },
  {
   "cell_type": "code",
   "execution_count": 28,
   "metadata": {
    "ExecuteTime": {
     "end_time": "2024-09-17T17:39:18.253522Z",
     "start_time": "2024-09-17T17:39:18.250330Z"
    }
   },
   "outputs": [],
   "source": [
    "plot_go_counts = (go_counts/go_totals)[order, :][:, order]\n",
    "for i in range(len(plot_go_counts)):\n",
    "    for j in range(i+1,len(plot_go_counts)):\n",
    "        plot_go_counts[j,i] = 0"
   ]
  },
  {
   "cell_type": "code",
   "execution_count": 29,
   "metadata": {
    "ExecuteTime": {
     "end_time": "2024-09-17T17:39:18.264401Z",
     "start_time": "2024-09-17T17:39:18.254312Z"
    }
   },
   "outputs": [],
   "source": [
    "term_order = pd.DataFrame({'term':[use_terms[i] for i in order]})\n",
    "term_order = term_order.merge(gsea_example_results.loc[:, ('Term', 'Name')].drop_duplicates(), left_on='term', right_on='Term', how='left')"
   ]
  },
  {
   "cell_type": "code",
   "execution_count": 30,
   "metadata": {
    "ExecuteTime": {
     "end_time": "2024-09-17T17:39:32.031719Z",
     "start_time": "2024-09-17T17:39:18.265356Z"
    }
   },
   "outputs": [
    {
     "data": {
      "image/png": "[encoded data removed]",
      "text/plain": [
       "<Figure size 1080x1080 with 2 Axes>"
      ]
     },
     "metadata": {
      "needs_background": "light"
     },
     "output_type": "display_data"
    }
   ],
   "source": [
    "_ = plt.figure(figsize=(15,15))\n",
    "ax= plt.gca()\n",
    "sns.heatmap(pd.DataFrame(plot_go_counts, index=term_order['Name'], columns=term_order['Name']), cmap='gist_heat_r', square=True, vmin=0, vmax=0.05,xticklabels=True, yticklabels=True, ax=ax)\n",
    "\n",
    "ax.invert_yaxis()\n",
    "ax.spines['right'].set_visible(True)\n",
    "ax.spines['top'].set_visible(True)\n",
    "ax.spines['bottom'].set_visible(True)\n",
    "ax.spines['left'].set_visible(True)\n",
    "plt.savefig(figdir+\"Fig2I_GO_Interaction_heatmap.jpg\", dpi=400, bbox_inches='tight')"
   ]
  },
  {
   "cell_type": "markdown",
   "metadata": {},
   "source": [
    "## Fig 2G - GO Interaction Density"
   ]
  },
  {
   "cell_type": "code",
   "execution_count": 31,
   "metadata": {
    "ExecuteTime": {
     "end_time": "2024-09-17T17:39:32.089315Z",
     "start_time": "2024-09-17T17:39:32.034865Z"
    }
   },
   "outputs": [],
   "source": [
    "go_bin_data = pd.read_csv(os.path.join(gitdir, 'StateOfTheInteractomes_Notebooks/Data/Fig2I_go_bin_data.csv'), index_col=0)"
   ]
  },
  {
   "cell_type": "code",
   "execution_count": 32,
   "metadata": {
    "ExecuteTime": {
     "end_time": "2024-09-17T17:39:32.374313Z",
     "start_time": "2024-09-17T17:39:32.090103Z"
    }
   },
   "outputs": [],
   "source": [
    "cg = sns.clustermap(np.array(go_bin_data))\n",
    "order = cg.dendrogram_col.reordered_ind\n",
    "plt.close()"
   ]
  },
  {
   "cell_type": "code",
   "execution_count": 33,
   "metadata": {
    "ExecuteTime": {
     "end_time": "2024-09-17T17:39:32.378909Z",
     "start_time": "2024-09-17T17:39:32.375228Z"
    }
   },
   "outputs": [],
   "source": [
    "plot_go_counts = np.array(go_bin_data)[order, :][:, order]\n",
    "for i in range(len(plot_go_counts)):\n",
    "    for j in range(i+1,len(plot_go_counts)):\n",
    "        plot_go_counts[j,i] = 0"
   ]
  },
  {
   "cell_type": "code",
   "execution_count": 34,
   "metadata": {
    "ExecuteTime": {
     "end_time": "2024-09-17T17:39:32.483289Z",
     "start_time": "2024-09-17T17:39:32.379625Z"
    }
   },
   "outputs": [
    {
     "data": {
      "image/png": "[encoded data removed]",
      "text/plain": [
       "<Figure size 144x144 with 2 Axes>"
      ]
     },
     "metadata": {
      "needs_background": "light"
     },
     "output_type": "display_data"
    }
   ],
   "source": [
    "_ = plt.figure(figsize=(2,2))\n",
    "ax= plt.gca()\n",
    "sns.heatmap(plot_go_counts, cmap='gist_heat_r', square=True, vmin=0, vmax=1,xticklabels=False, yticklabels=False)\n",
    "ax = plt.gca()\n",
    "ax.invert_yaxis()\n",
    "ax.spines['right'].set_visible(True)\n",
    "ax.spines['top'].set_visible(True)\n",
    "ax.spines['bottom'].set_visible(True)\n",
    "ax.spines['left'].set_visible(True)"
   ]
  },
  {
   "cell_type": "markdown",
   "metadata": {},
   "source": [
    "## SFig4C-F - Gene function prediction\n",
    "\n",
    "For example analysis see `StateOfTheInteractomes_Notebooks/Supplemental_Code/EGAD_README.md`"
   ]
  },
  {
   "cell_type": "code",
   "execution_count": 35,
   "metadata": {
    "ExecuteTime": {
     "end_time": "2024-09-17T18:10:25.956969Z",
     "start_time": "2024-09-17T18:10:25.892801Z"
    }
   },
   "outputs": [],
   "source": [
    "## Load the gene function prediction results\n",
    "func_data = pd.read_csv(os.path.join(gitdir, 'StateOfTheInteractomes_Notebooks/Data/FigS4C_F_gene_function_prediction_results.tsv'), sep='\\t', index_col=0)"
   ]
  },
  {
   "cell_type": "code",
   "execution_count": 36,
   "metadata": {},
   "outputs": [
    {
     "data": {
      "text/html": [
       "<div>\n",
       "<style scoped>\n",
       "    .dataframe tbody tr th:only-of-type {\n",
       "        vertical-align: middle;\n",
       "    }\n",
       "\n",
       "    .dataframe tbody tr th {\n",
       "        vertical-align: top;\n",
       "    }\n",
       "\n",
       "    .dataframe thead th {\n",
       "        text-align: right;\n",
       "    }\n",
       "</style>\n",
       "<table border=\"1\" class=\"dataframe\">\n",
       "  <thead>\n",
       "    <tr style=\"text-align: right;\">\n",
       "      <th></th>\n",
       "      <th>Network</th>\n",
       "      <th>GO Branch</th>\n",
       "      <th>Term</th>\n",
       "      <th>Term name</th>\n",
       "      <th>P-value</th>\n",
       "      <th>Term_size</th>\n",
       "      <th>Intersection</th>\n",
       "      <th>Expected</th>\n",
       "      <th>Observed/Expected</th>\n",
       "      <th>Avg AUPRC</th>\n",
       "      <th>Degree Null AUPRC</th>\n",
       "    </tr>\n",
       "  </thead>\n",
       "  <tbody>\n",
       "    <tr>\n",
       "      <th>0</th>\n",
       "      <td>APID</td>\n",
       "      <td>CC</td>\n",
       "      <td>GO:0005815</td>\n",
       "      <td>microtubule organizing center</td>\n",
       "      <td>5.42E-26</td>\n",
       "      <td>843</td>\n",
       "      <td>824</td>\n",
       "      <td>742</td>\n",
       "      <td>1.11</td>\n",
       "      <td>-</td>\n",
       "      <td>-</td>\n",
       "    </tr>\n",
       "    <tr>\n",
       "      <th>1</th>\n",
       "      <td>APID</td>\n",
       "      <td>CC</td>\n",
       "      <td>GO:0005615</td>\n",
       "      <td>extracellular space</td>\n",
       "      <td>1.69E-21</td>\n",
       "      <td>3190</td>\n",
       "      <td>2958</td>\n",
       "      <td>2807</td>\n",
       "      <td>1.05</td>\n",
       "      <td>-</td>\n",
       "      <td>-</td>\n",
       "    </tr>\n",
       "    <tr>\n",
       "      <th>2</th>\n",
       "      <td>APID</td>\n",
       "      <td>CC</td>\n",
       "      <td>GO:0005768</td>\n",
       "      <td>endosome</td>\n",
       "      <td>7.70E-20</td>\n",
       "      <td>1037</td>\n",
       "      <td>995</td>\n",
       "      <td>912</td>\n",
       "      <td>1.09</td>\n",
       "      <td>-</td>\n",
       "      <td>-</td>\n",
       "    </tr>\n",
       "    <tr>\n",
       "      <th>3</th>\n",
       "      <td>APID</td>\n",
       "      <td>CC</td>\n",
       "      <td>GO:0005783</td>\n",
       "      <td>endoplasmic reticulum</td>\n",
       "      <td>9.78E-17</td>\n",
       "      <td>2020</td>\n",
       "      <td>1885</td>\n",
       "      <td>1777</td>\n",
       "      <td>1.06</td>\n",
       "      <td>-</td>\n",
       "      <td>-</td>\n",
       "    </tr>\n",
       "    <tr>\n",
       "      <th>4</th>\n",
       "      <td>APID</td>\n",
       "      <td>CC</td>\n",
       "      <td>GO:0005764</td>\n",
       "      <td>lysosome</td>\n",
       "      <td>1.04E-14</td>\n",
       "      <td>747</td>\n",
       "      <td>717</td>\n",
       "      <td>657</td>\n",
       "      <td>1.09</td>\n",
       "      <td>-</td>\n",
       "      <td>-</td>\n",
       "    </tr>\n",
       "  </tbody>\n",
       "</table>\n",
       "</div>"
      ],
      "text/plain": [
       "  Network GO Branch        Term                      Term name   P-value  \\\n",
       "0    APID        CC  GO:0005815  microtubule organizing center  5.42E-26   \n",
       "1    APID        CC  GO:0005615            extracellular space  1.69E-21   \n",
       "2    APID        CC  GO:0005768                       endosome  7.70E-20   \n",
       "3    APID        CC  GO:0005783          endoplasmic reticulum  9.78E-17   \n",
       "4    APID        CC  GO:0005764                       lysosome  1.04E-14   \n",
       "\n",
       "   Term_size  Intersection Expected Observed/Expected Avg AUPRC  \\\n",
       "0        843           824      742              1.11         -   \n",
       "1       3190          2958     2807              1.05         -   \n",
       "2       1037           995      912              1.09         -   \n",
       "3       2020          1885     1777              1.06         -   \n",
       "4        747           717      657              1.09         -   \n",
       "\n",
       "  Degree Null AUPRC  \n",
       "0                 -  \n",
       "1                 -  \n",
       "2                 -  \n",
       "3                 -  \n",
       "4                 -  "
      ]
     },
     "execution_count": 36,
     "metadata": {},
     "output_type": "execute_result"
    }
   ],
   "source": [
    "table2.head()"
   ]
  },
  {
   "cell_type": "code",
   "execution_count": 37,
   "metadata": {},
   "outputs": [],
   "source": [
    "func_data = table2[table2['Avg AUPRC'] != '-'].copy()"
   ]
  },
  {
   "cell_type": "code",
   "execution_count": 38,
   "metadata": {},
   "outputs": [],
   "source": [
    "func_data['Avg AUPRC'] = func_data['Avg AUPRC'].astype(float)\n",
    "func_data['Degree Null AUPRC'] = func_data['Degree Null AUPRC'].astype(float)\n",
    "func_data['Stat'] = 'PR'\n",
    "func_data['Type'] = func_data.Network.map(network_classes)"
   ]
  },
  {
   "cell_type": "code",
   "execution_count": 39,
   "metadata": {},
   "outputs": [
    {
     "data": {
      "text/html": [
       "<div>\n",
       "<style scoped>\n",
       "    .dataframe tbody tr th:only-of-type {\n",
       "        vertical-align: middle;\n",
       "    }\n",
       "\n",
       "    .dataframe tbody tr th {\n",
       "        vertical-align: top;\n",
       "    }\n",
       "\n",
       "    .dataframe thead th {\n",
       "        text-align: right;\n",
       "    }\n",
       "</style>\n",
       "<table border=\"1\" class=\"dataframe\">\n",
       "  <thead>\n",
       "    <tr style=\"text-align: right;\">\n",
       "      <th></th>\n",
       "      <th>Network</th>\n",
       "      <th>GO Branch</th>\n",
       "      <th>Term</th>\n",
       "      <th>Term name</th>\n",
       "      <th>P-value</th>\n",
       "      <th>Term_size</th>\n",
       "      <th>Intersection</th>\n",
       "      <th>Expected</th>\n",
       "      <th>Observed/Expected</th>\n",
       "      <th>Avg AUPRC</th>\n",
       "      <th>Degree Null AUPRC</th>\n",
       "      <th>Stat</th>\n",
       "      <th>Type</th>\n",
       "    </tr>\n",
       "  </thead>\n",
       "  <tbody>\n",
       "    <tr>\n",
       "      <th>91</th>\n",
       "      <td>APID</td>\n",
       "      <td>BP</td>\n",
       "      <td>GO:0008038</td>\n",
       "      <td>neuron recognition</td>\n",
       "      <td>-</td>\n",
       "      <td>46</td>\n",
       "      <td>43</td>\n",
       "      <td>-</td>\n",
       "      <td>-</td>\n",
       "      <td>0.001290</td>\n",
       "      <td>0.002070</td>\n",
       "      <td>PR</td>\n",
       "      <td>Composite</td>\n",
       "    </tr>\n",
       "    <tr>\n",
       "      <th>92</th>\n",
       "      <td>APID</td>\n",
       "      <td>BP</td>\n",
       "      <td>GO:1905145</td>\n",
       "      <td>cellular response to acetylcholine</td>\n",
       "      <td>-</td>\n",
       "      <td>33</td>\n",
       "      <td>31</td>\n",
       "      <td>-</td>\n",
       "      <td>-</td>\n",
       "      <td>0.005610</td>\n",
       "      <td>0.001480</td>\n",
       "      <td>PR</td>\n",
       "      <td>Composite</td>\n",
       "    </tr>\n",
       "    <tr>\n",
       "      <th>93</th>\n",
       "      <td>APID</td>\n",
       "      <td>BP</td>\n",
       "      <td>GO:0097094</td>\n",
       "      <td>craniofacial suture morphogenesis</td>\n",
       "      <td>-</td>\n",
       "      <td>18</td>\n",
       "      <td>15</td>\n",
       "      <td>-</td>\n",
       "      <td>-</td>\n",
       "      <td>0.000233</td>\n",
       "      <td>0.000708</td>\n",
       "      <td>PR</td>\n",
       "      <td>Composite</td>\n",
       "    </tr>\n",
       "    <tr>\n",
       "      <th>94</th>\n",
       "      <td>APID</td>\n",
       "      <td>BP</td>\n",
       "      <td>GO:0098780</td>\n",
       "      <td>response to mitochondrial depolarisation</td>\n",
       "      <td>-</td>\n",
       "      <td>21</td>\n",
       "      <td>21</td>\n",
       "      <td>-</td>\n",
       "      <td>-</td>\n",
       "      <td>0.002300</td>\n",
       "      <td>0.001000</td>\n",
       "      <td>PR</td>\n",
       "      <td>Composite</td>\n",
       "    </tr>\n",
       "    <tr>\n",
       "      <th>95</th>\n",
       "      <td>APID</td>\n",
       "      <td>BP</td>\n",
       "      <td>GO:0051931</td>\n",
       "      <td>regulation of sensory perception</td>\n",
       "      <td>-</td>\n",
       "      <td>36</td>\n",
       "      <td>34</td>\n",
       "      <td>-</td>\n",
       "      <td>-</td>\n",
       "      <td>0.003030</td>\n",
       "      <td>0.001650</td>\n",
       "      <td>PR</td>\n",
       "      <td>Composite</td>\n",
       "    </tr>\n",
       "  </tbody>\n",
       "</table>\n",
       "</div>"
      ],
      "text/plain": [
       "   Network GO Branch        Term                                 Term name  \\\n",
       "91    APID        BP  GO:0008038                        neuron recognition   \n",
       "92    APID        BP  GO:1905145        cellular response to acetylcholine   \n",
       "93    APID        BP  GO:0097094         craniofacial suture morphogenesis   \n",
       "94    APID        BP  GO:0098780  response to mitochondrial depolarisation   \n",
       "95    APID        BP  GO:0051931          regulation of sensory perception   \n",
       "\n",
       "   P-value  Term_size  Intersection Expected Observed/Expected  Avg AUPRC  \\\n",
       "91       -         46            43        -                 -   0.001290   \n",
       "92       -         33            31        -                 -   0.005610   \n",
       "93       -         18            15        -                 -   0.000233   \n",
       "94       -         21            21        -                 -   0.002300   \n",
       "95       -         36            34        -                 -   0.003030   \n",
       "\n",
       "    Degree Null AUPRC Stat       Type  \n",
       "91           0.002070   PR  Composite  \n",
       "92           0.001480   PR  Composite  \n",
       "93           0.000708   PR  Composite  \n",
       "94           0.001000   PR  Composite  \n",
       "95           0.001650   PR  Composite  "
      ]
     },
     "execution_count": 39,
     "metadata": {},
     "output_type": "execute_result"
    }
   ],
   "source": [
    "func_data.head()"
   ]
  },
  {
   "cell_type": "code",
   "execution_count": 40,
   "metadata": {
    "ExecuteTime": {
     "end_time": "2024-09-17T18:10:26.638385Z",
     "start_time": "2024-09-17T18:10:26.630004Z"
    }
   },
   "outputs": [
    {
     "data": {
      "text/html": [
       "<div>\n",
       "<style scoped>\n",
       "    .dataframe tbody tr th:only-of-type {\n",
       "        vertical-align: middle;\n",
       "    }\n",
       "\n",
       "    .dataframe tbody tr th {\n",
       "        vertical-align: top;\n",
       "    }\n",
       "\n",
       "    .dataframe thead th {\n",
       "        text-align: right;\n",
       "    }\n",
       "</style>\n",
       "<table border=\"1\" class=\"dataframe\">\n",
       "  <thead>\n",
       "    <tr style=\"text-align: right;\">\n",
       "      <th></th>\n",
       "      <th>Network</th>\n",
       "      <th>GO Branch</th>\n",
       "      <th>Term</th>\n",
       "      <th>Term name</th>\n",
       "      <th>P-value</th>\n",
       "      <th>Term_size</th>\n",
       "      <th>Intersection</th>\n",
       "      <th>Expected</th>\n",
       "      <th>Observed/Expected</th>\n",
       "      <th>Avg AUPRC</th>\n",
       "      <th>Degree Null AUPRC</th>\n",
       "      <th>Stat</th>\n",
       "      <th>Type</th>\n",
       "    </tr>\n",
       "  </thead>\n",
       "  <tbody>\n",
       "    <tr>\n",
       "      <th>91</th>\n",
       "      <td>APID</td>\n",
       "      <td>BP</td>\n",
       "      <td>GO:0008038</td>\n",
       "      <td>neuron recognition</td>\n",
       "      <td>-</td>\n",
       "      <td>46</td>\n",
       "      <td>43</td>\n",
       "      <td>-</td>\n",
       "      <td>-</td>\n",
       "      <td>0.001290</td>\n",
       "      <td>0.002070</td>\n",
       "      <td>PR</td>\n",
       "      <td>Composite</td>\n",
       "    </tr>\n",
       "    <tr>\n",
       "      <th>92</th>\n",
       "      <td>APID</td>\n",
       "      <td>BP</td>\n",
       "      <td>GO:1905145</td>\n",
       "      <td>cellular response to acetylcholine</td>\n",
       "      <td>-</td>\n",
       "      <td>33</td>\n",
       "      <td>31</td>\n",
       "      <td>-</td>\n",
       "      <td>-</td>\n",
       "      <td>0.005610</td>\n",
       "      <td>0.001480</td>\n",
       "      <td>PR</td>\n",
       "      <td>Composite</td>\n",
       "    </tr>\n",
       "    <tr>\n",
       "      <th>93</th>\n",
       "      <td>APID</td>\n",
       "      <td>BP</td>\n",
       "      <td>GO:0097094</td>\n",
       "      <td>craniofacial suture morphogenesis</td>\n",
       "      <td>-</td>\n",
       "      <td>18</td>\n",
       "      <td>15</td>\n",
       "      <td>-</td>\n",
       "      <td>-</td>\n",
       "      <td>0.000233</td>\n",
       "      <td>0.000708</td>\n",
       "      <td>PR</td>\n",
       "      <td>Composite</td>\n",
       "    </tr>\n",
       "    <tr>\n",
       "      <th>94</th>\n",
       "      <td>APID</td>\n",
       "      <td>BP</td>\n",
       "      <td>GO:0098780</td>\n",
       "      <td>response to mitochondrial depolarisation</td>\n",
       "      <td>-</td>\n",
       "      <td>21</td>\n",
       "      <td>21</td>\n",
       "      <td>-</td>\n",
       "      <td>-</td>\n",
       "      <td>0.002300</td>\n",
       "      <td>0.001000</td>\n",
       "      <td>PR</td>\n",
       "      <td>Composite</td>\n",
       "    </tr>\n",
       "    <tr>\n",
       "      <th>95</th>\n",
       "      <td>APID</td>\n",
       "      <td>BP</td>\n",
       "      <td>GO:0051931</td>\n",
       "      <td>regulation of sensory perception</td>\n",
       "      <td>-</td>\n",
       "      <td>36</td>\n",
       "      <td>34</td>\n",
       "      <td>-</td>\n",
       "      <td>-</td>\n",
       "      <td>0.003030</td>\n",
       "      <td>0.001650</td>\n",
       "      <td>PR</td>\n",
       "      <td>Composite</td>\n",
       "    </tr>\n",
       "  </tbody>\n",
       "</table>\n",
       "</div>"
      ],
      "text/plain": [
       "   Network GO Branch        Term                                 Term name  \\\n",
       "91    APID        BP  GO:0008038                        neuron recognition   \n",
       "92    APID        BP  GO:1905145        cellular response to acetylcholine   \n",
       "93    APID        BP  GO:0097094         craniofacial suture morphogenesis   \n",
       "94    APID        BP  GO:0098780  response to mitochondrial depolarisation   \n",
       "95    APID        BP  GO:0051931          regulation of sensory perception   \n",
       "\n",
       "   P-value  Term_size  Intersection Expected Observed/Expected  Avg AUPRC  \\\n",
       "91       -         46            43        -                 -   0.001290   \n",
       "92       -         33            31        -                 -   0.005610   \n",
       "93       -         18            15        -                 -   0.000233   \n",
       "94       -         21            21        -                 -   0.002300   \n",
       "95       -         36            34        -                 -   0.003030   \n",
       "\n",
       "    Degree Null AUPRC Stat       Type  \n",
       "91           0.002070   PR  Composite  \n",
       "92           0.001480   PR  Composite  \n",
       "93           0.000708   PR  Composite  \n",
       "94           0.001000   PR  Composite  \n",
       "95           0.001650   PR  Composite  "
      ]
     },
     "execution_count": 40,
     "metadata": {},
     "output_type": "execute_result"
    }
   ],
   "source": [
    "func_data.head()"
   ]
  },
  {
   "cell_type": "code",
   "execution_count": 41,
   "metadata": {
    "ExecuteTime": {
     "end_time": "2024-09-17T18:10:29.254180Z",
     "start_time": "2024-09-17T18:10:29.233258Z"
    },
    "code_folding": [
     45
    ]
   },
   "outputs": [],
   "source": [
    "import statsmodels.stats.api as sms\n",
    "\n",
    "\n",
    "def plot_scatter_with_error(data, stat, branch=None, y='MeanAUC', x='degree_null_auc', ax=None, hue_var='Network', annotate=False):\n",
    "    if branch is not None:\n",
    "        plot_data = data[data.Branch==branch]\n",
    "    else:\n",
    "        plot_data = data.copy()\n",
    "    group_vars = ['Network', 'Stat', 'Type']\n",
    "    if hue_var not in group_vars:\n",
    "        group_vars.append(hue_var)\n",
    "    mean_x_ci = plot_data.groupby(group_vars)[x].apply(lambda z: sms.DescrStatsW(z).tconfint_mean()).reset_index()\n",
    "    mean_x_ci[['x_low', 'x_high']] = mean_x_ci[x].apply(pd.Series)\n",
    "    mean_y_ci = plot_data.groupby(group_vars)[y].apply(lambda z: sms.DescrStatsW(z).tconfint_mean()).reset_index()\n",
    "    mean_y_ci[['y_low', 'y_high']] = mean_y_ci[y].apply(pd.Series)\n",
    "    mean_x_ci = mean_x_ci.drop(columns=x)\n",
    "    mean_y_ci = mean_y_ci.drop(columns=y)\n",
    "    ci_df = mean_x_ci.merge(mean_y_ci, on=group_vars)\n",
    "    mean_data = plot_data.groupby(group_vars).mean().reset_index()\n",
    "    combo_data = mean_data.merge(ci_df, on=group_vars)\n",
    "    if ax is None:\n",
    "        if annotate:\n",
    "            _ = plt.figure(figsize=(15,15))\n",
    "        else:\n",
    "            _ = plt.figure(figsize=(5,5))\n",
    "        ax = plt.gca()\n",
    "    scatter_data = combo_data[combo_data.Stat==stat]\n",
    "\n",
    "    \n",
    "    ax.errorbar(x=scatter_data[x], y=scatter_data[y], xerr=[scatter_data[x]-scatter_data.x_low, scatter_data.x_high-scatter_data[x]], \n",
    "                yerr=[scatter_data[y]-scatter_data.y_low, scatter_data.y_high-scatter_data[y]], fmt='none', capsize=0, elinewidth=0.25,\n",
    "                color='black', alpha=0.5)\n",
    "    sns.scatterplot(data=scatter_data, hue=hue_var, x=x, y=y, legend=False, zorder=100, ax=ax,palette=['#ffa500', '#73c7e7', '#44cf6c'], \n",
    "                    hue_order=['Experimental', 'Composite', 'Curated'], s=20, edgecolor='black', linewidth=0.25)\n",
    "    # plot 45 degree line\n",
    "    lims = [0, 1]\n",
    "    ax.plot(lims, lims, 'r--', alpha=0.75, zorder=0, linewidth=0.25)\n",
    "    if annotate:\n",
    "        for i, row in scatter_data.iterrows():\n",
    "            ax.text(row[x], row[y], row['Network'], fontsize=7)\n",
    "    ax.set_xlabel('Mean Null AUROC')\n",
    "    ax.set_ylabel('Mean AUROC')\n",
    "    return scatter_data\n",
    "\n",
    "\n",
    "def plot_branch_scatters_with_error(data, stat, annotate=False, usecol='MeanAUC', null_col='degree_null_auc'):\n",
    "    plot_data = data[data.Stat == stat]\n",
    "    \n",
    "    # Calculate means for each branch\n",
    "    branch_means = plot_data.groupby(['Network', 'Type', 'GO Branch']).mean().reset_index()\n",
    "    branch_data = branch_means.pivot(index=['Network', 'Type'], columns='GO Branch', values=usecol).reset_index()\n",
    "    null_data = branch_means.pivot(index=['Network', 'Type'], columns='GO Branch', values=null_col).reset_index()\n",
    "\n",
    "    if annotate:\n",
    "        _, [ax1, ax2, ax3] = plt.subplots(1, 3, figsize=(20, 9), sharey=False)\n",
    "    else:\n",
    "        _, [ax1, ax2, ax3] = plt.subplots(1, 3, figsize=(6.5, 2), sharey=False)\n",
    "    \n",
    "    for i, (ax, x_branch, y_branch) in enumerate(zip([ax1, ax2, ax3], ['BP', 'BP', 'MF'], ['CC', 'MF', 'CC'])):\n",
    "        \n",
    "        x_data = plot_data[plot_data['GO Branch'] == x_branch]\n",
    "        y_data = plot_data[plot_data['GO Branch'] == y_branch]\n",
    "        ci_x = x_data.groupby(['Network', 'Type', 'GO Branch'])[usecol].apply(lambda z: sms.DescrStatsW(z).tconfint_mean()).reset_index()\n",
    "        ci_x[['x_low', 'x_high']] = ci_x[usecol].apply(pd.Series)\n",
    "        ci_y = y_data.groupby(['Network', 'Type', 'GO Branch'])[usecol].apply(lambda z: sms.DescrStatsW(z).tconfint_mean()).reset_index()\n",
    "        ci_y[['y_low', 'y_high']] = ci_y[usecol].apply(pd.Series)\n",
    "        mean_x_ci = ci_x.drop(columns=usecol)\n",
    "        mean_y_ci = ci_y.drop(columns=usecol)\n",
    "        ci_df = mean_x_ci.merge(mean_y_ci, on=['Network', 'Type'])\n",
    "        combo_data = branch_data.merge(ci_df, on=['Network', 'Type'])\n",
    "        ax.errorbar(x=combo_data[x_branch], y=combo_data[y_branch], xerr=[combo_data[x_branch]-combo_data.x_low, combo_data.x_high-combo_data[x_branch]], \n",
    "                yerr=[combo_data[y_branch]-combo_data.y_low, combo_data.y_high-branch_data[y_branch]], fmt='none', capsize=0, elinewidth=0.25,\n",
    "                color='black', alpha=0.5, zorder=0)\n",
    "        sns.scatterplot(data=branch_data, x=x_branch, y=y_branch, hue='Type', s=20, ax=ax, legend=False, edgecolor='black', linewidth=0.25,\n",
    "                        palette=['#ffa500', '#73c7e7', '#44cf6c'], hue_order=['Experimental', 'Composite', 'Curated'], zorder=10)\n",
    "\n",
    "        # Add error bars from the calculated confidence intervals for branch data\n",
    "\n",
    "        \n",
    "        ax.plot([0, 1], [0, 1], 'k--', alpha=0.75, zorder=0, linewidth=0.25)\n",
    "        if stat == 'AUROC':\n",
    "            ax.set_xlim(0.4, 0.95)\n",
    "            ax.set_ylim(0.4, 0.95)\n",
    "            ylim = 0.95\n",
    "        elif (stat == 'PR'):\n",
    "            ax.set_xlim(0, 0.125)\n",
    "            ax.set_ylim(0, 0.175)\n",
    "            ax.set_xticks([0, 0.05, 0.1])\n",
    "            ax.set_yticks([0, 0.05, 0.1, 0.15])\n",
    "            ylim = 0.15\n",
    "        else:\n",
    "            ylim=1\n",
    "\n",
    "        ax.vlines(null_data[x_branch].mean(), 0, 1, color='purple', alpha=0.5, linestyle='--', linewidth=0.5)\n",
    "        ax.hlines(null_data[y_branch].mean(), 0, 1, color='purple', alpha=0.5, linestyle='--', linewidth=0.5)\n",
    "        ax.set_xlabel(f'Mean {stat} ({x_branch})')\n",
    "        ax.set_ylabel(f'Mean {stat} ({y_branch})')\n",
    "\n",
    "        ax.annotate(f'Mean Null {stat} ({x_branch})', (null_data[x_branch].mean(), ylim * 0.99), color='purple', fontsize=7, ha='left', va='top', rotation=90)\n",
    "        ax.annotate(f'Mean Null {stat} ({y_branch})', (ylim * 0.99, null_data[y_branch].mean()), color='purple', fontsize=7, ha='right', va='bottom')\n",
    "        \n",
    "        # Annotate points if requested\n",
    "        if annotate:\n",
    "            for j, txt in enumerate(branch_data['Network']):\n",
    "                ax.annotate(txt, (branch_data[x_branch].iloc[j], branch_data[y_branch].iloc[j]), fontsize=5)\n",
    "    \n",
    "    # Show correlation matrix\n",
    "    print(branch_data.corr())\n"
   ]
  },
  {
   "cell_type": "markdown",
   "metadata": {},
   "source": [
    "### FigureS4C"
   ]
  },
  {
   "cell_type": "code",
   "execution_count": 42,
   "metadata": {
    "ExecuteTime": {
     "end_time": "2024-09-17T18:11:22.680483Z",
     "start_time": "2024-09-17T18:11:22.428823Z"
    }
   },
   "outputs": [
    {
     "data": {
      "image/png": "[encoded data removed]",
      "text/plain": [
       "<Figure size 144x144 with 1 Axes>"
      ]
     },
     "metadata": {
      "needs_background": "light"
     },
     "output_type": "display_data"
    }
   ],
   "source": [
    "_, ax1 = plt.subplots(nrows=1, ncols=1, figsize=(2,2), sharey=True)\n",
    "sc_data = plot_scatter_with_error(func_data, y='Avg AUPRC', x='Degree Null AUPRC', stat='PR', ax=ax1, hue_var='Type', annotate=False)\n",
    "ax1.set_xlim(0, 0.025)\n",
    "ax1.set_ylim(0, 0.10)\n",
    "ax1.set_xticks([0, 0.01, 0.02])\n",
    "plt.savefig(os.path.join(figdir, 'FigS4C_EGAD_overall_scatter.jpg'), dpi=300, bbox_inches='tight')"
   ]
  },
  {
   "cell_type": "markdown",
   "metadata": {},
   "source": [
    "### FigureS4D-F"
   ]
  },
  {
   "cell_type": "code",
   "execution_count": 43,
   "metadata": {
    "ExecuteTime": {
     "end_time": "2024-09-17T18:11:25.108434Z",
     "start_time": "2024-09-17T18:11:23.738899Z"
    }
   },
   "outputs": [
    {
     "name": "stdout",
     "output_type": "stream",
     "text": [
      "GO Branch        BP        CC        MF\n",
      "GO Branch                              \n",
      "BP         1.000000  0.933462  0.908579\n",
      "CC         0.933462  1.000000  0.839109\n",
      "MF         0.908579  0.839109  1.000000\n"
     ]
    },
    {
     "data": {
      "image/png": "[encoded data removed]",
      "text/plain": [
       "<Figure size 468x144 with 3 Axes>"
      ]
     },
     "metadata": {
      "needs_background": "light"
     },
     "output_type": "display_data"
    }
   ],
   "source": [
    "plot_branch_scatters_with_error(func_data, usecol='Avg AUPRC', null_col='Degree Null AUPRC', stat='PR')\n",
    "plt.savefig(os.path.join(figdir, 'EGAD_PR_branch_scatters.jpg'), dpi=300, bbox_inches='tight')"
   ]
  }
 ],
 "metadata": {
  "kernelspec": {
   "display_name": "Python [conda env:pcnet_py3]",
   "language": "python",
   "name": "conda-env-pcnet_py3-py"
  },
  "language_info": {
   "codemirror_mode": {
    "name": "ipython",
    "version": 3
   },
   "file_extension": ".py",
   "mimetype": "text/x-python",
   "name": "python",
   "nbconvert_exporter": "python",
   "pygments_lexer": "ipython3",
   "version": "3.10.0"
  },
  "toc": {
   "base_numbering": 1,
   "nav_menu": {},
   "number_sections": true,
   "sideBar": true,
   "skip_h1_title": false,
   "title_cell": "Table of Contents",
   "title_sidebar": "Contents",
   "toc_cell": false,
   "toc_position": {
    "height": "calc(100% - 180px)",
    "left": "10px",
    "top": "150px",
    "width": "341.458px"
   },
   "toc_section_display": true,
   "toc_window_display": true
  },
  "varInspector": {
   "cols": {
    "lenName": 16,
    "lenType": 16,
    "lenVar": 40
   },
   "kernels_config": {
    "python": {
     "delete_cmd_postfix": "",
     "delete_cmd_prefix": "del ",
     "library": "var_list.py",
     "varRefreshCmd": "print(var_dic_list())"
    },
    "r": {
     "delete_cmd_postfix": ") ",
     "delete_cmd_prefix": "rm(",
     "library": "var_list.r",
     "varRefreshCmd": "cat(var_dic_list()) "
    }
   },
   "types_to_exclude": [
    "module",
    "function",
    "builtin_function_or_method",
    "instance",
    "_Feature"
   ],
   "window_display": false
  }
 },
 "nbformat": 4,
 "nbformat_minor": 4
}
