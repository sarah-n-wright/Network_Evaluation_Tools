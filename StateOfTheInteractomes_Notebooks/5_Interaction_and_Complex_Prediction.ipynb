{
 "cells": [
  {
   "cell_type": "markdown",
   "metadata": {},
   "source": [
    "# Interaction Prediction\n",
    "\n",
    "*State of the Interactomes: an evaluation of molecular networks for generating biological insights.* Wright, SN et al. [https://doi.org/10.1101/2024.04.26.587073]  \n",
    "This notebook contains code and results related to:\n",
    "* Figure 5A-D\n",
    "* Supplemental Figure 6A-H\n",
    "\n",
    "**Note: due to the size of network data sets utilized in this study, this notebook draws on summarized results rather than re-evaluating all networks directly.**\n",
    "\n",
    "For implementation of the interaction prediction algorithms, see `ExampleUsage/IP_InteractionPrediction.README.md`\n"
   ]
  },
  {
   "cell_type": "code",
   "execution_count": 1,
   "metadata": {
    "ExecuteTime": {
     "end_time": "2024-09-27T19:02:41.700367Z",
     "start_time": "2024-09-27T19:02:39.309605Z"
    }
   },
   "outputs": [
    {
     "name": "stderr",
     "output_type": "stream",
     "text": [
      "/cellar/users/snwright/anaconda3/envs/pcnet_py3/lib/python3.10/site-packages/requests/__init__.py:102: RequestsDependencyWarning: urllib3 (1.26.7) or chardet (5.1.0)/charset_normalizer (2.0.7) doesn't match a supported version!\n",
      "  warnings.warn(\"urllib3 ({}) or chardet ({})/charset_normalizer ({}) doesn't match a supported \"\n"
     ]
    }
   ],
   "source": [
    "import pandas as pd\n",
    "import seaborn as sns\n",
    "import matplotlib.pyplot as plt\n",
    "from neteval.network_statistics import NetworkStats, load_network_names\n",
    "from tqdm import tqdm\n",
    "import os\n",
    "from scipy.stats import mannwhitneyu\n",
    "from statsmodels.stats.multitest import fdrcorrection\n",
    "import numpy as np\n",
    "import itertools\n",
    "from goatools.semantic import semantic_similarity\n",
    "from collections import defaultdict\n",
    "from neteval.gsea_functions import *\n",
    "import obonet as obo\n",
    "from goatools.obo_parser import GODag\n",
    "from neteval.data_import_export_tools import *"
   ]
  },
  {
   "cell_type": "code",
   "execution_count": 2,
   "metadata": {
    "ExecuteTime": {
     "end_time": "2024-09-27T19:02:41.706722Z",
     "start_time": "2024-09-27T19:02:41.701413Z"
    }
   },
   "outputs": [],
   "source": [
    "plt.rcParams['svg.fonttype'] = 'none'\n",
    "plt.rcParams.update({'font.size': 7})\n",
    "plt.rcParams['axes.linewidth'] = 0.5\n",
    "plt.rcParams['svg.fonttype'] = 'none'\n",
    "plt.rcParams.update({'font.size': 7})\n",
    "plt.rcParams['axes.linewidth'] = 0.5\n",
    "plt.rcParams['hatch.linewidth'] = 0.5\n",
    "plt.rcParams['xtick.major.width'] = 0.4\n",
    "plt.rcParams['ytick.major.width'] = 0.4\n",
    "plt.rcParams['xtick.minor.width'] = 0.3\n",
    "plt.rcParams['ytick.minor.width'] = 0.3\n",
    "plt.rcParams['legend.frameon'] = False\n",
    "plt.rcParams['xtick.major.size'] = 3\n",
    "plt.rcParams['ytick.major.size'] = 3\n",
    "plt.rcParams['xtick.minor.size'] = 2\n",
    "plt.rcParams['ytick.minor.size'] = 2\n",
    "plt.rcParams['xtick.major.pad'] = 1\n",
    "plt.rcParams['ytick.major.pad'] = 1\n",
    "plt.rcParams['axes.labelpad'] = 1\n",
    "plt.rcParams['patch.linewidth'] = 0.25\n"
   ]
  },
  {
   "cell_type": "code",
   "execution_count": 3,
   "metadata": {
    "ExecuteTime": {
     "end_time": "2024-09-27T19:02:41.735868Z",
     "start_time": "2024-09-27T19:02:41.707473Z"
    }
   },
   "outputs": [],
   "source": [
    "gitdir = os.path.expanduser('~/Git/Network_Evaluation_Tools/')\n",
    "figdir = os.path.join(gitdir, 'StateOfTheInteractomes_Notebooks/Figures/')\n",
    "evaldir = os.path.join(gitdir, 'Data/example_outputs/')\n",
    "datadir = os.path.join(gitdir, 'Data/')\n",
    "network_names = load_network_names(os.path.join(gitdir, 'StateOfTheInteractomes_Notebooks/Data/network_names_final.txt'))\n",
    "example_names = load_network_names(os.path.join(gitdir, 'Data/example_network_names.txt'))"
   ]
  },
  {
   "cell_type": "markdown",
   "metadata": {},
   "source": [
    "## Example Analysis\n",
    "\n",
    "See `Network_Evaluation_Tools/ExampleUsage/InteractionPrediction.README.md` for usage of prediction functionalities.  \n"
   ]
  },
  {
   "cell_type": "markdown",
   "metadata": {},
   "source": [
    "## Figures 5A-C - Interaction Prediction Precision"
   ]
  },
  {
   "cell_type": "markdown",
   "metadata": {},
   "source": [
    "Load the prediction results from Supplemental Table 4"
   ]
  },
  {
   "cell_type": "code",
   "execution_count": 4,
   "metadata": {
    "ExecuteTime": {
     "end_time": "2024-09-27T19:02:41.751095Z",
     "start_time": "2024-09-27T19:02:41.736607Z"
    }
   },
   "outputs": [],
   "source": [
    "pred_results = pd.read_csv(os.path.join(gitdir, 'StateOfTheInteractomes_Notebooks/Data/TableS4.txt'), sep='\\t')"
   ]
  },
  {
   "cell_type": "code",
   "execution_count": 5,
   "metadata": {
    "ExecuteTime": {
     "end_time": "2024-09-27T19:02:41.772183Z",
     "start_time": "2024-09-27T19:02:41.752404Z"
    }
   },
   "outputs": [
    {
     "data": {
      "text/html": [
       "<div>\n",
       "<style scoped>\n",
       "    .dataframe tbody tr th:only-of-type {\n",
       "        vertical-align: middle;\n",
       "    }\n",
       "\n",
       "    .dataframe tbody tr th {\n",
       "        vertical-align: top;\n",
       "    }\n",
       "\n",
       "    .dataframe thead th {\n",
       "        text-align: right;\n",
       "    }\n",
       "</style>\n",
       "<table border=\"1\" class=\"dataframe\">\n",
       "  <thead>\n",
       "    <tr style=\"text-align: right;\">\n",
       "      <th></th>\n",
       "      <th>Interactome</th>\n",
       "      <th>Fold</th>\n",
       "      <th>Prediction Method</th>\n",
       "      <th>Test Set</th>\n",
       "      <th>P@k</th>\n",
       "    </tr>\n",
       "  </thead>\n",
       "  <tbody>\n",
       "    <tr>\n",
       "      <th>0</th>\n",
       "      <td>APID</td>\n",
       "      <td>1.0</td>\n",
       "      <td>L3</td>\n",
       "      <td>Held-out</td>\n",
       "      <td>0.052175</td>\n",
       "    </tr>\n",
       "    <tr>\n",
       "      <th>1</th>\n",
       "      <td>APID</td>\n",
       "      <td>2.0</td>\n",
       "      <td>L3</td>\n",
       "      <td>Held-out</td>\n",
       "      <td>0.051678</td>\n",
       "    </tr>\n",
       "    <tr>\n",
       "      <th>2</th>\n",
       "      <td>APID</td>\n",
       "      <td>3.0</td>\n",
       "      <td>L3</td>\n",
       "      <td>Held-out</td>\n",
       "      <td>0.053988</td>\n",
       "    </tr>\n",
       "    <tr>\n",
       "      <th>3</th>\n",
       "      <td>APID</td>\n",
       "      <td>4.0</td>\n",
       "      <td>L3</td>\n",
       "      <td>Held-out</td>\n",
       "      <td>0.055043</td>\n",
       "    </tr>\n",
       "    <tr>\n",
       "      <th>4</th>\n",
       "      <td>APID</td>\n",
       "      <td>5.0</td>\n",
       "      <td>L3</td>\n",
       "      <td>Held-out</td>\n",
       "      <td>0.055839</td>\n",
       "    </tr>\n",
       "  </tbody>\n",
       "</table>\n",
       "</div>"
      ],
      "text/plain": [
       "  Interactome  Fold Prediction Method  Test Set       P@k\n",
       "0        APID   1.0                L3  Held-out  0.052175\n",
       "1        APID   2.0                L3  Held-out  0.051678\n",
       "2        APID   3.0                L3  Held-out  0.053988\n",
       "3        APID   4.0                L3  Held-out  0.055043\n",
       "4        APID   5.0                L3  Held-out  0.055839"
      ]
     },
     "execution_count": 5,
     "metadata": {},
     "output_type": "execute_result"
    }
   ],
   "source": [
    "pred_results.head()"
   ]
  },
  {
   "cell_type": "code",
   "execution_count": 6,
   "metadata": {
    "ExecuteTime": {
     "end_time": "2024-09-27T19:02:41.830197Z",
     "start_time": "2024-09-27T19:02:41.773017Z"
    }
   },
   "outputs": [],
   "source": [
    "import warnings\n",
    "\n",
    "def compare_prediction_methods(pred_results, test_set, palette, net_order=None, ax=None, top_n=None, exclude_nets=[] ):\n",
    "    plot_df = pred_results[pred_results['Test Set']==test_set]\n",
    "    # keep only interactome with results for both prediction methods\n",
    "    method_counts = plot_df.groupby('Interactome')['Prediction Method'].nunique()\n",
    "    exclude_nets += method_counts[method_counts < 2].index.values.tolist()\n",
    "    plot_df = plot_df[~plot_df.Interactome.isin(exclude_nets)]\n",
    "    if net_order is None:\n",
    "        net_order = plot_df.Interactome.unique()[::-1]\n",
    "    if type(net_order) == str:\n",
    "        if net_order in plot_df.columns:\n",
    "            net_order = plot_df.groupby('Interactome')[net_order].mean().sort_values(ascending=False).index\n",
    "    if ax is None:\n",
    "        _, ax = plt.subplots(nrows=1, ncols=1, figsize=(3, 8))\n",
    "    \n",
    "    if top_n is not None:\n",
    "        plot_df = plot_df[plot_df['Interactome'].isin(net_order[:top_n])]\n",
    "        net_order=net_order[:top_n]\n",
    "        \n",
    "    if test_set == 'Held-out':\n",
    "        #plot strip plot\n",
    "        plot_df = plot_df.reset_index(drop=True)\n",
    "        sns.stripplot(data = plot_df, y='Interactome', x='P@k', ax=ax, hue='Prediction Method', dodge=False, s=3, \n",
    "                      order=net_order, jitter=False, edgecolor='black', linewidth=0.25, alpha=0.5,  \n",
    "                      hue_order=['MPS', 'L3'], palette=palette)\n",
    "        sns.pointplot(data = plot_df, y='Interactome', x='P@k', ax=ax, hue='Prediction Method', dodge=False,\n",
    "                      order=net_order, linestyle='none', errorbar=None, marker='|', markersize=6,  \n",
    "                      hue_order=['MPS', 'L3'], palette=palette)\n",
    "        # add horizontal lines between y ticks\n",
    "        for i in range(len(net_order)):\n",
    "            ax.hlines(i+0.5, 0, 1, color='grey', linewidth=0.25)\n",
    "        ax.set_ylim(len(net_order)-0.5, -0.5)\n",
    "        \n",
    "    else:\n",
    "        #plot bar plots\n",
    "        plot_df = plot_df.reset_index(drop=True)\n",
    "        sns.barplot(data=plot_df, y='Interactome', x='P@k', ax=ax, hue='Prediction Method', order=net_order, \n",
    "                    hue_order=['MPS', 'L3'], alpha=1, errorbar=None, edgecolor='black', \n",
    "                    linewidth=0.25, palette=palette, saturation=1)\n",
    "    return net_order\n",
    "    \n",
    "    "
   ]
  },
  {
   "cell_type": "code",
   "execution_count": 7,
   "metadata": {
    "ExecuteTime": {
     "end_time": "2024-09-27T19:02:41.850336Z",
     "start_time": "2024-09-27T19:02:41.831000Z"
    }
   },
   "outputs": [
    {
     "data": {
      "text/html": [
       "<div>\n",
       "<style scoped>\n",
       "    .dataframe tbody tr th:only-of-type {\n",
       "        vertical-align: middle;\n",
       "    }\n",
       "\n",
       "    .dataframe tbody tr th {\n",
       "        vertical-align: top;\n",
       "    }\n",
       "\n",
       "    .dataframe thead th {\n",
       "        text-align: right;\n",
       "    }\n",
       "</style>\n",
       "<table border=\"1\" class=\"dataframe\">\n",
       "  <thead>\n",
       "    <tr style=\"text-align: right;\">\n",
       "      <th></th>\n",
       "      <th>Interactome</th>\n",
       "      <th>Fold</th>\n",
       "      <th>Prediction Method</th>\n",
       "      <th>Test Set</th>\n",
       "      <th>P@k</th>\n",
       "    </tr>\n",
       "  </thead>\n",
       "  <tbody>\n",
       "    <tr>\n",
       "      <th>0</th>\n",
       "      <td>APID</td>\n",
       "      <td>1.0</td>\n",
       "      <td>L3</td>\n",
       "      <td>Held-out</td>\n",
       "      <td>0.052175</td>\n",
       "    </tr>\n",
       "    <tr>\n",
       "      <th>1</th>\n",
       "      <td>APID</td>\n",
       "      <td>2.0</td>\n",
       "      <td>L3</td>\n",
       "      <td>Held-out</td>\n",
       "      <td>0.051678</td>\n",
       "    </tr>\n",
       "    <tr>\n",
       "      <th>2</th>\n",
       "      <td>APID</td>\n",
       "      <td>3.0</td>\n",
       "      <td>L3</td>\n",
       "      <td>Held-out</td>\n",
       "      <td>0.053988</td>\n",
       "    </tr>\n",
       "    <tr>\n",
       "      <th>3</th>\n",
       "      <td>APID</td>\n",
       "      <td>4.0</td>\n",
       "      <td>L3</td>\n",
       "      <td>Held-out</td>\n",
       "      <td>0.055043</td>\n",
       "    </tr>\n",
       "    <tr>\n",
       "      <th>4</th>\n",
       "      <td>APID</td>\n",
       "      <td>5.0</td>\n",
       "      <td>L3</td>\n",
       "      <td>Held-out</td>\n",
       "      <td>0.055839</td>\n",
       "    </tr>\n",
       "    <tr>\n",
       "      <th>...</th>\n",
       "      <td>...</td>\n",
       "      <td>...</td>\n",
       "      <td>...</td>\n",
       "      <td>...</td>\n",
       "      <td>...</td>\n",
       "    </tr>\n",
       "    <tr>\n",
       "      <th>921</th>\n",
       "      <td>ReactomeFI</td>\n",
       "      <td>NaN</td>\n",
       "      <td>MPS</td>\n",
       "      <td>PANTHER</td>\n",
       "      <td>0.005659</td>\n",
       "    </tr>\n",
       "    <tr>\n",
       "      <th>922</th>\n",
       "      <td>SIGNOR</td>\n",
       "      <td>NaN</td>\n",
       "      <td>MPS</td>\n",
       "      <td>PANTHER</td>\n",
       "      <td>0.038402</td>\n",
       "    </tr>\n",
       "    <tr>\n",
       "      <th>923</th>\n",
       "      <td>SPIKE</td>\n",
       "      <td>NaN</td>\n",
       "      <td>MPS</td>\n",
       "      <td>PANTHER</td>\n",
       "      <td>0.023593</td>\n",
       "    </tr>\n",
       "    <tr>\n",
       "      <th>924</th>\n",
       "      <td>Wan</td>\n",
       "      <td>NaN</td>\n",
       "      <td>MPS</td>\n",
       "      <td>PANTHER</td>\n",
       "      <td>0.000000</td>\n",
       "    </tr>\n",
       "    <tr>\n",
       "      <th>925</th>\n",
       "      <td>NaN</td>\n",
       "      <td>NaN</td>\n",
       "      <td>NaN</td>\n",
       "      <td>NaN</td>\n",
       "      <td>NaN</td>\n",
       "    </tr>\n",
       "  </tbody>\n",
       "</table>\n",
       "<p>926 rows × 5 columns</p>\n",
       "</div>"
      ],
      "text/plain": [
       "    Interactome  Fold Prediction Method  Test Set       P@k\n",
       "0          APID   1.0                L3  Held-out  0.052175\n",
       "1          APID   2.0                L3  Held-out  0.051678\n",
       "2          APID   3.0                L3  Held-out  0.053988\n",
       "3          APID   4.0                L3  Held-out  0.055043\n",
       "4          APID   5.0                L3  Held-out  0.055839\n",
       "..          ...   ...               ...       ...       ...\n",
       "921  ReactomeFI   NaN               MPS   PANTHER  0.005659\n",
       "922      SIGNOR   NaN               MPS   PANTHER  0.038402\n",
       "923       SPIKE   NaN               MPS   PANTHER  0.023593\n",
       "924         Wan   NaN               MPS   PANTHER  0.000000\n",
       "925         NaN   NaN               NaN       NaN       NaN\n",
       "\n",
       "[926 rows x 5 columns]"
      ]
     },
     "execution_count": 7,
     "metadata": {},
     "output_type": "execute_result"
    }
   ],
   "source": [
    "pred_results"
   ]
  },
  {
   "cell_type": "code",
   "execution_count": 8,
   "metadata": {
    "ExecuteTime": {
     "end_time": "2024-09-27T19:02:43.009992Z",
     "start_time": "2024-09-27T19:02:41.851058Z"
    }
   },
   "outputs": [
    {
     "data": {
      "image/png": "[encoded data removed]",
      "text/plain": [
       "<Figure size 432x216 with 3 Axes>"
      ]
     },
     "metadata": {
      "needs_background": "light"
     },
     "output_type": "display_data"
    }
   ],
   "source": [
    "\n",
    "_, [ax1, ax2, ax3] = plt.subplots(ncols=3, nrows=1, figsize=(6, 3), gridspec_kw={'wspace': 1})\n",
    "_ = compare_prediction_methods(pred_results, test_set='Held-out', net_order='P@k', ax=ax1, \n",
    "                           palette=['darkgreen', 'mediumseagreen'], top_n=15)\n",
    "ax1.set_xlim(0, 0.75)\n",
    "\n",
    "_ = compare_prediction_methods(pred_results, test_set='CORUM', net_order='P@k', ax=ax2, \n",
    "                           palette=['teal', 'mediumaquamarine'], top_n=15, \n",
    "            exclude_nets=[ 'ReactomeFI','PathwayCommons', 'GeneMANIA', 'ConsensusPathDB', 'iRefIndex'])\n",
    "\n",
    "_ = compare_prediction_methods(pred_results, test_set='PANTHER', net_order='P@k', ax=ax3, \n",
    "                           palette=['#1f5ca1', '#82bcf5'], top_n=15, \n",
    "            exclude_nets=[ 'ReactomeFI','PathwayCommons'])\n",
    "\n",
    "with warnings.catch_warnings():\n",
    "    warnings.simplefilter(\"ignore\") # ignore deprecation warning\n",
    "    plt.savefig(os.path.join(figdir, 'Fig5ABC_interaction_prediction_Pk.jpg'))"
   ]
  },
  {
   "cell_type": "markdown",
   "metadata": {},
   "source": [
    "## Figure 5D - Network Coverage of Predicted Interactions"
   ]
  },
  {
   "cell_type": "code",
   "execution_count": 9,
   "metadata": {
    "ExecuteTime": {
     "end_time": "2024-09-27T19:02:43.021317Z",
     "start_time": "2024-09-27T19:02:43.011270Z"
    }
   },
   "outputs": [],
   "source": [
    "coverage_df = pd.read_csv(os.path.join(gitdir, 'StateOfTheInteractomes_Notebooks/Data/Fig5D_interaction_coverage_revised.csv'))"
   ]
  },
  {
   "cell_type": "code",
   "execution_count": 10,
   "metadata": {
    "ExecuteTime": {
     "end_time": "2024-09-27T19:02:43.165057Z",
     "start_time": "2024-09-27T19:02:43.022127Z"
    }
   },
   "outputs": [],
   "source": [
    "coverage_df['weighted_mean'] = coverage_df.apply(lambda x: (x['1'] + (2)*x['2-5'] + 6*x['6-10'] + 11*x['11-20'] + 21*x['21+'])/x['k'], axis=1)"
   ]
  },
  {
   "cell_type": "code",
   "execution_count": 11,
   "metadata": {
    "ExecuteTime": {
     "end_time": "2024-09-27T19:02:43.178240Z",
     "start_time": "2024-09-27T19:02:43.165810Z"
    }
   },
   "outputs": [
    {
     "data": {
      "text/html": [
       "<div>\n",
       "<style scoped>\n",
       "    .dataframe tbody tr th:only-of-type {\n",
       "        vertical-align: middle;\n",
       "    }\n",
       "\n",
       "    .dataframe tbody tr th {\n",
       "        vertical-align: top;\n",
       "    }\n",
       "\n",
       "    .dataframe thead th {\n",
       "        text-align: right;\n",
       "    }\n",
       "</style>\n",
       "<table border=\"1\" class=\"dataframe\">\n",
       "  <thead>\n",
       "    <tr style=\"text-align: right;\">\n",
       "      <th></th>\n",
       "      <th>random_means</th>\n",
       "      <th>random_medians</th>\n",
       "      <th>top_k_mean</th>\n",
       "      <th>top_k_median</th>\n",
       "      <th>k</th>\n",
       "      <th>0</th>\n",
       "      <th>1</th>\n",
       "      <th>2-5</th>\n",
       "      <th>6-10</th>\n",
       "      <th>11-20</th>\n",
       "      <th>21+</th>\n",
       "      <th>network</th>\n",
       "      <th>Name</th>\n",
       "      <th>method</th>\n",
       "      <th>weighted_mean</th>\n",
       "      <th>size</th>\n",
       "    </tr>\n",
       "  </thead>\n",
       "  <tbody>\n",
       "    <tr>\n",
       "      <th>0</th>\n",
       "      <td>0.16</td>\n",
       "      <td>0.0</td>\n",
       "      <td>7.130000</td>\n",
       "      <td>4.0</td>\n",
       "      <td>100</td>\n",
       "      <td>24</td>\n",
       "      <td>6</td>\n",
       "      <td>26</td>\n",
       "      <td>14</td>\n",
       "      <td>27</td>\n",
       "      <td>3</td>\n",
       "      <td>apid.1</td>\n",
       "      <td>APID</td>\n",
       "      <td>MPS</td>\n",
       "      <td>5.02</td>\n",
       "      <td>NaN</td>\n",
       "    </tr>\n",
       "    <tr>\n",
       "      <th>1</th>\n",
       "      <td>0.12</td>\n",
       "      <td>0.0</td>\n",
       "      <td>7.130000</td>\n",
       "      <td>4.0</td>\n",
       "      <td>100</td>\n",
       "      <td>24</td>\n",
       "      <td>6</td>\n",
       "      <td>26</td>\n",
       "      <td>14</td>\n",
       "      <td>27</td>\n",
       "      <td>3</td>\n",
       "      <td>apid.1</td>\n",
       "      <td>APID</td>\n",
       "      <td>MPS</td>\n",
       "      <td>5.02</td>\n",
       "      <td>NaN</td>\n",
       "    </tr>\n",
       "    <tr>\n",
       "      <th>2</th>\n",
       "      <td>0.12</td>\n",
       "      <td>0.0</td>\n",
       "      <td>7.130000</td>\n",
       "      <td>4.0</td>\n",
       "      <td>100</td>\n",
       "      <td>24</td>\n",
       "      <td>6</td>\n",
       "      <td>26</td>\n",
       "      <td>14</td>\n",
       "      <td>27</td>\n",
       "      <td>3</td>\n",
       "      <td>apid.1</td>\n",
       "      <td>APID</td>\n",
       "      <td>MPS</td>\n",
       "      <td>5.02</td>\n",
       "      <td>NaN</td>\n",
       "    </tr>\n",
       "    <tr>\n",
       "      <th>3</th>\n",
       "      <td>0.30</td>\n",
       "      <td>0.0</td>\n",
       "      <td>7.130000</td>\n",
       "      <td>4.0</td>\n",
       "      <td>100</td>\n",
       "      <td>24</td>\n",
       "      <td>6</td>\n",
       "      <td>26</td>\n",
       "      <td>14</td>\n",
       "      <td>27</td>\n",
       "      <td>3</td>\n",
       "      <td>apid.1</td>\n",
       "      <td>APID</td>\n",
       "      <td>MPS</td>\n",
       "      <td>5.02</td>\n",
       "      <td>NaN</td>\n",
       "    </tr>\n",
       "    <tr>\n",
       "      <th>4</th>\n",
       "      <td>0.21</td>\n",
       "      <td>0.0</td>\n",
       "      <td>7.130000</td>\n",
       "      <td>4.0</td>\n",
       "      <td>100</td>\n",
       "      <td>24</td>\n",
       "      <td>6</td>\n",
       "      <td>26</td>\n",
       "      <td>14</td>\n",
       "      <td>27</td>\n",
       "      <td>3</td>\n",
       "      <td>apid.1</td>\n",
       "      <td>APID</td>\n",
       "      <td>MPS</td>\n",
       "      <td>5.02</td>\n",
       "      <td>NaN</td>\n",
       "    </tr>\n",
       "    <tr>\n",
       "      <th>...</th>\n",
       "      <td>...</td>\n",
       "      <td>...</td>\n",
       "      <td>...</td>\n",
       "      <td>...</td>\n",
       "      <td>...</td>\n",
       "      <td>...</td>\n",
       "      <td>...</td>\n",
       "      <td>...</td>\n",
       "      <td>...</td>\n",
       "      <td>...</td>\n",
       "      <td>...</td>\n",
       "      <td>...</td>\n",
       "      <td>...</td>\n",
       "      <td>...</td>\n",
       "      <td>...</td>\n",
       "      <td>...</td>\n",
       "    </tr>\n",
       "    <tr>\n",
       "      <th>8095</th>\n",
       "      <td>0.79</td>\n",
       "      <td>0.0</td>\n",
       "      <td>8.019802</td>\n",
       "      <td>5.0</td>\n",
       "      <td>100</td>\n",
       "      <td>15</td>\n",
       "      <td>13</td>\n",
       "      <td>23</td>\n",
       "      <td>26</td>\n",
       "      <td>9</td>\n",
       "      <td>15</td>\n",
       "      <td>youn</td>\n",
       "      <td>Youn</td>\n",
       "      <td>L3</td>\n",
       "      <td>6.29</td>\n",
       "      <td>147166.0</td>\n",
       "    </tr>\n",
       "    <tr>\n",
       "      <th>8096</th>\n",
       "      <td>0.95</td>\n",
       "      <td>0.0</td>\n",
       "      <td>8.019802</td>\n",
       "      <td>5.0</td>\n",
       "      <td>100</td>\n",
       "      <td>15</td>\n",
       "      <td>13</td>\n",
       "      <td>23</td>\n",
       "      <td>26</td>\n",
       "      <td>9</td>\n",
       "      <td>15</td>\n",
       "      <td>youn</td>\n",
       "      <td>Youn</td>\n",
       "      <td>L3</td>\n",
       "      <td>6.29</td>\n",
       "      <td>147166.0</td>\n",
       "    </tr>\n",
       "    <tr>\n",
       "      <th>8097</th>\n",
       "      <td>0.73</td>\n",
       "      <td>0.0</td>\n",
       "      <td>8.019802</td>\n",
       "      <td>5.0</td>\n",
       "      <td>100</td>\n",
       "      <td>15</td>\n",
       "      <td>13</td>\n",
       "      <td>23</td>\n",
       "      <td>26</td>\n",
       "      <td>9</td>\n",
       "      <td>15</td>\n",
       "      <td>youn</td>\n",
       "      <td>Youn</td>\n",
       "      <td>L3</td>\n",
       "      <td>6.29</td>\n",
       "      <td>147166.0</td>\n",
       "    </tr>\n",
       "    <tr>\n",
       "      <th>8098</th>\n",
       "      <td>1.43</td>\n",
       "      <td>0.0</td>\n",
       "      <td>8.019802</td>\n",
       "      <td>5.0</td>\n",
       "      <td>100</td>\n",
       "      <td>15</td>\n",
       "      <td>13</td>\n",
       "      <td>23</td>\n",
       "      <td>26</td>\n",
       "      <td>9</td>\n",
       "      <td>15</td>\n",
       "      <td>youn</td>\n",
       "      <td>Youn</td>\n",
       "      <td>L3</td>\n",
       "      <td>6.29</td>\n",
       "      <td>147166.0</td>\n",
       "    </tr>\n",
       "    <tr>\n",
       "      <th>8099</th>\n",
       "      <td>1.34</td>\n",
       "      <td>0.5</td>\n",
       "      <td>8.019802</td>\n",
       "      <td>5.0</td>\n",
       "      <td>100</td>\n",
       "      <td>15</td>\n",
       "      <td>13</td>\n",
       "      <td>23</td>\n",
       "      <td>26</td>\n",
       "      <td>9</td>\n",
       "      <td>15</td>\n",
       "      <td>youn</td>\n",
       "      <td>Youn</td>\n",
       "      <td>L3</td>\n",
       "      <td>6.29</td>\n",
       "      <td>147166.0</td>\n",
       "    </tr>\n",
       "  </tbody>\n",
       "</table>\n",
       "<p>8100 rows × 16 columns</p>\n",
       "</div>"
      ],
      "text/plain": [
       "      random_means  random_medians  top_k_mean  top_k_median    k   0   1  \\\n",
       "0             0.16             0.0    7.130000           4.0  100  24   6   \n",
       "1             0.12             0.0    7.130000           4.0  100  24   6   \n",
       "2             0.12             0.0    7.130000           4.0  100  24   6   \n",
       "3             0.30             0.0    7.130000           4.0  100  24   6   \n",
       "4             0.21             0.0    7.130000           4.0  100  24   6   \n",
       "...            ...             ...         ...           ...  ...  ..  ..   \n",
       "8095          0.79             0.0    8.019802           5.0  100  15  13   \n",
       "8096          0.95             0.0    8.019802           5.0  100  15  13   \n",
       "8097          0.73             0.0    8.019802           5.0  100  15  13   \n",
       "8098          1.43             0.0    8.019802           5.0  100  15  13   \n",
       "8099          1.34             0.5    8.019802           5.0  100  15  13   \n",
       "\n",
       "      2-5  6-10  11-20  21+ network  Name method  weighted_mean      size  \n",
       "0      26    14     27    3  apid.1  APID    MPS           5.02       NaN  \n",
       "1      26    14     27    3  apid.1  APID    MPS           5.02       NaN  \n",
       "2      26    14     27    3  apid.1  APID    MPS           5.02       NaN  \n",
       "3      26    14     27    3  apid.1  APID    MPS           5.02       NaN  \n",
       "4      26    14     27    3  apid.1  APID    MPS           5.02       NaN  \n",
       "...   ...   ...    ...  ...     ...   ...    ...            ...       ...  \n",
       "8095   23    26      9   15    youn  Youn     L3           6.29  147166.0  \n",
       "8096   23    26      9   15    youn  Youn     L3           6.29  147166.0  \n",
       "8097   23    26      9   15    youn  Youn     L3           6.29  147166.0  \n",
       "8098   23    26      9   15    youn  Youn     L3           6.29  147166.0  \n",
       "8099   23    26      9   15    youn  Youn     L3           6.29  147166.0  \n",
       "\n",
       "[8100 rows x 16 columns]"
      ]
     },
     "execution_count": 11,
     "metadata": {},
     "output_type": "execute_result"
    }
   ],
   "source": [
    "coverage_df"
   ]
  },
  {
   "cell_type": "code",
   "execution_count": 12,
   "metadata": {
    "ExecuteTime": {
     "end_time": "2024-09-27T19:02:43.182834Z",
     "start_time": "2024-09-27T19:02:43.179077Z"
    }
   },
   "outputs": [],
   "source": [
    "def plot_coverage_stats(coverage_df, ax=None, order=None, **kwargs):\n",
    "    coverage_stats =coverage_df.drop_duplicates(subset=['network']).set_index('Name')\n",
    "    stack_data = coverage_stats.groupby(['Name']).mean().loc[:, ('0', '1', '2-5', '6-10', '11-20', '21+', 'weighted_mean')].dropna()\n",
    "    return_order=False\n",
    "    if order is None:\n",
    "        #order=list(stack_data.sort_values(by=['21+', '11-20', '6-10', '2-5', '1'], ascending=False).sort_values('0').index)\n",
    "        order=list(stack_data.sort_values(by=['weighted_mean'], ascending=False).index)\n",
    "        return_order=True\n",
    "    if ax is None:\n",
    "        _ = plt.figure(figsize=(10, 2))\n",
    "        ax= plt.gca()\n",
    "    stack_data.drop(columns='weighted_mean').loc[order].plot(kind='bar', stacked=True, edgecolor='black', ax=ax, \n",
    "                            color=['#b8de29', '#73d055', '#29af7f', '#238a8d', '#33638d', 'darkslateblue'][::-1], **kwargs)\n",
    "    if return_order:\n",
    "        return order\n",
    "    else:\n",
    "        return stack_data\n"
   ]
  },
  {
   "cell_type": "code",
   "execution_count": 13,
   "metadata": {
    "ExecuteTime": {
     "end_time": "2024-09-27T19:02:44.966026Z",
     "start_time": "2024-09-27T19:02:43.183527Z"
    }
   },
   "outputs": [
    {
     "data": {
      "image/png": "[encoded data removed]",
      "text/plain": [
       "<Figure size 288x144 with 3 Axes>"
      ]
     },
     "metadata": {
      "needs_background": "light"
     },
     "output_type": "display_data"
    }
   ],
   "source": [
    "_, [ax3, ax1, ax2] = plt.subplots(nrows=3, ncols=1, figsize=(4, 2), sharex=True, gridspec_kw={'hspace':0.1, 'height_ratios':[0.4, 1, 1]})\n",
    "\n",
    "order_list = plot_coverage_stats(coverage_df[coverage_df.method=='MPS'], ax=ax1, width=0.8, use_index=True, order=None)\n",
    "x = plot_coverage_stats(coverage_df[coverage_df.method=='L3'], ax=ax2, order=order_list, width=0.8, use_index=True)\n",
    "# get x order from ax2\n",
    "sns.barplot(coverage_df[coverage_df.method=='L3'].groupby('Name')['size'].mean().loc[order_list], ax=ax3, color='grey')\n",
    "ax1.set_ylabel('Top 100 MPS\\nPredictions')\n",
    "ax2.set_ylabel('Top 100 L3\\nPredictions')\n",
    "ax3.set_yscale('log')"
   ]
  },
  {
   "cell_type": "markdown",
   "metadata": {},
   "source": [
    "## Supplemental Figures\n",
    "\n",
    "### SFig 6A-B  - CORUM/PANTHER Overlap"
   ]
  },
  {
   "cell_type": "markdown",
   "metadata": {},
   "source": [
    "\n",
    "External set sizes:\n",
    "* **CORUM** = 41034\n",
    "* **PANTHER** = 24238"
   ]
  },
  {
   "cell_type": "code",
   "execution_count": 14,
   "metadata": {
    "ExecuteTime": {
     "end_time": "2024-09-27T19:02:44.973246Z",
     "start_time": "2024-09-27T19:02:44.968719Z"
    }
   },
   "outputs": [],
   "source": [
    "overlap_df = pd.read_csv(os.path.join(gitdir, 'StateOfTheInteractomes_Notebooks/Data', 'FigS6_corum_panther_overlap.txt'), sep='\\t', index_col=0)"
   ]
  },
  {
   "cell_type": "code",
   "execution_count": 15,
   "metadata": {
    "ExecuteTime": {
     "end_time": "2024-09-27T19:02:45.185071Z",
     "start_time": "2024-09-27T19:02:44.973891Z"
    }
   },
   "outputs": [
    {
     "data": {
      "text/plain": [
       "<AxesSubplot:xlabel='%PANTHER', ylabel='Count'>"
      ]
     },
     "execution_count": 15,
     "metadata": {},
     "output_type": "execute_result"
    },
    {
     "data": {
      "image/png": "[encoded data removed]",
      "text/plain": [
       "<Figure size 216x216 with 2 Axes>"
      ]
     },
     "metadata": {
      "needs_background": "light"
     },
     "output_type": "display_data"
    }
   ],
   "source": [
    "_, [ax1, ax2] = plt.subplots(nrows=2, ncols=1, figsize=(3,3), sharey=True, gridspec_kw={'hspace':0.3})\n",
    "sns.histplot(overlap_df, x='%CORUM', ax=ax1, bins=[i/100 for i in range(0, 100, 5)], color='teal')\n",
    "sns.histplot(overlap_df, x='%PANTHER', ax=ax2, bins=[i/100 for i in range(0, 100, 5)], color='#1f5ca1')\n"
   ]
  },
  {
   "cell_type": "markdown",
   "metadata": {},
   "source": [
    "### SFig 6C-D - CORUM/PANTHER Overlap vs Performance"
   ]
  },
  {
   "cell_type": "code",
   "execution_count": 16,
   "metadata": {
    "ExecuteTime": {
     "end_time": "2024-09-27T19:02:45.188331Z",
     "start_time": "2024-09-27T19:02:45.185835Z"
    }
   },
   "outputs": [],
   "source": [
    "# exclude interactomes that directly incorporate the external data sets\n",
    "exclude_corum = ['ReactomeFI', 'PathwayCommons', 'GeneMANIA', 'ConsensusPathDB', 'iRefIndex']\n",
    "exclude_panther=['ReactomeFI', 'PathwayCommons']"
   ]
  },
  {
   "cell_type": "code",
   "execution_count": 17,
   "metadata": {
    "ExecuteTime": {
     "end_time": "2024-09-27T19:02:45.202809Z",
     "start_time": "2024-09-27T19:02:45.189125Z"
    }
   },
   "outputs": [],
   "source": [
    "#plot_df.groupby('Test Set')[['P@k', '%CORUM']].corr()"
   ]
  },
  {
   "cell_type": "code",
   "execution_count": 18,
   "metadata": {
    "ExecuteTime": {
     "end_time": "2024-09-27T19:02:45.423723Z",
     "start_time": "2024-09-27T19:02:45.203559Z"
    }
   },
   "outputs": [
    {
     "data": {
      "text/html": [
       "<div>\n",
       "<style scoped>\n",
       "    .dataframe tbody tr th:only-of-type {\n",
       "        vertical-align: middle;\n",
       "    }\n",
       "\n",
       "    .dataframe tbody tr th {\n",
       "        vertical-align: top;\n",
       "    }\n",
       "\n",
       "    .dataframe thead th {\n",
       "        text-align: right;\n",
       "    }\n",
       "</style>\n",
       "<table border=\"1\" class=\"dataframe\">\n",
       "  <thead>\n",
       "    <tr style=\"text-align: right;\">\n",
       "      <th></th>\n",
       "      <th></th>\n",
       "      <th>P@k</th>\n",
       "      <th>%CORUM</th>\n",
       "    </tr>\n",
       "    <tr>\n",
       "      <th>Test Set</th>\n",
       "      <th></th>\n",
       "      <th></th>\n",
       "      <th></th>\n",
       "    </tr>\n",
       "  </thead>\n",
       "  <tbody>\n",
       "    <tr>\n",
       "      <th rowspan=\"2\" valign=\"top\">CORUM</th>\n",
       "      <th>P@k</th>\n",
       "      <td>1.000000</td>\n",
       "      <td>0.084231</td>\n",
       "    </tr>\n",
       "    <tr>\n",
       "      <th>%CORUM</th>\n",
       "      <td>0.084231</td>\n",
       "      <td>1.000000</td>\n",
       "    </tr>\n",
       "    <tr>\n",
       "      <th rowspan=\"2\" valign=\"top\">Held-out</th>\n",
       "      <th>P@k</th>\n",
       "      <td>1.000000</td>\n",
       "      <td>-0.060976</td>\n",
       "    </tr>\n",
       "    <tr>\n",
       "      <th>%CORUM</th>\n",
       "      <td>-0.060976</td>\n",
       "      <td>1.000000</td>\n",
       "    </tr>\n",
       "    <tr>\n",
       "      <th rowspan=\"2\" valign=\"top\">PANTHER</th>\n",
       "      <th>P@k</th>\n",
       "      <td>1.000000</td>\n",
       "      <td>-0.324213</td>\n",
       "    </tr>\n",
       "    <tr>\n",
       "      <th>%CORUM</th>\n",
       "      <td>-0.324213</td>\n",
       "      <td>1.000000</td>\n",
       "    </tr>\n",
       "  </tbody>\n",
       "</table>\n",
       "</div>"
      ],
      "text/plain": [
       "                      P@k    %CORUM\n",
       "Test Set                           \n",
       "CORUM    P@k     1.000000  0.084231\n",
       "         %CORUM  0.084231  1.000000\n",
       "Held-out P@k     1.000000 -0.060976\n",
       "         %CORUM -0.060976  1.000000\n",
       "PANTHER  P@k     1.000000 -0.324213\n",
       "         %CORUM -0.324213  1.000000"
      ]
     },
     "execution_count": 18,
     "metadata": {},
     "output_type": "execute_result"
    },
    {
     "data": {
      "image/png": "[encoded data removed]",
      "text/plain": [
       "<Figure size 288x72 with 3 Axes>"
      ]
     },
     "metadata": {
      "needs_background": "light"
     },
     "output_type": "display_data"
    }
   ],
   "source": [
    "corum_df = pred_results[(pred_results['Prediction Method'] == 'MPS') & (~pred_results.Interactome.isin(exclude_corum))].groupby(['Interactome', 'Test Set'])['P@k'].mean().reset_index()\n",
    "_, axs = plt.subplots(1, 3, figsize=(4, 1), gridspec_kw={'wspace':0.6})\n",
    "colors=['#006400', '#008080', '#1f5ca1'] \n",
    "plot_df = corum_df.join(overlap_df, on='Interactome')\n",
    "for i, test_set in enumerate(['Held-out', 'CORUM', 'PANTHER']):\n",
    "    sns.scatterplot(plot_df[plot_df['Test Set']==test_set], x='%CORUM', y='P@k', ax = axs[i], s=20, color=colors[i])\n",
    "plot_df.groupby('Test Set')[['P@k', '%CORUM']].corr()                                                                                        "
   ]
  },
  {
   "cell_type": "code",
   "execution_count": 19,
   "metadata": {
    "ExecuteTime": {
     "end_time": "2024-09-27T19:02:45.626058Z",
     "start_time": "2024-09-27T19:02:45.424565Z"
    }
   },
   "outputs": [
    {
     "data": {
      "text/html": [
       "<div>\n",
       "<style scoped>\n",
       "    .dataframe tbody tr th:only-of-type {\n",
       "        vertical-align: middle;\n",
       "    }\n",
       "\n",
       "    .dataframe tbody tr th {\n",
       "        vertical-align: top;\n",
       "    }\n",
       "\n",
       "    .dataframe thead th {\n",
       "        text-align: right;\n",
       "    }\n",
       "</style>\n",
       "<table border=\"1\" class=\"dataframe\">\n",
       "  <thead>\n",
       "    <tr style=\"text-align: right;\">\n",
       "      <th></th>\n",
       "      <th></th>\n",
       "      <th>P@k</th>\n",
       "      <th>%PANTHER</th>\n",
       "    </tr>\n",
       "    <tr>\n",
       "      <th>Test Set</th>\n",
       "      <th></th>\n",
       "      <th></th>\n",
       "      <th></th>\n",
       "    </tr>\n",
       "  </thead>\n",
       "  <tbody>\n",
       "    <tr>\n",
       "      <th rowspan=\"2\" valign=\"top\">CORUM</th>\n",
       "      <th>P@k</th>\n",
       "      <td>1.000000</td>\n",
       "      <td>-0.266053</td>\n",
       "    </tr>\n",
       "    <tr>\n",
       "      <th>%PANTHER</th>\n",
       "      <td>-0.266053</td>\n",
       "      <td>1.000000</td>\n",
       "    </tr>\n",
       "    <tr>\n",
       "      <th rowspan=\"2\" valign=\"top\">Held-out</th>\n",
       "      <th>P@k</th>\n",
       "      <td>1.000000</td>\n",
       "      <td>-0.080607</td>\n",
       "    </tr>\n",
       "    <tr>\n",
       "      <th>%PANTHER</th>\n",
       "      <td>-0.080607</td>\n",
       "      <td>1.000000</td>\n",
       "    </tr>\n",
       "    <tr>\n",
       "      <th rowspan=\"2\" valign=\"top\">PANTHER</th>\n",
       "      <th>P@k</th>\n",
       "      <td>1.000000</td>\n",
       "      <td>-0.009243</td>\n",
       "    </tr>\n",
       "    <tr>\n",
       "      <th>%PANTHER</th>\n",
       "      <td>-0.009243</td>\n",
       "      <td>1.000000</td>\n",
       "    </tr>\n",
       "  </tbody>\n",
       "</table>\n",
       "</div>"
      ],
      "text/plain": [
       "                        P@k  %PANTHER\n",
       "Test Set                             \n",
       "CORUM    P@k       1.000000 -0.266053\n",
       "         %PANTHER -0.266053  1.000000\n",
       "Held-out P@k       1.000000 -0.080607\n",
       "         %PANTHER -0.080607  1.000000\n",
       "PANTHER  P@k       1.000000 -0.009243\n",
       "         %PANTHER -0.009243  1.000000"
      ]
     },
     "execution_count": 19,
     "metadata": {},
     "output_type": "execute_result"
    },
    {
     "data": {
      "image/png": "[encoded data removed]",
      "text/plain": [
       "<Figure size 288x72 with 3 Axes>"
      ]
     },
     "metadata": {
      "needs_background": "light"
     },
     "output_type": "display_data"
    }
   ],
   "source": [
    "panther_df = pred_results[(pred_results['Prediction Method'] == 'MPS') & (~pred_results.Interactome.isin(exclude_panther))].groupby(['Interactome', 'Test Set'])['P@k'].mean().reset_index()\n",
    "_, axs = plt.subplots(1, 3, figsize=(4, 1), gridspec_kw={'wspace':0.6})\n",
    "colors=['#006400', '#008080', '#1f5ca1'] \n",
    "for i, test_set in enumerate(['Held-out', 'CORUM', 'PANTHER']):\n",
    "    plot_df = panther_df.join(overlap_df, on='Interactome')\n",
    "    sns.scatterplot(plot_df[plot_df['Test Set']==test_set], x='%PANTHER', y='P@k', ax = axs[i], s=20, color=colors[i])\n",
    "plot_df.groupby('Test Set')[['P@k', '%PANTHER']].corr()"
   ]
  },
  {
   "cell_type": "markdown",
   "metadata": {},
   "source": [
    "### SFig 6E - Hierarchical communities"
   ]
  },
  {
   "cell_type": "markdown",
   "metadata": {
    "ExecuteTime": {
     "end_time": "2024-09-25T18:56:50.727397Z",
     "start_time": "2024-09-25T18:56:50.725155Z"
    }
   },
   "source": [
    "For implementation of HiDeF, see `Supplemental_Code/HiDeF_README.md`"
   ]
  },
  {
   "cell_type": "code",
   "execution_count": 20,
   "metadata": {
    "ExecuteTime": {
     "end_time": "2024-09-27T19:02:45.639233Z",
     "start_time": "2024-09-27T19:02:45.626940Z"
    }
   },
   "outputs": [],
   "source": [
    "complex_df = pd.read_csv(os.path.join(gitdir, 'StateOfTheInteractomes_Notebooks/Data/FigS6EFGH_complex_prediciton.csv'), index_col=0)"
   ]
  },
  {
   "cell_type": "code",
   "execution_count": 21,
   "metadata": {
    "ExecuteTime": {
     "end_time": "2024-09-27T19:02:45.650046Z",
     "start_time": "2024-09-27T19:02:45.640093Z"
    }
   },
   "outputs": [],
   "source": [
    "def plot_stacked_bar(df, bin_edges,order=None, ax=None):\n",
    "    \"\"\"\n",
    "    Plots a stacked bar graph showing the distribution of cluster sizes per network.\n",
    "\n",
    "    Parameters:\n",
    "    df (pd.DataFrame): DataFrame with 'Network' and 'Cluster_size' columns.\n",
    "    bin_edges (list): List of bin edges for binning the 'Cluster_size'.\n",
    "    \"\"\"\n",
    "    \n",
    "    # Create a column 'Bin' that assigns each row to a bin based on 'Cluster_size'\n",
    "    df['Bin'] = pd.cut(df['Cluster_size'], bins=bin_edges, include_lowest=True)\n",
    "    col_order = df.sort_values(by='Bin').Bin.unique()\n",
    "    # Count the number of instances per network and per bin\n",
    "    bin_counts = df.groupby(['Network', 'Bin']).size().unstack(fill_value=0)\n",
    "    bin_counts = bin_counts.loc[:, col_order]\n",
    "    # Plotting the stacked bar chart\n",
    "    if order is not None:\n",
    "        bin_counts.loc[order].plot(kind='bar', stacked=True, colormap='Blues_r', ax=ax)\n",
    "        df.Network.value_counts().loc[order].plot(kind='bar', ax=ax, edgecolor='black', fill=None)\n",
    "    else:\n",
    "        bin_counts.plot(kind='bar', stacked=True, colormap='Blues_r', ax=ax)\n",
    "        df.Network.value_counts().plot(kind='bar', ax=ax, edgecolor='black', fill=None)\n",
    "    \n",
    "    # Adding labels and title\n",
    "    plt.xlabel('Network')\n",
    "    plt.ylabel('Count')\n",
    "    plt.title('Distribution of Cluster Sizes per Network')\n",
    "    \n",
    "    # Display the plot\n",
    "    plt.legend(title='Size Bins')"
   ]
  },
  {
   "cell_type": "code",
   "execution_count": 22,
   "metadata": {
    "ExecuteTime": {
     "end_time": "2024-09-27T19:02:47.591372Z",
     "start_time": "2024-09-27T19:02:45.650700Z"
    }
   },
   "outputs": [
    {
     "data": {
      "image/png": "[encoded data removed]",
      "text/plain": [
       "<Figure size 468x108 with 1 Axes>"
      ]
     },
     "metadata": {
      "needs_background": "light"
     },
     "output_type": "display_data"
    }
   ],
   "source": [
    "_ = plt.figure(figsize=(6.5, 1.5))\n",
    "order = complex_df.groupby('Network').Cluster_size.median().sort_values().index.tolist()\n",
    "plot_stacked_bar(complex_df, [0, 5,10, 50, 200, 50000, 100000], ax=plt.gca(), order=order)\n",
    "plt.savefig(os.path.join(figdir, 'FigS6E_complex_pred_sizes.jpg'), dpi=400, bbox_inches='tight')"
   ]
  },
  {
   "cell_type": "markdown",
   "metadata": {},
   "source": [
    "### SFig 6F-H - Assessment of hierarchical communities\n",
    "\n",
    "For implementation of HiDeF, see `Supplemental_Code/HiDeF_README.md`\n",
    "#### Example Analysis\n",
    "\n",
    "Here we examine the precomputed hierarchy for DIP. Note that the HiDeF algorithm is not deterministic so slight variation is expected between repeated runs."
   ]
  },
  {
   "cell_type": "code",
   "execution_count": 23,
   "metadata": {
    "ExecuteTime": {
     "end_time": "2024-09-27T19:02:47.627291Z",
     "start_time": "2024-09-27T19:02:47.592294Z"
    }
   },
   "outputs": [],
   "source": [
    "dip_communities = pd.read_csv(os.path.join(gitdir, 'Data/example_outputs/ComplexPrediction', 'dip.10.nodes'), sep='\\t', header=None,\n",
    "                             names=['ClusterID', 'Size', 'Genes', 'Persistence' ])"
   ]
  },
  {
   "cell_type": "markdown",
   "metadata": {},
   "source": [
    "Community Sizes"
   ]
  },
  {
   "cell_type": "code",
   "execution_count": 24,
   "metadata": {
    "ExecuteTime": {
     "end_time": "2024-09-27T19:02:47.854548Z",
     "start_time": "2024-09-27T19:02:47.628121Z"
    }
   },
   "outputs": [
    {
     "data": {
      "text/plain": [
       "Text(0, 0.5, 'Community count')"
      ]
     },
     "execution_count": 24,
     "metadata": {},
     "output_type": "execute_result"
    },
    {
     "data": {
      "image/png": "[encoded data removed]",
      "text/plain": [
       "<Figure size 432x288 with 1 Axes>"
      ]
     },
     "metadata": {
      "needs_background": "light"
     },
     "output_type": "display_data"
    }
   ],
   "source": [
    "sns.histplot(dip_communities['Size'], bins=20, log_scale=True)\n",
    "plt.xlabel('Gene Count')\n",
    "plt.ylabel('Community count')"
   ]
  },
  {
   "cell_type": "markdown",
   "metadata": {},
   "source": [
    "CORUM overlap"
   ]
  },
  {
   "cell_type": "code",
   "execution_count": 25,
   "metadata": {
    "ExecuteTime": {
     "end_time": "2024-09-27T19:02:47.868782Z",
     "start_time": "2024-09-27T19:02:47.855340Z"
    }
   },
   "outputs": [],
   "source": [
    "def load_corum_data(corum_file, outdir):\n",
    "    corum_df = pd.read_csv(corum_file, sep='\\t', usecols=['ComplexID', 'ComplexName', 'subunits(Entrez IDs)', 'GO ID', 'GO description'])\n",
    "    corum_df['NumSubunits'] = corum_df['subunits(Entrez IDs)'].apply(lambda x: len(x.split(';')))\n",
    "    complex_info = corum_df.loc[:,['ComplexID', 'ComplexName', 'GO ID', 'GO description', 'NumSubunits']]\n",
    "    complex_info.to_csv(os.path.join(outdir,'corum_complex_info.tsv'), sep='\\t')\n",
    "    all_complexes = []\n",
    "    for index, row in corum_df.iterrows():\n",
    "        subunits = row['subunits(Entrez IDs)'].split(';')\n",
    "        subunits = [int(x) for x in subunits if x.isnumeric()]\n",
    "        all_complexes.append(pd.DataFrame({'Complex': row['ComplexID'], 'Subunit': subunits}))\n",
    "    complex_df = pd.concat(all_complexes).reset_index(drop=True)\n",
    "    complex_df.Subunit = complex_df.Subunit.astype(int)\n",
    "    complex_df['value'] = 1\n",
    "    complex_mat = complex_df.pivot_table(index='Subunit', columns='Complex', values='value')\n",
    "    complex_mat = complex_mat.fillna(0)\n",
    "    complex_mat.index.name=None\n",
    "    complex_mat.columns.name=None\n",
    "    complex_mat.to_csv(os.path.join(outdir, 'corum_processed.tsv'), sep='\\t')\n",
    "    return complex_mat\n",
    "\n",
    "def process_network_clusters(prefix, outdir):\n",
    "    test_df = pd.read_csv(os.path.join(outdir, f'{prefix}.nodes'), usecols=[0,2], sep='\\t', header=None, names=['ID', 'Genes'])\n",
    "    all_clusters = []\n",
    "    for index, row in test_df.iterrows():\n",
    "        subunits = row['Genes'].split(' ')\n",
    "        subunits = [int(x) for x in subunits if x.isnumeric()]\n",
    "        all_clusters.append(pd.DataFrame({'Complex': row['ID'], 'Subunit': subunits}))\n",
    "    test_df = pd.concat(all_clusters).reset_index(drop=True)\n",
    "    test_df.Subunit = test_df.Subunit.astype(int)\n",
    "    test_df['value'] = 1\n",
    "    test_mat = test_df.pivot_table(index='Subunit', columns='Complex', values='value')\n",
    "    test_mat = test_mat.fillna(0)\n",
    "    test_mat.index.name=None\n",
    "    test_mat.columns.name=None\n",
    "    return test_mat\n",
    "    \n",
    "def standardize_mats(test_mat, complex_mat):\n",
    "    not_in_test = [x for x in complex_mat.index if x not in test_mat.index]\n",
    "    not_in_corum = [x for x in test_mat.index if x not in complex_mat.index]\n",
    "    complex_filled = pd.concat([complex_mat, pd.DataFrame({comp: 0 for comp in complex_mat.columns}, index=not_in_corum)])\n",
    "    test_filled = pd.concat([test_mat, pd.DataFrame({comp: 0 for comp in test_mat.columns}, index=not_in_test)])\n",
    "    complex_filled.sort_index(inplace=True)\n",
    "    test_filled.sort_index(inplace=True)\n",
    "    return complex_filled, test_filled\n",
    "\n",
    "def calculate_Jaccard(test_filled, complex_filled):\n",
    "    intersection = np.dot(test_filled.T, complex_filled)\n",
    "    sum1 = np.repeat([np.sum(test_filled, axis=0).values], [complex_filled.shape[1]], axis=0).T\n",
    "    sum2 = np.repeat([np.sum(complex_filled, axis=0).values], [test_filled.shape[1]], axis=0)\n",
    "    union = sum1 + sum2 - intersection\n",
    "    J = intersection / union\n",
    "    return J\n",
    "\n",
    "def get_best_matches(J, test_ids, complex_ids):\n",
    "    best_match_to_test = {test_ids[i]: complex_ids[x]for i, x in enumerate(np.argmax(J, axis=1))}\n",
    "    best_similarity_test = {test_ids[i]: x for i, x in enumerate(np.max(J, axis=1))}\n",
    "\n",
    "    # Find the best match for each complex in dfB against dfA\n",
    "    best_match_to_complex = {complex_ids[i]: test_ids[x] for i, x in enumerate(np.argmax(J, axis=0))}\n",
    "    best_similarity_complex = {complex_ids[i]: x for i, x in enumerate(np.max(J, axis=0))}\n",
    "    test_results = pd.DataFrame({'CORUM_match':best_match_to_test, 'J': best_similarity_test})\n",
    "    complex_results = pd.DataFrame({'Test_match': best_match_to_complex, 'J': best_similarity_complex})\n",
    "    return test_results, complex_results\n",
    "\n",
    "def map_complex_ids(res_df, outdir ):\n",
    "    complex_info = pd.read_csv(os.path.join(outdir,'corum_complex_info.tsv'), sep='\\t', index_col=0)\n",
    "    if 'CORUM_match' in res_df.columns:\n",
    "        res_df['TestID'] = res_df.index\n",
    "        res_df = res_df.merge(complex_info.loc[:, ('ComplexID', 'ComplexName', 'NumSubunits')], left_on='CORUM_match', right_on='ComplexID', how='left')\n",
    "    else:\n",
    "        res_df = res_df.merge(complex_info.loc[:, ('ComplexID', 'ComplexName', 'NumSubunits')], left_index=True, right_on='ComplexID', how='left')\n",
    "    return res_df\n",
    "\n",
    "def write_results(test_df, complex_df, prefix, outdir):\n",
    "    test_df.to_csv(os.path.join(outdir, prefix+ '.test_to_corum.tsv'), sep='\\t')\n",
    "    complex_df.to_csv(os.path.join(outdir, prefix+ '.corum_to_test.tsv'), sep='\\t')\n",
    "    \n",
    "def corum_analysis_wrapper(corum_file, prefix, outdir):\n",
    "    # load the necessary data\n",
    "    complex_mat = load_corum_data(corum_file, outdir=outdir)\n",
    "    test_mat = process_network_clusters(prefix, outdir)\n",
    "    # calculate all Jaccard indexes\n",
    "    complex_filled, test_filled = standardize_mats(test_mat, complex_mat)\n",
    "    J = calculate_Jaccard(test_filled, complex_filled)\n",
    "    # identify and get information on best matches\n",
    "    test_res, complex_res = get_best_matches(J, test_filled.columns, complex_filled.columns)\n",
    "    complex_out = map_complex_ids(complex_res, outdir)\n",
    "    test_out = map_complex_ids(test_res, outdir)\n",
    "    #save the results\n",
    "    write_results(test_out, complex_out, prefix, outdir)"
   ]
  },
  {
   "cell_type": "code",
   "execution_count": 26,
   "metadata": {
    "ExecuteTime": {
     "end_time": "2024-09-27T19:02:47.887698Z",
     "start_time": "2024-09-27T19:02:47.869577Z"
    }
   },
   "outputs": [],
   "source": [
    "corum_file = os.path.join(gitdir, 'StateOfTheInteractomes_Notebooks/Data/FigS6F_corum_complexes.txt')"
   ]
  },
  {
   "cell_type": "code",
   "execution_count": 27,
   "metadata": {
    "ExecuteTime": {
     "end_time": "2024-09-27T19:02:55.766357Z",
     "start_time": "2024-09-27T19:02:47.888411Z"
    }
   },
   "outputs": [],
   "source": [
    "# Perform the analysis\n",
    "corum_analysis_wrapper(corum_file, 'dip.10', os.path.join(gitdir, 'Data/example_outputs/ComplexPrediction'))"
   ]
  },
  {
   "cell_type": "code",
   "execution_count": 30,
   "metadata": {
    "ExecuteTime": {
     "end_time": "2024-09-27T19:04:30.047316Z",
     "start_time": "2024-09-27T19:04:30.036595Z"
    }
   },
   "outputs": [],
   "source": [
    "# Load the results\n",
    "pref='dip'\n",
    "corum_to_test = pd.read_csv(os.path.join(gitdir, f'Data/example_outputs/ComplexPrediction/{pref}.10.corum_to_test.tsv'), sep='\\t', index_col=0)"
   ]
  },
  {
   "cell_type": "code",
   "execution_count": 31,
   "metadata": {
    "ExecuteTime": {
     "end_time": "2024-09-27T19:04:30.070955Z",
     "start_time": "2024-09-27T19:04:30.048270Z"
    }
   },
   "outputs": [
    {
     "data": {
      "text/plain": [
       "(43, 5)"
      ]
     },
     "execution_count": 31,
     "metadata": {},
     "output_type": "execute_result"
    }
   ],
   "source": [
    "# Identify CORUM complexes with at least one community with J >= 0.5\n",
    "corum_to_test[corum_to_test.J >= 0.5].shape"
   ]
  },
  {
   "cell_type": "markdown",
   "metadata": {},
   "source": [
    "Calculate GO Homogeneity for clusters with < 20 genes"
   ]
  },
  {
   "cell_type": "code",
   "execution_count": 32,
   "metadata": {
    "ExecuteTime": {
     "end_time": "2024-09-27T19:04:30.105321Z",
     "start_time": "2024-09-27T19:04:30.071847Z"
    }
   },
   "outputs": [],
   "source": [
    "def load_go_data():\n",
    "    data = pd.read_csv('gene2go', sep='\\t', names=['TaxID', 'GeneID', 'GO_term', 'Evidence', 'Qualifier', 'GO_name', 'Pubmed', 'Category'])\n",
    "    geneid2go = data.groupby('GeneID')['GO_term'].apply(set).to_dict()\n",
    "    godag = GODag('go.obo')\n",
    "    branches = {'BP': data[data.Category=='Process'].GO_term.unique(), 'MF': data[data.Category=='Function'].GO_term.unique(), 'CC': data[data.Category=='Component'].GO_term.unique()}\n",
    "    return geneid2go, godag, branches\n",
    "\n",
    "def calculate_go_similarity(go_terms1, go_terms2, go_dag, already_calculated={}):\n",
    "    \"\"\"\n",
    "    Calculate the semantic similarity between two sets of GO terms using Wang et al.'s method.\n",
    "\n",
    "    Parameters:\n",
    "    go_terms1 (list): List of GO terms for the first protein.\n",
    "    go_terms2 (list): List of GO terms for the second protein.\n",
    "    go_dag (GODag): The GO DAG loaded from an OBO file.\n",
    "    method (str): The method used for semantic similarity ('Wang' is the default).\n",
    "\n",
    "    Returns:\n",
    "    float: The average semantic similarity score between the two sets of GO terms.\n",
    "    \"\"\"\n",
    "    scores = []\n",
    "    for term1 in go_terms1:\n",
    "        for term2 in go_terms2:\n",
    "            if (term1, term2) in already_calculated:\n",
    "                score = already_calculated[(term1, term2)]\n",
    "            elif (term2, term1) in already_calculated:\n",
    "                score = already_calculated[(term2, term1)]\n",
    "            else:\n",
    "                score = semantic_similarity(term1, term2, go_dag)\n",
    "                scores.append(score)\n",
    "                already_calculated[(term1, term2)] = score\n",
    "    #scores = [score for score in scores if score is not None]\n",
    "    return sum(scores) / len(scores) if scores else 0.0, already_calculated\n",
    "\n",
    "def calculate_homogeneity(clusters, go_annotations, go_dag, go_branches):\n",
    "    \"\"\"\n",
    "    Calculate the homogeneity of each cluster based on GO semantic similarity.\n",
    "\n",
    "    Parameters:\n",
    "    clusters (dict): A dictionary with cluster IDs as keys and lists of proteins (nodes) as values.\n",
    "    go_annotations (pd.DataFrame): DataFrame with columns ['Protein', 'GO_term', 'Category']\n",
    "\n",
    "    Returns:\n",
    "    dict: A dictionary with cluster IDs as keys and homogeneity scores as values.\n",
    "    \"\"\"\n",
    "    homogeneity_dict = {}\n",
    "    already_calculated_go = defaultdict(float)\n",
    "    already_calculated_genes = defaultdict(dict)\n",
    "    \n",
    "    for cluster_id, genes in tqdm(clusters.items()):\n",
    "        genes = [g for g in genes if g in go_annotations]\n",
    "        gene_pairs = list(itertools.combinations(genes, 2))\n",
    "        scores = {'mf' : [], 'bp': [],'cc': []}\n",
    "        \n",
    "        for gene1, gene2 in gene_pairs:\n",
    "            if (gene1, gene2) in already_calculated_genes:\n",
    "                for branch in ['mf', 'bp', 'cc']:\n",
    "                    scores[branch].append(already_calculated_genes[(gene1, gene2)][branch])\n",
    "                continue\n",
    "            elif (gene2, gene1) in already_calculated_genes:\n",
    "                for branch in ['mf', 'bp', 'cc']:\n",
    "                    scores[branch].append(already_calculated_genes[(gene2, gene1)][branch])\n",
    "                continue\n",
    "            terms1 = {'go' :go_annotations[gene1]}\n",
    "            terms2 = {'go' :go_annotations[gene2]}\n",
    "            branch_names = {'mf':'molecular_function', 'bp':'biological_process', 'cc':'cellular_component'}\n",
    "            for branch in ['mf', 'bp', 'cc']:\n",
    "                terms1[branch] = [t for t in terms1['go'] if t in go_dag and (go_dag[t].namespace == branch_names[branch])]\n",
    "                terms2[branch] = [t for t in terms2['go'] if t in go_dag and (go_dag[t].namespace == branch_names[branch])]\n",
    "      \n",
    "            already_calculated_genes[(gene1, gene2)] = {'mf':0, 'bp':0, 'cc':0}\n",
    "            for branch in ['mf', 'bp', 'cc']:\n",
    "                if terms1[branch] and terms2[branch]:\n",
    "                    score, already_calculated_go = calculate_go_similarity(terms1[branch], terms2[branch], \n",
    "                                                                           go_dag, already_calculated_go)\n",
    "                    scores[branch].append(score)\n",
    "                    already_calculated_genes[(gene1, gene2)][branch] = score\n",
    "\n",
    "        avg_scores = {}\n",
    "        for branch in ['mf', 'bp', 'cc']:\n",
    "            avg_scores[branch] = sum(scores[branch]) / len(scores[branch]) if scores[branch] else 0.0\n",
    "        \n",
    "        # Calculate the final GO score for the cluster\n",
    "        go_score = (avg_scores['mf'] + avg_scores['bp'] + avg_scores['cc']) / 3\n",
    "        homogeneity_dict[cluster_id] = go_score\n",
    "    \n",
    "    return homogeneity_dict"
   ]
  },
  {
   "cell_type": "code",
   "execution_count": 33,
   "metadata": {
    "ExecuteTime": {
     "end_time": "2024-09-27T19:04:37.184866Z",
     "start_time": "2024-09-27T19:04:30.105961Z"
    }
   },
   "outputs": [
    {
     "name": "stderr",
     "output_type": "stream",
     "text": [
      "/tmp/ipykernel_960287/1491414914.py:1: DtypeWarning: Columns (0,1) have mixed types.Specify dtype option on import or set low_memory=False.\n",
      "  gd, godag, go_branches = load_go_data()\n"
     ]
    },
    {
     "name": "stdout",
     "output_type": "stream",
     "text": [
      "go.obo: fmt(1.2) rel(2024-06-17) 45,494 Terms\n"
     ]
    }
   ],
   "source": [
    "gd, godag, go_branches = load_go_data()"
   ]
  },
  {
   "cell_type": "code",
   "execution_count": 34,
   "metadata": {
    "ExecuteTime": {
     "end_time": "2024-09-27T19:04:37.206002Z",
     "start_time": "2024-09-27T19:04:37.186145Z"
    }
   },
   "outputs": [],
   "source": [
    "all_comms = dip_communities.set_index('ClusterID').Genes.to_dict()\n",
    "all_comms = {k: [int(x) for x in v.split(' ') if x.isnumeric()] for k, v in all_comms.items()}"
   ]
  },
  {
   "cell_type": "code",
   "execution_count": 35,
   "metadata": {
    "ExecuteTime": {
     "end_time": "2024-09-27T19:05:05.125015Z",
     "start_time": "2024-09-27T19:04:37.206774Z"
    }
   },
   "outputs": [
    {
     "name": "stderr",
     "output_type": "stream",
     "text": [
      "100%|██████████| 93/93 [00:27<00:00,  3.35it/s]\n"
     ]
    }
   ],
   "source": [
    "\n",
    "sub_comms = {k: v for k, v in all_comms.items() if len(v) < 20}\n",
    "homogs = calculate_homogeneity(sub_comms, gd, godag, go_branches)"
   ]
  },
  {
   "cell_type": "code",
   "execution_count": 36,
   "metadata": {
    "ExecuteTime": {
     "end_time": "2024-09-27T19:05:05.282739Z",
     "start_time": "2024-09-27T19:05:05.126279Z"
    }
   },
   "outputs": [
    {
     "data": {
      "text/plain": [
       "Text(0, 0.5, 'Community count')"
      ]
     },
     "execution_count": 36,
     "metadata": {},
     "output_type": "execute_result"
    },
    {
     "data": {
      "image/png": "[encoded data removed]",
      "text/plain": [
       "<Figure size 432x288 with 1 Axes>"
      ]
     },
     "metadata": {
      "needs_background": "light"
     },
     "output_type": "display_data"
    }
   ],
   "source": [
    "sns.histplot(homogs.values(), bins=20)\n",
    "plt.xlabel('GO Homogeneity')\n",
    "plt.ylabel('Community count')"
   ]
  },
  {
   "cell_type": "markdown",
   "metadata": {},
   "source": [
    "Clustering Coefficient"
   ]
  },
  {
   "cell_type": "code",
   "execution_count": 37,
   "metadata": {
    "ExecuteTime": {
     "end_time": "2024-09-27T19:05:05.286028Z",
     "start_time": "2024-09-27T19:05:05.283478Z"
    }
   },
   "outputs": [],
   "source": [
    "def calculate_clustering_coefficient(G, clusters):\n",
    "    \"\"\"\n",
    "    Calculate the average clustering coefficient of each cluster in the graph G.\n",
    "\n",
    "    Parameters:\n",
    "    G (networkx.Graph): The graph representing the protein interactions.\n",
    "    clusters (dict): A dictionary with cluster IDs as keys and lists of proteins (nodes) as values.\n",
    "\n",
    "    Returns:\n",
    "    dict: A dictionary with cluster IDs as keys and clustering coefficient scores as values.\n",
    "    \"\"\"\n",
    "    clustering_coefficient_dict = {}\n",
    "    for cluster_id, nodes in clusters.items():\n",
    "        if len(nodes) < len(G.nodes):\n",
    "            subgraph = G.subgraph(nodes)\n",
    "            clustering_coefficient = nx.average_clustering(subgraph)\n",
    "            clustering_coefficient_dict[cluster_id] = clustering_coefficient\n",
    "    return clustering_coefficient_dict"
   ]
  },
  {
   "cell_type": "code",
   "execution_count": 38,
   "metadata": {
    "ExecuteTime": {
     "end_time": "2024-09-27T19:05:05.320051Z",
     "start_time": "2024-09-27T19:05:05.286830Z"
    }
   },
   "outputs": [],
   "source": [
    "G = load_edgelist_to_networkx(os.path.join(gitdir, 'Data/example_outputs','dip_net.txt'), id_type=\"Entrez\", testmode=False, timer=None, delimiter=\"\\t\", node_cols=[0,1],keep_attributes=False, verbose=False)"
   ]
  },
  {
   "cell_type": "code",
   "execution_count": 39,
   "metadata": {
    "ExecuteTime": {
     "end_time": "2024-09-27T19:05:06.554381Z",
     "start_time": "2024-09-27T19:05:05.320846Z"
    }
   },
   "outputs": [],
   "source": [
    "coeffs = calculate_clustering_coefficient(G, all_comms)"
   ]
  },
  {
   "cell_type": "code",
   "execution_count": 40,
   "metadata": {
    "ExecuteTime": {
     "end_time": "2024-09-27T19:05:06.693803Z",
     "start_time": "2024-09-27T19:05:06.555957Z"
    }
   },
   "outputs": [
    {
     "data": {
      "text/plain": [
       "Text(0, 0.5, 'Community count')"
      ]
     },
     "execution_count": 40,
     "metadata": {},
     "output_type": "execute_result"
    },
    {
     "data": {
      "image/png": "[encoded data removed]",
      "text/plain": [
       "<Figure size 432x288 with 1 Axes>"
      ]
     },
     "metadata": {
      "needs_background": "light"
     },
     "output_type": "display_data"
    }
   ],
   "source": [
    "sns.histplot(coeffs.values(), bins=20)\n",
    "plt.xlabel('Clustering Coefficient')\n",
    "plt.ylabel('Community count')"
   ]
  },
  {
   "cell_type": "markdown",
   "metadata": {},
   "source": [
    "#### Full Figure"
   ]
  },
  {
   "cell_type": "code",
   "execution_count": 47,
   "metadata": {
    "ExecuteTime": {
     "end_time": "2024-09-27T19:07:56.841208Z",
     "start_time": "2024-09-27T19:07:56.828826Z"
    }
   },
   "outputs": [],
   "source": [
    "network_classes = load_network_names(os.path.join(gitdir, \"StateOfTheInteractomes_Notebooks/Data/network_classifications.txt\"))\n",
    "network_classes  = {**network_classes, **{ network_names[k]:v for k, v in network_classes.items()}}"
   ]
  },
  {
   "cell_type": "markdown",
   "metadata": {},
   "source": [
    "Assess evaluation metrics for complexes with < 200 genes"
   ]
  },
  {
   "cell_type": "code",
   "execution_count": 42,
   "metadata": {
    "ExecuteTime": {
     "end_time": "2024-09-27T19:05:06.724888Z",
     "start_time": "2024-09-27T19:05:06.720106Z"
    }
   },
   "outputs": [],
   "source": [
    "complex_df['Class'] = complex_df.Network.map(network_classes)\n",
    "complex_df_small = complex_df[complex_df.Cluster_size < 200]"
   ]
  },
  {
   "cell_type": "code",
   "execution_count": 43,
   "metadata": {
    "ExecuteTime": {
     "end_time": "2024-09-27T19:05:06.741469Z",
     "start_time": "2024-09-27T19:05:06.725567Z"
    }
   },
   "outputs": [],
   "source": [
    "corum_ranks = pd.read_csv(os.path.join(gitdir, 'StateOfTheInteractomes_Notebooks/Data/Fig6F_corum_complex_results.csv'), index_col=0)\n",
    "corum_ranks['CORUMRank'] = corum_ranks['#CORUM Recovered'].rank(ascending=False)\n",
    "corum_ranks['Network'] = corum_ranks.index"
   ]
  },
  {
   "cell_type": "code",
   "execution_count": 44,
   "metadata": {
    "ExecuteTime": {
     "end_time": "2024-09-27T19:05:06.760827Z",
     "start_time": "2024-09-27T19:05:06.742204Z"
    }
   },
   "outputs": [],
   "source": [
    "go_ranks = pd.DataFrame({'go_score': complex_df_small.groupby('Network').Homogeneity.mean().sort_values(ascending=False)})\n",
    "go_ranks.index.name = None\n",
    "go_ranks['GORank'] = go_ranks['go_score'].rank(ascending=False)\n",
    "top_go = [x for x in go_ranks[0:15].index.values]"
   ]
  },
  {
   "cell_type": "code",
   "execution_count": 45,
   "metadata": {
    "ExecuteTime": {
     "end_time": "2024-09-27T19:05:06.790266Z",
     "start_time": "2024-09-27T19:05:06.761566Z"
    }
   },
   "outputs": [],
   "source": [
    "coeff_ranks = pd.DataFrame({'coeff': complex_df_small.groupby('Network').ClusteringCoeff.mean().sort_values(ascending=False)})\n",
    "coeff_ranks.index.name = None\n",
    "coeff_ranks['CoeffRank'] = coeff_ranks['coeff'].rank(ascending=False)\n",
    "top_coeff = [x for x in coeff_ranks[0:15].index.values]"
   ]
  },
  {
   "cell_type": "code",
   "execution_count": 46,
   "metadata": {
    "ExecuteTime": {
     "end_time": "2024-09-27T19:05:08.995633Z",
     "start_time": "2024-09-27T19:05:06.791015Z"
    }
   },
   "outputs": [
    {
     "data": {
      "image/png": "[encoded data removed]",
      "text/plain": [
       "<Figure size 468x216 with 3 Axes>"
      ]
     },
     "metadata": {
      "needs_background": "light"
     },
     "output_type": "display_data"
    }
   ],
   "source": [
    "corum_ranks['Class'] = corum_ranks.index.map(network_classes)\n",
    "_, [ax1, ax2, ax3] = plt.subplots(nrows=1, ncols=3, figsize=(6.5, 3), gridspec_kw={'wspace':1})\n",
    "sns.barplot(corum_ranks.iloc[0:15], x='#CORUM Recovered',y='Network', ax=ax1, hue='Class', saturation=1,\n",
    "           palette=['#44cf6c', '#ffa500', '#73c7e7'], hue_order=['Curated', 'Experimental', 'Composite'],\n",
    "           edgecolor='black', width=0.6)\n",
    "sns.violinplot(complex_df_small[complex_df_small.Network.isin(top_go)], x='Homogeneity', y='Network', hue='Class', \n",
    "               palette=['#44cf6c', '#ffa500', '#73c7e7'], hue_order=['Curated', 'Experimental', 'Composite'], \n",
    "               saturation=1, ax=ax2, cut=0, order=top_go)\n",
    "sns.violinplot(complex_df_small[complex_df_small.Network.isin(top_coeff)], x='ClusteringCoeff', y='Network', hue='Class', \n",
    "               palette=['#44cf6c', '#ffa500', '#73c7e7'], hue_order=['Curated', 'Experimental', 'Composite'],\n",
    "               saturation=1, ax=ax3, cut=0, order=top_coeff)\n",
    "ax1.set_xlabel(\"# Recovered CORUM Complexes\")\n",
    "ax2.set_xlabel(\"GO_Score\")\n",
    "ax3.set_xlabel(\"Clustering Coefficient\")\n",
    "for ax in [ax1, ax2, ax3]:\n",
    "    ax.set_ylabel('')\n",
    "plt.savefig(os.path.join(figdir, 'FigS6FGH_complex_pred_stats.jpg'), dpi=400, bbox_inches='tight')"
   ]
  }
 ],
 "metadata": {
  "kernelspec": {
   "display_name": "Python [conda env:pcnet_py3]",
   "language": "python",
   "name": "conda-env-pcnet_py3-py"
  },
  "language_info": {
   "codemirror_mode": {
    "name": "ipython",
    "version": 3
   },
   "file_extension": ".py",
   "mimetype": "text/x-python",
   "name": "python",
   "nbconvert_exporter": "python",
   "pygments_lexer": "ipython3",
   "version": "3.10.0"
  },
  "toc": {
   "base_numbering": 1,
   "nav_menu": {},
   "number_sections": true,
   "sideBar": true,
   "skip_h1_title": false,
   "title_cell": "Table of Contents",
   "title_sidebar": "Contents",
   "toc_cell": false,
   "toc_position": {},
   "toc_section_display": true,
   "toc_window_display": true
  },
  "varInspector": {
   "cols": {
    "lenName": 16,
    "lenType": 16,
    "lenVar": 40
   },
   "kernels_config": {
    "python": {
     "delete_cmd_postfix": "",
     "delete_cmd_prefix": "del ",
     "library": "var_list.py",
     "varRefreshCmd": "print(var_dic_list())"
    },
    "r": {
     "delete_cmd_postfix": ") ",
     "delete_cmd_prefix": "rm(",
     "library": "var_list.r",
     "varRefreshCmd": "cat(var_dic_list()) "
    }
   },
   "types_to_exclude": [
    "module",
    "function",
    "builtin_function_or_method",
    "instance",
    "_Feature"
   ],
   "window_display": false
  }
 },
 "nbformat": 4,
 "nbformat_minor": 4
}
