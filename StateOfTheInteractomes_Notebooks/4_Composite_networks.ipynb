{
 "cells": [
  {
   "cell_type": "markdown",
   "metadata": {},
   "source": [
    "# Composite Networks\n",
    "\n",
    "*State of the Interactomes: an evaluation of molecular networks for generating biological insights.* Wright, SN et al. [https://doi.org/10.1101/2024.04.26.587073]  \n",
    "This notebook contains code and results related to:\n",
    "* Figure 4B-D\n",
    "\n",
    "**Note: due to the size of network data sets utilized in this study, this notebook draws on summarized results rather than re-evaluating all networks directly.**\n",
    "\n",
    "For implementation of the composite pipeline, see `ExampleUsage/PC_PCNets.README.md` "
   ]
  },
  {
   "cell_type": "markdown",
   "metadata": {},
   "source": [
    "## Setup"
   ]
  },
  {
   "cell_type": "code",
   "execution_count": 1,
   "metadata": {
    "ExecuteTime": {
     "end_time": "2024-09-18T21:43:18.244405Z",
     "start_time": "2024-09-18T21:43:16.765375Z"
    }
   },
   "outputs": [],
   "source": [
    "import pandas as pd\n",
    "import seaborn as sns\n",
    "import matplotlib.pyplot as plt\n",
    "import numpy as np\n",
    "import os\n",
    "from neteval.network_statistics import NetworkStats, load_network_names\n",
    "from neteval.gene_set_recovery_results import *\n",
    "from neteval.network_constructor import *"
   ]
  },
  {
   "cell_type": "code",
   "execution_count": 2,
   "metadata": {
    "ExecuteTime": {
     "end_time": "2024-09-18T21:39:36.843606Z",
     "start_time": "2024-09-18T21:39:36.839850Z"
    }
   },
   "outputs": [],
   "source": [
    "plt.rcParams['svg.fonttype'] = 'none'\n",
    "plt.rcParams.update({'font.size': 7})\n",
    "plt.rcParams['axes.linewidth'] = 0.5\n",
    "plt.rcParams['hatch.linewidth'] = 0.5\n",
    "plt.rcParams['xtick.major.width'] = 0.4\n",
    "plt.rcParams['ytick.major.width'] = 0.4\n",
    "plt.rcParams['xtick.minor.width'] = 0.3\n",
    "plt.rcParams['ytick.minor.width'] = 0.3\n",
    "plt.rcParams['legend.frameon'] = False\n",
    "plt.rcParams['xtick.major.size'] = 3\n",
    "plt.rcParams['ytick.major.size'] = 3\n",
    "plt.rcParams['xtick.minor.size'] = 2\n",
    "plt.rcParams['ytick.minor.size'] = 2\n",
    "plt.rcParams['xtick.major.pad'] = 1\n",
    "plt.rcParams['ytick.major.pad'] = 1\n",
    "plt.rcParams['axes.labelpad'] = 1\n",
    "plt.rcParams['patch.linewidth'] = 0.25"
   ]
  },
  {
   "cell_type": "code",
   "execution_count": 3,
   "metadata": {
    "ExecuteTime": {
     "end_time": "2024-09-18T21:39:36.930288Z",
     "start_time": "2024-09-18T21:39:36.844447Z"
    }
   },
   "outputs": [],
   "source": [
    "gitdir = os.path.dirname(os.getcwd())\n",
    "figdir = os.path.join(gitdir, 'StateOfTheInteractomes_Notebooks/Figures/')\n",
    "evaldir = os.path.join(gitdir, 'Data/example_outputs/')\n",
    "datadir = os.path.join(gitdir, 'Data/')\n",
    "network_names = load_network_names(os.path.join(gitdir, 'StateOfTheInteractomes_Notebooks/Data/network_names_final.txt'))\n",
    "genesets = [ 'gwas', 'disgen', 'gwas_230727', 'exp_genesets']\n",
    "geneset_names = {'gwas' : 'Genetic', \n",
    "                'disgen':'Literature',\n",
    "                'gwas_230727':'Genetic 2023+',\n",
    "                'exp_genesets':'Experimental'}"
   ]
  },
  {
   "cell_type": "markdown",
   "metadata": {},
   "source": [
    "## Example Analysis\n",
    "\n",
    "Composites formed from DIP, PID2 and Wan only. "
   ]
  },
  {
   "cell_type": "code",
   "execution_count": 4,
   "metadata": {
    "ExecuteTime": {
     "end_time": "2024-09-18T21:48:41.790830Z",
     "start_time": "2024-09-18T21:48:41.789180Z"
    }
   },
   "outputs": [],
   "source": [
    "example_pref_file = os.path.join(gitdir, \"Data/example_prefix_file.txt\")"
   ]
  },
  {
   "cell_type": "code",
   "execution_count": 5,
   "metadata": {
    "ExecuteTime": {
     "end_time": "2024-09-18T21:48:43.116677Z",
     "start_time": "2024-09-18T21:48:43.114780Z"
    }
   },
   "outputs": [],
   "source": [
    "node_f, edge_f, nets = get_node_edge_files(evaldir, example_pref_file)"
   ]
  },
  {
   "cell_type": "markdown",
   "metadata": {},
   "source": [
    "### Create Global Composites\n",
    "\n",
    "Parameters:\n",
    "* `k` is the number of networks an edge must be in to be included in the composite"
   ]
  },
  {
   "cell_type": "code",
   "execution_count": 6,
   "metadata": {
    "ExecuteTime": {
     "end_time": "2024-09-18T21:49:37.063112Z",
     "start_time": "2024-09-18T21:49:35.163192Z"
    }
   },
   "outputs": [
    {
     "name": "stdout",
     "output_type": "stream",
     "text": [
      "dip\n",
      "dip finished.\n",
      "pid2\n",
      "pid2 finished.\n",
      "wan\n",
      "wan finished.\n",
      "Creating network subset: 1\n",
      "Creating network subset: 2\n",
      "Creating network subset: 3\n"
     ]
    }
   ],
   "source": [
    "n_dict, e_dict, data_dict = get_unique_nodes_edges(node_f, edge_f, node_pref='Entrez_')\n",
    "for k in [1,2,3]:\n",
    "    create_network_subset(e_dict, data_dict, os.path.join(evaldir, 'Composites'), min_dbs=k, node_pref='Entrez_', name='Global')"
   ]
  },
  {
   "cell_type": "markdown",
   "metadata": {},
   "source": [
    "### Create Ranked Composites\n",
    "\n",
    "Parameters:\n",
    "* `k` - The number of top ranked networks considered\n",
    "* `m` - The minimum number of supporting networks for an edge to be in the composite network\n",
    "\n",
    "Rankings of networks are determined by the prefix file. Therefore, the prefix file should be sorted based on performance rank before creating ranked prefixes. "
   ]
  },
  {
   "cell_type": "code",
   "execution_count": 7,
   "metadata": {
    "ExecuteTime": {
     "end_time": "2024-09-18T21:50:42.925002Z",
     "start_time": "2024-09-18T21:50:42.923279Z"
    }
   },
   "outputs": [],
   "source": [
    "rank_order = ['dip', 'wan', 'pid1']"
   ]
  },
  {
   "cell_type": "code",
   "execution_count": 8,
   "metadata": {
    "ExecuteTime": {
     "end_time": "2024-09-18T22:19:27.772250Z",
     "start_time": "2024-09-18T22:19:23.426985Z"
    }
   },
   "outputs": [
    {
     "name": "stdout",
     "output_type": "stream",
     "text": [
      "Creating network subset: 1\n",
      "Creating network subset: 1\n",
      "Creating network subset: 1\n",
      "dip\n",
      "dip finished.\n",
      "Creating network subset: 2\n",
      "Creating network subset: 2\n",
      "dip\n",
      "dip finished.\n",
      "pid2\n",
      "pid2 finished.\n",
      "Creating network subset: 3\n"
     ]
    }
   ],
   "source": [
    "k_list=[1,2,3]\n",
    "m_list=[1,2,3]\n",
    "\n",
    "\n",
    "for m in m_list:\n",
    "    n_dict = defaultdict(int)\n",
    "    e_dict = defaultdict(int)\n",
    "    data_dict = defaultdict(list)\n",
    "    n_dict, e_dict, data_dict = get_unique_nodes_edges({net:node_f[net] for net in nets[:(m-1)]}, {net:edge_f[net] for net in nets[:(m-1)]}, node_pref='Entrez_')\n",
    "    for k in k_list:\n",
    "        if k < m:\n",
    "            pass\n",
    "        else:\n",
    "            n_dict, e_dict, data_dict = parse_file_network(node_f[nets[k-1]], edge_f[nets[k-1]], n_dict, e_dict, data_dict, nets[k-1], 'Entrez_')\n",
    "            create_network_subset(e_dict, data_dict, os.path.join(evaldir, 'Composites'), min_dbs=m, node_pref='Entrez', name='Ranked_'+str(k))"
   ]
  },
  {
   "cell_type": "markdown",
   "metadata": {
    "ExecuteTime": {
     "end_time": "2024-09-18T22:26:07.353495Z",
     "start_time": "2024-09-18T22:26:07.352071Z"
    }
   },
   "source": [
    "### Load the composite network stats"
   ]
  },
  {
   "cell_type": "code",
   "execution_count": 9,
   "metadata": {
    "ExecuteTime": {
     "end_time": "2024-09-18T22:24:41.287610Z",
     "start_time": "2024-09-18T22:24:41.273947Z"
    }
   },
   "outputs": [],
   "source": [
    "composite_prefs = [f'Global_composite_min{k}' for k in [1,2,3]] + [f'Ranked_{k}_composite_min{m}' for k,m in [(1,1), (2,2), (3,3), (2,1), (3,1), (3,2)]]\n",
    "with open(os.path.join(evaldir, 'composite_prefixes.txt'), 'w') as f:\n",
    "    f.writelines('\\n'.join(composite_prefs)+'\\n')"
   ]
  },
  {
   "cell_type": "code",
   "execution_count": 10,
   "metadata": {
    "ExecuteTime": {
     "end_time": "2024-09-18T22:24:43.715663Z",
     "start_time": "2024-09-18T22:24:43.680514Z"
    }
   },
   "outputs": [],
   "source": [
    "example_stats = NetworkStats(os.path.join(evaldir, 'composite_prefixes.txt'), os.path.join(evaldir, 'Composites'))"
   ]
  },
  {
   "cell_type": "code",
   "execution_count": 11,
   "metadata": {
    "ExecuteTime": {
     "end_time": "2024-09-18T22:24:44.581896Z",
     "start_time": "2024-09-18T22:24:44.579317Z"
    }
   },
   "outputs": [],
   "source": [
    "example_df = pd.DataFrame({'Gene Count': example_stats.network_node_counts, \n",
    "                           'Interaction Count': example_stats.network_edge_counts})\n",
    "example_df['prefix'] = example_df.index.values\n",
    "example_df['Min Supporting networks'] = example_df.prefix.apply(lambda x: int(x.split('min')[-1]))\n",
    "example_df['CompositeType'] = example_df.prefix.apply(lambda x: x.split('_composite')[0])"
   ]
  },
  {
   "cell_type": "markdown",
   "metadata": {
    "ExecuteTime": {
     "end_time": "2024-09-18T22:26:31.460099Z",
     "start_time": "2024-09-18T22:26:31.104526Z"
    }
   },
   "source": [
    "**Global composites**  \n",
    "\n",
    "* Network size decreases as the number of supporting networks required increases."
   ]
  },
  {
   "cell_type": "code",
   "execution_count": 12,
   "metadata": {
    "ExecuteTime": {
     "end_time": "2024-09-18T22:26:31.460099Z",
     "start_time": "2024-09-18T22:26:31.104526Z"
    }
   },
   "outputs": [
    {
     "data": {
      "text/plain": [
       "<AxesSubplot:xlabel='Min Supporting networks', ylabel='Gene Count'>"
      ]
     },
     "execution_count": 12,
     "metadata": {},
     "output_type": "execute_result"
    },
    {
     "data": {
      "image/png": "[encoded data removed]",
      "text/plain": [
       "<Figure size 432x288 with 2 Axes>"
      ]
     },
     "metadata": {
      "needs_background": "light"
     },
     "output_type": "display_data"
    }
   ],
   "source": [
    "_, [ax1, ax2] = plt.subplots(nrows=2, ncols=1)\n",
    "sns.barplot(example_df[example_df.CompositeType=='Global'], x='Min Supporting networks', y='Interaction Count', ax=ax1)\n",
    "ax1.set_yscale('log')\n",
    "sns.barplot(example_df[example_df.CompositeType=='Global'], x='Min Supporting networks', y='Gene Count', ax=ax2)"
   ]
  },
  {
   "cell_type": "markdown",
   "metadata": {
    "ExecuteTime": {
     "end_time": "2024-09-18T22:26:40.928639Z",
     "start_time": "2024-09-18T22:26:40.423789Z"
    }
   },
   "source": [
    "**Ranked Composites**  \n",
    "\n",
    "* Network size decreases as the number of supporting networks required increases\n",
    "* Network size increases as the number of top ranked networks considered increases\n",
    "\n",
    "The network with m=1, k=1 (shown in light blue) corresponds to all interactions in the 1 top ranked network, therefore this is equivalent to the full dip network. \n",
    "\n",
    "Any networks that consider all 3 networks (shown in pink) are equivalent to the 'Global' composites."
   ]
  },
  {
   "cell_type": "code",
   "execution_count": 13,
   "metadata": {
    "ExecuteTime": {
     "end_time": "2024-09-18T22:26:40.928639Z",
     "start_time": "2024-09-18T22:26:40.423789Z"
    }
   },
   "outputs": [
    {
     "data": {
      "text/plain": [
       "<AxesSubplot:xlabel='Min Supporting networks', ylabel='Gene Count'>"
      ]
     },
     "execution_count": 13,
     "metadata": {},
     "output_type": "execute_result"
    },
    {
     "data": {
      "image/png": "[encoded data removed]",
      "text/plain": [
       "<Figure size 432x288 with 2 Axes>"
      ]
     },
     "metadata": {
      "needs_background": "light"
     },
     "output_type": "display_data"
    }
   ],
   "source": [
    "_, [ax1, ax2] = plt.subplots(nrows=2, ncols=1)\n",
    "sns.barplot(example_df[example_df.CompositeType!='Global'], x='Min Supporting networks', y='Interaction Count', hue='CompositeType', ax=ax1, palette=['lightblue', 'darkslateblue', 'lightcoral'])\n",
    "ax1.set_yscale('log')\n",
    "sns.barplot(example_df[example_df.CompositeType!='Global'], x='Min Supporting networks', y='Gene Count', hue='CompositeType', palette=['lightblue', 'darkslateblue', 'lightcoral'], ax=ax2)"
   ]
  },
  {
   "cell_type": "markdown",
   "metadata": {},
   "source": [
    "## Fig 4B - performance of series of global and ranked composite networks"
   ]
  },
  {
   "cell_type": "code",
   "execution_count": 14,
   "metadata": {
    "ExecuteTime": {
     "end_time": "2024-09-18T21:39:38.226845Z",
     "start_time": "2024-09-18T21:39:37.553002Z"
    }
   },
   "outputs": [],
   "source": [
    "# Load the precomputed results\n",
    "performance_df = pd.read_csv(os.path.join(gitdir, 'StateOfTheInteractomes_Notebooks/Data/Fig4B_performance_results.csv'))"
   ]
  },
  {
   "cell_type": "code",
   "execution_count": 15,
   "metadata": {
    "ExecuteTime": {
     "end_time": "2024-09-18T21:39:38.235674Z",
     "start_time": "2024-09-18T21:39:38.227801Z"
    }
   },
   "outputs": [],
   "source": [
    "# Identify the constructed composites from the comparison networks\n",
    "comparison_results = performance_df[performance_df['Comparator']]\n",
    "performance_df = performance_df[~performance_df['Comparator']]"
   ]
  },
  {
   "cell_type": "markdown",
   "metadata": {},
   "source": [
    "**Genetic and Literature Gene Set Recovery Performance**"
   ]
  },
  {
   "cell_type": "code",
   "execution_count": 16,
   "metadata": {
    "ExecuteTime": {
     "end_time": "2024-09-18T22:32:34.167050Z",
     "start_time": "2024-09-18T22:32:27.377947Z"
    }
   },
   "outputs": [
    {
     "data": {
      "image/png": "[encoded data removed]",
      "text/plain": [
       "<Figure size 158.4x288 with 4 Axes>"
      ]
     },
     "metadata": {
      "needs_background": "light"
     },
     "output_type": "display_data"
    }
   ],
   "source": [
    "genesets = ['Literature', 'Genetic', 'Genetic 2023+', 'Experimental']\n",
    "_, [[ax3, ax3a], [ax5, ax5a]] = plt.subplots(nrows=2, ncols=2, figsize=(2.2, 4), \n",
    "                gridspec_kw={'wspace':0, 'hspace':0.5, 'width_ratios':[1, 0.3]}, sharey='row', sharex='col')\n",
    "\n",
    "\n",
    "for i, ax in enumerate([ax3, ax5]):\n",
    "    # plot the comparison networks\n",
    "    a = comparison_results[comparison_results['GeneSet']==genesets[i]].pivot(index='index', columns='Network', values='Performance')\n",
    "    sns.barplot(a, estimator='median', ax=[ax3a, ax5a][i],errorbar=('ci', 95),err_kws={'linewidth': 0.25, 'color':'grey'}, capsize=0.4, linewidth=0.5, width=0.6, \n",
    "                palette=['#444444', '#d1a786','#a3acd8', '#0e588b'], fill=True, saturation=1)#edgecolor='k\n",
    "    # Plot the Global composite networks\n",
    "    sns.lineplot(data=performance_df[(performance_df.method=='PC') & (performance_df.GeneSet==genesets[i])], x='min_nets', y='Performance', hue='method',linewidth=0.5, ax=ax, err_style='bars', err_kws={'linewidth':0.5}, estimator='median')\n",
    "    # Plot the ranked composite networks\n",
    "    if 'OC' in performance_df.method.unique():\n",
    "        sns.lineplot(data=performance_df[(performance_df.method=='OC') & (performance_df.GeneSet==genesets[i])], x='num_nets', y='Performance', hue='min_nets', ax=ax, err_style='bars', \n",
    "                    hue_order=[2,3], palette = [ 'darkslateblue', 'lightcoral'], linewidth=0.5, err_kws={'linewidth':0.25}, estimator='median')\n",
    "    ax.set_title(genesets[i])\n",
    "    _ = ax.set_xticks([2, 10,20,30,40])\n",
    "    _ = ax.set_xticks([5, 15,25,35], minor=True)\n",
    "    ax.set_xlim(2, 45)\n",
    "    \n",
    "    [ax3a, ax5a][i].tick_params(axis='x', rotation=90)\n",
    "ax3.set_xlabel('')\n",
    "ax3a.set_xlabel('')\n",
    "plt.savefig(figdir+'4B_composite_performance_1.jpg', dpi=300, bbox_inches='tight')"
   ]
  },
  {
   "cell_type": "markdown",
   "metadata": {},
   "source": [
    "**Genetic 2023+ and Experimental Gene Set Recovery Performance**"
   ]
  },
  {
   "cell_type": "code",
   "execution_count": 17,
   "metadata": {
    "ExecuteTime": {
     "end_time": "2024-09-18T22:34:16.547369Z",
     "start_time": "2024-09-18T22:34:11.351548Z"
    }
   },
   "outputs": [
    {
     "data": {
      "image/png": "[encoded data removed]",
      "text/plain": [
       "<Figure size 158.4x288 with 4 Axes>"
      ]
     },
     "metadata": {
      "needs_background": "light"
     },
     "output_type": "display_data"
    }
   ],
   "source": [
    "genesets = ['Literature', 'Genetic', 'Genetic 2023+', 'Experimental']\n",
    "_, [[ax3, ax3a], [ax5, ax5a]] = plt.subplots(nrows=2, ncols=2, figsize=(2.2, 4), \n",
    "                gridspec_kw={'wspace':0, 'hspace':0.5, 'width_ratios':[1, 0.3]}, sharey='row', sharex='col')\n",
    "\n",
    "\n",
    "for j, ax in enumerate([ax3, ax5]):\n",
    "    i=j+2\n",
    "    # Plot the comparison networks\n",
    "    a = comparison_results[comparison_results['GeneSet']==genesets[i]].pivot(index='index', columns='Network', values='Performance')\n",
    "    sns.barplot(a, estimator='median', ax=[ax3a, ax5a][j],errorbar=('ci', 95),err_kws={'linewidth': 0.25, 'color':'grey'}, capsize=0.4, linewidth=0.5, width=0.6, \n",
    "                palette=['#444444', '#d1a786','#a3acd8', '#0e588b'], fill=True, saturation=1)#edgecolor='k\n",
    "    # Plot the 'Global' composites\n",
    "    sns.lineplot(data=performance_df[(performance_df.method=='PC') & (performance_df.GeneSet==genesets[i])], x='min_nets', y='Performance', hue='method',linewidth=0.5, ax=ax, err_style='bars', err_kws={'linewidth':0.5}, estimator='median')\n",
    "    # Plot the 'Ranked' composites\n",
    "    if 'OC' in performance_df.method.unique():\n",
    "        sns.lineplot(data=performance_df[(performance_df.method=='OC') & (performance_df.GeneSet==genesets[i])], x='num_nets', y='Performance', hue='min_nets', ax=ax, err_style='bars', \n",
    "                    hue_order=[2,3], palette = [ 'darkslateblue', 'lightcoral'], linewidth=0.5, err_kws={'linewidth':0.25}, estimator='median')\n",
    "    ax.set_title(genesets[i].split('_a64_')[0])\n",
    "    _ = ax.set_xticks([2, 10,20,30,40])\n",
    "    _ = ax.set_xticks([5, 15,25,35], minor=True)\n",
    "    ax.set_xlim(2, 45)\n",
    "    \n",
    "    [ax3a, ax5a][j].tick_params(axis='x', rotation=90)\n",
    "ax3.set_xlabel('')\n",
    "ax3a.set_xlabel('')\n",
    "plt.savefig(figdir+'4B_composite_performance_2.jpg', dpi=300, bbox_inches='tight')"
   ]
  },
  {
   "cell_type": "markdown",
   "metadata": {},
   "source": [
    "## Fig 4C - Performance of citation free ranked composite networks"
   ]
  },
  {
   "cell_type": "code",
   "execution_count": 18,
   "metadata": {
    "ExecuteTime": {
     "end_time": "2024-09-18T22:35:28.679510Z",
     "start_time": "2024-09-18T22:35:28.584395Z"
    }
   },
   "outputs": [],
   "source": [
    "nocite_df = pd.read_csv(os.path.join(gitdir, 'StateOfTheInteractomes_Notebooks/Data/Fig4C_performance_results.csv'))"
   ]
  },
  {
   "cell_type": "code",
   "execution_count": 19,
   "metadata": {
    "ExecuteTime": {
     "end_time": "2024-09-18T22:35:29.111267Z",
     "start_time": "2024-09-18T22:35:29.106697Z"
    }
   },
   "outputs": [],
   "source": [
    "nc_comparison_results = nocite_df[nocite_df['Comparator']]\n",
    "nc_performance_df = nocite_df[~nocite_df['Comparator']]"
   ]
  },
  {
   "cell_type": "code",
   "execution_count": 20,
   "metadata": {
    "ExecuteTime": {
     "end_time": "2024-09-18T22:36:04.373548Z",
     "start_time": "2024-09-18T22:35:59.141748Z"
    }
   },
   "outputs": [
    {
     "data": {
      "image/png": "[encoded data removed]",
      "text/plain": [
       "<Figure size 201.6x288 with 8 Axes>"
      ]
     },
     "metadata": {
      "needs_background": "light"
     },
     "output_type": "display_data"
    }
   ],
   "source": [
    "_, [[ax1, ax2], [ax3, ax4], [ax5, ax6], [ax7, ax8]] = plt.subplots(nrows=4, ncols=2, figsize=(2.8,4),\n",
    "                                        gridspec_kw={'wspace':0, 'hspace':0.5, 'width_ratios':[1, 0.4]}, sharey='row', sharex='col')\n",
    "for j, ax in enumerate([ax1, ax3, ax5, ax7]):\n",
    "    i=j\n",
    "    # Plot the comparison networks\n",
    "    a = nc_comparison_results[nc_comparison_results['GeneSet']==genesets[i]].pivot(index='index', columns='Network', values='Performance')\n",
    "    sns.barplot(a, estimator='median', ax=[ax2,ax4, ax6, ax8][j],errorbar=('ci', 95),err_kws={'linewidth': 0.25, 'color':'grey'}, capsize=0.4,  linewidth=0.25, width=0.6, \n",
    "                    palette=['darkslateblue', 'darkslateblue','#d1a786', '#d1a786','#a3acd8', '#a3acd8'], fill=True, saturation=1)\n",
    "    \n",
    "    gs = genesets[i]\n",
    "    #Plot the 'Ranked' composite networks\n",
    "    sns.lineplot(data=nc_performance_df[nc_performance_df.GeneSet==gs], x='num_nets', y='Performance', hue='min_nets', ax=ax, err_style='bars', \n",
    "            hue_order=[2], palette = [ 'mediumseagreen'], linewidth=0.75, err_kws={'linewidth':0.25}, estimator='median')\n",
    "    ax.set_title(gs.split('_a64_')[0])\n",
    "    [ax2, ax4, ax6, ax8][j].tick_params(axis='x', rotation=90)\n",
    "    ax.set_title(gs.split('_a64_')[0])\n",
    "    _ = ax.set_xticks([2, 10,20,28])\n",
    "    _ = ax.set_xticks([5, 15,25,28], minor=True)\n",
    "    ax.set_xlim(2, 30)\n",
    "\n",
    "ax1.set_yticks([0,30,60])\n",
    "ax3.set_yticks([0,20,40])\n",
    "ax5.set_yticks([0,15,30])\n",
    "ax7.set_yticks([0,300,600])\n",
    "\n",
    "plt.savefig(figdir+'4C_citation_free_performance.jpg', dpi=300, bbox_inches='tight')"
   ]
  },
  {
   "cell_type": "markdown",
   "metadata": {},
   "source": [
    "## Fig 4D - Sizes of composite networks"
   ]
  },
  {
   "cell_type": "code",
   "execution_count": 21,
   "metadata": {
    "ExecuteTime": {
     "end_time": "2024-09-18T21:39:56.315853Z",
     "start_time": "2024-09-18T21:39:56.243632Z"
    }
   },
   "outputs": [],
   "source": [
    "sizes_df = pd.read_csv(os.path.join(gitdir, 'StateOfTheInteractomes_Notebooks/Data/Fig4D_network_sizes.csv'), index_col=0)\n",
    "sizes_df['Network'] = sizes_df.index"
   ]
  },
  {
   "cell_type": "code",
   "execution_count": 22,
   "metadata": {
    "ExecuteTime": {
     "end_time": "2024-09-18T22:36:37.265563Z",
     "start_time": "2024-09-18T22:36:36.296746Z"
    }
   },
   "outputs": [
    {
     "data": {
      "image/png": "[encoded data removed]",
      "text/plain": [
       "<Figure size 158.4x360 with 4 Axes>"
      ]
     },
     "metadata": {
      "needs_background": "light"
     },
     "output_type": "display_data"
    }
   ],
   "source": [
    "_, [[ ax2, ax2a], [ax4, ax4a]] = plt.subplots(nrows=2, ncols=2,figsize=(2.2, 5), \n",
    "        gridspec_kw={'wspace':0, 'hspace':0.5, 'width_ratios':[1, 0.3]}, sharey='row', sharex='col')\n",
    "\n",
    "for i, metric in enumerate(['Node', 'Edge']):\n",
    "    # Plot the lines\n",
    "    sns.lineplot(data=sizes_df[(sizes_df.method=='OC') & (sizes_df.min_nets==2) & (sizes_df.Group=='NOCITE')],ax=[ax2, ax4][i], y=metric, x='num_nets', linewidth=0.25, color='mediumseagreen')\n",
    "    sns.lineplot(data =sizes_df[(sizes_df.method=='PC')& (sizes_df.Group=='ALL')], x='min_nets', y=metric, hue='method', ax=[ax2, ax4][i] , linewidth=0.25)\n",
    "    sns.lineplot(data =sizes_df[(sizes_df.method=='OC') & (sizes_df.min_nets>1)& (sizes_df.Group=='ALL')], x='num_nets', y=metric, hue='min_nets', ax=[ax2, ax4][i], hue_order=[2,3], \n",
    "                palette = [ 'darkslateblue', 'lightcoral'], linewidth=0.25)\n",
    "    #Plot the points\n",
    "    sns.scatterplot(data=sizes_df[(sizes_df.method=='OC') & (sizes_df.min_nets==2) & (sizes_df.Group=='NOCITE')],ax=[ax2, ax4][i], y=metric, x='num_nets', s=3, color='mediumseagreen', edgecolor=None)\n",
    "    sns.scatterplot(data =sizes_df[(sizes_df.method=='PC')& (sizes_df.Group=='ALL')], x='min_nets', y=metric, hue='method', ax=[ax2, ax4][i], s=3, edgecolor=None)\n",
    "    sns.scatterplot(data =sizes_df[(sizes_df.method=='OC') & (sizes_df.min_nets>1)& (sizes_df.Group=='ALL')], x='num_nets', y=metric, hue='min_nets', ax=[ax2, ax4][i], s=3, hue_order=[2,3], \n",
    "                palette = [ 'darkslateblue', 'lightcoral'], edgecolor=None)\n",
    "\n",
    "    # Plot the comparison networks\n",
    "    sns.barplot(sizes_df[sizes_df['Comparator']].loc[:, (metric, 'Network')], x = 'Network', y=metric, hue='Network', ax= [ax2a, ax4a][i],linewidth=0.25, width=0.6, \n",
    "                palette=['#444444', '#d1a786','#a3acd8', '#0e588b'], fill=True, saturation=1)\n",
    "\n",
    "ax4a.tick_params(axis='x', rotation=90)\n",
    "plt.savefig(figdir+'4D_network_sizes.jpg', dpi=300, bbox_inches='tight')"
   ]
  }
 ],
 "metadata": {
  "kernelspec": {
   "display_name": "Python [conda env:pcnet_py3]",
   "language": "python",
   "name": "conda-env-pcnet_py3-py"
  },
  "language_info": {
   "codemirror_mode": {
    "name": "ipython",
    "version": 3
   },
   "file_extension": ".py",
   "mimetype": "text/x-python",
   "name": "python",
   "nbconvert_exporter": "python",
   "pygments_lexer": "ipython3",
   "version": "3.10.0"
  },
  "toc": {
   "base_numbering": 1,
   "nav_menu": {},
   "number_sections": true,
   "sideBar": true,
   "skip_h1_title": false,
   "title_cell": "Table of Contents",
   "title_sidebar": "Contents",
   "toc_cell": false,
   "toc_position": {},
   "toc_section_display": true,
   "toc_window_display": true
  },
  "varInspector": {
   "cols": {
    "lenName": 16,
    "lenType": 16,
    "lenVar": 40
   },
   "kernels_config": {
    "python": {
     "delete_cmd_postfix": "",
     "delete_cmd_prefix": "del ",
     "library": "var_list.py",
     "varRefreshCmd": "print(var_dic_list())"
    },
    "r": {
     "delete_cmd_postfix": ") ",
     "delete_cmd_prefix": "rm(",
     "library": "var_list.r",
     "varRefreshCmd": "cat(var_dic_list()) "
    }
   },
   "types_to_exclude": [
    "module",
    "function",
    "builtin_function_or_method",
    "instance",
    "_Feature"
   ],
   "window_display": false
  }
 },
 "nbformat": 4,
 "nbformat_minor": 4
}
