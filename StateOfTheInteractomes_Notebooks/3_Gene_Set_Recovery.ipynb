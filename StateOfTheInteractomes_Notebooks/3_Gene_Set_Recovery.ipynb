{
 "cells": [
  {
   "cell_type": "markdown",
   "metadata": {},
   "source": [
    "# Gene Set Recovery Results\n",
    "\n",
    "*State of the Interactomes: an evaluation of molecular networks for generating biological insights.* Wright, SN et al. [https://doi.org/10.1101/2024.04.26.587073]  \n",
    "This notebook contains code and results related to:\n",
    "* Figure 3B-D\n",
    "* Figure EV3A-E\n",
    "\n",
    "**Note: due to the size of network data sets utilized in this study, this notebook draws on summarized results rather than re-evaluating all networks directly.**\n",
    "\n",
    "For implementation of the gene set recovery pipeline, see `ExampleUsage/GSR_GeneSetRecovery.README.md`"
   ]
  },
  {
   "cell_type": "markdown",
   "metadata": {},
   "source": [
    "## Setup"
   ]
  },
  {
   "cell_type": "code",
   "execution_count": 1,
   "metadata": {
    "ExecuteTime": {
     "end_time": "2024-11-03T22:40:51.567081Z",
     "start_time": "2024-11-03T22:40:48.865478Z"
    }
   },
   "outputs": [],
   "source": [
    "import os\n",
    "import pandas as pd\n",
    "import matplotlib.pyplot as plt\n",
    "import numpy as np\n",
    "import seaborn as sns\n",
    "from neteval.network_statistics import NetworkStats, load_network_names\n",
    "from neteval.data_import_export_tools import load_node_sets\n",
    "from neteval.gene_set_recovery_results import *\n",
    "from statsmodels.stats.multitest import fdrcorrection\n",
    "from neteval.network_statistics import NetworkStats, load_network_names\n",
    "from scipy.stats import spearmanr, skewtest, wilcoxon\n",
    "import scipy.stats as stats\n",
    "from statsmodels.stats.descriptivestats import sign_test\n",
    "import warnings"
   ]
  },
  {
   "cell_type": "code",
   "execution_count": 2,
   "metadata": {
    "ExecuteTime": {
     "end_time": "2024-11-03T22:40:51.571808Z",
     "start_time": "2024-11-03T22:40:51.568312Z"
    }
   },
   "outputs": [],
   "source": [
    "\n",
    "plt.rcParams['svg.fonttype'] = 'none'\n",
    "plt.rcParams.update({'font.size': 7})\n",
    "plt.rcParams['axes.linewidth'] = 0.5\n",
    "plt.rcParams['svg.fonttype'] = 'none'\n",
    "plt.rcParams.update({'font.size': 7})\n",
    "plt.rcParams['axes.linewidth'] = 0.5\n",
    "plt.rcParams['hatch.linewidth'] = 0.5\n",
    "plt.rcParams['xtick.major.width'] = 0.4\n",
    "plt.rcParams['ytick.major.width'] = 0.4\n",
    "plt.rcParams['xtick.minor.width'] = 0.3\n",
    "plt.rcParams['ytick.minor.width'] = 0.3\n",
    "plt.rcParams['legend.frameon'] = False\n",
    "plt.rcParams['xtick.major.size'] = 3\n",
    "plt.rcParams['ytick.major.size'] = 3\n",
    "plt.rcParams['xtick.minor.size'] = 2\n",
    "plt.rcParams['ytick.minor.size'] = 2\n",
    "plt.rcParams['xtick.major.pad'] = 1\n",
    "plt.rcParams['ytick.major.pad'] = 1\n",
    "plt.rcParams['axes.labelpad'] = 1\n",
    "plt.rcParams['patch.linewidth'] = 0.25"
   ]
  },
  {
   "cell_type": "code",
   "execution_count": 3,
   "metadata": {
    "ExecuteTime": {
     "end_time": "2024-11-03T22:40:51.579680Z",
     "start_time": "2024-11-03T22:40:51.572641Z"
    }
   },
   "outputs": [],
   "source": [
    "gitdir = os.path.dirname(os.getcwd())\n",
    "figdir = os.path.join(gitdir, 'StateOfTheInteractomes_Notebooks/Figures/')\n",
    "evaldir = os.path.join(gitdir, 'Data/example_outputs/GeneSetRecovery/')\n",
    "datadir = os.path.join(gitdir, 'Data/')\n",
    "network_names = load_network_names(os.path.join(gitdir, 'StateOfTheInteractomes_Notebooks/Data/network_names_final.txt'))\n",
    "genesets = [ 'gwas', 'disgen', 'gwas_230727', 'exp_genesets']\n",
    "geneset_names = {'gwas' : 'Genetic', \n",
    "                'disgen':'Literature',\n",
    "                'gwas_230727':'Genetic 2023+',\n",
    "                'exp_genesets':'Experimental'}"
   ]
  },
  {
   "cell_type": "markdown",
   "metadata": {},
   "source": [
    "## Example Analysis"
   ]
  },
  {
   "cell_type": "markdown",
   "metadata": {},
   "source": [
    "Load the network statistics and file paths for the three example networks"
   ]
  },
  {
   "cell_type": "code",
   "execution_count": 4,
   "metadata": {
    "ExecuteTime": {
     "end_time": "2024-11-03T22:40:51.584434Z",
     "start_time": "2024-11-03T22:40:51.581014Z"
    }
   },
   "outputs": [],
   "source": [
    "pref_file = os.path.join(datadir, 'example_prefix_file.txt')"
   ]
  },
  {
   "cell_type": "code",
   "execution_count": 5,
   "metadata": {
    "ExecuteTime": {
     "end_time": "2024-11-03T22:40:51.601412Z",
     "start_time": "2024-11-03T22:40:51.585186Z"
    }
   },
   "outputs": [],
   "source": [
    "with open(pref_file, 'r') as f:\n",
    "    prefixes = [pref.strip() for pref in f.readlines()]\n",
    "    \n",
    "stats = NetworkStats(pref_file, datadir=os.path.join(datadir, 'example_outputs/'))\n",
    "example_network_names = load_network_names(os.path.join(gitdir,\"Data/example_network_names.txt\"))"
   ]
  },
  {
   "cell_type": "markdown",
   "metadata": {},
   "source": [
    "Load the gene set recovery results"
   ]
  },
  {
   "cell_type": "code",
   "execution_count": 6,
   "metadata": {
    "ExecuteTime": {
     "end_time": "2024-11-03T22:40:51.670200Z",
     "start_time": "2024-11-03T22:40:51.602241Z"
    }
   },
   "outputs": [],
   "source": [
    "gsr_results = EvaluationResults(evaldir, prefixes, genesets = genesets, metrics = ['AUPRC', 'Performance', 'Gain'], verbose=True)\n",
    "gsr_results.set_network_names(example_network_names)"
   ]
  },
  {
   "cell_type": "markdown",
   "metadata": {},
   "source": [
    "For the Genetic 2023+ gene sets, keep only those after the cutoff date"
   ]
  },
  {
   "cell_type": "code",
   "execution_count": 7,
   "metadata": {
    "ExecuteTime": {
     "end_time": "2024-11-03T22:40:51.673955Z",
     "start_time": "2024-11-03T22:40:51.671160Z"
    }
   },
   "outputs": [],
   "source": [
    "# for the Gnetkeep only the gwsa that are after the cutoff date\n",
    "drop_from_recent_gwas = [g for g in gsr_results.results['Performance']['gwas_230727'].index if '2023-07' not in g]\n",
    "for met in gsr_results.results:\n",
    "    gsr_results.results[met]['gwas_230727'].drop(index=drop_from_recent_gwas, inplace=True)"
   ]
  },
  {
   "cell_type": "markdown",
   "metadata": {},
   "source": [
    "Perform size adjustment of recovery results and then rank all networks.  \n",
    "Note: this is performed for illustrative purposes only. It is recommended that at least 10 networks be evaluated for using size-adjustment to avoid convergence issues. "
   ]
  },
  {
   "cell_type": "code",
   "execution_count": 8,
   "metadata": {
    "ExecuteTime": {
     "end_time": "2024-11-03T22:41:25.885110Z",
     "start_time": "2024-11-03T22:40:51.675534Z"
    }
   },
   "outputs": [],
   "source": [
    "with warnings.catch_warnings():\n",
    "    warnings.simplefilter(\"ignore\")\n",
    "    gsr_results.size_adjusted_performances(sizes=stats.network_edge_counts, na_option='center')\n",
    "    gsr_results.rank_all(na_option='center')"
   ]
  },
  {
   "cell_type": "markdown",
   "metadata": {},
   "source": [
    "Access the performance metrics"
   ]
  },
  {
   "cell_type": "code",
   "execution_count": 9,
   "metadata": {
    "ExecuteTime": {
     "end_time": "2024-11-03T22:41:25.894678Z",
     "start_time": "2024-11-03T22:41:25.886173Z"
    }
   },
   "outputs": [
    {
     "data": {
      "text/html": [
       "<div>\n",
       "<style scoped>\n",
       "    .dataframe tbody tr th:only-of-type {\n",
       "        vertical-align: middle;\n",
       "    }\n",
       "\n",
       "    .dataframe tbody tr th {\n",
       "        vertical-align: top;\n",
       "    }\n",
       "\n",
       "    .dataframe thead th {\n",
       "        text-align: right;\n",
       "    }\n",
       "</style>\n",
       "<table border=\"1\" class=\"dataframe\">\n",
       "  <thead>\n",
       "    <tr style=\"text-align: right;\">\n",
       "      <th></th>\n",
       "      <th>dip</th>\n",
       "      <th>pid2</th>\n",
       "      <th>wan</th>\n",
       "    </tr>\n",
       "  </thead>\n",
       "  <tbody>\n",
       "    <tr>\n",
       "      <th>Gou24_lung</th>\n",
       "      <td>NaN</td>\n",
       "      <td>NaN</td>\n",
       "      <td>0.419803</td>\n",
       "    </tr>\n",
       "    <tr>\n",
       "      <th>Hashimoto24</th>\n",
       "      <td>6.701156</td>\n",
       "      <td>-0.792871</td>\n",
       "      <td>0.330971</td>\n",
       "    </tr>\n",
       "    <tr>\n",
       "      <th>Kumbrink24_1v2</th>\n",
       "      <td>NaN</td>\n",
       "      <td>21.542769</td>\n",
       "      <td>NaN</td>\n",
       "    </tr>\n",
       "    <tr>\n",
       "      <th>Kumbrink24_2v3</th>\n",
       "      <td>167.469451</td>\n",
       "      <td>12.108419</td>\n",
       "      <td>NaN</td>\n",
       "    </tr>\n",
       "    <tr>\n",
       "      <th>Qian24_DEG_PANoptosis</th>\n",
       "      <td>100.953805</td>\n",
       "      <td>NaN</td>\n",
       "      <td>NaN</td>\n",
       "    </tr>\n",
       "    <tr>\n",
       "      <th>Reed24_Catabolic process module</th>\n",
       "      <td>6.007370</td>\n",
       "      <td>1.430714</td>\n",
       "      <td>3.005223</td>\n",
       "    </tr>\n",
       "    <tr>\n",
       "      <th>Reed24_Cell cycle module</th>\n",
       "      <td>20.117417</td>\n",
       "      <td>30.765690</td>\n",
       "      <td>18.245169</td>\n",
       "    </tr>\n",
       "    <tr>\n",
       "      <th>Reed24_Cellular response to stimulus module</th>\n",
       "      <td>18.986215</td>\n",
       "      <td>1.634364</td>\n",
       "      <td>NaN</td>\n",
       "    </tr>\n",
       "    <tr>\n",
       "      <th>Reed24_Endoplasmic reticulum module</th>\n",
       "      <td>33.901985</td>\n",
       "      <td>173.489417</td>\n",
       "      <td>16.313287</td>\n",
       "    </tr>\n",
       "    <tr>\n",
       "      <th>Reed24_Leukocyte module</th>\n",
       "      <td>45.304503</td>\n",
       "      <td>1.000865</td>\n",
       "      <td>53.796605</td>\n",
       "    </tr>\n",
       "    <tr>\n",
       "      <th>Reed24_Neutrophil activation module</th>\n",
       "      <td>31.472511</td>\n",
       "      <td>13.121462</td>\n",
       "      <td>8.539539</td>\n",
       "    </tr>\n",
       "    <tr>\n",
       "      <th>Reed24_Organic acid metabolic process module</th>\n",
       "      <td>7.938628</td>\n",
       "      <td>1.992008</td>\n",
       "      <td>8.789974</td>\n",
       "    </tr>\n",
       "    <tr>\n",
       "      <th>Yu24</th>\n",
       "      <td>NaN</td>\n",
       "      <td>0.695590</td>\n",
       "      <td>NaN</td>\n",
       "    </tr>\n",
       "    <tr>\n",
       "      <th>Zhao24_CAFRGs</th>\n",
       "      <td>-0.811117</td>\n",
       "      <td>0.042416</td>\n",
       "      <td>NaN</td>\n",
       "    </tr>\n",
       "  </tbody>\n",
       "</table>\n",
       "</div>"
      ],
      "text/plain": [
       "                                                     dip        pid2  \\\n",
       "Gou24_lung                                           NaN         NaN   \n",
       "Hashimoto24                                     6.701156   -0.792871   \n",
       "Kumbrink24_1v2                                       NaN   21.542769   \n",
       "Kumbrink24_2v3                                167.469451   12.108419   \n",
       "Qian24_DEG_PANoptosis                         100.953805         NaN   \n",
       "Reed24_Catabolic process module                 6.007370    1.430714   \n",
       "Reed24_Cell cycle module                       20.117417   30.765690   \n",
       "Reed24_Cellular response to stimulus module    18.986215    1.634364   \n",
       "Reed24_Endoplasmic reticulum module            33.901985  173.489417   \n",
       "Reed24_Leukocyte module                        45.304503    1.000865   \n",
       "Reed24_Neutrophil activation module            31.472511   13.121462   \n",
       "Reed24_Organic acid metabolic process module    7.938628    1.992008   \n",
       "Yu24                                                 NaN    0.695590   \n",
       "Zhao24_CAFRGs                                  -0.811117    0.042416   \n",
       "\n",
       "                                                    wan  \n",
       "Gou24_lung                                     0.419803  \n",
       "Hashimoto24                                    0.330971  \n",
       "Kumbrink24_1v2                                      NaN  \n",
       "Kumbrink24_2v3                                      NaN  \n",
       "Qian24_DEG_PANoptosis                               NaN  \n",
       "Reed24_Catabolic process module                3.005223  \n",
       "Reed24_Cell cycle module                      18.245169  \n",
       "Reed24_Cellular response to stimulus module         NaN  \n",
       "Reed24_Endoplasmic reticulum module           16.313287  \n",
       "Reed24_Leukocyte module                       53.796605  \n",
       "Reed24_Neutrophil activation module            8.539539  \n",
       "Reed24_Organic acid metabolic process module   8.789974  \n",
       "Yu24                                                NaN  \n",
       "Zhao24_CAFRGs                                       NaN  "
      ]
     },
     "execution_count": 9,
     "metadata": {},
     "output_type": "execute_result"
    }
   ],
   "source": [
    "gsr_results.results['Performance']['exp_genesets']"
   ]
  },
  {
   "cell_type": "code",
   "execution_count": 10,
   "metadata": {
    "ExecuteTime": {
     "end_time": "2024-11-03T22:41:25.903886Z",
     "start_time": "2024-11-03T22:41:25.896341Z"
    }
   },
   "outputs": [
    {
     "data": {
      "text/html": [
       "<div>\n",
       "<style scoped>\n",
       "    .dataframe tbody tr th:only-of-type {\n",
       "        vertical-align: middle;\n",
       "    }\n",
       "\n",
       "    .dataframe tbody tr th {\n",
       "        vertical-align: top;\n",
       "    }\n",
       "\n",
       "    .dataframe thead th {\n",
       "        text-align: right;\n",
       "    }\n",
       "</style>\n",
       "<table border=\"1\" class=\"dataframe\">\n",
       "  <thead>\n",
       "    <tr style=\"text-align: right;\">\n",
       "      <th></th>\n",
       "      <th>dip</th>\n",
       "      <th>pid2</th>\n",
       "      <th>wan</th>\n",
       "    </tr>\n",
       "  </thead>\n",
       "  <tbody>\n",
       "    <tr>\n",
       "      <th>ACTH-Secreting Pituitary Adenoma</th>\n",
       "      <td>8.267254e-11</td>\n",
       "      <td>-1.287432e-08</td>\n",
       "      <td>NaN</td>\n",
       "    </tr>\n",
       "    <tr>\n",
       "      <th>AICARDI-GOUTIERES SYNDROME</th>\n",
       "      <td>6.063691e-04</td>\n",
       "      <td>1.355613e-03</td>\n",
       "      <td>-9.368479</td>\n",
       "    </tr>\n",
       "    <tr>\n",
       "      <th>AIDS related complex</th>\n",
       "      <td>8.575010e-08</td>\n",
       "      <td>7.185804e-08</td>\n",
       "      <td>NaN</td>\n",
       "    </tr>\n",
       "    <tr>\n",
       "      <th>AMYOTROPHIC LATERAL SCLEROSIS 1</th>\n",
       "      <td>6.899246e-06</td>\n",
       "      <td>6.915787e-06</td>\n",
       "      <td>-1.273928</td>\n",
       "    </tr>\n",
       "    <tr>\n",
       "      <th>ATRICHIA WITH PAPULAR LESIONS</th>\n",
       "      <td>4.113282e-09</td>\n",
       "      <td>1.371571e-08</td>\n",
       "      <td>NaN</td>\n",
       "    </tr>\n",
       "    <tr>\n",
       "      <th>...</th>\n",
       "      <td>...</td>\n",
       "      <td>...</td>\n",
       "      <td>...</td>\n",
       "    </tr>\n",
       "    <tr>\n",
       "      <th>oligodendroglioma</th>\n",
       "      <td>-4.332723e-02</td>\n",
       "      <td>-2.162417e-02</td>\n",
       "      <td>2.075810</td>\n",
       "    </tr>\n",
       "    <tr>\n",
       "      <th>psychological distress</th>\n",
       "      <td>-2.420546e-09</td>\n",
       "      <td>-1.943298e-09</td>\n",
       "      <td>NaN</td>\n",
       "    </tr>\n",
       "    <tr>\n",
       "      <th>stage, non-small cell lung cancer</th>\n",
       "      <td>3.593005e-05</td>\n",
       "      <td>1.688245e-05</td>\n",
       "      <td>-1.847012</td>\n",
       "    </tr>\n",
       "    <tr>\n",
       "      <th>synovial sarcoma</th>\n",
       "      <td>-2.890594e-06</td>\n",
       "      <td>-7.259157e-06</td>\n",
       "      <td>0.920294</td>\n",
       "    </tr>\n",
       "    <tr>\n",
       "      <th>trachomatis</th>\n",
       "      <td>1.140392e-02</td>\n",
       "      <td>1.017660e-02</td>\n",
       "      <td>-7.025031</td>\n",
       "    </tr>\n",
       "  </tbody>\n",
       "</table>\n",
       "<p>869 rows × 3 columns</p>\n",
       "</div>"
      ],
      "text/plain": [
       "                                            dip          pid2       wan\n",
       "ACTH-Secreting Pituitary Adenoma   8.267254e-11 -1.287432e-08       NaN\n",
       "AICARDI-GOUTIERES SYNDROME         6.063691e-04  1.355613e-03 -9.368479\n",
       "AIDS related complex               8.575010e-08  7.185804e-08       NaN\n",
       "AMYOTROPHIC LATERAL SCLEROSIS 1    6.899246e-06  6.915787e-06 -1.273928\n",
       "ATRICHIA WITH PAPULAR LESIONS      4.113282e-09  1.371571e-08       NaN\n",
       "...                                         ...           ...       ...\n",
       "oligodendroglioma                 -4.332723e-02 -2.162417e-02  2.075810\n",
       "psychological distress            -2.420546e-09 -1.943298e-09       NaN\n",
       "stage, non-small cell lung cancer  3.593005e-05  1.688245e-05 -1.847012\n",
       "synovial sarcoma                  -2.890594e-06 -7.259157e-06  0.920294\n",
       "trachomatis                        1.140392e-02  1.017660e-02 -7.025031\n",
       "\n",
       "[869 rows x 3 columns]"
      ]
     },
     "execution_count": 10,
     "metadata": {},
     "output_type": "execute_result"
    }
   ],
   "source": [
    "gsr_results.results['Performance_SzAdj']['disgen']"
   ]
  },
  {
   "cell_type": "markdown",
   "metadata": {},
   "source": [
    "Access the rankings"
   ]
  },
  {
   "cell_type": "code",
   "execution_count": 11,
   "metadata": {
    "ExecuteTime": {
     "end_time": "2024-11-03T22:41:25.915899Z",
     "start_time": "2024-11-03T22:41:25.904732Z"
    }
   },
   "outputs": [
    {
     "data": {
      "text/html": [
       "<div>\n",
       "<style scoped>\n",
       "    .dataframe tbody tr th:only-of-type {\n",
       "        vertical-align: middle;\n",
       "    }\n",
       "\n",
       "    .dataframe tbody tr th {\n",
       "        vertical-align: top;\n",
       "    }\n",
       "\n",
       "    .dataframe thead th {\n",
       "        text-align: right;\n",
       "    }\n",
       "</style>\n",
       "<table border=\"1\" class=\"dataframe\">\n",
       "  <thead>\n",
       "    <tr style=\"text-align: right;\">\n",
       "      <th></th>\n",
       "      <th>AUPRC-gwas</th>\n",
       "      <th>AUPRC-disgen</th>\n",
       "      <th>AUPRC-gwas_230727</th>\n",
       "      <th>AUPRC-exp_genesets</th>\n",
       "      <th>Performance-gwas</th>\n",
       "      <th>Performance-disgen</th>\n",
       "      <th>Performance-gwas_230727</th>\n",
       "      <th>Performance-exp_genesets</th>\n",
       "      <th>Gain-gwas</th>\n",
       "      <th>Gain-disgen</th>\n",
       "      <th>...</th>\n",
       "      <th>AUPRC_SzAdj-gwas_230727</th>\n",
       "      <th>AUPRC_SzAdj-exp_genesets</th>\n",
       "      <th>Performance_SzAdj-gwas</th>\n",
       "      <th>Performance_SzAdj-disgen</th>\n",
       "      <th>Performance_SzAdj-gwas_230727</th>\n",
       "      <th>Performance_SzAdj-exp_genesets</th>\n",
       "      <th>Gain_SzAdj-gwas</th>\n",
       "      <th>Gain_SzAdj-disgen</th>\n",
       "      <th>Gain_SzAdj-gwas_230727</th>\n",
       "      <th>Gain_SzAdj-exp_genesets</th>\n",
       "    </tr>\n",
       "  </thead>\n",
       "  <tbody>\n",
       "    <tr>\n",
       "      <th>dip</th>\n",
       "      <td>0.267327</td>\n",
       "      <td>0.202326</td>\n",
       "      <td>0.078947</td>\n",
       "      <td>-0.227273</td>\n",
       "      <td>-0.435644</td>\n",
       "      <td>-0.684884</td>\n",
       "      <td>-0.631579</td>\n",
       "      <td>-0.318182</td>\n",
       "      <td>-0.396040</td>\n",
       "      <td>-0.683721</td>\n",
       "      <td>...</td>\n",
       "      <td>-0.578947</td>\n",
       "      <td>-0.409091</td>\n",
       "      <td>-0.247525</td>\n",
       "      <td>-0.327907</td>\n",
       "      <td>-0.342105</td>\n",
       "      <td>-0.318182</td>\n",
       "      <td>-0.346535</td>\n",
       "      <td>-0.416279</td>\n",
       "      <td>-0.500000</td>\n",
       "      <td>-0.045455</td>\n",
       "    </tr>\n",
       "    <tr>\n",
       "      <th>pid2</th>\n",
       "      <td>-0.511111</td>\n",
       "      <td>-0.815476</td>\n",
       "      <td>-0.722222</td>\n",
       "      <td>-0.041667</td>\n",
       "      <td>0.300000</td>\n",
       "      <td>0.472619</td>\n",
       "      <td>0.416667</td>\n",
       "      <td>0.208333</td>\n",
       "      <td>0.111111</td>\n",
       "      <td>0.390476</td>\n",
       "      <td>...</td>\n",
       "      <td>-0.111111</td>\n",
       "      <td>-0.041667</td>\n",
       "      <td>-0.066667</td>\n",
       "      <td>-0.084524</td>\n",
       "      <td>-0.194444</td>\n",
       "      <td>0.041667</td>\n",
       "      <td>-0.066667</td>\n",
       "      <td>-0.117857</td>\n",
       "      <td>0.000000</td>\n",
       "      <td>-0.041667</td>\n",
       "    </tr>\n",
       "    <tr>\n",
       "      <th>wan</th>\n",
       "      <td>0.322034</td>\n",
       "      <td>0.754801</td>\n",
       "      <td>0.657143</td>\n",
       "      <td>0.375000</td>\n",
       "      <td>0.288136</td>\n",
       "      <td>0.283604</td>\n",
       "      <td>0.257143</td>\n",
       "      <td>0.125000</td>\n",
       "      <td>0.508475</td>\n",
       "      <td>0.384047</td>\n",
       "      <td>...</td>\n",
       "      <td>0.742857</td>\n",
       "      <td>0.625000</td>\n",
       "      <td>0.525424</td>\n",
       "      <td>0.521418</td>\n",
       "      <td>0.571429</td>\n",
       "      <td>0.375000</td>\n",
       "      <td>0.694915</td>\n",
       "      <td>0.675037</td>\n",
       "      <td>0.542857</td>\n",
       "      <td>0.125000</td>\n",
       "    </tr>\n",
       "  </tbody>\n",
       "</table>\n",
       "<p>3 rows × 24 columns</p>\n",
       "</div>"
      ],
      "text/plain": [
       "      AUPRC-gwas  AUPRC-disgen  AUPRC-gwas_230727  AUPRC-exp_genesets  \\\n",
       "dip     0.267327      0.202326           0.078947           -0.227273   \n",
       "pid2   -0.511111     -0.815476          -0.722222           -0.041667   \n",
       "wan     0.322034      0.754801           0.657143            0.375000   \n",
       "\n",
       "      Performance-gwas  Performance-disgen  Performance-gwas_230727  \\\n",
       "dip          -0.435644           -0.684884                -0.631579   \n",
       "pid2          0.300000            0.472619                 0.416667   \n",
       "wan           0.288136            0.283604                 0.257143   \n",
       "\n",
       "      Performance-exp_genesets  Gain-gwas  Gain-disgen  ...  \\\n",
       "dip                  -0.318182  -0.396040    -0.683721  ...   \n",
       "pid2                  0.208333   0.111111     0.390476  ...   \n",
       "wan                   0.125000   0.508475     0.384047  ...   \n",
       "\n",
       "      AUPRC_SzAdj-gwas_230727  AUPRC_SzAdj-exp_genesets  \\\n",
       "dip                 -0.578947                 -0.409091   \n",
       "pid2                -0.111111                 -0.041667   \n",
       "wan                  0.742857                  0.625000   \n",
       "\n",
       "      Performance_SzAdj-gwas  Performance_SzAdj-disgen  \\\n",
       "dip                -0.247525                 -0.327907   \n",
       "pid2               -0.066667                 -0.084524   \n",
       "wan                 0.525424                  0.521418   \n",
       "\n",
       "      Performance_SzAdj-gwas_230727  Performance_SzAdj-exp_genesets  \\\n",
       "dip                       -0.342105                       -0.318182   \n",
       "pid2                      -0.194444                        0.041667   \n",
       "wan                        0.571429                        0.375000   \n",
       "\n",
       "      Gain_SzAdj-gwas  Gain_SzAdj-disgen  Gain_SzAdj-gwas_230727  \\\n",
       "dip         -0.346535          -0.416279               -0.500000   \n",
       "pid2        -0.066667          -0.117857                0.000000   \n",
       "wan          0.694915           0.675037                0.542857   \n",
       "\n",
       "      Gain_SzAdj-exp_genesets  \n",
       "dip                 -0.045455  \n",
       "pid2                -0.041667  \n",
       "wan                  0.125000  \n",
       "\n",
       "[3 rows x 24 columns]"
      ]
     },
     "execution_count": 11,
     "metadata": {},
     "output_type": "execute_result"
    }
   ],
   "source": [
    "gsr_results.rankings"
   ]
  },
  {
   "cell_type": "markdown",
   "metadata": {},
   "source": [
    "## Fig3B - Visualization of performance of all networks for Literature and Genetic gene sets."
   ]
  },
  {
   "cell_type": "markdown",
   "metadata": {},
   "source": [
    "Extract the results from Dataset EV2"
   ]
  },
  {
   "cell_type": "code",
   "execution_count": 12,
   "metadata": {
    "ExecuteTime": {
     "end_time": "2024-11-03T22:41:25.992320Z",
     "start_time": "2024-11-03T22:41:25.916733Z"
    }
   },
   "outputs": [],
   "source": [
    "gsr_full_results = pd.read_csv(os.path.join(gitdir,'StateOfTheInteractomes_Notebooks/Data/DatasetEV2.txt'), index_col=None, sep='\\t')\n",
    "main_networks = [net for net in gsr_full_results.Network.unique() if '-' not in net]\n",
    "gsr_full_resutls = gsr_full_results[gsr_full_results.Network.isin(main_networks)]"
   ]
  },
  {
   "cell_type": "code",
   "execution_count": 13,
   "metadata": {
    "ExecuteTime": {
     "end_time": "2024-11-03T22:41:25.997262Z",
     "start_time": "2024-11-03T22:41:25.993235Z"
    }
   },
   "outputs": [],
   "source": [
    "full_network_rankings = pd.read_csv(os.path.join(gitdir,'StateOfTheInteractomes_Notebooks/Data/Fig3B_all_network_ranks.csv'), index_col=0)"
   ]
  },
  {
   "cell_type": "code",
   "execution_count": 14,
   "metadata": {
    "ExecuteTime": {
     "end_time": "2024-11-03T22:41:26.001224Z",
     "start_time": "2024-11-03T22:41:25.998109Z"
    }
   },
   "outputs": [],
   "source": [
    "full_network_rankings['order'] = full_network_rankings['Performance-'+'disgen'].rank(ascending=False, na_option='top', method='first')\n",
    "full_network_rankings = full_network_rankings.sort_values(by='order', ascending=False)\n",
    "full_network_rankings['bar_y'] = full_network_rankings['order'] +1.5\n",
    "rank_dict = {j:i+1 for i, j in enumerate(range(-22, 23))}"
   ]
  },
  {
   "cell_type": "markdown",
   "metadata": {},
   "source": [
    "Create the visualization"
   ]
  },
  {
   "cell_type": "code",
   "execution_count": 15,
   "metadata": {
    "ExecuteTime": {
     "end_time": "2024-11-03T22:41:30.863872Z",
     "start_time": "2024-11-03T22:41:26.002198Z"
    }
   },
   "outputs": [
    {
     "data": {
      "image/png": "[encoded data removed]",
      "text/plain": [
       "<Figure size 432x468 with 4 Axes>"
      ]
     },
     "metadata": {
      "needs_background": "light"
     },
     "output_type": "display_data"
    }
   ],
   "source": [
    "_, [ax2, ax1, ax3, ax4] = plt.subplots(nrows=1, ncols=4, figsize=(6, 6.5), sharey=True, gridspec_kw={'wspace':0.05})\n",
    "\n",
    "for j, ax in enumerate([ax1, ax2, ax3, ax4]):\n",
    "    geneset= genesets[j]\n",
    "    plt.sca(ax)\n",
    "    ax.invert_xaxis()\n",
    "    full_network_rankings['direction'] = (full_network_rankings[\"Performance-SzAdj-\"+geneset] - full_network_rankings[\"Performance-\"+geneset]) > 0\n",
    "    rank_max = (rank_dict[(np.floor(full_network_rankings[\"Performance-\"+geneset].max())) ]//5) * 5\n",
    "    rank_min = (rank_dict[(np.ceil(full_network_rankings[\"Performance-\"+geneset].min())) ]//5) * 5\n",
    "    sns.scatterplot(full_network_rankings[full_network_rankings['direction']==True], x=\"Performance-SzAdj-\"+geneset, y='order', color='lightgrey', ax=ax, s=20, zorder=12, edgecolor='tomato')\n",
    "    sns.scatterplot(full_network_rankings[full_network_rankings['direction']==False], x=\"Performance-SzAdj-\"+geneset, y='order', color='lightgrey', ax=ax, s=20, zorder=12, edgecolor='royalblue')\n",
    "    sns.scatterplot(full_network_rankings, x=\"Performance-\"+geneset, y='order', color='black', edgecolor='black', ax=ax, zorder=100, s=20, label='Raw')\n",
    "    # add arrows between the pairs of points\n",
    "    for i in range(len(full_network_rankings)):\n",
    "        # create a pallete for the arrows\n",
    "        if full_network_rankings['Performance-SzAdj-'+geneset][i] < full_network_rankings['Performance-'+geneset][i]:\n",
    "            ax.annotate(\"\", xy=(full_network_rankings['Performance-'+geneset][i], full_network_rankings['order'][i]), \n",
    "                    xytext=(full_network_rankings['Performance-SzAdj-'+geneset][i], full_network_rankings['order'][i]), \n",
    "                    arrowprops=dict(arrowstyle=\"<-\", color='grey', lw=0.5))\n",
    "        else:\n",
    "            ax.annotate(\"\", xy=(full_network_rankings['Performance-'+geneset][i], full_network_rankings['order'][i]), \n",
    "                    xytext=(full_network_rankings['Performance-SzAdj-'+geneset][i], full_network_rankings['order'][i]), \n",
    "                    arrowprops=dict(arrowstyle=\"<-\", color='grey', lw=0.5))\n",
    "    # add a horizontal grid between points\n",
    "    for i in range(len(full_network_rankings)):\n",
    "        ax.axhline(y=full_network_rankings['order'][i]-0.5, color='grey', lw=0.1, zorder=0)\n",
    "    plt.ylim(0.5, len(full_network_rankings)+.5)\n",
    "    # reorder the index of full_network_rankings based on the order column\n",
    "    full_network_rankings = full_network_rankings.sort_values(by='order', ascending=False)\n",
    "    _ = plt.yticks(full_network_rankings['order'], labels= full_network_rankings.index)\n",
    "    plt.xlabel(\"Mean Performance Rank\\n(\"+geneset_names[geneset]+\")\")\n",
    "    ax.set_xlim(22.5, -22.5)\n",
    "# map tick labels using the network names\n",
    "_ = ax1.set_yticklabels([network_names[x] for x in full_network_rankings.index])\n",
    "ax1.set_ylabel(\"Network\")\n",
    "plt.savefig(os.path.join(figdir, \"Fig3B_full_performance_results.jpg\"), dpi=300, bbox_inches=\"tight\")"
   ]
  },
  {
   "cell_type": "markdown",
   "metadata": {},
   "source": [
    "## Fig 3C - Correlations of performance between different gene sets sources"
   ]
  },
  {
   "cell_type": "markdown",
   "metadata": {},
   "source": [
    "Calculate the correlations"
   ]
  },
  {
   "cell_type": "code",
   "execution_count": 16,
   "metadata": {
    "ExecuteTime": {
     "end_time": "2024-11-03T22:41:30.874583Z",
     "start_time": "2024-11-03T22:41:30.865011Z"
    }
   },
   "outputs": [],
   "source": [
    "correlations = full_network_rankings.loc[:, [\"Performance-\"+geneset for geneset in genesets]].corr(method=lambda x, y: spearmanr(x, y)[0])\n",
    "pvals = full_network_rankings.loc[:, [\"Performance-\"+geneset for geneset in genesets]].corr(method=lambda x, y: spearmanr(x, y)[1])"
   ]
  },
  {
   "cell_type": "markdown",
   "metadata": {},
   "source": [
    "Plot the correlations"
   ]
  },
  {
   "cell_type": "code",
   "execution_count": 17,
   "metadata": {
    "ExecuteTime": {
     "end_time": "2024-11-03T22:41:31.381263Z",
     "start_time": "2024-11-03T22:41:30.875495Z"
    }
   },
   "outputs": [
    {
     "data": {
      "image/png": "[encoded data removed]",
      "text/plain": [
       "<Figure size 108x480 with 4 Axes>"
      ]
     },
     "metadata": {
      "needs_background": "light"
     },
     "output_type": "display_data"
    }
   ],
   "source": [
    "_, [ax1, ax2, ax3, ax4] = plt.subplots(nrows=4, ncols=1, figsize=(1.5,5*4/3), gridspec_kw={'hspace':0.3})\n",
    "sns.scatterplot(full_network_rankings, x=\"Performance-\"+genesets[1], y=\"Performance-\"+genesets[0], hue='Type', edgecolor='black', zorder=100, s=15, \n",
    "                alpha=0.8, palette=['#ffa500', '#73c7e7', '#44cf6c'], hue_order=['Experimental', 'Composite', 'Curated'], ax=ax1, legend=True)\n",
    "r1 = correlations[\"Performance-\"+genesets[1]][\"Performance-\"+genesets[0]]\n",
    "ax1.set_xlabel(geneset_names[genesets[1]])\n",
    "ax1.set_ylabel(geneset_names[genesets[0]])\n",
    "sns.scatterplot(full_network_rankings, x=\"Performance-\"+genesets[2], y=\"Performance-\"+genesets[0], hue='Type', edgecolor='black', zorder=100, s=15, \n",
    "                alpha=0.8, palette=['#ffa500', '#73c7e7', '#44cf6c'], hue_order=['Experimental', 'Composite', 'Curated'], ax=ax2, legend=False)\n",
    "r2 = correlations[\"Performance-\"+genesets[2]][\"Performance-\"+genesets[0]]\n",
    "ax2.set_xlabel(geneset_names[genesets[2]])\n",
    "ax2.set_ylabel(geneset_names[genesets[0]])\n",
    "sns.scatterplot(full_network_rankings, x=\"Performance-\"+genesets[1], y=\"Performance-\"+genesets[3], hue='Type', edgecolor='black', zorder=100, s=15, \n",
    "                alpha=0.8, palette=['#ffa500', '#73c7e7', '#44cf6c'], hue_order=['Experimental', 'Composite', 'Curated'], ax=ax3, legend=False)\n",
    "r3 = correlations[\"Performance-\"+genesets[1]][\"Performance-\"+genesets[3]]\n",
    "ax3.set_xlabel(geneset_names[genesets[1]])\n",
    "ax3.set_ylabel(geneset_names[genesets[3]])\n",
    "\n",
    "sns.scatterplot(full_network_rankings, x=\"Performance-\"+genesets[2], y=\"Performance-\"+genesets[3], hue='Type', edgecolor='black', zorder=100, s=15, \n",
    "                alpha=0.8, palette=['#ffa500', '#73c7e7', '#44cf6c'], hue_order=['Experimental', 'Composite', 'Curated'], ax=ax4, legend=False)\n",
    "r4 = correlations[\"Performance-\"+genesets[2]][\"Performance-\"+genesets[3]]\n",
    "ax4.set_xlabel(geneset_names[genesets[2]])\n",
    "ax4.set_ylabel(geneset_names[genesets[3]])\n",
    "\n",
    "for i, ax in enumerate([ax1, ax2, ax3, ax4]):\n",
    "    r=[r1,r2,r3,r4][i]\n",
    "    ax.annotate(f\"R={r:.2f}\", xy=(-7,15))\n",
    "\n",
    "for ax in [ax1, ax2, ax3, ax4]:\n",
    "    ax.set_xticks([-20, 0,  20])\n",
    "    ax.set_yticks([-20, 0, 20])\n",
    "\n",
    "ax1.invert_xaxis()\n",
    "ax1.invert_yaxis()\n",
    "ax2.invert_xaxis()\n",
    "ax2.invert_yaxis()\n",
    "ax3.invert_xaxis()\n",
    "ax3.invert_yaxis()\n",
    "ax4.invert_xaxis()\n",
    "ax4.invert_yaxis()\n",
    "plt.savefig(figdir + \"Fig3C_Performance_correlations.jpg\", dpi=300, bbox_inches=\"tight\")"
   ]
  },
  {
   "cell_type": "markdown",
   "metadata": {},
   "source": [
    "## Fig 3D - Interaction-type-specific performance results"
   ]
  },
  {
   "cell_type": "markdown",
   "metadata": {},
   "source": [
    "Load and plot the results for interaction-type-specific results from HumanNet and GeneMANIA:\n",
    "* AUPRC\n",
    "* Performance\n",
    "* Performance Gain\n",
    "* Network Coverage\n",
    "* Gene set sizes"
   ]
  },
  {
   "cell_type": "code",
   "execution_count": 18,
   "metadata": {
    "ExecuteTime": {
     "end_time": "2024-11-03T22:41:31.392632Z",
     "start_time": "2024-11-03T22:41:31.382113Z"
    }
   },
   "outputs": [],
   "source": [
    "type_specific_results = pd.read_csv(os.path.join(gitdir,'StateOfTheInteractomes_Notebooks/Data/Fig3D_type_specific_results.csv'))"
   ]
  },
  {
   "cell_type": "code",
   "execution_count": 19,
   "metadata": {
    "ExecuteTime": {
     "end_time": "2024-11-03T22:41:32.053113Z",
     "start_time": "2024-11-03T22:41:31.393529Z"
    }
   },
   "outputs": [
    {
     "data": {
      "image/png": "[encoded data removed]",
      "text/plain": [
       "<Figure size 216x216 with 2 Axes>"
      ]
     },
     "metadata": {
      "needs_background": "light"
     },
     "output_type": "display_data"
    }
   ],
   "source": [
    "_, [ax, ax1] = plt.subplots(nrows=1, ncols=2,figsize=(3,3), sharey=True)\n",
    "ax = sns.boxplot(data=type_specific_results[(~type_specific_results.Network.isin(['GM_genetic', 'GM_coexp_90', 'humannet.v3.gn'])) & (type_specific_results['GeneSet']=='Performance_disgen')], \n",
    "                    y='InteractionType', x='Performance', hue='parent', linewidth=0.25,fliersize=0,notch=True, ax = ax, \n",
    "                    order=['Baseline', 'Citation', 'Domain', 'Orthology', 'Pathway', 'Physical', 'Colocalization', 'Coexpression', 'Genetic'], zorder=10,\n",
    "                    legend=False, palette=['#5e94c0','#d2a686' ], gap=0.2, linecolor='#343a40', saturation=1, whis=(5,95))\n",
    "ax.tick_params(labelsize=7)\n",
    "ax.set_ylabel(\"Interaction Type\", fontsize=7)\n",
    "ax.set_xlabel(\"Performance\\n(Literature)\", fontsize=7)\n",
    "# plot vertical line on ax\n",
    "ax.vlines(x=0, ymin=-1, ymax=8, color='black', lw=0.25, zorder=0, linestyles='--')\n",
    "ax.set_xlim((-5, 175))\n",
    "ax.set_ylim(7.5, -0.5)\n",
    "_ =ax.set_xticks([0,50,100, 150])\n",
    "\n",
    "ax1 = sns.boxplot(data=type_specific_results[(~type_specific_results.Network.isin(['GM_genetic', 'GM_coexp_90', 'humannet.v3.gn'])) & (type_specific_results['GeneSet']=='Performance_gwas')], \n",
    "                    y='InteractionType', x='Performance', hue='parent', linewidth=0.25,fliersize=0,notch=True, ax = ax1, \n",
    "                    order=['Baseline', 'Citation', 'Domain', 'Orthology', 'Pathway', 'Physical', 'Colocalization', 'Coexpression', 'Genetic'], zorder=10,\n",
    "                    legend=False, palette=['#5e94c0','#d2a686' ], gap=0.2, linecolor='#343a40', saturation=1, whis=(5,95))\n",
    "\n",
    "ax1.tick_params(labelsize=7)\n",
    "\n",
    "ax1.set_xlabel(\"Performance\\n(Genetic)\", fontsize=7)\n",
    "\n",
    "ax1.vlines(x=0, ymin=-1, ymax=8, color='black', lw=0.25, zorder=0, linestyles='--')\n",
    "ax1.set_xlim((-5, 60))\n",
    "ax1.set_ylim(8.5, -0.5)\n",
    "_ =ax1.set_xticks([0,25, 50])\n",
    "\n",
    "\n",
    "ax1.tick_params(labelsize=7, width=0.5)\n",
    "ax.tick_params(labelsize=7, width=0.5)\n",
    "\n",
    "plt.savefig(figdir+\"Fig3D_type_specific_results.jpg\", bbox_inches='tight', dpi=300)"
   ]
  },
  {
   "cell_type": "markdown",
   "metadata": {},
   "source": [
    "## EV Figures"
   ]
  },
  {
   "cell_type": "markdown",
   "metadata": {},
   "source": [
    "### EV3A - Summary metrics of gene set recovery\n",
    "\n",
    "Plot distributions of all metrics for Literature and Genetic gene sets\n"
   ]
  },
  {
   "cell_type": "markdown",
   "metadata": {},
   "source": [
    "#### AUPRC"
   ]
  },
  {
   "cell_type": "code",
   "execution_count": 20,
   "metadata": {
    "ExecuteTime": {
     "end_time": "2024-11-03T22:41:32.525606Z",
     "start_time": "2024-11-03T22:41:32.053949Z"
    }
   },
   "outputs": [
    {
     "data": {
      "image/png": "[encoded data removed]",
      "text/plain": [
       "<Figure size 180x72 with 2 Axes>"
      ]
     },
     "metadata": {
      "needs_background": "light"
     },
     "output_type": "display_data"
    }
   ],
   "source": [
    "_, [ax1, ax2] = plt.subplots(nrows=2, ncols=1, figsize=(2.5, 1), sharex=True, gridspec_kw={'hspace':0})\n",
    "gsr_full_results[gsr_full_results.GeneSet == geneset_names[genesets[1]]].groupby('Disease').AUPRC.median().plot(kind='hist',bins=100,\n",
    "                                                                ax=ax1, edgecolor='grey', color='gold', linewidth=0.25, density=False)\n",
    "gsr_full_results[gsr_full_results.GeneSet == geneset_names[genesets[0]]].groupby('Disease').AUPRC.median().plot(kind='hist',bins=20,\n",
    "                                                                ax=ax2, edgecolor='grey', color='goldenrod', linewidth=0.25, density=False)\n",
    "\n",
    "\n",
    "plt.xlim(0, 0.125)\n",
    "ax2.set_xlabel(\"AUPRC\")\n",
    "ax1.tick_params(axis='x', length=0)\n",
    "plt.savefig(figdir + \"EV3A_auprc_histograms.jpg\", dpi=300, bbox_inches=\"tight\")"
   ]
  },
  {
   "cell_type": "markdown",
   "metadata": {},
   "source": [
    "#### Performance"
   ]
  },
  {
   "cell_type": "code",
   "execution_count": 21,
   "metadata": {
    "ExecuteTime": {
     "end_time": "2024-11-03T22:41:33.044219Z",
     "start_time": "2024-11-03T22:41:32.526542Z"
    }
   },
   "outputs": [
    {
     "data": {
      "image/png": "[encoded data removed]",
      "text/plain": [
       "<Figure size 180x72 with 2 Axes>"
      ]
     },
     "metadata": {
      "needs_background": "light"
     },
     "output_type": "display_data"
    }
   ],
   "source": [
    "_, [ax1, ax2] = plt.subplots(nrows=2, ncols=1, figsize=(2.5, 1), sharex=True, gridspec_kw={'hspace':0})\n",
    "gsr_full_results[gsr_full_results.GeneSet == geneset_names[genesets[1]]].groupby('Disease').Performance.median().plot(kind='hist',bins=100,\n",
    "                                                                ax=ax1, edgecolor='grey', color='lightseagreen', linewidth=0.25, density=False)\n",
    "gsr_full_results[gsr_full_results.GeneSet == geneset_names[genesets[0]]].groupby('Disease').Performance.median().plot(kind='hist',bins=50,\n",
    "                                                                ax=ax2, edgecolor='grey', color='teal', linewidth=0.25, density=False)\n",
    "\n",
    "\n",
    "ax2.set_xlabel(\"Performance\")\n",
    "ax1.tick_params(axis='x', length=0)\n",
    "plt.savefig(figdir + \"EV3A_performance_histograms.jpg\", dpi=300, bbox_inches=\"tight\")"
   ]
  },
  {
   "cell_type": "markdown",
   "metadata": {},
   "source": [
    "#### Performance Gain"
   ]
  },
  {
   "cell_type": "code",
   "execution_count": 22,
   "metadata": {
    "ExecuteTime": {
     "end_time": "2024-11-03T22:41:33.502416Z",
     "start_time": "2024-11-03T22:41:33.045224Z"
    }
   },
   "outputs": [
    {
     "data": {
      "image/png": "[encoded data removed]",
      "text/plain": [
       "<Figure size 180x72 with 2 Axes>"
      ]
     },
     "metadata": {
      "needs_background": "light"
     },
     "output_type": "display_data"
    }
   ],
   "source": [
    "_, [ax1, ax2] = plt.subplots(nrows=2, ncols=1, figsize=(2.5, 1), sharex=True, gridspec_kw={'hspace':0})\n",
    "gsr_full_results[gsr_full_results.GeneSet == geneset_names[genesets[1]]].groupby('Disease').Gain.median().plot(kind='hist',bins=100,\n",
    "                                                                ax=ax1, edgecolor='grey', color='mediumorchid', linewidth=0.25, density=False)\n",
    "gsr_full_results[gsr_full_results.GeneSet == geneset_names[genesets[0]]].groupby('Disease').Gain.median().plot(kind='hist',bins=20,\n",
    "                                                                ax=ax2, edgecolor='grey', color='rebeccapurple', linewidth=0.25, density=False)\n",
    "\n",
    "plt.xlim(-0.1, 1.75)\n",
    "ax2.set_xlabel(\"Performance Gain\")\n",
    "ax1.tick_params(axis='x', length=0)\n",
    "plt.savefig(figdir + \"EV3A_gain_histograms.jpg\", dpi=300, bbox_inches=\"tight\")"
   ]
  },
  {
   "cell_type": "markdown",
   "metadata": {},
   "source": [
    "#### Network Coverage"
   ]
  },
  {
   "cell_type": "code",
   "execution_count": 23,
   "metadata": {
    "ExecuteTime": {
     "end_time": "2024-11-03T22:41:34.000005Z",
     "start_time": "2024-11-03T22:41:33.503411Z"
    },
    "code_folding": []
   },
   "outputs": [
    {
     "data": {
      "image/png": "[encoded data removed]",
      "text/plain": [
       "<Figure size 180x72 with 2 Axes>"
      ]
     },
     "metadata": {
      "needs_background": "light"
     },
     "output_type": "display_data"
    }
   ],
   "source": [
    "_, [ax1, ax2] = plt.subplots(nrows=2, ncols=1, figsize=(2.5, 1), sharex=True,  gridspec_kw={'hspace':0})\n",
    "gsr_full_results[gsr_full_results.GeneSet == geneset_names[genesets[1]]].value_counts('Disease').plot(kind='hist',bins=[i for i in range(1, 46)],\n",
    "                                                                ax=ax1, edgecolor='grey', color='cornflowerblue', linewidth=0.25, density=False)\n",
    "gsr_full_results[gsr_full_results.GeneSet == geneset_names[genesets[0]]].value_counts('Disease').plot(kind='hist',bins=[i for i in range(1, 46)],\n",
    "                                                                ax=ax2, edgecolor='grey', color='darkblue', linewidth=0.25, density=False,alpha=0.7)\n",
    "ax2.set_ylim(0, 45)\n",
    "ax2.set_xlabel(\"Network Coverage\")\n",
    "ax1.tick_params(axis='x', length=0)\n",
    "plt.savefig(figdir + \"EV3A_coverage_histograms.jpg\", dpi=300, bbox_inches=\"tight\")"
   ]
  },
  {
   "cell_type": "markdown",
   "metadata": {},
   "source": [
    "#### Gene Set Sizes"
   ]
  },
  {
   "cell_type": "code",
   "execution_count": 24,
   "metadata": {
    "ExecuteTime": {
     "end_time": "2024-11-03T22:41:34.083406Z",
     "start_time": "2024-11-03T22:41:34.000948Z"
    }
   },
   "outputs": [],
   "source": [
    "disgen_sets = load_node_sets(os.path.join(gitdir, 'Data', 'disgen.genesets'))\n",
    "gwas_sets = load_node_sets(os.path.join(gitdir, 'Data', 'gwas.genesets'))\n",
    "disgen_sizes = {net:len(disgen_sets[net]) for net in disgen_sets}\n",
    "gwas_sizes = {net:len(gwas_sets[net]) for net in gwas_sets}"
   ]
  },
  {
   "cell_type": "code",
   "execution_count": 25,
   "metadata": {
    "ExecuteTime": {
     "end_time": "2024-11-03T22:41:34.610071Z",
     "start_time": "2024-11-03T22:41:34.084375Z"
    }
   },
   "outputs": [
    {
     "data": {
      "image/png": "[encoded data removed]",
      "text/plain": [
       "<Figure size 180x72 with 2 Axes>"
      ]
     },
     "metadata": {
      "needs_background": "light"
     },
     "output_type": "display_data"
    }
   ],
   "source": [
    "_, [ax1, ax2] = plt.subplots(nrows=2, ncols=1, figsize=(2.5, 1), sharex=True,  gridspec_kw={'hspace':0})\n",
    "pd.DataFrame({'disgen':disgen_sizes}).plot(kind='hist', bins=[i*10 for i in range(0, 50)], ax=ax1, edgecolor='grey', color='sandybrown', linewidth=0.25, density=False)\n",
    "pd.DataFrame({'gwas':gwas_sizes}).plot(kind='hist', bins=[i*10 for i in range(0, 50)], ax=ax2, edgecolor='grey', color='chocolate', alpha=1, linewidth=0.25, density=False)\n",
    "#plt.xlim(-0.1, 1.75)\n",
    "ax2.set_ylim(0, 300)\n",
    "ax2.set_xlabel(\"Gene Set Size\")\n",
    "ax1.tick_params(axis='x', length=0)\n",
    "plt.savefig(figdir + \"FigEV3A_sizes_histograms.jpg\", dpi=300, bbox_inches=\"tight\")"
   ]
  },
  {
   "cell_type": "markdown",
   "metadata": {},
   "source": [
    "### EV3B - Performance for reduced versus original gene sets\n",
    "\n",
    "Gene set recovery performance is proportional to interactome size. However, this could be driven by increased coverage of gene sets, rather than greater information content. Here we assess performance on identical gene sets to better assess why large interactomes have high gene set recovery performance."
   ]
  },
  {
   "cell_type": "code",
   "execution_count": 26,
   "metadata": {
    "ExecuteTime": {
     "end_time": "2024-11-03T22:41:34.682645Z",
     "start_time": "2024-11-03T22:41:34.611003Z"
    }
   },
   "outputs": [],
   "source": [
    "reduced_nets = ['BioGRID', 'BioPlex 293T', 'ConsensusPathDB', 'DIP', 'FunCoup', 'GIANT',\n",
    "       'HPRD', 'HumanNet', 'InBio', 'InnateDB', 'MatrixDB', 'PTMCode2',\n",
    "       'PrePPI', 'ReactomeFI', 'STRING', 'SignaLink']\n",
    "\n",
    "reduced_er = {'Genetic (reduced)': gsr_full_results[gsr_full_results.GeneSet=='Genetic (Reduced)'].pivot_table(columns='Network', index='Disease', values='Performance'),\n",
    "             'Literature (reduced)':gsr_full_results[gsr_full_results.GeneSet=='Literature (Reduced)'].pivot_table(columns='Network', index='Disease', values='Performance'),\n",
    "              'Literature':gsr_full_results[gsr_full_results.GeneSet=='Literature'].pivot_table(columns='Network', index='Disease', values='Performance'),\n",
    "              'Genetic':gsr_full_results[gsr_full_results.GeneSet=='Genetic'].pivot_table(columns='Network', index='Disease', values='Performance')\n",
    "             }"
   ]
  },
  {
   "cell_type": "code",
   "execution_count": 27,
   "metadata": {
    "ExecuteTime": {
     "end_time": "2024-11-03T22:41:34.688033Z",
     "start_time": "2024-11-03T22:41:34.683541Z"
    }
   },
   "outputs": [],
   "source": [
    "size_stats = pd.read_csv(os.path.join(gitdir, 'StateOfTheInteractomes_Notebooks/Data/Fig1B_network_sizes.csv'), index_col=0)\n",
    "edge_dict = size_stats.set_index('Name')['Interaction Count'].to_dict()\n",
    "node_dict = size_stats.set_index('Name')['Gene Count'].to_dict()"
   ]
  },
  {
   "cell_type": "markdown",
   "metadata": {},
   "source": [
    "The group of 16 interactomes was selected to represent a range of interactome sizes:"
   ]
  },
  {
   "cell_type": "code",
   "execution_count": 28,
   "metadata": {
    "ExecuteTime": {
     "end_time": "2024-11-03T22:41:34.983712Z",
     "start_time": "2024-11-03T22:41:34.691322Z"
    }
   },
   "outputs": [
    {
     "data": {
      "text/plain": [
       "Text(0, 0.5, 'Interaction Count')"
      ]
     },
     "execution_count": 28,
     "metadata": {},
     "output_type": "execute_result"
    },
    {
     "data": {
      "image/png": "[encoded data removed]",
      "text/plain": [
       "<Figure size 432x288 with 1 Axes>"
      ]
     },
     "metadata": {
      "needs_background": "light"
     },
     "output_type": "display_data"
    }
   ],
   "source": [
    "plt.scatter([node_dict[x] for x in reduced_nets], [edge_dict[y] for y in reduced_nets])\n",
    "plt.yscale('log')\n",
    "plt.xlabel('Gene Count')\n",
    "plt.ylabel('Interaction Count')"
   ]
  },
  {
   "cell_type": "markdown",
   "metadata": {},
   "source": [
    "First, we examing the change in the correlation between interactome size and mean gene set recovery performance. This is a measure globally across all gene sets analyzed"
   ]
  },
  {
   "cell_type": "code",
   "execution_count": 29,
   "metadata": {
    "ExecuteTime": {
     "end_time": "2024-11-03T22:41:34.990340Z",
     "start_time": "2024-11-03T22:41:34.984649Z"
    }
   },
   "outputs": [],
   "source": [
    "def plot_size_correlations(reduced_er, group1, group2, edge_dict, node_dict, nets, ax=None):\n",
    "    \n",
    "    plot_df = reduced_er[group1].loc[:, nets].melt(ignore_index=False, var_name=\"Network\", value_name=\"Performance\").reset_index().rename(columns={\"index\":'Geneset'})\n",
    "    plot_df['EdgeCount'] = plot_df.Network.apply(lambda x: edge_dict[x])\n",
    "    plot_df['NodeCount'] = plot_df.Network.apply(lambda x: node_dict[x])\n",
    "    plot_df_full = reduced_er[group2].loc[:, nets].melt(ignore_index=False, var_name=\"Network\", value_name=\"Performance\").reset_index().rename(columns={\"index\":'Geneset'})\n",
    "    plot_df_full['EdgeCount'] = plot_df_full.Network.apply(lambda x: edge_dict[x])\n",
    "    plot_df_full['NodeCount'] = plot_df_full.Network.apply(lambda x: node_dict[x])\n",
    "    sns.regplot(data = plot_df.groupby('Network').mean().reset_index(), x='EdgeCount', y='Performance', \n",
    "                logx=True, ci=95, label=group1, ax=ax, scatter_kws={'s':10}, line_kws={'linewidth':0.75})\n",
    "    sns.regplot(data = plot_df_full.groupby('Network').mean().reset_index(), x='EdgeCount', y='Performance', \n",
    "                logx=True, ci=95, label=group2, ax=ax, scatter_kws={'s':10}, line_kws={'linewidth':0.75})\n",
    "    if ax is None:\n",
    "        ax = plt.gca()\n",
    "    ax.set_ylabel('Mean Performance')\n",
    "    ax.set_xscale('log')\n",
    "    ax.set_xlabel('Interaction Count')\n",
    "\n",
    "    ax.legend()\n",
    "    return plot_df.groupby('Network').mean(), plot_df_full.groupby('Network').mean()"
   ]
  },
  {
   "cell_type": "code",
   "execution_count": 30,
   "metadata": {
    "ExecuteTime": {
     "end_time": "2024-11-03T22:41:36.368713Z",
     "start_time": "2024-11-03T22:41:34.991168Z"
    },
    "run_control": {
     "marked": false
    }
   },
   "outputs": [
    {
     "data": {
      "image/png": "[encoded data removed]",
      "text/plain": [
       "<Figure size 288x144 with 2 Axes>"
      ]
     },
     "metadata": {
      "needs_background": "light"
     },
     "output_type": "display_data"
    }
   ],
   "source": [
    "_ , [ax1, ax2] = plt.subplots(1, 2, figsize=(4,2), sharey=True)\n",
    "_ = plot_size_correlations(reduced_er, 'Literature (reduced)', 'Literature', edge_dict, node_dict, nets=reduced_nets, ax=ax1)\n",
    "_ = ax1.set_title('Literature Gene Sets (n=343)', fontsize=7)\n",
    "_ = plot_size_correlations(reduced_er, 'Genetic (reduced)', 'Genetic', edge_dict, node_dict,nets=reduced_nets,ax=ax2)\n",
    "_ = ax2.set_title('Genetic Gene Sets (n=46)', fontsize=7)\n",
    "plt.savefig(figdir + \"FigEV3B_reduced_geneset_scatters.jpg\", dpi=300, bbox_inches=\"tight\")"
   ]
  },
  {
   "cell_type": "markdown",
   "metadata": {},
   "source": [
    "### EV3C - Slopes of size-adjusted performance for reduced gene sets"
   ]
  },
  {
   "cell_type": "markdown",
   "metadata": {},
   "source": [
    "Then, we examine the slopes generated when fitting a linear regression model of performance for each gene set to the interactome size. Extracting these slopes allows us to examine how consistent differences are across all gene sets."
   ]
  },
  {
   "cell_type": "code",
   "execution_count": 31,
   "metadata": {
    "ExecuteTime": {
     "end_time": "2024-11-03T22:41:36.373278Z",
     "start_time": "2024-11-03T22:41:36.369640Z"
    }
   },
   "outputs": [],
   "source": [
    "## Load fit data\n",
    "slope_data = pd.read_csv(os.path.join(gitdir, 'StateOfTheInteractomes_Notebooks/Data/FigEV3C_slope_data.tsv'), sep='\\t')"
   ]
  },
  {
   "cell_type": "code",
   "execution_count": 32,
   "metadata": {
    "ExecuteTime": {
     "end_time": "2024-11-03T22:41:36.377368Z",
     "start_time": "2024-11-03T22:41:36.374016Z"
    }
   },
   "outputs": [],
   "source": [
    "def plot_slope_hists(slope_data, geneset, name1, name2, ax=None):\n",
    "    combined_data = slope_data[slope_data.GeneSet==geneset].melt(id_vars=['Disease', 'GeneSet'], value_name='Slope', var_name=geneset)\n",
    "    sns.histplot(data=combined_data, x='Slope', hue=geneset, kde=True, ax=ax, bins=[i for i in range(-5, 30)], alpha=0.3)\n",
    "    ax.set_ylabel('Gene Set Count')\n",
    "    return combined_data.groupby(geneset).Slope.median()"
   ]
  },
  {
   "cell_type": "code",
   "execution_count": 33,
   "metadata": {
    "ExecuteTime": {
     "end_time": "2024-11-03T22:41:37.059171Z",
     "start_time": "2024-11-03T22:41:36.378073Z"
    }
   },
   "outputs": [
    {
     "name": "stdout",
     "output_type": "stream",
     "text": [
      "Medians:  Literature\n",
      "Slope_Full       7.185544\n",
      "Slope_Reduced    4.540508\n",
      "Name: Slope, dtype: float64\n",
      "Medians:  Genetic\n",
      "Slope_Full       3.923959\n",
      "Slope_Reduced    1.504175\n",
      "Name: Slope, dtype: float64\n"
     ]
    },
    {
     "data": {
      "image/png": "[encoded data removed]",
      "text/plain": [
       "<Figure size 216x144 with 2 Axes>"
      ]
     },
     "metadata": {
      "needs_background": "light"
     },
     "output_type": "display_data"
    }
   ],
   "source": [
    "_, [ax1, ax2] = plt.subplots(2, 1, figsize=(3,2), sharex=True)\n",
    "x1 = plot_slope_hists(slope_data, 'Literature', 'Reduced', 'Original', ax=ax1)\n",
    "print('Medians: ', x1)\n",
    "x2 = plot_slope_hists(slope_data, 'Genetic', 'Reduced', 'Original', ax=ax2)\n",
    "print('Medians: ', x2)\n",
    "plt.savefig(figdir + \"FigEVC_reduced_geneset_slope_histograms.jpg\", dpi=300, bbox_inches=\"tight\")"
   ]
  },
  {
   "cell_type": "markdown",
   "metadata": {},
   "source": [
    "Test the distribution of differences for skew"
   ]
  },
  {
   "cell_type": "code",
   "execution_count": 34,
   "metadata": {
    "ExecuteTime": {
     "end_time": "2024-11-03T22:41:37.064206Z",
     "start_time": "2024-11-03T22:41:37.060252Z"
    }
   },
   "outputs": [],
   "source": [
    "slope_data['diff'] = slope_data['Slope_Full'] - slope_data['Slope_Reduced']"
   ]
  },
  {
   "cell_type": "code",
   "execution_count": 35,
   "metadata": {
    "ExecuteTime": {
     "end_time": "2024-11-03T22:41:37.245681Z",
     "start_time": "2024-11-03T22:41:37.065120Z"
    }
   },
   "outputs": [
    {
     "data": {
      "text/plain": [
       "<AxesSubplot:xlabel='diff', ylabel='Count'>"
      ]
     },
     "execution_count": 35,
     "metadata": {},
     "output_type": "execute_result"
    },
    {
     "data": {
      "image/png": "[encoded data removed]",
      "text/plain": [
       "<Figure size 432x288 with 1 Axes>"
      ]
     },
     "metadata": {
      "needs_background": "light"
     },
     "output_type": "display_data"
    }
   ],
   "source": [
    "sns.histplot(data = slope_data ,x='diff', hue='GeneSet')"
   ]
  },
  {
   "cell_type": "code",
   "execution_count": 36,
   "metadata": {
    "ExecuteTime": {
     "end_time": "2024-11-03T22:41:37.252248Z",
     "start_time": "2024-11-03T22:41:37.246625Z"
    }
   },
   "outputs": [
    {
     "data": {
      "text/plain": [
       "SkewtestResult(statistic=1.2740978841295476, pvalue=0.2026287282092447)"
      ]
     },
     "execution_count": 36,
     "metadata": {},
     "output_type": "execute_result"
    }
   ],
   "source": [
    "skewtest(list(slope_data[slope_data.GeneSet=='Genetic']['diff']), nan_policy='omit')"
   ]
  },
  {
   "cell_type": "code",
   "execution_count": 37,
   "metadata": {
    "ExecuteTime": {
     "end_time": "2024-11-03T22:41:37.258429Z",
     "start_time": "2024-11-03T22:41:37.253132Z"
    }
   },
   "outputs": [
    {
     "data": {
      "text/plain": [
       "SkewtestResult(statistic=6.936704767965834, pvalue=4.013513494150971e-12)"
      ]
     },
     "execution_count": 37,
     "metadata": {},
     "output_type": "execute_result"
    }
   ],
   "source": [
    "skewtest(list(slope_data[slope_data.GeneSet=='Literature']['diff']), nan_policy='omit')"
   ]
  },
  {
   "cell_type": "markdown",
   "metadata": {},
   "source": [
    "Wilcoxon/Sign Rank test"
   ]
  },
  {
   "cell_type": "code",
   "execution_count": 38,
   "metadata": {
    "ExecuteTime": {
     "end_time": "2024-11-03T22:41:37.263889Z",
     "start_time": "2024-11-03T22:41:37.259263Z"
    }
   },
   "outputs": [],
   "source": [
    "def perform_paired_slope_test(slope_data, geneset, wilcox=True):\n",
    "    #The Wilcoxon test should only be used when the differences between the pair data do not exhibit significant skew.  \n",
    "    combined_data = slope_data[slope_data.GeneSet==geneset]\n",
    "    print(\"Means:\", np.mean(combined_data[f'Slope_Reduced']), np.mean(combined_data[f'Slope_Full']))\n",
    "    print(\"Medians:\", np.median(combined_data[f'Slope_Reduced']), np.median(combined_data[f'Slope_Full']))\n",
    "    if wilcox:\n",
    "        stats = wilcoxon(combined_data[f'Slope_Reduced'], combined_data[f'Slope_Full'])\n",
    "    else:\n",
    "        stats = sign_test(combined_data[f'Slope_Full']-combined_data[f'Slope_Reduced'])\n",
    "    return stats"
   ]
  },
  {
   "cell_type": "code",
   "execution_count": 39,
   "metadata": {
    "ExecuteTime": {
     "end_time": "2024-11-03T22:41:37.271919Z",
     "start_time": "2024-11-03T22:41:37.264728Z"
    }
   },
   "outputs": [
    {
     "name": "stdout",
     "output_type": "stream",
     "text": [
      "Means: 4.836071078265695 9.110245433171647\n",
      "Medians: 4.540508249589887 7.185544021468002\n"
     ]
    },
    {
     "data": {
      "text/plain": [
       "(108.5, 8.814347881108425e-34)"
      ]
     },
     "execution_count": 39,
     "metadata": {},
     "output_type": "execute_result"
    }
   ],
   "source": [
    "perform_paired_slope_test(slope_data, 'Literature', wilcox=False)"
   ]
  },
  {
   "cell_type": "code",
   "execution_count": 40,
   "metadata": {
    "ExecuteTime": {
     "end_time": "2024-11-03T22:41:37.277819Z",
     "start_time": "2024-11-03T22:41:37.272839Z"
    }
   },
   "outputs": [
    {
     "name": "stdout",
     "output_type": "stream",
     "text": [
      "Means: 1.9753658485820287 4.430179218380134\n",
      "Medians: 1.5041745273268567 3.9239587839728696\n"
     ]
    },
    {
     "data": {
      "text/plain": [
       "WilcoxonResult(statistic=119.0, pvalue=4.1237663038180835e-06)"
      ]
     },
     "execution_count": 40,
     "metadata": {},
     "output_type": "execute_result"
    }
   ],
   "source": [
    "perform_paired_slope_test(slope_data, 'Genetic')"
   ]
  },
  {
   "cell_type": "markdown",
   "metadata": {},
   "source": [
    "### EV3D - Sizes of interaction-type-specific networks"
   ]
  },
  {
   "cell_type": "code",
   "execution_count": 41,
   "metadata": {
    "ExecuteTime": {
     "end_time": "2024-11-03T22:41:37.282321Z",
     "start_time": "2024-11-03T22:41:37.278713Z"
    }
   },
   "outputs": [],
   "source": [
    "type_df = pd.read_csv(os.path.join(gitdir, 'StateOfTheInteractomes_Notebooks/Data/FigEV3D_type_specific_stats.tsv'), sep='\\t', index_col=0)"
   ]
  },
  {
   "cell_type": "code",
   "execution_count": 42,
   "metadata": {
    "ExecuteTime": {
     "end_time": "2024-11-03T22:41:37.907130Z",
     "start_time": "2024-11-03T22:41:37.283177Z"
    }
   },
   "outputs": [
    {
     "data": {
      "image/png": "[encoded data removed]",
      "text/plain": [
       "<Figure size 216x216 with 2 Axes>"
      ]
     },
     "metadata": {
      "needs_background": "light"
     },
     "output_type": "display_data"
    }
   ],
   "source": [
    "_, [ax, ax1] = plt.subplots(nrows=2, ncols=1,figsize=(3,3), sharex=True)\n",
    "sns.barplot(data=type_df, \n",
    "                    x='Type', y='Interaction Count', hue='Network', linewidth=0.25, ax = ax, \n",
    "                    order=['Citation', 'Domain', 'Orthology', 'Pathway', 'Physical', 'Colocalization', 'Coexpression', 'Genetic'], zorder=10,\n",
    "                    legend=False, palette=['#5e94c0','#d2a686' ], hue_order=[ 'GeneMania', 'HumanNet'], gap=0.2, edgecolor='#343a40', saturation=1)\n",
    "ax.tick_params(labelsize=7)\n",
    "ax.set_xlabel(\"Interaction Type\", fontsize=7)\n",
    "ax.set_ylabel(\"Interaction Count\", fontsize=7)\n",
    "# plot vertical line on ax\n",
    "ax.set_yscale('log')\n",
    "ax.set_ylim(9e3, 5e6)\n",
    "sns.barplot(data=type_df, \n",
    "                    x='Type', y='Gene Count', hue='Network', linewidth=0.25, ax = ax1, \n",
    "                    order=['Citation', 'Domain', 'Orthology', 'Pathway', 'Physical', 'Colocalization', 'Coexpression', 'Genetic'], zorder=10,\n",
    "                    legend=False, palette=['#5e94c0','#d2a686' ], hue_order=[ 'GeneMania', 'HumanNet'], gap=0.2, edgecolor='#343a40', saturation=1)\n",
    "ax1.tick_params(axis= 'x', labelsize=7, rotation=90)\n",
    "ax1.set_xlabel(\"Interaction Type\", fontsize=7)\n",
    "ax1.set_ylabel(\"Gene Count\", fontsize=7)\n",
    "# plot vertical line on ax\n",
    "ax1.set_ylim(0, 20000)\n",
    "plt.savefig(figdir + \"FigEv3D_type_specific_net_sizes.jpg\", dpi=300, bbox_inches=\"tight\")"
   ]
  },
  {
   "cell_type": "markdown",
   "metadata": {},
   "source": [
    "###  EV3E - Jaccard similarities of networks"
   ]
  },
  {
   "cell_type": "markdown",
   "metadata": {
    "ExecuteTime": {
     "end_time": "2024-09-18T21:12:17.354007Z",
     "start_time": "2024-09-18T21:12:17.351721Z"
    }
   },
   "source": [
    "Example analysis for calculating the Jaccard similarity of networks. "
   ]
  },
  {
   "cell_type": "code",
   "execution_count": 43,
   "metadata": {
    "ExecuteTime": {
     "end_time": "2024-11-03T22:41:39.505074Z",
     "start_time": "2024-11-03T22:41:37.908131Z"
    }
   },
   "outputs": [],
   "source": [
    "def make_pair_str(geneA, geneB):\n",
    "    return '_'.join([str(g) for g in sorted([int(geneA), int(geneB)])])\n",
    "        \n",
    "J = {}\n",
    "for i, pref1 in enumerate(stats.prefixes):\n",
    "    for pref2 in stats.prefixes[(i+1):]:\n",
    "        edges1 = pd.read_csv(stats.edge_files[pref1], sep='\\t')\n",
    "        edges1['Pair'] = edges1.apply(lambda x: make_pair_str(x.Entrez_A, x.Entrez_B), axis=1)\n",
    "        edges2 = pd.read_csv(stats.edge_files[pref2], sep='\\t')\n",
    "        edges2['Pair'] = edges2.apply(lambda x: make_pair_str(x.Entrez_A, x.Entrez_B), axis=1)\n",
    "        union = edges1.merge(edges2, on='Pair', how='outer')\n",
    "        intersect = edges1.merge(edges2, on='Pair', how='inner')\n",
    "        J[(pref1, pref2)] = len(intersect)/len(union)        \n",
    "        "
   ]
  },
  {
   "cell_type": "code",
   "execution_count": 44,
   "metadata": {
    "ExecuteTime": {
     "end_time": "2024-11-03T22:41:39.507832Z",
     "start_time": "2024-11-03T22:41:39.506059Z"
    }
   },
   "outputs": [
    {
     "name": "stdout",
     "output_type": "stream",
     "text": [
      "{('dip', 'pid2'): 0.029705554369231498, ('dip', 'wan'): 0.02932195283470071, ('pid2', 'wan'): 0.0056794541066822}\n"
     ]
    }
   ],
   "source": [
    "print(J)"
   ]
  },
  {
   "cell_type": "markdown",
   "metadata": {},
   "source": [
    "Visualize all pre-computed Jaccard Similarities"
   ]
  },
  {
   "cell_type": "code",
   "execution_count": 45,
   "metadata": {
    "ExecuteTime": {
     "end_time": "2024-11-03T22:41:39.514539Z",
     "start_time": "2024-11-03T22:41:39.508753Z"
    }
   },
   "outputs": [],
   "source": [
    "\n",
    "j_df = pd.read_csv(os.path.join(gitdir, 'StateOfTheInteractomes_Notebooks/Data/FigEV3E_Jaccard_mat.tsv'), sep='\\t', index_col=0)"
   ]
  },
  {
   "cell_type": "code",
   "execution_count": 46,
   "metadata": {
    "ExecuteTime": {
     "end_time": "2024-11-03T22:41:39.518247Z",
     "start_time": "2024-11-03T22:41:39.515411Z"
    }
   },
   "outputs": [],
   "source": [
    "all_mat = j_df.loc[:, ([x for x in j_df.columns if x in j_df.index.values])]"
   ]
  },
  {
   "cell_type": "code",
   "execution_count": 50,
   "metadata": {
    "ExecuteTime": {
     "end_time": "2024-11-03T22:42:50.453100Z",
     "start_time": "2024-11-03T22:42:49.932139Z"
    }
   },
   "outputs": [
    {
     "data": {
      "text/plain": [
       "<AxesSubplot:ylabel='type1'>"
      ]
     },
     "execution_count": 50,
     "metadata": {},
     "output_type": "execute_result"
    },
    {
     "data": {
      "image/png": "[encoded data removed]",
      "text/plain": [
       "<Figure size 432x288 with 2 Axes>"
      ]
     },
     "metadata": {
      "needs_background": "light"
     },
     "output_type": "display_data"
    }
   ],
   "source": [
    "cg = sns.clustermap(all_mat, cmap='RdPu', vmin=0, vmax=0.65, method='ward')\n",
    "plt.close()\n",
    "sns.heatmap(all_mat.iloc[cg.dendrogram_row.reordered_ind, cg.dendrogram_col.reordered_ind], cmap='magma_r', vmin=0, \n",
    "            vmax=1, square=True, cbar_kws={'shrink':0.5}, cbar=True)"
   ]
  },
  {
   "cell_type": "markdown",
   "metadata": {},
   "source": [
    "Plot with annotation bars"
   ]
  },
  {
   "cell_type": "code",
   "execution_count": 47,
   "metadata": {
    "ExecuteTime": {
     "end_time": "2024-11-03T22:41:39.522932Z",
     "start_time": "2024-11-03T22:41:39.519116Z"
    }
   },
   "outputs": [],
   "source": [
    "parents = j_df.loc[:, ('parent', 'height')].reset_index()"
   ]
  },
  {
   "cell_type": "code",
   "execution_count": 51,
   "metadata": {
    "ExecuteTime": {
     "end_time": "2024-11-03T22:42:56.628995Z",
     "start_time": "2024-11-03T22:42:55.879371Z"
    }
   },
   "outputs": [
    {
     "data": {
      "image/png": "[encoded data removed]",
      "text/plain": [
       "<Figure size 216x216 with 4 Axes>"
      ]
     },
     "metadata": {
      "needs_background": "light"
     },
     "output_type": "display_data"
    }
   ],
   "source": [
    "_, [[ax1, ax2], [ax3, ax4]] = plt.subplots(nrows=2, ncols=2, sharex=False, sharey=False, figsize=(3,3), \n",
    "                                           gridspec_kw={'wspace':0.1, 'hspace':0.1, 'height_ratios':[1,  0.05], \n",
    "                                                        'width_ratios':[0.05, 1]})\n",
    "\n",
    "sns.heatmap(all_mat.iloc[cg.dendrogram_row.reordered_ind, cg.dendrogram_col.reordered_ind], cmap='magma_r', vmin=0, \n",
    "            vmax=1, square=True, ax = ax2, cbar_kws={'shrink':0.5}, cbar=False)\n",
    "\n",
    "sns.barplot(parents.iloc[cg.dendrogram_row.reordered_ind], x ='height', y='type1', hue='parent', ax=ax1, orient='h', \n",
    "            saturation=1, palette=['#5e94c0','#d2a686' ], \n",
    "            hue_order = ['GeneMANIA', 'HumanNet'], width=1, legend=False)\n",
    "sns.barplot(parents.iloc[cg.dendrogram_row.reordered_ind], y ='height', x='type1', hue='parent', ax=ax4, orient='v', \n",
    "            saturation=1, palette=['#5e94c0','#d2a686' ], \n",
    "            hue_order = ['GeneMANIA', 'HumanNet'], width=1)\n",
    "ax2.set_xticks([])\n",
    "ax2.set_yticks([])\n",
    "ax1.set_xlim(0,1)\n",
    "ax1.set_xticks([])\n",
    "ax4.set_ylim(0,1)\n",
    "ax4.set_yticks([])\n",
    "_ = ax4.set_xticks([i for i in range(len(all_mat))], labels=[all_mat.index[x].split('_')[0] for x in cg.dendrogram_col.reordered_ind], rotation=90)\n",
    "_ = ax1.set_yticks([i for i in range(len(all_mat.columns))], labels=[all_mat.columns[x].split('_')[0] for x in cg.dendrogram_row.reordered_ind])\n",
    "for ax in [ax1, ax2, ax4, ax3]:\n",
    "    ax.set_xlabel('')\n",
    "    ax.set_ylabel('')\n",
    "\n",
    "for ax in [ax1, ax3, ax4]:\n",
    "    ax.spines['left'].set_visible(False)\n",
    "    ax.spines['top'].set_visible(False)\n",
    "    ax.spines['bottom'].set_visible(False)\n",
    "    ax.spines['right'].set_visible(False)\n",
    "\n",
    "ax2.spines['left'].set_visible(True)\n",
    "ax2.spines['top'].set_visible(True)\n",
    "ax2.spines['bottom'].set_visible(True)\n",
    "ax2.spines['right'].set_visible(True)\n",
    "\n",
    "ax3.set_xticks([])\n",
    "ax3.set_yticks([])\n",
    "plt.savefig(os.path.join(figdir, 'FigEV5E_Pair Jaccard_fixed_cbar.jpg'), dpi=300, bbox_inches='tight')"
   ]
  }
 ],
 "metadata": {
  "kernelspec": {
   "display_name": "Python [conda env:pcnet_py3]",
   "language": "python",
   "name": "conda-env-pcnet_py3-py"
  },
  "language_info": {
   "codemirror_mode": {
    "name": "ipython",
    "version": 3
   },
   "file_extension": ".py",
   "mimetype": "text/x-python",
   "name": "python",
   "nbconvert_exporter": "python",
   "pygments_lexer": "ipython3",
   "version": "3.10.0"
  },
  "toc": {
   "base_numbering": 1,
   "nav_menu": {},
   "number_sections": true,
   "sideBar": true,
   "skip_h1_title": false,
   "title_cell": "Table of Contents",
   "title_sidebar": "Contents",
   "toc_cell": false,
   "toc_position": {
    "height": "calc(100% - 180px)",
    "left": "10px",
    "top": "150px",
    "width": "341.445px"
   },
   "toc_section_display": true,
   "toc_window_display": true
  },
  "varInspector": {
   "cols": {
    "lenName": 16,
    "lenType": 16,
    "lenVar": 40
   },
   "kernels_config": {
    "python": {
     "delete_cmd_postfix": "",
     "delete_cmd_prefix": "del ",
     "library": "var_list.py",
     "varRefreshCmd": "print(var_dic_list())"
    },
    "r": {
     "delete_cmd_postfix": ") ",
     "delete_cmd_prefix": "rm(",
     "library": "var_list.r",
     "varRefreshCmd": "cat(var_dic_list()) "
    }
   },
   "types_to_exclude": [
    "module",
    "function",
    "builtin_function_or_method",
    "instance",
    "_Feature"
   ],
   "window_display": false
  }
 },
 "nbformat": 4,
 "nbformat_minor": 4
}
