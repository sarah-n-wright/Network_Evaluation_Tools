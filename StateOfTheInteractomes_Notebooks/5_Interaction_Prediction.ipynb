{
 "cells": [
  {
   "cell_type": "markdown",
   "metadata": {},
   "source": [
    "# Interaction Prediction\n",
    "\n",
    "*State of the Interactomes: an evaluation of molecular networks for generating biological insights.* Wright, SN et al. [https://doi.org/10.1101/2024.04.26.587073]  \n",
    "This notebook contains code and results related to:\n",
    "* Figure 5A-G\n",
    "\n",
    "**Note: due to the size of network data sets utilized in this study, this notebook draws on summarized results rather than re-evaluating all networks directly.**\n"
   ]
  },
  {
   "cell_type": "code",
   "execution_count": 1,
   "metadata": {},
   "outputs": [],
   "source": [
    "import pandas as pd\n",
    "import seaborn as sns\n",
    "import matplotlib.pyplot as plt\n",
    "from neteval.network_statistics import NetworkStats, load_network_names\n",
    "from tqdm import tqdm\n",
    "import os"
   ]
  },
  {
   "cell_type": "code",
   "execution_count": 2,
   "metadata": {},
   "outputs": [],
   "source": [
    "plt.rcParams['svg.fonttype'] = 'none'\n",
    "plt.rcParams.update({'font.size': 7})\n",
    "plt.rcParams['axes.linewidth'] = 0.5\n",
    "plt.rcParams['svg.fonttype'] = 'none'\n",
    "plt.rcParams.update({'font.size': 7})\n",
    "plt.rcParams['axes.linewidth'] = 0.5\n",
    "plt.rcParams['hatch.linewidth'] = 0.5\n",
    "plt.rcParams['xtick.major.width'] = 0.4\n",
    "plt.rcParams['ytick.major.width'] = 0.4\n",
    "plt.rcParams['xtick.minor.width'] = 0.3\n",
    "plt.rcParams['ytick.minor.width'] = 0.3\n",
    "plt.rcParams['legend.frameon'] = False\n",
    "plt.rcParams['xtick.major.size'] = 3\n",
    "plt.rcParams['ytick.major.size'] = 3\n",
    "plt.rcParams['xtick.minor.size'] = 2\n",
    "plt.rcParams['ytick.minor.size'] = 2\n",
    "plt.rcParams['xtick.major.pad'] = 1\n",
    "plt.rcParams['ytick.major.pad'] = 1\n",
    "plt.rcParams['axes.labelpad'] = 1\n",
    "plt.rcParams['patch.linewidth'] = 0.25\n"
   ]
  },
  {
   "cell_type": "code",
   "execution_count": 25,
   "metadata": {},
   "outputs": [],
   "source": [
    "gitdir = os.path.expanduser('~/Git/Network_Evaluation_Tools/')\n",
    "figdir = os.path.join(gitdir, 'StateOfTheInteractomes_Notebooks/Figures/')\n",
    "evaldir = os.path.join(gitdir, 'Data/example_outputs/')\n",
    "datadir = os.path.join(gitdir, 'Data/')\n",
    "network_names = load_network_names(os.path.join(gitdir, 'StateOfTheInteractomes_Notebooks/Data/network_names_final.txt'))\n",
    "example_names = load_network_names(os.path.join(gitdir, 'Data/example_network_names.txt'))"
   ]
  },
  {
   "cell_type": "markdown",
   "metadata": {},
   "source": [
    "## Example Analysis\n",
    "\n",
    "With DIP, PID2, and Wan"
   ]
  },
  {
   "cell_type": "code",
   "execution_count": 4,
   "metadata": {},
   "outputs": [],
   "source": [
    "l3_dir = os.path.join(evaldir, 'L3/')"
   ]
  },
  {
   "cell_type": "code",
   "execution_count": 5,
   "metadata": {},
   "outputs": [],
   "source": [
    "with open(os.path.join(datadir, 'example_prefix_file.txt')) as f:\n",
    "    prefixes = f.read().splitlines()"
   ]
  },
  {
   "cell_type": "code",
   "execution_count": 28,
   "metadata": {},
   "outputs": [
    {
     "name": "stdout",
     "output_type": "stream",
     "text": [
      "Succeeded: 90\n",
      "Failed: 0\n",
      "SELF: 30\n",
      "CORUM 30\n",
      "PANTHER 30\n"
     ]
    }
   ],
   "source": [
    "cv_results = []\n",
    "corum_results = []\n",
    "panther_results = []\n",
    "missing = []\n",
    "for prefix in prefixes:\n",
    "    for fold in range(1,11):\n",
    "        try:\n",
    "            df = pd.read_csv(l3_dir+prefix+'.fold' + str(fold)+\"_L3_results.tsv\", sep=\"\\t\")\n",
    "            df['network'] = prefix\n",
    "            df['fold'] = fold\n",
    "            cv_results.append(df)\n",
    "    \n",
    "        except FileNotFoundError:\n",
    "            missing.append([prefix, fold, 'cv'])\n",
    "        try:\n",
    "            df = pd.read_csv(l3_dir+prefix+'.fold' + str(fold)+\"_L3_corum_results.tsv\", sep=\"\\t\")\n",
    "            \n",
    "            df['network'] = prefix\n",
    "            df['fold'] = fold\n",
    "            corum_results.append(df)\n",
    "        except FileNotFoundError:\n",
    "            missing.append([prefix, fold, 'corun'])\n",
    "\n",
    "        try:\n",
    "            df = pd.read_csv(l3_dir+prefix+'.fold' + str(fold)+\"_L3_panther_results.tsv\", sep=\"\\t\")\n",
    "            df['network'] = prefix\n",
    "            df['fold'] = fold\n",
    "            panther_results.append(df)\n",
    "        except FileNotFoundError:\n",
    "            missing.append([prefix, fold, 'panther'])\n",
    "            \n",
    "print('Succeeded: {}'.format(len(cv_results)+len(corum_results)+len(panther_results)))\n",
    "print('Failed: {}'.format(len(missing)))\n",
    "print('SELF:',len(cv_results) )\n",
    "print('CORUM',len(corum_results))\n",
    "print('PANTHER',len(panther_results))"
   ]
  },
  {
   "cell_type": "code",
   "execution_count": 49,
   "metadata": {},
   "outputs": [],
   "source": [
    "def create_predictions_df(results_list, names, group=None):\n",
    "    results_df = pd.concat(results_list).reset_index(drop=True)\n",
    "    results_df['network'] = results_df.network.map(names)\n",
    "    results_df['pAUPRC_ratio'] = results_df['AUPRC'] / results_df['baseAUPRC']\n",
    "    if group is not None:\n",
    "        results_df['Group'] = group\n",
    "    return results_df"
   ]
  },
  {
   "cell_type": "code",
   "execution_count": 50,
   "metadata": {},
   "outputs": [],
   "source": [
    "cv_l3_df = create_predictions_df(cv_results, example_names, 'CV')\n",
    "corum_l3_df = create_predictions_df(corum_results, example_names, 'CORUM')\n",
    "panther_l3_df = create_predictions_df(panther_results, example_names, 'PANTHER')"
   ]
  },
  {
   "cell_type": "code",
   "execution_count": 40,
   "metadata": {},
   "outputs": [],
   "source": [
    "def compare_prediction_methods(l3_df, mps_df, metric, partial, net_order=None, plot_type='bar', ax=None, top_n=None, exclude_nets=None, palette=None,):\n",
    "    l3_df.rename(columns={'baseAUPRC': 'baselineAUPRC'}, inplace=True)\n",
    "    mps_df.rename(columns={'baseAUPRC': 'baselineAUPRC'}, inplace=True)\n",
    "    l3_df['method'] = 'L3'\n",
    "    mps_df['method'] = 'MPS'\n",
    "    plot_df = pd.concat([l3_df, mps_df])\n",
    "    plot_df = plot_df[plot_df.partial==partial]\n",
    "    if exclude_nets is not None:\n",
    "        plot_df = plot_df[~plot_df.network.isin(exclude_nets)]\n",
    "    if net_order is None:\n",
    "        net_order = plot_df.network.unique()[::-1]\n",
    "    if type(net_order) == str:\n",
    "        if net_order in plot_df.columns:\n",
    "            net_order = plot_df.groupby('network')[net_order].mean().sort_values(ascending=False).index\n",
    "    if ax is None:\n",
    "        _, ax = plt.subplots(nrows=1, ncols=1, figsize=(3, 8))\n",
    "    \n",
    "    if top_n is not None:\n",
    "        plot_df = plot_df[plot_df['network'].isin(net_order[:top_n])]\n",
    "        net_order=net_order[:top_n]\n",
    "    if plot_type=='strip':\n",
    "        plot_df = plot_df.reset_index(drop=True)\n",
    "        sns.stripplot(data = plot_df[plot_df.partial==partial], y='network', x=metric, ax=ax, hue='method', dodge=False, s=3, \n",
    "                      order=net_order, jitter=False, edgecolor='black', linewidth=0.25, alpha=0.5,  hue_order=['MPS', 'L3'], palette=palette)\n",
    "        sns.pointplot(data = plot_df[plot_df.partial==partial], y='network', x=metric, ax=ax, hue='method', dodge=False,\n",
    "                      order=net_order, linestyle='none', errorbar=None, marker='|', markersize=6,  hue_order=['MPS', 'L3'],palette=palette)\n",
    "        # add horizontal lines between y ticks\n",
    "        for i in range(len(net_order)):\n",
    "            ax.hlines(i+0.5, 0, 1, color='grey', linewidth=0.25)\n",
    "    elif plot_type == 'bar':\n",
    "        plot_df = plot_df.reset_index(drop=True)\n",
    "        sns.barplot(data=plot_df, y='network', x=metric, ax=ax, hue='method', order=net_order, hue_order=['MPS', 'L3'], alpha=0.6, errorbar=None, edgecolor='black', \n",
    "                    linewidth=0.25, palette=palette, saturation=1)\n",
    "        if metric=='AUPRC':\n",
    "            sns.barplot(data=plot_df, y='network', x='baselineAUPRC', ax=ax, hue='method', palette=['grey', 'grey'], order=net_order, alpha=0.5)\n",
    "        ax.set_xscale('log')\n",
    "    #plot_metric(plot_df[plot_df.partial==partial], metric=metric, net_order=metric,hue='method', ax=ax1, dodge=True)\n",
    "    #plot_metric(df2[df2.partial==partial], metric=metric, net_order=metric, ax=ax2)\n",
    "    return net_order"
   ]
  },
  {
   "cell_type": "code",
   "execution_count": 48,
   "metadata": {},
   "outputs": [
    {
     "data": {
      "text/html": [
       "<div>\n",
       "<style scoped>\n",
       "    .dataframe tbody tr th:only-of-type {\n",
       "        vertical-align: middle;\n",
       "    }\n",
       "\n",
       "    .dataframe tbody tr th {\n",
       "        vertical-align: top;\n",
       "    }\n",
       "\n",
       "    .dataframe thead th {\n",
       "        text-align: right;\n",
       "    }\n",
       "</style>\n",
       "<table border=\"1\" class=\"dataframe\">\n",
       "  <thead>\n",
       "    <tr style=\"text-align: right;\">\n",
       "      <th></th>\n",
       "      <th>partial</th>\n",
       "      <th>baselineAUPRC</th>\n",
       "      <th>AUPRC</th>\n",
       "      <th>P@k</th>\n",
       "      <th>network</th>\n",
       "      <th>fold</th>\n",
       "      <th>pAUPRC_ratio</th>\n",
       "      <th>method</th>\n",
       "    </tr>\n",
       "  </thead>\n",
       "  <tbody>\n",
       "    <tr>\n",
       "      <th>0</th>\n",
       "      <td>p@500</td>\n",
       "      <td>0.000024</td>\n",
       "      <td>0.012407</td>\n",
       "      <td>0.158000</td>\n",
       "      <td>DIP</td>\n",
       "      <td>1</td>\n",
       "      <td>522.571670</td>\n",
       "      <td>L3</td>\n",
       "    </tr>\n",
       "    <tr>\n",
       "      <th>1</th>\n",
       "      <td>p@test</td>\n",
       "      <td>0.000044</td>\n",
       "      <td>0.022217</td>\n",
       "      <td>0.144118</td>\n",
       "      <td>DIP</td>\n",
       "      <td>1</td>\n",
       "      <td>502.874462</td>\n",
       "      <td>L3</td>\n",
       "    </tr>\n",
       "    <tr>\n",
       "      <th>2</th>\n",
       "      <td>p@1%</td>\n",
       "      <td>0.000005</td>\n",
       "      <td>0.002288</td>\n",
       "      <td>0.173469</td>\n",
       "      <td>DIP</td>\n",
       "      <td>1</td>\n",
       "      <td>447.876650</td>\n",
       "      <td>L3</td>\n",
       "    </tr>\n",
       "    <tr>\n",
       "      <th>3</th>\n",
       "      <td>p@500</td>\n",
       "      <td>0.000028</td>\n",
       "      <td>0.018780</td>\n",
       "      <td>0.182000</td>\n",
       "      <td>DIP</td>\n",
       "      <td>2</td>\n",
       "      <td>673.420698</td>\n",
       "      <td>L3</td>\n",
       "    </tr>\n",
       "    <tr>\n",
       "      <th>4</th>\n",
       "      <td>p@test</td>\n",
       "      <td>0.000049</td>\n",
       "      <td>0.030625</td>\n",
       "      <td>0.157380</td>\n",
       "      <td>DIP</td>\n",
       "      <td>2</td>\n",
       "      <td>620.692348</td>\n",
       "      <td>L3</td>\n",
       "    </tr>\n",
       "    <tr>\n",
       "      <th>...</th>\n",
       "      <td>...</td>\n",
       "      <td>...</td>\n",
       "      <td>...</td>\n",
       "      <td>...</td>\n",
       "      <td>...</td>\n",
       "      <td>...</td>\n",
       "      <td>...</td>\n",
       "      <td>...</td>\n",
       "    </tr>\n",
       "    <tr>\n",
       "      <th>85</th>\n",
       "      <td>p@test</td>\n",
       "      <td>0.000006</td>\n",
       "      <td>0.001552</td>\n",
       "      <td>0.019765</td>\n",
       "      <td>Wan</td>\n",
       "      <td>9</td>\n",
       "      <td>242.647154</td>\n",
       "      <td>L3</td>\n",
       "    </tr>\n",
       "    <tr>\n",
       "      <th>86</th>\n",
       "      <td>p@1%</td>\n",
       "      <td>0.000003</td>\n",
       "      <td>0.001077</td>\n",
       "      <td>0.116438</td>\n",
       "      <td>Wan</td>\n",
       "      <td>9</td>\n",
       "      <td>316.804199</td>\n",
       "      <td>L3</td>\n",
       "    </tr>\n",
       "    <tr>\n",
       "      <th>87</th>\n",
       "      <td>p@500</td>\n",
       "      <td>0.000005</td>\n",
       "      <td>0.001441</td>\n",
       "      <td>0.046000</td>\n",
       "      <td>Wan</td>\n",
       "      <td>10</td>\n",
       "      <td>316.062913</td>\n",
       "      <td>L3</td>\n",
       "    </tr>\n",
       "    <tr>\n",
       "      <th>88</th>\n",
       "      <td>p@test</td>\n",
       "      <td>0.000007</td>\n",
       "      <td>0.001672</td>\n",
       "      <td>0.021645</td>\n",
       "      <td>Wan</td>\n",
       "      <td>10</td>\n",
       "      <td>241.103737</td>\n",
       "      <td>L3</td>\n",
       "    </tr>\n",
       "    <tr>\n",
       "      <th>89</th>\n",
       "      <td>p@1%</td>\n",
       "      <td>0.000003</td>\n",
       "      <td>0.001079</td>\n",
       "      <td>0.095238</td>\n",
       "      <td>Wan</td>\n",
       "      <td>10</td>\n",
       "      <td>388.784277</td>\n",
       "      <td>L3</td>\n",
       "    </tr>\n",
       "  </tbody>\n",
       "</table>\n",
       "<p>90 rows × 8 columns</p>\n",
       "</div>"
      ],
      "text/plain": [
       "   partial  baselineAUPRC     AUPRC       P@k network  fold  pAUPRC_ratio  \\\n",
       "0    p@500       0.000024  0.012407  0.158000     DIP     1    522.571670   \n",
       "1   p@test       0.000044  0.022217  0.144118     DIP     1    502.874462   \n",
       "2     p@1%       0.000005  0.002288  0.173469     DIP     1    447.876650   \n",
       "3    p@500       0.000028  0.018780  0.182000     DIP     2    673.420698   \n",
       "4   p@test       0.000049  0.030625  0.157380     DIP     2    620.692348   \n",
       "..     ...            ...       ...       ...     ...   ...           ...   \n",
       "85  p@test       0.000006  0.001552  0.019765     Wan     9    242.647154   \n",
       "86    p@1%       0.000003  0.001077  0.116438     Wan     9    316.804199   \n",
       "87   p@500       0.000005  0.001441  0.046000     Wan    10    316.062913   \n",
       "88  p@test       0.000007  0.001672  0.021645     Wan    10    241.103737   \n",
       "89    p@1%       0.000003  0.001079  0.095238     Wan    10    388.784277   \n",
       "\n",
       "   method  \n",
       "0      L3  \n",
       "1      L3  \n",
       "2      L3  \n",
       "3      L3  \n",
       "4      L3  \n",
       "..    ...  \n",
       "85     L3  \n",
       "86     L3  \n",
       "87     L3  \n",
       "88     L3  \n",
       "89     L3  \n",
       "\n",
       "[90 rows x 8 columns]"
      ]
     },
     "execution_count": 48,
     "metadata": {},
     "output_type": "execute_result"
    }
   ],
   "source": [
    "cv_l3_df"
   ]
  },
  {
   "cell_type": "code",
   "execution_count": 77,
   "metadata": {},
   "outputs": [
    {
     "data": {
      "text/plain": [
       "<AxesSubplot:xlabel='P@k', ylabel='network'>"
      ]
     },
     "execution_count": 77,
     "metadata": {},
     "output_type": "execute_result"
    },
    {
     "data": {
      "image/png": "[encoded data removed]",
      "text/plain": [
       "<Figure size 432x288 with 1 Axes>"
      ]
     },
     "metadata": {
      "needs_background": "light"
     },
     "output_type": "display_data"
    }
   ],
   "source": [
    "plot_df  = pd.concat([cv_l3_df, corum_l3_df, panther_l3_df])\n",
    "sns.stripplot(plot_df[plot_df.partial=='p@test'], x = 'P@k', y='network', hue='Group', dodge=0.5, s=10, jitter=False, edgecolor='black', linewidth=0.5, alpha=0.7, \n",
    "                hue_order=['CV', 'CORUM', 'PANTHER'], palette='Set2', zorder=1)\n",
    "sns.pointplot(data = plot_df[plot_df.partial=='p@test'], y='network', x='P@k', hue='Group', dodge=0.53, estimator='median',\n",
    "                linestyle='none', errorbar=None, marker='|', markersize=20,  hue_order=['CV', 'CORUM', 'PANTHER'],palette=['black', 'black', 'black'], zorder=3, legend=False)"
   ]
  },
  {
   "cell_type": "markdown",
   "metadata": {},
   "source": [
    "## Figures 5A-C - Interaction Prediction Precision"
   ]
  },
  {
   "cell_type": "markdown",
   "metadata": {},
   "source": [
    "Load the prediction results from Supplemental Table 4"
   ]
  },
  {
   "cell_type": "code",
   "execution_count": 79,
   "metadata": {},
   "outputs": [],
   "source": [
    "pred_results = pd.read_csv(os.path.join(gitdir, 'StateOfTheInteractomes_Notebooks/Data/TableS4.txt'), sep='\\t')"
   ]
  },
  {
   "cell_type": "code",
   "execution_count": 88,
   "metadata": {},
   "outputs": [],
   "source": [
    "pred_results.columns = ['network', 'fold', 'method', 'Test Set', 'P@k']"
   ]
  },
  {
   "cell_type": "code",
   "execution_count": 107,
   "metadata": {},
   "outputs": [],
   "source": [
    "def compare_prediction_methods(plot_df, metric, test_set, net_order=None, plot_type='strip', ax=None, top_n=None, exclude_nets=None, palette=None,):\n",
    "    #l3_df.rename(columns={'baseAUPRC': 'baselineAUPRC'}, inplace=True)\n",
    "    #mps_df.rename(columns={'baseAUPRC': 'baselineAUPRC'}, inplace=True)\n",
    "    #l3_df['method'] = 'L3'\n",
    "    #mps_df['method'] = 'MPS'\n",
    "    plot_df = plot_df[plot_df['Test Set']==test_set]\n",
    "    if exclude_nets is not None:\n",
    "        plot_df = plot_df[~plot_df.network.isin(exclude_nets)]\n",
    "    if net_order is None:\n",
    "        net_order = plot_df.network.unique()[::-1]\n",
    "    if type(net_order) == str:\n",
    "        if net_order in plot_df.columns:\n",
    "            net_order = plot_df.groupby('network')[net_order].mean().sort_values(ascending=False).index\n",
    "    if ax is None:\n",
    "        _, ax = plt.subplots(nrows=1, ncols=1, figsize=(3, 8))\n",
    "    \n",
    "    if top_n is not None:\n",
    "        plot_df = plot_df[plot_df['network'].isin(net_order[:top_n])]\n",
    "        net_order=net_order[:top_n]\n",
    "    if plot_type=='strip':\n",
    "        plot_df = plot_df.reset_index(drop=True)\n",
    "        sns.stripplot(data = plot_df, y='network', x=metric, ax=ax, hue='method', dodge=False, s=3, \n",
    "                      order=net_order, jitter=False, edgecolor='black', linewidth=0.25, alpha=0.5,  hue_order=['MPS', 'L3'], palette=palette)\n",
    "        sns.pointplot(data = plot_df, y='network', x=metric, ax=ax, hue='method', dodge=False,\n",
    "                      order=net_order, linestyle='none', errorbar=None, marker='|', markersize=6,  hue_order=['MPS', 'L3'],palette=palette, legend=False)\n",
    "        # add horizontal lines between y ticks\n",
    "        for i in range(len(net_order)):\n",
    "            ax.hlines(i+0.5, 0, 1, color='grey', linewidth=0.25)\n",
    "    elif plot_type == 'bar':\n",
    "        plot_df = plot_df.reset_index(drop=True)\n",
    "        sns.barplot(data=plot_df, y='network', x=metric, ax=ax, hue='method', order=net_order, hue_order=['MPS', 'L3'], alpha=0.6, errorbar=None, edgecolor='black', \n",
    "                    linewidth=0.25, palette=palette, saturation=1)\n",
    "        if metric=='AUPRC':\n",
    "            sns.barplot(data=plot_df, y='network', x='baselineAUPRC', ax=ax, hue='method', palette=['grey', 'grey'], order=net_order, alpha=0.5)\n",
    "        ax.set_xscale('log')\n",
    "    #plot_metric(plot_df[plot_df.partial==partial], metric=metric, net_order=metric,hue='method', ax=ax1, dodge=True)\n",
    "    #plot_metric(df2[df2.partial==partial], metric=metric, net_order=metric, ax=ax2)\n",
    "    return net_order"
   ]
  },
  {
   "cell_type": "code",
   "execution_count": null,
   "metadata": {},
   "outputs": [],
   "source": [
    "_, [ax1, ax2, ax3] = plt.subplots(ncols=3, nrows=1, figsize=(15, 10), gridspec_kw={'wspace': 0.5})\n",
    "compare_prediction_methods(pred_results, 'P@k', test_set='Held-out', net_order='P@k', ax=ax1)\n",
    "compare_prediction_methods(pred_results, 'P@k', test_set='CORUM', net_order='P@k', ax=ax2)\n",
    "compare_prediction_methods(pred_results, 'P@k', test_set='PANTHER', net_order='P@k', ax=ax3)\n",
    "plt.savefig(os.path.join(figdir, 'Fig5ABC_prediciton_results.jpg'), dpi=300, bbox_inches='tight')"
   ]
  },
  {
   "cell_type": "markdown",
   "metadata": {},
   "source": [
    "## Figure 5D - Network Coverage of Predicted Interactions"
   ]
  },
  {
   "cell_type": "code",
   "execution_count": 118,
   "metadata": {},
   "outputs": [],
   "source": [
    "coverage_df = pd.read_csv(os.path.join(gitdir, 'StateOfTheInteractomes_Notebooks/Data/Fig5D_interaction_coverage.csv'))"
   ]
  },
  {
   "cell_type": "code",
   "execution_count": 128,
   "metadata": {},
   "outputs": [],
   "source": [
    "def plot_coverage_stats(coverage_df, ax=None, order=None, **kwargs):\n",
    "    coverage_stats =coverage_df.drop_duplicates(subset=['network', 'fold']).dropna().set_index('Name')\n",
    "    stack_data = coverage_stats.groupby(['Name']).mean().loc[:, ('0-1', '2-5', '6-10', '11-20', '21+')]\n",
    "    return_order=False\n",
    "    if order is None:\n",
    "        order=list(stack_data.sort_values(by=['21+', '11-20', '6-10', '2-5', '0-1'], ascending=False).index)\n",
    "        return_order=True\n",
    "    if ax is None:\n",
    "        _ = plt.figure(figsize=(10, 2))\n",
    "        ax= plt.gca()\n",
    "    stack_data.loc[order].plot(kind='bar', stacked=True, edgecolor='black', ax=ax, color=['#b8de29', '#73d055', '#29af7f', '#238a8d', '#33638d'][::-1], **kwargs)\n",
    "    if return_order:\n",
    "        return order"
   ]
  },
  {
   "cell_type": "code",
   "execution_count": 129,
   "metadata": {},
   "outputs": [
    {
     "data": {
      "image/png": "[encoded data removed]",
      "text/plain": [
       "<Figure size 720x144 with 1 Axes>"
      ]
     },
     "metadata": {
      "needs_background": "light"
     },
     "output_type": "display_data"
    }
   ],
   "source": [
    "_ = plot_coverage_stats(coverage_df[coverage_df.method=='L3'])"
   ]
  },
  {
   "cell_type": "code",
   "execution_count": 125,
   "metadata": {},
   "outputs": [
    {
     "data": {
      "image/png": "[encoded data removed]",
      "text/plain": [
       "<Figure size 720x144 with 1 Axes>"
      ]
     },
     "metadata": {
      "needs_background": "light"
     },
     "output_type": "display_data"
    }
   ],
   "source": [
    "_ = plot_coverage_stats(coverage_df[coverage_df.method=='MPS'])"
   ]
  },
  {
   "cell_type": "markdown",
   "metadata": {},
   "source": [
    "## Figure 5E - Network Coverage vs AF ipTM"
   ]
  },
  {
   "cell_type": "code",
   "execution_count": null,
   "metadata": {},
   "outputs": [],
   "source": []
  },
  {
   "cell_type": "markdown",
   "metadata": {},
   "source": [
    "## Figure 5F - ipTM of sample network interactions"
   ]
  },
  {
   "cell_type": "code",
   "execution_count": null,
   "metadata": {},
   "outputs": [],
   "source": []
  },
  {
   "cell_type": "markdown",
   "metadata": {},
   "source": [
    "## Figure 5G - ipTM of potentially novel predicted interactions"
   ]
  },
  {
   "cell_type": "code",
   "execution_count": null,
   "metadata": {},
   "outputs": [],
   "source": []
  }
 ],
 "metadata": {
  "language_info": {
   "name": "python"
  }
 },
 "nbformat": 4,
 "nbformat_minor": 2
}
