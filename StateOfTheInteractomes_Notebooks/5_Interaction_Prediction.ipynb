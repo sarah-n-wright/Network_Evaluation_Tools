{
 "cells": [
  {
   "cell_type": "markdown",
   "metadata": {},
   "source": [
    "# Interaction Prediction\n",
    "\n",
    "*State of the Interactomes: an evaluation of molecular networks for generating biological insights.* Wright, SN et al. [https://doi.org/10.1101/2024.04.26.587073]  \n",
    "This notebook contains code and results related to:\n",
    "* Figure 5A-G\n",
    "\n",
    "**Note: due to the size of network data sets utilized in this study, this notebook draws on summarized results rather than re-evaluating all networks directly.**\n"
   ]
  },
  {
   "cell_type": "code",
   "execution_count": 1,
   "metadata": {},
   "outputs": [],
   "source": [
    "import pandas as pd\n",
    "import seaborn as sns\n",
    "import matplotlib.pyplot as plt\n",
    "from neteval.network_statistics import NetworkStats, load_network_names\n",
    "from tqdm import tqdm\n",
    "import os\n",
    "from scipy.stats import mannwhitneyu\n",
    "from statsmodels.stats.multitest import fdrcorrection"
   ]
  },
  {
   "cell_type": "code",
   "execution_count": 2,
   "metadata": {},
   "outputs": [],
   "source": [
    "plt.rcParams['svg.fonttype'] = 'none'\n",
    "plt.rcParams.update({'font.size': 7})\n",
    "plt.rcParams['axes.linewidth'] = 0.5\n",
    "plt.rcParams['svg.fonttype'] = 'none'\n",
    "plt.rcParams.update({'font.size': 7})\n",
    "plt.rcParams['axes.linewidth'] = 0.5\n",
    "plt.rcParams['hatch.linewidth'] = 0.5\n",
    "plt.rcParams['xtick.major.width'] = 0.4\n",
    "plt.rcParams['ytick.major.width'] = 0.4\n",
    "plt.rcParams['xtick.minor.width'] = 0.3\n",
    "plt.rcParams['ytick.minor.width'] = 0.3\n",
    "plt.rcParams['legend.frameon'] = False\n",
    "plt.rcParams['xtick.major.size'] = 3\n",
    "plt.rcParams['ytick.major.size'] = 3\n",
    "plt.rcParams['xtick.minor.size'] = 2\n",
    "plt.rcParams['ytick.minor.size'] = 2\n",
    "plt.rcParams['xtick.major.pad'] = 1\n",
    "plt.rcParams['ytick.major.pad'] = 1\n",
    "plt.rcParams['axes.labelpad'] = 1\n",
    "plt.rcParams['patch.linewidth'] = 0.25\n"
   ]
  },
  {
   "cell_type": "code",
   "execution_count": 3,
   "metadata": {},
   "outputs": [],
   "source": [
    "gitdir = os.path.expanduser('~/Git/Network_Evaluation_Tools/')\n",
    "figdir = os.path.join(gitdir, 'StateOfTheInteractomes_Notebooks/Figures/')\n",
    "evaldir = os.path.join(gitdir, 'Data/example_outputs/')\n",
    "datadir = os.path.join(gitdir, 'Data/')\n",
    "network_names = load_network_names(os.path.join(gitdir, 'StateOfTheInteractomes_Notebooks/Data/network_names_final.txt'))\n",
    "example_names = load_network_names(os.path.join(gitdir, 'Data/example_network_names.txt'))"
   ]
  },
  {
   "cell_type": "markdown",
   "metadata": {},
   "source": [
    "## Example Analysis\n",
    "\n",
    "With DIP, PID2, and Wan"
   ]
  },
  {
   "cell_type": "code",
   "execution_count": 4,
   "metadata": {},
   "outputs": [],
   "source": [
    "l3_dir = os.path.join(evaldir, 'L3/')"
   ]
  },
  {
   "cell_type": "code",
   "execution_count": 5,
   "metadata": {},
   "outputs": [],
   "source": [
    "with open(os.path.join(datadir, 'example_prefix_file.txt')) as f:\n",
    "    prefixes = f.read().splitlines()"
   ]
  },
  {
   "cell_type": "code",
   "execution_count": 6,
   "metadata": {},
   "outputs": [
    {
     "name": "stdout",
     "output_type": "stream",
     "text": [
      "Succeeded: 90\n",
      "Failed: 0\n",
      "SELF: 30\n",
      "CORUM 30\n",
      "PANTHER 30\n"
     ]
    }
   ],
   "source": [
    "cv_results = []\n",
    "corum_results = []\n",
    "panther_results = []\n",
    "missing = []\n",
    "for prefix in prefixes:\n",
    "    for fold in range(1,11):\n",
    "        try:\n",
    "            df = pd.read_csv(l3_dir+prefix+'.fold' + str(fold)+\"_L3_results.tsv\", sep=\"\\t\")\n",
    "            df['network'] = prefix\n",
    "            df['fold'] = fold\n",
    "            cv_results.append(df)\n",
    "    \n",
    "        except FileNotFoundError:\n",
    "            missing.append([prefix, fold, 'cv'])\n",
    "        try:\n",
    "            df = pd.read_csv(l3_dir+prefix+'.fold' + str(fold)+\"_L3_corum_results.tsv\", sep=\"\\t\")\n",
    "            \n",
    "            df['network'] = prefix\n",
    "            df['fold'] = fold\n",
    "            corum_results.append(df)\n",
    "        except FileNotFoundError:\n",
    "            missing.append([prefix, fold, 'corun'])\n",
    "\n",
    "        try:\n",
    "            df = pd.read_csv(l3_dir+prefix+'.fold' + str(fold)+\"_L3_panther_results.tsv\", sep=\"\\t\")\n",
    "            df['network'] = prefix\n",
    "            df['fold'] = fold\n",
    "            panther_results.append(df)\n",
    "        except FileNotFoundError:\n",
    "            missing.append([prefix, fold, 'panther'])\n",
    "            \n",
    "print('Succeeded: {}'.format(len(cv_results)+len(corum_results)+len(panther_results)))\n",
    "print('Failed: {}'.format(len(missing)))\n",
    "print('SELF:',len(cv_results) )\n",
    "print('CORUM',len(corum_results))\n",
    "print('PANTHER',len(panther_results))"
   ]
  },
  {
   "cell_type": "code",
   "execution_count": 7,
   "metadata": {},
   "outputs": [],
   "source": [
    "def create_predictions_df(results_list, names, group=None):\n",
    "    results_df = pd.concat(results_list).reset_index(drop=True)\n",
    "    results_df['network'] = results_df.network.map(names)\n",
    "    results_df['pAUPRC_ratio'] = results_df['AUPRC'] / results_df['baseAUPRC']\n",
    "    if group is not None:\n",
    "        results_df['Group'] = group\n",
    "    return results_df"
   ]
  },
  {
   "cell_type": "code",
   "execution_count": 8,
   "metadata": {},
   "outputs": [],
   "source": [
    "cv_l3_df = create_predictions_df(cv_results, example_names, 'CV')\n",
    "corum_l3_df = create_predictions_df(corum_results, example_names, 'CORUM')\n",
    "panther_l3_df = create_predictions_df(panther_results, example_names, 'PANTHER')"
   ]
  },
  {
   "cell_type": "code",
   "execution_count": 9,
   "metadata": {},
   "outputs": [],
   "source": [
    "def compare_prediction_methods(l3_df, mps_df, metric, partial, net_order=None, plot_type='bar', ax=None, top_n=None, exclude_nets=None, palette=None,):\n",
    "    l3_df.rename(columns={'baseAUPRC': 'baselineAUPRC'}, inplace=True)\n",
    "    mps_df.rename(columns={'baseAUPRC': 'baselineAUPRC'}, inplace=True)\n",
    "    l3_df['method'] = 'L3'\n",
    "    mps_df['method'] = 'MPS'\n",
    "    plot_df = pd.concat([l3_df, mps_df])\n",
    "    plot_df = plot_df[plot_df.partial==partial]\n",
    "    if exclude_nets is not None:\n",
    "        plot_df = plot_df[~plot_df.network.isin(exclude_nets)]\n",
    "    if net_order is None:\n",
    "        net_order = plot_df.network.unique()[::-1]\n",
    "    if type(net_order) == str:\n",
    "        if net_order in plot_df.columns:\n",
    "            net_order = plot_df.groupby('network')[net_order].mean().sort_values(ascending=False).index\n",
    "    if ax is None:\n",
    "        _, ax = plt.subplots(nrows=1, ncols=1, figsize=(3, 8))\n",
    "    \n",
    "    if top_n is not None:\n",
    "        plot_df = plot_df[plot_df['network'].isin(net_order[:top_n])]\n",
    "        net_order=net_order[:top_n]\n",
    "    if plot_type=='strip':\n",
    "        plot_df = plot_df.reset_index(drop=True)\n",
    "        sns.stripplot(data = plot_df[plot_df.partial==partial], y='network', x=metric, ax=ax, hue='method', dodge=False, s=3, \n",
    "                      order=net_order, jitter=False, edgecolor='black', linewidth=0.25, alpha=0.5,  hue_order=['MPS', 'L3'], palette=palette)\n",
    "        sns.pointplot(data = plot_df[plot_df.partial==partial], y='network', x=metric, ax=ax, hue='method', dodge=False,\n",
    "                      order=net_order, linestyle='none', errorbar=None, marker='|', markersize=6,  hue_order=['MPS', 'L3'],palette=palette)\n",
    "        # add horizontal lines between y ticks\n",
    "        for i in range(len(net_order)):\n",
    "            ax.hlines(i+0.5, 0, 1, color='grey', linewidth=0.25)\n",
    "    elif plot_type == 'bar':\n",
    "        plot_df = plot_df.reset_index(drop=True)\n",
    "        sns.barplot(data=plot_df, y='network', x=metric, ax=ax, hue='method', order=net_order, hue_order=['MPS', 'L3'], alpha=0.6, errorbar=None, edgecolor='black', \n",
    "                    linewidth=0.25, palette=palette, saturation=1)\n",
    "        if metric=='AUPRC':\n",
    "            sns.barplot(data=plot_df, y='network', x='baselineAUPRC', ax=ax, hue='method', palette=['grey', 'grey'], order=net_order, alpha=0.5)\n",
    "        ax.set_xscale('log')\n",
    "    #plot_metric(plot_df[plot_df.partial==partial], metric=metric, net_order=metric,hue='method', ax=ax1, dodge=True)\n",
    "    #plot_metric(df2[df2.partial==partial], metric=metric, net_order=metric, ax=ax2)\n",
    "    return net_order"
   ]
  },
  {
   "cell_type": "code",
   "execution_count": 10,
   "metadata": {},
   "outputs": [
    {
     "data": {
      "text/html": [
       "<div>\n",
       "<style scoped>\n",
       "    .dataframe tbody tr th:only-of-type {\n",
       "        vertical-align: middle;\n",
       "    }\n",
       "\n",
       "    .dataframe tbody tr th {\n",
       "        vertical-align: top;\n",
       "    }\n",
       "\n",
       "    .dataframe thead th {\n",
       "        text-align: right;\n",
       "    }\n",
       "</style>\n",
       "<table border=\"1\" class=\"dataframe\">\n",
       "  <thead>\n",
       "    <tr style=\"text-align: right;\">\n",
       "      <th></th>\n",
       "      <th>partial</th>\n",
       "      <th>baseAUPRC</th>\n",
       "      <th>AUPRC</th>\n",
       "      <th>P@k</th>\n",
       "      <th>network</th>\n",
       "      <th>fold</th>\n",
       "      <th>pAUPRC_ratio</th>\n",
       "      <th>Group</th>\n",
       "    </tr>\n",
       "  </thead>\n",
       "  <tbody>\n",
       "    <tr>\n",
       "      <th>0</th>\n",
       "      <td>p@500</td>\n",
       "      <td>0.000024</td>\n",
       "      <td>0.012407</td>\n",
       "      <td>0.158000</td>\n",
       "      <td>DIP</td>\n",
       "      <td>1</td>\n",
       "      <td>522.571670</td>\n",
       "      <td>CV</td>\n",
       "    </tr>\n",
       "    <tr>\n",
       "      <th>1</th>\n",
       "      <td>p@test</td>\n",
       "      <td>0.000044</td>\n",
       "      <td>0.022217</td>\n",
       "      <td>0.144118</td>\n",
       "      <td>DIP</td>\n",
       "      <td>1</td>\n",
       "      <td>502.874462</td>\n",
       "      <td>CV</td>\n",
       "    </tr>\n",
       "    <tr>\n",
       "      <th>2</th>\n",
       "      <td>p@1%</td>\n",
       "      <td>0.000005</td>\n",
       "      <td>0.002288</td>\n",
       "      <td>0.173469</td>\n",
       "      <td>DIP</td>\n",
       "      <td>1</td>\n",
       "      <td>447.876650</td>\n",
       "      <td>CV</td>\n",
       "    </tr>\n",
       "    <tr>\n",
       "      <th>3</th>\n",
       "      <td>p@500</td>\n",
       "      <td>0.000028</td>\n",
       "      <td>0.018780</td>\n",
       "      <td>0.182000</td>\n",
       "      <td>DIP</td>\n",
       "      <td>2</td>\n",
       "      <td>673.420698</td>\n",
       "      <td>CV</td>\n",
       "    </tr>\n",
       "    <tr>\n",
       "      <th>4</th>\n",
       "      <td>p@test</td>\n",
       "      <td>0.000049</td>\n",
       "      <td>0.030625</td>\n",
       "      <td>0.157380</td>\n",
       "      <td>DIP</td>\n",
       "      <td>2</td>\n",
       "      <td>620.692348</td>\n",
       "      <td>CV</td>\n",
       "    </tr>\n",
       "    <tr>\n",
       "      <th>...</th>\n",
       "      <td>...</td>\n",
       "      <td>...</td>\n",
       "      <td>...</td>\n",
       "      <td>...</td>\n",
       "      <td>...</td>\n",
       "      <td>...</td>\n",
       "      <td>...</td>\n",
       "      <td>...</td>\n",
       "    </tr>\n",
       "    <tr>\n",
       "      <th>85</th>\n",
       "      <td>p@test</td>\n",
       "      <td>0.000006</td>\n",
       "      <td>0.001552</td>\n",
       "      <td>0.019765</td>\n",
       "      <td>Wan</td>\n",
       "      <td>9</td>\n",
       "      <td>242.647154</td>\n",
       "      <td>CV</td>\n",
       "    </tr>\n",
       "    <tr>\n",
       "      <th>86</th>\n",
       "      <td>p@1%</td>\n",
       "      <td>0.000003</td>\n",
       "      <td>0.001077</td>\n",
       "      <td>0.116438</td>\n",
       "      <td>Wan</td>\n",
       "      <td>9</td>\n",
       "      <td>316.804199</td>\n",
       "      <td>CV</td>\n",
       "    </tr>\n",
       "    <tr>\n",
       "      <th>87</th>\n",
       "      <td>p@500</td>\n",
       "      <td>0.000005</td>\n",
       "      <td>0.001441</td>\n",
       "      <td>0.046000</td>\n",
       "      <td>Wan</td>\n",
       "      <td>10</td>\n",
       "      <td>316.062913</td>\n",
       "      <td>CV</td>\n",
       "    </tr>\n",
       "    <tr>\n",
       "      <th>88</th>\n",
       "      <td>p@test</td>\n",
       "      <td>0.000007</td>\n",
       "      <td>0.001672</td>\n",
       "      <td>0.021645</td>\n",
       "      <td>Wan</td>\n",
       "      <td>10</td>\n",
       "      <td>241.103737</td>\n",
       "      <td>CV</td>\n",
       "    </tr>\n",
       "    <tr>\n",
       "      <th>89</th>\n",
       "      <td>p@1%</td>\n",
       "      <td>0.000003</td>\n",
       "      <td>0.001079</td>\n",
       "      <td>0.095238</td>\n",
       "      <td>Wan</td>\n",
       "      <td>10</td>\n",
       "      <td>388.784277</td>\n",
       "      <td>CV</td>\n",
       "    </tr>\n",
       "  </tbody>\n",
       "</table>\n",
       "<p>90 rows × 8 columns</p>\n",
       "</div>"
      ],
      "text/plain": [
       "   partial  baseAUPRC     AUPRC       P@k network  fold  pAUPRC_ratio Group\n",
       "0    p@500   0.000024  0.012407  0.158000     DIP     1    522.571670    CV\n",
       "1   p@test   0.000044  0.022217  0.144118     DIP     1    502.874462    CV\n",
       "2     p@1%   0.000005  0.002288  0.173469     DIP     1    447.876650    CV\n",
       "3    p@500   0.000028  0.018780  0.182000     DIP     2    673.420698    CV\n",
       "4   p@test   0.000049  0.030625  0.157380     DIP     2    620.692348    CV\n",
       "..     ...        ...       ...       ...     ...   ...           ...   ...\n",
       "85  p@test   0.000006  0.001552  0.019765     Wan     9    242.647154    CV\n",
       "86    p@1%   0.000003  0.001077  0.116438     Wan     9    316.804199    CV\n",
       "87   p@500   0.000005  0.001441  0.046000     Wan    10    316.062913    CV\n",
       "88  p@test   0.000007  0.001672  0.021645     Wan    10    241.103737    CV\n",
       "89    p@1%   0.000003  0.001079  0.095238     Wan    10    388.784277    CV\n",
       "\n",
       "[90 rows x 8 columns]"
      ]
     },
     "execution_count": 10,
     "metadata": {},
     "output_type": "execute_result"
    }
   ],
   "source": [
    "cv_l3_df"
   ]
  },
  {
   "cell_type": "code",
   "execution_count": 11,
   "metadata": {},
   "outputs": [
    {
     "data": {
      "text/plain": [
       "<AxesSubplot:xlabel='P@k', ylabel='network'>"
      ]
     },
     "execution_count": 11,
     "metadata": {},
     "output_type": "execute_result"
    },
    {
     "data": {
      "image/png": "[encoded data removed]",
      "text/plain": [
       "<Figure size 432x288 with 1 Axes>"
      ]
     },
     "metadata": {
      "needs_background": "light"
     },
     "output_type": "display_data"
    }
   ],
   "source": [
    "plot_df  = pd.concat([cv_l3_df, corum_l3_df, panther_l3_df])\n",
    "sns.stripplot(plot_df[plot_df.partial=='p@test'], x = 'P@k', y='network', hue='Group', dodge=0.5, s=10, jitter=False, edgecolor='black', linewidth=0.5, alpha=0.7, \n",
    "                hue_order=['CV', 'CORUM', 'PANTHER'], palette='Set2', zorder=1)\n",
    "sns.pointplot(data = plot_df[plot_df.partial=='p@test'], y='network', x='P@k', hue='Group', dodge=0.53, estimator='median',\n",
    "                linestyle='none', errorbar=None, marker='|', markersize=20,  hue_order=['CV', 'CORUM', 'PANTHER'],palette=['black', 'black', 'black'], zorder=3, legend=False)"
   ]
  },
  {
   "cell_type": "markdown",
   "metadata": {},
   "source": [
    "## Figures 5A-C - Interaction Prediction Precision"
   ]
  },
  {
   "cell_type": "markdown",
   "metadata": {},
   "source": [
    "Load the prediction results from Supplemental Table 4"
   ]
  },
  {
   "cell_type": "code",
   "execution_count": 12,
   "metadata": {},
   "outputs": [],
   "source": [
    "pred_results = pd.read_csv(os.path.join(gitdir, 'StateOfTheInteractomes_Notebooks/Data/TableS4.txt'), sep='\\t')"
   ]
  },
  {
   "cell_type": "code",
   "execution_count": 13,
   "metadata": {},
   "outputs": [],
   "source": [
    "pred_results.columns = ['network', 'fold', 'method', 'Test Set', 'P@k']"
   ]
  },
  {
   "cell_type": "code",
   "execution_count": 14,
   "metadata": {},
   "outputs": [],
   "source": [
    "def compare_prediction_methods(plot_df, metric, test_set, net_order=None, plot_type='strip', ax=None, top_n=None, exclude_nets=None, palette=None,):\n",
    "    #l3_df.rename(columns={'baseAUPRC': 'baselineAUPRC'}, inplace=True)\n",
    "    #mps_df.rename(columns={'baseAUPRC': 'baselineAUPRC'}, inplace=True)\n",
    "    #l3_df['method'] = 'L3'\n",
    "    #mps_df['method'] = 'MPS'\n",
    "    plot_df = plot_df[plot_df['Test Set']==test_set]\n",
    "    if exclude_nets is not None:\n",
    "        plot_df = plot_df[~plot_df.network.isin(exclude_nets)]\n",
    "    if net_order is None:\n",
    "        net_order = plot_df.network.unique()[::-1]\n",
    "    if type(net_order) == str:\n",
    "        if net_order in plot_df.columns:\n",
    "            net_order = plot_df.groupby('network')[net_order].mean().sort_values(ascending=False).index\n",
    "    if ax is None:\n",
    "        _, ax = plt.subplots(nrows=1, ncols=1, figsize=(3, 8))\n",
    "    \n",
    "    if top_n is not None:\n",
    "        plot_df = plot_df[plot_df['network'].isin(net_order[:top_n])]\n",
    "        net_order=net_order[:top_n]\n",
    "    if plot_type=='strip':\n",
    "        plot_df = plot_df.reset_index(drop=True)\n",
    "        sns.stripplot(data = plot_df, y='network', x=metric, ax=ax, hue='method', dodge=False, s=3, \n",
    "                      order=net_order, jitter=False, edgecolor='black', linewidth=0.25, alpha=0.5,  hue_order=['MPS', 'L3'], palette=palette)\n",
    "        sns.pointplot(data = plot_df, y='network', x=metric, ax=ax, hue='method', dodge=False,\n",
    "                      order=net_order, linestyle='none', errorbar=None, marker='|', markersize=6,  hue_order=['MPS', 'L3'],palette=palette, legend=False)\n",
    "        # add horizontal lines between y ticks\n",
    "        for i in range(len(net_order)):\n",
    "            ax.hlines(i+0.5, 0, 1, color='grey', linewidth=0.25)\n",
    "    elif plot_type == 'bar':\n",
    "        plot_df = plot_df.reset_index(drop=True)\n",
    "        sns.barplot(data=plot_df, y='network', x=metric, ax=ax, hue='method', order=net_order, hue_order=['MPS', 'L3'], alpha=0.6, errorbar=None, edgecolor='black', \n",
    "                    linewidth=0.25, palette=palette, saturation=1)\n",
    "        if metric=='AUPRC':\n",
    "            sns.barplot(data=plot_df, y='network', x='baselineAUPRC', ax=ax, hue='method', palette=['grey', 'grey'], order=net_order, alpha=0.5)\n",
    "        ax.set_xscale('log')\n",
    "    #plot_metric(plot_df[plot_df.partial==partial], metric=metric, net_order=metric,hue='method', ax=ax1, dodge=True)\n",
    "    #plot_metric(df2[df2.partial==partial], metric=metric, net_order=metric, ax=ax2)\n",
    "    return net_order"
   ]
  },
  {
   "cell_type": "code",
   "execution_count": 15,
   "metadata": {},
   "outputs": [
    {
     "name": "stderr",
     "output_type": "stream",
     "text": [
      "/tmp/ipykernel_2518907/105141934.py:5: MatplotlibDeprecationWarning: Support for passing numbers through unit converters is deprecated since 3.5 and support will be removed two minor releases later; use Axis.convert_units instead.\n",
      "  plt.savefig(os.path.join(figdir, 'Fig5ABC_prediciton_results.jpg'), dpi=300, bbox_inches='tight')\n",
      "/tmp/ipykernel_2518907/105141934.py:5: MatplotlibDeprecationWarning: Support for passing numbers through unit converters is deprecated since 3.5 and support will be removed two minor releases later; use Axis.convert_units instead.\n",
      "  plt.savefig(os.path.join(figdir, 'Fig5ABC_prediciton_results.jpg'), dpi=300, bbox_inches='tight')\n",
      "/tmp/ipykernel_2518907/105141934.py:5: MatplotlibDeprecationWarning: Support for passing numbers through unit converters is deprecated since 3.5 and support will be removed two minor releases later; use Axis.convert_units instead.\n",
      "  plt.savefig(os.path.join(figdir, 'Fig5ABC_prediciton_results.jpg'), dpi=300, bbox_inches='tight')\n",
      "/tmp/ipykernel_2518907/105141934.py:5: MatplotlibDeprecationWarning: Support for passing numbers through unit converters is deprecated since 3.5 and support will be removed two minor releases later; use Axis.convert_units instead.\n",
      "  plt.savefig(os.path.join(figdir, 'Fig5ABC_prediciton_results.jpg'), dpi=300, bbox_inches='tight')\n",
      "/tmp/ipykernel_2518907/105141934.py:5: MatplotlibDeprecationWarning: Support for passing numbers through unit converters is deprecated since 3.5 and support will be removed two minor releases later; use Axis.convert_units instead.\n",
      "  plt.savefig(os.path.join(figdir, 'Fig5ABC_prediciton_results.jpg'), dpi=300, bbox_inches='tight')\n",
      "/tmp/ipykernel_2518907/105141934.py:5: MatplotlibDeprecationWarning: Support for passing numbers through unit converters is deprecated since 3.5 and support will be removed two minor releases later; use Axis.convert_units instead.\n",
      "  plt.savefig(os.path.join(figdir, 'Fig5ABC_prediciton_results.jpg'), dpi=300, bbox_inches='tight')\n"
     ]
    },
    {
     "data": {
      "image/png": "[encoded data removed]",
      "text/plain": [
       "<Figure size 1080x720 with 3 Axes>"
      ]
     },
     "metadata": {
      "needs_background": "light"
     },
     "output_type": "display_data"
    }
   ],
   "source": [
    "_, [ax1, ax2, ax3] = plt.subplots(ncols=3, nrows=1, figsize=(15, 10), gridspec_kw={'wspace': 0.5})\n",
    "compare_prediction_methods(pred_results, 'P@k', test_set='Held-out', net_order='P@k', ax=ax1)\n",
    "compare_prediction_methods(pred_results, 'P@k', test_set='CORUM', net_order='P@k', ax=ax2)\n",
    "compare_prediction_methods(pred_results, 'P@k', test_set='PANTHER', net_order='P@k', ax=ax3)\n",
    "plt.savefig(os.path.join(figdir, 'Fig5ABC_prediciton_results.jpg'), dpi=300, bbox_inches='tight')"
   ]
  },
  {
   "cell_type": "markdown",
   "metadata": {},
   "source": [
    "## Figure 5D - Network Coverage of Predicted Interactions"
   ]
  },
  {
   "cell_type": "code",
   "execution_count": 16,
   "metadata": {},
   "outputs": [],
   "source": [
    "coverage_df = pd.read_csv(os.path.join(gitdir, 'StateOfTheInteractomes_Notebooks/Data/Fig5D_interaction_coverage.csv'))"
   ]
  },
  {
   "cell_type": "code",
   "execution_count": 17,
   "metadata": {},
   "outputs": [],
   "source": [
    "def plot_coverage_stats(coverage_df, ax=None, order=None, **kwargs):\n",
    "    coverage_stats =coverage_df.drop_duplicates(subset=['network', 'fold']).dropna().set_index('Name')\n",
    "    stack_data = coverage_stats.groupby(['Name']).mean().loc[:, ('0-1', '2-5', '6-10', '11-20', '21+')]\n",
    "    return_order=False\n",
    "    if order is None:\n",
    "        order=list(stack_data.sort_values(by=['21+', '11-20', '6-10', '2-5', '0-1'], ascending=False).index)\n",
    "        return_order=True\n",
    "    if ax is None:\n",
    "        _ = plt.figure(figsize=(10, 2))\n",
    "        ax= plt.gca()\n",
    "    stack_data.loc[order].plot(kind='bar', stacked=True, edgecolor='black', ax=ax, color=['#b8de29', '#73d055', '#29af7f', '#238a8d', '#33638d'][::-1], **kwargs)\n",
    "    if return_order:\n",
    "        return order"
   ]
  },
  {
   "cell_type": "code",
   "execution_count": 18,
   "metadata": {},
   "outputs": [
    {
     "data": {
      "image/png": "[encoded data removed]",
      "text/plain": [
       "<Figure size 720x144 with 1 Axes>"
      ]
     },
     "metadata": {
      "needs_background": "light"
     },
     "output_type": "display_data"
    }
   ],
   "source": [
    "_ = plot_coverage_stats(coverage_df[coverage_df.method=='L3'])"
   ]
  },
  {
   "cell_type": "code",
   "execution_count": 19,
   "metadata": {},
   "outputs": [
    {
     "data": {
      "image/png": "[encoded data removed]",
      "text/plain": [
       "<Figure size 720x144 with 1 Axes>"
      ]
     },
     "metadata": {
      "needs_background": "light"
     },
     "output_type": "display_data"
    }
   ],
   "source": [
    "_ = plot_coverage_stats(coverage_df[coverage_df.method=='MPS'])"
   ]
  },
  {
   "cell_type": "markdown",
   "metadata": {},
   "source": [
    "## Figure 5E - Network Coverage vs AF ipTM"
   ]
  },
  {
   "cell_type": "markdown",
   "metadata": {},
   "source": [
    "Load the AlphaFold results"
   ]
  },
  {
   "cell_type": "code",
   "execution_count": 20,
   "metadata": {},
   "outputs": [],
   "source": [
    "af_df = pd.read_csv(os.path.join(gitdir, 'StateOfTheInteractomes_Notebooks/Data/TableS5.txt'), sep='\\t')"
   ]
  },
  {
   "cell_type": "code",
   "execution_count": 21,
   "metadata": {},
   "outputs": [],
   "source": [
    "coverage_df = af_df[af_df['Analysis Set'] == 'Network Coverage']"
   ]
  },
  {
   "cell_type": "markdown",
   "metadata": {},
   "source": [
    "Select the top model for each protein pair based on model confidence"
   ]
  },
  {
   "cell_type": "code",
   "execution_count": 22,
   "metadata": {},
   "outputs": [],
   "source": [
    "coverage_df_top = coverage_df.sort_values('Model Confidence', ascending=False).drop_duplicates(subset=['NCBI Gene ID A', 'NCBI Gene ID B'], keep='first')"
   ]
  },
  {
   "cell_type": "code",
   "execution_count": 23,
   "metadata": {},
   "outputs": [],
   "source": [
    "coverage_df_top['Pair_str'] = coverage_df_top['NCBI Gene ID A'].astype(str) + '-' + coverage_df_top['NCBI Gene ID B'].astype(str)"
   ]
  },
  {
   "cell_type": "code",
   "execution_count": 24,
   "metadata": {},
   "outputs": [],
   "source": [
    "coverage_df_top['Network/Network Coverage'] = coverage_df_top['Network/Network Coverage'].astype(int)"
   ]
  },
  {
   "cell_type": "markdown",
   "metadata": {},
   "source": [
    "Visualize the ipTM scores vs network coverage"
   ]
  },
  {
   "cell_type": "code",
   "execution_count": 25,
   "metadata": {},
   "outputs": [
    {
     "data": {
      "text/plain": [
       "Text(0, 0.5, 'Interface Score (IPTM)')"
      ]
     },
     "execution_count": 25,
     "metadata": {},
     "output_type": "execute_result"
    },
    {
     "data": {
      "image/png": "[encoded data removed]",
      "text/plain": [
       "<Figure size 432x288 with 1 Axes>"
      ]
     },
     "metadata": {
      "needs_background": "light"
     },
     "output_type": "display_data"
    }
   ],
   "source": [
    "ax = plt.gca()\n",
    "sns.stripplot(coverage_df_top.groupby('Pair_str').mean(), x='Network/Network Coverage', y='ipTM', ax=ax, size=3, alpha=0.5)\n",
    "sns.boxplot(coverage_df_top.groupby('Pair_str').mean(), x='Network/Network Coverage', y='ipTM', ax=ax, fliersize=0, linewidth=0.5, notch=True, fill=True, color='lightgrey')\n",
    "plt.xticks([i for i in range(35)], labels=[i for i in range(35)])\n",
    "\n",
    "plt.ylabel('Interface Score (IPTM)')"
   ]
  },
  {
   "cell_type": "markdown",
   "metadata": {},
   "source": [
    "### Figure 5E"
   ]
  },
  {
   "cell_type": "code",
   "execution_count": 26,
   "metadata": {},
   "outputs": [],
   "source": [
    "coverage_df_top['Edge_Bin'] = coverage_df_top['Network/Network Coverage'].apply(lambda x: (x+3)//4)"
   ]
  },
  {
   "cell_type": "code",
   "execution_count": 27,
   "metadata": {},
   "outputs": [
    {
     "data": {
      "image/png": "[encoded data removed]",
      "text/plain": [
       "<Figure size 216x144 with 1 Axes>"
      ]
     },
     "metadata": {
      "needs_background": "light"
     },
     "output_type": "display_data"
    }
   ],
   "source": [
    "_ = plt.figure(figsize=(3, 2))\n",
    "ax = plt.gca()\n",
    "sns.violinplot(coverage_df_top, x='Edge_Bin', y='ipTM', ax=ax, cut=0, hue='Edge_Bin', palette='Blues', legend=False)\n",
    "_ = plt.xticks([i for i in range(10)], labels=[0, '1-4', '5-8', '9-12', '13-16', '17-20', '21-24', '25-28', '29-32', '33+'], rotation=45)\n",
    "plt.ylabel('Interface Score (IPTM)')\n",
    "plt.xlabel('Network Coverage')\n",
    "\n",
    "plt.savefig(figdir + 'Fig5E_ipTM_vs_coverage.jpg', bbox_inches='tight', dpi=300)"
   ]
  },
  {
   "cell_type": "markdown",
   "metadata": {},
   "source": [
    "## Figure 5F - ipTM of sample network interactions"
   ]
  },
  {
   "cell_type": "code",
   "execution_count": 28,
   "metadata": {},
   "outputs": [
    {
     "data": {
      "text/plain": [
       "array(['Validation', 'Network Coverage', 'Network Specific'], dtype=object)"
      ]
     },
     "execution_count": 28,
     "metadata": {},
     "output_type": "execute_result"
    }
   ],
   "source": [
    "af_df['Analysis Set'].unique()"
   ]
  },
  {
   "cell_type": "code",
   "execution_count": 29,
   "metadata": {},
   "outputs": [
    {
     "data": {
      "text/html": [
       "<div>\n",
       "<style scoped>\n",
       "    .dataframe tbody tr th:only-of-type {\n",
       "        vertical-align: middle;\n",
       "    }\n",
       "\n",
       "    .dataframe tbody tr th {\n",
       "        vertical-align: top;\n",
       "    }\n",
       "\n",
       "    .dataframe thead th {\n",
       "        text-align: right;\n",
       "    }\n",
       "</style>\n",
       "<table border=\"1\" class=\"dataframe\">\n",
       "  <thead>\n",
       "    <tr style=\"text-align: right;\">\n",
       "      <th></th>\n",
       "      <th>Network/Network Coverage</th>\n",
       "      <th>NCBI Gene ID A</th>\n",
       "      <th>NCBI Gene ID B</th>\n",
       "      <th>Analysis Set</th>\n",
       "      <th>Model Number</th>\n",
       "      <th>pTM</th>\n",
       "      <th>ipTM</th>\n",
       "      <th>Model Confidence</th>\n",
       "    </tr>\n",
       "  </thead>\n",
       "  <tbody>\n",
       "    <tr>\n",
       "      <th>11155</th>\n",
       "      <td>APID</td>\n",
       "      <td>117144</td>\n",
       "      <td>2139</td>\n",
       "      <td>Network Specific</td>\n",
       "      <td>0</td>\n",
       "      <td>0.28</td>\n",
       "      <td>0.17</td>\n",
       "      <td>0.192</td>\n",
       "    </tr>\n",
       "    <tr>\n",
       "      <th>11156</th>\n",
       "      <td>APID</td>\n",
       "      <td>117144</td>\n",
       "      <td>2139</td>\n",
       "      <td>Network Specific</td>\n",
       "      <td>1</td>\n",
       "      <td>0.28</td>\n",
       "      <td>0.26</td>\n",
       "      <td>0.264</td>\n",
       "    </tr>\n",
       "    <tr>\n",
       "      <th>11157</th>\n",
       "      <td>APID</td>\n",
       "      <td>117144</td>\n",
       "      <td>2139</td>\n",
       "      <td>Network Specific</td>\n",
       "      <td>2</td>\n",
       "      <td>0.26</td>\n",
       "      <td>0.15</td>\n",
       "      <td>0.172</td>\n",
       "    </tr>\n",
       "    <tr>\n",
       "      <th>11158</th>\n",
       "      <td>APID</td>\n",
       "      <td>117144</td>\n",
       "      <td>2139</td>\n",
       "      <td>Network Specific</td>\n",
       "      <td>3</td>\n",
       "      <td>0.28</td>\n",
       "      <td>0.15</td>\n",
       "      <td>0.176</td>\n",
       "    </tr>\n",
       "    <tr>\n",
       "      <th>11159</th>\n",
       "      <td>APID</td>\n",
       "      <td>117144</td>\n",
       "      <td>2139</td>\n",
       "      <td>Network Specific</td>\n",
       "      <td>4</td>\n",
       "      <td>0.27</td>\n",
       "      <td>0.19</td>\n",
       "      <td>0.206</td>\n",
       "    </tr>\n",
       "  </tbody>\n",
       "</table>\n",
       "</div>"
      ],
      "text/plain": [
       "      Network/Network Coverage  NCBI Gene ID A  NCBI Gene ID B  \\\n",
       "11155                     APID          117144            2139   \n",
       "11156                     APID          117144            2139   \n",
       "11157                     APID          117144            2139   \n",
       "11158                     APID          117144            2139   \n",
       "11159                     APID          117144            2139   \n",
       "\n",
       "           Analysis Set  Model Number   pTM  ipTM  Model Confidence  \n",
       "11155  Network Specific             0  0.28  0.17             0.192  \n",
       "11156  Network Specific             1  0.28  0.26             0.264  \n",
       "11157  Network Specific             2  0.26  0.15             0.172  \n",
       "11158  Network Specific             3  0.28  0.15             0.176  \n",
       "11159  Network Specific             4  0.27  0.19             0.206  "
      ]
     },
     "execution_count": 29,
     "metadata": {},
     "output_type": "execute_result"
    }
   ],
   "source": [
    "network_df = af_df[af_df['Analysis Set'] == 'Network Specific']\n",
    "network_df.head()"
   ]
  },
  {
   "cell_type": "code",
   "execution_count": 30,
   "metadata": {},
   "outputs": [],
   "source": [
    "network_df_top = network_df.sort_values('Model Confidence', ascending=False).drop_duplicates(subset=['NCBI Gene ID A', 'NCBI Gene ID B'], keep='first')"
   ]
  },
  {
   "cell_type": "code",
   "execution_count": 32,
   "metadata": {},
   "outputs": [],
   "source": [
    "rn_df = pd.read_csv(os.path.join(gitdir, 'StateOfTheInteractomes_Notebooks/Data/Fig5_Random_AF_results.csv'), index_col=0)"
   ]
  },
  {
   "cell_type": "code",
   "execution_count": 33,
   "metadata": {},
   "outputs": [],
   "source": [
    "mu_results = {}\n",
    "for net in network_df['Network/Network Coverage'].unique():\n",
    "    mu_rn = mannwhitneyu(network_df_top[network_df_top['Network/Network Coverage'] == net].ipTM, rn_df[rn_df.Background=='All random'].iptm).pvalue\n",
    "    mu_zero = mannwhitneyu(network_df_top[network_df_top['Network/Network Coverage'] == net].ipTM, rn_df[rn_df.Background=='No edges random'].iptm).pvalue\n",
    "    mu_results[net] = {'rn': mu_rn, 'zero': mu_zero}\n",
    "mu_df = pd.DataFrame.from_dict(mu_results, orient='index')\n",
    "mu_df['fdr_rn'] = fdrcorrection(mu_df['rn'])[1]\n",
    "mu_df['fdr_zero'] = fdrcorrection(mu_df['zero'])[1]"
   ]
  },
  {
   "cell_type": "code",
   "execution_count": 35,
   "metadata": {},
   "outputs": [],
   "source": [
    "top_nets = list(mu_df[mu_df.fdr_rn < 0.15].index)\n"
   ]
  },
  {
   "cell_type": "code",
   "execution_count": 37,
   "metadata": {},
   "outputs": [],
   "source": [
    "plot_data =network_df_top[network_df_top['Network/Network Coverage'].isin(top_nets)]"
   ]
  },
  {
   "cell_type": "code",
   "execution_count": 43,
   "metadata": {},
   "outputs": [],
   "source": [
    "net_colors = {'Reactome':'Curated', 'ProteomeHD':'Experimental', 'DIP':'Curated', 'PID2':'Integrated', 'HPRD':'Curated', 'Spike':'Integrated',\n",
    "            'PTMCode2':'Integrated', 'SIGNOR':'Curated', 'PROPER':'Experimental', 'BIND':'Curated', 'FunCoup':'Integrated'}\n",
    "\n",
    "plot_data = plot_data.assign(color= plot_data['Network/Network Coverage'].map(net_colors))"
   ]
  },
  {
   "cell_type": "code",
   "execution_count": 40,
   "metadata": {},
   "outputs": [],
   "source": [
    "order =plot_data.groupby('Network/Network Coverage').ipTM.median().sort_values(ascending=False).index"
   ]
  },
  {
   "cell_type": "code",
   "execution_count": 41,
   "metadata": {},
   "outputs": [
    {
     "data": {
      "image/png": "[encoded data removed]",
      "text/plain": [
       "<Figure size 216x108 with 1 Axes>"
      ]
     },
     "metadata": {
      "needs_background": "light"
     },
     "output_type": "display_data"
    }
   ],
   "source": [
    "_ = plt.figure(figsize=(3,1.5))\n",
    "sns.violinplot(data=plot_data, x='Network/Network Coverage', y='ipTM', cut=0, linewidth=0.25, hue='color', palette=['#44cf6c', '#ffa500', '#73c7e7'], \n",
    "                saturation=1, order=order)#, cut=0, inner='', fill=True)\n",
    "plt.hlines(rn_df.iptm.median(), -0.5, 8.5, color='firebrick', linestyle='--', linewidth=0.5)\n",
    "plt.ylim(0, 1)\n",
    "plt.xlim(-0.5, 8.5)\n",
    "ax  = plt.gca()\n",
    "ax.tick_params(axis='x', rotation=90)\n",
    "plt.savefig(figdir + 'Fig5F_Network_ipTM.jpg', bbox_inches='tight', dpi=300)"
   ]
  },
  {
   "cell_type": "markdown",
   "metadata": {},
   "source": [
    "## Figure 5G - ipTM of potentially novel predicted interactions"
   ]
  },
  {
   "cell_type": "code",
   "execution_count": 45,
   "metadata": {},
   "outputs": [
    {
     "data": {
      "text/html": [
       "<div>\n",
       "<style scoped>\n",
       "    .dataframe tbody tr th:only-of-type {\n",
       "        vertical-align: middle;\n",
       "    }\n",
       "\n",
       "    .dataframe tbody tr th {\n",
       "        vertical-align: top;\n",
       "    }\n",
       "\n",
       "    .dataframe thead th {\n",
       "        text-align: right;\n",
       "    }\n",
       "</style>\n",
       "<table border=\"1\" class=\"dataframe\">\n",
       "  <thead>\n",
       "    <tr style=\"text-align: right;\">\n",
       "      <th></th>\n",
       "      <th>Network/Network Coverage</th>\n",
       "      <th>NCBI Gene ID A</th>\n",
       "      <th>NCBI Gene ID B</th>\n",
       "      <th>Analysis Set</th>\n",
       "      <th>Model Number</th>\n",
       "      <th>pTM</th>\n",
       "      <th>ipTM</th>\n",
       "      <th>Model Confidence</th>\n",
       "    </tr>\n",
       "  </thead>\n",
       "  <tbody>\n",
       "    <tr>\n",
       "      <th>0</th>\n",
       "      <td>Havugimana</td>\n",
       "      <td>55699</td>\n",
       "      <td>112464</td>\n",
       "      <td>Validation</td>\n",
       "      <td>0</td>\n",
       "      <td>0.73</td>\n",
       "      <td>0.18</td>\n",
       "      <td>0.290</td>\n",
       "    </tr>\n",
       "    <tr>\n",
       "      <th>1</th>\n",
       "      <td>Havugimana</td>\n",
       "      <td>55699</td>\n",
       "      <td>112464</td>\n",
       "      <td>Validation</td>\n",
       "      <td>1</td>\n",
       "      <td>0.74</td>\n",
       "      <td>0.20</td>\n",
       "      <td>0.308</td>\n",
       "    </tr>\n",
       "    <tr>\n",
       "      <th>2</th>\n",
       "      <td>Havugimana</td>\n",
       "      <td>55699</td>\n",
       "      <td>112464</td>\n",
       "      <td>Validation</td>\n",
       "      <td>2</td>\n",
       "      <td>0.72</td>\n",
       "      <td>0.22</td>\n",
       "      <td>0.320</td>\n",
       "    </tr>\n",
       "    <tr>\n",
       "      <th>3</th>\n",
       "      <td>Havugimana</td>\n",
       "      <td>55699</td>\n",
       "      <td>112464</td>\n",
       "      <td>Validation</td>\n",
       "      <td>3</td>\n",
       "      <td>0.73</td>\n",
       "      <td>0.19</td>\n",
       "      <td>0.298</td>\n",
       "    </tr>\n",
       "    <tr>\n",
       "      <th>4</th>\n",
       "      <td>Havugimana</td>\n",
       "      <td>55699</td>\n",
       "      <td>112464</td>\n",
       "      <td>Validation</td>\n",
       "      <td>4</td>\n",
       "      <td>0.73</td>\n",
       "      <td>0.22</td>\n",
       "      <td>0.322</td>\n",
       "    </tr>\n",
       "  </tbody>\n",
       "</table>\n",
       "</div>"
      ],
      "text/plain": [
       "  Network/Network Coverage  NCBI Gene ID A  NCBI Gene ID B Analysis Set  \\\n",
       "0               Havugimana           55699          112464   Validation   \n",
       "1               Havugimana           55699          112464   Validation   \n",
       "2               Havugimana           55699          112464   Validation   \n",
       "3               Havugimana           55699          112464   Validation   \n",
       "4               Havugimana           55699          112464   Validation   \n",
       "\n",
       "   Model Number   pTM  ipTM  Model Confidence  \n",
       "0             0  0.73  0.18             0.290  \n",
       "1             1  0.74  0.20             0.308  \n",
       "2             2  0.72  0.22             0.320  \n",
       "3             3  0.73  0.19             0.298  \n",
       "4             4  0.73  0.22             0.322  "
      ]
     },
     "execution_count": 45,
     "metadata": {},
     "output_type": "execute_result"
    }
   ],
   "source": [
    "validation_df = af_df[af_df['Analysis Set'] == 'Validation']\n",
    "validation_df.head()"
   ]
  },
  {
   "cell_type": "code",
   "execution_count": 69,
   "metadata": {},
   "outputs": [],
   "source": [
    "validation_df_top = validation_df.sort_values('Model Confidence', ascending=False).drop_duplicates(subset=['NCBI Gene ID A', 'NCBI Gene ID B'], keep='first')"
   ]
  },
  {
   "cell_type": "code",
   "execution_count": 81,
   "metadata": {},
   "outputs": [],
   "source": [
    "plot_nets = ['SIGNOR', 'PID2', 'HPRD', 'ProteomeHD', 'DIP', 'Reactome', 'Spike', 'PTMCode2', 'BIND']"
   ]
  },
  {
   "cell_type": "code",
   "execution_count": 82,
   "metadata": {},
   "outputs": [],
   "source": [
    "validation_df_top = validation_df_top[validation_df_top['Network/Network Coverage'].isin(plot_nets)]"
   ]
  },
  {
   "cell_type": "markdown",
   "metadata": {},
   "source": [
    " Set validation threshold"
   ]
  },
  {
   "cell_type": "markdown",
   "metadata": {},
   "source": [
    "Set Validation Threshold"
   ]
  },
  {
   "cell_type": "code",
   "execution_count": 83,
   "metadata": {},
   "outputs": [
    {
     "name": "stdout",
     "output_type": "stream",
     "text": [
      "ipTM threshold: 0.53\n"
     ]
    }
   ],
   "source": [
    "iptm_th = rn_df.sort_values('model_conf', ascending=False).drop_duplicates(subset=['Pair_str'], keep='first').iptm.describe(percentiles=[0.95])['95%']\n",
    "print('ipTM threshold:', iptm_th)  "
   ]
  },
  {
   "cell_type": "code",
   "execution_count": 84,
   "metadata": {},
   "outputs": [],
   "source": [
    "validation_df_top = validation_df_top.assign(Validated = validation_df_top.ipTM > iptm_th)"
   ]
  },
  {
   "cell_type": "code",
   "execution_count": 85,
   "metadata": {},
   "outputs": [
    {
     "name": "stdout",
     "output_type": "stream",
     "text": [
      "Overall validation rate: 0.23416506717850288\n"
     ]
    }
   ],
   "source": [
    "print('Overall validation rate:', validation_df_top.Validated.mean())"
   ]
  },
  {
   "cell_type": "code",
   "execution_count": 86,
   "metadata": {},
   "outputs": [
    {
     "name": "stdout",
     "output_type": "stream",
     "text": [
      "Network validation rates:\n"
     ]
    },
    {
     "data": {
      "text/plain": [
       "Network/Network Coverage\n",
       "SIGNOR        0.724138\n",
       "Spike         0.192308\n",
       "Reactome      0.178571\n",
       "PID2          0.075000\n",
       "HPRD          0.067308\n",
       "DIP           0.062500\n",
       "BIND          0.012500\n",
       "PTMCode2      0.000000\n",
       "ProteomeHD    0.000000\n",
       "Name: Validated, dtype: float64"
      ]
     },
     "execution_count": 86,
     "metadata": {},
     "output_type": "execute_result"
    }
   ],
   "source": [
    "print('Network validation rates:')\n",
    "validation_df_top.groupby('Network/Network Coverage').Validated.mean().sort_values(ascending=False)"
   ]
  },
  {
   "cell_type": "code",
   "execution_count": 89,
   "metadata": {},
   "outputs": [
    {
     "name": "stderr",
     "output_type": "stream",
     "text": [
      "/tmp/ipykernel_2518907/1454426454.py:10: MatplotlibDeprecationWarning: Support for passing numbers through unit converters is deprecated since 3.5 and support will be removed two minor releases later; use Axis.convert_units instead.\n",
      "  plt.savefig(figdir + 'Fig5G_iptm_validation.jpg', bbox_inches='tight', dpi=300)\n",
      "/tmp/ipykernel_2518907/1454426454.py:10: MatplotlibDeprecationWarning: Support for passing numbers through unit converters is deprecated since 3.5 and support will be removed two minor releases later; use Axis.convert_units instead.\n",
      "  plt.savefig(figdir + 'Fig5G_iptm_validation.jpg', bbox_inches='tight', dpi=300)\n"
     ]
    },
    {
     "data": {
      "image/png": "[encoded data removed]",
      "text/plain": [
       "<Figure size 216x108 with 1 Axes>"
      ]
     },
     "metadata": {
      "needs_background": "light"
     },
     "output_type": "display_data"
    }
   ],
   "source": [
    "_ = plt.figure(figsize=(3,1.5))\n",
    "order = validation_df_top.groupby('Network/Network Coverage').ipTM.mean().sort_values(ascending=False).index\n",
    "sns.stripplot(data=validation_df_top, x='Network/Network Coverage', y='ipTM', s=2, alpha=0.5, hue='Validated', palette=['forestgreen', 'grey'][::-1], order=order)\n",
    "sns.boxplot(data=validation_df_top, x='Network/Network Coverage', y='ipTM', fliersize=0, linecolor='grey', color='powderblue', linewidth=0.25)\n",
    "plt.hlines(iptm_th, -0.5, 10.5, color='forestgreen', linestyle='--', linewidth=0.5)\n",
    "plt.ylim(0,1)\n",
    "plt.xlim(-0.5, 9.5)\n",
    "plt.ylabel('Interface Score (IPTM)')\n",
    "plt.gca().tick_params(axis='x', rotation=90)\n",
    "plt.savefig(figdir + 'Fig5G_iptm_validation.jpg', bbox_inches='tight', dpi=300)"
   ]
  },
  {
   "cell_type": "markdown",
   "metadata": {},
   "source": [
    "Statistics"
   ]
  },
  {
   "cell_type": "code",
   "execution_count": 92,
   "metadata": {},
   "outputs": [],
   "source": [
    "rn_df_top = rn_df.sort_values('model_conf', ascending=False).drop_duplicates(subset=['Pair_str'], keep='first')"
   ]
  },
  {
   "cell_type": "code",
   "execution_count": 106,
   "metadata": {},
   "outputs": [],
   "source": [
    "# need to do a mann whitney u test for each network against the random pairs\n",
    "mu_results = {}\n",
    "for net in validation_df_top['Network/Network Coverage'].unique():\n",
    "    mu_rn = mannwhitneyu(validation_df_top[validation_df_top['Network/Network Coverage'] == net].ipTM, rn_df_top[rn_df_top.Background=='All random'].iptm).pvalue\n",
    "    mu_results[net] = {'p': mu_rn}\n",
    "mu_df = pd.DataFrame.from_dict(mu_results, orient='index')\n",
    "mu_df['q'] = fdrcorrection(mu_df['p'])[1]\n",
    "\n",
    "\n"
   ]
  },
  {
   "cell_type": "code",
   "execution_count": 107,
   "metadata": {},
   "outputs": [
    {
     "data": {
      "text/html": [
       "<div>\n",
       "<style scoped>\n",
       "    .dataframe tbody tr th:only-of-type {\n",
       "        vertical-align: middle;\n",
       "    }\n",
       "\n",
       "    .dataframe tbody tr th {\n",
       "        vertical-align: top;\n",
       "    }\n",
       "\n",
       "    .dataframe thead th {\n",
       "        text-align: right;\n",
       "    }\n",
       "</style>\n",
       "<table border=\"1\" class=\"dataframe\">\n",
       "  <thead>\n",
       "    <tr style=\"text-align: right;\">\n",
       "      <th></th>\n",
       "      <th>p</th>\n",
       "      <th>q</th>\n",
       "    </tr>\n",
       "  </thead>\n",
       "  <tbody>\n",
       "    <tr>\n",
       "      <th>SIGNOR</th>\n",
       "      <td>6.552765e-42</td>\n",
       "      <td>5.897488e-41</td>\n",
       "    </tr>\n",
       "    <tr>\n",
       "      <th>Spike</th>\n",
       "      <td>3.375160e-06</td>\n",
       "      <td>1.518822e-05</td>\n",
       "    </tr>\n",
       "    <tr>\n",
       "      <th>Reactome</th>\n",
       "      <td>6.995813e-03</td>\n",
       "      <td>2.098744e-02</td>\n",
       "    </tr>\n",
       "    <tr>\n",
       "      <th>BIND</th>\n",
       "      <td>6.562101e-02</td>\n",
       "      <td>1.383332e-01</td>\n",
       "    </tr>\n",
       "    <tr>\n",
       "      <th>PID2</th>\n",
       "      <td>7.685180e-02</td>\n",
       "      <td>1.383332e-01</td>\n",
       "    </tr>\n",
       "    <tr>\n",
       "      <th>ProteomeHD</th>\n",
       "      <td>1.349968e-01</td>\n",
       "      <td>2.024951e-01</td>\n",
       "    </tr>\n",
       "    <tr>\n",
       "      <th>PTMCode2</th>\n",
       "      <td>2.861919e-01</td>\n",
       "      <td>3.679610e-01</td>\n",
       "    </tr>\n",
       "    <tr>\n",
       "      <th>DIP</th>\n",
       "      <td>3.847262e-01</td>\n",
       "      <td>4.328169e-01</td>\n",
       "    </tr>\n",
       "    <tr>\n",
       "      <th>HPRD</th>\n",
       "      <td>6.037011e-01</td>\n",
       "      <td>6.037011e-01</td>\n",
       "    </tr>\n",
       "  </tbody>\n",
       "</table>\n",
       "</div>"
      ],
      "text/plain": [
       "                       p             q\n",
       "SIGNOR      6.552765e-42  5.897488e-41\n",
       "Spike       3.375160e-06  1.518822e-05\n",
       "Reactome    6.995813e-03  2.098744e-02\n",
       "BIND        6.562101e-02  1.383332e-01\n",
       "PID2        7.685180e-02  1.383332e-01\n",
       "ProteomeHD  1.349968e-01  2.024951e-01\n",
       "PTMCode2    2.861919e-01  3.679610e-01\n",
       "DIP         3.847262e-01  4.328169e-01\n",
       "HPRD        6.037011e-01  6.037011e-01"
      ]
     },
     "execution_count": 107,
     "metadata": {},
     "output_type": "execute_result"
    }
   ],
   "source": [
    "mu_df.sort_values('q')"
   ]
  }
 ],
 "metadata": {
  "language_info": {
   "name": "python"
  }
 },
 "nbformat": 4,
 "nbformat_minor": 2
}
